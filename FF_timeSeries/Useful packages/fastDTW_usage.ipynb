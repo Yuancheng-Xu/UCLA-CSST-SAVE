{
 "cells": [
  {
   "cell_type": "markdown",
   "metadata": {},
   "source": [
    "Note: the fastDTW distance of x&y and scale(x)&scale(y) are the same"
   ]
  },
  {
   "cell_type": "code",
   "execution_count": 9,
   "metadata": {},
   "outputs": [],
   "source": [
    "library(\"rucrdtw\")"
   ]
  },
  {
   "cell_type": "markdown",
   "metadata": {},
   "source": [
    "Look at the following examples "
   ]
  },
  {
   "cell_type": "code",
   "execution_count": 29,
   "metadata": {},
   "outputs": [
    {
     "name": "stderr",
     "output_type": "stream",
     "text": [
      "starting httpd help server ... done\n"
     ]
    }
   ],
   "source": [
    "vignette(\"using_rucrdtw\", package = \"rucrdtw\")"
   ]
  },
  {
   "cell_type": "markdown",
   "metadata": {},
   "source": [
    "create a random long time series"
   ]
  },
  {
   "cell_type": "code",
   "execution_count": 3,
   "metadata": {},
   "outputs": [],
   "source": [
    "set.seed(123)\n",
    "# cummulative sum (rwalk has increment obeying uniform distribution, \n",
    "# like a random walk but each walk step is unif distributed\n",
    "rwalk = cumsum(runif(1e7, min = -0.5, max = 0.5)) "
   ]
  },
  {
   "cell_type": "markdown",
   "metadata": {},
   "source": [
    "Pick a random subsequence of 100 elements as a query"
   ]
  },
  {
   "cell_type": "code",
   "execution_count": 5,
   "metadata": {},
   "outputs": [],
   "source": [
    "# select any index\n",
    "qstart = sample(length(rwalk), 1) \n",
    "query = rwalk[qstart:(qstart+100)]"
   ]
  },
  {
   "cell_type": "markdown",
   "metadata": {},
   "source": [
    "Since both query and data are R vectors, we use the vector-vector methods for the search."
   ]
  },
  {
   "cell_type": "code",
   "execution_count": 14,
   "metadata": {},
   "outputs": [
    {
     "data": {
      "text/plain": [
       "   user  system elapsed \n",
       "   1.75    0.01    1.98 "
      ]
     },
     "metadata": {},
     "output_type": "display_data"
    }
   ],
   "source": [
    "# dtw: vector to vector (vv)\n",
    "system.time(dtw_search <- ucrdtw_vv(data = rwalk, \n",
    "                                    query = query, dtwwindow = 0.05))"
   ]
  },
  {
   "cell_type": "code",
   "execution_count": 20,
   "metadata": {},
   "outputs": [
    {
     "data": {
      "text/plain": [
       "$location\n",
       "[1] 9200127\n",
       "\n",
       "$distance\n",
       "[1] 1.538004e-09\n",
       "\n",
       "$prunedKim\n",
       "[1] 77.96116\n",
       "\n",
       "$prunedKeogh\n",
       "[1] 20.03386\n",
       "\n",
       "$prunedKeogh2\n",
       "[1] 1.9161\n",
       "\n",
       "$dtwCalc\n",
       "[1] 0.08888\n",
       "\n",
       "attr(,\"class\")\n",
       "[1] \"ucrdtw\""
      ]
     },
     "metadata": {},
     "output_type": "display_data"
    }
   ],
   "source": [
    "dtw_search"
   ]
  },
  {
   "cell_type": "code",
   "execution_count": 25,
   "metadata": {},
   "outputs": [
    {
     "data": {
      "text/html": [
       "TRUE"
      ],
      "text/latex": [
       "TRUE"
      ],
      "text/markdown": [
       "TRUE"
      ],
      "text/plain": [
       "[1] TRUE"
      ]
     },
     "metadata": {},
     "output_type": "display_data"
    },
    {
     "data": {
      "text/html": [
       "9200127"
      ],
      "text/latex": [
       "9200127"
      ],
      "text/markdown": [
       "9200127"
      ],
      "text/plain": [
       "[1] 9200127"
      ]
     },
     "metadata": {},
     "output_type": "display_data"
    },
    {
     "data": {
      "text/html": [
       "9200127"
      ],
      "text/latex": [
       "9200127"
      ],
      "text/markdown": [
       "9200127"
      ],
      "text/plain": [
       "[1] 9200127"
      ]
     },
     "metadata": {},
     "output_type": "display_data"
    }
   ],
   "source": [
    "# test whether it captures the approximately correct position \n",
    "all.equal(qstart, dtw_search$location)\n",
    "dtw_search$location\n",
    "qstart"
   ]
  },
  {
   "cell_type": "markdown",
   "metadata": {},
   "source": [
    "If we use fastEuclidean (search for the best matching subsequence in data for query)"
   ]
  },
  {
   "cell_type": "code",
   "execution_count": 26,
   "metadata": {},
   "outputs": [
    {
     "data": {
      "text/plain": [
       "   user  system elapsed \n",
       "   1.54    0.41    2.33 "
      ]
     },
     "metadata": {},
     "output_type": "display_data"
    }
   ],
   "source": [
    "system.time(ed_search <- ucred_vv(data = rwalk, query = query))"
   ]
  },
  {
   "cell_type": "code",
   "execution_count": 27,
   "metadata": {},
   "outputs": [
    {
     "data": {
      "text/html": [
       "TRUE"
      ],
      "text/latex": [
       "TRUE"
      ],
      "text/markdown": [
       "TRUE"
      ],
      "text/plain": [
       "[1] TRUE"
      ]
     },
     "metadata": {},
     "output_type": "display_data"
    }
   ],
   "source": [
    "all.equal(qstart, ed_search$location)"
   ]
  },
  {
   "cell_type": "markdown",
   "metadata": {},
   "source": [
    "Further testing: different kind of data tyoe (normal, cyclic ...)"
   ]
  },
  {
   "cell_type": "code",
   "execution_count": 38,
   "metadata": {},
   "outputs": [],
   "source": [
    "data(\"synthetic_control\")\n",
    "# ?synthetic_control   # run this to get further information"
   ]
  },
  {
   "cell_type": "code",
   "execution_count": 35,
   "metadata": {},
   "outputs": [
    {
     "data": {
      "image/png": "[encoded data removed]",
      "text/plain": [
       "Plot with title \"Downward shift\""
      ]
     },
     "metadata": {},
     "output_type": "display_data"
    }
   ],
   "source": [
    "# To see some typical time series in this dataset\n",
    "par(mfrow = c(3,2),\n",
    "    mar = c(1,1,1,1))\n",
    "classes = c(\"Normal\", \"Cyclic\", \"Increasing\", \"Decreasing\", \"Upward shift\", \"Downward shift\")\n",
    "for (i in 1:6){\n",
    "  plot(synthetic_control[i*100-99,], type = \"l\", xaxt = \"n\", yaxt = \"n\", ylab=\"\", xlab = \"\", bty=\"n\", main=classes[i])\n",
    "}"
   ]
  },
  {
   "cell_type": "markdown",
   "metadata": {},
   "source": [
    " Remove a query from the data set, and then searching for a closest match:"
   ]
  },
  {
   "cell_type": "code",
   "execution_count": 40,
   "metadata": {},
   "outputs": [],
   "source": [
    "index <- 600\n",
    "query <- synthetic_control[index,] # should be a downward shift time series"
   ]
  },
  {
   "cell_type": "code",
   "execution_count": 41,
   "metadata": {},
   "outputs": [],
   "source": [
    "# dtw and ed, matrix to vector\n",
    "dtw_search <- ucrdtw_mv(synthetic_control[-index,], query, 0.05, byrow = TRUE)\n",
    "ed_search <- ucred_mv(synthetic_control[-index,], query, byrow= TRUE)"
   ]
  },
  {
   "cell_type": "markdown",
   "metadata": {},
   "source": [
    "Plot the results:"
   ]
  },
  {
   "cell_type": "code",
   "execution_count": 43,
   "metadata": {},
   "outputs": [
    {
     "data": {
      "image/png": "[encoded data removed]",
      "text/plain": [
       "plot without title"
      ]
     },
     "metadata": {},
     "output_type": "display_data"
    }
   ],
   "source": [
    "plot(synthetic_control[dtw_search$location,], type=\"l\", ylim=c(0,55), ylab=\"\")\n",
    "lines(query, col=\"red\")\n",
    "lines(synthetic_control[ed_search$location,], col=\"blue\", lty=3, lwd=3)\n",
    "legend(\"topright\", legend = c(\"query\", \"DTW match\", \"ED match\"), \n",
    "       col=c(\"red\", \"black\", \"blue\"), lty=c(1,1,3), bty=\"n\")"
   ]
  },
  {
   "cell_type": "code",
   "execution_count": 45,
   "metadata": {},
   "outputs": [
    {
     "data": {
      "text/plain": [
       "$location\n",
       "[1] 527\n",
       "\n",
       "$distance\n",
       "[1] 1.907935\n",
       "\n",
       "$prunedKim\n",
       "[1] 0.2782415\n",
       "\n",
       "$prunedKeogh\n",
       "[1] 0.7846411\n",
       "\n",
       "$prunedKeogh2\n",
       "[1] 0.00556483\n",
       "\n",
       "$dtwCalc\n",
       "[1] 98.93155\n",
       "\n",
       "attr(,\"class\")\n",
       "[1] \"ucrdtw\""
      ]
     },
     "metadata": {},
     "output_type": "display_data"
    }
   ],
   "source": [
    "dtw_search"
   ]
  },
  {
   "cell_type": "code",
   "execution_count": 46,
   "metadata": {
    "scrolled": true
   },
   "outputs": [
    {
     "data": {
      "text/plain": [
       "$location\n",
       "[1] 527\n",
       "\n",
       "$distance\n",
       "[1] 4.234653\n",
       "\n",
       "attr(,\"class\")\n",
       "[1] \"ucred\""
      ]
     },
     "metadata": {},
     "output_type": "display_data"
    }
   ],
   "source": [
    "ed_search"
   ]
  },
  {
   "cell_type": "markdown",
   "metadata": {},
   "source": [
    "# other test"
   ]
  },
  {
   "cell_type": "code",
   "execution_count": 123,
   "metadata": {},
   "outputs": [],
   "source": [
    "set.seed(9)\n",
    "m = 100\n",
    "n = 500\n",
    "X = matrix(runif(m*n),m,n)"
   ]
  },
  {
   "cell_type": "code",
   "execution_count": 126,
   "metadata": {},
   "outputs": [
    {
     "data": {
      "text/plain": [
       "   user  system elapsed \n",
       "   5.38    4.86   10.47 "
      ]
     },
     "metadata": {},
     "output_type": "display_data"
    }
   ],
   "source": [
    "sigma = matrix(0,n,n)\n",
    "system.time({\n",
    "    for (i in 1:(n-1)){\n",
    "        for (j in i:n){\n",
    "            sigma[i,j] = ucrdtw_vv(X[,i], X[,j], 0.05)$distance\n",
    "        }\n",
    "    }\n",
    "})"
   ]
  },
  {
   "cell_type": "code",
   "execution_count": 127,
   "metadata": {
    "scrolled": true
   },
   "outputs": [
    {
     "data": {
      "text/html": [
       "<table>\n",
       "<tbody>\n",
       "\t<tr><td>0.000000</td><td>7.332997</td><td>7.423375</td><td>7.112230</td><td>7.697961</td><td>5.972455</td><td>7.186663</td><td>7.693961</td><td>6.901614</td><td>6.892024</td><td>...     </td><td>7.489042</td><td>6.544267</td><td>8.044311</td><td>7.319648</td><td>6.764667</td><td>7.086344</td><td>6.622614</td><td>6.915535</td><td>7.195151</td><td>7.014553</td></tr>\n",
       "\t<tr><td>7.332997</td><td>0.000000</td><td>6.752331</td><td>7.339619</td><td>6.535660</td><td>7.755006</td><td>7.076018</td><td>6.509859</td><td>7.883074</td><td>7.293870</td><td>...     </td><td>7.172457</td><td>7.619551</td><td>7.274074</td><td>6.872443</td><td>7.395997</td><td>6.683185</td><td>7.351073</td><td>7.328237</td><td>6.830227</td><td>7.493394</td></tr>\n",
       "\t<tr><td>7.423375</td><td>6.752331</td><td>0.000000</td><td>7.400411</td><td>6.706024</td><td>6.874155</td><td>7.074126</td><td>6.522161</td><td>7.443601</td><td>6.528260</td><td>...     </td><td>6.580919</td><td>7.136087</td><td>6.713999</td><td>6.446127</td><td>7.651615</td><td>6.607851</td><td>6.488263</td><td>7.071615</td><td>6.555234</td><td>6.646627</td></tr>\n",
       "\t<tr><td>7.112230</td><td>7.339619</td><td>7.400411</td><td>0.000000</td><td>7.577684</td><td>7.669311</td><td>7.891047</td><td>7.705465</td><td>7.242430</td><td>5.852942</td><td>...     </td><td>6.850891</td><td>7.126869</td><td>6.592090</td><td>6.898121</td><td>7.235041</td><td>6.313805</td><td>6.796768</td><td>7.535077</td><td>6.927990</td><td>7.613842</td></tr>\n",
       "\t<tr><td>7.697961</td><td>6.535660</td><td>6.706024</td><td>7.577684</td><td>0.000000</td><td>7.530692</td><td>7.029589</td><td>6.363989</td><td>8.397536</td><td>7.138991</td><td>...     </td><td>6.762541</td><td>7.686125</td><td>7.483029</td><td>7.104565</td><td>7.839149</td><td>7.374731</td><td>6.921143</td><td>7.269307</td><td>7.244717</td><td>6.614343</td></tr>\n",
       "\t<tr><td>5.972455</td><td>7.755006</td><td>6.874155</td><td>7.669311</td><td>7.530692</td><td>0.000000</td><td>7.188438</td><td>7.763950</td><td>6.892274</td><td>6.920874</td><td>...     </td><td>7.403254</td><td>6.616416</td><td>7.909588</td><td>7.821595</td><td>7.672798</td><td>7.914276</td><td>6.166738</td><td>6.833255</td><td>6.961519</td><td>6.685854</td></tr>\n",
       "\t<tr><td>7.186663</td><td>7.076018</td><td>7.074126</td><td>7.891047</td><td>7.029589</td><td>7.188438</td><td>0.000000</td><td>7.383725</td><td>7.670401</td><td>7.548048</td><td>...     </td><td>7.223561</td><td>7.701222</td><td>8.159262</td><td>6.621014</td><td>7.504232</td><td>7.838371</td><td>6.972587</td><td>6.890290</td><td>7.084873</td><td>6.872113</td></tr>\n",
       "\t<tr><td>7.693961</td><td>6.509859</td><td>6.522161</td><td>7.705465</td><td>6.363989</td><td>7.763950</td><td>7.383725</td><td>0.000000</td><td>7.521678</td><td>6.792250</td><td>...     </td><td>6.849033</td><td>7.711702</td><td>7.057395</td><td>6.814933</td><td>7.337252</td><td>7.148081</td><td>7.253933</td><td>7.374154</td><td>6.687949</td><td>7.487300</td></tr>\n",
       "\t<tr><td>6.901614</td><td>7.883074</td><td>7.443601</td><td>7.242430</td><td>8.397536</td><td>6.892274</td><td>7.670401</td><td>7.521678</td><td>0.000000</td><td>7.219403</td><td>...     </td><td>7.437216</td><td>6.536162</td><td>7.531378</td><td>7.402409</td><td>6.881053</td><td>7.184084</td><td>6.675388</td><td>7.149873</td><td>7.624839</td><td>7.877302</td></tr>\n",
       "\t<tr><td>6.892024</td><td>7.293870</td><td>6.528260</td><td>5.852942</td><td>7.138991</td><td>6.920874</td><td>7.548048</td><td>6.792250</td><td>7.219403</td><td>0.000000</td><td>...     </td><td>5.969647</td><td>6.612227</td><td>6.883139</td><td>6.995874</td><td>6.772533</td><td>6.208851</td><td>6.887832</td><td>7.519337</td><td>6.981500</td><td>6.854127</td></tr>\n",
       "\t<tr><td>6.793151</td><td>7.357473</td><td>7.200013</td><td>7.016230</td><td>7.687530</td><td>6.840108</td><td>7.483211</td><td>8.161676</td><td>7.024988</td><td>7.245601</td><td>...     </td><td>7.181593</td><td>6.326548</td><td>7.670463</td><td>7.687760</td><td>7.244475</td><td>7.227265</td><td>6.896083</td><td>6.996008</td><td>7.445443</td><td>7.334461</td></tr>\n",
       "\t<tr><td>6.961950</td><td>7.330493</td><td>7.026906</td><td>6.843070</td><td>6.574648</td><td>6.800431</td><td>6.717022</td><td>6.941402</td><td>7.453443</td><td>6.827583</td><td>...     </td><td>7.004635</td><td>7.096262</td><td>7.087440</td><td>7.202097</td><td>7.033086</td><td>6.926874</td><td>5.957581</td><td>7.510998</td><td>7.191021</td><td>6.519962</td></tr>\n",
       "\t<tr><td>6.558774</td><td>7.213854</td><td>6.610402</td><td>7.148570</td><td>7.332786</td><td>6.558954</td><td>7.192635</td><td>7.926478</td><td>6.703555</td><td>6.386156</td><td>...     </td><td>6.845504</td><td>6.422073</td><td>7.762822</td><td>7.860860</td><td>7.600551</td><td>7.153098</td><td>6.284371</td><td>6.839328</td><td>6.806357</td><td>7.144566</td></tr>\n",
       "\t<tr><td>6.846083</td><td>7.182154</td><td>6.582914</td><td>7.050884</td><td>7.323794</td><td>6.224449</td><td>6.698834</td><td>7.148871</td><td>6.450698</td><td>6.317657</td><td>...     </td><td>7.386739</td><td>6.496636</td><td>7.682673</td><td>7.363123</td><td>7.077775</td><td>7.178285</td><td>6.681362</td><td>6.991950</td><td>7.480716</td><td>6.935519</td></tr>\n",
       "\t<tr><td>6.636017</td><td>7.640921</td><td>6.765564</td><td>7.444618</td><td>7.510380</td><td>6.858391</td><td>6.627309</td><td>6.848188</td><td>6.753402</td><td>7.231656</td><td>...     </td><td>7.298870</td><td>7.382952</td><td>7.135898</td><td>7.266114</td><td>7.295575</td><td>7.419374</td><td>6.434230</td><td>7.123935</td><td>7.355626</td><td>6.944701</td></tr>\n",
       "\t<tr><td>8.093610</td><td>7.033288</td><td>6.486752</td><td>7.069614</td><td>7.562031</td><td>7.409086</td><td>6.864644</td><td>7.104424</td><td>7.835088</td><td>5.663150</td><td>...     </td><td>6.923487</td><td>7.349529</td><td>7.153179</td><td>7.057946</td><td>7.355365</td><td>7.126033</td><td>6.405337</td><td>6.902442</td><td>6.512670</td><td>6.849893</td></tr>\n",
       "\t<tr><td>6.748593</td><td>6.860273</td><td>6.547097</td><td>6.904672</td><td>6.608839</td><td>7.543238</td><td>7.057590</td><td>6.582906</td><td>7.465654</td><td>6.373051</td><td>...     </td><td>6.640662</td><td>6.941579</td><td>6.555086</td><td>7.248041</td><td>6.864210</td><td>6.397766</td><td>6.802356</td><td>7.482628</td><td>6.635853</td><td>7.099071</td></tr>\n",
       "\t<tr><td>6.781068</td><td>7.132984</td><td>6.455365</td><td>6.443919</td><td>6.403352</td><td>7.297856</td><td>7.153640</td><td>6.501888</td><td>7.216916</td><td>6.741143</td><td>...     </td><td>7.212970</td><td>6.944808</td><td>7.524076</td><td>7.000507</td><td>7.395848</td><td>7.159677</td><td>7.027901</td><td>7.060661</td><td>6.958650</td><td>7.069872</td></tr>\n",
       "\t<tr><td>6.623207</td><td>7.878724</td><td>7.992403</td><td>6.920535</td><td>7.483036</td><td>6.444763</td><td>7.218345</td><td>8.037327</td><td>7.038220</td><td>6.767403</td><td>...     </td><td>7.192784</td><td>6.704130</td><td>7.922927</td><td>7.517737</td><td>7.320402</td><td>6.899158</td><td>6.129990</td><td>7.145075</td><td>7.832754</td><td>6.968023</td></tr>\n",
       "\t<tr><td>7.155100</td><td>7.487291</td><td>7.930244</td><td>7.339533</td><td>6.894876</td><td>6.623952</td><td>7.159654</td><td>7.023119</td><td>7.132000</td><td>6.422840</td><td>...     </td><td>6.213799</td><td>6.653257</td><td>7.843359</td><td>7.496424</td><td>7.457438</td><td>6.935992</td><td>6.852858</td><td>6.977370</td><td>7.452109</td><td>6.260690</td></tr>\n",
       "\t<tr><td>7.093980</td><td>7.474298</td><td>6.922719</td><td>7.941118</td><td>7.325572</td><td>6.794903</td><td>7.225590</td><td>7.200599</td><td>7.230895</td><td>7.083003</td><td>...     </td><td>7.505434</td><td>7.136236</td><td>7.436689</td><td>7.640591</td><td>7.622945</td><td>7.836142</td><td>6.513890</td><td>7.293929</td><td>8.162426</td><td>7.229507</td></tr>\n",
       "\t<tr><td>7.077605</td><td>7.694643</td><td>6.596786</td><td>6.736608</td><td>7.409380</td><td>6.578913</td><td>6.715409</td><td>8.756217</td><td>6.931073</td><td>6.516332</td><td>...     </td><td>7.235795</td><td>7.321840</td><td>7.950995</td><td>7.356798</td><td>7.718706</td><td>7.057906</td><td>6.100484</td><td>7.213270</td><td>7.371046</td><td>6.645116</td></tr>\n",
       "\t<tr><td>7.043451</td><td>7.382748</td><td>7.511760</td><td>7.009609</td><td>7.740828</td><td>7.578223</td><td>7.707183</td><td>6.954477</td><td>6.970322</td><td>6.883504</td><td>...     </td><td>6.278289</td><td>6.798593</td><td>7.175178</td><td>7.818177</td><td>7.050217</td><td>7.038747</td><td>6.890239</td><td>7.079830</td><td>6.857572</td><td>7.670342</td></tr>\n",
       "\t<tr><td>6.794800</td><td>7.235607</td><td>7.134728</td><td>7.991380</td><td>7.234113</td><td>7.221839</td><td>6.795253</td><td>7.754177</td><td>6.807953</td><td>7.600760</td><td>...     </td><td>6.867065</td><td>7.001656</td><td>7.573410</td><td>7.312520</td><td>7.240435</td><td>7.507186</td><td>7.014713</td><td>7.278952</td><td>7.225054</td><td>6.990080</td></tr>\n",
       "\t<tr><td>7.263950</td><td>6.478621</td><td>6.570364</td><td>6.848352</td><td>6.618473</td><td>7.409230</td><td>6.234808</td><td>6.912101</td><td>7.670189</td><td>6.936921</td><td>...     </td><td>6.930271</td><td>7.253430</td><td>7.621900</td><td>6.987278</td><td>7.501033</td><td>6.889386</td><td>6.633420</td><td>7.366672</td><td>6.887892</td><td>6.578612</td></tr>\n",
       "\t<tr><td>6.134365</td><td>7.587816</td><td>7.493606</td><td>7.568196</td><td>7.616713</td><td>7.124935</td><td>7.086935</td><td>7.916478</td><td>7.227770</td><td>6.839501</td><td>...     </td><td>7.167848</td><td>6.283760</td><td>7.697695</td><td>7.901738</td><td>6.976528</td><td>7.038838</td><td>6.686934</td><td>6.750834</td><td>7.007964</td><td>6.427871</td></tr>\n",
       "\t<tr><td>6.796597</td><td>7.645937</td><td>7.798841</td><td>7.199843</td><td>7.795612</td><td>6.608144</td><td>7.540797</td><td>7.847666</td><td>6.319740</td><td>6.853614</td><td>...     </td><td>7.522299</td><td>6.713366</td><td>7.537995</td><td>8.020366</td><td>7.234964</td><td>7.724485</td><td>6.413620</td><td>7.201317</td><td>7.726384</td><td>7.319786</td></tr>\n",
       "\t<tr><td>6.742977</td><td>7.299993</td><td>6.137489</td><td>7.088105</td><td>7.107083</td><td>6.979840</td><td>6.968820</td><td>6.581098</td><td>6.744745</td><td>6.473631</td><td>...     </td><td>6.614026</td><td>6.835901</td><td>6.694211</td><td>7.546024</td><td>6.776556</td><td>6.144059</td><td>6.263007</td><td>6.034981</td><td>6.930034</td><td>7.359602</td></tr>\n",
       "\t<tr><td>7.378920</td><td>7.091126</td><td>6.858574</td><td>7.025349</td><td>7.248066</td><td>6.491101</td><td>6.760098</td><td>6.758476</td><td>6.484142</td><td>7.134970</td><td>...     </td><td>6.730203</td><td>6.697315</td><td>6.999972</td><td>7.045313</td><td>7.065387</td><td>7.225766</td><td>6.246895</td><td>6.747111</td><td>7.057633</td><td>6.918091</td></tr>\n",
       "\t<tr><td>7.800715</td><td>7.526871</td><td>6.751576</td><td>7.417558</td><td>6.813276</td><td>7.281461</td><td>7.159721</td><td>6.888699</td><td>7.091293</td><td>7.122106</td><td>...     </td><td>6.129188</td><td>7.206891</td><td>7.422070</td><td>7.680994</td><td>7.188198</td><td>7.915533</td><td>6.840719</td><td>7.338351</td><td>6.921374</td><td>6.832833</td></tr>\n",
       "\t<tr><td>...</td><td>...</td><td>...</td><td>...</td><td>...</td><td>...</td><td>...</td><td>...</td><td>...</td><td>...</td><td>   </td><td>...</td><td>...</td><td>...</td><td>...</td><td>...</td><td>...</td><td>...</td><td>...</td><td>...</td><td>...</td></tr>\n",
       "\t<tr><td>6.476846</td><td>7.659980</td><td>7.163246</td><td>7.348247</td><td>7.563906</td><td>7.011869</td><td>7.748438</td><td>7.304612</td><td>7.022283</td><td>6.448056</td><td>...     </td><td>6.798838</td><td>7.184041</td><td>6.654137</td><td>7.454646</td><td>6.571522</td><td>7.075120</td><td>6.680080</td><td>7.429063</td><td>7.535101</td><td>7.790860</td></tr>\n",
       "\t<tr><td>5.929734</td><td>7.447865</td><td>7.134987</td><td>7.298098</td><td>6.983264</td><td>6.572611</td><td>7.572479</td><td>7.618748</td><td>7.576075</td><td>7.041147</td><td>...     </td><td>6.770146</td><td>7.491213</td><td>7.551163</td><td>7.623256</td><td>6.861225</td><td>6.885034</td><td>6.562547</td><td>6.757024</td><td>7.740066</td><td>7.037222</td></tr>\n",
       "\t<tr><td>6.193017</td><td>7.391516</td><td>7.563375</td><td>7.250414</td><td>7.897208</td><td>6.873682</td><td>7.213942</td><td>6.746287</td><td>6.764980</td><td>6.196464</td><td>...     </td><td>6.575593</td><td>6.679527</td><td>7.261645</td><td>7.647759</td><td>6.725941</td><td>6.187761</td><td>7.281066</td><td>7.324521</td><td>7.241849</td><td>7.538311</td></tr>\n",
       "\t<tr><td>6.615336</td><td>6.812833</td><td>7.101064</td><td>6.903087</td><td>7.534298</td><td>6.797453</td><td>6.936189</td><td>7.665892</td><td>6.981472</td><td>6.686598</td><td>...     </td><td>7.135060</td><td>6.141253</td><td>7.327991</td><td>7.135039</td><td>7.146282</td><td>6.931685</td><td>6.506209</td><td>7.041231</td><td>7.100426</td><td>6.316951</td></tr>\n",
       "\t<tr><td>7.525525</td><td>7.289558</td><td>7.010380</td><td>7.291817</td><td>6.460314</td><td>6.555976</td><td>6.490902</td><td>7.064418</td><td>7.523638</td><td>6.651936</td><td>...     </td><td>6.701625</td><td>7.194567</td><td>6.852843</td><td>6.811447</td><td>7.279661</td><td>6.997698</td><td>6.202281</td><td>7.256964</td><td>7.022401</td><td>6.542995</td></tr>\n",
       "\t<tr><td>6.563247</td><td>6.999049</td><td>6.426147</td><td>6.948944</td><td>7.547652</td><td>7.231304</td><td>7.125017</td><td>7.017264</td><td>6.217876</td><td>7.239283</td><td>...     </td><td>6.635254</td><td>6.745988</td><td>6.942161</td><td>7.183465</td><td>6.821416</td><td>6.497520</td><td>6.757741</td><td>7.292941</td><td>6.356954</td><td>7.277895</td></tr>\n",
       "\t<tr><td>7.063287</td><td>7.642399</td><td>7.199523</td><td>7.269899</td><td>6.874957</td><td>6.546683</td><td>6.967464</td><td>7.300113</td><td>7.094067</td><td>7.107455</td><td>...     </td><td>6.949229</td><td>6.734801</td><td>6.993274</td><td>7.401383</td><td>6.394425</td><td>6.763388</td><td>6.612021</td><td>6.872744</td><td>7.127632</td><td>7.176835</td></tr>\n",
       "\t<tr><td>6.890196</td><td>7.354116</td><td>7.704174</td><td>7.646921</td><td>8.013361</td><td>7.735860</td><td>7.412659</td><td>8.261249</td><td>6.951817</td><td>7.211310</td><td>...     </td><td>7.933191</td><td>6.562046</td><td>7.411076</td><td>7.468402</td><td>6.747885</td><td>7.234368</td><td>6.437256</td><td>7.536386</td><td>7.202479</td><td>7.195095</td></tr>\n",
       "\t<tr><td>7.531527</td><td>6.975549</td><td>6.896716</td><td>7.339496</td><td>7.016817</td><td>7.492801</td><td>6.830989</td><td>6.949412</td><td>8.514872</td><td>6.886556</td><td>...     </td><td>7.326689</td><td>8.200052</td><td>8.125755</td><td>7.204009</td><td>7.605651</td><td>7.389949</td><td>7.076239</td><td>7.658147</td><td>7.006634</td><td>7.006431</td></tr>\n",
       "\t<tr><td>6.857405</td><td>7.459836</td><td>7.323979</td><td>6.736008</td><td>8.113340</td><td>6.882883</td><td>7.270643</td><td>7.503002</td><td>6.213762</td><td>7.211702</td><td>...     </td><td>7.194509</td><td>6.054935</td><td>7.566866</td><td>7.462012</td><td>7.179574</td><td>7.234843</td><td>6.086896</td><td>7.427511</td><td>6.790262</td><td>7.435314</td></tr>\n",
       "\t<tr><td>7.727062</td><td>7.265039</td><td>6.986232</td><td>8.027963</td><td>7.765110</td><td>7.962484</td><td>7.774302</td><td>6.636441</td><td>7.826827</td><td>6.901886</td><td>...     </td><td>6.580014</td><td>7.771582</td><td>6.942378</td><td>6.712769</td><td>7.692631</td><td>6.983465</td><td>7.316410</td><td>7.929911</td><td>6.486533</td><td>6.984636</td></tr>\n",
       "\t<tr><td>7.534378</td><td>7.075127</td><td>7.013857</td><td>7.129561</td><td>7.097573</td><td>6.362176</td><td>6.603872</td><td>7.169922</td><td>7.012928</td><td>6.836043</td><td>...     </td><td>7.050926</td><td>6.520756</td><td>6.626845</td><td>6.687689</td><td>6.978732</td><td>6.804417</td><td>6.201649</td><td>7.129430</td><td>7.170771</td><td>6.288472</td></tr>\n",
       "\t<tr><td>7.212804</td><td>7.459302</td><td>7.720896</td><td>7.576353</td><td>7.967159</td><td>6.481349</td><td>7.559966</td><td>8.090882</td><td>6.629396</td><td>7.196916</td><td>...     </td><td>7.478981</td><td>6.540480</td><td>7.559689</td><td>7.965344</td><td>7.533094</td><td>7.364537</td><td>6.395493</td><td>7.288763</td><td>7.827945</td><td>6.989231</td></tr>\n",
       "\t<tr><td>6.202533</td><td>7.148540</td><td>6.589876</td><td>6.384164</td><td>6.979432</td><td>7.058362</td><td>6.937707</td><td>7.088270</td><td>7.493682</td><td>6.350228</td><td>...     </td><td>6.765755</td><td>7.402282</td><td>7.361905</td><td>6.996306</td><td>7.404109</td><td>6.888800</td><td>7.171481</td><td>6.614248</td><td>7.542383</td><td>7.311065</td></tr>\n",
       "\t<tr><td>7.883968</td><td>7.303879</td><td>7.422111</td><td>8.081176</td><td>7.092756</td><td>6.748365</td><td>6.589167</td><td>7.167703</td><td>8.300273</td><td>7.597224</td><td>...     </td><td>7.245256</td><td>7.574240</td><td>7.617512</td><td>7.453286</td><td>8.135877</td><td>8.373433</td><td>7.511937</td><td>7.390055</td><td>7.793481</td><td>6.527578</td></tr>\n",
       "\t<tr><td>7.388538</td><td>7.548599</td><td>6.819739</td><td>6.936821</td><td>7.147869</td><td>7.327397</td><td>7.237130</td><td>6.861868</td><td>6.814591</td><td>6.375737</td><td>...     </td><td>6.737894</td><td>7.242030</td><td>6.310346</td><td>6.982834</td><td>6.958768</td><td>6.326456</td><td>6.529246</td><td>7.436925</td><td>7.007933</td><td>6.994820</td></tr>\n",
       "\t<tr><td>7.194399</td><td>7.184236</td><td>6.861828</td><td>7.315961</td><td>7.819068</td><td>7.207056</td><td>7.928926</td><td>7.301393</td><td>6.696338</td><td>6.726209</td><td>...     </td><td>6.555561</td><td>6.786843</td><td>7.144634</td><td>7.868506</td><td>7.230320</td><td>7.420145</td><td>7.064627</td><td>7.343617</td><td>6.864752</td><td>7.498186</td></tr>\n",
       "\t<tr><td>7.401059</td><td>6.766689</td><td>7.189940</td><td>7.567684</td><td>6.512016</td><td>7.052250</td><td>6.745976</td><td>6.096298</td><td>7.815716</td><td>6.790688</td><td>...     </td><td>6.749559</td><td>7.849790</td><td>7.358808</td><td>6.735376</td><td>7.660145</td><td>7.120957</td><td>6.692679</td><td>7.405096</td><td>6.918496</td><td>6.671029</td></tr>\n",
       "\t<tr><td>6.581967</td><td>6.874470</td><td>7.244004</td><td>7.475992</td><td>7.457370</td><td>6.885222</td><td>6.899654</td><td>6.882731</td><td>6.723005</td><td>6.661035</td><td>...     </td><td>6.632207</td><td>6.841987</td><td>7.112341</td><td>6.928933</td><td>6.349109</td><td>6.448053</td><td>6.696958</td><td>7.445191</td><td>6.927747</td><td>7.416366</td></tr>\n",
       "\t<tr><td>6.842271</td><td>8.239889</td><td>7.002136</td><td>7.221290</td><td>7.248864</td><td>5.886594</td><td>7.083810</td><td>7.766954</td><td>6.934770</td><td>7.365848</td><td>...     </td><td>7.492853</td><td>6.779208</td><td>7.992333</td><td>7.568806</td><td>7.652321</td><td>7.454395</td><td>6.657961</td><td>7.462170</td><td>7.183906</td><td>7.138352</td></tr>\n",
       "\t<tr><td>7.489042</td><td>7.172457</td><td>6.580919</td><td>6.850891</td><td>6.762541</td><td>7.403254</td><td>7.223561</td><td>6.849033</td><td>7.437216</td><td>5.969647</td><td>...     </td><td>0.000000</td><td>6.968253</td><td>6.548030</td><td>7.287177</td><td>7.091626</td><td>6.740650</td><td>6.861768</td><td>6.984776</td><td>6.434139</td><td>6.902851</td></tr>\n",
       "\t<tr><td>6.544267</td><td>7.619551</td><td>7.136087</td><td>7.126869</td><td>7.686125</td><td>6.616416</td><td>7.701222</td><td>7.711702</td><td>6.536162</td><td>6.612227</td><td>...     </td><td>6.968253</td><td>0.000000</td><td>6.977246</td><td>8.130864</td><td>6.914158</td><td>6.721486</td><td>6.452893</td><td>7.148561</td><td>7.459472</td><td>7.506110</td></tr>\n",
       "\t<tr><td>8.044311</td><td>7.274074</td><td>6.713999</td><td>6.592090</td><td>7.483029</td><td>7.909588</td><td>8.159262</td><td>7.057395</td><td>7.531378</td><td>6.883139</td><td>...     </td><td>6.548030</td><td>6.977246</td><td>0.000000</td><td>7.379676</td><td>6.811528</td><td>6.944332</td><td>6.761424</td><td>7.913433</td><td>6.715434</td><td>7.395605</td></tr>\n",
       "\t<tr><td>7.319648</td><td>6.872443</td><td>6.446127</td><td>6.898121</td><td>7.104565</td><td>7.821595</td><td>6.621014</td><td>6.814933</td><td>7.402409</td><td>6.995874</td><td>...     </td><td>7.287177</td><td>8.130864</td><td>7.379676</td><td>0.000000</td><td>7.606104</td><td>6.862091</td><td>6.765759</td><td>6.922713</td><td>6.921031</td><td>6.007327</td></tr>\n",
       "\t<tr><td>6.764667</td><td>7.395997</td><td>7.651615</td><td>7.235041</td><td>7.839149</td><td>7.672798</td><td>7.504232</td><td>7.337252</td><td>6.881053</td><td>6.772533</td><td>...     </td><td>7.091626</td><td>6.914158</td><td>6.811528</td><td>7.606104</td><td>0.000000</td><td>6.346142</td><td>7.163376</td><td>8.029449</td><td>7.355776</td><td>7.862724</td></tr>\n",
       "\t<tr><td>7.086344</td><td>6.683185</td><td>6.607851</td><td>6.313805</td><td>7.374731</td><td>7.914276</td><td>7.838371</td><td>7.148081</td><td>7.184084</td><td>6.208851</td><td>...     </td><td>6.740650</td><td>6.721486</td><td>6.944332</td><td>6.862091</td><td>6.346142</td><td>0.000000</td><td>6.657113</td><td>7.691168</td><td>6.655254</td><td>7.338731</td></tr>\n",
       "\t<tr><td>6.622614</td><td>7.351073</td><td>6.488263</td><td>6.796768</td><td>6.921143</td><td>6.166738</td><td>6.972587</td><td>7.253933</td><td>6.675388</td><td>6.887832</td><td>...     </td><td>6.861768</td><td>6.452893</td><td>6.761424</td><td>6.765759</td><td>7.163376</td><td>6.657113</td><td>0.000000</td><td>6.690479</td><td>7.488726</td><td>6.383075</td></tr>\n",
       "\t<tr><td>6.915535</td><td>7.328237</td><td>7.071615</td><td>7.535077</td><td>7.269307</td><td>6.833255</td><td>6.890290</td><td>7.374154</td><td>7.149873</td><td>7.519337</td><td>...     </td><td>6.984776</td><td>7.148561</td><td>7.913433</td><td>6.922713</td><td>8.029449</td><td>7.691168</td><td>6.690479</td><td>0.000000</td><td>6.985078</td><td>6.998701</td></tr>\n",
       "\t<tr><td>7.195151</td><td>6.830227</td><td>6.555234</td><td>6.927990</td><td>7.244717</td><td>6.961519</td><td>7.084873</td><td>6.687949</td><td>7.624839</td><td>6.981500</td><td>...     </td><td>6.434139</td><td>7.459472</td><td>6.715434</td><td>6.921031</td><td>7.355776</td><td>6.655254</td><td>7.488726</td><td>6.985078</td><td>0.000000</td><td>6.646204</td></tr>\n",
       "\t<tr><td>7.014553</td><td>7.493394</td><td>6.646627</td><td>7.613842</td><td>6.614343</td><td>6.685854</td><td>6.872113</td><td>7.487300</td><td>7.877302</td><td>6.854127</td><td>...     </td><td>6.902851</td><td>7.506110</td><td>7.395605</td><td>6.007327</td><td>7.862724</td><td>7.338731</td><td>6.383075</td><td>6.998701</td><td>6.646204</td><td>0.000000</td></tr>\n",
       "</tbody>\n",
       "</table>\n"
      ],
      "text/latex": [
       "\\begin{tabular}{llllllllllllllllllllllllllllllllllllllllllllllllllllllllllllllllllllllllllllllllllllllllllllllllllllllllllllllllllllllllllllllllllllllllllllllllllllllllllllllllllllllllllllllllllllllllllllllllllllllllllllllllllllllllllllllllllllllllllllllllllllllllllllllllllllllllllllllllllllllllllllllllllllllllllllllllllllllllllllllllllllllllllllllllllllllllllllllllllllllllllllllllllllllllllllllllllllllllllllllllllllllllllllllllllllllllllllllllllllllllllllllllllllllllllllllllllllllllllllllllllllllllllllllllllll}\n",
       "\t 0.000000 & 7.332997 & 7.423375 & 7.112230 & 7.697961 & 5.972455 & 7.186663 & 7.693961 & 6.901614 & 6.892024 & ...      & 7.489042 & 6.544267 & 8.044311 & 7.319648 & 6.764667 & 7.086344 & 6.622614 & 6.915535 & 7.195151 & 7.014553\\\\\n",
       "\t 7.332997 & 0.000000 & 6.752331 & 7.339619 & 6.535660 & 7.755006 & 7.076018 & 6.509859 & 7.883074 & 7.293870 & ...      & 7.172457 & 7.619551 & 7.274074 & 6.872443 & 7.395997 & 6.683185 & 7.351073 & 7.328237 & 6.830227 & 7.493394\\\\\n",
       "\t 7.423375 & 6.752331 & 0.000000 & 7.400411 & 6.706024 & 6.874155 & 7.074126 & 6.522161 & 7.443601 & 6.528260 & ...      & 6.580919 & 7.136087 & 6.713999 & 6.446127 & 7.651615 & 6.607851 & 6.488263 & 7.071615 & 6.555234 & 6.646627\\\\\n",
       "\t 7.112230 & 7.339619 & 7.400411 & 0.000000 & 7.577684 & 7.669311 & 7.891047 & 7.705465 & 7.242430 & 5.852942 & ...      & 6.850891 & 7.126869 & 6.592090 & 6.898121 & 7.235041 & 6.313805 & 6.796768 & 7.535077 & 6.927990 & 7.613842\\\\\n",
       "\t 7.697961 & 6.535660 & 6.706024 & 7.577684 & 0.000000 & 7.530692 & 7.029589 & 6.363989 & 8.397536 & 7.138991 & ...      & 6.762541 & 7.686125 & 7.483029 & 7.104565 & 7.839149 & 7.374731 & 6.921143 & 7.269307 & 7.244717 & 6.614343\\\\\n",
       "\t 5.972455 & 7.755006 & 6.874155 & 7.669311 & 7.530692 & 0.000000 & 7.188438 & 7.763950 & 6.892274 & 6.920874 & ...      & 7.403254 & 6.616416 & 7.909588 & 7.821595 & 7.672798 & 7.914276 & 6.166738 & 6.833255 & 6.961519 & 6.685854\\\\\n",
       "\t 7.186663 & 7.076018 & 7.074126 & 7.891047 & 7.029589 & 7.188438 & 0.000000 & 7.383725 & 7.670401 & 7.548048 & ...      & 7.223561 & 7.701222 & 8.159262 & 6.621014 & 7.504232 & 7.838371 & 6.972587 & 6.890290 & 7.084873 & 6.872113\\\\\n",
       "\t 7.693961 & 6.509859 & 6.522161 & 7.705465 & 6.363989 & 7.763950 & 7.383725 & 0.000000 & 7.521678 & 6.792250 & ...      & 6.849033 & 7.711702 & 7.057395 & 6.814933 & 7.337252 & 7.148081 & 7.253933 & 7.374154 & 6.687949 & 7.487300\\\\\n",
       "\t 6.901614 & 7.883074 & 7.443601 & 7.242430 & 8.397536 & 6.892274 & 7.670401 & 7.521678 & 0.000000 & 7.219403 & ...      & 7.437216 & 6.536162 & 7.531378 & 7.402409 & 6.881053 & 7.184084 & 6.675388 & 7.149873 & 7.624839 & 7.877302\\\\\n",
       "\t 6.892024 & 7.293870 & 6.528260 & 5.852942 & 7.138991 & 6.920874 & 7.548048 & 6.792250 & 7.219403 & 0.000000 & ...      & 5.969647 & 6.612227 & 6.883139 & 6.995874 & 6.772533 & 6.208851 & 6.887832 & 7.519337 & 6.981500 & 6.854127\\\\\n",
       "\t 6.793151 & 7.357473 & 7.200013 & 7.016230 & 7.687530 & 6.840108 & 7.483211 & 8.161676 & 7.024988 & 7.245601 & ...      & 7.181593 & 6.326548 & 7.670463 & 7.687760 & 7.244475 & 7.227265 & 6.896083 & 6.996008 & 7.445443 & 7.334461\\\\\n",
       "\t 6.961950 & 7.330493 & 7.026906 & 6.843070 & 6.574648 & 6.800431 & 6.717022 & 6.941402 & 7.453443 & 6.827583 & ...      & 7.004635 & 7.096262 & 7.087440 & 7.202097 & 7.033086 & 6.926874 & 5.957581 & 7.510998 & 7.191021 & 6.519962\\\\\n",
       "\t 6.558774 & 7.213854 & 6.610402 & 7.148570 & 7.332786 & 6.558954 & 7.192635 & 7.926478 & 6.703555 & 6.386156 & ...      & 6.845504 & 6.422073 & 7.762822 & 7.860860 & 7.600551 & 7.153098 & 6.284371 & 6.839328 & 6.806357 & 7.144566\\\\\n",
       "\t 6.846083 & 7.182154 & 6.582914 & 7.050884 & 7.323794 & 6.224449 & 6.698834 & 7.148871 & 6.450698 & 6.317657 & ...      & 7.386739 & 6.496636 & 7.682673 & 7.363123 & 7.077775 & 7.178285 & 6.681362 & 6.991950 & 7.480716 & 6.935519\\\\\n",
       "\t 6.636017 & 7.640921 & 6.765564 & 7.444618 & 7.510380 & 6.858391 & 6.627309 & 6.848188 & 6.753402 & 7.231656 & ...      & 7.298870 & 7.382952 & 7.135898 & 7.266114 & 7.295575 & 7.419374 & 6.434230 & 7.123935 & 7.355626 & 6.944701\\\\\n",
       "\t 8.093610 & 7.033288 & 6.486752 & 7.069614 & 7.562031 & 7.409086 & 6.864644 & 7.104424 & 7.835088 & 5.663150 & ...      & 6.923487 & 7.349529 & 7.153179 & 7.057946 & 7.355365 & 7.126033 & 6.405337 & 6.902442 & 6.512670 & 6.849893\\\\\n",
       "\t 6.748593 & 6.860273 & 6.547097 & 6.904672 & 6.608839 & 7.543238 & 7.057590 & 6.582906 & 7.465654 & 6.373051 & ...      & 6.640662 & 6.941579 & 6.555086 & 7.248041 & 6.864210 & 6.397766 & 6.802356 & 7.482628 & 6.635853 & 7.099071\\\\\n",
       "\t 6.781068 & 7.132984 & 6.455365 & 6.443919 & 6.403352 & 7.297856 & 7.153640 & 6.501888 & 7.216916 & 6.741143 & ...      & 7.212970 & 6.944808 & 7.524076 & 7.000507 & 7.395848 & 7.159677 & 7.027901 & 7.060661 & 6.958650 & 7.069872\\\\\n",
       "\t 6.623207 & 7.878724 & 7.992403 & 6.920535 & 7.483036 & 6.444763 & 7.218345 & 8.037327 & 7.038220 & 6.767403 & ...      & 7.192784 & 6.704130 & 7.922927 & 7.517737 & 7.320402 & 6.899158 & 6.129990 & 7.145075 & 7.832754 & 6.968023\\\\\n",
       "\t 7.155100 & 7.487291 & 7.930244 & 7.339533 & 6.894876 & 6.623952 & 7.159654 & 7.023119 & 7.132000 & 6.422840 & ...      & 6.213799 & 6.653257 & 7.843359 & 7.496424 & 7.457438 & 6.935992 & 6.852858 & 6.977370 & 7.452109 & 6.260690\\\\\n",
       "\t 7.093980 & 7.474298 & 6.922719 & 7.941118 & 7.325572 & 6.794903 & 7.225590 & 7.200599 & 7.230895 & 7.083003 & ...      & 7.505434 & 7.136236 & 7.436689 & 7.640591 & 7.622945 & 7.836142 & 6.513890 & 7.293929 & 8.162426 & 7.229507\\\\\n",
       "\t 7.077605 & 7.694643 & 6.596786 & 6.736608 & 7.409380 & 6.578913 & 6.715409 & 8.756217 & 6.931073 & 6.516332 & ...      & 7.235795 & 7.321840 & 7.950995 & 7.356798 & 7.718706 & 7.057906 & 6.100484 & 7.213270 & 7.371046 & 6.645116\\\\\n",
       "\t 7.043451 & 7.382748 & 7.511760 & 7.009609 & 7.740828 & 7.578223 & 7.707183 & 6.954477 & 6.970322 & 6.883504 & ...      & 6.278289 & 6.798593 & 7.175178 & 7.818177 & 7.050217 & 7.038747 & 6.890239 & 7.079830 & 6.857572 & 7.670342\\\\\n",
       "\t 6.794800 & 7.235607 & 7.134728 & 7.991380 & 7.234113 & 7.221839 & 6.795253 & 7.754177 & 6.807953 & 7.600760 & ...      & 6.867065 & 7.001656 & 7.573410 & 7.312520 & 7.240435 & 7.507186 & 7.014713 & 7.278952 & 7.225054 & 6.990080\\\\\n",
       "\t 7.263950 & 6.478621 & 6.570364 & 6.848352 & 6.618473 & 7.409230 & 6.234808 & 6.912101 & 7.670189 & 6.936921 & ...      & 6.930271 & 7.253430 & 7.621900 & 6.987278 & 7.501033 & 6.889386 & 6.633420 & 7.366672 & 6.887892 & 6.578612\\\\\n",
       "\t 6.134365 & 7.587816 & 7.493606 & 7.568196 & 7.616713 & 7.124935 & 7.086935 & 7.916478 & 7.227770 & 6.839501 & ...      & 7.167848 & 6.283760 & 7.697695 & 7.901738 & 6.976528 & 7.038838 & 6.686934 & 6.750834 & 7.007964 & 6.427871\\\\\n",
       "\t 6.796597 & 7.645937 & 7.798841 & 7.199843 & 7.795612 & 6.608144 & 7.540797 & 7.847666 & 6.319740 & 6.853614 & ...      & 7.522299 & 6.713366 & 7.537995 & 8.020366 & 7.234964 & 7.724485 & 6.413620 & 7.201317 & 7.726384 & 7.319786\\\\\n",
       "\t 6.742977 & 7.299993 & 6.137489 & 7.088105 & 7.107083 & 6.979840 & 6.968820 & 6.581098 & 6.744745 & 6.473631 & ...      & 6.614026 & 6.835901 & 6.694211 & 7.546024 & 6.776556 & 6.144059 & 6.263007 & 6.034981 & 6.930034 & 7.359602\\\\\n",
       "\t 7.378920 & 7.091126 & 6.858574 & 7.025349 & 7.248066 & 6.491101 & 6.760098 & 6.758476 & 6.484142 & 7.134970 & ...      & 6.730203 & 6.697315 & 6.999972 & 7.045313 & 7.065387 & 7.225766 & 6.246895 & 6.747111 & 7.057633 & 6.918091\\\\\n",
       "\t 7.800715 & 7.526871 & 6.751576 & 7.417558 & 6.813276 & 7.281461 & 7.159721 & 6.888699 & 7.091293 & 7.122106 & ...      & 6.129188 & 7.206891 & 7.422070 & 7.680994 & 7.188198 & 7.915533 & 6.840719 & 7.338351 & 6.921374 & 6.832833\\\\\n",
       "\t ... & ... & ... & ... & ... & ... & ... & ... & ... & ... &     & ... & ... & ... & ... & ... & ... & ... & ... & ... & ...\\\\\n",
       "\t 6.476846 & 7.659980 & 7.163246 & 7.348247 & 7.563906 & 7.011869 & 7.748438 & 7.304612 & 7.022283 & 6.448056 & ...      & 6.798838 & 7.184041 & 6.654137 & 7.454646 & 6.571522 & 7.075120 & 6.680080 & 7.429063 & 7.535101 & 7.790860\\\\\n",
       "\t 5.929734 & 7.447865 & 7.134987 & 7.298098 & 6.983264 & 6.572611 & 7.572479 & 7.618748 & 7.576075 & 7.041147 & ...      & 6.770146 & 7.491213 & 7.551163 & 7.623256 & 6.861225 & 6.885034 & 6.562547 & 6.757024 & 7.740066 & 7.037222\\\\\n",
       "\t 6.193017 & 7.391516 & 7.563375 & 7.250414 & 7.897208 & 6.873682 & 7.213942 & 6.746287 & 6.764980 & 6.196464 & ...      & 6.575593 & 6.679527 & 7.261645 & 7.647759 & 6.725941 & 6.187761 & 7.281066 & 7.324521 & 7.241849 & 7.538311\\\\\n",
       "\t 6.615336 & 6.812833 & 7.101064 & 6.903087 & 7.534298 & 6.797453 & 6.936189 & 7.665892 & 6.981472 & 6.686598 & ...      & 7.135060 & 6.141253 & 7.327991 & 7.135039 & 7.146282 & 6.931685 & 6.506209 & 7.041231 & 7.100426 & 6.316951\\\\\n",
       "\t 7.525525 & 7.289558 & 7.010380 & 7.291817 & 6.460314 & 6.555976 & 6.490902 & 7.064418 & 7.523638 & 6.651936 & ...      & 6.701625 & 7.194567 & 6.852843 & 6.811447 & 7.279661 & 6.997698 & 6.202281 & 7.256964 & 7.022401 & 6.542995\\\\\n",
       "\t 6.563247 & 6.999049 & 6.426147 & 6.948944 & 7.547652 & 7.231304 & 7.125017 & 7.017264 & 6.217876 & 7.239283 & ...      & 6.635254 & 6.745988 & 6.942161 & 7.183465 & 6.821416 & 6.497520 & 6.757741 & 7.292941 & 6.356954 & 7.277895\\\\\n",
       "\t 7.063287 & 7.642399 & 7.199523 & 7.269899 & 6.874957 & 6.546683 & 6.967464 & 7.300113 & 7.094067 & 7.107455 & ...      & 6.949229 & 6.734801 & 6.993274 & 7.401383 & 6.394425 & 6.763388 & 6.612021 & 6.872744 & 7.127632 & 7.176835\\\\\n",
       "\t 6.890196 & 7.354116 & 7.704174 & 7.646921 & 8.013361 & 7.735860 & 7.412659 & 8.261249 & 6.951817 & 7.211310 & ...      & 7.933191 & 6.562046 & 7.411076 & 7.468402 & 6.747885 & 7.234368 & 6.437256 & 7.536386 & 7.202479 & 7.195095\\\\\n",
       "\t 7.531527 & 6.975549 & 6.896716 & 7.339496 & 7.016817 & 7.492801 & 6.830989 & 6.949412 & 8.514872 & 6.886556 & ...      & 7.326689 & 8.200052 & 8.125755 & 7.204009 & 7.605651 & 7.389949 & 7.076239 & 7.658147 & 7.006634 & 7.006431\\\\\n",
       "\t 6.857405 & 7.459836 & 7.323979 & 6.736008 & 8.113340 & 6.882883 & 7.270643 & 7.503002 & 6.213762 & 7.211702 & ...      & 7.194509 & 6.054935 & 7.566866 & 7.462012 & 7.179574 & 7.234843 & 6.086896 & 7.427511 & 6.790262 & 7.435314\\\\\n",
       "\t 7.727062 & 7.265039 & 6.986232 & 8.027963 & 7.765110 & 7.962484 & 7.774302 & 6.636441 & 7.826827 & 6.901886 & ...      & 6.580014 & 7.771582 & 6.942378 & 6.712769 & 7.692631 & 6.983465 & 7.316410 & 7.929911 & 6.486533 & 6.984636\\\\\n",
       "\t 7.534378 & 7.075127 & 7.013857 & 7.129561 & 7.097573 & 6.362176 & 6.603872 & 7.169922 & 7.012928 & 6.836043 & ...      & 7.050926 & 6.520756 & 6.626845 & 6.687689 & 6.978732 & 6.804417 & 6.201649 & 7.129430 & 7.170771 & 6.288472\\\\\n",
       "\t 7.212804 & 7.459302 & 7.720896 & 7.576353 & 7.967159 & 6.481349 & 7.559966 & 8.090882 & 6.629396 & 7.196916 & ...      & 7.478981 & 6.540480 & 7.559689 & 7.965344 & 7.533094 & 7.364537 & 6.395493 & 7.288763 & 7.827945 & 6.989231\\\\\n",
       "\t 6.202533 & 7.148540 & 6.589876 & 6.384164 & 6.979432 & 7.058362 & 6.937707 & 7.088270 & 7.493682 & 6.350228 & ...      & 6.765755 & 7.402282 & 7.361905 & 6.996306 & 7.404109 & 6.888800 & 7.171481 & 6.614248 & 7.542383 & 7.311065\\\\\n",
       "\t 7.883968 & 7.303879 & 7.422111 & 8.081176 & 7.092756 & 6.748365 & 6.589167 & 7.167703 & 8.300273 & 7.597224 & ...      & 7.245256 & 7.574240 & 7.617512 & 7.453286 & 8.135877 & 8.373433 & 7.511937 & 7.390055 & 7.793481 & 6.527578\\\\\n",
       "\t 7.388538 & 7.548599 & 6.819739 & 6.936821 & 7.147869 & 7.327397 & 7.237130 & 6.861868 & 6.814591 & 6.375737 & ...      & 6.737894 & 7.242030 & 6.310346 & 6.982834 & 6.958768 & 6.326456 & 6.529246 & 7.436925 & 7.007933 & 6.994820\\\\\n",
       "\t 7.194399 & 7.184236 & 6.861828 & 7.315961 & 7.819068 & 7.207056 & 7.928926 & 7.301393 & 6.696338 & 6.726209 & ...      & 6.555561 & 6.786843 & 7.144634 & 7.868506 & 7.230320 & 7.420145 & 7.064627 & 7.343617 & 6.864752 & 7.498186\\\\\n",
       "\t 7.401059 & 6.766689 & 7.189940 & 7.567684 & 6.512016 & 7.052250 & 6.745976 & 6.096298 & 7.815716 & 6.790688 & ...      & 6.749559 & 7.849790 & 7.358808 & 6.735376 & 7.660145 & 7.120957 & 6.692679 & 7.405096 & 6.918496 & 6.671029\\\\\n",
       "\t 6.581967 & 6.874470 & 7.244004 & 7.475992 & 7.457370 & 6.885222 & 6.899654 & 6.882731 & 6.723005 & 6.661035 & ...      & 6.632207 & 6.841987 & 7.112341 & 6.928933 & 6.349109 & 6.448053 & 6.696958 & 7.445191 & 6.927747 & 7.416366\\\\\n",
       "\t 6.842271 & 8.239889 & 7.002136 & 7.221290 & 7.248864 & 5.886594 & 7.083810 & 7.766954 & 6.934770 & 7.365848 & ...      & 7.492853 & 6.779208 & 7.992333 & 7.568806 & 7.652321 & 7.454395 & 6.657961 & 7.462170 & 7.183906 & 7.138352\\\\\n",
       "\t 7.489042 & 7.172457 & 6.580919 & 6.850891 & 6.762541 & 7.403254 & 7.223561 & 6.849033 & 7.437216 & 5.969647 & ...      & 0.000000 & 6.968253 & 6.548030 & 7.287177 & 7.091626 & 6.740650 & 6.861768 & 6.984776 & 6.434139 & 6.902851\\\\\n",
       "\t 6.544267 & 7.619551 & 7.136087 & 7.126869 & 7.686125 & 6.616416 & 7.701222 & 7.711702 & 6.536162 & 6.612227 & ...      & 6.968253 & 0.000000 & 6.977246 & 8.130864 & 6.914158 & 6.721486 & 6.452893 & 7.148561 & 7.459472 & 7.506110\\\\\n",
       "\t 8.044311 & 7.274074 & 6.713999 & 6.592090 & 7.483029 & 7.909588 & 8.159262 & 7.057395 & 7.531378 & 6.883139 & ...      & 6.548030 & 6.977246 & 0.000000 & 7.379676 & 6.811528 & 6.944332 & 6.761424 & 7.913433 & 6.715434 & 7.395605\\\\\n",
       "\t 7.319648 & 6.872443 & 6.446127 & 6.898121 & 7.104565 & 7.821595 & 6.621014 & 6.814933 & 7.402409 & 6.995874 & ...      & 7.287177 & 8.130864 & 7.379676 & 0.000000 & 7.606104 & 6.862091 & 6.765759 & 6.922713 & 6.921031 & 6.007327\\\\\n",
       "\t 6.764667 & 7.395997 & 7.651615 & 7.235041 & 7.839149 & 7.672798 & 7.504232 & 7.337252 & 6.881053 & 6.772533 & ...      & 7.091626 & 6.914158 & 6.811528 & 7.606104 & 0.000000 & 6.346142 & 7.163376 & 8.029449 & 7.355776 & 7.862724\\\\\n",
       "\t 7.086344 & 6.683185 & 6.607851 & 6.313805 & 7.374731 & 7.914276 & 7.838371 & 7.148081 & 7.184084 & 6.208851 & ...      & 6.740650 & 6.721486 & 6.944332 & 6.862091 & 6.346142 & 0.000000 & 6.657113 & 7.691168 & 6.655254 & 7.338731\\\\\n",
       "\t 6.622614 & 7.351073 & 6.488263 & 6.796768 & 6.921143 & 6.166738 & 6.972587 & 7.253933 & 6.675388 & 6.887832 & ...      & 6.861768 & 6.452893 & 6.761424 & 6.765759 & 7.163376 & 6.657113 & 0.000000 & 6.690479 & 7.488726 & 6.383075\\\\\n",
       "\t 6.915535 & 7.328237 & 7.071615 & 7.535077 & 7.269307 & 6.833255 & 6.890290 & 7.374154 & 7.149873 & 7.519337 & ...      & 6.984776 & 7.148561 & 7.913433 & 6.922713 & 8.029449 & 7.691168 & 6.690479 & 0.000000 & 6.985078 & 6.998701\\\\\n",
       "\t 7.195151 & 6.830227 & 6.555234 & 6.927990 & 7.244717 & 6.961519 & 7.084873 & 6.687949 & 7.624839 & 6.981500 & ...      & 6.434139 & 7.459472 & 6.715434 & 6.921031 & 7.355776 & 6.655254 & 7.488726 & 6.985078 & 0.000000 & 6.646204\\\\\n",
       "\t 7.014553 & 7.493394 & 6.646627 & 7.613842 & 6.614343 & 6.685854 & 6.872113 & 7.487300 & 7.877302 & 6.854127 & ...      & 6.902851 & 7.506110 & 7.395605 & 6.007327 & 7.862724 & 7.338731 & 6.383075 & 6.998701 & 6.646204 & 0.000000\\\\\n",
       "\\end{tabular}\n"
      ],
      "text/markdown": [
       "\n",
       "| 0.000000 | 7.332997 | 7.423375 | 7.112230 | 7.697961 | 5.972455 | 7.186663 | 7.693961 | 6.901614 | 6.892024 | ...      | 7.489042 | 6.544267 | 8.044311 | 7.319648 | 6.764667 | 7.086344 | 6.622614 | 6.915535 | 7.195151 | 7.014553 |\n",
       "| 7.332997 | 0.000000 | 6.752331 | 7.339619 | 6.535660 | 7.755006 | 7.076018 | 6.509859 | 7.883074 | 7.293870 | ...      | 7.172457 | 7.619551 | 7.274074 | 6.872443 | 7.395997 | 6.683185 | 7.351073 | 7.328237 | 6.830227 | 7.493394 |\n",
       "| 7.423375 | 6.752331 | 0.000000 | 7.400411 | 6.706024 | 6.874155 | 7.074126 | 6.522161 | 7.443601 | 6.528260 | ...      | 6.580919 | 7.136087 | 6.713999 | 6.446127 | 7.651615 | 6.607851 | 6.488263 | 7.071615 | 6.555234 | 6.646627 |\n",
       "| 7.112230 | 7.339619 | 7.400411 | 0.000000 | 7.577684 | 7.669311 | 7.891047 | 7.705465 | 7.242430 | 5.852942 | ...      | 6.850891 | 7.126869 | 6.592090 | 6.898121 | 7.235041 | 6.313805 | 6.796768 | 7.535077 | 6.927990 | 7.613842 |\n",
       "| 7.697961 | 6.535660 | 6.706024 | 7.577684 | 0.000000 | 7.530692 | 7.029589 | 6.363989 | 8.397536 | 7.138991 | ...      | 6.762541 | 7.686125 | 7.483029 | 7.104565 | 7.839149 | 7.374731 | 6.921143 | 7.269307 | 7.244717 | 6.614343 |\n",
       "| 5.972455 | 7.755006 | 6.874155 | 7.669311 | 7.530692 | 0.000000 | 7.188438 | 7.763950 | 6.892274 | 6.920874 | ...      | 7.403254 | 6.616416 | 7.909588 | 7.821595 | 7.672798 | 7.914276 | 6.166738 | 6.833255 | 6.961519 | 6.685854 |\n",
       "| 7.186663 | 7.076018 | 7.074126 | 7.891047 | 7.029589 | 7.188438 | 0.000000 | 7.383725 | 7.670401 | 7.548048 | ...      | 7.223561 | 7.701222 | 8.159262 | 6.621014 | 7.504232 | 7.838371 | 6.972587 | 6.890290 | 7.084873 | 6.872113 |\n",
       "| 7.693961 | 6.509859 | 6.522161 | 7.705465 | 6.363989 | 7.763950 | 7.383725 | 0.000000 | 7.521678 | 6.792250 | ...      | 6.849033 | 7.711702 | 7.057395 | 6.814933 | 7.337252 | 7.148081 | 7.253933 | 7.374154 | 6.687949 | 7.487300 |\n",
       "| 6.901614 | 7.883074 | 7.443601 | 7.242430 | 8.397536 | 6.892274 | 7.670401 | 7.521678 | 0.000000 | 7.219403 | ...      | 7.437216 | 6.536162 | 7.531378 | 7.402409 | 6.881053 | 7.184084 | 6.675388 | 7.149873 | 7.624839 | 7.877302 |\n",
       "| 6.892024 | 7.293870 | 6.528260 | 5.852942 | 7.138991 | 6.920874 | 7.548048 | 6.792250 | 7.219403 | 0.000000 | ...      | 5.969647 | 6.612227 | 6.883139 | 6.995874 | 6.772533 | 6.208851 | 6.887832 | 7.519337 | 6.981500 | 6.854127 |\n",
       "| 6.793151 | 7.357473 | 7.200013 | 7.016230 | 7.687530 | 6.840108 | 7.483211 | 8.161676 | 7.024988 | 7.245601 | ...      | 7.181593 | 6.326548 | 7.670463 | 7.687760 | 7.244475 | 7.227265 | 6.896083 | 6.996008 | 7.445443 | 7.334461 |\n",
       "| 6.961950 | 7.330493 | 7.026906 | 6.843070 | 6.574648 | 6.800431 | 6.717022 | 6.941402 | 7.453443 | 6.827583 | ...      | 7.004635 | 7.096262 | 7.087440 | 7.202097 | 7.033086 | 6.926874 | 5.957581 | 7.510998 | 7.191021 | 6.519962 |\n",
       "| 6.558774 | 7.213854 | 6.610402 | 7.148570 | 7.332786 | 6.558954 | 7.192635 | 7.926478 | 6.703555 | 6.386156 | ...      | 6.845504 | 6.422073 | 7.762822 | 7.860860 | 7.600551 | 7.153098 | 6.284371 | 6.839328 | 6.806357 | 7.144566 |\n",
       "| 6.846083 | 7.182154 | 6.582914 | 7.050884 | 7.323794 | 6.224449 | 6.698834 | 7.148871 | 6.450698 | 6.317657 | ...      | 7.386739 | 6.496636 | 7.682673 | 7.363123 | 7.077775 | 7.178285 | 6.681362 | 6.991950 | 7.480716 | 6.935519 |\n",
       "| 6.636017 | 7.640921 | 6.765564 | 7.444618 | 7.510380 | 6.858391 | 6.627309 | 6.848188 | 6.753402 | 7.231656 | ...      | 7.298870 | 7.382952 | 7.135898 | 7.266114 | 7.295575 | 7.419374 | 6.434230 | 7.123935 | 7.355626 | 6.944701 |\n",
       "| 8.093610 | 7.033288 | 6.486752 | 7.069614 | 7.562031 | 7.409086 | 6.864644 | 7.104424 | 7.835088 | 5.663150 | ...      | 6.923487 | 7.349529 | 7.153179 | 7.057946 | 7.355365 | 7.126033 | 6.405337 | 6.902442 | 6.512670 | 6.849893 |\n",
       "| 6.748593 | 6.860273 | 6.547097 | 6.904672 | 6.608839 | 7.543238 | 7.057590 | 6.582906 | 7.465654 | 6.373051 | ...      | 6.640662 | 6.941579 | 6.555086 | 7.248041 | 6.864210 | 6.397766 | 6.802356 | 7.482628 | 6.635853 | 7.099071 |\n",
       "| 6.781068 | 7.132984 | 6.455365 | 6.443919 | 6.403352 | 7.297856 | 7.153640 | 6.501888 | 7.216916 | 6.741143 | ...      | 7.212970 | 6.944808 | 7.524076 | 7.000507 | 7.395848 | 7.159677 | 7.027901 | 7.060661 | 6.958650 | 7.069872 |\n",
       "| 6.623207 | 7.878724 | 7.992403 | 6.920535 | 7.483036 | 6.444763 | 7.218345 | 8.037327 | 7.038220 | 6.767403 | ...      | 7.192784 | 6.704130 | 7.922927 | 7.517737 | 7.320402 | 6.899158 | 6.129990 | 7.145075 | 7.832754 | 6.968023 |\n",
       "| 7.155100 | 7.487291 | 7.930244 | 7.339533 | 6.894876 | 6.623952 | 7.159654 | 7.023119 | 7.132000 | 6.422840 | ...      | 6.213799 | 6.653257 | 7.843359 | 7.496424 | 7.457438 | 6.935992 | 6.852858 | 6.977370 | 7.452109 | 6.260690 |\n",
       "| 7.093980 | 7.474298 | 6.922719 | 7.941118 | 7.325572 | 6.794903 | 7.225590 | 7.200599 | 7.230895 | 7.083003 | ...      | 7.505434 | 7.136236 | 7.436689 | 7.640591 | 7.622945 | 7.836142 | 6.513890 | 7.293929 | 8.162426 | 7.229507 |\n",
       "| 7.077605 | 7.694643 | 6.596786 | 6.736608 | 7.409380 | 6.578913 | 6.715409 | 8.756217 | 6.931073 | 6.516332 | ...      | 7.235795 | 7.321840 | 7.950995 | 7.356798 | 7.718706 | 7.057906 | 6.100484 | 7.213270 | 7.371046 | 6.645116 |\n",
       "| 7.043451 | 7.382748 | 7.511760 | 7.009609 | 7.740828 | 7.578223 | 7.707183 | 6.954477 | 6.970322 | 6.883504 | ...      | 6.278289 | 6.798593 | 7.175178 | 7.818177 | 7.050217 | 7.038747 | 6.890239 | 7.079830 | 6.857572 | 7.670342 |\n",
       "| 6.794800 | 7.235607 | 7.134728 | 7.991380 | 7.234113 | 7.221839 | 6.795253 | 7.754177 | 6.807953 | 7.600760 | ...      | 6.867065 | 7.001656 | 7.573410 | 7.312520 | 7.240435 | 7.507186 | 7.014713 | 7.278952 | 7.225054 | 6.990080 |\n",
       "| 7.263950 | 6.478621 | 6.570364 | 6.848352 | 6.618473 | 7.409230 | 6.234808 | 6.912101 | 7.670189 | 6.936921 | ...      | 6.930271 | 7.253430 | 7.621900 | 6.987278 | 7.501033 | 6.889386 | 6.633420 | 7.366672 | 6.887892 | 6.578612 |\n",
       "| 6.134365 | 7.587816 | 7.493606 | 7.568196 | 7.616713 | 7.124935 | 7.086935 | 7.916478 | 7.227770 | 6.839501 | ...      | 7.167848 | 6.283760 | 7.697695 | 7.901738 | 6.976528 | 7.038838 | 6.686934 | 6.750834 | 7.007964 | 6.427871 |\n",
       "| 6.796597 | 7.645937 | 7.798841 | 7.199843 | 7.795612 | 6.608144 | 7.540797 | 7.847666 | 6.319740 | 6.853614 | ...      | 7.522299 | 6.713366 | 7.537995 | 8.020366 | 7.234964 | 7.724485 | 6.413620 | 7.201317 | 7.726384 | 7.319786 |\n",
       "| 6.742977 | 7.299993 | 6.137489 | 7.088105 | 7.107083 | 6.979840 | 6.968820 | 6.581098 | 6.744745 | 6.473631 | ...      | 6.614026 | 6.835901 | 6.694211 | 7.546024 | 6.776556 | 6.144059 | 6.263007 | 6.034981 | 6.930034 | 7.359602 |\n",
       "| 7.378920 | 7.091126 | 6.858574 | 7.025349 | 7.248066 | 6.491101 | 6.760098 | 6.758476 | 6.484142 | 7.134970 | ...      | 6.730203 | 6.697315 | 6.999972 | 7.045313 | 7.065387 | 7.225766 | 6.246895 | 6.747111 | 7.057633 | 6.918091 |\n",
       "| 7.800715 | 7.526871 | 6.751576 | 7.417558 | 6.813276 | 7.281461 | 7.159721 | 6.888699 | 7.091293 | 7.122106 | ...      | 6.129188 | 7.206891 | 7.422070 | 7.680994 | 7.188198 | 7.915533 | 6.840719 | 7.338351 | 6.921374 | 6.832833 |\n",
       "| ... | ... | ... | ... | ... | ... | ... | ... | ... | ... |     | ... | ... | ... | ... | ... | ... | ... | ... | ... | ... |\n",
       "| 6.476846 | 7.659980 | 7.163246 | 7.348247 | 7.563906 | 7.011869 | 7.748438 | 7.304612 | 7.022283 | 6.448056 | ...      | 6.798838 | 7.184041 | 6.654137 | 7.454646 | 6.571522 | 7.075120 | 6.680080 | 7.429063 | 7.535101 | 7.790860 |\n",
       "| 5.929734 | 7.447865 | 7.134987 | 7.298098 | 6.983264 | 6.572611 | 7.572479 | 7.618748 | 7.576075 | 7.041147 | ...      | 6.770146 | 7.491213 | 7.551163 | 7.623256 | 6.861225 | 6.885034 | 6.562547 | 6.757024 | 7.740066 | 7.037222 |\n",
       "| 6.193017 | 7.391516 | 7.563375 | 7.250414 | 7.897208 | 6.873682 | 7.213942 | 6.746287 | 6.764980 | 6.196464 | ...      | 6.575593 | 6.679527 | 7.261645 | 7.647759 | 6.725941 | 6.187761 | 7.281066 | 7.324521 | 7.241849 | 7.538311 |\n",
       "| 6.615336 | 6.812833 | 7.101064 | 6.903087 | 7.534298 | 6.797453 | 6.936189 | 7.665892 | 6.981472 | 6.686598 | ...      | 7.135060 | 6.141253 | 7.327991 | 7.135039 | 7.146282 | 6.931685 | 6.506209 | 7.041231 | 7.100426 | 6.316951 |\n",
       "| 7.525525 | 7.289558 | 7.010380 | 7.291817 | 6.460314 | 6.555976 | 6.490902 | 7.064418 | 7.523638 | 6.651936 | ...      | 6.701625 | 7.194567 | 6.852843 | 6.811447 | 7.279661 | 6.997698 | 6.202281 | 7.256964 | 7.022401 | 6.542995 |\n",
       "| 6.563247 | 6.999049 | 6.426147 | 6.948944 | 7.547652 | 7.231304 | 7.125017 | 7.017264 | 6.217876 | 7.239283 | ...      | 6.635254 | 6.745988 | 6.942161 | 7.183465 | 6.821416 | 6.497520 | 6.757741 | 7.292941 | 6.356954 | 7.277895 |\n",
       "| 7.063287 | 7.642399 | 7.199523 | 7.269899 | 6.874957 | 6.546683 | 6.967464 | 7.300113 | 7.094067 | 7.107455 | ...      | 6.949229 | 6.734801 | 6.993274 | 7.401383 | 6.394425 | 6.763388 | 6.612021 | 6.872744 | 7.127632 | 7.176835 |\n",
       "| 6.890196 | 7.354116 | 7.704174 | 7.646921 | 8.013361 | 7.735860 | 7.412659 | 8.261249 | 6.951817 | 7.211310 | ...      | 7.933191 | 6.562046 | 7.411076 | 7.468402 | 6.747885 | 7.234368 | 6.437256 | 7.536386 | 7.202479 | 7.195095 |\n",
       "| 7.531527 | 6.975549 | 6.896716 | 7.339496 | 7.016817 | 7.492801 | 6.830989 | 6.949412 | 8.514872 | 6.886556 | ...      | 7.326689 | 8.200052 | 8.125755 | 7.204009 | 7.605651 | 7.389949 | 7.076239 | 7.658147 | 7.006634 | 7.006431 |\n",
       "| 6.857405 | 7.459836 | 7.323979 | 6.736008 | 8.113340 | 6.882883 | 7.270643 | 7.503002 | 6.213762 | 7.211702 | ...      | 7.194509 | 6.054935 | 7.566866 | 7.462012 | 7.179574 | 7.234843 | 6.086896 | 7.427511 | 6.790262 | 7.435314 |\n",
       "| 7.727062 | 7.265039 | 6.986232 | 8.027963 | 7.765110 | 7.962484 | 7.774302 | 6.636441 | 7.826827 | 6.901886 | ...      | 6.580014 | 7.771582 | 6.942378 | 6.712769 | 7.692631 | 6.983465 | 7.316410 | 7.929911 | 6.486533 | 6.984636 |\n",
       "| 7.534378 | 7.075127 | 7.013857 | 7.129561 | 7.097573 | 6.362176 | 6.603872 | 7.169922 | 7.012928 | 6.836043 | ...      | 7.050926 | 6.520756 | 6.626845 | 6.687689 | 6.978732 | 6.804417 | 6.201649 | 7.129430 | 7.170771 | 6.288472 |\n",
       "| 7.212804 | 7.459302 | 7.720896 | 7.576353 | 7.967159 | 6.481349 | 7.559966 | 8.090882 | 6.629396 | 7.196916 | ...      | 7.478981 | 6.540480 | 7.559689 | 7.965344 | 7.533094 | 7.364537 | 6.395493 | 7.288763 | 7.827945 | 6.989231 |\n",
       "| 6.202533 | 7.148540 | 6.589876 | 6.384164 | 6.979432 | 7.058362 | 6.937707 | 7.088270 | 7.493682 | 6.350228 | ...      | 6.765755 | 7.402282 | 7.361905 | 6.996306 | 7.404109 | 6.888800 | 7.171481 | 6.614248 | 7.542383 | 7.311065 |\n",
       "| 7.883968 | 7.303879 | 7.422111 | 8.081176 | 7.092756 | 6.748365 | 6.589167 | 7.167703 | 8.300273 | 7.597224 | ...      | 7.245256 | 7.574240 | 7.617512 | 7.453286 | 8.135877 | 8.373433 | 7.511937 | 7.390055 | 7.793481 | 6.527578 |\n",
       "| 7.388538 | 7.548599 | 6.819739 | 6.936821 | 7.147869 | 7.327397 | 7.237130 | 6.861868 | 6.814591 | 6.375737 | ...      | 6.737894 | 7.242030 | 6.310346 | 6.982834 | 6.958768 | 6.326456 | 6.529246 | 7.436925 | 7.007933 | 6.994820 |\n",
       "| 7.194399 | 7.184236 | 6.861828 | 7.315961 | 7.819068 | 7.207056 | 7.928926 | 7.301393 | 6.696338 | 6.726209 | ...      | 6.555561 | 6.786843 | 7.144634 | 7.868506 | 7.230320 | 7.420145 | 7.064627 | 7.343617 | 6.864752 | 7.498186 |\n",
       "| 7.401059 | 6.766689 | 7.189940 | 7.567684 | 6.512016 | 7.052250 | 6.745976 | 6.096298 | 7.815716 | 6.790688 | ...      | 6.749559 | 7.849790 | 7.358808 | 6.735376 | 7.660145 | 7.120957 | 6.692679 | 7.405096 | 6.918496 | 6.671029 |\n",
       "| 6.581967 | 6.874470 | 7.244004 | 7.475992 | 7.457370 | 6.885222 | 6.899654 | 6.882731 | 6.723005 | 6.661035 | ...      | 6.632207 | 6.841987 | 7.112341 | 6.928933 | 6.349109 | 6.448053 | 6.696958 | 7.445191 | 6.927747 | 7.416366 |\n",
       "| 6.842271 | 8.239889 | 7.002136 | 7.221290 | 7.248864 | 5.886594 | 7.083810 | 7.766954 | 6.934770 | 7.365848 | ...      | 7.492853 | 6.779208 | 7.992333 | 7.568806 | 7.652321 | 7.454395 | 6.657961 | 7.462170 | 7.183906 | 7.138352 |\n",
       "| 7.489042 | 7.172457 | 6.580919 | 6.850891 | 6.762541 | 7.403254 | 7.223561 | 6.849033 | 7.437216 | 5.969647 | ...      | 0.000000 | 6.968253 | 6.548030 | 7.287177 | 7.091626 | 6.740650 | 6.861768 | 6.984776 | 6.434139 | 6.902851 |\n",
       "| 6.544267 | 7.619551 | 7.136087 | 7.126869 | 7.686125 | 6.616416 | 7.701222 | 7.711702 | 6.536162 | 6.612227 | ...      | 6.968253 | 0.000000 | 6.977246 | 8.130864 | 6.914158 | 6.721486 | 6.452893 | 7.148561 | 7.459472 | 7.506110 |\n",
       "| 8.044311 | 7.274074 | 6.713999 | 6.592090 | 7.483029 | 7.909588 | 8.159262 | 7.057395 | 7.531378 | 6.883139 | ...      | 6.548030 | 6.977246 | 0.000000 | 7.379676 | 6.811528 | 6.944332 | 6.761424 | 7.913433 | 6.715434 | 7.395605 |\n",
       "| 7.319648 | 6.872443 | 6.446127 | 6.898121 | 7.104565 | 7.821595 | 6.621014 | 6.814933 | 7.402409 | 6.995874 | ...      | 7.287177 | 8.130864 | 7.379676 | 0.000000 | 7.606104 | 6.862091 | 6.765759 | 6.922713 | 6.921031 | 6.007327 |\n",
       "| 6.764667 | 7.395997 | 7.651615 | 7.235041 | 7.839149 | 7.672798 | 7.504232 | 7.337252 | 6.881053 | 6.772533 | ...      | 7.091626 | 6.914158 | 6.811528 | 7.606104 | 0.000000 | 6.346142 | 7.163376 | 8.029449 | 7.355776 | 7.862724 |\n",
       "| 7.086344 | 6.683185 | 6.607851 | 6.313805 | 7.374731 | 7.914276 | 7.838371 | 7.148081 | 7.184084 | 6.208851 | ...      | 6.740650 | 6.721486 | 6.944332 | 6.862091 | 6.346142 | 0.000000 | 6.657113 | 7.691168 | 6.655254 | 7.338731 |\n",
       "| 6.622614 | 7.351073 | 6.488263 | 6.796768 | 6.921143 | 6.166738 | 6.972587 | 7.253933 | 6.675388 | 6.887832 | ...      | 6.861768 | 6.452893 | 6.761424 | 6.765759 | 7.163376 | 6.657113 | 0.000000 | 6.690479 | 7.488726 | 6.383075 |\n",
       "| 6.915535 | 7.328237 | 7.071615 | 7.535077 | 7.269307 | 6.833255 | 6.890290 | 7.374154 | 7.149873 | 7.519337 | ...      | 6.984776 | 7.148561 | 7.913433 | 6.922713 | 8.029449 | 7.691168 | 6.690479 | 0.000000 | 6.985078 | 6.998701 |\n",
       "| 7.195151 | 6.830227 | 6.555234 | 6.927990 | 7.244717 | 6.961519 | 7.084873 | 6.687949 | 7.624839 | 6.981500 | ...      | 6.434139 | 7.459472 | 6.715434 | 6.921031 | 7.355776 | 6.655254 | 7.488726 | 6.985078 | 0.000000 | 6.646204 |\n",
       "| 7.014553 | 7.493394 | 6.646627 | 7.613842 | 6.614343 | 6.685854 | 6.872113 | 7.487300 | 7.877302 | 6.854127 | ...      | 6.902851 | 7.506110 | 7.395605 | 6.007327 | 7.862724 | 7.338731 | 6.383075 | 6.998701 | 6.646204 | 0.000000 |\n",
       "\n"
      ],
      "text/plain": [
       "      [,1]     [,2]     [,3]     [,4]     [,5]     [,6]     [,7]     [,8]    \n",
       " [1,] 0.000000 7.332997 7.423375 7.112230 7.697961 5.972455 7.186663 7.693961\n",
       " [2,] 7.332997 0.000000 6.752331 7.339619 6.535660 7.755006 7.076018 6.509859\n",
       " [3,] 7.423375 6.752331 0.000000 7.400411 6.706024 6.874155 7.074126 6.522161\n",
       " [4,] 7.112230 7.339619 7.400411 0.000000 7.577684 7.669311 7.891047 7.705465\n",
       " [5,] 7.697961 6.535660 6.706024 7.577684 0.000000 7.530692 7.029589 6.363989\n",
       " [6,] 5.972455 7.755006 6.874155 7.669311 7.530692 0.000000 7.188438 7.763950\n",
       " [7,] 7.186663 7.076018 7.074126 7.891047 7.029589 7.188438 0.000000 7.383725\n",
       " [8,] 7.693961 6.509859 6.522161 7.705465 6.363989 7.763950 7.383725 0.000000\n",
       " [9,] 6.901614 7.883074 7.443601 7.242430 8.397536 6.892274 7.670401 7.521678\n",
       "[10,] 6.892024 7.293870 6.528260 5.852942 7.138991 6.920874 7.548048 6.792250\n",
       "[11,] 6.793151 7.357473 7.200013 7.016230 7.687530 6.840108 7.483211 8.161676\n",
       "[12,] 6.961950 7.330493 7.026906 6.843070 6.574648 6.800431 6.717022 6.941402\n",
       "[13,] 6.558774 7.213854 6.610402 7.148570 7.332786 6.558954 7.192635 7.926478\n",
       "[14,] 6.846083 7.182154 6.582914 7.050884 7.323794 6.224449 6.698834 7.148871\n",
       "[15,] 6.636017 7.640921 6.765564 7.444618 7.510380 6.858391 6.627309 6.848188\n",
       "[16,] 8.093610 7.033288 6.486752 7.069614 7.562031 7.409086 6.864644 7.104424\n",
       "[17,] 6.748593 6.860273 6.547097 6.904672 6.608839 7.543238 7.057590 6.582906\n",
       "[18,] 6.781068 7.132984 6.455365 6.443919 6.403352 7.297856 7.153640 6.501888\n",
       "[19,] 6.623207 7.878724 7.992403 6.920535 7.483036 6.444763 7.218345 8.037327\n",
       "[20,] 7.155100 7.487291 7.930244 7.339533 6.894876 6.623952 7.159654 7.023119\n",
       "[21,] 7.093980 7.474298 6.922719 7.941118 7.325572 6.794903 7.225590 7.200599\n",
       "[22,] 7.077605 7.694643 6.596786 6.736608 7.409380 6.578913 6.715409 8.756217\n",
       "[23,] 7.043451 7.382748 7.511760 7.009609 7.740828 7.578223 7.707183 6.954477\n",
       "[24,] 6.794800 7.235607 7.134728 7.991380 7.234113 7.221839 6.795253 7.754177\n",
       "[25,] 7.263950 6.478621 6.570364 6.848352 6.618473 7.409230 6.234808 6.912101\n",
       "[26,] 6.134365 7.587816 7.493606 7.568196 7.616713 7.124935 7.086935 7.916478\n",
       "[27,] 6.796597 7.645937 7.798841 7.199843 7.795612 6.608144 7.540797 7.847666\n",
       "[28,] 6.742977 7.299993 6.137489 7.088105 7.107083 6.979840 6.968820 6.581098\n",
       "[29,] 7.378920 7.091126 6.858574 7.025349 7.248066 6.491101 6.760098 6.758476\n",
       "[30,] 7.800715 7.526871 6.751576 7.417558 6.813276 7.281461 7.159721 6.888699\n",
       "[31,] ...      ...      ...      ...      ...      ...      ...      ...     \n",
       "[32,] 6.476846 7.659980 7.163246 7.348247 7.563906 7.011869 7.748438 7.304612\n",
       "[33,] 5.929734 7.447865 7.134987 7.298098 6.983264 6.572611 7.572479 7.618748\n",
       "[34,] 6.193017 7.391516 7.563375 7.250414 7.897208 6.873682 7.213942 6.746287\n",
       "[35,] 6.615336 6.812833 7.101064 6.903087 7.534298 6.797453 6.936189 7.665892\n",
       "[36,] 7.525525 7.289558 7.010380 7.291817 6.460314 6.555976 6.490902 7.064418\n",
       "[37,] 6.563247 6.999049 6.426147 6.948944 7.547652 7.231304 7.125017 7.017264\n",
       "[38,] 7.063287 7.642399 7.199523 7.269899 6.874957 6.546683 6.967464 7.300113\n",
       "[39,] 6.890196 7.354116 7.704174 7.646921 8.013361 7.735860 7.412659 8.261249\n",
       "[40,] 7.531527 6.975549 6.896716 7.339496 7.016817 7.492801 6.830989 6.949412\n",
       "[41,] 6.857405 7.459836 7.323979 6.736008 8.113340 6.882883 7.270643 7.503002\n",
       "[42,] 7.727062 7.265039 6.986232 8.027963 7.765110 7.962484 7.774302 6.636441\n",
       "[43,] 7.534378 7.075127 7.013857 7.129561 7.097573 6.362176 6.603872 7.169922\n",
       "[44,] 7.212804 7.459302 7.720896 7.576353 7.967159 6.481349 7.559966 8.090882\n",
       "[45,] 6.202533 7.148540 6.589876 6.384164 6.979432 7.058362 6.937707 7.088270\n",
       "[46,] 7.883968 7.303879 7.422111 8.081176 7.092756 6.748365 6.589167 7.167703\n",
       "[47,] 7.388538 7.548599 6.819739 6.936821 7.147869 7.327397 7.237130 6.861868\n",
       "[48,] 7.194399 7.184236 6.861828 7.315961 7.819068 7.207056 7.928926 7.301393\n",
       "[49,] 7.401059 6.766689 7.189940 7.567684 6.512016 7.052250 6.745976 6.096298\n",
       "[50,] 6.581967 6.874470 7.244004 7.475992 7.457370 6.885222 6.899654 6.882731\n",
       "[51,] 6.842271 8.239889 7.002136 7.221290 7.248864 5.886594 7.083810 7.766954\n",
       "[52,] 7.489042 7.172457 6.580919 6.850891 6.762541 7.403254 7.223561 6.849033\n",
       "[53,] 6.544267 7.619551 7.136087 7.126869 7.686125 6.616416 7.701222 7.711702\n",
       "[54,] 8.044311 7.274074 6.713999 6.592090 7.483029 7.909588 8.159262 7.057395\n",
       "[55,] 7.319648 6.872443 6.446127 6.898121 7.104565 7.821595 6.621014 6.814933\n",
       "[56,] 6.764667 7.395997 7.651615 7.235041 7.839149 7.672798 7.504232 7.337252\n",
       "[57,] 7.086344 6.683185 6.607851 6.313805 7.374731 7.914276 7.838371 7.148081\n",
       "[58,] 6.622614 7.351073 6.488263 6.796768 6.921143 6.166738 6.972587 7.253933\n",
       "[59,] 6.915535 7.328237 7.071615 7.535077 7.269307 6.833255 6.890290 7.374154\n",
       "[60,] 7.195151 6.830227 6.555234 6.927990 7.244717 6.961519 7.084873 6.687949\n",
       "[61,] 7.014553 7.493394 6.646627 7.613842 6.614343 6.685854 6.872113 7.487300\n",
       "      [,9]     [,10]    [,11] [,12]    [,13]    [,14]    [,15]    [,16]   \n",
       " [1,] 6.901614 6.892024 ...   7.489042 6.544267 8.044311 7.319648 6.764667\n",
       " [2,] 7.883074 7.293870 ...   7.172457 7.619551 7.274074 6.872443 7.395997\n",
       " [3,] 7.443601 6.528260 ...   6.580919 7.136087 6.713999 6.446127 7.651615\n",
       " [4,] 7.242430 5.852942 ...   6.850891 7.126869 6.592090 6.898121 7.235041\n",
       " [5,] 8.397536 7.138991 ...   6.762541 7.686125 7.483029 7.104565 7.839149\n",
       " [6,] 6.892274 6.920874 ...   7.403254 6.616416 7.909588 7.821595 7.672798\n",
       " [7,] 7.670401 7.548048 ...   7.223561 7.701222 8.159262 6.621014 7.504232\n",
       " [8,] 7.521678 6.792250 ...   6.849033 7.711702 7.057395 6.814933 7.337252\n",
       " [9,] 0.000000 7.219403 ...   7.437216 6.536162 7.531378 7.402409 6.881053\n",
       "[10,] 7.219403 0.000000 ...   5.969647 6.612227 6.883139 6.995874 6.772533\n",
       "[11,] 7.024988 7.245601 ...   7.181593 6.326548 7.670463 7.687760 7.244475\n",
       "[12,] 7.453443 6.827583 ...   7.004635 7.096262 7.087440 7.202097 7.033086\n",
       "[13,] 6.703555 6.386156 ...   6.845504 6.422073 7.762822 7.860860 7.600551\n",
       "[14,] 6.450698 6.317657 ...   7.386739 6.496636 7.682673 7.363123 7.077775\n",
       "[15,] 6.753402 7.231656 ...   7.298870 7.382952 7.135898 7.266114 7.295575\n",
       "[16,] 7.835088 5.663150 ...   6.923487 7.349529 7.153179 7.057946 7.355365\n",
       "[17,] 7.465654 6.373051 ...   6.640662 6.941579 6.555086 7.248041 6.864210\n",
       "[18,] 7.216916 6.741143 ...   7.212970 6.944808 7.524076 7.000507 7.395848\n",
       "[19,] 7.038220 6.767403 ...   7.192784 6.704130 7.922927 7.517737 7.320402\n",
       "[20,] 7.132000 6.422840 ...   6.213799 6.653257 7.843359 7.496424 7.457438\n",
       "[21,] 7.230895 7.083003 ...   7.505434 7.136236 7.436689 7.640591 7.622945\n",
       "[22,] 6.931073 6.516332 ...   7.235795 7.321840 7.950995 7.356798 7.718706\n",
       "[23,] 6.970322 6.883504 ...   6.278289 6.798593 7.175178 7.818177 7.050217\n",
       "[24,] 6.807953 7.600760 ...   6.867065 7.001656 7.573410 7.312520 7.240435\n",
       "[25,] 7.670189 6.936921 ...   6.930271 7.253430 7.621900 6.987278 7.501033\n",
       "[26,] 7.227770 6.839501 ...   7.167848 6.283760 7.697695 7.901738 6.976528\n",
       "[27,] 6.319740 6.853614 ...   7.522299 6.713366 7.537995 8.020366 7.234964\n",
       "[28,] 6.744745 6.473631 ...   6.614026 6.835901 6.694211 7.546024 6.776556\n",
       "[29,] 6.484142 7.134970 ...   6.730203 6.697315 6.999972 7.045313 7.065387\n",
       "[30,] 7.091293 7.122106 ...   6.129188 7.206891 7.422070 7.680994 7.188198\n",
       "[31,] ...      ...            ...      ...      ...      ...      ...     \n",
       "[32,] 7.022283 6.448056 ...   6.798838 7.184041 6.654137 7.454646 6.571522\n",
       "[33,] 7.576075 7.041147 ...   6.770146 7.491213 7.551163 7.623256 6.861225\n",
       "[34,] 6.764980 6.196464 ...   6.575593 6.679527 7.261645 7.647759 6.725941\n",
       "[35,] 6.981472 6.686598 ...   7.135060 6.141253 7.327991 7.135039 7.146282\n",
       "[36,] 7.523638 6.651936 ...   6.701625 7.194567 6.852843 6.811447 7.279661\n",
       "[37,] 6.217876 7.239283 ...   6.635254 6.745988 6.942161 7.183465 6.821416\n",
       "[38,] 7.094067 7.107455 ...   6.949229 6.734801 6.993274 7.401383 6.394425\n",
       "[39,] 6.951817 7.211310 ...   7.933191 6.562046 7.411076 7.468402 6.747885\n",
       "[40,] 8.514872 6.886556 ...   7.326689 8.200052 8.125755 7.204009 7.605651\n",
       "[41,] 6.213762 7.211702 ...   7.194509 6.054935 7.566866 7.462012 7.179574\n",
       "[42,] 7.826827 6.901886 ...   6.580014 7.771582 6.942378 6.712769 7.692631\n",
       "[43,] 7.012928 6.836043 ...   7.050926 6.520756 6.626845 6.687689 6.978732\n",
       "[44,] 6.629396 7.196916 ...   7.478981 6.540480 7.559689 7.965344 7.533094\n",
       "[45,] 7.493682 6.350228 ...   6.765755 7.402282 7.361905 6.996306 7.404109\n",
       "[46,] 8.300273 7.597224 ...   7.245256 7.574240 7.617512 7.453286 8.135877\n",
       "[47,] 6.814591 6.375737 ...   6.737894 7.242030 6.310346 6.982834 6.958768\n",
       "[48,] 6.696338 6.726209 ...   6.555561 6.786843 7.144634 7.868506 7.230320\n",
       "[49,] 7.815716 6.790688 ...   6.749559 7.849790 7.358808 6.735376 7.660145\n",
       "[50,] 6.723005 6.661035 ...   6.632207 6.841987 7.112341 6.928933 6.349109\n",
       "[51,] 6.934770 7.365848 ...   7.492853 6.779208 7.992333 7.568806 7.652321\n",
       "[52,] 7.437216 5.969647 ...   0.000000 6.968253 6.548030 7.287177 7.091626\n",
       "[53,] 6.536162 6.612227 ...   6.968253 0.000000 6.977246 8.130864 6.914158\n",
       "[54,] 7.531378 6.883139 ...   6.548030 6.977246 0.000000 7.379676 6.811528\n",
       "[55,] 7.402409 6.995874 ...   7.287177 8.130864 7.379676 0.000000 7.606104\n",
       "[56,] 6.881053 6.772533 ...   7.091626 6.914158 6.811528 7.606104 0.000000\n",
       "[57,] 7.184084 6.208851 ...   6.740650 6.721486 6.944332 6.862091 6.346142\n",
       "[58,] 6.675388 6.887832 ...   6.861768 6.452893 6.761424 6.765759 7.163376\n",
       "[59,] 7.149873 7.519337 ...   6.984776 7.148561 7.913433 6.922713 8.029449\n",
       "[60,] 7.624839 6.981500 ...   6.434139 7.459472 6.715434 6.921031 7.355776\n",
       "[61,] 7.877302 6.854127 ...   6.902851 7.506110 7.395605 6.007327 7.862724\n",
       "      [,17]    [,18]    [,19]    [,20]    [,21]   \n",
       " [1,] 7.086344 6.622614 6.915535 7.195151 7.014553\n",
       " [2,] 6.683185 7.351073 7.328237 6.830227 7.493394\n",
       " [3,] 6.607851 6.488263 7.071615 6.555234 6.646627\n",
       " [4,] 6.313805 6.796768 7.535077 6.927990 7.613842\n",
       " [5,] 7.374731 6.921143 7.269307 7.244717 6.614343\n",
       " [6,] 7.914276 6.166738 6.833255 6.961519 6.685854\n",
       " [7,] 7.838371 6.972587 6.890290 7.084873 6.872113\n",
       " [8,] 7.148081 7.253933 7.374154 6.687949 7.487300\n",
       " [9,] 7.184084 6.675388 7.149873 7.624839 7.877302\n",
       "[10,] 6.208851 6.887832 7.519337 6.981500 6.854127\n",
       "[11,] 7.227265 6.896083 6.996008 7.445443 7.334461\n",
       "[12,] 6.926874 5.957581 7.510998 7.191021 6.519962\n",
       "[13,] 7.153098 6.284371 6.839328 6.806357 7.144566\n",
       "[14,] 7.178285 6.681362 6.991950 7.480716 6.935519\n",
       "[15,] 7.419374 6.434230 7.123935 7.355626 6.944701\n",
       "[16,] 7.126033 6.405337 6.902442 6.512670 6.849893\n",
       "[17,] 6.397766 6.802356 7.482628 6.635853 7.099071\n",
       "[18,] 7.159677 7.027901 7.060661 6.958650 7.069872\n",
       "[19,] 6.899158 6.129990 7.145075 7.832754 6.968023\n",
       "[20,] 6.935992 6.852858 6.977370 7.452109 6.260690\n",
       "[21,] 7.836142 6.513890 7.293929 8.162426 7.229507\n",
       "[22,] 7.057906 6.100484 7.213270 7.371046 6.645116\n",
       "[23,] 7.038747 6.890239 7.079830 6.857572 7.670342\n",
       "[24,] 7.507186 7.014713 7.278952 7.225054 6.990080\n",
       "[25,] 6.889386 6.633420 7.366672 6.887892 6.578612\n",
       "[26,] 7.038838 6.686934 6.750834 7.007964 6.427871\n",
       "[27,] 7.724485 6.413620 7.201317 7.726384 7.319786\n",
       "[28,] 6.144059 6.263007 6.034981 6.930034 7.359602\n",
       "[29,] 7.225766 6.246895 6.747111 7.057633 6.918091\n",
       "[30,] 7.915533 6.840719 7.338351 6.921374 6.832833\n",
       "[31,] ...      ...      ...      ...      ...     \n",
       "[32,] 7.075120 6.680080 7.429063 7.535101 7.790860\n",
       "[33,] 6.885034 6.562547 6.757024 7.740066 7.037222\n",
       "[34,] 6.187761 7.281066 7.324521 7.241849 7.538311\n",
       "[35,] 6.931685 6.506209 7.041231 7.100426 6.316951\n",
       "[36,] 6.997698 6.202281 7.256964 7.022401 6.542995\n",
       "[37,] 6.497520 6.757741 7.292941 6.356954 7.277895\n",
       "[38,] 6.763388 6.612021 6.872744 7.127632 7.176835\n",
       "[39,] 7.234368 6.437256 7.536386 7.202479 7.195095\n",
       "[40,] 7.389949 7.076239 7.658147 7.006634 7.006431\n",
       "[41,] 7.234843 6.086896 7.427511 6.790262 7.435314\n",
       "[42,] 6.983465 7.316410 7.929911 6.486533 6.984636\n",
       "[43,] 6.804417 6.201649 7.129430 7.170771 6.288472\n",
       "[44,] 7.364537 6.395493 7.288763 7.827945 6.989231\n",
       "[45,] 6.888800 7.171481 6.614248 7.542383 7.311065\n",
       "[46,] 8.373433 7.511937 7.390055 7.793481 6.527578\n",
       "[47,] 6.326456 6.529246 7.436925 7.007933 6.994820\n",
       "[48,] 7.420145 7.064627 7.343617 6.864752 7.498186\n",
       "[49,] 7.120957 6.692679 7.405096 6.918496 6.671029\n",
       "[50,] 6.448053 6.696958 7.445191 6.927747 7.416366\n",
       "[51,] 7.454395 6.657961 7.462170 7.183906 7.138352\n",
       "[52,] 6.740650 6.861768 6.984776 6.434139 6.902851\n",
       "[53,] 6.721486 6.452893 7.148561 7.459472 7.506110\n",
       "[54,] 6.944332 6.761424 7.913433 6.715434 7.395605\n",
       "[55,] 6.862091 6.765759 6.922713 6.921031 6.007327\n",
       "[56,] 6.346142 7.163376 8.029449 7.355776 7.862724\n",
       "[57,] 0.000000 6.657113 7.691168 6.655254 7.338731\n",
       "[58,] 6.657113 0.000000 6.690479 7.488726 6.383075\n",
       "[59,] 7.691168 6.690479 0.000000 6.985078 6.998701\n",
       "[60,] 6.655254 7.488726 6.985078 0.000000 6.646204\n",
       "[61,] 7.338731 6.383075 6.998701 6.646204 0.000000"
      ]
     },
     "metadata": {},
     "output_type": "display_data"
    }
   ],
   "source": [
    "sigma[lower.tri(sigma)] = t(sigma)[lower.tri(sigma)]\n",
    "sigma\n"
   ]
  }
 ],
 "metadata": {
  "kernelspec": {
   "display_name": "R",
   "language": "R",
   "name": "ir"
  },
  "language_info": {
   "codemirror_mode": "r",
   "file_extension": ".r",
   "mimetype": "text/x-r-source",
   "name": "R",
   "pygments_lexer": "r",
   "version": "3.6.0"
  }
 },
 "nbformat": 4,
 "nbformat_minor": 2
}
