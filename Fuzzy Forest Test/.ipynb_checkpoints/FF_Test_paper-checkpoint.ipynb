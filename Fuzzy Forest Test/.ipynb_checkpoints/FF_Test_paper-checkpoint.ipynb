{
 "cells": [
  {
   "cell_type": "markdown",
   "metadata": {},
   "source": [
    "# Import"
   ]
  },
  {
   "cell_type": "code",
   "execution_count": 65,
   "metadata": {},
   "outputs": [],
   "source": [
    "library(\"fuzzyforest\")\n",
    "library(\"WGCNA\")"
   ]
  },
  {
   "cell_type": "markdown",
   "metadata": {},
   "source": [
    "# Data Set"
   ]
  },
  {
   "cell_type": "code",
   "execution_count": 31,
   "metadata": {},
   "outputs": [
    {
     "data": {
      "text/html": [
       "<table>\n",
       "<thead><tr><th></th><th scope=col>weight</th><th scope=col>MMT00000044</th><th scope=col>MMT00000046</th><th scope=col>MMT00000051</th><th scope=col>MMT00000076</th><th scope=col>MMT00000080</th><th scope=col>MMT00000102</th><th scope=col>MMT00000149</th><th scope=col>MMT00000159</th><th scope=col>MMT00000207</th><th scope=col>...</th><th scope=col>MMT00082822</th><th scope=col>MMT00082828</th><th scope=col>MMT00082829</th><th scope=col>MMT00082832</th><th scope=col>MMT00082847</th><th scope=col>MMT00082850</th><th scope=col>MMT00082869</th><th scope=col>MMT00082877</th><th scope=col>MMT00082899</th><th scope=col>MMT00082906</th></tr></thead>\n",
       "<tbody>\n",
       "\t<tr><th scope=row>F2_81</th><td>33.7       </td><td> 0.0114    </td><td>-0.0114    </td><td> 0.05210   </td><td>-0.02580000</td><td>-0.14000   </td><td>0.11500    </td><td>-0.0221    </td><td>-0.131000  </td><td>-0.00865   </td><td>...        </td><td>-0.02840   </td><td>-0.0518000 </td><td>-0.0627    </td><td>-0.1970    </td><td> 0.0425    </td><td> 0.1130    </td><td> 0.1260    </td><td> 2.38e-02  </td><td> 0.0207    </td><td>-0.0673    </td></tr>\n",
       "\t<tr><th scope=row>F2_271</th><td>42.3       </td><td>-0.0130    </td><td>-0.0426    </td><td> 0.00537   </td><td> 0.06198364</td><td> 0.00563   </td><td>0.00790    </td><td> 0.0266    </td><td> 0.042200  </td><td>-0.02810   </td><td>...        </td><td>-0.06510   </td><td>-0.0395644 </td><td> 0.0273    </td><td> 0.0184    </td><td> 0.0488    </td><td> 0.1220    </td><td>-0.0390    </td><td>-5.27e-05  </td><td>-0.8840    </td><td>-0.0320    </td></tr>\n",
       "\t<tr><th scope=row>F2_80</th><td>42.7       </td><td> 0.0296    </td><td>-0.0687    </td><td> 0.10100   </td><td> 0.01030000</td><td>-0.10300   </td><td>0.06970    </td><td> 0.0869    </td><td> 0.109000  </td><td>-0.02990   </td><td>...        </td><td>-0.14100   </td><td>-0.0188000 </td><td>-0.0476    </td><td> 0.1630    </td><td> 0.0237    </td><td> 0.1280    </td><td>-0.0430    </td><td>-9.80e-02  </td><td> 0.0389    </td><td> 0.0293    </td></tr>\n",
       "\t<tr><th scope=row>F2_188</th><td>31.5       </td><td> 0.0106    </td><td>-0.0358    </td><td>-0.04970   </td><td> 0.01010000</td><td> 0.12100   </td><td>0.00198    </td><td>-0.2130    </td><td> 0.000801  </td><td>-0.05330   </td><td>...        </td><td> 0.05040   </td><td>-0.0085600 </td><td> 0.0372    </td><td>-0.1230    </td><td>-0.1170    </td><td>-0.0085    </td><td> 0.1190    </td><td>-4.54e-02  </td><td> 0.1530    </td><td>-0.0255    </td></tr>\n",
       "\t<tr><th scope=row>F2_307</th><td>35.3       </td><td> 0.0278    </td><td>-0.0789    </td><td> 0.03410   </td><td>-2.00000000</td><td> 0.00294   </td><td>0.09570    </td><td> 0.1560    </td><td>-0.058200  </td><td>-0.03450   </td><td>...        </td><td>-0.00302   </td><td>-0.0789000 </td><td> 0.0151    </td><td>-0.2600    </td><td> 0.0856    </td><td> 0.0639    </td><td>-0.0366    </td><td> 1.12e-01  </td><td>-0.0633    </td><td> 0.0458    </td></tr>\n",
       "</tbody>\n",
       "</table>\n"
      ],
      "text/latex": [
       "\\begin{tabular}{r|lllllllllllllllllllllllllllllllllllllllllllllllllllllllllllllllllllllllllllllllllllllllllllllllllllllllllllllllllllllllllllllllllllllllllllllllllllllllllllllllllllllllllllllllllllllllllllllllllllllllllllllllllllllllllllllllllllllllllllllllllllllllllllllllllllllllllllllllllllllllllllllllllllllllllllllllllllllllllllllllllllllllllllllllllllllllllllllllllllllllllllllllllllllllllllllllllllllllllllllllllllllllllllllllllllllllllllllllllllllllllllllllllllllllllllllllllllllllllllllllllllllllllllllllllllllllllllllllllllllllllllllllllllllllllllllllllllllllllllllllllllllllllllllllllllllllllllllllllllllllllllllllllllllllllllllllllllllllllllllllllllllllllllllllllllllllllllllllllllllllllllllllllllllllllllllllllllllllllllllllllllllllllllllllllllllllllllllllllllllllllllllllllllllllllllllllllllllllllllllllllllllllllllllllllllllllllllllllllllllllllllllllllllllllllllllllllllllllllllllllllllllllllllllllllllllllllllllllllllllllllllllllllllllllllllllllllllllllllllllllllllllllllllllllllllllllllllllllllllllllllllllllllllllllllllllllllllllllllllllllllllllllllllllllllllllllllllllllllllllllllllllllllllllllllllllllllllllllllllllllllllllllllllllllllllllllllllllllllllllllllllllllllllllllllllllllllllllllllllllllllllllllllllllllllllllllllllllllllllllllllllllllllllllllllllllllllllllllllllllllllllllllllllllllllllllllllllllllllllllllllllllllllllllllllllllllllllllllllllllllllllllllllllllllllllllllllllllllllllllllllllllllllllllllllllllllllllllllllllllllllllllllllllllllllllllllllllllllllllllllllllllllllllllllllllllllllllllllllllllllllllllllllllllllllllllllllllllllllllllllllllllllllllllllllllllllllllllllllllllllllllllllllllllllllllllllllllllllllllllllllllllllllllllllllllllllllllllllllllllllllllllllllllllllllllllllllllllllllllllllllllllllllllllllllllllllllllllllllllllllllllllllllllllllllllllllllllllllllllllllllllllllllllllllllllllllllllllllllllllllllllllllllllllllllllllllllllllllllllllllllllllllllllllllllllllllllllllllllllllllllllllllllllllllllllllllllllllllllllllllllllllllllllllllllllllllllllllllllllllllllllllllllllllllllllllllllllllllllllllllllllllllllllllllllllllllllllllllllllllllllllllllllllllllllllllllllllllllllllllllllllllllllllllllllllllllllllllllllllllllllllllllllllllllllllllllllllllllllllllllllllllllllllllllllllllllllllllllllllllllllllllllllllllllllllllllllllllllllllllllllllllllllllllllllllllllllllllllllllllllllllllllllllllllllllllllllllllllllllllllllllllllllllllllllllllllllllllllllllllllllllllllllllllllllllllllllllllllllllllllllllllllllllllllllllllllllllllllllllllllllllllllllllllllllllllllllllllllllllllllllllllllllllllllllllllllllllllllllllllllllllllllllllllllllllllllllllllllllllllllllllllllllllllllllllllllllllllllllllllllllllllllllllllllllllllllllllllllllllllllllllllllllllllllllllllllllllllllllllllllllllllllllllllllllllllllllllllllllllllllllllllllllllllllllllllllllllllllllllllllllllllllllllllllllllllllllllllllllllllllllllllllllllllllllllllllllllllllllllllllllllllllllllllllllllllllllllllllllllllllllllllllllllllllllllllllllllllllllllllllllllllllllllllllllllllllllllllllllllllllllllllllllllllllllllllllllllllllllllllllllllllllllllllllllllllllllllllllllllllllllllllllllllllllllllllllllllllllllllllllllllllllllllllllllllllllllllllllllllllllllllllllllllllllllllllllllllllllllllllllllllllllllllllllllllllllllllllllllllllllllllllllllllllllllllllllllllllllllllllllllllllllllllllllllllllllllllllllllllllllllllllllllllllllllllllllllllllllllllllllllllllllllllllllllllllllllllllllllllllllllllllllllllllllllllllllllllllllllllllllllllllllllllllllllllllllllllllllllllllllllllllllllllllllllllllllllllllllllllllllllllllllllllllllllllllllllllllllllllllllllllllllllllllllllllllllllllllllllllllllll}\n",
       "  & weight & MMT00000044 & MMT00000046 & MMT00000051 & MMT00000076 & MMT00000080 & MMT00000102 & MMT00000149 & MMT00000159 & MMT00000207 & ... & MMT00082822 & MMT00082828 & MMT00082829 & MMT00082832 & MMT00082847 & MMT00082850 & MMT00082869 & MMT00082877 & MMT00082899 & MMT00082906\\\\\n",
       "\\hline\n",
       "\tF2\\_81 & 33.7        &  0.0114     & -0.0114     &  0.05210    & -0.02580000 & -0.14000    & 0.11500     & -0.0221     & -0.131000   & -0.00865    & ...         & -0.02840    & -0.0518000  & -0.0627     & -0.1970     &  0.0425     &  0.1130     &  0.1260     &  2.38e-02   &  0.0207     & -0.0673    \\\\\n",
       "\tF2\\_271 & 42.3        & -0.0130     & -0.0426     &  0.00537    &  0.06198364 &  0.00563    & 0.00790     &  0.0266     &  0.042200   & -0.02810    & ...         & -0.06510    & -0.0395644  &  0.0273     &  0.0184     &  0.0488     &  0.1220     & -0.0390     & -5.27e-05   & -0.8840     & -0.0320    \\\\\n",
       "\tF2\\_80 & 42.7        &  0.0296     & -0.0687     &  0.10100    &  0.01030000 & -0.10300    & 0.06970     &  0.0869     &  0.109000   & -0.02990    & ...         & -0.14100    & -0.0188000  & -0.0476     &  0.1630     &  0.0237     &  0.1280     & -0.0430     & -9.80e-02   &  0.0389     &  0.0293    \\\\\n",
       "\tF2\\_188 & 31.5        &  0.0106     & -0.0358     & -0.04970    &  0.01010000 &  0.12100    & 0.00198     & -0.2130     &  0.000801   & -0.05330    & ...         &  0.05040    & -0.0085600  &  0.0372     & -0.1230     & -0.1170     & -0.0085     &  0.1190     & -4.54e-02   &  0.1530     & -0.0255    \\\\\n",
       "\tF2\\_307 & 35.3        &  0.0278     & -0.0789     &  0.03410    & -2.00000000 &  0.00294    & 0.09570     &  0.1560     & -0.058200   & -0.03450    & ...         & -0.00302    & -0.0789000  &  0.0151     & -0.2600     &  0.0856     &  0.0639     & -0.0366     &  1.12e-01   & -0.0633     &  0.0458    \\\\\n",
       "\\end{tabular}\n"
      ],
      "text/markdown": [
       "\n",
       "| <!--/--> | weight | MMT00000044 | MMT00000046 | MMT00000051 | MMT00000076 | MMT00000080 | MMT00000102 | MMT00000149 | MMT00000159 | MMT00000207 | ... | MMT00082822 | MMT00082828 | MMT00082829 | MMT00082832 | MMT00082847 | MMT00082850 | MMT00082869 | MMT00082877 | MMT00082899 | MMT00082906 |\n",
       "|---|---|---|---|---|---|---|---|---|---|---|---|---|---|---|---|---|---|---|---|---|---|\n",
       "| F2_81 | 33.7        |  0.0114     | -0.0114     |  0.05210    | -0.02580000 | -0.14000    | 0.11500     | -0.0221     | -0.131000   | -0.00865    | ...         | -0.02840    | -0.0518000  | -0.0627     | -0.1970     |  0.0425     |  0.1130     |  0.1260     |  2.38e-02   |  0.0207     | -0.0673     |\n",
       "| F2_271 | 42.3        | -0.0130     | -0.0426     |  0.00537    |  0.06198364 |  0.00563    | 0.00790     |  0.0266     |  0.042200   | -0.02810    | ...         | -0.06510    | -0.0395644  |  0.0273     |  0.0184     |  0.0488     |  0.1220     | -0.0390     | -5.27e-05   | -0.8840     | -0.0320     |\n",
       "| F2_80 | 42.7        |  0.0296     | -0.0687     |  0.10100    |  0.01030000 | -0.10300    | 0.06970     |  0.0869     |  0.109000   | -0.02990    | ...         | -0.14100    | -0.0188000  | -0.0476     |  0.1630     |  0.0237     |  0.1280     | -0.0430     | -9.80e-02   |  0.0389     |  0.0293     |\n",
       "| F2_188 | 31.5        |  0.0106     | -0.0358     | -0.04970    |  0.01010000 |  0.12100    | 0.00198     | -0.2130     |  0.000801   | -0.05330    | ...         |  0.05040    | -0.0085600  |  0.0372     | -0.1230     | -0.1170     | -0.0085     |  0.1190     | -4.54e-02   |  0.1530     | -0.0255     |\n",
       "| F2_307 | 35.3        |  0.0278     | -0.0789     |  0.03410    | -2.00000000 |  0.00294    | 0.09570     |  0.1560     | -0.058200   | -0.03450    | ...         | -0.00302    | -0.0789000  |  0.0151     | -0.2600     |  0.0856     |  0.0639     | -0.0366     |  1.12e-01   | -0.0633     |  0.0458     |\n",
       "\n"
      ],
      "text/plain": [
       "       weight MMT00000044 MMT00000046 MMT00000051 MMT00000076 MMT00000080\n",
       "F2_81  33.7    0.0114     -0.0114      0.05210    -0.02580000 -0.14000   \n",
       "F2_271 42.3   -0.0130     -0.0426      0.00537     0.06198364  0.00563   \n",
       "F2_80  42.7    0.0296     -0.0687      0.10100     0.01030000 -0.10300   \n",
       "F2_188 31.5    0.0106     -0.0358     -0.04970     0.01010000  0.12100   \n",
       "F2_307 35.3    0.0278     -0.0789      0.03410    -2.00000000  0.00294   \n",
       "       MMT00000102 MMT00000149 MMT00000159 MMT00000207 ... MMT00082822\n",
       "F2_81  0.11500     -0.0221     -0.131000   -0.00865    ... -0.02840   \n",
       "F2_271 0.00790      0.0266      0.042200   -0.02810    ... -0.06510   \n",
       "F2_80  0.06970      0.0869      0.109000   -0.02990    ... -0.14100   \n",
       "F2_188 0.00198     -0.2130      0.000801   -0.05330    ...  0.05040   \n",
       "F2_307 0.09570      0.1560     -0.058200   -0.03450    ... -0.00302   \n",
       "       MMT00082828 MMT00082829 MMT00082832 MMT00082847 MMT00082850 MMT00082869\n",
       "F2_81  -0.0518000  -0.0627     -0.1970      0.0425      0.1130      0.1260    \n",
       "F2_271 -0.0395644   0.0273      0.0184      0.0488      0.1220     -0.0390    \n",
       "F2_80  -0.0188000  -0.0476      0.1630      0.0237      0.1280     -0.0430    \n",
       "F2_188 -0.0085600   0.0372     -0.1230     -0.1170     -0.0085      0.1190    \n",
       "F2_307 -0.0789000   0.0151     -0.2600      0.0856      0.0639     -0.0366    \n",
       "       MMT00082877 MMT00082899 MMT00082906\n",
       "F2_81   2.38e-02    0.0207     -0.0673    \n",
       "F2_271 -5.27e-05   -0.8840     -0.0320    \n",
       "F2_80  -9.80e-02    0.0389      0.0293    \n",
       "F2_188 -4.54e-02    0.1530     -0.0255    \n",
       "F2_307  1.12e-01   -0.0633      0.0458    "
      ]
     },
     "metadata": {},
     "output_type": "display_data"
    }
   ],
   "source": [
    "data = Liver_Expr\n",
    "data[1:5,]"
   ]
  },
  {
   "cell_type": "code",
   "execution_count": 32,
   "metadata": {},
   "outputs": [],
   "source": [
    "weight = data[,1] # label\n",
    "expression_levels = data[,-1] #data matrix; removing the first column"
   ]
  },
  {
   "cell_type": "markdown",
   "metadata": {},
   "source": [
    "# Fuzzy Forest"
   ]
  },
  {
   "cell_type": "markdown",
   "metadata": {},
   "source": [
    "## paramters"
   ]
  },
  {
   "cell_type": "code",
   "execution_count": 33,
   "metadata": {},
   "outputs": [],
   "source": [
    "# params is stored in xxx_control object\n",
    "# power: belta\n",
    "WGCNA_params = WGCNA_control(power=6,TOMType=\"unsigned\",minModuleSize=30,\n",
    "                            numericLabels=TRUE,pamRespectsDendro=FALSE)"
   ]
  },
  {
   "cell_type": "code",
   "execution_count": 68,
   "metadata": {},
   "outputs": [],
   "source": [
    "mtry_factor     = 1 # mtry = sqrt(p)*mtry_factor; mtry is the num in subspace method\n",
    "drop_fraction   = 0.25 # drop xxx in each iteration of RFE-RF\n",
    "number_selected = 10 # we want 10 out of all features\n",
    "keep_fraction   = 0.05 # keep xxx for each module\n",
    "min_ntree        = 5000 # used for calculating ntree\n",
    "ntree_factor    = 5 # used for calculating ntree\n",
    "final_ntree     = 5000 # RF in selecting step\n",
    "\n",
    "screen_params = screen_control(drop_fraction = drop_fraction,\n",
    "                              keep_fraction  = keep_fraction,\n",
    "                              min_ntree      = min_ntree,\n",
    "                              mtry_factor    = mtry_factor,\n",
    "                              ntree_factor   = ntree_factor)\n",
    "\n",
    "select_params = select_control(drop_fraction  = drop_fraction,\n",
    "                              number_selected = number_selected,\n",
    "                              min_ntree       = min_ntree,\n",
    "                              mtry_factor     = mtry_factor,\n",
    "                              ntree_factor    = ntree_factor)                              "
   ]
  },
  {
   "cell_type": "markdown",
   "metadata": {},
   "source": [
    "## Fitting"
   ]
  },
  {
   "cell_type": "code",
   "execution_count": null,
   "metadata": {},
   "outputs": [],
   "source": [
    "# a \"fuzzy_forest\" object\n",
    "wff_fit = wff(expression_levels,weight,WGCNA_params = WGCNA_params,\n",
    "             screen_params = screen_params,\n",
    "             select_params = select_params,\n",
    "             final_ntree = final_ntree)"
   ]
  },
  {
   "cell_type": "code",
   "execution_count": 67,
   "metadata": {},
   "outputs": [
    {
     "name": "stdout",
     "output_type": "stream",
     "text": [
      "   feature_name variable_importance module_membership\n",
      "3   MMT00019254           12.233675                11\n",
      "8   MMT00067823            6.157368                 3\n",
      "6   MMT00038934            5.953642                 7\n",
      "2   MMT00006001            4.987260                 7\n",
      "5   MMT00032175            4.987139                 7\n",
      "7   MMT00067105            4.657142                 7\n",
      "4   MMT00030931            4.201821                 7\n",
      "1   MMT00002575            4.096195                 7\n",
      "10  MMT00078851            3.934766                 7\n",
      "9   MMT00072042            2.560721                 7\n"
     ]
    }
   ],
   "source": [
    "print(wff_fit)"
   ]
  }
 ],
 "metadata": {
  "kernelspec": {
   "display_name": "R",
   "language": "R",
   "name": "ir"
  },
  "language_info": {
   "codemirror_mode": "r",
   "file_extension": ".r",
   "mimetype": "text/x-r-source",
   "name": "R",
   "pygments_lexer": "r",
   "version": "3.6.0"
  }
 },
 "nbformat": 4,
 "nbformat_minor": 2
}
