{
 "cells": [
  {
   "cell_type": "code",
   "execution_count": 16,
   "metadata": {},
   "outputs": [],
   "source": [
    "import numpy as np\n",
    "A = np.array([[1,2,3],[3,4,5],[4,5,6]])"
   ]
  },
  {
   "cell_type": "code",
   "execution_count": 17,
   "metadata": {},
   "outputs": [
    {
     "data": {
      "text/plain": [
       "(array([[-0.31010775,  0.91236211,  0.26726124],\n",
       "        [-0.59675508,  0.0320348 , -0.80178373],\n",
       "        [-0.74007875, -0.40812885,  0.53452248]]),\n",
       " array([1.18491230e+01, 7.73487739e-01, 5.16653444e-17]),\n",
       " array([[-0.42709389, -0.56608658, -0.70507928],\n",
       "        [-0.8067987 , -0.11348706,  0.57982458],\n",
       "        [-0.40824829,  0.81649658, -0.40824829]]))"
      ]
     },
     "execution_count": 17,
     "metadata": {},
     "output_type": "execute_result"
    }
   ],
   "source": [
    "np.linalg.svd(A, full_matrices=True)"
   ]
  },
  {
   "cell_type": "code",
   "execution_count": 18,
   "metadata": {},
   "outputs": [
    {
     "data": {
      "text/plain": [
       "array([[1, 2, 3],\n",
       "       [3, 4, 5],\n",
       "       [4, 5, 6]])"
      ]
     },
     "execution_count": 18,
     "metadata": {},
     "output_type": "execute_result"
    }
   ],
   "source": [
    "A"
   ]
  },
  {
   "cell_type": "code",
   "execution_count": 20,
   "metadata": {},
   "outputs": [
    {
     "data": {
      "text/plain": [
       "(array([[-0.31010775,  0.91236211,  0.26726124],\n",
       "        [-0.59675508,  0.0320348 , -0.80178373],\n",
       "        [-0.74007875, -0.40812885,  0.53452248]]),\n",
       " array([1.18491230e+01, 7.73487739e-01, 1.34925325e-16]),\n",
       " array([[-0.56608658, -0.42709389, -0.70507928],\n",
       "        [-0.11348706, -0.8067987 ,  0.57982458],\n",
       "        [-0.81649658,  0.40824829,  0.40824829]]))"
      ]
     },
     "execution_count": 20,
     "metadata": {},
     "output_type": "execute_result"
    }
   ],
   "source": [
    "B = np.array([[2,1,3],[4,3,5],[5,4,6]]) # permute the column\n",
    "np.linalg.svd(B, full_matrices=True)"
   ]
  },
  {
   "cell_type": "markdown",
   "metadata": {},
   "source": [
    "Therefore in SVD, if we change the column, principal compenents will be the same.\n",
    "$A = U\\Sigma V^{T}$, only V (which is coefficient of PC) will permute"
   ]
  }
 ],
 "metadata": {
  "kernelspec": {
   "display_name": "Python 3",
   "language": "python",
   "name": "python3"
  },
  "language_info": {
   "codemirror_mode": {
    "name": "ipython",
    "version": 3
   },
   "file_extension": ".py",
   "mimetype": "text/x-python",
   "name": "python",
   "nbconvert_exporter": "python",
   "pygments_lexer": "ipython3",
   "version": "3.7.0"
  }
 },
 "nbformat": 4,
 "nbformat_minor": 2
}
