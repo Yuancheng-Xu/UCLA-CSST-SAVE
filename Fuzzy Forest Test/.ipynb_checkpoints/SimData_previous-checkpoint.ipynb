{
 "cells": [
  {
   "cell_type": "code",
   "execution_count": 1,
   "metadata": {},
   "outputs": [],
   "source": [
    "library(MASS)"
   ]
  },
  {
   "cell_type": "markdown",
   "metadata": {},
   "source": [
    "# Create data X and label y"
   ]
  },
  {
   "cell_type": "markdown",
   "metadata": {},
   "source": [
    "The data set X: please read simulation_AR (pdf file) on how the construction of X.\n",
    "X (T*p) satisfies the following:\n",
    "* Each row of X has covariance matrix cov_feature, which has three block matrix and an identity matrix on the diagonal.\n",
    "* Each column of X has the same longitudinal covariance structure (AR).\n",
    "\n",
    "The label y: suppose there are 100*4 features, denoted by $X^{(1)},X^{(2)},...,X^{(400)}$.\n",
    "Our model is $$y_{t} = 5X^{(1)}_{t}+2X^{(2)}_{t}+2X^{(3)}_{t}+5X^{(2)}_{t}X^{(3)}_{t}\n",
    "+5X_{t}^{(301)}+2X^{(302)}_{t}+2X^{(303)}_{t}+5X^{(302)}_{t}X^{(303)}_{t}\n",
    "+\\epsilon_{t}$$ where $\\epsilon_{t}\\stackrel{}{\\sim} N(0,\\alpha I)$. $\\alpha$ is the noise level (in the code, it is called var_noise)\n",
    "\n",
    "Therefore, the expected results of feature selection are:\n",
    "* The module 1 and 4 are chosen\n",
    "* The feature 1,2,3,301,302,303 are chosen"
   ]
  },
  {
   "cell_type": "markdown",
   "metadata": {},
   "source": [
    "You'd better not change p0 since our model of the label depend on p0"
   ]
  },
  {
   "cell_type": "code",
   "execution_count": 2,
   "metadata": {},
   "outputs": [],
   "source": [
    "# Generate X for one sample; X is T*p\n",
    "# p features and T oberservations\n",
    "# p= 4*p0 : the first 3 p0 features are 3 modules, independent bewteen modules and\n",
    "# correlated (cov=0.8) within each. The last module is independent within and with the \n",
    "# first three\n",
    "# var_noise: noise level (used in generating label y)\n",
    "# cor_within: the correlation within module 1,2 and 3. Default is 0.8. If change to \n",
    "# 0, then along the time is independent (no time structure), but feature within 1,2,3 \n",
    "# modules are still correlated with cov = 0.8\n",
    "\n",
    "# return a T*(p+1) matrix, the last row is the label y\n",
    "Data_AR = function(T,var_noise,cor_within=0.8){\n",
    "    \n",
    "    p0 = 100\n",
    "    p = 4*p0\n",
    "    \n",
    "    #### covariance matrix between features: it is either 0 (independent) or 0.8 ####\n",
    "    cov_feature = matrix(0,nrow = p, ncol = p)\n",
    "    # cov within the first three modules\n",
    "    cov_star = matrix(0.8,nrow = p0,ncol = p0)\n",
    "    diag(cov_star)=1\n",
    "    # put cov_star into cov_feature\n",
    "    cov_feature[1:p0,1:p0] = cov_star\n",
    "    cov_feature[(p0+1):(2*p0),(p0+1):(2*p0)] = cov_star\n",
    "    cov_feature[(2*p0+1):(3*p0),(2*p0+1):(3*p0)] = cov_star\n",
    "    cov_feature[(3*p0+1):(4*p0),(3*p0+1):(4*p0)] = diag(p0)\n",
    "    ####\n",
    "    \n",
    "    #### X_data ####\n",
    "    # T*p Data matrix, pre-allocate memory\n",
    "    X_data = matrix(0,nrow = T,ncol = p)\n",
    "    # the first row\n",
    "    X_data[1,] = mvrnorm(n = 1, rep(0, p), cov_feature)\n",
    "    # the next row depends on the previous one\n",
    "    for (i in 2:T){\n",
    "        tmp = (1-cor_within^2)^(1/2)\n",
    "        X_data[i,] = cor_within*X_data[i-1,]+tmp*mvrnorm(n = 1, rep(0, p), cov_feature)\n",
    "    }\n",
    "    ###\n",
    "    \n",
    "    ### create labels y ###\n",
    "    # create a n vector for labels\n",
    "    y = matrix(data=0,nrow = T)\n",
    "    # build y according to our model\n",
    "    y = (5*X_data[,1]+2*X_data[,2]+2*X_data[,3]+5*X_data[,2]*X_data[,3]\n",
    "         +5*X_data[,301]+2*X_data[,302]+2*X_data[,303]+5*X_data[,302]*X_data[,303]\n",
    "         +mvrnorm(n = 1, rep(0, T), diag(x=var_noise,T)))\n",
    "    ###\n",
    "    \n",
    "    # return a T*(p+1) matrix\n",
    "    return (cbind(X_data,y))\n",
    "}"
   ]
  },
  {
   "cell_type": "markdown",
   "metadata": {},
   "source": [
    "# Test"
   ]
  },
  {
   "cell_type": "code",
   "execution_count": 3,
   "metadata": {},
   "outputs": [
    {
     "data": {
      "text/html": [
       "<table>\n",
       "<thead><tr><th scope=col></th><th scope=col></th><th scope=col></th><th scope=col></th><th scope=col></th><th scope=col></th><th scope=col></th><th scope=col></th><th scope=col></th><th scope=col></th><th scope=col>...</th><th scope=col></th><th scope=col></th><th scope=col></th><th scope=col></th><th scope=col></th><th scope=col></th><th scope=col></th><th scope=col></th><th scope=col></th><th scope=col>y</th></tr></thead>\n",
       "<tbody>\n",
       "\t<tr><td>-0.2914104 </td><td>-0.63026629</td><td>-0.4021940 </td><td>0.1281363  </td><td>0.5739251  </td><td>-0.5862260 </td><td>-0.33185775</td><td>-0.1390336 </td><td>-0.3448947 </td><td>0.1600565  </td><td>...        </td><td> 0.2527466 </td><td>0.2805203  </td><td>-0.3472624 </td><td>-0.44977872</td><td>-0.2505663 </td><td>1.8829548  </td><td> 1.26308183</td><td>-0.03061479</td><td> 0.7075738 </td><td> 0.04708205</td></tr>\n",
       "\t<tr><td> 0.4662102 </td><td>-0.22289197</td><td> 0.1556311 </td><td>1.0564471  </td><td>1.0861187  </td><td> 0.6039013 </td><td> 0.46372418</td><td> 0.9367936 </td><td> 0.7372861 </td><td>0.7891657  </td><td>...        </td><td> 0.2017965 </td><td>1.1395966  </td><td>-1.2612957 </td><td>-0.08603207</td><td>-0.8454392 </td><td>1.7373665  </td><td>-0.09971447</td><td> 0.75459947</td><td> 1.5027533 </td><td> 2.75049244</td></tr>\n",
       "\t<tr><td> 0.4462323 </td><td>-0.06042924</td><td> 0.2413065 </td><td>0.8997249  </td><td>0.4897849  </td><td> 0.9537360 </td><td> 0.33288940</td><td> 0.7151182 </td><td> 0.2548791 </td><td>0.5152065  </td><td>...        </td><td>-0.6963344 </td><td>0.8045154  </td><td>-0.2101597 </td><td>-0.75951663</td><td>-1.1865856 </td><td>0.1997048  </td><td> 0.36016685</td><td> 0.18381273</td><td> 0.6806605 </td><td> 2.59089045</td></tr>\n",
       "\t<tr><td> 0.4329178 </td><td> 0.42105181</td><td> 0.0769341 </td><td>0.3319665  </td><td>0.6022696  </td><td> 0.8213220 </td><td> 0.04763099</td><td> 0.8677284 </td><td>-0.1608225 </td><td>0.4832928  </td><td>...        </td><td>-0.4485637 </td><td>0.6588786  </td><td> 0.1092213 </td><td>-1.24946185</td><td>-0.4789227 </td><td>0.5945180  </td><td> 0.47763373</td><td> 0.81424835</td><td>-0.2612834 </td><td>-1.23760350</td></tr>\n",
       "</tbody>\n",
       "</table>\n"
      ],
      "text/latex": [
       "\\begin{tabular}{lllllllllllllllllllllllllllllllllllllllllllllllllllllllllllllllllllllllllllllllllllllllllllllllllllllllllllllllllllllllllllllllllllllllllllllllllllllllllllllllllllllllllllllllllllllllllllllllllllllllllllllllllllllllllllllllllllllllllllllllllllllllllllllllllllllllllllllllllllllllllllllllllllllllllllllllllllllllllllllllllllllllllllllllllllllllllllllllllllllllllllllllllllllllllllllllllllllllllllllllll}\n",
       "  &  &  &  &  &  &  &  &  &  & ... &  &  &  &  &  &  &  &  &  & y\\\\\n",
       "\\hline\n",
       "\t -0.2914104  & -0.63026629 & -0.4021940  & 0.1281363   & 0.5739251   & -0.5862260  & -0.33185775 & -0.1390336  & -0.3448947  & 0.1600565   & ...         &  0.2527466  & 0.2805203   & -0.3472624  & -0.44977872 & -0.2505663  & 1.8829548   &  1.26308183 & -0.03061479 &  0.7075738  &  0.04708205\\\\\n",
       "\t  0.4662102  & -0.22289197 &  0.1556311  & 1.0564471   & 1.0861187   &  0.6039013  &  0.46372418 &  0.9367936  &  0.7372861  & 0.7891657   & ...         &  0.2017965  & 1.1395966   & -1.2612957  & -0.08603207 & -0.8454392  & 1.7373665   & -0.09971447 &  0.75459947 &  1.5027533  &  2.75049244\\\\\n",
       "\t  0.4462323  & -0.06042924 &  0.2413065  & 0.8997249   & 0.4897849   &  0.9537360  &  0.33288940 &  0.7151182  &  0.2548791  & 0.5152065   & ...         & -0.6963344  & 0.8045154   & -0.2101597  & -0.75951663 & -1.1865856  & 0.1997048   &  0.36016685 &  0.18381273 &  0.6806605  &  2.59089045\\\\\n",
       "\t  0.4329178  &  0.42105181 &  0.0769341  & 0.3319665   & 0.6022696   &  0.8213220  &  0.04763099 &  0.8677284  & -0.1608225  & 0.4832928   & ...         & -0.4485637  & 0.6588786   &  0.1092213  & -1.24946185 & -0.4789227  & 0.5945180   &  0.47763373 &  0.81424835 & -0.2612834  & -1.23760350\\\\\n",
       "\\end{tabular}\n"
      ],
      "text/markdown": [
       "\n",
       " |  |  |  |  |  |  |  |  |  | ... |  |  |  |  |  |  |  |  |  | y | \n",
       "|---|---|---|---|\n",
       "| -0.2914104  | -0.63026629 | -0.4021940  | 0.1281363   | 0.5739251   | -0.5862260  | -0.33185775 | -0.1390336  | -0.3448947  | 0.1600565   | ...         |  0.2527466  | 0.2805203   | -0.3472624  | -0.44977872 | -0.2505663  | 1.8829548   |  1.26308183 | -0.03061479 |  0.7075738  |  0.04708205 | \n",
       "|  0.4662102  | -0.22289197 |  0.1556311  | 1.0564471   | 1.0861187   |  0.6039013  |  0.46372418 |  0.9367936  |  0.7372861  | 0.7891657   | ...         |  0.2017965  | 1.1395966   | -1.2612957  | -0.08603207 | -0.8454392  | 1.7373665   | -0.09971447 |  0.75459947 |  1.5027533  |  2.75049244 | \n",
       "|  0.4462323  | -0.06042924 |  0.2413065  | 0.8997249   | 0.4897849   |  0.9537360  |  0.33288940 |  0.7151182  |  0.2548791  | 0.5152065   | ...         | -0.6963344  | 0.8045154   | -0.2101597  | -0.75951663 | -1.1865856  | 0.1997048   |  0.36016685 |  0.18381273 |  0.6806605  |  2.59089045 | \n",
       "|  0.4329178  |  0.42105181 |  0.0769341  | 0.3319665   | 0.6022696   |  0.8213220  |  0.04763099 |  0.8677284  | -0.1608225  | 0.4832928   | ...         | -0.4485637  | 0.6588786   |  0.1092213  | -1.24946185 | -0.4789227  | 0.5945180   |  0.47763373 |  0.81424835 | -0.2612834  | -1.23760350 | \n",
       "\n",
       "\n"
      ],
      "text/plain": [
       "                                                                     \n",
       "[1,] -0.2914104 -0.63026629 -0.4021940 0.1281363 0.5739251 -0.5862260\n",
       "[2,]  0.4662102 -0.22289197  0.1556311 1.0564471 1.0861187  0.6039013\n",
       "[3,]  0.4462323 -0.06042924  0.2413065 0.8997249 0.4897849  0.9537360\n",
       "[4,]  0.4329178  0.42105181  0.0769341 0.3319665 0.6022696  0.8213220\n",
       "                                                 ...                     \n",
       "[1,] -0.33185775 -0.1390336 -0.3448947 0.1600565 ...  0.2527466 0.2805203\n",
       "[2,]  0.46372418  0.9367936  0.7372861 0.7891657 ...  0.2017965 1.1395966\n",
       "[3,]  0.33288940  0.7151182  0.2548791 0.5152065 ... -0.6963344 0.8045154\n",
       "[4,]  0.04763099  0.8677284 -0.1608225 0.4832928 ... -0.4485637 0.6588786\n",
       "                                                                        \n",
       "[1,] -0.3472624 -0.44977872 -0.2505663 1.8829548  1.26308183 -0.03061479\n",
       "[2,] -1.2612957 -0.08603207 -0.8454392 1.7373665 -0.09971447  0.75459947\n",
       "[3,] -0.2101597 -0.75951663 -1.1865856 0.1997048  0.36016685  0.18381273\n",
       "[4,]  0.1092213 -1.24946185 -0.4789227 0.5945180  0.47763373  0.81424835\n",
       "                y          \n",
       "[1,]  0.7075738  0.04708205\n",
       "[2,]  1.5027533  2.75049244\n",
       "[3,]  0.6806605  2.59089045\n",
       "[4,] -0.2612834 -1.23760350"
      ]
     },
     "metadata": {},
     "output_type": "display_data"
    }
   ],
   "source": [
    "# set.seed(0)\n",
    "X = Data_AR(T=4,var_noise = 0.3)\n",
    "X"
   ]
  },
  {
   "cell_type": "code",
   "execution_count": 20,
   "metadata": {},
   "outputs": [],
   "source": [
    "# Test whether the covariance is correct\n",
    "k = 1000\n",
    "x_22 = 1:k\n",
    "x_32 = 1:k\n",
    "x_42 = 1:k\n",
    "for(i in 1:k){\n",
    "    X = Data_AR(T=4,var_noise = 0.1,cor_within = 0)\n",
    "    \n",
    "    x_22[i] = X[2,2]\n",
    "    x_32[i] = X[3,2]\n",
    "    x_42[i] = X[4,2]\n",
    "    \n",
    "}\n"
   ]
  },
  {
   "cell_type": "code",
   "execution_count": 21,
   "metadata": {
    "scrolled": true
   },
   "outputs": [
    {
     "data": {
      "text/html": [
       "0.00412639985958355"
      ],
      "text/latex": [
       "0.00412639985958355"
      ],
      "text/markdown": [
       "0.00412639985958355"
      ],
      "text/plain": [
       "[1] 0.0041264"
      ]
     },
     "metadata": {},
     "output_type": "display_data"
    }
   ],
   "source": [
    "cov(x_22,x_32)"
   ]
  },
  {
   "cell_type": "code",
   "execution_count": 22,
   "metadata": {},
   "outputs": [
    {
     "data": {
      "text/html": [
       "0.0344461567793299"
      ],
      "text/latex": [
       "0.0344461567793299"
      ],
      "text/markdown": [
       "0.0344461567793299"
      ],
      "text/plain": [
       "[1] 0.03444616"
      ]
     },
     "metadata": {},
     "output_type": "display_data"
    }
   ],
   "source": [
    "cov(x_22,x_42)"
   ]
  },
  {
   "cell_type": "markdown",
   "metadata": {},
   "source": [
    "# Save in a CSV file"
   ]
  },
  {
   "cell_type": "code",
   "execution_count": 7,
   "metadata": {},
   "outputs": [],
   "source": [
    "p = 400\n",
    "k = 100 # The number of patients\n",
    "T = 7 # The times each patient\n",
    "X_all = matrix(0,nrow = k*T,ncol=p+1) # all the data\n",
    "\n",
    "for (count in 1:k){\n",
    "    X_all[(T*(count-1)+1):(T*count),] = Data_AR(T,var_noise = 0.1)\n",
    "}"
   ]
  },
  {
   "cell_type": "code",
   "execution_count": 8,
   "metadata": {},
   "outputs": [],
   "source": [
    "write.csv(X_all, file = 'CS_noise0.1.csv')"
   ]
  },
  {
   "cell_type": "code",
   "execution_count": 10,
   "metadata": {},
   "outputs": [
    {
     "data": {
      "text/html": [
       "<ol class=list-inline>\n",
       "\t<li>700</li>\n",
       "\t<li>401</li>\n",
       "</ol>\n"
      ],
      "text/latex": [
       "\\begin{enumerate*}\n",
       "\\item 700\n",
       "\\item 401\n",
       "\\end{enumerate*}\n"
      ],
      "text/markdown": [
       "1. 700\n",
       "2. 401\n",
       "\n",
       "\n"
      ],
      "text/plain": [
       "[1] 700 401"
      ]
     },
     "metadata": {},
     "output_type": "display_data"
    }
   ],
   "source": [
    "dim(X_all)"
   ]
  },
  {
   "cell_type": "code",
   "execution_count": null,
   "metadata": {},
   "outputs": [],
   "source": [
    "# No time structure\n",
    "# set cor_within = 0\n",
    "X_all = matrix(0,nrow = k*T,ncol=p+1) # all the data\n",
    "\n",
    "for (count in 1:k){\n",
    "    X_all[(T*(count-1)+1):(T*count),] = Data_AR(T,var_noise = 0.1,cor_within = 0)\n",
    "}\n",
    "write.csv(X_all, file = 'NoTime_noise0.1.csv')"
   ]
  }
 ],
 "metadata": {
  "kernelspec": {
   "display_name": "R",
   "language": "R",
   "name": "ir"
  },
  "language_info": {
   "codemirror_mode": "r",
   "file_extension": ".r",
   "mimetype": "text/x-r-source",
   "name": "R",
   "pygments_lexer": "r",
   "version": "3.5.1"
  }
 },
 "nbformat": 4,
 "nbformat_minor": 2
}
