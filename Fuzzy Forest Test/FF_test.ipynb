{
 "cells": [
  {
   "cell_type": "code",
   "execution_count": 1,
   "metadata": {},
   "outputs": [
    {
     "name": "stderr",
     "output_type": "stream",
     "text": [
      "Warning message:\n",
      "\"package 'fuzzyforest' was built under R version 3.6.1\"Registered S3 methods overwritten by 'ggplot2':\n",
      "  method         from \n",
      "  [.quosures     rlang\n",
      "  c.quosures     rlang\n",
      "  print.quosures rlang\n",
      "\n",
      "Warning message:\n",
      "\"package 'WGCNA' was built under R version 3.6.1\"Loading required package: dynamicTreeCut\n",
      "Loading required package: fastcluster\n",
      "\n",
      "Attaching package: 'fastcluster'\n",
      "\n",
      "The following object is masked from 'package:stats':\n",
      "\n",
      "    hclust\n",
      "\n",
      "\n",
      "Attaching package: 'WGCNA'\n",
      "\n",
      "The following object is masked from 'package:stats':\n",
      "\n",
      "    cor\n",
      "\n",
      "randomForest 4.6-14\n",
      "Type rfNews() to see new features/changes/bug fixes.\n"
     ]
    }
   ],
   "source": [
    "library(\"fuzzyforest\")\n",
    "library(\"WGCNA\")\n",
    "library(\"randomForest\")"
   ]
  },
  {
   "cell_type": "markdown",
   "metadata": {},
   "source": [
    "# No Time Structure"
   ]
  },
  {
   "cell_type": "markdown",
   "metadata": {},
   "source": [
    "## Data"
   ]
  },
  {
   "cell_type": "code",
   "execution_count": 2,
   "metadata": {},
   "outputs": [
    {
     "data": {
      "text/html": [
       "<table>\n",
       "<thead><tr><th scope=col>X</th><th scope=col>V1</th><th scope=col>V2</th><th scope=col>V3</th><th scope=col>V4</th><th scope=col>V5</th><th scope=col>V6</th><th scope=col>V7</th><th scope=col>V8</th><th scope=col>V9</th><th scope=col>...</th><th scope=col>V392</th><th scope=col>V393</th><th scope=col>V394</th><th scope=col>V395</th><th scope=col>V396</th><th scope=col>V397</th><th scope=col>V398</th><th scope=col>V399</th><th scope=col>V400</th><th scope=col>V401</th></tr></thead>\n",
       "<tbody>\n",
       "\t<tr><td>1           </td><td> 1.33357701 </td><td> 1.3119130  </td><td> 0.1287490  </td><td> 0.4734708  </td><td> 0.4219088  </td><td> 1.86992267 </td><td> 0.2658068  </td><td> 0.6137465  </td><td> 0.8406168  </td><td>...         </td><td>-0.5691202  </td><td>-1.7972101  </td><td>-0.116074956</td><td>-0.72037243 </td><td>-0.8775418  </td><td>-0.5160136  </td><td>-1.6354432  </td><td> 0.46064277 </td><td>-1.12069215 </td><td>15.080493   </td></tr>\n",
       "\t<tr><td>2           </td><td> 1.22506847 </td><td> 0.6728545  </td><td> 1.3234603  </td><td> 0.9664843  </td><td> 1.8386572  </td><td> 2.58401244 </td><td> 1.9971282  </td><td> 1.8212609  </td><td> 1.2358817  </td><td>...         </td><td>-0.2072526  </td><td>-0.6464699  </td><td> 0.339969320</td><td> 0.27345104 </td><td>-0.4410430  </td><td> 0.5996994  </td><td> 0.8039378  </td><td>-0.37491352 </td><td> 0.06804824 </td><td> 8.691340   </td></tr>\n",
       "\t<tr><td>3           </td><td>-1.85387599 </td><td>-2.3600769  </td><td>-1.4503713  </td><td>-1.8443407  </td><td>-1.4854605  </td><td>-1.85264522 </td><td>-1.1109663  </td><td>-1.5374090  </td><td>-1.8286555  </td><td>...         </td><td>-1.8573773  </td><td> 0.1424888  </td><td> 0.820461282</td><td> 1.51299453 </td><td>-1.5844754  </td><td> 1.2149999  </td><td> 0.1104934  </td><td>-0.16706108 </td><td> 1.81616801 </td><td> 8.067004   </td></tr>\n",
       "\t<tr><td>4           </td><td> 0.77659158 </td><td> 0.2831775  </td><td> 0.4451618  </td><td> 1.5981691  </td><td> 0.5411189  </td><td> 0.55056867 </td><td> 1.2413425  </td><td> 1.1642259  </td><td> 0.3120390  </td><td>...         </td><td> 0.6388412  </td><td> 0.9886640  </td><td> 1.105846602</td><td> 0.65439654 </td><td> 0.2722526  </td><td>-0.3842706  </td><td>-0.2089597  </td><td> 0.87187190 </td><td> 0.72522529 </td><td>10.339589   </td></tr>\n",
       "\t<tr><td>5           </td><td> 0.05696711 </td><td> 0.1240296  </td><td>-0.8495131  </td><td>-0.4234050  </td><td>-0.1848888  </td><td>-0.08789926 </td><td>-0.5471218  </td><td> 0.4001218  </td><td>-0.4253202  </td><td>...         </td><td> 0.3595277  </td><td>-0.4198238  </td><td> 0.005158983</td><td>-0.04277947 </td><td>-1.0695567  </td><td> 1.0678965  </td><td> 1.0370920  </td><td> 0.06407236 </td><td>-0.37706360 </td><td>-3.309844   </td></tr>\n",
       "</tbody>\n",
       "</table>\n"
      ],
      "text/latex": [
       "\\begin{tabular}{r|llllllllllllllllllllllllllllllllllllllllllllllllllllllllllllllllllllllllllllllllllllllllllllllllllllllllllllllllllllllllllllllllllllllllllllllllllllllllllllllllllllllllllllllllllllllllllllllllllllllllllllllllllllllllllllllllllllllllllllllllllllllllllllllllllllllllllllllllllllllllllllllllllllllllllllllllllllllllllllllllllllllllllllllllllllllllllllllllllllllllllllllllllllllllllllllllllllllllllllllllll}\n",
       " X & V1 & V2 & V3 & V4 & V5 & V6 & V7 & V8 & V9 & ... & V392 & V393 & V394 & V395 & V396 & V397 & V398 & V399 & V400 & V401\\\\\n",
       "\\hline\n",
       "\t 1            &  1.33357701  &  1.3119130   &  0.1287490   &  0.4734708   &  0.4219088   &  1.86992267  &  0.2658068   &  0.6137465   &  0.8406168   & ...          & -0.5691202   & -1.7972101   & -0.116074956 & -0.72037243  & -0.8775418   & -0.5160136   & -1.6354432   &  0.46064277  & -1.12069215  & 15.080493   \\\\\n",
       "\t 2            &  1.22506847  &  0.6728545   &  1.3234603   &  0.9664843   &  1.8386572   &  2.58401244  &  1.9971282   &  1.8212609   &  1.2358817   & ...          & -0.2072526   & -0.6464699   &  0.339969320 &  0.27345104  & -0.4410430   &  0.5996994   &  0.8039378   & -0.37491352  &  0.06804824  &  8.691340   \\\\\n",
       "\t 3            & -1.85387599  & -2.3600769   & -1.4503713   & -1.8443407   & -1.4854605   & -1.85264522  & -1.1109663   & -1.5374090   & -1.8286555   & ...          & -1.8573773   &  0.1424888   &  0.820461282 &  1.51299453  & -1.5844754   &  1.2149999   &  0.1104934   & -0.16706108  &  1.81616801  &  8.067004   \\\\\n",
       "\t 4            &  0.77659158  &  0.2831775   &  0.4451618   &  1.5981691   &  0.5411189   &  0.55056867  &  1.2413425   &  1.1642259   &  0.3120390   & ...          &  0.6388412   &  0.9886640   &  1.105846602 &  0.65439654  &  0.2722526   & -0.3842706   & -0.2089597   &  0.87187190  &  0.72522529  & 10.339589   \\\\\n",
       "\t 5            &  0.05696711  &  0.1240296   & -0.8495131   & -0.4234050   & -0.1848888   & -0.08789926  & -0.5471218   &  0.4001218   & -0.4253202   & ...          &  0.3595277   & -0.4198238   &  0.005158983 & -0.04277947  & -1.0695567   &  1.0678965   &  1.0370920   &  0.06407236  & -0.37706360  & -3.309844   \\\\\n",
       "\\end{tabular}\n"
      ],
      "text/markdown": [
       "\n",
       "| X | V1 | V2 | V3 | V4 | V5 | V6 | V7 | V8 | V9 | ... | V392 | V393 | V394 | V395 | V396 | V397 | V398 | V399 | V400 | V401 |\n",
       "|---|---|---|---|---|---|---|---|---|---|---|---|---|---|---|---|---|---|---|---|---|\n",
       "| 1            |  1.33357701  |  1.3119130   |  0.1287490   |  0.4734708   |  0.4219088   |  1.86992267  |  0.2658068   |  0.6137465   |  0.8406168   | ...          | -0.5691202   | -1.7972101   | -0.116074956 | -0.72037243  | -0.8775418   | -0.5160136   | -1.6354432   |  0.46064277  | -1.12069215  | 15.080493    |\n",
       "| 2            |  1.22506847  |  0.6728545   |  1.3234603   |  0.9664843   |  1.8386572   |  2.58401244  |  1.9971282   |  1.8212609   |  1.2358817   | ...          | -0.2072526   | -0.6464699   |  0.339969320 |  0.27345104  | -0.4410430   |  0.5996994   |  0.8039378   | -0.37491352  |  0.06804824  |  8.691340    |\n",
       "| 3            | -1.85387599  | -2.3600769   | -1.4503713   | -1.8443407   | -1.4854605   | -1.85264522  | -1.1109663   | -1.5374090   | -1.8286555   | ...          | -1.8573773   |  0.1424888   |  0.820461282 |  1.51299453  | -1.5844754   |  1.2149999   |  0.1104934   | -0.16706108  |  1.81616801  |  8.067004    |\n",
       "| 4            |  0.77659158  |  0.2831775   |  0.4451618   |  1.5981691   |  0.5411189   |  0.55056867  |  1.2413425   |  1.1642259   |  0.3120390   | ...          |  0.6388412   |  0.9886640   |  1.105846602 |  0.65439654  |  0.2722526   | -0.3842706   | -0.2089597   |  0.87187190  |  0.72522529  | 10.339589    |\n",
       "| 5            |  0.05696711  |  0.1240296   | -0.8495131   | -0.4234050   | -0.1848888   | -0.08789926  | -0.5471218   |  0.4001218   | -0.4253202   | ...          |  0.3595277   | -0.4198238   |  0.005158983 | -0.04277947  | -1.0695567   |  1.0678965   |  1.0370920   |  0.06407236  | -0.37706360  | -3.309844    |\n",
       "\n"
      ],
      "text/plain": [
       "  X V1          V2         V3         V4         V5         V6         \n",
       "1 1  1.33357701  1.3119130  0.1287490  0.4734708  0.4219088  1.86992267\n",
       "2 2  1.22506847  0.6728545  1.3234603  0.9664843  1.8386572  2.58401244\n",
       "3 3 -1.85387599 -2.3600769 -1.4503713 -1.8443407 -1.4854605 -1.85264522\n",
       "4 4  0.77659158  0.2831775  0.4451618  1.5981691  0.5411189  0.55056867\n",
       "5 5  0.05696711  0.1240296 -0.8495131 -0.4234050 -0.1848888 -0.08789926\n",
       "  V7         V8         V9         ... V392       V393       V394        \n",
       "1  0.2658068  0.6137465  0.8406168 ... -0.5691202 -1.7972101 -0.116074956\n",
       "2  1.9971282  1.8212609  1.2358817 ... -0.2072526 -0.6464699  0.339969320\n",
       "3 -1.1109663 -1.5374090 -1.8286555 ... -1.8573773  0.1424888  0.820461282\n",
       "4  1.2413425  1.1642259  0.3120390 ...  0.6388412  0.9886640  1.105846602\n",
       "5 -0.5471218  0.4001218 -0.4253202 ...  0.3595277 -0.4198238  0.005158983\n",
       "  V395        V396       V397       V398       V399        V400       \n",
       "1 -0.72037243 -0.8775418 -0.5160136 -1.6354432  0.46064277 -1.12069215\n",
       "2  0.27345104 -0.4410430  0.5996994  0.8039378 -0.37491352  0.06804824\n",
       "3  1.51299453 -1.5844754  1.2149999  0.1104934 -0.16706108  1.81616801\n",
       "4  0.65439654  0.2722526 -0.3842706 -0.2089597  0.87187190  0.72522529\n",
       "5 -0.04277947 -1.0695567  1.0678965  1.0370920  0.06407236 -0.37706360\n",
       "  V401     \n",
       "1 15.080493\n",
       "2  8.691340\n",
       "3  8.067004\n",
       "4 10.339589\n",
       "5 -3.309844"
      ]
     },
     "metadata": {},
     "output_type": "display_data"
    }
   ],
   "source": [
    "data_noTime <- read.csv(file=\"NoTime_noise0.1.csv\", header=TRUE, sep=\",\")\n",
    "data_noTime[1:5,]"
   ]
  },
  {
   "cell_type": "code",
   "execution_count": 3,
   "metadata": {},
   "outputs": [
    {
     "name": "stdout",
     "output_type": "stream",
     "text": [
      "700 401"
     ]
    },
    {
     "data": {
      "text/html": [
       "<table>\n",
       "<thead><tr><th scope=col>V1</th><th scope=col>V2</th><th scope=col>V3</th><th scope=col>V4</th><th scope=col>V5</th><th scope=col>V6</th><th scope=col>V7</th><th scope=col>V8</th><th scope=col>V9</th><th scope=col>V10</th><th scope=col>...</th><th scope=col>V392</th><th scope=col>V393</th><th scope=col>V394</th><th scope=col>V395</th><th scope=col>V396</th><th scope=col>V397</th><th scope=col>V398</th><th scope=col>V399</th><th scope=col>V400</th><th scope=col>V401</th></tr></thead>\n",
       "<tbody>\n",
       "\t<tr><td> 1.33357701 </td><td> 1.3119130  </td><td> 0.1287490  </td><td> 0.4734708  </td><td> 0.4219088  </td><td> 1.86992267 </td><td> 0.2658068  </td><td> 0.6137465  </td><td> 0.8406168  </td><td> 0.4457539  </td><td>...         </td><td>-0.5691202  </td><td>-1.7972101  </td><td>-0.116074956</td><td>-0.72037243 </td><td>-0.8775418  </td><td>-0.5160136  </td><td>-1.6354432  </td><td> 0.46064277 </td><td>-1.12069215 </td><td>15.080493   </td></tr>\n",
       "\t<tr><td> 1.22506847 </td><td> 0.6728545  </td><td> 1.3234603  </td><td> 0.9664843  </td><td> 1.8386572  </td><td> 2.58401244 </td><td> 1.9971282  </td><td> 1.8212609  </td><td> 1.2358817  </td><td> 1.4838029  </td><td>...         </td><td>-0.2072526  </td><td>-0.6464699  </td><td> 0.339969320</td><td> 0.27345104 </td><td>-0.4410430  </td><td> 0.5996994  </td><td> 0.8039378  </td><td>-0.37491352 </td><td> 0.06804824 </td><td> 8.691340   </td></tr>\n",
       "\t<tr><td>-1.85387599 </td><td>-2.3600769  </td><td>-1.4503713  </td><td>-1.8443407  </td><td>-1.4854605  </td><td>-1.85264522 </td><td>-1.1109663  </td><td>-1.5374090  </td><td>-1.8286555  </td><td>-1.7700476  </td><td>...         </td><td>-1.8573773  </td><td> 0.1424888  </td><td> 0.820461282</td><td> 1.51299453 </td><td>-1.5844754  </td><td> 1.2149999  </td><td> 0.1104934  </td><td>-0.16706108 </td><td> 1.81616801 </td><td> 8.067004   </td></tr>\n",
       "\t<tr><td> 0.77659158 </td><td> 0.2831775  </td><td> 0.4451618  </td><td> 1.5981691  </td><td> 0.5411189  </td><td> 0.55056867 </td><td> 1.2413425  </td><td> 1.1642259  </td><td> 0.3120390  </td><td> 0.1022286  </td><td>...         </td><td> 0.6388412  </td><td> 0.9886640  </td><td> 1.105846602</td><td> 0.65439654 </td><td> 0.2722526  </td><td>-0.3842706  </td><td>-0.2089597  </td><td> 0.87187190 </td><td> 0.72522529 </td><td>10.339589   </td></tr>\n",
       "\t<tr><td> 0.05696711 </td><td> 0.1240296  </td><td>-0.8495131  </td><td>-0.4234050  </td><td>-0.1848888  </td><td>-0.08789926 </td><td>-0.5471218  </td><td> 0.4001218  </td><td>-0.4253202  </td><td>-0.7709833  </td><td>...         </td><td> 0.3595277  </td><td>-0.4198238  </td><td> 0.005158983</td><td>-0.04277947 </td><td>-1.0695567  </td><td> 1.0678965  </td><td> 1.0370920  </td><td> 0.06407236 </td><td>-0.37706360 </td><td>-3.309844   </td></tr>\n",
       "</tbody>\n",
       "</table>\n"
      ],
      "text/latex": [
       "\\begin{tabular}{r|lllllllllllllllllllllllllllllllllllllllllllllllllllllllllllllllllllllllllllllllllllllllllllllllllllllllllllllllllllllllllllllllllllllllllllllllllllllllllllllllllllllllllllllllllllllllllllllllllllllllllllllllllllllllllllllllllllllllllllllllllllllllllllllllllllllllllllllllllllllllllllllllllllllllllllllllllllllllllllllllllllllllllllllllllllllllllllllllllllllllllllllllllllllllllllllllllllllllllllllllll}\n",
       " V1 & V2 & V3 & V4 & V5 & V6 & V7 & V8 & V9 & V10 & ... & V392 & V393 & V394 & V395 & V396 & V397 & V398 & V399 & V400 & V401\\\\\n",
       "\\hline\n",
       "\t  1.33357701  &  1.3119130   &  0.1287490   &  0.4734708   &  0.4219088   &  1.86992267  &  0.2658068   &  0.6137465   &  0.8406168   &  0.4457539   & ...          & -0.5691202   & -1.7972101   & -0.116074956 & -0.72037243  & -0.8775418   & -0.5160136   & -1.6354432   &  0.46064277  & -1.12069215  & 15.080493   \\\\\n",
       "\t  1.22506847  &  0.6728545   &  1.3234603   &  0.9664843   &  1.8386572   &  2.58401244  &  1.9971282   &  1.8212609   &  1.2358817   &  1.4838029   & ...          & -0.2072526   & -0.6464699   &  0.339969320 &  0.27345104  & -0.4410430   &  0.5996994   &  0.8039378   & -0.37491352  &  0.06804824  &  8.691340   \\\\\n",
       "\t -1.85387599  & -2.3600769   & -1.4503713   & -1.8443407   & -1.4854605   & -1.85264522  & -1.1109663   & -1.5374090   & -1.8286555   & -1.7700476   & ...          & -1.8573773   &  0.1424888   &  0.820461282 &  1.51299453  & -1.5844754   &  1.2149999   &  0.1104934   & -0.16706108  &  1.81616801  &  8.067004   \\\\\n",
       "\t  0.77659158  &  0.2831775   &  0.4451618   &  1.5981691   &  0.5411189   &  0.55056867  &  1.2413425   &  1.1642259   &  0.3120390   &  0.1022286   & ...          &  0.6388412   &  0.9886640   &  1.105846602 &  0.65439654  &  0.2722526   & -0.3842706   & -0.2089597   &  0.87187190  &  0.72522529  & 10.339589   \\\\\n",
       "\t  0.05696711  &  0.1240296   & -0.8495131   & -0.4234050   & -0.1848888   & -0.08789926  & -0.5471218   &  0.4001218   & -0.4253202   & -0.7709833   & ...          &  0.3595277   & -0.4198238   &  0.005158983 & -0.04277947  & -1.0695567   &  1.0678965   &  1.0370920   &  0.06407236  & -0.37706360  & -3.309844   \\\\\n",
       "\\end{tabular}\n"
      ],
      "text/markdown": [
       "\n",
       "| V1 | V2 | V3 | V4 | V5 | V6 | V7 | V8 | V9 | V10 | ... | V392 | V393 | V394 | V395 | V396 | V397 | V398 | V399 | V400 | V401 |\n",
       "|---|---|---|---|---|---|---|---|---|---|---|---|---|---|---|---|---|---|---|---|---|\n",
       "|  1.33357701  |  1.3119130   |  0.1287490   |  0.4734708   |  0.4219088   |  1.86992267  |  0.2658068   |  0.6137465   |  0.8406168   |  0.4457539   | ...          | -0.5691202   | -1.7972101   | -0.116074956 | -0.72037243  | -0.8775418   | -0.5160136   | -1.6354432   |  0.46064277  | -1.12069215  | 15.080493    |\n",
       "|  1.22506847  |  0.6728545   |  1.3234603   |  0.9664843   |  1.8386572   |  2.58401244  |  1.9971282   |  1.8212609   |  1.2358817   |  1.4838029   | ...          | -0.2072526   | -0.6464699   |  0.339969320 |  0.27345104  | -0.4410430   |  0.5996994   |  0.8039378   | -0.37491352  |  0.06804824  |  8.691340    |\n",
       "| -1.85387599  | -2.3600769   | -1.4503713   | -1.8443407   | -1.4854605   | -1.85264522  | -1.1109663   | -1.5374090   | -1.8286555   | -1.7700476   | ...          | -1.8573773   |  0.1424888   |  0.820461282 |  1.51299453  | -1.5844754   |  1.2149999   |  0.1104934   | -0.16706108  |  1.81616801  |  8.067004    |\n",
       "|  0.77659158  |  0.2831775   |  0.4451618   |  1.5981691   |  0.5411189   |  0.55056867  |  1.2413425   |  1.1642259   |  0.3120390   |  0.1022286   | ...          |  0.6388412   |  0.9886640   |  1.105846602 |  0.65439654  |  0.2722526   | -0.3842706   | -0.2089597   |  0.87187190  |  0.72522529  | 10.339589    |\n",
       "|  0.05696711  |  0.1240296   | -0.8495131   | -0.4234050   | -0.1848888   | -0.08789926  | -0.5471218   |  0.4001218   | -0.4253202   | -0.7709833   | ...          |  0.3595277   | -0.4198238   |  0.005158983 | -0.04277947  | -1.0695567   |  1.0678965   |  1.0370920   |  0.06407236  | -0.37706360  | -3.309844    |\n",
       "\n"
      ],
      "text/plain": [
       "  V1          V2         V3         V4         V5         V6         \n",
       "1  1.33357701  1.3119130  0.1287490  0.4734708  0.4219088  1.86992267\n",
       "2  1.22506847  0.6728545  1.3234603  0.9664843  1.8386572  2.58401244\n",
       "3 -1.85387599 -2.3600769 -1.4503713 -1.8443407 -1.4854605 -1.85264522\n",
       "4  0.77659158  0.2831775  0.4451618  1.5981691  0.5411189  0.55056867\n",
       "5  0.05696711  0.1240296 -0.8495131 -0.4234050 -0.1848888 -0.08789926\n",
       "  V7         V8         V9         V10        ... V392       V393      \n",
       "1  0.2658068  0.6137465  0.8406168  0.4457539 ... -0.5691202 -1.7972101\n",
       "2  1.9971282  1.8212609  1.2358817  1.4838029 ... -0.2072526 -0.6464699\n",
       "3 -1.1109663 -1.5374090 -1.8286555 -1.7700476 ... -1.8573773  0.1424888\n",
       "4  1.2413425  1.1642259  0.3120390  0.1022286 ...  0.6388412  0.9886640\n",
       "5 -0.5471218  0.4001218 -0.4253202 -0.7709833 ...  0.3595277 -0.4198238\n",
       "  V394         V395        V396       V397       V398       V399       \n",
       "1 -0.116074956 -0.72037243 -0.8775418 -0.5160136 -1.6354432  0.46064277\n",
       "2  0.339969320  0.27345104 -0.4410430  0.5996994  0.8039378 -0.37491352\n",
       "3  0.820461282  1.51299453 -1.5844754  1.2149999  0.1104934 -0.16706108\n",
       "4  1.105846602  0.65439654  0.2722526 -0.3842706 -0.2089597  0.87187190\n",
       "5  0.005158983 -0.04277947 -1.0695567  1.0678965  1.0370920  0.06407236\n",
       "  V400        V401     \n",
       "1 -1.12069215 15.080493\n",
       "2  0.06804824  8.691340\n",
       "3  1.81616801  8.067004\n",
       "4  0.72522529 10.339589\n",
       "5 -0.37706360 -3.309844"
      ]
     },
     "metadata": {},
     "output_type": "display_data"
    }
   ],
   "source": [
    "data_noTime = data_noTime[,-1] # delete the X column (name of rows)\n",
    "cat(dim(data_noTime))\n",
    "data_noTime[1:5,]"
   ]
  },
  {
   "cell_type": "code",
   "execution_count": 4,
   "metadata": {},
   "outputs": [],
   "source": [
    "X = data_noTime[,-dim(data_noTime)[2]]\n",
    "y = data_noTime[,dim(data_noTime)[2]]"
   ]
  },
  {
   "cell_type": "markdown",
   "metadata": {},
   "source": [
    "## Fitting"
   ]
  },
  {
   "cell_type": "code",
   "execution_count": 5,
   "metadata": {},
   "outputs": [],
   "source": [
    "# params is stored in xxx_control object\n",
    "# power: belta\n",
    "WGCNA_params = WGCNA_control(power=3,TOMType=\"unsigned\",minModuleSize=30,\n",
    "                            numericLabels=TRUE,pamRespectsDendro=FALSE)\n",
    "\n",
    "mtry_factor     = 1 # mtry = sqrt(p)*mtry_factor; mtry is the num in subspace method\n",
    "drop_fraction   = 0.25 # drop xxx in each iteration of RFE-RF\n",
    "number_selected = 8 # we want 10 out of all features\n",
    "keep_fraction   = 0.05 # keep xxx for each module\n",
    "min_ntree        = 500 # used for calculating ntree\n",
    "ntree_factor    = 5 # used for calculating ntree\n",
    "final_ntree     = 500 # RF in selecting step\n",
    "\n",
    "screen_params = screen_control(drop_fraction = drop_fraction,\n",
    "                              keep_fraction  = keep_fraction,\n",
    "                              min_ntree      = min_ntree,\n",
    "                              mtry_factor    = mtry_factor,\n",
    "                              ntree_factor   = ntree_factor)\n",
    "\n",
    "select_params = select_control(drop_fraction  = drop_fraction,\n",
    "                              number_selected = number_selected,\n",
    "                              min_ntree       = min_ntree,\n",
    "                              mtry_factor     = mtry_factor,\n",
    "                              ntree_factor    = ntree_factor)                              "
   ]
  },
  {
   "cell_type": "code",
   "execution_count": 6,
   "metadata": {},
   "outputs": [],
   "source": [
    "# a \"fuzzy_forest\" object\n",
    "wff_fit = wff(X,y,WGCNA_params = WGCNA_params,\n",
    "             screen_params = screen_params,\n",
    "             select_params = select_params,\n",
    "             final_ntree = final_ntree)"
   ]
  },
  {
   "cell_type": "code",
   "execution_count": 7,
   "metadata": {},
   "outputs": [
    {
     "name": "stdout",
     "output_type": "stream",
     "text": [
      "  feature_name variable_importance module_membership\n",
      "1           V1            46.61354                 1\n",
      "3           V3            40.38105                 1\n",
      "6         V301            37.71717                 0\n",
      "2           V2            23.92534                 1\n",
      "5          V93            11.41860                 1\n",
      "7         V302            11.15178                 0\n",
      "4          V28            10.57280                 1\n",
      "8         V303             8.77639                 0\n"
     ]
    }
   ],
   "source": [
    "print(wff_fit)"
   ]
  },
  {
   "cell_type": "code",
   "execution_count": 8,
   "metadata": {},
   "outputs": [
    {
     "data": {
      "image/png": "[encoded data removed]",
      "text/plain": [
       "plot without title"
      ]
     },
     "metadata": {},
     "output_type": "display_data"
    }
   ],
   "source": [
    "modplot(wff_fit)"
   ]
  },
  {
   "cell_type": "code",
   "execution_count": 9,
   "metadata": {},
   "outputs": [
    {
     "data": {
      "image/png": "[encoded data removed]",
      "text/plain": [
       "Plot with title \"Variable Importance Plot\""
      ]
     },
     "metadata": {},
     "output_type": "display_data"
    }
   ],
   "source": [
    "varImpPlot(wff_fit$final_rf,type=2,main=\"Variable Importance Plot\")"
   ]
  },
  {
   "cell_type": "markdown",
   "metadata": {},
   "source": [
    "Result: Select 3,1,2,301,36,28,302,303\n",
    "That means still some problems with independent features."
   ]
  },
  {
   "cell_type": "markdown",
   "metadata": {},
   "source": [
    "# AR Structure`"
   ]
  },
  {
   "cell_type": "code",
   "execution_count": 10,
   "metadata": {},
   "outputs": [],
   "source": [
    "data_CS <- read.csv(file=\"CS_noise0.1.csv\", header=TRUE, sep=\",\")\n",
    "data_CS = data_CS[,-1] # delete the X column (name of rows)\n",
    "X = data_CS[,-dim(data_CS)[2]]\n",
    "y = data_CS[,dim(data_CS)[2]]"
   ]
  },
  {
   "cell_type": "code",
   "execution_count": 11,
   "metadata": {},
   "outputs": [
    {
     "name": "stdout",
     "output_type": "stream",
     "text": [
      "  feature_name variable_importance module_membership\n",
      "6         V301           42.152001                 0\n",
      "2           V2           39.192964                 3\n",
      "1           V1           25.480629                 3\n",
      "3           V3           23.713454                 3\n",
      "5          V78           17.958989                 3\n",
      "4          V70           12.644140                 3\n",
      "7         V302            9.835307                 0\n",
      "8         V303            6.288586                 0\n"
     ]
    }
   ],
   "source": [
    "# a \"fuzzy_forest\" object\n",
    "wff_fit = wff(X,y,WGCNA_params = WGCNA_params,\n",
    "             screen_params = screen_params,\n",
    "             select_params = select_params,\n",
    "             final_ntree = final_ntree)\n",
    "print(wff_fit)"
   ]
  },
  {
   "cell_type": "code",
   "execution_count": 12,
   "metadata": {},
   "outputs": [
    {
     "data": {
      "image/png": "[encoded data removed]",
      "text/plain": [
       "plot without title"
      ]
     },
     "metadata": {},
     "output_type": "display_data"
    }
   ],
   "source": [
    "modplot(wff_fit)"
   ]
  },
  {
   "cell_type": "code",
   "execution_count": 13,
   "metadata": {},
   "outputs": [
    {
     "data": {
      "image/png": "[encoded data removed]",
      "text/plain": [
       "Plot with title \"Variable Importance Plot\""
      ]
     },
     "metadata": {},
     "output_type": "display_data"
    }
   ],
   "source": [
    "varImpPlot(wff_fit$final_rf,type=2,main=\"Variable Importance Plot\")"
   ]
  }
 ],
 "metadata": {
  "kernelspec": {
   "display_name": "R",
   "language": "R",
   "name": "ir"
  },
  "language_info": {
   "codemirror_mode": "r",
   "file_extension": ".r",
   "mimetype": "text/x-r-source",
   "name": "R",
   "pygments_lexer": "r",
   "version": "3.6.0"
  }
 },
 "nbformat": 4,
 "nbformat_minor": 2
}
