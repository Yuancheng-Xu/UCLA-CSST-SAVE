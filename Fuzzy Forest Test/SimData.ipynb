{
 "cells": [
  {
   "cell_type": "code",
   "execution_count": 1,
   "metadata": {},
   "outputs": [],
   "source": [
    "library(MASS)"
   ]
  },
  {
   "cell_type": "markdown",
   "metadata": {},
   "source": [
    "# Create data X and label y"
   ]
  },
  {
   "cell_type": "markdown",
   "metadata": {},
   "source": [
    "The data set X: please read simulation_AR (pdf file) on how the construction of X.\n",
    "X (T*p) satisfies the following:\n",
    "* Each row of X has covariance matrix cov_feature, which has three block matrix and an identity matrix on the diagonal.\n",
    "* Each column of X has the same longitudinal covariance structure (AR).\n",
    "\n",
    "The label y: suppose there are 100*4 features, denoted by $X^{(1)},X^{(2)},...,X^{(400)}$.\n",
    "Our model is $$y_{t} = 5X^{(1)}_{t}+2X^{(2)}_{t}+2X^{(3)}_{t}+5X^{(2)}_{t}X^{(3)}_{t}\n",
    "+5X_{t}^{(301)}+2X^{(302)}_{t}+2X^{(303)}_{t}+5X^{(302)}_{t}X^{(303)}_{t}\n",
    "+\\epsilon_{t}$$ where $\\epsilon_{t}\\stackrel{}{\\sim} N(0,\\alpha I)$. $\\alpha$ is the noise level (in the code, it is called var_noise)\n",
    "\n",
    "Therefore, the expected results of feature selection are:\n",
    "* The module 1 and 4 are chosen\n",
    "* The feature 1,2,3,301,302,303 are chosen"
   ]
  },
  {
   "cell_type": "markdown",
   "metadata": {},
   "source": [
    "You'd better not change p0 since our model of the label depend on p0"
   ]
  },
  {
   "cell_type": "code",
   "execution_count": 2,
   "metadata": {},
   "outputs": [],
   "source": [
    "# Generate X for one sample; X is T*p\n",
    "# p features and T oberservations\n",
    "# p= 4*p0 : the first 3 p0 features are 3 modules, independent bewteen modules and\n",
    "# correlated (cov=0.8) within each. The last module is independent within and with the \n",
    "# first three\n",
    "# var_noise: noise level (used in generating label y)\n",
    "# cor_within: the correlation within module 1,2 and 3. Default is 0.8. If change to \n",
    "# 0, then along the time is independent (no time structure), but feature within 1,2,3 \n",
    "# modules are still correlated with cov = 0.8\n",
    "\n",
    "# return a T*(p+1) matrix, the last row is the label y\n",
    "Data_AR = function(T,var_noise,cor_within=0.8){\n",
    "    \n",
    "    p0 = 100\n",
    "    p = 4*p0\n",
    "    \n",
    "    #### covariance matrix between features: it is either 0 (independent) or 0.8 ####\n",
    "    cov_feature = matrix(0,nrow = p, ncol = p)\n",
    "    # cov within the first three modules\n",
    "    cov_star = matrix(0.8,nrow = p0,ncol = p0)\n",
    "    diag(cov_star)=1\n",
    "    # put cov_star into cov_feature\n",
    "    cov_feature[1:p0,1:p0] = cov_star\n",
    "    cov_feature[(p0+1):(2*p0),(p0+1):(2*p0)] = cov_star\n",
    "    cov_feature[(2*p0+1):(3*p0),(2*p0+1):(3*p0)] = cov_star\n",
    "    cov_feature[(3*p0+1):(4*p0),(3*p0+1):(4*p0)] = diag(p0)\n",
    "    ####\n",
    "    \n",
    "    #### X_data ####\n",
    "    # T*p Data matrix, pre-allocate memory\n",
    "    X_data = matrix(0,nrow = T,ncol = p)\n",
    "    # the first row\n",
    "    X_data[1,] = mvrnorm(n = 1, rep(0, p), cov_feature)\n",
    "    # the next row depends on the previous one\n",
    "    for (i in 2:T){\n",
    "        tmp = (1-cor_within^2)^(1/2)\n",
    "        X_data[i,] = cor_within*X_data[i-1,]+tmp*mvrnorm(n = 1, rep(0, p), cov_feature)\n",
    "    }\n",
    "    ###\n",
    "    \n",
    "    ### create labels y ###\n",
    "    # create a n vector for labels\n",
    "    y = matrix(data=0,nrow = T)\n",
    "    # build y according to our model\n",
    "    y = (5*X_data[,1]+2*X_data[,2]+2*X_data[,3]+5*X_data[,2]*X_data[,3]\n",
    "         +5*X_data[,301]+2*X_data[,302]+2*X_data[,303]+5*X_data[,302]*X_data[,303]\n",
    "         +mvrnorm(n = 1, rep(0, T), diag(x=var_noise,T)))\n",
    "    ###\n",
    "    \n",
    "    # return a T*(p+1) matrix\n",
    "    return (cbind(X_data,y))\n",
    "}"
   ]
  },
  {
   "cell_type": "markdown",
   "metadata": {},
   "source": [
    "# Test"
   ]
  },
  {
   "cell_type": "code",
   "execution_count": 3,
   "metadata": {},
   "outputs": [
    {
     "data": {
      "text/html": [
       "<table>\n",
       "<thead><tr><th scope=col></th><th scope=col></th><th scope=col></th><th scope=col></th><th scope=col></th><th scope=col></th><th scope=col></th><th scope=col></th><th scope=col></th><th scope=col></th><th scope=col>...</th><th scope=col></th><th scope=col></th><th scope=col></th><th scope=col></th><th scope=col></th><th scope=col></th><th scope=col></th><th scope=col></th><th scope=col></th><th scope=col>y</th></tr></thead>\n",
       "<tbody>\n",
       "\t<tr><td> 1.0204328 </td><td> 0.2051415 </td><td>-1.151525  </td><td>-0.7715811 </td><td>-1.118740  </td><td>-0.6981551 </td><td> 0.4361992 </td><td>-0.7538781 </td><td>-0.5186276 </td><td>-0.9985378 </td><td>...        </td><td>0.9985381  </td><td>-0.6217680 </td><td> 0.44637086</td><td>1.1073235  </td><td>-0.5938726 </td><td>-0.7702208 </td><td> 0.2100299 </td><td>0.2734708  </td><td>1.0537839  </td><td>-10.63664  </td></tr>\n",
       "\t<tr><td>-0.3921831 </td><td>-0.1964851 </td><td>-1.471789  </td><td>-1.2750637 </td><td>-1.424061  </td><td>-1.4104510 </td><td>-0.3241805 </td><td>-1.5499908 </td><td>-1.3279774 </td><td>-1.5568053 </td><td>...        </td><td>1.2992969  </td><td> 0.6054470 </td><td> 0.33476430</td><td>0.3347911  </td><td>-0.6475179 </td><td>-0.4928394 </td><td>-0.5458133 </td><td>1.6622275  </td><td>1.5158797  </td><td>-27.15445  </td></tr>\n",
       "\t<tr><td>-0.4674783 </td><td>-0.6608124 </td><td>-1.378136  </td><td>-1.2613017 </td><td>-0.991504  </td><td>-1.3055952 </td><td>-0.4667863 </td><td>-1.4567742 </td><td>-1.1083493 </td><td>-1.6496095 </td><td>...        </td><td>0.5386740  </td><td> 0.5227297 </td><td> 0.04814782</td><td>1.2561174  </td><td> 0.1060752 </td><td> 0.3302202 </td><td>-1.1478602 </td><td>2.4326741  </td><td>0.9570827  </td><td>-22.37686  </td></tr>\n",
       "\t<tr><td>-1.3768253 </td><td>-1.3983573 </td><td>-2.228893  </td><td>-2.2788361 </td><td>-2.270154  </td><td>-2.5187522 </td><td>-1.1220127 </td><td>-2.5325497 </td><td>-1.7718320 </td><td>-1.9207698 </td><td>...        </td><td>1.1346498  </td><td> 0.8853738 </td><td>-1.54615766</td><td>1.1811409  </td><td> 0.5069760 </td><td>-0.2838566 </td><td>-1.7944270 </td><td>3.0324935  </td><td>1.0813412  </td><td>-18.43324  </td></tr>\n",
       "</tbody>\n",
       "</table>\n"
      ],
      "text/latex": [
       "\\begin{tabular}{lllllllllllllllllllllllllllllllllllllllllllllllllllllllllllllllllllllllllllllllllllllllllllllllllllllllllllllllllllllllllllllllllllllllllllllllllllllllllllllllllllllllllllllllllllllllllllllllllllllllllllllllllllllllllllllllllllllllllllllllllllllllllllllllllllllllllllllllllllllllllllllllllllllllllllllllllllllllllllllllllllllllllllllllllllllllllllllllllllllllllllllllllllllllllllllllllllllllllllllllll}\n",
       "  &  &  &  &  &  &  &  &  &  & ... &  &  &  &  &  &  &  &  &  & y\\\\\n",
       "\\hline\n",
       "\t  1.0204328  &  0.2051415  & -1.151525   & -0.7715811  & -1.118740   & -0.6981551  &  0.4361992  & -0.7538781  & -0.5186276  & -0.9985378  & ...         & 0.9985381   & -0.6217680  &  0.44637086 & 1.1073235   & -0.5938726  & -0.7702208  &  0.2100299  & 0.2734708   & 1.0537839   & -10.63664  \\\\\n",
       "\t -0.3921831  & -0.1964851  & -1.471789   & -1.2750637  & -1.424061   & -1.4104510  & -0.3241805  & -1.5499908  & -1.3279774  & -1.5568053  & ...         & 1.2992969   &  0.6054470  &  0.33476430 & 0.3347911   & -0.6475179  & -0.4928394  & -0.5458133  & 1.6622275   & 1.5158797   & -27.15445  \\\\\n",
       "\t -0.4674783  & -0.6608124  & -1.378136   & -1.2613017  & -0.991504   & -1.3055952  & -0.4667863  & -1.4567742  & -1.1083493  & -1.6496095  & ...         & 0.5386740   &  0.5227297  &  0.04814782 & 1.2561174   &  0.1060752  &  0.3302202  & -1.1478602  & 2.4326741   & 0.9570827   & -22.37686  \\\\\n",
       "\t -1.3768253  & -1.3983573  & -2.228893   & -2.2788361  & -2.270154   & -2.5187522  & -1.1220127  & -2.5325497  & -1.7718320  & -1.9207698  & ...         & 1.1346498   &  0.8853738  & -1.54615766 & 1.1811409   &  0.5069760  & -0.2838566  & -1.7944270  & 3.0324935   & 1.0813412   & -18.43324  \\\\\n",
       "\\end{tabular}\n"
      ],
      "text/markdown": [
       "\n",
       " |  |  |  |  |  |  |  |  |  | ... |  |  |  |  |  |  |  |  |  | y | \n",
       "|---|---|---|---|\n",
       "|  1.0204328  |  0.2051415  | -1.151525   | -0.7715811  | -1.118740   | -0.6981551  |  0.4361992  | -0.7538781  | -0.5186276  | -0.9985378  | ...         | 0.9985381   | -0.6217680  |  0.44637086 | 1.1073235   | -0.5938726  | -0.7702208  |  0.2100299  | 0.2734708   | 1.0537839   | -10.63664   | \n",
       "| -0.3921831  | -0.1964851  | -1.471789   | -1.2750637  | -1.424061   | -1.4104510  | -0.3241805  | -1.5499908  | -1.3279774  | -1.5568053  | ...         | 1.2992969   |  0.6054470  |  0.33476430 | 0.3347911   | -0.6475179  | -0.4928394  | -0.5458133  | 1.6622275   | 1.5158797   | -27.15445   | \n",
       "| -0.4674783  | -0.6608124  | -1.378136   | -1.2613017  | -0.991504   | -1.3055952  | -0.4667863  | -1.4567742  | -1.1083493  | -1.6496095  | ...         | 0.5386740   |  0.5227297  |  0.04814782 | 1.2561174   |  0.1060752  |  0.3302202  | -1.1478602  | 2.4326741   | 0.9570827   | -22.37686   | \n",
       "| -1.3768253  | -1.3983573  | -2.228893   | -2.2788361  | -2.270154   | -2.5187522  | -1.1220127  | -2.5325497  | -1.7718320  | -1.9207698  | ...         | 1.1346498   |  0.8853738  | -1.54615766 | 1.1811409   |  0.5069760  | -0.2838566  | -1.7944270  | 3.0324935   | 1.0813412   | -18.43324   | \n",
       "\n",
       "\n"
      ],
      "text/plain": [
       "                                                                               \n",
       "[1,]  1.0204328  0.2051415 -1.151525 -0.7715811 -1.118740 -0.6981551  0.4361992\n",
       "[2,] -0.3921831 -0.1964851 -1.471789 -1.2750637 -1.424061 -1.4104510 -0.3241805\n",
       "[3,] -0.4674783 -0.6608124 -1.378136 -1.2613017 -0.991504 -1.3055952 -0.4667863\n",
       "[4,] -1.3768253 -1.3983573 -2.228893 -2.2788361 -2.270154 -2.5187522 -1.1220127\n",
       "                                      ...                                 \n",
       "[1,] -0.7538781 -0.5186276 -0.9985378 ... 0.9985381 -0.6217680  0.44637086\n",
       "[2,] -1.5499908 -1.3279774 -1.5568053 ... 1.2992969  0.6054470  0.33476430\n",
       "[3,] -1.4567742 -1.1083493 -1.6496095 ... 0.5386740  0.5227297  0.04814782\n",
       "[4,] -2.5325497 -1.7718320 -1.9207698 ... 1.1346498  0.8853738 -1.54615766\n",
       "                                                                    y        \n",
       "[1,] 1.1073235 -0.5938726 -0.7702208  0.2100299 0.2734708 1.0537839 -10.63664\n",
       "[2,] 0.3347911 -0.6475179 -0.4928394 -0.5458133 1.6622275 1.5158797 -27.15445\n",
       "[3,] 1.2561174  0.1060752  0.3302202 -1.1478602 2.4326741 0.9570827 -22.37686\n",
       "[4,] 1.1811409  0.5069760 -0.2838566 -1.7944270 3.0324935 1.0813412 -18.43324"
      ]
     },
     "metadata": {},
     "output_type": "display_data"
    }
   ],
   "source": [
    "# set.seed(0)\n",
    "X = Data_AR(T=4,var_noise = 0.3)\n",
    "X"
   ]
  },
  {
   "cell_type": "code",
   "execution_count": 20,
   "metadata": {},
   "outputs": [],
   "source": [
    "# Test whether the covariance is correct\n",
    "k = 1000\n",
    "x_22 = 1:k\n",
    "x_32 = 1:k\n",
    "x_42 = 1:k\n",
    "for(i in 1:k){\n",
    "    X = Data_AR(T=4,var_noise = 0.1)\n",
    "    \n",
    "    x_22[i] = X[2,2]\n",
    "    x_32[i] = X[3,2]\n",
    "    x_42[i] = X[4,2]\n",
    "    \n",
    "}\n"
   ]
  },
  {
   "cell_type": "code",
   "execution_count": 21,
   "metadata": {
    "scrolled": true
   },
   "outputs": [
    {
     "data": {
      "text/html": [
       "0.00412639985958355"
      ],
      "text/latex": [
       "0.00412639985958355"
      ],
      "text/markdown": [
       "0.00412639985958355"
      ],
      "text/plain": [
       "[1] 0.0041264"
      ]
     },
     "metadata": {},
     "output_type": "display_data"
    }
   ],
   "source": [
    "cov(x_22,x_32)"
   ]
  },
  {
   "cell_type": "code",
   "execution_count": 22,
   "metadata": {},
   "outputs": [
    {
     "data": {
      "text/html": [
       "0.0344461567793299"
      ],
      "text/latex": [
       "0.0344461567793299"
      ],
      "text/markdown": [
       "0.0344461567793299"
      ],
      "text/plain": [
       "[1] 0.03444616"
      ]
     },
     "metadata": {},
     "output_type": "display_data"
    }
   ],
   "source": [
    "cov(x_22,x_42)"
   ]
  },
  {
   "cell_type": "markdown",
   "metadata": {},
   "source": [
    "# Save in a CSV file"
   ]
  },
  {
   "cell_type": "code",
   "execution_count": 5,
   "metadata": {},
   "outputs": [],
   "source": [
    "p = 400\n",
    "k = 100 # The number of patients\n",
    "T = 7 # The times each patient"
   ]
  },
  {
   "cell_type": "code",
   "execution_count": 7,
   "metadata": {},
   "outputs": [],
   "source": [
    "# AR structure\n",
    "X_all = matrix(0,nrow = k*T,ncol=p+1) # all the data\n",
    "\n",
    "for (count in 1:k){\n",
    "    X_all[(T*(count-1)+1):(T*count),] = Data_AR(T,var_noise = 0.1)\n",
    "}\n",
    "\n",
    "write.csv(X_all, file = 'CS_noise0.1.csv')"
   ]
  },
  {
   "cell_type": "code",
   "execution_count": 6,
   "metadata": {},
   "outputs": [],
   "source": [
    "# No time structure\n",
    "# set cor_within = 0\n",
    "X_all = matrix(0,nrow = k*T,ncol=p+1) # all the data\n",
    "\n",
    "for (count in 1:k){\n",
    "    X_all[(T*(count-1)+1):(T*count),] = Data_AR(T,var_noise = 0.1,cor_within = 0)\n",
    "}\n",
    "write.csv(X_all, file = 'NoTime_noise0.1.csv')"
   ]
  }
 ],
 "metadata": {
  "kernelspec": {
   "display_name": "R",
   "language": "R",
   "name": "ir"
  },
  "language_info": {
   "codemirror_mode": "r",
   "file_extension": ".r",
   "mimetype": "text/x-r-source",
   "name": "R",
   "pygments_lexer": "r",
   "version": "3.5.1"
  }
 },
 "nbformat": 4,
 "nbformat_minor": 2
}
