{
 "cells": [
  {
   "cell_type": "code",
   "execution_count": 1,
   "metadata": {},
   "outputs": [],
   "source": [
    "library(MASS)"
   ]
  },
  {
   "cell_type": "markdown",
   "metadata": {},
   "source": [
    "Some simulation functions\n",
    "* Parameters: p and imp_mod (important modules, which is a vector). For example, p=400 and imp_mod = c(1,4) is our original setting: true features are 1,2,3,301,302,303 (group 1 and 4). P should be a multiple of 100. Note that the final group is always the grey group and other groups are always correlated ones. If some group is specified in imp_mod, the first three features of that group are important and its contribution to the response is given by $5x_{1}+2x_{2}+2x_{3}+5x_{2}x_{3}$. If p=100, then all the features are independent.\n",
    "* Function f_sim(p,imp_mod): implementation of the above formula.\n",
    "* Function sim_time(p,imp_mod,a1,a2): includes treatment by time interaction. When treatment is 1, the contribution of time is given by $a_{1}(t-med)^{2}$ and if treatment is 2, $a_{2}(t-med)^{2}$ where $a_{1}>0$ and $a_{2}<0$, med = median(1:T). Also it includes parameter n (number of patients), cor_feature (the covariance within correlated modules), var_re (the variance of random effect: for each patient, random intercept is drawn from normal distribution with mean 0) and var_noise (the covariance of noise for each observation, which is iid normal with mean 0)"
   ]
  },
  {
   "cell_type": "code",
   "execution_count": 2,
   "metadata": {},
   "outputs": [],
   "source": [
    "f_sim = function (n,T,X_data,imp_mod){\n",
    "    y = rep(0,n*T)\n",
    "    for (mod in imp_mod){\n",
    "        a1 = (mod-1)*100+1\n",
    "        a2 = a1 + 1\n",
    "        a3 = a2 + 1\n",
    "        y = y+5*X_data[,a1]+2*X_data[,a2]+2*X_data[,a3]+5*X_data[,a2]*X_data[,a3]\n",
    "    }     \n",
    "    return (y)\n",
    "}\n",
    "\n",
    "sim_time=function(n,T=5,p=400,imp_mod,cor_feature=0.8,var_re=1,\n",
    "                  var_noise=1,a1=5,a2=-5){\n",
    "    p0 = 100\n",
    "    p_mult = p/100 # number of modules\n",
    "    if (p_mult%%1 !=0){\n",
    "        stop(\"p should be a multiple of 100\")\n",
    "    }\n",
    "    if (p_mult==1){\n",
    "        cov_feature = diag(p0) # just one independent group\n",
    "    }else{\n",
    "        # Now p_mult>1\n",
    "        # covariance matrix beween features\n",
    "        cov_feature = matrix(0,nrow = p, ncol = p)\n",
    "        # cov of correlated modules\n",
    "        cov_star = matrix(cor_feature,nrow = p0,ncol = p0)\n",
    "        diag(cov_star)=1\n",
    "        # all but the last modules are correlated\n",
    "        for (k in 1:(p_mult-1)){\n",
    "            cov_feature[((k-1)*p0+1):(k*p0),((k-1)*p0+1):(k*p0)] = cov_star\n",
    "        }\n",
    "        # last modules are independent\n",
    "        k = p_mult\n",
    "        cov_feature[((k-1)*p0+1):(k*p0),((k-1)*p0+1):(k*p0)] = diag(p0)\n",
    "        \n",
    "    }\n",
    "     # Create X matrix\n",
    "    data = mvrnorm(n=n*T,rep(0,p),cov_feature) # observations of X are iid\n",
    "    data <- data.frame(data)\n",
    "    names(data) = paste(\"V\",1:p,sep=\"\")\n",
    "\n",
    "    #### random intercept for each patient ####\n",
    "    # random intercept draw from N(0,1)\n",
    "    b = mvrnorm(n = 1, rep(0,n), diag(x=var_re,n))\n",
    "    data$rand_int = rep(b,each = T)\n",
    "    ### end random intercept\n",
    "\n",
    "    data$time <- rep(1:T, n) # time\n",
    "    # treatment 1 or 2 ,categorical type\n",
    "    data$treatment[1:(n*T/2)] <- 1 \n",
    "    data$treatment[((n*T/2)+1):(n*T)] <- 2\n",
    "    data$treatment = factor(data$treatment)\n",
    "\n",
    "    # patient information\n",
    "    data$patient = rep(1:n,each = T)\n",
    "    \n",
    "    # noise\n",
    "    noise = mvrnorm(n = 1, rep(0,n*T), diag(x=var_noise,n*T))\n",
    "\n",
    "    # response y\n",
    "    med = median(1:T)\n",
    "    data$y = (f_sim(n=n,T=T,X_data=data[1:p],imp_mod=imp_mod)+ \n",
    "        (data$treatment==1)*a1*(data$time-med)^2 + \n",
    "        (data$treatment==2)*a2*(data$time-med)^2 + data$rand_int+noise)\n",
    "    \n",
    "    return(data)\n",
    "}"
   ]
  },
  {
   "cell_type": "markdown",
   "metadata": {},
   "source": [
    "# Sample run"
   ]
  },
  {
   "cell_type": "code",
   "execution_count": 5,
   "metadata": {},
   "outputs": [
    {
     "data": {
      "text/html": [
       "<table>\n",
       "<thead><tr><th scope=col>V1</th><th scope=col>V2</th><th scope=col>V3</th><th scope=col>V4</th><th scope=col>V5</th><th scope=col>V6</th><th scope=col>V7</th><th scope=col>V8</th><th scope=col>V9</th><th scope=col>V10</th><th scope=col>...</th><th scope=col>V396</th><th scope=col>V397</th><th scope=col>V398</th><th scope=col>V399</th><th scope=col>V400</th><th scope=col>rand_int</th><th scope=col>time</th><th scope=col>treatment</th><th scope=col>patient</th><th scope=col>y</th></tr></thead>\n",
       "<tbody>\n",
       "\t<tr><td>-0.9193970   </td><td> 0.4416402   </td><td>-1.6874364   </td><td>-1.2282920   </td><td>-1.4719190   </td><td>-0.7258681   </td><td>-1.0007080   </td><td>-0.5809589   </td><td>-0.6480068   </td><td>-1.0717893   </td><td>...          </td><td> 1.0363352   </td><td>-0.0749961081</td><td> 0.7390165   </td><td> 1.3488629   </td><td>-1.15259948  </td><td>0.7452864    </td><td>1            </td><td>1            </td><td>1            </td><td> 8.466967    </td></tr>\n",
       "\t<tr><td>-0.8763958   </td><td>-0.9931904   </td><td>-0.5903482   </td><td>-0.8938970   </td><td>-1.2517455   </td><td>-0.4072832   </td><td>-1.8738281   </td><td>-1.2849527   </td><td>-1.0130168   </td><td>-0.3346373   </td><td>...          </td><td>-0.1901736   </td><td>-0.9470827924</td><td>-2.1501213   </td><td>-0.2297432   </td><td> 0.46416071  </td><td>0.7452864    </td><td>2            </td><td>1            </td><td>1            </td><td>-3.849688    </td></tr>\n",
       "\t<tr><td>-0.6046310   </td><td>-0.3771163   </td><td>-0.8634822   </td><td>-0.9587687   </td><td>-0.8106843   </td><td> 0.2184991   </td><td>-1.4998981   </td><td>-0.8083261   </td><td>-0.2937366   </td><td>-0.7714238   </td><td>...          </td><td> 1.2566406   </td><td> 0.0003758095</td><td> 0.8217849   </td><td>-1.7324848   </td><td> 0.72893247  </td><td>0.7452864    </td><td>3            </td><td>1            </td><td>1            </td><td> 7.850598    </td></tr>\n",
       "\t<tr><td> 0.1238469   </td><td>-1.4196072   </td><td>-0.6497125   </td><td>-0.6689533   </td><td>-1.2245386   </td><td>-1.3911706   </td><td>-0.3050343   </td><td>-0.9567550   </td><td>-1.2421426   </td><td>-0.8961609   </td><td>...          </td><td> 0.8235160   </td><td>-1.5249574007</td><td> 1.6537538   </td><td>-0.6273090   </td><td> 0.41061745  </td><td>0.7452864    </td><td>4            </td><td>1            </td><td>1            </td><td> 6.635803    </td></tr>\n",
       "\t<tr><td>-1.5415618   </td><td>-0.9090509   </td><td>-0.5699499   </td><td>-1.4404816   </td><td>-0.9707221   </td><td>-1.2020829   </td><td>-1.1336156   </td><td>-0.1288167   </td><td>-1.5646634   </td><td>-0.2275436   </td><td>...          </td><td>-1.1591249   </td><td> 0.0983516474</td><td>-0.5823098   </td><td>-0.2405078   </td><td>-1.46114720  </td><td>0.7452864    </td><td>5            </td><td>1            </td><td>1            </td><td> 6.361511    </td></tr>\n",
       "\t<tr><td>-0.3119151   </td><td>-0.7531623   </td><td>-0.3931515   </td><td>-0.3771317   </td><td>-0.7265423   </td><td>-0.6114486   </td><td>-1.1590108   </td><td>-0.7932671   </td><td>-0.8573822   </td><td>-0.5079328   </td><td>...          </td><td>-1.1442965   </td><td>-1.5266078213</td><td>-0.7743898   </td><td>-1.3375772   </td><td>-0.01890809  </td><td>0.5078654    </td><td>1            </td><td>1            </td><td>2            </td><td>15.281902    </td></tr>\n",
       "</tbody>\n",
       "</table>\n"
      ],
      "text/latex": [
       "\\begin{tabular}{r|lllllllllllllllllllllllllllllllllllllllllllllllllllllllllllllllllllllllllllllllllllllllllllllllllllllllllllllllllllllllllllllllllllllllllllllllllllllllllllllllllllllllllllllllllllllllllllllllllllllllllllllllllllllllllllllllllllllllllllllllllllllllllllllllllllllllllllllllllllllllllllllllllllllllllllllllllllllllllllllllllllllllllllllllllllllllllllllllllllllllllllllllllllllllllllllllllllllllllllllllllllll}\n",
       " V1 & V2 & V3 & V4 & V5 & V6 & V7 & V8 & V9 & V10 & ... & V396 & V397 & V398 & V399 & V400 & rand\\_int & time & treatment & patient & y\\\\\n",
       "\\hline\n",
       "\t -0.9193970    &  0.4416402    & -1.6874364    & -1.2282920    & -1.4719190    & -0.7258681    & -1.0007080    & -0.5809589    & -0.6480068    & -1.0717893    & ...           &  1.0363352    & -0.0749961081 &  0.7390165    &  1.3488629    & -1.15259948   & 0.7452864     & 1             & 1             & 1             &  8.466967    \\\\\n",
       "\t -0.8763958    & -0.9931904    & -0.5903482    & -0.8938970    & -1.2517455    & -0.4072832    & -1.8738281    & -1.2849527    & -1.0130168    & -0.3346373    & ...           & -0.1901736    & -0.9470827924 & -2.1501213    & -0.2297432    &  0.46416071   & 0.7452864     & 2             & 1             & 1             & -3.849688    \\\\\n",
       "\t -0.6046310    & -0.3771163    & -0.8634822    & -0.9587687    & -0.8106843    &  0.2184991    & -1.4998981    & -0.8083261    & -0.2937366    & -0.7714238    & ...           &  1.2566406    &  0.0003758095 &  0.8217849    & -1.7324848    &  0.72893247   & 0.7452864     & 3             & 1             & 1             &  7.850598    \\\\\n",
       "\t  0.1238469    & -1.4196072    & -0.6497125    & -0.6689533    & -1.2245386    & -1.3911706    & -0.3050343    & -0.9567550    & -1.2421426    & -0.8961609    & ...           &  0.8235160    & -1.5249574007 &  1.6537538    & -0.6273090    &  0.41061745   & 0.7452864     & 4             & 1             & 1             &  6.635803    \\\\\n",
       "\t -1.5415618    & -0.9090509    & -0.5699499    & -1.4404816    & -0.9707221    & -1.2020829    & -1.1336156    & -0.1288167    & -1.5646634    & -0.2275436    & ...           & -1.1591249    &  0.0983516474 & -0.5823098    & -0.2405078    & -1.46114720   & 0.7452864     & 5             & 1             & 1             &  6.361511    \\\\\n",
       "\t -0.3119151    & -0.7531623    & -0.3931515    & -0.3771317    & -0.7265423    & -0.6114486    & -1.1590108    & -0.7932671    & -0.8573822    & -0.5079328    & ...           & -1.1442965    & -1.5266078213 & -0.7743898    & -1.3375772    & -0.01890809   & 0.5078654     & 1             & 1             & 2             & 15.281902    \\\\\n",
       "\\end{tabular}\n"
      ],
      "text/markdown": [
       "\n",
       "| V1 | V2 | V3 | V4 | V5 | V6 | V7 | V8 | V9 | V10 | ... | V396 | V397 | V398 | V399 | V400 | rand_int | time | treatment | patient | y |\n",
       "|---|---|---|---|---|---|---|---|---|---|---|---|---|---|---|---|---|---|---|---|---|\n",
       "| -0.9193970    |  0.4416402    | -1.6874364    | -1.2282920    | -1.4719190    | -0.7258681    | -1.0007080    | -0.5809589    | -0.6480068    | -1.0717893    | ...           |  1.0363352    | -0.0749961081 |  0.7390165    |  1.3488629    | -1.15259948   | 0.7452864     | 1             | 1             | 1             |  8.466967     |\n",
       "| -0.8763958    | -0.9931904    | -0.5903482    | -0.8938970    | -1.2517455    | -0.4072832    | -1.8738281    | -1.2849527    | -1.0130168    | -0.3346373    | ...           | -0.1901736    | -0.9470827924 | -2.1501213    | -0.2297432    |  0.46416071   | 0.7452864     | 2             | 1             | 1             | -3.849688     |\n",
       "| -0.6046310    | -0.3771163    | -0.8634822    | -0.9587687    | -0.8106843    |  0.2184991    | -1.4998981    | -0.8083261    | -0.2937366    | -0.7714238    | ...           |  1.2566406    |  0.0003758095 |  0.8217849    | -1.7324848    |  0.72893247   | 0.7452864     | 3             | 1             | 1             |  7.850598     |\n",
       "|  0.1238469    | -1.4196072    | -0.6497125    | -0.6689533    | -1.2245386    | -1.3911706    | -0.3050343    | -0.9567550    | -1.2421426    | -0.8961609    | ...           |  0.8235160    | -1.5249574007 |  1.6537538    | -0.6273090    |  0.41061745   | 0.7452864     | 4             | 1             | 1             |  6.635803     |\n",
       "| -1.5415618    | -0.9090509    | -0.5699499    | -1.4404816    | -0.9707221    | -1.2020829    | -1.1336156    | -0.1288167    | -1.5646634    | -0.2275436    | ...           | -1.1591249    |  0.0983516474 | -0.5823098    | -0.2405078    | -1.46114720   | 0.7452864     | 5             | 1             | 1             |  6.361511     |\n",
       "| -0.3119151    | -0.7531623    | -0.3931515    | -0.3771317    | -0.7265423    | -0.6114486    | -1.1590108    | -0.7932671    | -0.8573822    | -0.5079328    | ...           | -1.1442965    | -1.5266078213 | -0.7743898    | -1.3375772    | -0.01890809   | 0.5078654     | 1             | 1             | 2             | 15.281902     |\n",
       "\n"
      ],
      "text/plain": [
       "  V1         V2         V3         V4         V5         V6         V7        \n",
       "1 -0.9193970  0.4416402 -1.6874364 -1.2282920 -1.4719190 -0.7258681 -1.0007080\n",
       "2 -0.8763958 -0.9931904 -0.5903482 -0.8938970 -1.2517455 -0.4072832 -1.8738281\n",
       "3 -0.6046310 -0.3771163 -0.8634822 -0.9587687 -0.8106843  0.2184991 -1.4998981\n",
       "4  0.1238469 -1.4196072 -0.6497125 -0.6689533 -1.2245386 -1.3911706 -0.3050343\n",
       "5 -1.5415618 -0.9090509 -0.5699499 -1.4404816 -0.9707221 -1.2020829 -1.1336156\n",
       "6 -0.3119151 -0.7531623 -0.3931515 -0.3771317 -0.7265423 -0.6114486 -1.1590108\n",
       "  V8         V9         V10        ... V396       V397          V398      \n",
       "1 -0.5809589 -0.6480068 -1.0717893 ...  1.0363352 -0.0749961081  0.7390165\n",
       "2 -1.2849527 -1.0130168 -0.3346373 ... -0.1901736 -0.9470827924 -2.1501213\n",
       "3 -0.8083261 -0.2937366 -0.7714238 ...  1.2566406  0.0003758095  0.8217849\n",
       "4 -0.9567550 -1.2421426 -0.8961609 ...  0.8235160 -1.5249574007  1.6537538\n",
       "5 -0.1288167 -1.5646634 -0.2275436 ... -1.1591249  0.0983516474 -0.5823098\n",
       "6 -0.7932671 -0.8573822 -0.5079328 ... -1.1442965 -1.5266078213 -0.7743898\n",
       "  V399       V400        rand_int  time treatment patient y        \n",
       "1  1.3488629 -1.15259948 0.7452864 1    1         1        8.466967\n",
       "2 -0.2297432  0.46416071 0.7452864 2    1         1       -3.849688\n",
       "3 -1.7324848  0.72893247 0.7452864 3    1         1        7.850598\n",
       "4 -0.6273090  0.41061745 0.7452864 4    1         1        6.635803\n",
       "5 -0.2405078 -1.46114720 0.7452864 5    1         1        6.361511\n",
       "6 -1.3375772 -0.01890809 0.5078654 1    1         2       15.281902"
      ]
     },
     "metadata": {},
     "output_type": "display_data"
    }
   ],
   "source": [
    "# orginal setting \n",
    "set.seed(100)\n",
    "n = 100\n",
    "imp_mod = c(1,4)\n",
    "var_noise = 0\n",
    "data = sim_time(n,imp_mod=imp_mod, var_noise=var_noise)\n",
    "head(data)"
   ]
  }
 ],
 "metadata": {
  "kernelspec": {
   "display_name": "R",
   "language": "R",
   "name": "ir"
  },
  "language_info": {
   "codemirror_mode": "r",
   "file_extension": ".r",
   "mimetype": "text/x-r-source",
   "name": "R",
   "pygments_lexer": "r",
   "version": "3.6.0"
  }
 },
 "nbformat": 4,
 "nbformat_minor": 2
}
