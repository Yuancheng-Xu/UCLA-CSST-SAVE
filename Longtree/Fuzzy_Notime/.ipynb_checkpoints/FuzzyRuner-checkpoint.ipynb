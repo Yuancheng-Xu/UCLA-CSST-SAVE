{
 "cells": [
  {
   "cell_type": "code",
   "execution_count": 1,
   "metadata": {},
   "outputs": [
    {
     "name": "stderr",
     "output_type": "stream",
     "text": [
      "Warning message:\n",
      "\"package 'fuzzyforest' was built under R version 3.6.1\"Registered S3 methods overwritten by 'ggplot2':\n",
      "  method         from \n",
      "  [.quosures     rlang\n",
      "  c.quosures     rlang\n",
      "  print.quosures rlang\n",
      "\n",
      "Warning message:\n",
      "\"package 'WGCNA' was built under R version 3.6.1\"Loading required package: dynamicTreeCut\n",
      "Loading required package: fastcluster\n",
      "\n",
      "Attaching package: 'fastcluster'\n",
      "\n",
      "The following object is masked from 'package:stats':\n",
      "\n",
      "    hclust\n",
      "\n",
      "\n",
      "Attaching package: 'WGCNA'\n",
      "\n",
      "The following object is masked from 'package:stats':\n",
      "\n",
      "    cor\n",
      "\n"
     ]
    }
   ],
   "source": [
    "source(\"../Data Generator.r\")\n",
    "library(fuzzyforest)\n",
    "library(WGCNA)"
   ]
  },
  {
   "cell_type": "code",
   "execution_count": 2,
   "metadata": {},
   "outputs": [],
   "source": [
    "var_re = 3\n",
    "### training, validation and test set ###\n",
    "set.seed(100)\n",
    "n = 400\n",
    "p = 400\n",
    "imp_mod = c(1,4)\n",
    "var_noise = 1\n",
    "data = sim_time(n=n,p=p,imp_mod=imp_mod,var_noise=var_noise,a1=0,a2=0,var_re=var_re)\n",
    "\n",
    "# test set (used for testing performance using optimal parameters)\n",
    "set.seed(101)\n",
    "n_test = 100\n",
    "data_test = sim_time(n=n_test,p=p,imp_mod=imp_mod,var_noise=var_noise,a1=0,a2=0,var_re=var_re)"
   ]
  },
  {
   "cell_type": "code",
   "execution_count": 3,
   "metadata": {},
   "outputs": [],
   "source": [
    "n_run = 50 # the number of times FF will run on the data set\n",
    "n_top = 10 # the top n_top variables will be selected\n",
    "# create empty data frame to save simulation results in\n",
    "result_ff = matrix(0,n_run+1,p+1) # the last row is for average\n",
    "result_ff = data.frame(result_ff)\n",
    "names(result_ff)[p+1] = \"error\"\n",
    "names(result_ff)[1:p] = paste(\"V\",1:p,sep=\"\")"
   ]
  },
  {
   "cell_type": "code",
   "execution_count": 25,
   "metadata": {},
   "outputs": [
    {
     "name": "stdout",
     "output_type": "stream",
     "text": [
      "21 \n",
      "22 \n",
      "23 \n",
      "24 \n",
      "25 \n",
      "26 \n",
      "27 \n",
      "28 \n",
      "29 \n",
      "30 \n",
      "31 \n",
      "32 \n",
      "33 \n",
      "34 \n",
      "35 \n",
      "36 \n",
      "37 \n",
      "38 \n",
      "39 \n",
      "40 \n",
      "41 \n",
      "42 \n",
      "43 \n",
      "44 \n",
      "45 \n",
      "46 \n",
      "47 \n",
      "48 \n",
      "49 \n",
      "50 \n"
     ]
    },
    {
     "data": {
      "text/plain": [
       "    user   system  elapsed \n",
       "25903.34    44.23 25951.64 "
      ]
     },
     "metadata": {},
     "output_type": "display_data"
    }
   ],
   "source": [
    "system.time({\n",
    "for(Repeat in 21:50){\n",
    "    set.seed(Repeat+32) # change seed each loop\n",
    "    \n",
    "    var = c(paste(\"V\",1:p,sep=\"\"))\n",
    "    Formula = as.formula(paste(\"y~\",paste(var,collapse = \"+\")))\n",
    "    \n",
    "    ff <- wff(Formula,data=data,\n",
    "        screen_params=screen_control(min_ntree = 500,keep_fraction = 0.05),\n",
    "        select_params = select_control(min_ntree = 500,number_selected = n_top),\n",
    "        final_ntree = 1000, num_processors = 1)\n",
    "\n",
    "    top_variables = ff$feature_list[,1]\n",
    "\n",
    "    # error on the test set\n",
    "    preds <- predict(ff, new_data=data_test)\n",
    "    error = mean((data_test$y-preds)^2)\n",
    "\n",
    "    # If variable was selected as important, indicate with 1 (otherwise 0)\n",
    "    for (i in 1:p){\n",
    "      result_ff[Repeat,i] <- as.numeric(paste(\"V\",i,sep=\"\") %in% top_variables)\n",
    "    }\n",
    "    result_ff[Repeat,p+1] <- error\n",
    "\n",
    "    # show the progress\n",
    "    flush.console()\n",
    "    cat(Repeat,\"\\n\")\n",
    "}\n",
    "})"
   ]
  },
  {
   "cell_type": "code",
   "execution_count": 32,
   "metadata": {},
   "outputs": [],
   "source": [
    "result_ff[n_run+1,] = colMeans(result_ff[1:n_run,])\n",
    "name = paste(\"ff_n\",n,\".csv\",sep=\"\")\n",
    "write.csv(result_ff,file = name)"
   ]
  },
  {
   "cell_type": "code",
   "execution_count": 30,
   "metadata": {},
   "outputs": [
    {
     "data": {
      "text/html": [
       "<table>\n",
       "<thead><tr><th></th><th scope=col>V1</th><th scope=col>V2</th><th scope=col>V3</th><th scope=col>V301</th><th scope=col>V302</th><th scope=col>V303</th><th scope=col>V22</th><th scope=col>V82</th><th scope=col>V141</th><th scope=col>V178</th><th scope=col>V80</th><th scope=col>V167</th><th scope=col>V179</th><th scope=col>V194</th><th scope=col>V251</th><th scope=col>V41</th><th scope=col>V37</th><th scope=col>V59</th><th scope=col>V125</th><th scope=col>V264</th></tr></thead>\n",
       "<tbody>\n",
       "\t<tr><th scope=row>51</th><td>1   </td><td>1   </td><td>1   </td><td>1   </td><td>1   </td><td>1   </td><td>0.72</td><td>0.66</td><td>0.38</td><td>0.38</td><td>0.34</td><td>0.34</td><td>0.26</td><td>0.14</td><td>0.12</td><td>0.08</td><td>0.06</td><td>0.06</td><td>0.06</td><td>0.06</td></tr>\n",
       "</tbody>\n",
       "</table>\n"
      ],
      "text/latex": [
       "\\begin{tabular}{r|llllllllllllllllllll}\n",
       "  & V1 & V2 & V3 & V301 & V302 & V303 & V22 & V82 & V141 & V178 & V80 & V167 & V179 & V194 & V251 & V41 & V37 & V59 & V125 & V264\\\\\n",
       "\\hline\n",
       "\t51 & 1    & 1    & 1    & 1    & 1    & 1    & 0.72 & 0.66 & 0.38 & 0.38 & 0.34 & 0.34 & 0.26 & 0.14 & 0.12 & 0.08 & 0.06 & 0.06 & 0.06 & 0.06\\\\\n",
       "\\end{tabular}\n"
      ],
      "text/markdown": [
       "\n",
       "| <!--/--> | V1 | V2 | V3 | V301 | V302 | V303 | V22 | V82 | V141 | V178 | V80 | V167 | V179 | V194 | V251 | V41 | V37 | V59 | V125 | V264 |\n",
       "|---|---|---|---|---|---|---|---|---|---|---|---|---|---|---|---|---|---|---|---|---|\n",
       "| 51 | 1    | 1    | 1    | 1    | 1    | 1    | 0.72 | 0.66 | 0.38 | 0.38 | 0.34 | 0.34 | 0.26 | 0.14 | 0.12 | 0.08 | 0.06 | 0.06 | 0.06 | 0.06 |\n",
       "\n"
      ],
      "text/plain": [
       "   V1 V2 V3 V301 V302 V303 V22  V82  V141 V178 V80  V167 V179 V194 V251 V41 \n",
       "51 1  1  1  1    1    1    0.72 0.66 0.38 0.38 0.34 0.34 0.26 0.14 0.12 0.08\n",
       "   V37  V59  V125 V264\n",
       "51 0.06 0.06 0.06 0.06"
      ]
     },
     "metadata": {},
     "output_type": "display_data"
    }
   ],
   "source": [
    "sort(result_ff[n_run+1,][1:(p)],index.return=TRUE,decreasing = TRUE)[1:20]"
   ]
  }
 ],
 "metadata": {
  "kernelspec": {
   "display_name": "R",
   "language": "R",
   "name": "ir"
  },
  "language_info": {
   "codemirror_mode": "r",
   "file_extension": ".r",
   "mimetype": "text/x-r-source",
   "name": "R",
   "pygments_lexer": "r",
   "version": "3.6.0"
  }
 },
 "nbformat": 4,
 "nbformat_minor": 2
}
