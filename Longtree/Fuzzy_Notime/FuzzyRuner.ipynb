{
 "cells": [
  {
   "cell_type": "code",
   "execution_count": 7,
   "metadata": {},
   "outputs": [],
   "source": [
    "source(\"../Data Generator.r\")\n",
    "library(fuzzyforest)\n",
    "library(WGCNA)"
   ]
  },
  {
   "cell_type": "code",
   "execution_count": 8,
   "metadata": {},
   "outputs": [],
   "source": [
    "var_re = 3\n",
    "### training, validation and test set ###\n",
    "set.seed(100)\n",
    "n = 200\n",
    "p = 400\n",
    "imp_mod = c(1,4)\n",
    "var_noise = 1\n",
    "data = sim_time(n=n,p=p,imp_mod=imp_mod,var_noise=var_noise,a1=0,a2=0,var_re=var_re)\n",
    "\n",
    "# test set (used for testing performance using optimal parameters)\n",
    "set.seed(101)\n",
    "n_test = 100\n",
    "data_test = sim_time(n=n_test,p=p,imp_mod=imp_mod,var_noise=var_noise,a1=0,a2=0,var_re=var_re)"
   ]
  },
  {
   "cell_type": "code",
   "execution_count": 9,
   "metadata": {},
   "outputs": [],
   "source": [
    "n_run = 50 # the number of times FF will run on the data set\n",
    "n_top = 10 # the top n_top variables will be selected\n",
    "# create empty data frame to save simulation results in\n",
    "result_ff = matrix(0,n_run+1,p+1) # the last row is for average\n",
    "result_ff = data.frame(result_ff)\n",
    "names(result_ff)[p+1] = \"error\"\n",
    "names(result_ff)[1:p] = paste(\"V\",1:p,sep=\"\")"
   ]
  },
  {
   "cell_type": "code",
   "execution_count": null,
   "metadata": {},
   "outputs": [
    {
     "name": "stdout",
     "output_type": "stream",
     "text": [
      "21 \n",
      "22 \n",
      "23 \n",
      "24 \n",
      "25 \n",
      "26 \n",
      "27 \n",
      "28 \n",
      "29 \n",
      "30 \n",
      "31 \n",
      "32 \n",
      "33 \n",
      "34 \n",
      "35 \n",
      "36 \n",
      "37 \n",
      "38 \n",
      "39 \n",
      "40 \n",
      "41 \n",
      "42 \n",
      "43 \n",
      "44 \n",
      "45 \n"
     ]
    }
   ],
   "source": [
    "system.time({\n",
    "for(Repeat in 21:n_run){\n",
    "    set.seed(Repeat+32) # change seed each loop\n",
    "    \n",
    "    var = c(paste(\"V\",1:p,sep=\"\"))\n",
    "    Formula = as.formula(paste(\"y~\",paste(var,collapse = \"+\")))\n",
    "    \n",
    "    ff <- wff(Formula,data=data,\n",
    "        screen_params=screen_control(min_ntree = 500,keep_fraction = 0.05),\n",
    "        select_params = select_control(min_ntree = 500,number_selected = n_top),\n",
    "        final_ntree = 1000, num_processors = 1)\n",
    "\n",
    "    top_variables = ff$feature_list[,1]\n",
    "\n",
    "    # error on the test set\n",
    "    preds <- predict(ff, new_data=data_test)\n",
    "    error = mean((data_test$y-preds)^2)\n",
    "\n",
    "    # If variable was selected as important, indicate with 1 (otherwise 0)\n",
    "    for (i in 1:p){\n",
    "      result_ff[Repeat,i] <- as.numeric(paste(\"V\",i,sep=\"\") %in% top_variables)\n",
    "    }\n",
    "    result_ff[Repeat,p+1] <- error\n",
    "\n",
    "    # show the progress\n",
    "    flush.console()\n",
    "    cat(Repeat,\"\\n\")\n",
    "}\n",
    "})"
   ]
  },
  {
   "cell_type": "code",
   "execution_count": null,
   "metadata": {},
   "outputs": [],
   "source": [
    "result_ff[n_run+1,] = colMeans(result_ff[1:n_run,])\n",
    "name = paste(\"ff_n\",n,\".csv\",sep=\"\")\n",
    "write.csv(result_ff,file = name)"
   ]
  },
  {
   "cell_type": "code",
   "execution_count": null,
   "metadata": {},
   "outputs": [],
   "source": [
    "result_ff"
   ]
  },
  {
   "cell_type": "code",
   "execution_count": 21,
   "metadata": {},
   "outputs": [],
   "source": [
    "# sort(result_ff[n_run+1,][1:(p)],index.return=TRUE,decreasing = TRUE)[1:20]"
   ]
  }
 ],
 "metadata": {
  "kernelspec": {
   "display_name": "R",
   "language": "R",
   "name": "ir"
  },
  "language_info": {
   "codemirror_mode": "r",
   "file_extension": ".r",
   "mimetype": "text/x-r-source",
   "name": "R",
   "pygments_lexer": "r",
   "version": "3.6.0"
  }
 },
 "nbformat": 4,
 "nbformat_minor": 2
}
