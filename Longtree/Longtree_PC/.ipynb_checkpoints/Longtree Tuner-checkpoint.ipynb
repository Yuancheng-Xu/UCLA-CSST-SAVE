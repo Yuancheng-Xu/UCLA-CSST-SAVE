{
 "cells": [
  {
   "cell_type": "code",
   "execution_count": 1,
   "metadata": {},
   "outputs": [
    {
     "name": "stderr",
     "output_type": "stream",
     "text": [
      "Warning message:\n",
      "\"package 'glmertree' was built under R version 3.6.1\"Loading required package: lme4\n",
      "Warning message:\n",
      "\"package 'lme4' was built under R version 3.6.1\"Loading required package: Matrix\n",
      "Loading required package: partykit\n",
      "Warning message:\n",
      "\"package 'partykit' was built under R version 3.6.1\"Loading required package: grid\n",
      "Loading required package: libcoin\n",
      "Warning message:\n",
      "\"package 'libcoin' was built under R version 3.6.1\"Loading required package: mvtnorm\n",
      "Warning message:\n",
      "\"package 'WGCNA' was built under R version 3.6.1\"Loading required package: dynamicTreeCut\n",
      "Loading required package: fastcluster\n",
      "\n",
      "Attaching package: 'fastcluster'\n",
      "\n",
      "The following object is masked from 'package:stats':\n",
      "\n",
      "    hclust\n",
      "\n",
      "\n",
      "Registered S3 methods overwritten by 'ggplot2':\n",
      "  method         from \n",
      "  [.quosures     rlang\n",
      "  c.quosures     rlang\n",
      "  print.quosures rlang\n",
      "\n",
      "Attaching package: 'WGCNA'\n",
      "\n",
      "The following object is masked from 'package:stats':\n",
      "\n",
      "    cor\n",
      "\n",
      "Warning message:\n",
      "\"package 'pre' was built under R version 3.6.1\""
     ]
    }
   ],
   "source": [
    "source(\"../Data Generator.r\")\n",
    "source(\"../Longtree.r\")"
   ]
  },
  {
   "cell_type": "markdown",
   "metadata": {},
   "source": [
    "Note: the following dataset has not relationship with time. a1 and a2 are 0. But the random intercept are big."
   ]
  },
  {
   "cell_type": "markdown",
   "metadata": {},
   "source": [
    "# Tuning Longtree"
   ]
  },
  {
   "cell_type": "code",
   "execution_count": 7,
   "metadata": {},
   "outputs": [],
   "source": [
    "var_re = 3\n",
    "### training, validation and test set ###\n",
    "set.seed(100)\n",
    "n = 400\n",
    "p = 400\n",
    "imp_mod = c(1,4)\n",
    "var_noise = 1\n",
    "data = sim_time(n=n,p=p,imp_mod=imp_mod,var_noise=var_noise,a1=0,a2=0,var_re=var_re)\n",
    "\n",
    "# test set (used for testing performance using optimal parameters)\n",
    "set.seed(101)\n",
    "n_test = 100\n",
    "data_test = sim_time(n=n_test,p=p,imp_mod=imp_mod,var_noise=var_noise,a1=0,a2=0,var_re=var_re)\n",
    "\n",
    "# validation set (used for tuning parameters)\n",
    "set.seed(102)\n",
    "n_valid = 100\n",
    "data_valid = sim_time(n=n_valid,p=p,imp_mod=imp_mod,var_noise=var_noise,a1=0,a2=0,var_re=var_re)\n",
    "###"
   ]
  },
  {
   "cell_type": "code",
   "execution_count": 8,
   "metadata": {},
   "outputs": [],
   "source": [
    "fixed_regress = NULL\n",
    "fixed_split = NULL\n",
    "cluster = \"patient\"\n",
    "var_select = paste(\"V\",1:p,sep=\"\")"
   ]
  },
  {
   "cell_type": "code",
   "execution_count": 9,
   "metadata": {},
   "outputs": [],
   "source": [
    "# This is default parameters\n",
    "# alpha_screen = 0.2; alpha_select = 0.2; alpha_predict = 0.05\n",
    "# maxdepth_factor_select = 0.5; maxdepth_factor_screen = 0.04\n",
    "# minsize_multiplier = 5\n",
    "# Fuzzy=TRUE"
   ]
  },
  {
   "cell_type": "code",
   "execution_count": 13,
   "metadata": {},
   "outputs": [
    {
     "name": "stdout",
     "output_type": "stream",
     "text": [
      "Use Longtree_PC\n",
      "After screening from non-grey modules  V1 V2 V3 V76 V89 V117 V187 V225 \n",
      "Final non-grey features  V1 V2 V3 \n",
      "Final grey features  V301 V302 V303 \n",
      "The final features  V1 V2 V3 V301 V302 V303 \n"
     ]
    },
    {
     "data": {
      "text/plain": [
       "   user  system elapsed \n",
       "  71.24    1.12   75.36 "
      ]
     },
     "metadata": {},
     "output_type": "display_data"
    },
    {
     "data": {
      "text/html": [
       "8.18780052766109"
      ],
      "text/latex": [
       "8.18780052766109"
      ],
      "text/markdown": [
       "8.18780052766109"
      ],
      "text/plain": [
       "[1] 8.187801"
      ]
     },
     "metadata": {},
     "output_type": "display_data"
    },
    {
     "data": {
      "text/html": [
       "7.72471055777305"
      ],
      "text/latex": [
       "7.72471055777305"
      ],
      "text/markdown": [
       "7.72471055777305"
      ],
      "text/plain": [
       "[1] 7.724711"
      ]
     },
     "metadata": {},
     "output_type": "display_data"
    }
   ],
   "source": [
    "# Tuning parameters on the validation set: alpha,maxdepth,Fuzzy\n",
    "alpha_screen = 0.2; alpha_select = 0.2; alpha_predict = 0.05\n",
    "maxdepth_factor_select = 0.5; maxdepth_factor_screen = 0.04\n",
    "minsize_multiplier = 5\n",
    "Fuzzy=FALSE\n",
    "\n",
    "time = system.time({\n",
    "    mytree = Longtree(data,fixed_regress=fixed_regress,fixed_split=fixed_split,\n",
    "                      var_select=var_select,cluster=cluster,Fuzzy=Fuzzy,\n",
    "                      maxdepth_factor_select =  maxdepth_factor_select,\n",
    "                      maxdepth_factor_screen = maxdepth_factor_screen,\n",
    "                      minsize_multiplier = minsize_multiplier, \n",
    "                      alpha_screen = alpha_screen,\n",
    "                      alpha_select=alpha_select,alpha_predict=alpha_predict)\n",
    "})\n",
    "time # running time\n",
    "mean((predict(mytree,newdata=data_valid,re.form=NA)-data_valid$y)**2)\n",
    "# coef(mytree)\n",
    "# performance of test set\n",
    "mse = mean((predict(mytree,newdata=data_test,re.form=NA)-data_test$y)**2)\n",
    "mse\n",
    "# plot(mytree)"
   ]
  },
  {
   "cell_type": "markdown",
   "metadata": {},
   "source": [
    "# Save the results"
   ]
  },
  {
   "cell_type": "code",
   "execution_count": 14,
   "metadata": {},
   "outputs": [],
   "source": [
    "save_item = list(tree=mytree,mse=mse,alpha_screen=alpha_screen,\n",
    "                 alpha_select = alpha_select, alpha_predict=alpha_predict,\n",
    "                 maxdepth_factor_select=maxdepth_factor_select,\n",
    "                 maxdepth_factor_screen=maxdepth_factor_screen,\n",
    "                 minsize_multiplier = minsize_multiplier, \n",
    "                 final_selection = mytree$final_selection, Fuzzy=Fuzzy,time=time)\n",
    "name = paste(\"Longtree_n\",n,\".rds\",sep=\"\")\n",
    "saveRDS(save_item, name)"
   ]
  },
  {
   "cell_type": "code",
   "execution_count": 19,
   "metadata": {},
   "outputs": [
    {
     "data": {
      "text/plain": [
       "$mse\n",
       "[1] 7.724711\n",
       "\n",
       "$alpha_screen\n",
       "[1] 0.2\n",
       "\n",
       "$alpha_select\n",
       "[1] 0.2\n",
       "\n",
       "$alpha_predict\n",
       "[1] 0.05\n",
       "\n",
       "$maxdepth_factor_select\n",
       "[1] 0.5\n",
       "\n",
       "$maxdepth_factor_screen\n",
       "[1] 0.04\n",
       "\n",
       "$minsize_multiplier\n",
       "[1] 5\n",
       "\n",
       "$final_selection\n",
       "[1] \"V1\"   \"V2\"   \"V3\"   \"V301\" \"V302\" \"V303\"\n",
       "\n",
       "$Fuzzy\n",
       "[1] FALSE\n",
       "\n",
       "$time\n",
       "   user  system elapsed \n",
       "  71.24    1.12   75.36 \n"
      ]
     },
     "metadata": {},
     "output_type": "display_data"
    }
   ],
   "source": [
    "# retrieve information from the saved data\n",
    "# tmp = readRDS(name)\n",
    "tmp = readRDS(\"Longtree_n400.rds\")\n",
    "tmp[2:length(tmp)]"
   ]
  },
  {
   "cell_type": "markdown",
   "metadata": {},
   "source": [
    "# Prediction step tuning"
   ]
  },
  {
   "cell_type": "code",
   "execution_count": null,
   "metadata": {},
   "outputs": [],
   "source": [
    "# the final selection among all the chosen features \n",
    "var = paste(\"V\",c(1,2,3,301,302,303),sep=\"\")\n",
    "regress_var = var\n",
    "split_var = var\n",
    "\n",
    "Formula = as.formula(paste(\"y~\",paste(regress_var,collapse = \"+\"),\n",
    "                   \"|\",cluster,\"|\",\n",
    "                 paste(split_var,collapse = \"+\")))\n",
    "system.time({mytree = lmertree(Formula, data = data,alpha = 0.05,maxdepth=7,\n",
    "                              minsize=40)}) \n",
    "mean((predict(mytree,newdata=data_valid,re.form=NA)-data_valid$y)**2)\n",
    "mean((predict(mytree,newdata=data_test,re.form=NA)-data_test$y)**2)\n",
    "# coef(mytree)"
   ]
  }
 ],
 "metadata": {
  "kernelspec": {
   "display_name": "R",
   "language": "R",
   "name": "ir"
  },
  "language_info": {
   "codemirror_mode": "r",
   "file_extension": ".r",
   "mimetype": "text/x-r-source",
   "name": "R",
   "pygments_lexer": "r",
   "version": "3.6.0"
  }
 },
 "nbformat": 4,
 "nbformat_minor": 2
}
