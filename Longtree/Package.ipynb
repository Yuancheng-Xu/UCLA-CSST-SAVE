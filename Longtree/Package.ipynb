{
 "cells": [
  {
   "cell_type": "code",
   "execution_count": 21,
   "metadata": {},
   "outputs": [],
   "source": [
    "source(\"SimData.r\")\n",
    "library(\"glmertree\")\n",
    "library(\"WGCNA\")\n",
    "library(\"pre\")"
   ]
  },
  {
   "cell_type": "markdown",
   "metadata": {},
   "source": [
    "Problems\n",
    "* When fixed_regress = NULL, we can let the user decide whether to use PC or not as regressors. If don't use PC, that is a WGCNA+ regular RE-EM\n",
    "* Right now we can only do random intercept\n",
    "* User may want to tune other parameters in WGCNA (in addition to power). How to do this in a elegant way? (Not urgent since the current parameters can cluster correctly)\n",
    "* Right now all the alpha in the algorithm are the same."
   ]
  },
  {
   "cell_type": "markdown",
   "metadata": {},
   "source": [
    "Output: a glmertree object (trained tree)\n",
    "\n",
    "Parameters:\n",
    "* data: training data\n",
    "* fixed_regress: the regressors used no matter what such as time and time^2; if fixed_regress = NULL, use PC as regressor at screening step\n",
    "* fixed_split: a char vector containing features definitely used in splitting\n",
    "* var_select: a char vector containing features to be selected. These features will be clustered by WGCNA and the chosen ones will be used in regression and splitting\n",
    "* power: parameters of WGCNA\n",
    "* cluster: the variable name of each cluster (in terms of random effect)\n",
    "* Fuzzy = TRUE: Screen like Fuzzy Forest; Fuzzy= FALSE: first screen within non-grey modules and then select the final non-grey features within the selected ones from each non-grey module; Use this final non-grey features as regressors (plus fixed_regress) and use grey features as split_var to select grey features. The use final non-grey features and selected grey features together in splitting and regression variables, to do the final prediction. Fuzzy=FALSE is used if there are so many non-grey features and you want to protect grey features.\n",
    "* maxdepth_factor_screen: when selecting features from one module, the maxdepth of the glmertree is set to ceiling function of maxdepth_factor_screen*(#features in that module). Default is 0.04. \n",
    "* maxdepth_factor_select: Given screened features (from each modules, if Fuzzy=FALSE,that is the selected non-grey features from each non-grey modules), we want to select again from those screened features. The maxdepth of that glmertree is set to be ceiling of maxdepth_factor_select*(#screened features). Default is 0.6.\n",
    "* for the maxdepth of the prediction tree (final tree), maxdepth is set to the length of the split_var (fixed+chosen ones)\n",
    "* The most important parameters are alpha and maxdepth."
   ]
  },
  {
   "cell_type": "code",
   "execution_count": 12,
   "metadata": {},
   "outputs": [],
   "source": [
    "Longtree = function(data,fixed_regress=NULL,fixed_split=NULL,var_select=NULL,\n",
    "                    power=6,cluster,alpha=0.2,maxdepth_factor_screen=0.04,\n",
    "                    maxdepth_factor_select=0.5,Fuzzy=TRUE){\n",
    "    ### if there are no features to select, just use fixed_regress and fixed_split\n",
    "    if(length(var_select)==0){\n",
    "        if (length(fixed_regress)==0){\n",
    "            if (length(fixed_split)==0){\n",
    "                stop(\"no features to split and regress on\")\n",
    "            }\n",
    "            fixed_regress = \"1\"\n",
    "        }\n",
    "        maxdepth = length(fixed_split)\n",
    "        Formula = as.formula(paste(\"y~\",paste(fixed_regress,collapse = \"+\"),\n",
    "                                       \"|\",cluster,\"|\",\n",
    "                                     paste(fixed_split,collapse = \"+\")))\n",
    "        mytree = lmertree(Formula, data = data,alpha = alpha,maxdepth=maxdepth)\n",
    "        return (mytree)\n",
    "    } ###\n",
    "    # Now var_select is not empty\n",
    "    # If don't specify fixed_regress: use PC as regressors at screening step\n",
    "    if (length(fixed_regress)==0){\n",
    "        cat(\"Use Longtree_PC\\n\")\n",
    "        return(Longtree_PC(data=data,fixed_split=fixed_split,\n",
    "                    var_select=var_select,\n",
    "                    power=power,cluster=cluster,alpha=alpha,\n",
    "                    maxdepth_factor_screen=maxdepth_factor_screen, \n",
    "                    maxdepth_factor_select=maxdepth_factor_select,Fuzzy=Fuzzy))\n",
    "    }###\n",
    "    # Now we have non-empty var_select,fixed_regress\n",
    "    cat(\"Use Longtree_time\\n\")\n",
    "    return(Longtree_time(data=data,fixed_regress=fixed_regress,\n",
    "                        fixed_split=fixed_split, var_select=var_select,\n",
    "                    power=power,cluster=cluster,alpha=alpha,\n",
    "                    maxdepth_factor_screen=maxdepth_factor_screen, \n",
    "                    maxdepth_factor_select=maxdepth_factor_select,Fuzzy=Fuzzy))\n",
    "                        \n",
    "}\n",
    "\n",
    "# Longtree_time: used when var_select and fixed_regress are non-empty\n",
    "# Longtree is equivalent to this Longtree_time in this case\n",
    "Longtree_time = function(data,fixed_regress,fixed_split,var_select,power,cluster,\n",
    "                         alpha,maxdepth_factor_screen,maxdepth_factor_select,Fuzzy){\n",
    "    # Cluster var_select\n",
    "    data_WGCNA = data[var_select]\n",
    "    # Must set numericLabels = FALSE so that it uses actual colors like \"grey\"\n",
    "    net = blockwiseModules(data_WGCNA, power = power,TOMType = \"unsigned\", \n",
    "                           minModuleSize = 30,reassignThreshold = 0, \n",
    "                           mergeCutHeight = 0.25,numericLabels = FALSE, \n",
    "                           pamRespectsDendro = FALSE,verbose = 0)\n",
    "    # the correspondance betweeen feature names and colors\n",
    "    colors = net$colors # it is a string vector with names (that is the name is V1)\n",
    "    module_names = unique(colors) # all color names\n",
    "    #\"dictionary\"with keys=name of color,values=names of features of that color\n",
    "    module_dic = list() \n",
    "    for (i in 1:length(module_names)){\n",
    "        module_dic[[module_names[i]]] = names(colors[colors==module_names[i]])\n",
    "    }\n",
    "    \n",
    "    imp_var = list() # used to store the names of important features\n",
    "    \n",
    "    if(Fuzzy==TRUE){\n",
    "        # Do the selection step just like Fuzzy Forest:\n",
    "        # for each module (including grey), use them as split_var and select\n",
    "        # finally, use all selected ones as split_var and select\n",
    "        \n",
    "        for (name in module_names){\n",
    "        # in the formula, add fixed_split as split_var, also include the module features\n",
    "        split_var = c(module_dic[[name]],fixed_split)\n",
    "        maxdepth = ceiling(maxdepth_factor_screen*length(split_var))\n",
    "        # use fixed_regress as regressor\n",
    "        regress_var = fixed_regress\n",
    "\n",
    "        # Formula for lmtree\n",
    "        Formula = as.formula(paste(\"y~\",paste(regress_var,collapse = \"+\"),\n",
    "                               \"|\",cluster,\"|\",\n",
    "                    paste(split_var,collapse = \"+\")))\n",
    "\n",
    "        # fit the tree\n",
    "        mytree = lmertree(Formula, data = data,alpha = alpha,maxdepth=maxdepth) \n",
    "\n",
    "        #extract important features\n",
    "        imp_var[[length(imp_var)+1]] = get_split_names(mytree$tree,data)\n",
    "        }\n",
    "        \n",
    "        # the variables selected from all the modules\n",
    "        final_var = imp_var[[1]]\n",
    "        if (length(imp_var)>1){\n",
    "            # There are at least 2 modules\n",
    "            for (i in 2:length(imp_var)){\n",
    "            final_var = c(final_var,imp_var[[i]])\n",
    "         }\n",
    "            cat(\"after screening within modules\",final_var,\"\\n\")\n",
    "            \n",
    "            # the final selection among all the chosen features \n",
    "            regress_var = fixed_regress\n",
    "            split_var = c(final_var,fixed_split)\n",
    "            maxdepth = ceiling(maxdepth_factor_select*length(split_var))\n",
    "            Formula = as.formula(paste(\"y~\",paste(regress_var,collapse = \"+\"),\n",
    "                                       \"|\",cluster,\"|\",\n",
    "                                     paste(split_var,collapse = \"+\")))\n",
    "            mytree = lmertree(Formula, data = data,alpha = alpha,maxdepth=maxdepth) \n",
    "            final_var = get_split_names(mytree$tree,data)\n",
    "            cat(\"final features\",final_var)      \n",
    "        }else{\n",
    "            # only grey module\n",
    "            cat(\"There is only one module, final features\",final_var)\n",
    "        }\n",
    "        # use the final features as split&regression variables\n",
    "        split_var = c(final_var,fixed_split)\n",
    "        maxdepth = length(split_var)\n",
    "        regress_var = c(fixed_regress,final_var)\n",
    "        Formula = as.formula(paste(\"y~\",paste(regress_var,collapse = \"+\"),\n",
    "                                   \"|\",cluster,\"|\",\n",
    "                                 paste(split_var,collapse = \"+\")))\n",
    "        mytree = lmertree(Formula, data = data,alpha=alpha,maxdepth=maxdepth) \n",
    "        return(mytree)           \n",
    "    }\n",
    "    if(Fuzzy==FALSE){\n",
    "        # first do the screening and selecting in non-grey modules\n",
    "        # Then use those non-grey estimated true features as regressors\n",
    "        # and grey features as split_var, choose grey features and keep them\n",
    "        for (name in module_names){\n",
    "        if(name==\"grey\"){\n",
    "            next\n",
    "        }\n",
    "        split_var = c(module_dic[[name]],fixed_split)\n",
    "        maxdepth = ceiling(maxdepth_factor_screen*length(split_var))\n",
    "        regress_var = fixed_regress\n",
    "\n",
    "        # Formula for lmtree\n",
    "        Formula = as.formula(paste(\"y~\",paste(regress_var,collapse = \"+\"),\n",
    "                               \"|\",cluster,\"|\",\n",
    "                    paste(split_var,collapse = \"+\")))\n",
    "\n",
    "        # fit the tree\n",
    "        mytree = lmertree(Formula, data = data,alpha = alpha,maxdepth=maxdepth) \n",
    "\n",
    "        #extract important features\n",
    "        imp_var[[length(imp_var)+1]] = get_split_names(mytree$tree,data)\n",
    "        }# Now imp_var contains important features from modules that are not grey\n",
    "        if(length(imp_var)==0){\n",
    "            # only grey module, no other modules\n",
    "            split_var = c(module_dic[[\"grey\"]],fixed_split)\n",
    "            maxdepth = ceiling(maxdepth_factor_screen*length(split_var))\n",
    "            regress_var = fixed_regress\n",
    "            Formula = as.formula(paste(\"y~\",paste(regress_var,collapse = \"+\"),\n",
    "                               \"|\",cluster,\"|\",\n",
    "                    paste(split_var,collapse = \"+\")))\n",
    "            mytree = lmertree(Formula, data = data,alpha = alpha,maxdepth=maxdepth) \n",
    "            final_var = get_split_names(mytree$tree,data)\n",
    "            cat(\"There is only one module which is grey, final features\",final_var)\n",
    "        }else{\n",
    "            # at least one non-grey module\n",
    "            final_var = imp_var[[1]]\n",
    "            # if only one non-grey module: final_var is the chosen non-grey features\n",
    "            # if at least two non-grey modules:\n",
    "            if (length(imp_var)>1){\n",
    "                # There are at least 2 modules\n",
    "                for (i in 2:length(imp_var)){\n",
    "                final_var = c(final_var,imp_var[[i]])\n",
    "                }\n",
    "            \n",
    "            cat(\"After screening within non-grey modules\",final_var,\"\\n\")\n",
    "            # select from selected non-grey features\n",
    "            regress_var = fixed_regress\n",
    "            split_var = c(final_var,fixed_split)\n",
    "            maxdepth = ceiling(maxdepth_factor_select*length(split_var))\n",
    "            Formula = as.formula(paste(\"y~\",paste(regress_var,collapse = \"+\"),\n",
    "                                       \"|\",cluster,\"|\",\n",
    "                                     paste(split_var,collapse = \"+\")))\n",
    "            mytree = lmertree(Formula, data = data,alpha = alpha,maxdepth=maxdepth) \n",
    "            final_var = get_split_names(mytree$tree,data)\n",
    "            }\n",
    "            cat(\"The chosen non-grey features are\",final_var,\"\\n\")\n",
    "            \n",
    "            # use final_var (chosen non-grey features) to select grey features\n",
    "            regress_var = c(fixed_regress,final_var)\n",
    "            split_var = c(module_dic[[\"grey\"]],fixed_split)\n",
    "            maxdepth = ceiling(maxdepth_factor_screen*length(split_var))\n",
    "            Formula = as.formula(paste(\"y~\",paste(regress_var,collapse = \"+\"),\n",
    "                                       \"|\",cluster,\"|\",\n",
    "                                     paste(split_var,collapse = \"+\")))\n",
    "            mytree = lmertree(Formula, data = data,alpha = alpha,maxdepth=maxdepth) \n",
    "            grey_var = get_split_names(mytree$tree,data)\n",
    "            cat(\"The chosen grey features are\",grey_var,\"\\n\")\n",
    "            # use final_var and grey_var do to the final model tree\n",
    "            final_var = c(final_var,grey_var)    \n",
    "            cat(\"final features\",final_var)  \n",
    "        }\n",
    "        # use the final features as split&regression variables\n",
    "        split_var = c(final_var,fixed_split)\n",
    "        maxdepth = length(split_var)\n",
    "        regress_var = c(fixed_regress,final_var)\n",
    "        Formula = as.formula(paste(\"y~\",paste(regress_var,collapse = \"+\"),\n",
    "                                   \"|\",cluster,\"|\",\n",
    "                                 paste(split_var,collapse = \"+\")))\n",
    "        mytree = lmertree(Formula, data = data,alpha=alpha,maxdepth=maxdepth) \n",
    "        return(mytree)\n",
    "    }\n",
    "    \n",
    "}\n",
    "\n",
    "# Methods for extracting names of splitting features used in a tree\n",
    "# tree: a tree object; data: the train or test set\n",
    "get_split_names = function(tree,data){\n",
    "    # path: the string that contains all the node information\n",
    "    paths <- pre:::list.rules(tree, removecomplements = FALSE)\n",
    "    vnames = names(data)\n",
    "    # the regex for a variable\n",
    "    # tomatch = paste(paste(var,\"<=\"),\"|\",paste(var,\">\"),sep=\"\")\n",
    "    # match to tomatch in path\n",
    "    tmp = vnames[sapply(sapply(vnames, FUN = function(var) grep(paste(paste(var,\"<=\"),\"|\",paste(var,\">\"),sep=\"\"), paths)), length) > 0]\n",
    "    return (tmp)\n",
    "}\n",
    "\n",
    "# Longtree_PC: used when fixed_regress are NULL, use PC as regressors for non-grey module\n",
    "# Longtree is equivalent to this Longtree_PC in this case\n",
    "Longtree_PC = function(data,fixed_split, var_select, power=power,cluster,\n",
    "                    alpha, maxdepth_factor_screen,maxdepth_factor_select,Fuzzy){\n",
    "    # Cluster var_select\n",
    "    data_WGCNA = data[var_select]\n",
    "    # Must set numericLabels = FALSE so that it uses actual colors like \"grey\"\n",
    "    net = blockwiseModules(data_WGCNA, power = power,TOMType = \"unsigned\", \n",
    "                           minModuleSize = 30,reassignThreshold = 0, \n",
    "                           mergeCutHeight = 0.25,numericLabels = FALSE, \n",
    "                           pamRespectsDendro = FALSE,verbose = 0)\n",
    "    # the correspondance betweeen feature names and colors\n",
    "    colors = net$colors # it is a string vector with names (that is the name is V1)\n",
    "    module_names = unique(colors) # all color names\n",
    "    #\"dictionary\"with keys=name of color,values=names of features of that color\n",
    "    module_dic = list() \n",
    "    for (i in 1:length(module_names)){\n",
    "        module_dic[[module_names[i]]] = names(colors[colors==module_names[i]])\n",
    "    }\n",
    "    \n",
    "    # extract eigengenes and rename the column\n",
    "    # The eigengene(1st pricinpal component) is L2 normalized\n",
    "    eigengene = net$MEs\n",
    "    # eigengene\n",
    "    # add eigengen to training data (for grey group, eigengene is meaningless)\n",
    "    for (name in module_names){\n",
    "        if (name == \"grey\"){\n",
    "            next\n",
    "        }\n",
    "        eigen_name = paste(\"ME\",name,sep=\"\")\n",
    "        data[[eigen_name]] = eigengene[[eigen_name]]\n",
    "    }\n",
    "    imp_var = list() # used to store the names of important features\n",
    "    \n",
    "    if (Fuzzy==TRUE){\n",
    "        # first screen then select, just like Fuzzy Forest\n",
    "        # For each module that is not grey, use model tree as following:\n",
    "        # use its eigengene as regression variables and all features as splitting ones\n",
    "        # For grey module, use regular REEM (set regressor = \"1\")\n",
    "        # Then select by using all chosen features as split_var and regress=\"1\"\n",
    "        # Finally, use all the selected features for splitting and regression variables\n",
    "       \n",
    "        for (name in module_names){\n",
    "            split_var = c(module_dic[[name]],fixed_split)\n",
    "            maxdepth = ceiling(maxdepth_factor_screen*length(split_var))\n",
    "            # use eigengene as regressor\n",
    "            if (name == \"grey\"){\n",
    "                regress_var = \"1\"\n",
    "            }else{\n",
    "                eigen_name = paste(\"ME\",name,sep=\"\")\n",
    "                regress_var = eigen_name\n",
    "            }\n",
    "            # Formula for lmtree: use PC as regressors\n",
    "            Formula = as.formula(paste(\"y~\",paste(regress_var,collapse = \"+\"),\n",
    "                                   \"|\",cluster,\"|\",\n",
    "                                 paste(split_var,collapse = \"+\")))\n",
    "\n",
    "            # fit the tree\n",
    "            mytree = lmertree(Formula, data=data,alpha=alpha,maxdepth=maxdepth) \n",
    "            #extract important features\n",
    "            imp_var[[length(imp_var)+1]] = get_split_names(mytree$tree,data)\n",
    "        }        \n",
    "        # the variables selected from all the modules\n",
    "        final_var = imp_var[[1]]      \n",
    "        if (length(imp_var)>1){\n",
    "            for (i in 2:length(imp_var)){\n",
    "            final_var = c(final_var,imp_var[[i]])\n",
    "         }\n",
    "            cat(\"After screening within modules \",final_var,\"\\n\")\n",
    "            # select features again\n",
    "            # use all selected features as split_var with no regressors\n",
    "            split_var = c(final_var,fixed_split)\n",
    "            maxdepth = ceiling(maxdepth_factor_select*length(split_var))\n",
    "            Formula = as.formula(paste(\"y~\",\"1\",\n",
    "                                       \"|\",cluster,\"|\",\n",
    "                                     paste(split_var,collapse = \"+\")))\n",
    "            mytree = lmertree(Formula, data = data,alpha=alpha,maxdepth=maxdepth)\n",
    "            final_var = get_split_names(mytree$tree,data)\n",
    "            cat(\"Final features \",final_var,\"\\n\")\n",
    "            \n",
    "        }else{\n",
    "            # length(imp_var) now is 1, only one module\n",
    "            cat(\"There is only one module \",final_var,\"\\n\")\n",
    "        }\n",
    "        \n",
    "        # use the final features as split&regression variables\n",
    "        split_var = c(final_var,fixed_split)\n",
    "        maxdepth = length(split_var)\n",
    "        Formula = as.formula(paste(\"y~\",paste(final_var,collapse = \"+\"),\n",
    "                                   \"|\",cluster,\"|\",\n",
    "                                 paste(split_var,collapse = \"+\")))\n",
    "        mytree = lmertree(Formula, data = data,alpha=alpha,maxdepth=maxdepth)\n",
    "        return (mytree)\n",
    "    }\n",
    "    \n",
    "    if (Fuzzy== FALSE){\n",
    "        # select features from non-grey modules and use them as regressors \n",
    "        # to select features from grey module. Then use all of them as split and regressor\n",
    "        \n",
    "        # for non-grey groups\n",
    "        for (name in module_names){\n",
    "            if (name == \"grey\"){\n",
    "                next\n",
    "            }\n",
    "            split_var = c(module_dic[[name]],fixed_split)\n",
    "            maxdepth = ceiling(maxdepth_factor_screen*length(split_var))\n",
    "            # use eigengene as regressor\n",
    "            eigen_name = paste(\"ME\",name,sep=\"\")\n",
    "            regress_var = eigen_name\n",
    "            # Formula for lmtree: use PC as regressors\n",
    "            Formula = as.formula(paste(\"y~\",paste(regress_var,collapse = \"+\"),\n",
    "                                   \"|\",cluster,\"|\",\n",
    "                                 paste(split_var,collapse = \"+\")))\n",
    "\n",
    "            # fit the tree\n",
    "            mytree = lmertree(Formula, data=data,alpha=alpha,maxdepth=maxdepth) \n",
    "            #extract important features\n",
    "            imp_var[[length(imp_var)+1]] = get_split_names(mytree$tree,data)\n",
    "        }\n",
    "        # Now imp_var contains all the non-grey screened features\n",
    "        if(length(imp_var)==0){\n",
    "            # there is only one module which is grey\n",
    "            # just select from the grey module\n",
    "            split_var = c(module_dic[[\"grey\"]],fixed_split)\n",
    "            maxdepth = ceiling(maxdepth_factor_screen*length(split_var))\n",
    "            regress_var = \"1\"\n",
    "            Formula = as.formula(paste(\"y~\",paste(regress_var,collapse = \"+\"),\n",
    "                                   \"|\",cluster,\"|\",\n",
    "                                 paste(split_var,collapse = \"+\")))\n",
    "            mytree = lmertree(Formula, data=data,alpha=alpha,maxdepth=maxdepth) \n",
    "            final_var = get_split_names(mytree$tree,data)\n",
    "            cat(\"There is only grey module \",final_var,\"\\n\")\n",
    "        }\n",
    "        if(length(imp_var)==1){\n",
    "            # only one non-grey module\n",
    "            final_var = imp_var[[1]]\n",
    "            cat(\"There is only one non-grey module\",final_var,\"\\n\")\n",
    "            # use final_var as regressors\n",
    "            split_var = c(module_dic[[\"grey\"]],fixed_split)\n",
    "            maxdepth = ceiling(maxdepth_factor_screen*length(split_var))\n",
    "            regress_var = final_var\n",
    "            Formula = as.formula(paste(\"y~\",paste(regress_var,collapse = \"+\"),\n",
    "                                   \"|\",cluster,\"|\",\n",
    "                                 paste(split_var,collapse = \"+\")))\n",
    "            mytree = lmertree(Formula, data=data,alpha=alpha,maxdepth=maxdepth) \n",
    "            grey_var = get_split_names(mytree$tree,data)\n",
    "            final_var = c(final_var,grey_var)\n",
    "            cat(\"The final features \",final_var,\"\\n\")\n",
    "        }\n",
    "        if(length(imp_var)>1){\n",
    "            # at least two non-grey modules, screen among non-grey modules\n",
    "            final_var = imp_var[[1]]\n",
    "            for (i in 2:length(imp_var)){\n",
    "                final_var = c(final_var,imp_var[[i]])\n",
    "                }\n",
    "            cat(\"After screening from non-grey modules \",final_var,\"\\n\")\n",
    "            # now final_var contains all the non-grey screened features\n",
    "            split_var = c(final_var,fixed_split)  \n",
    "            maxdepth = ceiling(maxdepth_factor_select*length(split_var))\n",
    "            regress_var = \"1\"\n",
    "            Formula = as.formula(paste(\"y~\",paste(regress_var,collapse = \"+\"),\n",
    "                                   \"|\",cluster,\"|\",\n",
    "                                 paste(split_var,collapse = \"+\")))\n",
    "            mytree = lmertree(Formula, data=data,alpha=alpha,maxdepth=maxdepth)\n",
    "            final_var = get_split_names(mytree$tree,data)\n",
    "            # Now final_var contains final non-grey features\n",
    "            cat(\"Final non-grey features \",final_var,\"\\n\")\n",
    "            # use final_var as regressors and select features from grey features\n",
    "            split_var = c(module_dic[[\"grey\"]],fixed_split)\n",
    "            maxdepth = ceiling(maxdepth_factor_screen*length(split_var))\n",
    "            regress_var = final_var\n",
    "            Formula = as.formula(paste(\"y~\",paste(regress_var,collapse = \"+\"),\n",
    "                                   \"|\",cluster,\"|\",\n",
    "                                 paste(split_var,collapse = \"+\")))\n",
    "            mytree = lmertree(Formula, data=data,alpha=alpha,maxdepth=maxdepth) \n",
    "            grey_var = get_split_names(mytree$tree,data)\n",
    "            cat(\"Final grey features \",grey_var,\"\\n\")\n",
    "            final_var = c(final_var,grey_var)\n",
    "            cat(\"The final features \",final_var,\"\\n\")\n",
    "        }\n",
    "        # use the final features as split&regression variables\n",
    "        split_var = c(final_var,fixed_split)\n",
    "        maxdepth = length(split_var)\n",
    "        Formula = as.formula(paste(\"y~\",paste(final_var,collapse = \"+\"),\n",
    "                                   \"|\",cluster,\"|\",\n",
    "                                 paste(split_var,collapse = \"+\")))\n",
    "        mytree = lmertree(Formula, data = data,alpha=alpha,maxdepth=maxdepth)\n",
    "        return (mytree)\n",
    "    }\n",
    "    \n",
    "    \n",
    "}"
   ]
  },
  {
   "cell_type": "markdown",
   "metadata": {},
   "source": [
    "# Longtree_PC Sample Run"
   ]
  },
  {
   "cell_type": "code",
   "execution_count": 13,
   "metadata": {},
   "outputs": [],
   "source": [
    "n <- 300 # number of patients\n",
    "T <-  5 # number of observations per patients\n",
    "set.seed(100)\n",
    "\n",
    "data <- as.data.frame(sim_3(n, T)) \n",
    "colnames(data)[401] <- \"y\"\n",
    "for (i in 1:n){\n",
    "    data$patient[(1+(i-1)*T):(i*T)] = rep(i,T)\n",
    "}"
   ]
  },
  {
   "cell_type": "code",
   "execution_count": 14,
   "metadata": {},
   "outputs": [],
   "source": [
    "n_test <- 100 \n",
    "T <-  5 \n",
    "set.seed(101)\n",
    "data_test <- as.data.frame(sim_3(n_test, T)) \n",
    "colnames(data_test)[401] <- \"y\"\n",
    "for (i in 1:n_test){\n",
    "    data_test$patient[(1+(i-1)*T):(i*T)] = rep(i,T)\n",
    "}"
   ]
  },
  {
   "cell_type": "code",
   "execution_count": 15,
   "metadata": {},
   "outputs": [],
   "source": [
    "cluster = \"patient\"\n",
    "fixed_regress = NULL\n",
    "fixed_split = NULL\n",
    "var_select = paste(\"V\",1:400,sep=\"\")\n",
    "# fixed_split = \"V303\"\n",
    "# var_select = paste(\"V\",setdiff(1:400,303),sep=\"\")"
   ]
  },
  {
   "cell_type": "code",
   "execution_count": 20,
   "metadata": {},
   "outputs": [
    {
     "name": "stdout",
     "output_type": "stream",
     "text": [
      "Use Longtree_PC\n",
      "After screening from non-grey modules  V1 V2 V3 V60 V124 V144 V169 V212 V264 \n",
      "Final non-grey features  V1 V2 V3 \n",
      "Final grey features  V301 V302 V306 \n",
      "The final features  V1 V2 V3 V301 V302 V306 \n"
     ]
    },
    {
     "data": {
      "text/plain": [
       "   user  system elapsed \n",
       "  60.65    3.05   79.74 "
      ]
     },
     "metadata": {},
     "output_type": "display_data"
    },
    {
     "data": {
      "text/html": [
       "31.9752207286788"
      ],
      "text/latex": [
       "31.9752207286788"
      ],
      "text/markdown": [
       "31.9752207286788"
      ],
      "text/plain": [
       "[1] 31.97522"
      ]
     },
     "metadata": {},
     "output_type": "display_data"
    }
   ],
   "source": [
    "system.time({\n",
    "    mytree = Longtree(data,fixed_regress=fixed_regress,fixed_split=fixed_split,\n",
    "                  var_select=var_select,cluster=cluster,Fuzzy=FALSE)\n",
    "})\n",
    "mean((predict(mytree,newdata=data_test,re.form=NA)-data_test$y)**2)"
   ]
  },
  {
   "cell_type": "markdown",
   "metadata": {},
   "source": [
    "# Longtree_time: Sample Run"
   ]
  },
  {
   "cell_type": "code",
   "execution_count": 4,
   "metadata": {},
   "outputs": [],
   "source": [
    "# training data\n",
    "n <- 300 # number of patients\n",
    "T <-  5 # number of observations per patients\n",
    "\n",
    "set.seed(100)\n",
    "\n",
    "data <- sim_quad(n,T,a1=1,a2=-1)\n",
    "# add time_squared\n",
    "data$time2 = (data$time)^2\n",
    "\n",
    "# testing data\n",
    "n_test <- 100 # number of patients\n",
    "T <-  5 # number of observations per patients\n",
    "set.seed(101)\n",
    "data_test <- sim_quad(n,T,a1=1,a2=-1)\n",
    "# data_test <- sim_quad(n_test, T)\n",
    "data_test$time2 = (data_test$time)^2"
   ]
  },
  {
   "cell_type": "code",
   "execution_count": 5,
   "metadata": {},
   "outputs": [],
   "source": [
    "fixed_regress = c(\"time\",\"time2\")\n",
    "fixed_split = c(\"treatment\")\n",
    "cluster = \"patient\"\n",
    "var_select = paste(\"V\",1:400,sep=\"\")"
   ]
  },
  {
   "cell_type": "code",
   "execution_count": 6,
   "metadata": {},
   "outputs": [
    {
     "name": "stdout",
     "output_type": "stream",
     "text": [
      "Use Longtree_time"
     ]
    },
    {
     "name": "stderr",
     "output_type": "stream",
     "text": [
      "boundary (singular) fit: see ?isSingular\n",
      "boundary (singular) fit: see ?isSingular\n",
      "boundary (singular) fit: see ?isSingular\n",
      "boundary (singular) fit: see ?isSingular\n"
     ]
    },
    {
     "name": "stdout",
     "output_type": "stream",
     "text": [
      "after screening within modules V1 V2 V3 V45 V82 V106 V154 V172 V301 V302 V303 V337 \n",
      "final features V1 V2 V3 V301 V302 V303"
     ]
    },
    {
     "data": {
      "text/plain": [
       "   user  system elapsed \n",
       "  36.06    2.16   45.45 "
      ]
     },
     "metadata": {},
     "output_type": "display_data"
    },
    {
     "data": {
      "text/html": [
       "13.7236101010266"
      ],
      "text/latex": [
       "13.7236101010266"
      ],
      "text/markdown": [
       "13.7236101010266"
      ],
      "text/plain": [
       "[1] 13.72361"
      ]
     },
     "metadata": {},
     "output_type": "display_data"
    },
    {
     "data": {
      "text/html": [
       "<table>\n",
       "<thead><tr><th></th><th scope=col>(Intercept)</th><th scope=col>time</th><th scope=col>time2</th><th scope=col>V1</th><th scope=col>V2</th><th scope=col>V3</th><th scope=col>V301</th><th scope=col>V302</th><th scope=col>V303</th></tr></thead>\n",
       "<tbody>\n",
       "\t<tr><th scope=row>5</th><td>  4.983755</td><td>-6.301702 </td><td> 1.0222150</td><td>5.716317  </td><td>-2.192455 </td><td>-2.544785 </td><td>4.695668  </td><td>-2.8369292</td><td>-1.2793611</td></tr>\n",
       "\t<tr><th scope=row>6</th><td>  7.755519</td><td>-4.363281 </td><td> 0.7542165</td><td>3.612934  </td><td>-2.240745 </td><td>-1.407468 </td><td>5.350652  </td><td> 5.9533509</td><td>-2.3847875</td></tr>\n",
       "\t<tr><th scope=row>8</th><td>-14.574241</td><td> 7.139503 </td><td>-1.1745854</td><td>5.254270  </td><td>-1.877526 </td><td>-3.158900 </td><td>4.711909  </td><td> 0.1069969</td><td>-3.5295269</td></tr>\n",
       "\t<tr><th scope=row>9</th><td> -8.837379</td><td> 3.451156 </td><td>-0.5560499</td><td>5.055151  </td><td>-3.992844 </td><td>-1.498850 </td><td>5.373518  </td><td> 2.2775681</td><td> 0.6100180</td></tr>\n",
       "\t<tr><th scope=row>11</th><td>  8.107291</td><td>-6.571144 </td><td> 1.0143115</td><td>5.296218  </td><td>-4.037329 </td><td>-1.980469 </td><td>4.234784  </td><td> 1.8434044</td><td> 6.8752239</td></tr>\n",
       "\t<tr><th scope=row>13</th><td>-15.224294</td><td> 7.015788 </td><td>-1.2149732</td><td>6.393265  </td><td>-5.632512 </td><td>-4.990573 </td><td>4.926471  </td><td>-0.3142398</td><td> 6.8114503</td></tr>\n",
       "\t<tr><th scope=row>14</th><td> -6.134286</td><td> 4.618203 </td><td>-0.7749549</td><td>4.848217  </td><td> 2.769662 </td><td> 0.375647 </td><td>5.470692  </td><td> 0.7132261</td><td> 6.6111945</td></tr>\n",
       "\t<tr><th scope=row>18</th><td>  2.751689</td><td>-5.557215 </td><td> 0.9636823</td><td>4.912952  </td><td> 5.374369 </td><td> 7.160465 </td><td>5.079374  </td><td>-1.4286037</td><td>-2.5019284</td></tr>\n",
       "\t<tr><th scope=row>19</th><td>  9.478673</td><td>-6.295303 </td><td> 1.0039252</td><td>4.484499  </td><td> 6.492562 </td><td> 6.016471 </td><td>5.063083  </td><td>-0.7972708</td><td> 4.7254974</td></tr>\n",
       "\t<tr><th scope=row>21</th><td>-11.638915</td><td> 4.652561 </td><td>-0.7546413</td><td>5.134555  </td><td> 7.125025 </td><td> 5.947514 </td><td>4.978068  </td><td>-0.1967351</td><td>-0.4333253</td></tr>\n",
       "\t<tr><th scope=row>22</th><td> -9.093374</td><td> 5.262975 </td><td>-0.9071788</td><td>5.315657  </td><td> 6.909967 </td><td> 7.723394 </td><td>5.814156  </td><td>-0.7208526</td><td> 7.1119257</td></tr>\n",
       "\t<tr><th scope=row>24</th><td>  3.054080</td><td>-3.658636 </td><td> 0.6403251</td><td>4.243752  </td><td> 7.950156 </td><td> 6.015087 </td><td>5.377859  </td><td> 7.3427375</td><td> 1.8555996</td></tr>\n",
       "\t<tr><th scope=row>25</th><td>-12.703322</td><td> 5.412168 </td><td>-0.8083769</td><td>5.918021  </td><td> 8.079568 </td><td> 5.332657 </td><td>4.872613  </td><td> 6.6250145</td><td> 1.9143693</td></tr>\n",
       "</tbody>\n",
       "</table>\n"
      ],
      "text/latex": [
       "\\begin{tabular}{r|lllllllll}\n",
       "  & (Intercept) & time & time2 & V1 & V2 & V3 & V301 & V302 & V303\\\\\n",
       "\\hline\n",
       "\t5 &   4.983755 & -6.301702  &  1.0222150 & 5.716317   & -2.192455  & -2.544785  & 4.695668   & -2.8369292 & -1.2793611\\\\\n",
       "\t6 &   7.755519 & -4.363281  &  0.7542165 & 3.612934   & -2.240745  & -1.407468  & 5.350652   &  5.9533509 & -2.3847875\\\\\n",
       "\t8 & -14.574241 &  7.139503  & -1.1745854 & 5.254270   & -1.877526  & -3.158900  & 4.711909   &  0.1069969 & -3.5295269\\\\\n",
       "\t9 &  -8.837379 &  3.451156  & -0.5560499 & 5.055151   & -3.992844  & -1.498850  & 5.373518   &  2.2775681 &  0.6100180\\\\\n",
       "\t11 &   8.107291 & -6.571144  &  1.0143115 & 5.296218   & -4.037329  & -1.980469  & 4.234784   &  1.8434044 &  6.8752239\\\\\n",
       "\t13 & -15.224294 &  7.015788  & -1.2149732 & 6.393265   & -5.632512  & -4.990573  & 4.926471   & -0.3142398 &  6.8114503\\\\\n",
       "\t14 &  -6.134286 &  4.618203  & -0.7749549 & 4.848217   &  2.769662  &  0.375647  & 5.470692   &  0.7132261 &  6.6111945\\\\\n",
       "\t18 &   2.751689 & -5.557215  &  0.9636823 & 4.912952   &  5.374369  &  7.160465  & 5.079374   & -1.4286037 & -2.5019284\\\\\n",
       "\t19 &   9.478673 & -6.295303  &  1.0039252 & 4.484499   &  6.492562  &  6.016471  & 5.063083   & -0.7972708 &  4.7254974\\\\\n",
       "\t21 & -11.638915 &  4.652561  & -0.7546413 & 5.134555   &  7.125025  &  5.947514  & 4.978068   & -0.1967351 & -0.4333253\\\\\n",
       "\t22 &  -9.093374 &  5.262975  & -0.9071788 & 5.315657   &  6.909967  &  7.723394  & 5.814156   & -0.7208526 &  7.1119257\\\\\n",
       "\t24 &   3.054080 & -3.658636  &  0.6403251 & 4.243752   &  7.950156  &  6.015087  & 5.377859   &  7.3427375 &  1.8555996\\\\\n",
       "\t25 & -12.703322 &  5.412168  & -0.8083769 & 5.918021   &  8.079568  &  5.332657  & 4.872613   &  6.6250145 &  1.9143693\\\\\n",
       "\\end{tabular}\n"
      ],
      "text/markdown": [
       "\n",
       "| <!--/--> | (Intercept) | time | time2 | V1 | V2 | V3 | V301 | V302 | V303 |\n",
       "|---|---|---|---|---|---|---|---|---|---|\n",
       "| 5 |   4.983755 | -6.301702  |  1.0222150 | 5.716317   | -2.192455  | -2.544785  | 4.695668   | -2.8369292 | -1.2793611 |\n",
       "| 6 |   7.755519 | -4.363281  |  0.7542165 | 3.612934   | -2.240745  | -1.407468  | 5.350652   |  5.9533509 | -2.3847875 |\n",
       "| 8 | -14.574241 |  7.139503  | -1.1745854 | 5.254270   | -1.877526  | -3.158900  | 4.711909   |  0.1069969 | -3.5295269 |\n",
       "| 9 |  -8.837379 |  3.451156  | -0.5560499 | 5.055151   | -3.992844  | -1.498850  | 5.373518   |  2.2775681 |  0.6100180 |\n",
       "| 11 |   8.107291 | -6.571144  |  1.0143115 | 5.296218   | -4.037329  | -1.980469  | 4.234784   |  1.8434044 |  6.8752239 |\n",
       "| 13 | -15.224294 |  7.015788  | -1.2149732 | 6.393265   | -5.632512  | -4.990573  | 4.926471   | -0.3142398 |  6.8114503 |\n",
       "| 14 |  -6.134286 |  4.618203  | -0.7749549 | 4.848217   |  2.769662  |  0.375647  | 5.470692   |  0.7132261 |  6.6111945 |\n",
       "| 18 |   2.751689 | -5.557215  |  0.9636823 | 4.912952   |  5.374369  |  7.160465  | 5.079374   | -1.4286037 | -2.5019284 |\n",
       "| 19 |   9.478673 | -6.295303  |  1.0039252 | 4.484499   |  6.492562  |  6.016471  | 5.063083   | -0.7972708 |  4.7254974 |\n",
       "| 21 | -11.638915 |  4.652561  | -0.7546413 | 5.134555   |  7.125025  |  5.947514  | 4.978068   | -0.1967351 | -0.4333253 |\n",
       "| 22 |  -9.093374 |  5.262975  | -0.9071788 | 5.315657   |  6.909967  |  7.723394  | 5.814156   | -0.7208526 |  7.1119257 |\n",
       "| 24 |   3.054080 | -3.658636  |  0.6403251 | 4.243752   |  7.950156  |  6.015087  | 5.377859   |  7.3427375 |  1.8555996 |\n",
       "| 25 | -12.703322 |  5.412168  | -0.8083769 | 5.918021   |  8.079568  |  5.332657  | 4.872613   |  6.6250145 |  1.9143693 |\n",
       "\n"
      ],
      "text/plain": [
       "   (Intercept) time      time2      V1       V2        V3        V301    \n",
       "5    4.983755  -6.301702  1.0222150 5.716317 -2.192455 -2.544785 4.695668\n",
       "6    7.755519  -4.363281  0.7542165 3.612934 -2.240745 -1.407468 5.350652\n",
       "8  -14.574241   7.139503 -1.1745854 5.254270 -1.877526 -3.158900 4.711909\n",
       "9   -8.837379   3.451156 -0.5560499 5.055151 -3.992844 -1.498850 5.373518\n",
       "11   8.107291  -6.571144  1.0143115 5.296218 -4.037329 -1.980469 4.234784\n",
       "13 -15.224294   7.015788 -1.2149732 6.393265 -5.632512 -4.990573 4.926471\n",
       "14  -6.134286   4.618203 -0.7749549 4.848217  2.769662  0.375647 5.470692\n",
       "18   2.751689  -5.557215  0.9636823 4.912952  5.374369  7.160465 5.079374\n",
       "19   9.478673  -6.295303  1.0039252 4.484499  6.492562  6.016471 5.063083\n",
       "21 -11.638915   4.652561 -0.7546413 5.134555  7.125025  5.947514 4.978068\n",
       "22  -9.093374   5.262975 -0.9071788 5.315657  6.909967  7.723394 5.814156\n",
       "24   3.054080  -3.658636  0.6403251 4.243752  7.950156  6.015087 5.377859\n",
       "25 -12.703322   5.412168 -0.8083769 5.918021  8.079568  5.332657 4.872613\n",
       "   V302       V303      \n",
       "5  -2.8369292 -1.2793611\n",
       "6   5.9533509 -2.3847875\n",
       "8   0.1069969 -3.5295269\n",
       "9   2.2775681  0.6100180\n",
       "11  1.8434044  6.8752239\n",
       "13 -0.3142398  6.8114503\n",
       "14  0.7132261  6.6111945\n",
       "18 -1.4286037 -2.5019284\n",
       "19 -0.7972708  4.7254974\n",
       "21 -0.1967351 -0.4333253\n",
       "22 -0.7208526  7.1119257\n",
       "24  7.3427375  1.8555996\n",
       "25  6.6250145  1.9143693"
      ]
     },
     "metadata": {},
     "output_type": "display_data"
    }
   ],
   "source": [
    "# Fuzzy=TRUE \n",
    "# alpha = 0.2, maxdepth_factor_select = 0.5 (all default)\n",
    "system.time({\n",
    "    mytree = Longtree(data,fixed_regress=fixed_regress,fixed_split=fixed_split,\n",
    "                  var_select=var_select,cluster=cluster,Fuzzy=TRUE)\n",
    "})\n",
    "mean((predict(mytree,newdata=data_test,re.form=NA)-data_test$y)**2)\n",
    "coef(mytree)"
   ]
  },
  {
   "cell_type": "code",
   "execution_count": 7,
   "metadata": {},
   "outputs": [
    {
     "name": "stdout",
     "output_type": "stream",
     "text": [
      "Use Longtree_time"
     ]
    },
    {
     "name": "stderr",
     "output_type": "stream",
     "text": [
      "boundary (singular) fit: see ?isSingular\n",
      "boundary (singular) fit: see ?isSingular\n",
      "boundary (singular) fit: see ?isSingular\n",
      "boundary (singular) fit: see ?isSingular\n"
     ]
    },
    {
     "name": "stdout",
     "output_type": "stream",
     "text": [
      "After screening within non-grey modules V1 V2 V3 V82 \n",
      "The chosen non-grey features are V1 V2 V3 \n",
      "The chosen grey features are V301 V302 V303 \n",
      "final features V1 V2 V3 V301 V302 V303"
     ]
    },
    {
     "data": {
      "text/plain": [
       "   user  system elapsed \n",
       "  32.72    2.01   42.21 "
      ]
     },
     "metadata": {},
     "output_type": "display_data"
    },
    {
     "data": {
      "text/html": [
       "13.7236101010266"
      ],
      "text/latex": [
       "13.7236101010266"
      ],
      "text/markdown": [
       "13.7236101010266"
      ],
      "text/plain": [
       "[1] 13.72361"
      ]
     },
     "metadata": {},
     "output_type": "display_data"
    },
    {
     "data": {
      "text/html": [
       "<table>\n",
       "<thead><tr><th></th><th scope=col>(Intercept)</th><th scope=col>time</th><th scope=col>time2</th><th scope=col>V1</th><th scope=col>V2</th><th scope=col>V3</th><th scope=col>V301</th><th scope=col>V302</th><th scope=col>V303</th></tr></thead>\n",
       "<tbody>\n",
       "\t<tr><th scope=row>5</th><td>  4.983755</td><td>-6.301702 </td><td> 1.0222150</td><td>5.716317  </td><td>-2.192455 </td><td>-2.544785 </td><td>4.695668  </td><td>-2.8369292</td><td>-1.2793611</td></tr>\n",
       "\t<tr><th scope=row>6</th><td>  7.755519</td><td>-4.363281 </td><td> 0.7542165</td><td>3.612934  </td><td>-2.240745 </td><td>-1.407468 </td><td>5.350652  </td><td> 5.9533509</td><td>-2.3847875</td></tr>\n",
       "\t<tr><th scope=row>8</th><td>-14.574241</td><td> 7.139503 </td><td>-1.1745854</td><td>5.254270  </td><td>-1.877526 </td><td>-3.158900 </td><td>4.711909  </td><td> 0.1069969</td><td>-3.5295269</td></tr>\n",
       "\t<tr><th scope=row>9</th><td> -8.837379</td><td> 3.451156 </td><td>-0.5560499</td><td>5.055151  </td><td>-3.992844 </td><td>-1.498850 </td><td>5.373518  </td><td> 2.2775681</td><td> 0.6100180</td></tr>\n",
       "\t<tr><th scope=row>11</th><td>  8.107291</td><td>-6.571144 </td><td> 1.0143115</td><td>5.296218  </td><td>-4.037329 </td><td>-1.980469 </td><td>4.234784  </td><td> 1.8434044</td><td> 6.8752239</td></tr>\n",
       "\t<tr><th scope=row>13</th><td>-15.224294</td><td> 7.015788 </td><td>-1.2149732</td><td>6.393265  </td><td>-5.632512 </td><td>-4.990573 </td><td>4.926471  </td><td>-0.3142398</td><td> 6.8114503</td></tr>\n",
       "\t<tr><th scope=row>14</th><td> -6.134286</td><td> 4.618203 </td><td>-0.7749549</td><td>4.848217  </td><td> 2.769662 </td><td> 0.375647 </td><td>5.470692  </td><td> 0.7132261</td><td> 6.6111945</td></tr>\n",
       "\t<tr><th scope=row>18</th><td>  2.751689</td><td>-5.557215 </td><td> 0.9636823</td><td>4.912952  </td><td> 5.374369 </td><td> 7.160465 </td><td>5.079374  </td><td>-1.4286037</td><td>-2.5019284</td></tr>\n",
       "\t<tr><th scope=row>19</th><td>  9.478673</td><td>-6.295303 </td><td> 1.0039252</td><td>4.484499  </td><td> 6.492562 </td><td> 6.016471 </td><td>5.063083  </td><td>-0.7972708</td><td> 4.7254974</td></tr>\n",
       "\t<tr><th scope=row>21</th><td>-11.638915</td><td> 4.652561 </td><td>-0.7546413</td><td>5.134555  </td><td> 7.125025 </td><td> 5.947514 </td><td>4.978068  </td><td>-0.1967351</td><td>-0.4333253</td></tr>\n",
       "\t<tr><th scope=row>22</th><td> -9.093374</td><td> 5.262975 </td><td>-0.9071788</td><td>5.315657  </td><td> 6.909967 </td><td> 7.723394 </td><td>5.814156  </td><td>-0.7208526</td><td> 7.1119257</td></tr>\n",
       "\t<tr><th scope=row>24</th><td>  3.054080</td><td>-3.658636 </td><td> 0.6403251</td><td>4.243752  </td><td> 7.950156 </td><td> 6.015087 </td><td>5.377859  </td><td> 7.3427375</td><td> 1.8555996</td></tr>\n",
       "\t<tr><th scope=row>25</th><td>-12.703322</td><td> 5.412168 </td><td>-0.8083769</td><td>5.918021  </td><td> 8.079568 </td><td> 5.332657 </td><td>4.872613  </td><td> 6.6250145</td><td> 1.9143693</td></tr>\n",
       "</tbody>\n",
       "</table>\n"
      ],
      "text/latex": [
       "\\begin{tabular}{r|lllllllll}\n",
       "  & (Intercept) & time & time2 & V1 & V2 & V3 & V301 & V302 & V303\\\\\n",
       "\\hline\n",
       "\t5 &   4.983755 & -6.301702  &  1.0222150 & 5.716317   & -2.192455  & -2.544785  & 4.695668   & -2.8369292 & -1.2793611\\\\\n",
       "\t6 &   7.755519 & -4.363281  &  0.7542165 & 3.612934   & -2.240745  & -1.407468  & 5.350652   &  5.9533509 & -2.3847875\\\\\n",
       "\t8 & -14.574241 &  7.139503  & -1.1745854 & 5.254270   & -1.877526  & -3.158900  & 4.711909   &  0.1069969 & -3.5295269\\\\\n",
       "\t9 &  -8.837379 &  3.451156  & -0.5560499 & 5.055151   & -3.992844  & -1.498850  & 5.373518   &  2.2775681 &  0.6100180\\\\\n",
       "\t11 &   8.107291 & -6.571144  &  1.0143115 & 5.296218   & -4.037329  & -1.980469  & 4.234784   &  1.8434044 &  6.8752239\\\\\n",
       "\t13 & -15.224294 &  7.015788  & -1.2149732 & 6.393265   & -5.632512  & -4.990573  & 4.926471   & -0.3142398 &  6.8114503\\\\\n",
       "\t14 &  -6.134286 &  4.618203  & -0.7749549 & 4.848217   &  2.769662  &  0.375647  & 5.470692   &  0.7132261 &  6.6111945\\\\\n",
       "\t18 &   2.751689 & -5.557215  &  0.9636823 & 4.912952   &  5.374369  &  7.160465  & 5.079374   & -1.4286037 & -2.5019284\\\\\n",
       "\t19 &   9.478673 & -6.295303  &  1.0039252 & 4.484499   &  6.492562  &  6.016471  & 5.063083   & -0.7972708 &  4.7254974\\\\\n",
       "\t21 & -11.638915 &  4.652561  & -0.7546413 & 5.134555   &  7.125025  &  5.947514  & 4.978068   & -0.1967351 & -0.4333253\\\\\n",
       "\t22 &  -9.093374 &  5.262975  & -0.9071788 & 5.315657   &  6.909967  &  7.723394  & 5.814156   & -0.7208526 &  7.1119257\\\\\n",
       "\t24 &   3.054080 & -3.658636  &  0.6403251 & 4.243752   &  7.950156  &  6.015087  & 5.377859   &  7.3427375 &  1.8555996\\\\\n",
       "\t25 & -12.703322 &  5.412168  & -0.8083769 & 5.918021   &  8.079568  &  5.332657  & 4.872613   &  6.6250145 &  1.9143693\\\\\n",
       "\\end{tabular}\n"
      ],
      "text/markdown": [
       "\n",
       "| <!--/--> | (Intercept) | time | time2 | V1 | V2 | V3 | V301 | V302 | V303 |\n",
       "|---|---|---|---|---|---|---|---|---|---|\n",
       "| 5 |   4.983755 | -6.301702  |  1.0222150 | 5.716317   | -2.192455  | -2.544785  | 4.695668   | -2.8369292 | -1.2793611 |\n",
       "| 6 |   7.755519 | -4.363281  |  0.7542165 | 3.612934   | -2.240745  | -1.407468  | 5.350652   |  5.9533509 | -2.3847875 |\n",
       "| 8 | -14.574241 |  7.139503  | -1.1745854 | 5.254270   | -1.877526  | -3.158900  | 4.711909   |  0.1069969 | -3.5295269 |\n",
       "| 9 |  -8.837379 |  3.451156  | -0.5560499 | 5.055151   | -3.992844  | -1.498850  | 5.373518   |  2.2775681 |  0.6100180 |\n",
       "| 11 |   8.107291 | -6.571144  |  1.0143115 | 5.296218   | -4.037329  | -1.980469  | 4.234784   |  1.8434044 |  6.8752239 |\n",
       "| 13 | -15.224294 |  7.015788  | -1.2149732 | 6.393265   | -5.632512  | -4.990573  | 4.926471   | -0.3142398 |  6.8114503 |\n",
       "| 14 |  -6.134286 |  4.618203  | -0.7749549 | 4.848217   |  2.769662  |  0.375647  | 5.470692   |  0.7132261 |  6.6111945 |\n",
       "| 18 |   2.751689 | -5.557215  |  0.9636823 | 4.912952   |  5.374369  |  7.160465  | 5.079374   | -1.4286037 | -2.5019284 |\n",
       "| 19 |   9.478673 | -6.295303  |  1.0039252 | 4.484499   |  6.492562  |  6.016471  | 5.063083   | -0.7972708 |  4.7254974 |\n",
       "| 21 | -11.638915 |  4.652561  | -0.7546413 | 5.134555   |  7.125025  |  5.947514  | 4.978068   | -0.1967351 | -0.4333253 |\n",
       "| 22 |  -9.093374 |  5.262975  | -0.9071788 | 5.315657   |  6.909967  |  7.723394  | 5.814156   | -0.7208526 |  7.1119257 |\n",
       "| 24 |   3.054080 | -3.658636  |  0.6403251 | 4.243752   |  7.950156  |  6.015087  | 5.377859   |  7.3427375 |  1.8555996 |\n",
       "| 25 | -12.703322 |  5.412168  | -0.8083769 | 5.918021   |  8.079568  |  5.332657  | 4.872613   |  6.6250145 |  1.9143693 |\n",
       "\n"
      ],
      "text/plain": [
       "   (Intercept) time      time2      V1       V2        V3        V301    \n",
       "5    4.983755  -6.301702  1.0222150 5.716317 -2.192455 -2.544785 4.695668\n",
       "6    7.755519  -4.363281  0.7542165 3.612934 -2.240745 -1.407468 5.350652\n",
       "8  -14.574241   7.139503 -1.1745854 5.254270 -1.877526 -3.158900 4.711909\n",
       "9   -8.837379   3.451156 -0.5560499 5.055151 -3.992844 -1.498850 5.373518\n",
       "11   8.107291  -6.571144  1.0143115 5.296218 -4.037329 -1.980469 4.234784\n",
       "13 -15.224294   7.015788 -1.2149732 6.393265 -5.632512 -4.990573 4.926471\n",
       "14  -6.134286   4.618203 -0.7749549 4.848217  2.769662  0.375647 5.470692\n",
       "18   2.751689  -5.557215  0.9636823 4.912952  5.374369  7.160465 5.079374\n",
       "19   9.478673  -6.295303  1.0039252 4.484499  6.492562  6.016471 5.063083\n",
       "21 -11.638915   4.652561 -0.7546413 5.134555  7.125025  5.947514 4.978068\n",
       "22  -9.093374   5.262975 -0.9071788 5.315657  6.909967  7.723394 5.814156\n",
       "24   3.054080  -3.658636  0.6403251 4.243752  7.950156  6.015087 5.377859\n",
       "25 -12.703322   5.412168 -0.8083769 5.918021  8.079568  5.332657 4.872613\n",
       "   V302       V303      \n",
       "5  -2.8369292 -1.2793611\n",
       "6   5.9533509 -2.3847875\n",
       "8   0.1069969 -3.5295269\n",
       "9   2.2775681  0.6100180\n",
       "11  1.8434044  6.8752239\n",
       "13 -0.3142398  6.8114503\n",
       "14  0.7132261  6.6111945\n",
       "18 -1.4286037 -2.5019284\n",
       "19 -0.7972708  4.7254974\n",
       "21 -0.1967351 -0.4333253\n",
       "22 -0.7208526  7.1119257\n",
       "24  7.3427375  1.8555996\n",
       "25  6.6250145  1.9143693"
      ]
     },
     "metadata": {},
     "output_type": "display_data"
    }
   ],
   "source": [
    "# Fuzzy=False \n",
    "# alpha = 0.1, maxdepth_factor_select = 0.5\n",
    "system.time({\n",
    "    mytree = Longtree(data,fixed_regress=fixed_regress,fixed_split=fixed_split,\n",
    "                  var_select=var_select,alpha=0.1,cluster=cluster,Fuzzy=FALSE)\n",
    "})\n",
    "mean((predict(mytree,newdata=data_test,re.form=NA)-data_test$y)**2)\n",
    "coef(mytree)"
   ]
  },
  {
   "cell_type": "markdown",
   "metadata": {},
   "source": [
    "## Benchmark"
   ]
  },
  {
   "cell_type": "code",
   "execution_count": 13,
   "metadata": {},
   "outputs": [
    {
     "name": "stderr",
     "output_type": "stream",
     "text": [
      "randomForest 4.6-14\n",
      "Type rfNews() to see new features/changes/bug fixes.\n",
      "\n",
      "Attaching package: 'randomForest'\n",
      "\n",
      "The following object is masked from 'package:pre':\n",
      "\n",
      "    importance\n",
      "\n"
     ]
    },
    {
     "data": {
      "text/plain": [
       "   user  system elapsed \n",
       "  87.72    0.18   90.22 "
      ]
     },
     "metadata": {},
     "output_type": "display_data"
    },
    {
     "data": {
      "text/html": [
       "45.2150384665131"
      ],
      "text/latex": [
       "45.2150384665131"
      ],
      "text/markdown": [
       "45.2150384665131"
      ],
      "text/plain": [
       "[1] 45.21504"
      ]
     },
     "metadata": {},
     "output_type": "display_data"
    },
    {
     "data": {
      "text/html": [
       "<ol class=list-inline>\n",
       "\t<li>'V3'</li>\n",
       "\t<li>'V1'</li>\n",
       "\t<li>'V2'</li>\n",
       "\t<li>'V301'</li>\n",
       "\t<li>'V42'</li>\n",
       "\t<li>'V302'</li>\n",
       "\t<li>'V303'</li>\n",
       "\t<li>'V73'</li>\n",
       "\t<li>'V65'</li>\n",
       "\t<li>'V24'</li>\n",
       "\t<li>'V75'</li>\n",
       "\t<li>'V77'</li>\n",
       "\t<li>'V15'</li>\n",
       "\t<li>'V98'</li>\n",
       "\t<li>'V56'</li>\n",
       "</ol>\n"
      ],
      "text/latex": [
       "\\begin{enumerate*}\n",
       "\\item 'V3'\n",
       "\\item 'V1'\n",
       "\\item 'V2'\n",
       "\\item 'V301'\n",
       "\\item 'V42'\n",
       "\\item 'V302'\n",
       "\\item 'V303'\n",
       "\\item 'V73'\n",
       "\\item 'V65'\n",
       "\\item 'V24'\n",
       "\\item 'V75'\n",
       "\\item 'V77'\n",
       "\\item 'V15'\n",
       "\\item 'V98'\n",
       "\\item 'V56'\n",
       "\\end{enumerate*}\n"
      ],
      "text/markdown": [
       "1. 'V3'\n",
       "2. 'V1'\n",
       "3. 'V2'\n",
       "4. 'V301'\n",
       "5. 'V42'\n",
       "6. 'V302'\n",
       "7. 'V303'\n",
       "8. 'V73'\n",
       "9. 'V65'\n",
       "10. 'V24'\n",
       "11. 'V75'\n",
       "12. 'V77'\n",
       "13. 'V15'\n",
       "14. 'V98'\n",
       "15. 'V56'\n",
       "\n",
       "\n"
      ],
      "text/plain": [
       " [1] \"V3\"   \"V1\"   \"V2\"   \"V301\" \"V42\"  \"V302\" \"V303\" \"V73\"  \"V65\"  \"V24\" \n",
       "[11] \"V75\"  \"V77\"  \"V15\"  \"V98\"  \"V56\" "
      ]
     },
     "metadata": {},
     "output_type": "display_data"
    }
   ],
   "source": [
    "# random forest\n",
    "library(\"randomForest\")\n",
    "var = c(paste(\"V\",1:400,sep=\"\"),\"time\",\"time2\",\"treatment\")\n",
    "Formula = as.formula(paste(\"y~\",paste(var,collapse = \"+\")))\n",
    "system.time({\n",
    "#     set.seed(20)\n",
    "    rf <- randomForest(Formula,data)\n",
    "})\n",
    "mean((predict(rf,newdata=data_test)-data_test$y)**2)\n",
    "# sorts features by importance\n",
    "importance_order <- sort(rf$importance, decreasing = TRUE,index.return=TRUE) \n",
    "# the ranking; 6 here should be a parameters\n",
    "var[importance_order$ix[1:15]] "
   ]
  },
  {
   "cell_type": "code",
   "execution_count": 14,
   "metadata": {},
   "outputs": [
    {
     "name": "stderr",
     "output_type": "stream",
     "text": [
      "Warning message:\n",
      "\"package 'fuzzyforest' was built under R version 3.6.1\""
     ]
    },
    {
     "data": {
      "text/plain": [
       "   user  system elapsed \n",
       " 659.29    8.44  711.25 "
      ]
     },
     "metadata": {},
     "output_type": "display_data"
    },
    {
     "data": {
      "text/html": [
       "30.0898171285837"
      ],
      "text/latex": [
       "30.0898171285837"
      ],
      "text/markdown": [
       "30.0898171285837"
      ],
      "text/plain": [
       "[1] 30.08982"
      ]
     },
     "metadata": {},
     "output_type": "display_data"
    },
    {
     "data": {
      "text/html": [
       "<ol class=list-inline>\n",
       "\t<li>'V301'</li>\n",
       "\t<li>'V1'</li>\n",
       "\t<li>'V3'</li>\n",
       "\t<li>'V2'</li>\n",
       "\t<li>'V302'</li>\n",
       "\t<li>'V303'</li>\n",
       "\t<li>'V24'</li>\n",
       "\t<li>'V56'</li>\n",
       "\t<li>'treatment'</li>\n",
       "\t<li>'V244'</li>\n",
       "\t<li>'V208'</li>\n",
       "\t<li>'V226'</li>\n",
       "\t<li>'V247'</li>\n",
       "\t<li>'V109'</li>\n",
       "\t<li>'V154'</li>\n",
       "</ol>\n"
      ],
      "text/latex": [
       "\\begin{enumerate*}\n",
       "\\item 'V301'\n",
       "\\item 'V1'\n",
       "\\item 'V3'\n",
       "\\item 'V2'\n",
       "\\item 'V302'\n",
       "\\item 'V303'\n",
       "\\item 'V24'\n",
       "\\item 'V56'\n",
       "\\item 'treatment'\n",
       "\\item 'V244'\n",
       "\\item 'V208'\n",
       "\\item 'V226'\n",
       "\\item 'V247'\n",
       "\\item 'V109'\n",
       "\\item 'V154'\n",
       "\\end{enumerate*}\n"
      ],
      "text/markdown": [
       "1. 'V301'\n",
       "2. 'V1'\n",
       "3. 'V3'\n",
       "4. 'V2'\n",
       "5. 'V302'\n",
       "6. 'V303'\n",
       "7. 'V24'\n",
       "8. 'V56'\n",
       "9. 'treatment'\n",
       "10. 'V244'\n",
       "11. 'V208'\n",
       "12. 'V226'\n",
       "13. 'V247'\n",
       "14. 'V109'\n",
       "15. 'V154'\n",
       "\n",
       "\n"
      ],
      "text/plain": [
       " [1] \"V301\"      \"V1\"        \"V3\"        \"V2\"        \"V302\"      \"V303\"     \n",
       " [7] \"V24\"       \"V56\"       \"treatment\" \"V244\"      \"V208\"      \"V226\"     \n",
       "[13] \"V247\"      \"V109\"      \"V154\"     "
      ]
     },
     "metadata": {},
     "output_type": "display_data"
    }
   ],
   "source": [
    "# Fuzzy Forest\n",
    "library(\"fuzzyforest\")\n",
    "# since treatment is categorical, we cannot include it in WGCNA\n",
    "system.time({\n",
    "data_WGCNA = data[,1:400] # only the covariates\n",
    "\n",
    "net = blockwiseModules(data_WGCNA, power = 6,TOMType = \"unsigned\", \n",
    "                       minModuleSize = 30,reassignThreshold = 0, \n",
    "                       mergeCutHeight = 0.25,numericLabels = FALSE, \n",
    "                       pamRespectsDendro = FALSE,verbose = 0)\n",
    "\n",
    "var = c(paste(\"V\",1:400,sep=\"\"),\"time\",\"time2\",\"treatment\")\n",
    "Formula = as.formula(paste(\"y~\",paste(var,collapse = \"+\")))\n",
    "    \n",
    "net$colors[[\"time\"]] = \"grey\"\n",
    "net$colors[[\"time2\"]] = \"grey\"\n",
    "net$colors[[\"treatment\"]] = \"grey\"\n",
    "\n",
    "ff_fit = ff(Formula,data = data,module_membership=net$colors,\n",
    "        screen_params = screen_control(min_ntree = 500),\n",
    "        select_params = select_control(min_ntree = 500,number_selected = 15), \n",
    "        final_ntree = 5000, num_processors = 1)        \n",
    "})\n",
    "mean((predict(ff_fit,new_data=data_test)-data_test$y)**2)\n",
    "ff_fit$feature_list[,1]"
   ]
  }
 ],
 "metadata": {
  "kernelspec": {
   "display_name": "R",
   "language": "R",
   "name": "ir"
  },
  "language_info": {
   "codemirror_mode": "r",
   "file_extension": ".r",
   "mimetype": "text/x-r-source",
   "name": "R",
   "pygments_lexer": "r",
   "version": "3.6.0"
  }
 },
 "nbformat": 4,
 "nbformat_minor": 2
}
