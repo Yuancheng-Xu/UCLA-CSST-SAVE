{
 "cells": [
  {
   "cell_type": "code",
   "execution_count": 1,
   "metadata": {},
   "outputs": [
    {
     "name": "stderr",
     "output_type": "stream",
     "text": [
      "Warning message:\n",
      "\"package 'glmertree' was built under R version 3.6.1\"Loading required package: lme4\n",
      "Warning message:\n",
      "\"package 'lme4' was built under R version 3.6.1\"Loading required package: Matrix\n",
      "Loading required package: partykit\n",
      "Warning message:\n",
      "\"package 'partykit' was built under R version 3.6.1\"Loading required package: grid\n",
      "Loading required package: libcoin\n",
      "Warning message:\n",
      "\"package 'libcoin' was built under R version 3.6.1\"Loading required package: mvtnorm\n",
      "Warning message:\n",
      "\"package 'WGCNA' was built under R version 3.6.1\"Loading required package: dynamicTreeCut\n",
      "Loading required package: fastcluster\n",
      "\n",
      "Attaching package: 'fastcluster'\n",
      "\n",
      "The following object is masked from 'package:stats':\n",
      "\n",
      "    hclust\n",
      "\n",
      "\n",
      "Registered S3 methods overwritten by 'ggplot2':\n",
      "  method         from \n",
      "  [.quosures     rlang\n",
      "  c.quosures     rlang\n",
      "  print.quosures rlang\n",
      "\n",
      "Attaching package: 'WGCNA'\n",
      "\n",
      "The following object is masked from 'package:stats':\n",
      "\n",
      "    cor\n",
      "\n",
      "Warning message:\n",
      "\"package 'pre' was built under R version 3.6.1\""
     ]
    }
   ],
   "source": [
    "source(\"SimData.r\")\n",
    "library(MASS)\n",
    "library(\"glmertree\")\n",
    "library(\"WGCNA\")\n",
    "library(\"pre\")"
   ]
  },
  {
   "cell_type": "markdown",
   "metadata": {},
   "source": [
    "Problems\n",
    "* When fixed_regress = NULL, we can let the user decide whether to use PC or not as regressors. If don't use PC, that is a WGCNA+ regular RE-EM\n",
    "* Right now we can only do random intercept\n",
    "* User may want to tune other parameters in WGCNA (in addition to power). How to do this in a elegant way? (Not urgent since the current parameters can cluster correctly)\n",
    "* max_depth_screen_factor=0.04 and max_depth_select_factor = 0.8 (not urgent)\n",
    "* Right now all the alpha in the algorithm are the same."
   ]
  },
  {
   "cell_type": "markdown",
   "metadata": {},
   "source": [
    "Not finished\n",
    "* In Longtree function where fixed_regress ==NULL, just use PC and glmertree."
   ]
  },
  {
   "cell_type": "markdown",
   "metadata": {},
   "source": [
    "Output: a glmertree object (trained tree)\n",
    "\n",
    "Parameters:\n",
    "* data: training data\n",
    "* fixed_regress: the regressors used no matter what such as time and time^2; if fixed_regress = NULL, use PC as regressor at screening step\n",
    "* fixed_split: a char vector containing features definitely used in splitting\n",
    "* var_select: a char vector containing features to be selected. These features will be clustered by WGCNA and the chosen ones will be used in regression and splitting\n",
    "* power: parameters of WGCNA\n",
    "* cluster: the variable name of each cluster (in terms of random effect)\n",
    "* Fuzzy = TRUE: Screen like Fuzzy Forest; Fuzzy= FALSE: first screen within non-grey modules and then select the final non-grey features within the selected ones from each non-grey module; Use this final non-grey features as regressors (plus fixed_regress) and use grey features as split_var to select grey features. The use final non-grey features and selected grey features together in splitting and regression variables, to do the final prediction. Fuzzy=FALSE is used if there are so many non-grey features and you want to protect grey features.\n",
    "* maxdepth_factor_screen: when selecting features from one module, the maxdepth of the glmertree is set to ceiling function of maxdepth_factor_screen*(#features in that module). Default is 0.04. \n",
    "* maxdepth_factor_select: Given screened features (from each modules, if Fuzzy=FALSE,that is the selected non-grey features from each non-grey modules), we want to select again from those screened features. The maxdepth of that glmertree is set to be ceiling of maxdepth_factor_select*(#screened features). Default is 0.6.\n",
    "* for the maxdepth of the prediction tree (final tree), maxdepth is set to the length of the split_var (fixed+chosen ones)\n",
    "* The most important parameters are alpha and maxdepth."
   ]
  },
  {
   "cell_type": "code",
   "execution_count": 2,
   "metadata": {},
   "outputs": [],
   "source": [
    "Longtree = function(data,fixed_regress=NULL,fixed_split=NULL,var_select=NULL,\n",
    "                    power=6,cluster,alpha=0.2,maxdepth_factor_screen=0.04,\n",
    "                    maxdepth_factor_select=0.5,Fuzzy=TRUE){\n",
    "    ### if there are no features to select, just use fixed_regress and fixed_split\n",
    "    if(length(var_select)==0){\n",
    "        if (length(fixed_regress)==0){\n",
    "            if (length(fixed_split)==0){\n",
    "                stop(\"no features to split and regress on\")\n",
    "            }\n",
    "            fixed_regress = \"1\"\n",
    "        }\n",
    "        maxdepth = length(fixed_split)\n",
    "        Formula = as.formula(paste(\"y~\",paste(fixed_regress,collapse = \"+\"),\n",
    "                                       \"|\",cluster,\"|\",\n",
    "                                     paste(fixed_split,collapse = \"+\")))\n",
    "        mytree = lmertree(Formula, data = data,alpha = alpha,maxdepth=maxdepth)\n",
    "        return (mytree)\n",
    "    } ###\n",
    "    # Now var_select is not empty\n",
    "    # If don't specify fixed_regress: use PC as regressors at screening step\n",
    "    if (length(fixed_regress)==0){\n",
    "        ...\n",
    "        return\n",
    "    }###\n",
    "    # Now we have non-empty var_select,fixed_regress\n",
    "    return(Longtree_time(data=data,fixed_regress=fixed_regress,\n",
    "                        fixed_split=fixed_split, var_select=var_select,\n",
    "                    power=power,cluster=cluster,alpha=alpha,\n",
    "                    maxdepth_factor_screen=maxdepth_factor_screen, \n",
    "                    maxdepth_factor_select=maxdepth_factor_select,Fuzzy=Fuzzy))\n",
    "                        \n",
    "}\n",
    "\n",
    "# Longtree_time: used when var_select and fixed_regress are non-empty\n",
    "# Longtree is equivalent to this Longtree_time in this case\n",
    "Longtree_time = function(data,fixed_regress,fixed_split,var_select,power,cluster,\n",
    "                         alpha,maxdepth_factor_screen,maxdepth_factor_select,Fuzzy){\n",
    "    # Cluster var_select\n",
    "    data_WGCNA = data[var_select]\n",
    "    # Must set numericLabels = FALSE so that it uses actual colors like \"grey\"\n",
    "    net = blockwiseModules(data_WGCNA, power = power,TOMType = \"unsigned\", \n",
    "                           minModuleSize = 30,reassignThreshold = 0, \n",
    "                           mergeCutHeight = 0.25,numericLabels = FALSE, \n",
    "                           pamRespectsDendro = FALSE,verbose = 0)\n",
    "    # the correspondance betweeen feature names and colors\n",
    "    colors = net$colors # it is a string vector with names (that is the name is V1)\n",
    "    module_names = unique(colors) # all color names\n",
    "    #\"dictionary\"with keys=name of color,values=names of features of that color\n",
    "    module_dic = list() \n",
    "    for (i in 1:length(module_names)){\n",
    "        module_dic[[module_names[i]]] = names(colors[colors==module_names[i]])\n",
    "    }\n",
    "    \n",
    "    imp_var = list() # used to store the names of important features\n",
    "    \n",
    "    if(Fuzzy==TRUE){\n",
    "        # Do the selection step just like Fuzzy Forest:\n",
    "        # for each module (including grey), use them as split_var and select\n",
    "        # finally, use all selected ones as split_var and select\n",
    "        \n",
    "        for (name in module_names){\n",
    "        # in the formula, add fixed_split as split_var, also include the module features\n",
    "        split_var = c(module_dic[[name]],fixed_split)\n",
    "        maxdepth = ceiling(maxdepth_factor_screen*length(split_var))\n",
    "        # use fixed_regress as regressor\n",
    "        regress_var = fixed_regress\n",
    "\n",
    "        # Formula for lmtree\n",
    "        Formula = as.formula(paste(\"y~\",paste(regress_var,collapse = \"+\"),\n",
    "                               \"|\",cluster,\"|\",\n",
    "                    paste(split_var,collapse = \"+\")))\n",
    "\n",
    "        # fit the tree\n",
    "        mytree = lmertree(Formula, data = data,alpha = alpha,maxdepth=maxdepth) \n",
    "\n",
    "        #extract important features\n",
    "        imp_var[[length(imp_var)+1]] = get_split_names(mytree$tree,data)\n",
    "        }\n",
    "        \n",
    "        # the variables selected from all the modules\n",
    "        final_var = imp_var[[1]]\n",
    "        if (length(imp_var)>1){\n",
    "            # There are at least 2 modules\n",
    "            for (i in 2:length(imp_var)){\n",
    "            final_var = c(final_var,imp_var[[i]])\n",
    "         }\n",
    "            cat(\"after screening within modules\",final_var,\"\\n\")\n",
    "            \n",
    "            # the final selection among all the chosen features \n",
    "            regress_var = fixed_regress\n",
    "            split_var = c(final_var,fixed_split)\n",
    "            maxdepth = ceiling(maxdepth_factor_select*length(split_var))\n",
    "            Formula = as.formula(paste(\"y~\",paste(regress_var,collapse = \"+\"),\n",
    "                                       \"|\",cluster,\"|\",\n",
    "                                     paste(split_var,collapse = \"+\")))\n",
    "            mytree = lmertree(Formula, data = data,alpha = alpha,maxdepth=maxdepth) \n",
    "            final_var = get_split_names(mytree$tree,data)\n",
    "            cat(\"final features\",final_var)      \n",
    "        }else{\n",
    "            # only grey module\n",
    "            cat(\"There is only one module, final features\",final_var)\n",
    "        }\n",
    "        # use the final features as split&regression variables\n",
    "        split_var = c(final_var,fixed_split)\n",
    "        maxdepth = length(split_var)\n",
    "        regress_var = c(fixed_regress,final_var)\n",
    "        Formula = as.formula(paste(\"y~\",paste(regress_var,collapse = \"+\"),\n",
    "                                   \"|\",cluster,\"|\",\n",
    "                                 paste(split_var,collapse = \"+\")))\n",
    "        mytree = lmertree(Formula, data = data,alpha=alpha,maxdepth=maxdepth) \n",
    "        return(mytree)           \n",
    "    }\n",
    "    if(Fuzzy==FALSE){\n",
    "        # first do the screening and selecting in non-grey modules\n",
    "        # Then use those non-grey estimated true features as regressors\n",
    "        # and grey features as split_var, choose grey features and keep them\n",
    "        for (name in module_names){\n",
    "        if(name==\"grey\"){\n",
    "            next\n",
    "        }\n",
    "        split_var = c(module_dic[[name]],fixed_split)\n",
    "        maxdepth = ceiling(maxdepth_factor_screen*length(split_var))\n",
    "        regress_var = fixed_regress\n",
    "\n",
    "        # Formula for lmtree\n",
    "        Formula = as.formula(paste(\"y~\",paste(regress_var,collapse = \"+\"),\n",
    "                               \"|\",cluster,\"|\",\n",
    "                    paste(split_var,collapse = \"+\")))\n",
    "\n",
    "        # fit the tree\n",
    "        mytree = lmertree(Formula, data = data,alpha = alpha,maxdepth=maxdepth) \n",
    "\n",
    "        #extract important features\n",
    "        imp_var[[length(imp_var)+1]] = get_split_names(mytree$tree,data)\n",
    "        }# Now imp_var contains important features from modules that are not grey\n",
    "        if(length(imp_var)==0){\n",
    "            # only grey module, no other modules\n",
    "            split_var = c(module_dic[[\"grey\"]],fixed_split)\n",
    "            maxdepth = ceiling(maxdepth_factor_screen*length(split_var))\n",
    "            regress_var = fixed_regress\n",
    "            Formula = as.formula(paste(\"y~\",paste(regress_var,collapse = \"+\"),\n",
    "                               \"|\",cluster,\"|\",\n",
    "                    paste(split_var,collapse = \"+\")))\n",
    "            mytree = lmertree(Formula, data = data,alpha = alpha,maxdepth=maxdepth) \n",
    "            final_var = get_split_names(mytree$tree,data)\n",
    "            cat(\"There is only one module which is grey, final features\",final_var)\n",
    "        }else{\n",
    "            # at least one non-grey module\n",
    "            final_var = imp_var[[1]]\n",
    "            # if only one non-grey module: final_var is the chosen non-grey features\n",
    "            # if at least two non-grey modules:\n",
    "            if (length(imp_var)>1){\n",
    "                # There are at least 2 modules\n",
    "                for (i in 2:length(imp_var)){\n",
    "                final_var = c(final_var,imp_var[[i]])\n",
    "                }\n",
    "            \n",
    "            cat(\"After screening within non-grey modules\",final_var,\"\\n\")\n",
    "            # select from selected non-grey features\n",
    "            regress_var = fixed_regress\n",
    "            split_var = c(final_var,fixed_split)\n",
    "            maxdepth = ceiling(maxdepth_factor_select*length(split_var))\n",
    "            Formula = as.formula(paste(\"y~\",paste(regress_var,collapse = \"+\"),\n",
    "                                       \"|\",cluster,\"|\",\n",
    "                                     paste(split_var,collapse = \"+\")))\n",
    "            mytree = lmertree(Formula, data = data,alpha = alpha,maxdepth=maxdepth) \n",
    "            final_var = get_split_names(mytree$tree,data)\n",
    "            }\n",
    "            cat(\"The chosen non-grey features are\",final_var,\"\\n\")\n",
    "            \n",
    "            # use final_var (chosen non-grey features) to select grey features\n",
    "            regress_var = c(fixed_regress,final_var)\n",
    "            split_var = c(module_dic[[\"grey\"]],fixed_split)\n",
    "            maxdepth = ceiling(maxdepth_factor_screen*length(split_var))\n",
    "            Formula = as.formula(paste(\"y~\",paste(regress_var,collapse = \"+\"),\n",
    "                                       \"|\",cluster,\"|\",\n",
    "                                     paste(split_var,collapse = \"+\")))\n",
    "            mytree = lmertree(Formula, data = data,alpha = alpha,maxdepth=maxdepth) \n",
    "            grey_var = get_split_names(mytree$tree,data)\n",
    "            cat(\"The chosen grey features are\",grey_var,\"\\n\")\n",
    "            # use final_var and grey_var do to the final model tree\n",
    "            final_var = c(final_var,grey_var)    \n",
    "            cat(\"final features\",final_var)  \n",
    "        }\n",
    "        # use the final features as split&regression variables\n",
    "        split_var = c(final_var,fixed_split)\n",
    "        maxdepth = length(split_var)\n",
    "        regress_var = c(fixed_regress,final_var)\n",
    "        Formula = as.formula(paste(\"y~\",paste(regress_var,collapse = \"+\"),\n",
    "                                   \"|\",cluster,\"|\",\n",
    "                                 paste(split_var,collapse = \"+\")))\n",
    "        mytree = lmertree(Formula, data = data,alpha=alpha,maxdepth=maxdepth) \n",
    "        return(mytree)\n",
    "    }\n",
    "    \n",
    "}\n",
    "\n",
    "# Methods for extracting names of splitting features used in a tree\n",
    "# tree: a tree object; data: the train or test set\n",
    "get_split_names = function(tree,data){\n",
    "    # path: the string that contains all the node information\n",
    "    paths <- pre:::list.rules(tree, removecomplements = FALSE)\n",
    "    vnames = names(data)\n",
    "    # the regex for a variable\n",
    "    # tomatch = paste(paste(var,\"<=\"),\"|\",paste(var,\">\"),sep=\"\")\n",
    "    # match to tomatch in path\n",
    "    tmp = vnames[sapply(sapply(vnames, FUN = function(var) grep(paste(paste(var,\"<=\"),\"|\",paste(var,\">\"),sep=\"\"), paths)), length) > 0]\n",
    "    return (tmp)\n",
    "}"
   ]
  },
  {
   "cell_type": "markdown",
   "metadata": {},
   "source": [
    "# Sample Run"
   ]
  },
  {
   "cell_type": "code",
   "execution_count": 3,
   "metadata": {},
   "outputs": [],
   "source": [
    "fixed_regress = c(\"time\",\"time2\")\n",
    "fixed_split = c(\"treatment\")\n",
    "cluster = \"patient\"\n",
    "var_select = paste(\"V\",1:400,sep=\"\")"
   ]
  },
  {
   "cell_type": "code",
   "execution_count": 4,
   "metadata": {},
   "outputs": [],
   "source": [
    "# training data\n",
    "n <- 300 # number of patients\n",
    "T <-  5 # number of observations per patients\n",
    "\n",
    "set.seed(100)\n",
    "\n",
    "data <- sim_quad(n,T)\n",
    "# add time_squared\n",
    "data$time2 = (data$time)^2\n",
    "\n",
    "# testing data\n",
    "n_test <- 100 # number of patients\n",
    "T <-  5 # number of observations per patients\n",
    "set.seed(101)\n",
    "data_test <- sim_quad(n,T)\n",
    "# data_test <- sim_quad(n_test, T)\n",
    "data_test$time2 = (data_test$time)^2"
   ]
  },
  {
   "cell_type": "code",
   "execution_count": 5,
   "metadata": {},
   "outputs": [
    {
     "name": "stderr",
     "output_type": "stream",
     "text": [
      "boundary (singular) fit: see ?isSingular\n",
      "boundary (singular) fit: see ?isSingular\n",
      "boundary (singular) fit: see ?isSingular\n",
      "boundary (singular) fit: see ?isSingular\n"
     ]
    },
    {
     "name": "stdout",
     "output_type": "stream",
     "text": [
      "after screening within modules V1 V2 V3 V14 V26 V68 V106 V154 V172 V301 V302 V303 V319 V348 \n"
     ]
    },
    {
     "name": "stderr",
     "output_type": "stream",
     "text": [
      "boundary (singular) fit: see ?isSingular\n",
      "boundary (singular) fit: see ?isSingular\n"
     ]
    },
    {
     "name": "stdout",
     "output_type": "stream",
     "text": [
      "final features V1 V2 V3 V14 V26 V301 V302 V303"
     ]
    },
    {
     "data": {
      "text/plain": [
       "   user  system elapsed \n",
       "  22.85    0.39   23.57 "
      ]
     },
     "metadata": {},
     "output_type": "display_data"
    },
    {
     "data": {
      "text/html": [
       "16.5247519487391"
      ],
      "text/latex": [
       "16.5247519487391"
      ],
      "text/markdown": [
       "16.5247519487391"
      ],
      "text/plain": [
       "[1] 16.52475"
      ]
     },
     "metadata": {},
     "output_type": "display_data"
    }
   ],
   "source": [
    "# Fuzzy=TRUE \n",
    "# alpha = 0.2, maxdepth_factor_select = 0.5 (all default)\n",
    "system.time({\n",
    "    mytree = Longtree(data,fixed_regress=fixed_regress,fixed_split=fixed_split,\n",
    "                  var_select=var_select,cluster=cluster,Fuzzy=TRUE)\n",
    "})\n",
    "mean((predict(mytree,newdata=data_test)-data_test$y)**2)"
   ]
  },
  {
   "cell_type": "code",
   "execution_count": 6,
   "metadata": {},
   "outputs": [
    {
     "name": "stderr",
     "output_type": "stream",
     "text": [
      "boundary (singular) fit: see ?isSingular\n",
      "boundary (singular) fit: see ?isSingular\n",
      "boundary (singular) fit: see ?isSingular\n",
      "boundary (singular) fit: see ?isSingular\n",
      "boundary (singular) fit: see ?isSingular\n",
      "boundary (singular) fit: see ?isSingular\n"
     ]
    },
    {
     "name": "stdout",
     "output_type": "stream",
     "text": [
      "After screening within non-grey modules V1 V2 V3 V14 V26 V68 \n"
     ]
    },
    {
     "name": "stderr",
     "output_type": "stream",
     "text": [
      "boundary (singular) fit: see ?isSingular\n",
      "boundary (singular) fit: see ?isSingular\n"
     ]
    },
    {
     "name": "stdout",
     "output_type": "stream",
     "text": [
      "The chosen non-grey features are V1 V2 V3 \n",
      "The chosen grey features are V301 V302 V303 \n",
      "final features V1 V2 V3 V301 V302 V303"
     ]
    },
    {
     "data": {
      "text/plain": [
       "   user  system elapsed \n",
       "  24.25    0.53   25.23 "
      ]
     },
     "metadata": {},
     "output_type": "display_data"
    },
    {
     "data": {
      "text/html": [
       "14.1631483253277"
      ],
      "text/latex": [
       "14.1631483253277"
      ],
      "text/markdown": [
       "14.1631483253277"
      ],
      "text/plain": [
       "[1] 14.16315"
      ]
     },
     "metadata": {},
     "output_type": "display_data"
    }
   ],
   "source": [
    "# Fuzzy=False \n",
    "# alpha = 0.1, maxdepth_factor_select = 0.5\n",
    "system.time({\n",
    "    mytree = Longtree(data,fixed_regress=fixed_regress,fixed_split=fixed_split,\n",
    "                  var_select=var_select,alpha=0.1,cluster=cluster,Fuzzy=FALSE)\n",
    "})\n",
    "mean((predict(mytree,newdata=data_test)-data_test$y)**2)"
   ]
  }
 ],
 "metadata": {
  "kernelspec": {
   "display_name": "R",
   "language": "R",
   "name": "ir"
  },
  "language_info": {
   "codemirror_mode": "r",
   "file_extension": ".r",
   "mimetype": "text/x-r-source",
   "name": "R",
   "pygments_lexer": "r",
   "version": "3.6.0"
  }
 },
 "nbformat": 4,
 "nbformat_minor": 2
}
