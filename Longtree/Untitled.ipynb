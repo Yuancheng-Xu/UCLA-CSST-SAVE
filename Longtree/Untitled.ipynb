{
 "cells": [
  {
   "cell_type": "markdown",
   "metadata": {},
   "source": [
    "Test Longtree using different p and p_true"
   ]
  },
  {
   "cell_type": "code",
   "execution_count": 7,
   "metadata": {},
   "outputs": [],
   "source": [
    "source(\"Data Generator.r\")\n",
    "source(\"Longtree.r\")"
   ]
  },
  {
   "cell_type": "code",
   "execution_count": 58,
   "metadata": {},
   "outputs": [],
   "source": [
    "# data\n",
    "set.seed(100)\n",
    "n = 500\n",
    "p = 1000\n",
    "imp_mod = c(1,5,10)\n",
    "var_noise = 1\n",
    "data = sim_time(n=n,p=p,imp_mod=imp_mod, var_noise=var_noise)\n",
    "data$time2 = (data$time)^2\n",
    "\n",
    "\n",
    "set.seed(101)\n",
    "n_test = 100\n",
    "data_test = sim_time(n=n_test,p=p,imp_mod=imp_mod, var_noise=var_noise)\n",
    "data_test$time2 = (data_test$time)^2"
   ]
  },
  {
   "cell_type": "code",
   "execution_count": 59,
   "metadata": {},
   "outputs": [
    {
     "name": "stdout",
     "output_type": "stream",
     "text": [
      "Use Longtree_time\n"
     ]
    },
    {
     "name": "stderr",
     "output_type": "stream",
     "text": [
      "boundary (singular) fit: see ?isSingular\n",
      "boundary (singular) fit: see ?isSingular\n",
      "boundary (singular) fit: see ?isSingular\n",
      "boundary (singular) fit: see ?isSingular\n",
      "boundary (singular) fit: see ?isSingular\n",
      "boundary (singular) fit: see ?isSingular\n",
      "boundary (singular) fit: see ?isSingular\n",
      "boundary (singular) fit: see ?isSingular\n",
      "boundary (singular) fit: see ?isSingular\n",
      "boundary (singular) fit: see ?isSingular\n",
      "boundary (singular) fit: see ?isSingular\n",
      "boundary (singular) fit: see ?isSingular\n",
      "boundary (singular) fit: see ?isSingular\n",
      "boundary (singular) fit: see ?isSingular\n",
      "boundary (singular) fit: see ?isSingular\n",
      "boundary (singular) fit: see ?isSingular\n",
      "boundary (singular) fit: see ?isSingular\n",
      "boundary (singular) fit: see ?isSingular\n"
     ]
    },
    {
     "name": "stdout",
     "output_type": "stream",
     "text": [
      "after screening within modules V2 V3 V29 V401 V402 V403 V485 V901 V902 V903 \n",
      "final features V2 V3 V402 V403 V901 V902 V903"
     ]
    },
    {
     "data": {
      "text/plain": [
       "   user  system elapsed \n",
       " 143.20    3.86  151.67 "
      ]
     },
     "metadata": {},
     "output_type": "display_data"
    },
    {
     "data": {
      "text/html": [
       "35.1339870743292"
      ],
      "text/latex": [
       "35.1339870743292"
      ],
      "text/markdown": [
       "35.1339870743292"
      ],
      "text/plain": [
       "[1] 35.13399"
      ]
     },
     "metadata": {},
     "output_type": "display_data"
    }
   ],
   "source": [
    "# p = 1000, n=1000, c(1,5,10)\n",
    "fixed_regress = c(\"time\",\"time2\")\n",
    "fixed_split = c(\"treatment\")\n",
    "cluster = \"patient\"\n",
    "var_select = paste(\"V\",1:p,sep=\"\")\n",
    "# Fuzzy=TRUE \n",
    "# alpha = 0.2, maxdepth_factor_select = 0.8 \n",
    "system.time({\n",
    "    mytree = Longtree(data,fixed_regress=fixed_regress,fixed_split=fixed_split,\n",
    "                  var_select=var_select,cluster=cluster,Fuzzy=TRUE,\n",
    "                     maxdepth_factor_select = 0.5,maxdepth_factor_screen=0.03)\n",
    "})\n",
    "mean((predict(mytree,newdata=data_test,re.form=NA)-data_test$y)**2)\n",
    "# coef(mytree)"
   ]
  },
  {
   "cell_type": "code",
   "execution_count": 51,
   "metadata": {},
   "outputs": [
    {
     "name": "stdout",
     "output_type": "stream",
     "text": [
      "Use Longtree_time\n",
      "after screening within modules V1 V2 V3 V98 V301 V302 V303 V370 V377 V413 \n",
      "final features V1 V2 V3 V98 V301 V302 V303"
     ]
    },
    {
     "data": {
      "text/plain": [
       "   user  system elapsed \n",
       "  43.12    0.81   44.58 "
      ]
     },
     "metadata": {},
     "output_type": "display_data"
    },
    {
     "data": {
      "text/html": [
       "12.8954785971548"
      ],
      "text/latex": [
       "12.8954785971548"
      ],
      "text/markdown": [
       "12.8954785971548"
      ],
      "text/plain": [
       "[1] 12.89548"
      ]
     },
     "metadata": {},
     "output_type": "display_data"
    }
   ],
   "source": [
    "# 1,4\n",
    "fixed_regress = c(\"time\",\"time2\")\n",
    "fixed_split = c(\"treatment\")\n",
    "cluster = \"patient\"\n",
    "var_select = paste(\"V\",1:p,sep=\"\")\n",
    "# Fuzzy=TRUE \n",
    "# alpha = 0.2, maxdepth_factor_select = 0.8 \n",
    "system.time({\n",
    "    mytree = Longtree(data,fixed_regress=fixed_regress,fixed_split=fixed_split,\n",
    "                  var_select=var_select,cluster=cluster,Fuzzy=TRUE,\n",
    "                     maxdepth_factor_select = 0.6,maxdepth_factor_screen=0.04)\n",
    "})\n",
    "mean((predict(mytree,newdata=data_test,re.form=NA)-data_test$y)**2)\n",
    "# coef(mytree)"
   ]
  },
  {
   "cell_type": "code",
   "execution_count": 47,
   "metadata": {},
   "outputs": [
    {
     "name": "stdout",
     "output_type": "stream",
     "text": [
      "Use Longtree_time\n"
     ]
    },
    {
     "name": "stderr",
     "output_type": "stream",
     "text": [
      "boundary (singular) fit: see ?isSingular\n",
      "boundary (singular) fit: see ?isSingular\n"
     ]
    },
    {
     "name": "stdout",
     "output_type": "stream",
     "text": [
      "after screening within modules V1 V2 V31 V61 V401 V402 V403 \n",
      "final features V1 V2 V61 V401 V402 V403"
     ]
    },
    {
     "data": {
      "text/plain": [
       "   user  system elapsed \n",
       "  38.95    0.69   40.06 "
      ]
     },
     "metadata": {},
     "output_type": "display_data"
    },
    {
     "data": {
      "text/html": [
       "16.2045396832426"
      ],
      "text/latex": [
       "16.2045396832426"
      ],
      "text/markdown": [
       "16.2045396832426"
      ],
      "text/plain": [
       "[1] 16.20454"
      ]
     },
     "metadata": {},
     "output_type": "display_data"
    }
   ],
   "source": [
    "# 1,5\n",
    "fixed_regress = c(\"time\",\"time2\")\n",
    "fixed_split = c(\"treatment\")\n",
    "cluster = \"patient\"\n",
    "var_select = paste(\"V\",1:p,sep=\"\")\n",
    "# Fuzzy=TRUE \n",
    "# alpha = 0.2, maxdepth_factor_select = 0.8 \n",
    "system.time({\n",
    "    mytree = Longtree(data,fixed_regress=fixed_regress,fixed_split=fixed_split,\n",
    "                  var_select=var_select,cluster=cluster,Fuzzy=TRUE,\n",
    "                     maxdepth_factor_select = 0.5,maxdepth_factor_screen=0.03)\n",
    "})\n",
    "mean((predict(mytree,newdata=data_test,re.form=NA)-data_test$y)**2)\n",
    "# coef(mytree)"
   ]
  }
 ],
 "metadata": {
  "kernelspec": {
   "display_name": "R",
   "language": "R",
   "name": "ir"
  },
  "language_info": {
   "codemirror_mode": "r",
   "file_extension": ".r",
   "mimetype": "text/x-r-source",
   "name": "R",
   "pygments_lexer": "r",
   "version": "3.6.0"
  }
 },
 "nbformat": 4,
 "nbformat_minor": 2
}
