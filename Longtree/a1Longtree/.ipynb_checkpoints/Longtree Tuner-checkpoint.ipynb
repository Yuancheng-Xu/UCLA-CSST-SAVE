{
 "cells": [
  {
   "cell_type": "code",
   "execution_count": 1,
   "metadata": {},
   "outputs": [
    {
     "name": "stderr",
     "output_type": "stream",
     "text": [
      "Warning message:\n",
      "\"package 'glmertree' was built under R version 3.6.1\"Loading required package: lme4\n",
      "Warning message:\n",
      "\"package 'lme4' was built under R version 3.6.1\"Loading required package: Matrix\n",
      "Loading required package: partykit\n",
      "Warning message:\n",
      "\"package 'partykit' was built under R version 3.6.1\"Loading required package: grid\n",
      "Loading required package: libcoin\n",
      "Warning message:\n",
      "\"package 'libcoin' was built under R version 3.6.1\"Loading required package: mvtnorm\n",
      "Warning message:\n",
      "\"package 'WGCNA' was built under R version 3.6.1\"Loading required package: dynamicTreeCut\n",
      "Loading required package: fastcluster\n",
      "\n",
      "Attaching package: 'fastcluster'\n",
      "\n",
      "The following object is masked from 'package:stats':\n",
      "\n",
      "    hclust\n",
      "\n",
      "\n",
      "Registered S3 methods overwritten by 'ggplot2':\n",
      "  method         from \n",
      "  [.quosures     rlang\n",
      "  c.quosures     rlang\n",
      "  print.quosures rlang\n",
      "\n",
      "Attaching package: 'WGCNA'\n",
      "\n",
      "The following object is masked from 'package:stats':\n",
      "\n",
      "    cor\n",
      "\n",
      "Warning message:\n",
      "\"package 'pre' was built under R version 3.6.1\""
     ]
    }
   ],
   "source": [
    "source(\"../Data Generator.r\")\n",
    "source(\"../Longtree.r\")"
   ]
  },
  {
   "cell_type": "markdown",
   "metadata": {},
   "source": [
    "Note: the following is where a1=1,a2=--1"
   ]
  },
  {
   "cell_type": "markdown",
   "metadata": {},
   "source": [
    "# Tuning Longtree"
   ]
  },
  {
   "cell_type": "code",
   "execution_count": 2,
   "metadata": {},
   "outputs": [],
   "source": [
    "### training, validation and test set ###\n",
    "set.seed(100)\n",
    "n = 100\n",
    "p = 400\n",
    "imp_mod = c(1,4)\n",
    "var_noise = 1\n",
    "data = sim_time(n=n,p=p,imp_mod=imp_mod, var_noise=var_noise,a1=1,a2=-1)\n",
    "data$time2 = (data$time)^2\n",
    "\n",
    "# test set (used for testing performance using optimal parameters)\n",
    "set.seed(101)\n",
    "n_test = 100\n",
    "data_test = sim_time(n=n_test,p=p,imp_mod=imp_mod, var_noise=var_noise,a1=1,a2=-1)\n",
    "data_test$time2 = (data_test$time)^2\n",
    "\n",
    "# validation set (used for tuning parameters)\n",
    "set.seed(102)\n",
    "n_valid = 100\n",
    "data_valid = sim_time(n=n_valid,p=p,imp_mod=imp_mod, var_noise=var_noise,a1=1,a2=-1)\n",
    "data_valid$time2 = (data_valid$time)^2\n",
    "###"
   ]
  },
  {
   "cell_type": "code",
   "execution_count": 3,
   "metadata": {},
   "outputs": [
    {
     "name": "stdout",
     "output_type": "stream",
     "text": [
      "Use Longtree_time\n",
      "After screening within non-grey modules V1 V2 V3 V289 \n",
      "The chosen non-grey features are V1 V2 V3 \n",
      "The chosen grey features are V301 V302 \n",
      "final features V1 V2 V3 V301 V302"
     ]
    },
    {
     "data": {
      "text/plain": [
       "   user  system elapsed \n",
       "   7.81    0.23    8.21 "
      ]
     },
     "metadata": {},
     "output_type": "display_data"
    },
    {
     "data": {
      "text/html": [
       "35.4560864877259"
      ],
      "text/latex": [
       "35.4560864877259"
      ],
      "text/markdown": [
       "35.4560864877259"
      ],
      "text/plain": [
       "[1] 35.45609"
      ]
     },
     "metadata": {},
     "output_type": "display_data"
    },
    {
     "data": {
      "text/html": [
       "<table>\n",
       "<thead><tr><th></th><th scope=col>(Intercept)</th><th scope=col>time</th><th scope=col>time2</th><th scope=col>V1</th><th scope=col>V2</th><th scope=col>V3</th><th scope=col>V301</th><th scope=col>V302</th></tr></thead>\n",
       "<tbody>\n",
       "\t<tr><th scope=row>3</th><td>  4.262397</td><td>-6.419367 </td><td> 1.1140322</td><td>3.822676  </td><td>-3.455860 </td><td>-2.639491 </td><td>4.660960  </td><td>1.9657049 </td></tr>\n",
       "\t<tr><th scope=row>4</th><td>-14.453392</td><td> 6.217615 </td><td>-1.0517839</td><td>4.814965  </td><td>-5.725771 </td><td>-1.396711 </td><td>4.728828  </td><td>0.7768329 </td></tr>\n",
       "\t<tr><th scope=row>6</th><td>  9.588905</td><td>-6.791619 </td><td> 1.0014639</td><td>5.785032  </td><td> 6.551489 </td><td> 5.180839 </td><td>4.859067  </td><td>0.9588469 </td></tr>\n",
       "\t<tr><th scope=row>7</th><td> -6.476356</td><td> 3.357543 </td><td>-0.5027088</td><td>4.080269  </td><td> 5.262187 </td><td> 6.794826 </td><td>5.552510  </td><td>3.0766797 </td></tr>\n",
       "</tbody>\n",
       "</table>\n"
      ],
      "text/latex": [
       "\\begin{tabular}{r|llllllll}\n",
       "  & (Intercept) & time & time2 & V1 & V2 & V3 & V301 & V302\\\\\n",
       "\\hline\n",
       "\t3 &   4.262397 & -6.419367  &  1.1140322 & 3.822676   & -3.455860  & -2.639491  & 4.660960   & 1.9657049 \\\\\n",
       "\t4 & -14.453392 &  6.217615  & -1.0517839 & 4.814965   & -5.725771  & -1.396711  & 4.728828   & 0.7768329 \\\\\n",
       "\t6 &   9.588905 & -6.791619  &  1.0014639 & 5.785032   &  6.551489  &  5.180839  & 4.859067   & 0.9588469 \\\\\n",
       "\t7 &  -6.476356 &  3.357543  & -0.5027088 & 4.080269   &  5.262187  &  6.794826  & 5.552510   & 3.0766797 \\\\\n",
       "\\end{tabular}\n"
      ],
      "text/markdown": [
       "\n",
       "| <!--/--> | (Intercept) | time | time2 | V1 | V2 | V3 | V301 | V302 |\n",
       "|---|---|---|---|---|---|---|---|---|\n",
       "| 3 |   4.262397 | -6.419367  |  1.1140322 | 3.822676   | -3.455860  | -2.639491  | 4.660960   | 1.9657049  |\n",
       "| 4 | -14.453392 |  6.217615  | -1.0517839 | 4.814965   | -5.725771  | -1.396711  | 4.728828   | 0.7768329  |\n",
       "| 6 |   9.588905 | -6.791619  |  1.0014639 | 5.785032   |  6.551489  |  5.180839  | 4.859067   | 0.9588469  |\n",
       "| 7 |  -6.476356 |  3.357543  | -0.5027088 | 4.080269   |  5.262187  |  6.794826  | 5.552510   | 3.0766797  |\n",
       "\n"
      ],
      "text/plain": [
       "  (Intercept) time      time2      V1       V2        V3        V301    \n",
       "3   4.262397  -6.419367  1.1140322 3.822676 -3.455860 -2.639491 4.660960\n",
       "4 -14.453392   6.217615 -1.0517839 4.814965 -5.725771 -1.396711 4.728828\n",
       "6   9.588905  -6.791619  1.0014639 5.785032  6.551489  5.180839 4.859067\n",
       "7  -6.476356   3.357543 -0.5027088 4.080269  5.262187  6.794826 5.552510\n",
       "  V302     \n",
       "3 1.9657049\n",
       "4 0.7768329\n",
       "6 0.9588469\n",
       "7 3.0766797"
      ]
     },
     "metadata": {},
     "output_type": "display_data"
    }
   ],
   "source": [
    "# Tuning parameters on the validation set: alpha,maxdepth,Fuzzy\n",
    "fixed_regress = c(\"time\",\"time2\")\n",
    "fixed_split = c(\"treatment\")\n",
    "cluster = \"patient\"\n",
    "var_select = paste(\"V\",1:p,sep=\"\")\n",
    "alpha = 0.6\n",
    "maxdepth_factor_select = 0.8\n",
    "maxdepth_factor_screen = 0.04\n",
    "system.time({\n",
    "    mytree = Longtree(data,fixed_regress=fixed_regress,fixed_split=fixed_split,\n",
    "                      var_select=var_select,cluster=cluster,Fuzzy=FALSE,alpha=alpha,\n",
    "                      maxdepth_factor_select =  maxdepth_factor_select,\n",
    "                      maxdepth_factor_screen = maxdepth_factor_screen)\n",
    "})\n",
    "mean((predict(mytree,newdata=data_valid,re.form=NA)-data_valid$y)**2)\n",
    "coef(mytree)"
   ]
  },
  {
   "cell_type": "code",
   "execution_count": 4,
   "metadata": {},
   "outputs": [
    {
     "data": {
      "text/html": [
       "40.2615500470917"
      ],
      "text/latex": [
       "40.2615500470917"
      ],
      "text/markdown": [
       "40.2615500470917"
      ],
      "text/plain": [
       "[1] 40.26155"
      ]
     },
     "metadata": {},
     "output_type": "display_data"
    }
   ],
   "source": [
    "# performance of test set\n",
    "mse = mean((predict(mytree,newdata=data_test,re.form=NA)-data_test$y)**2)\n",
    "mse"
   ]
  },
  {
   "cell_type": "code",
   "execution_count": 6,
   "metadata": {},
   "outputs": [],
   "source": [
    "save_item = list(tree=mytree,mse=mse,alpha=alpha,\n",
    "                 maxdepth_factor_select=maxdepth_factor_select,\n",
    "                 maxdepth_factor_screen=maxdepth_factor_screen,\n",
    "                 final_selection = mytree$final_selection)\n",
    "saveRDS(save_item, \"Longtree_n100.rds\")"
   ]
  },
  {
   "cell_type": "code",
   "execution_count": 3,
   "metadata": {},
   "outputs": [],
   "source": [
    "# retrieve information from the saved data\n",
    "# tmp = readRDS(\"Longtree_n100a1.rds\")\n",
    "# tmp$mse"
   ]
  },
  {
   "cell_type": "markdown",
   "metadata": {},
   "source": [
    "# Theorectically the best"
   ]
  },
  {
   "cell_type": "code",
   "execution_count": 10,
   "metadata": {},
   "outputs": [
    {
     "data": {
      "text/plain": [
       "   user  system elapsed \n",
       "   0.95    0.02    0.98 "
      ]
     },
     "metadata": {},
     "output_type": "display_data"
    },
    {
     "data": {
      "text/html": [
       "28.9113005336002"
      ],
      "text/latex": [
       "28.9113005336002"
      ],
      "text/markdown": [
       "28.9113005336002"
      ],
      "text/plain": [
       "[1] 28.9113"
      ]
     },
     "metadata": {},
     "output_type": "display_data"
    }
   ],
   "source": [
    "# the final selection among all the chosen features \n",
    "var = paste(\"V\",c(1,2,3,301,302,303),sep=\"\")\n",
    "regress_var = c(\"time\",\"time2\",var)\n",
    "split_var = c(\"treatment\",var)\n",
    "Formula = as.formula(paste(\"y~\",paste(regress_var,collapse = \"+\"),\n",
    "                   \"|\",cluster,\"|\",\n",
    "                 paste(split_var,collapse = \"+\")))\n",
    "system.time({mytree = lmertree(Formula, data = data,alpha = 0.2,maxdepth=6)}) \n",
    "mean((predict(mytree,newdata=data_test,re.form=NA)-data_test$y)**2)\n",
    "# coef(mytree)"
   ]
  }
 ],
 "metadata": {
  "kernelspec": {
   "display_name": "R",
   "language": "R",
   "name": "ir"
  },
  "language_info": {
   "codemirror_mode": "r",
   "file_extension": ".r",
   "mimetype": "text/x-r-source",
   "name": "R",
   "pygments_lexer": "r",
   "version": "3.6.0"
  }
 },
 "nbformat": 4,
 "nbformat_minor": 2
}
