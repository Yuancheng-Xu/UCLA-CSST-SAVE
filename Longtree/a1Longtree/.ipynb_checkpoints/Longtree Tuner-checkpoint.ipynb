{
 "cells": [
  {
   "cell_type": "code",
   "execution_count": 2,
   "metadata": {},
   "outputs": [],
   "source": [
    "source(\"../Data Generator.r\")\n",
    "source(\"../Longtree.r\")"
   ]
  },
  {
   "cell_type": "markdown",
   "metadata": {},
   "source": [
    "Note: the following is where a1=1,a2=--1"
   ]
  },
  {
   "cell_type": "markdown",
   "metadata": {},
   "source": [
    "# Tuning Longtree"
   ]
  },
  {
   "cell_type": "code",
   "execution_count": 8,
   "metadata": {},
   "outputs": [],
   "source": [
    "### training, validation and test set ###\n",
    "set.seed(100)\n",
    "n = 200\n",
    "p = 400\n",
    "imp_mod = c(1,4)\n",
    "var_noise = 1\n",
    "data = sim_time(n=n,p=p,imp_mod=imp_mod, var_noise=var_noise,a1=1,a2=-1)\n",
    "data$time2 = (data$time)^2\n",
    "\n",
    "# test set (used for testing performance using optimal parameters)\n",
    "set.seed(101)\n",
    "n_test = 100\n",
    "data_test = sim_time(n=n_test,p=p,imp_mod=imp_mod, var_noise=var_noise,a1=1,a2=-1)\n",
    "data_test$time2 = (data_test$time)^2\n",
    "\n",
    "# validation set (used for tuning parameters)\n",
    "set.seed(102)\n",
    "n_valid = 100\n",
    "data_valid = sim_time(n=n_valid,p=p,imp_mod=imp_mod, var_noise=var_noise,a1=1,a2=-1)\n",
    "data_valid$time2 = (data_valid$time)^2\n",
    "###"
   ]
  },
  {
   "cell_type": "code",
   "execution_count": 6,
   "metadata": {},
   "outputs": [],
   "source": [
    "fixed_regress = c(\"time\",\"time2\")\n",
    "fixed_split = c(\"treatment\")\n",
    "cluster = \"patient\"\n",
    "var_select = paste(\"V\",1:p,sep=\"\")"
   ]
  },
  {
   "cell_type": "code",
   "execution_count": 339,
   "metadata": {},
   "outputs": [],
   "source": [
    "# This is default parameters\n",
    "# alpha_screen = 0.2; alpha_select = 0.2; alpha_predict = 0.05\n",
    "# maxdepth_factor_select = 0.5; maxdepth_factor_screen = 0.04\n",
    "# minsize_multiplier = 5\n",
    "# Fuzzy=TRUE"
   ]
  },
  {
   "cell_type": "code",
   "execution_count": 10,
   "metadata": {},
   "outputs": [
    {
     "name": "stdout",
     "output_type": "stream",
     "text": [
      "Use Longtree_time\n"
     ]
    },
    {
     "name": "stderr",
     "output_type": "stream",
     "text": [
      "Warning message in checkConv(attr(opt, \"derivs\"), opt$par, ctrl = control$checkConv, :\n",
      "\"Model failed to converge with max|grad| = 0.00371697 (tol = 0.002, component 1)\"Warning message in checkConv(attr(opt, \"derivs\"), opt$par, ctrl = control$checkConv, :\n",
      "\"Model failed to converge with max|grad| = 0.00371697 (tol = 0.002, component 1)\"boundary (singular) fit: see ?isSingular\n",
      "boundary (singular) fit: see ?isSingular\n"
     ]
    },
    {
     "name": "stdout",
     "output_type": "stream",
     "text": [
      "after screening within modules V1 V2 V3 V50 V301 V302 V303 V390 \n",
      "final features V1 V2 V3 V301 V302 V303"
     ]
    },
    {
     "data": {
      "text/plain": [
       "   user  system elapsed \n",
       "  23.63    0.86   29.64 "
      ]
     },
     "metadata": {},
     "output_type": "display_data"
    },
    {
     "data": {
      "text/html": [
       "14.7136987381061"
      ],
      "text/latex": [
       "14.7136987381061"
      ],
      "text/markdown": [
       "14.7136987381061"
      ],
      "text/plain": [
       "[1] 14.7137"
      ]
     },
     "metadata": {},
     "output_type": "display_data"
    },
    {
     "data": {
      "text/html": [
       "13.4822350959791"
      ],
      "text/latex": [
       "13.4822350959791"
      ],
      "text/markdown": [
       "13.4822350959791"
      ],
      "text/plain": [
       "[1] 13.48224"
      ]
     },
     "metadata": {},
     "output_type": "display_data"
    }
   ],
   "source": [
    "# Tuning parameters on the validation set: alpha,maxdepth,Fuzzy\n",
    "alpha_screen = 0.2; alpha_select = 0.4; alpha_predict = 0.05\n",
    "maxdepth_factor_select = 0.8; maxdepth_factor_screen = 0.04\n",
    "minsize_multiplier = 5\n",
    "Fuzzy=TRUE\n",
    "\n",
    "time = system.time({\n",
    "    mytree = Longtree(data,fixed_regress=fixed_regress,fixed_split=fixed_split,\n",
    "                      var_select=var_select,cluster=cluster,Fuzzy=Fuzzy,\n",
    "                      maxdepth_factor_select =  maxdepth_factor_select,\n",
    "                      maxdepth_factor_screen = maxdepth_factor_screen,\n",
    "                      minsize_multiplier = minsize_multiplier, \n",
    "                      alpha_screen = alpha_screen,\n",
    "                      alpha_select=alpha_select,alpha_predict=alpha_predict)\n",
    "})\n",
    "time # running time\n",
    "mean((predict(mytree,newdata=data_valid,re.form=NA)-data_valid$y)**2)\n",
    "# coef(mytree)\n",
    "# performance of test set\n",
    "mse = mean((predict(mytree,newdata=data_test,re.form=NA)-data_test$y)**2)\n",
    "mse\n",
    "# plot(mytree)"
   ]
  },
  {
   "cell_type": "markdown",
   "metadata": {},
   "source": [
    "# Save the results"
   ]
  },
  {
   "cell_type": "code",
   "execution_count": 331,
   "metadata": {},
   "outputs": [],
   "source": [
    "save_item = list(tree=mytree,mse=mse,alpha_screen=alpha_screen,\n",
    "                 alpha_select = alpha_select, alpha_predict=alpha_predict,\n",
    "                 maxdepth_factor_select=maxdepth_factor_select,\n",
    "                 maxdepth_factor_screen=maxdepth_factor_screen,\n",
    "                 minsize_multiplier = minsize_multiplier, \n",
    "                 final_selection = mytree$final_selection, Fuzzy=Fuzzy,time=time)\n",
    "name = paste(\"Longtree_n\",n,\".rds\",sep=\"\")\n",
    "saveRDS(save_item, name)"
   ]
  },
  {
   "cell_type": "code",
   "execution_count": 355,
   "metadata": {},
   "outputs": [
    {
     "data": {
      "text/plain": [
       "$mse\n",
       "[1] 11.78949\n",
       "\n",
       "$alpha_screen\n",
       "[1] 0.2\n",
       "\n",
       "$alpha_select\n",
       "[1] 0.4\n",
       "\n",
       "$alpha_predict\n",
       "[1] 0.1\n",
       "\n",
       "$maxdepth_factor_select\n",
       "[1] 0.8\n",
       "\n",
       "$maxdepth_factor_screen\n",
       "[1] 0.04\n",
       "\n",
       "$minsize_multiplier\n",
       "[1] 1.875\n",
       "\n",
       "$final_selection\n",
       "[1] \"V1\"   \"V2\"   \"V3\"   \"V301\" \"V302\" \"V303\"\n",
       "\n",
       "$Fuzzy\n",
       "[1] TRUE\n",
       "\n",
       "$time\n",
       "   user  system elapsed \n",
       "  27.67    0.17   28.31 \n"
      ]
     },
     "metadata": {},
     "output_type": "display_data"
    }
   ],
   "source": [
    "# retrieve information from the saved data\n",
    "tmp = readRDS(\"Longtree_n200.rds\")\n",
    "tmp[2:length(tmp)]"
   ]
  },
  {
   "cell_type": "markdown",
   "metadata": {},
   "source": [
    "# Prediction step tuning"
   ]
  },
  {
   "cell_type": "code",
   "execution_count": 364,
   "metadata": {},
   "outputs": [
    {
     "data": {
      "text/plain": [
       "   user  system elapsed \n",
       "   5.40    0.07    5.56 "
      ]
     },
     "metadata": {},
     "output_type": "display_data"
    },
    {
     "data": {
      "text/html": [
       "12.9170193594794"
      ],
      "text/latex": [
       "12.9170193594794"
      ],
      "text/markdown": [
       "12.9170193594794"
      ],
      "text/plain": [
       "[1] 12.91702"
      ]
     },
     "metadata": {},
     "output_type": "display_data"
    },
    {
     "data": {
      "text/html": [
       "13.1274819520289"
      ],
      "text/latex": [
       "13.1274819520289"
      ],
      "text/markdown": [
       "13.1274819520289"
      ],
      "text/plain": [
       "[1] 13.12748"
      ]
     },
     "metadata": {},
     "output_type": "display_data"
    }
   ],
   "source": [
    "# the final selection among all the chosen features \n",
    "var = paste(\"V\",c(1,2,3,301,302,303),sep=\"\")\n",
    "regress_var = c(\"time\",\"time2\",var)\n",
    "split_var = c(\"treatment\",var)\n",
    "\n",
    "Formula = as.formula(paste(\"y~\",paste(regress_var,collapse = \"+\"),\n",
    "                   \"|\",cluster,\"|\",\n",
    "                 paste(split_var,collapse = \"+\")))\n",
    "system.time({mytree = lmertree(Formula, data = data,alpha = 0.05,maxdepth=7,\n",
    "                              minsize=20)}) \n",
    "mean((predict(mytree,newdata=data_valid,re.form=NA)-data_valid$y)**2)\n",
    "mean((predict(mytree,newdata=data_test,re.form=NA)-data_test$y)**2)\n",
    "# coef(mytree)"
   ]
  },
  {
   "cell_type": "markdown",
   "metadata": {},
   "source": [
    "# Plot"
   ]
  },
  {
   "cell_type": "code",
   "execution_count": 372,
   "metadata": {},
   "outputs": [
    {
     "data": {
      "image/png": "[encoded data removed]",
      "text/plain": [
       "plot without title"
      ]
     },
     "metadata": {},
     "output_type": "display_data"
    }
   ],
   "source": [
    "n_list = c(100,150,200,300,400)\n",
    "error_list=1:length(n_list)\n",
    "for (i in 1:length(n_list)){\n",
    "    tmp = readRDS(paste(\"Longtree_n\",n_list[i],\".rds\",sep=\"\"))\n",
    "    error_list[i] = tmp$mse\n",
    "}\n",
    "plot(n_list,error_list)"
   ]
  },
  {
   "cell_type": "markdown",
   "metadata": {},
   "source": [
    "# Theorectically the best"
   ]
  },
  {
   "cell_type": "code",
   "execution_count": 48,
   "metadata": {},
   "outputs": [
    {
     "data": {
      "text/plain": [
       "   user  system elapsed \n",
       "   0.95    0.00    0.99 "
      ]
     },
     "metadata": {},
     "output_type": "display_data"
    },
    {
     "data": {
      "text/html": [
       "25.6564303883656"
      ],
      "text/latex": [
       "25.6564303883656"
      ],
      "text/markdown": [
       "25.6564303883656"
      ],
      "text/plain": [
       "[1] 25.65643"
      ]
     },
     "metadata": {},
     "output_type": "display_data"
    },
    {
     "data": {
      "text/html": [
       "28.9113005336002"
      ],
      "text/latex": [
       "28.9113005336002"
      ],
      "text/markdown": [
       "28.9113005336002"
      ],
      "text/plain": [
       "[1] 28.9113"
      ]
     },
     "metadata": {},
     "output_type": "display_data"
    }
   ],
   "source": [
    "# the final selection among all the chosen features \n",
    "var = paste(\"V\",c(1,2,3,301,302,303),sep=\"\")\n",
    "regress_var = c(\"time\",\"time2\",var)\n",
    "split_var = c(\"treatment\",var)\n",
    "\n",
    "Formula = as.formula(paste(\"y~\",paste(regress_var,collapse = \"+\"),\n",
    "                   \"|\",cluster,\"|\",\n",
    "                 paste(split_var,collapse = \"+\")))\n",
    "system.time({mytree = lmertree(Formula, data = data,alpha = 0.2,maxdepth=6,\n",
    "                              minsize=NULL)}) \n",
    "mean((predict(mytree,newdata=data_valid,re.form=NA)-data_valid$y)**2)\n",
    "mean((predict(mytree,newdata=data_test,re.form=NA)-data_test$y)**2)\n",
    "# coef(mytree)"
   ]
  },
  {
   "cell_type": "code",
   "execution_count": 61,
   "metadata": {},
   "outputs": [
    {
     "data": {
      "text/plain": [
       "   user  system elapsed \n",
       "   0.97    0.00    1.04 "
      ]
     },
     "metadata": {},
     "output_type": "display_data"
    },
    {
     "data": {
      "text/html": [
       "19.044267144151"
      ],
      "text/latex": [
       "19.044267144151"
      ],
      "text/markdown": [
       "19.044267144151"
      ],
      "text/plain": [
       "[1] 19.04427"
      ]
     },
     "metadata": {},
     "output_type": "display_data"
    },
    {
     "data": {
      "text/html": [
       "19.8986767761196"
      ],
      "text/latex": [
       "19.8986767761196"
      ],
      "text/markdown": [
       "19.8986767761196"
      ],
      "text/plain": [
       "[1] 19.89868"
      ]
     },
     "metadata": {},
     "output_type": "display_data"
    }
   ],
   "source": [
    "# the final selection among all the chosen features \n",
    "var = paste(\"V\",c(1,2,3,301,302,303),sep=\"\")\n",
    "regress_var = c(\"time\",\"time2\",var)\n",
    "split_var = c(\"treatment\",var)\n",
    "\n",
    "Formula = as.formula(paste(\"y~\",paste(regress_var,collapse = \"+\"),\n",
    "                   \"|\",cluster,\"|\",\n",
    "                 paste(split_var,collapse = \"+\")))\n",
    "system.time({mytree = lmertree(Formula, data = data,alpha = 0.05,maxdepth=6,\n",
    "                              minsize=10)}) \n",
    "mean((predict(mytree,newdata=data_valid,re.form=NA)-data_valid$y)**2)\n",
    "mean((predict(mytree,newdata=data_test,re.form=NA)-data_test$y)**2)\n",
    "# coef(mytree)"
   ]
  }
 ],
 "metadata": {
  "kernelspec": {
   "display_name": "R",
   "language": "R",
   "name": "ir"
  },
  "language_info": {
   "codemirror_mode": "r",
   "file_extension": ".r",
   "mimetype": "text/x-r-source",
   "name": "R",
   "pygments_lexer": "r",
   "version": "3.6.0"
  }
 },
 "nbformat": 4,
 "nbformat_minor": 2
}
