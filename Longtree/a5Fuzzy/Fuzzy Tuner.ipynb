{
 "cells": [
  {
   "cell_type": "code",
   "execution_count": 1,
   "metadata": {},
   "outputs": [
    {
     "name": "stderr",
     "output_type": "stream",
     "text": [
      "Warning message:\n",
      "\"package 'fuzzyforest' was built under R version 3.6.1\"Registered S3 methods overwritten by 'ggplot2':\n",
      "  method         from \n",
      "  [.quosures     rlang\n",
      "  c.quosures     rlang\n",
      "  print.quosures rlang\n",
      "\n",
      "Warning message:\n",
      "\"package 'WGCNA' was built under R version 3.6.1\"Loading required package: dynamicTreeCut\n",
      "Loading required package: fastcluster\n",
      "\n",
      "Attaching package: 'fastcluster'\n",
      "\n",
      "The following object is masked from 'package:stats':\n",
      "\n",
      "    hclust\n",
      "\n",
      "\n",
      "Attaching package: 'WGCNA'\n",
      "\n",
      "The following object is masked from 'package:stats':\n",
      "\n",
      "    cor\n",
      "\n"
     ]
    }
   ],
   "source": [
    "source(\"../Data Generator.r\")\n",
    "library(fuzzyforest)\n",
    "library(WGCNA)"
   ]
  },
  {
   "cell_type": "markdown",
   "metadata": {},
   "source": [
    "Note: the following is where a1=5,a2=-5"
   ]
  },
  {
   "cell_type": "markdown",
   "metadata": {},
   "source": [
    "We only use FF to select features from V1 to V400. Therefore, we count the number of times V1 to V400 are selected out of n_run times and even if FF does not select \"treatment\", \"time\" and \"time2\", we do not worry since eventually we will use them plus the features selected from V1 to V400."
   ]
  },
  {
   "cell_type": "markdown",
   "metadata": {},
   "source": [
    "Default parameters for FF\n",
    "\n",
    "select_control(drop_fraction = 0.25, number_selected = 5, mtry_factor = 1,min_ntree = 500, ntree_factor = 1)\n",
    "\n",
    "screen_control(drop_fraction = 0.25, keep_fraction = 0.05,mtry_factor = 1, min_ntree = 500, ntree_factor = 1)\n",
    "\n",
    "ff(X, y, module_membership,screen_params = screen_control(min_ntree = 500),select_params = select_control(min_ntree = 500), final_ntree = 5000,num_processors = 1, nodesize)\n",
    "\n",
    "In the following I set keep_fraction=0.06 since in grey group there are 301,302,303,\"time\",\"time2\" and \"treatment\". Also I set number_selected=n_top."
   ]
  },
  {
   "cell_type": "code",
   "execution_count": 2,
   "metadata": {},
   "outputs": [],
   "source": [
    "### training and test set ###\n",
    "set.seed(100)\n",
    "n = 150 # change n here each time\n",
    "p = 400\n",
    "imp_mod = c(1,4)\n",
    "var_noise = 1\n",
    "data = sim_time(n=n,p=p,imp_mod=imp_mod, var_noise=var_noise)\n",
    "data$time2 = (data$time)^2\n",
    "\n",
    "# test set\n",
    "set.seed(101)\n",
    "n_test = 100\n",
    "data_test = sim_time(n=n_test,p=p,imp_mod=imp_mod, var_noise=var_noise)\n",
    "data_test$time2 = (data_test$time)^2"
   ]
  },
  {
   "cell_type": "code",
   "execution_count": 3,
   "metadata": {},
   "outputs": [],
   "source": [
    "n_run = 50 # the number of times FF will run on the data set\n",
    "n_top = 12 # the top n_top variables will be selected\n",
    "# create empty data frame to save simulation results in\n",
    "result_ff = matrix(0,n_run+1,p+4) # the last row is for average\n",
    "result_ff = data.frame(result_ff)\n",
    "names(result_ff)[p+1] = \"time\"\n",
    "names(result_ff)[p+2] = \"time2\"\n",
    "names(result_ff)[p+3] = \"treatment\"\n",
    "names(result_ff)[p+4] = \"error\"\n",
    "names(result_ff)[1:p] = paste(\"V\",1:p,sep=\"\")"
   ]
  },
  {
   "cell_type": "code",
   "execution_count": 4,
   "metadata": {},
   "outputs": [
    {
     "name": "stdout",
     "output_type": "stream",
     "text": [
      "1 \n",
      "2 \n",
      "3 \n",
      "4 \n",
      "5 \n",
      "6 \n",
      "7 \n",
      "8 \n",
      "9 \n",
      "10 \n",
      "11 \n",
      "12 \n",
      "13 \n",
      "14 \n",
      "15 \n",
      "16 \n",
      "17 \n",
      "18 \n",
      "19 \n",
      "20 \n",
      "21 \n",
      "22 \n",
      "23 \n",
      "24 \n",
      "25 \n",
      "26 \n",
      "27 \n",
      "28 \n",
      "29 \n",
      "30 \n",
      "31 \n",
      "32 \n",
      "33 \n",
      "34 \n",
      "35 \n",
      "36 \n",
      "37 \n",
      "38 \n",
      "39 \n",
      "40 \n",
      "41 \n",
      "42 \n",
      "43 \n",
      "44 \n",
      "45 \n",
      "46 \n",
      "47 \n",
      "48 \n",
      "49 \n",
      "50 \n"
     ]
    },
    {
     "data": {
      "text/plain": [
       "    user   system  elapsed \n",
       "10081.52    27.36 10240.54 "
      ]
     },
     "metadata": {},
     "output_type": "display_data"
    }
   ],
   "source": [
    "system.time({\n",
    "for(Repeat in 1:n_run){\n",
    "    set.seed(Repeat+32) # change seed each loop\n",
    "    \n",
    "    # since treatment is categorical, we cannot include it in WGCNA\n",
    "    data_WGCNA = data[,1:p] # only the covariates\n",
    "\n",
    "    net = blockwiseModules(data_WGCNA, power = 6,TOMType = \"unsigned\", \n",
    "                           minModuleSize = 30,reassignThreshold = 0, \n",
    "                           mergeCutHeight = 0.25,numericLabels = FALSE, \n",
    "                           pamRespectsDendro = FALSE,verbose = 0)\n",
    "\n",
    "    var = c(paste(\"V\",1:p,sep=\"\"),\"time\",\"time2\",\"treatment\")\n",
    "    Formula = as.formula(paste(\"y~\",paste(var,collapse = \"+\")))\n",
    "\n",
    "    net$colors[[\"time\"]] = \"grey\"\n",
    "    net$colors[[\"time2\"]] = \"grey\"\n",
    "    net$colors[[\"treatment\"]] = \"grey\"\n",
    "\n",
    "    ff_fit = ff(Formula,data = data,module_membership=net$colors,\n",
    "            screen_params = screen_control(min_ntree = 500,keep_fraction = 0.06),\n",
    "            select_params = select_control(min_ntree = 500,number_selected = n_top), \n",
    "            final_ntree = 1000, num_processors = 1)        \n",
    "\n",
    "    top_variables = ff_fit$feature_list[,1]\n",
    "    error = mean((predict(ff_fit,new_data=data_test)-data_test$y)**2)\n",
    "\n",
    "    # If variable was selected as important, indicate with 1 (otherwise 0)\n",
    "    for (i in 1:p){\n",
    "      result_ff[Repeat,i] <- as.numeric(paste(\"V\",i,sep=\"\") %in% top_variables)\n",
    "    }\n",
    "    result_ff[Repeat,p+1] <- as.numeric(\"time\" %in% top_variables)\n",
    "    result_ff[Repeat,p+2] <- as.numeric(\"time2\" %in% top_variables)\n",
    "    result_ff[Repeat,p+3] <- as.numeric(\"treatment\" %in% top_variables)\n",
    "    result_ff[Repeat,p+4] <- error\n",
    "\n",
    "    # show the progress\n",
    "    flush.console()\n",
    "    cat(Repeat,\"\\n\")\n",
    "}\n",
    "})\n",
    "result_ff[n_run+1,] = colMeans(result_ff[1:n_run,])\n",
    "name = paste(\"ff_n\",n,\".csv\",sep=\"\")\n",
    "write.csv(result_ff,file = name)"
   ]
  },
  {
   "cell_type": "code",
   "execution_count": 5,
   "metadata": {},
   "outputs": [],
   "source": [
    "# sort(result_ff[n_run+1,][1:(p+3)],index.return=TRUE,decreasing = TRUE)[1:20]"
   ]
  },
  {
   "cell_type": "code",
   "execution_count": 6,
   "metadata": {},
   "outputs": [],
   "source": [
    "# plot(1:p,result_ff[n_run+1,][1:p])"
   ]
  },
  {
   "cell_type": "code",
   "execution_count": 7,
   "metadata": {},
   "outputs": [],
   "source": [
    "# imp_var = c(1,2,3,301,302,303)\n",
    "# plot(1:6,result_ff[n_run+1,][imp_var])\n",
    "# axis(1, at=1:6, labels=imp_var)"
   ]
  }
 ],
 "metadata": {
  "kernelspec": {
   "display_name": "R",
   "language": "R",
   "name": "ir"
  },
  "language_info": {
   "codemirror_mode": "r",
   "file_extension": ".r",
   "mimetype": "text/x-r-source",
   "name": "R",
   "pygments_lexer": "r",
   "version": "3.6.0"
  }
 },
 "nbformat": 4,
 "nbformat_minor": 2
}
