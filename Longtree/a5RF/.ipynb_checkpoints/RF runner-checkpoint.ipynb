{
 "cells": [
  {
   "cell_type": "code",
   "execution_count": 1,
   "metadata": {},
   "outputs": [
    {
     "name": "stderr",
     "output_type": "stream",
     "text": [
      "randomForest 4.6-14\n",
      "Type rfNews() to see new features/changes/bug fixes.\n"
     ]
    }
   ],
   "source": [
    "source(\"../Data Generator.r\")\n",
    "library(randomForest)"
   ]
  },
  {
   "cell_type": "markdown",
   "metadata": {},
   "source": [
    "Note: the following is where a1=5,a2=-5"
   ]
  },
  {
   "cell_type": "markdown",
   "metadata": {},
   "source": [
    "We only use RF to select features from V1 to V400. Therefore, we count the number of times V1 to V400 are selected out of n_run times and even if RF does not select \"treatment\", \"time\" and \"time2\", we do not worry since eventually we will use them plus the features selected from V1 to V400."
   ]
  },
  {
   "cell_type": "code",
   "execution_count": 29,
   "metadata": {},
   "outputs": [],
   "source": [
    "### training and test set ###\n",
    "set.seed(100)\n",
    "n = 100 # change n here each time\n",
    "p = 400\n",
    "imp_mod = c(1,4)\n",
    "var_noise = 1\n",
    "data = sim_time(n=n,p=p,imp_mod=imp_mod, var_noise=var_noise)\n",
    "data$time2 = (data$time)^2\n",
    "\n",
    "# test set\n",
    "set.seed(101)\n",
    "n_test = 100\n",
    "data_test = sim_time(n=n_test,p=p,imp_mod=imp_mod, var_noise=var_noise)\n",
    "data_test$time2 = (data_test$time)^2"
   ]
  },
  {
   "cell_type": "code",
   "execution_count": 3,
   "metadata": {},
   "outputs": [],
   "source": [
    "n_run = 50 # the number of times RF will run on the data set\n",
    "n_top = 12 # the top n_top variables will be selected\n",
    "# create empty data frame to save simulation results in\n",
    "result_rf = matrix(0,n_run+1,p+4) # the last row is for average\n",
    "result_rf = data.frame(result_rf)\n",
    "names(result_rf)[p+1] = \"time\"\n",
    "names(result_rf)[p+2] = \"time2\"\n",
    "names(result_rf)[p+3] = \"treatment\"\n",
    "names(result_rf)[p+4] = \"error\"\n",
    "names(result_rf)[1:p] = paste(\"V\",1:p,sep=\"\")"
   ]
  },
  {
   "cell_type": "code",
   "execution_count": 30,
   "metadata": {},
   "outputs": [
    {
     "name": "stdout",
     "output_type": "stream",
     "text": [
      "1 \n"
     ]
    },
    {
     "data": {
      "text/plain": [
       "   user  system elapsed \n",
       " 210.39    0.37  214.75 "
      ]
     },
     "metadata": {},
     "output_type": "display_data"
    }
   ],
   "source": [
    "mtry=300 # change mtry for each n\n",
    "\n",
    "system.time({\n",
    "for(Repeat in 1:n_run){\n",
    "    set.seed(Repeat+32) # change seed each loop\n",
    "    \n",
    "    var = c(paste(\"V\",1:p,sep=\"\"),\"time\",\"time2\",\"treatment\")\n",
    "    Formula = as.formula(paste(\"y~\",paste(var,collapse = \"+\")))\n",
    "    rf <- randomForest(formula = Formula, data = data, mtry=mtry) \n",
    "    \n",
    "    # error on the test set\n",
    "    preds <- predict(rf, newdata=data_test)\n",
    "    error = mean((data_test$y-preds)^2)\n",
    "\n",
    "\n",
    "    # this is a quicker way to get the ranking (not juct choosing) of varibales \n",
    "    importance_order <- sort(rf$importance, decreasing = TRUE,index.return=TRUE) # sorts features by importance\n",
    "    top_variables = importance_order$ix[1:n_top] # the ranking\n",
    "\n",
    "    # If variable was selected as important, indicate with 1 (otherwise 0)\n",
    "    for (i in 1:p){\n",
    "      result_rf[Repeat,i] <- as.numeric(i %in% top_variables)\n",
    "    }\n",
    "    result_rf[Repeat,p+1] <- as.numeric(\"time\" %in% top_variables)\n",
    "    result_rf[Repeat,p+2] <- as.numeric(\"time2\" %in% top_variables)\n",
    "    result_rf[Repeat,p+3] <- as.numeric(\"treatment\" %in% top_variables)\n",
    "    result_rf[Repeat,p+4] <- error\n",
    "\n",
    "    flush.console()\n",
    "    cat(Repeat,\"\\n\")\n",
    "}\n",
    "})\n",
    "result_rf[n_run+1,] = colMeans(result_rf[1:n_run,])\n",
    "name = paste(\"rf_n\",n,\".csv\",sep=\"\")\n",
    "write.csv(result_rf,file = name)"
   ]
  },
  {
   "cell_type": "code",
   "execution_count": 32,
   "metadata": {},
   "outputs": [],
   "source": [
    "# result_rf"
   ]
  },
  {
   "cell_type": "code",
   "execution_count": 18,
   "metadata": {},
   "outputs": [],
   "source": [
    "# sort(result_rf[n_run+1,][1:(p+3)],index.return=TRUE,decreasing = TRUE)[1:20]"
   ]
  },
  {
   "cell_type": "code",
   "execution_count": 12,
   "metadata": {},
   "outputs": [],
   "source": [
    "# plot(1:p,result_rf[n_run+1,][1:p])"
   ]
  },
  {
   "cell_type": "code",
   "execution_count": 13,
   "metadata": {},
   "outputs": [],
   "source": [
    "# imp_var = c(1,2,3,301,302,303)\n",
    "# plot(1:6,result_rf[n_run+1,][imp_var])\n",
    "# axis(1, at=1:6, labels=imp_var)"
   ]
  }
 ],
 "metadata": {
  "kernelspec": {
   "display_name": "R",
   "language": "R",
   "name": "ir"
  },
  "language_info": {
   "codemirror_mode": "r",
   "file_extension": ".r",
   "mimetype": "text/x-r-source",
   "name": "R",
   "pygments_lexer": "r",
   "version": "3.6.0"
  }
 },
 "nbformat": 4,
 "nbformat_minor": 2
}
