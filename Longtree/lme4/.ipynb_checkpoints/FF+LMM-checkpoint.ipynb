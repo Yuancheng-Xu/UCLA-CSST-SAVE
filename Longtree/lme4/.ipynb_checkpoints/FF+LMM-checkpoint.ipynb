{
 "cells": [
  {
   "cell_type": "code",
   "execution_count": 1,
   "metadata": {},
   "outputs": [
    {
     "name": "stderr",
     "output_type": "stream",
     "text": [
      "Warning message:\n",
      "\"package 'lme4' was built under R version 3.6.1\"Loading required package: Matrix\n"
     ]
    }
   ],
   "source": [
    "library(\"lme4\")\n",
    "source(\"../Data Generator.r\")"
   ]
  },
  {
   "cell_type": "markdown",
   "metadata": {},
   "source": [
    "Use the selected features from Fuzzy Forest and fit a linear mixed effect model for prediction, which is a linear function of V1,..,V400, time and time2. In the treatment time interaction experiments, the linear function is a linear function of V1...V400 plus a piecewise linear function of time and time2 according to treatment."
   ]
  },
  {
   "cell_type": "markdown",
   "metadata": {},
   "source": [
    "However, the following shows that the best thing linear model can do (using the correct features) is a lot worse than Fuzzy Forest so it is not worth it."
   ]
  },
  {
   "cell_type": "markdown",
   "metadata": {},
   "source": [
    "Also, the error does not dependend on a1 and a2 (why????)"
   ]
  },
  {
   "cell_type": "markdown",
   "metadata": {},
   "source": [
    "# a5"
   ]
  },
  {
   "cell_type": "code",
   "execution_count": 19,
   "metadata": {},
   "outputs": [],
   "source": [
    "### training and test set ###\n",
    "n = 200 # change n here each time\n",
    "p = 400\n",
    "imp_mod = c(1,4)\n",
    "var_noise = 1\n",
    "# training set\n",
    "set.seed(100)\n",
    "data = sim_time(n=n,p=p,imp_mod=imp_mod, var_noise=var_noise,a1=5,a2=-5)\n",
    "data$time2 = (data$time)^2\n",
    "# the function of time is a piecewise quadratic function of time\n",
    "data$timeT1 = (data$treatment==1)*data$time \n",
    "data$timeT2 = (data$treatment==2)*data$time\n",
    "data$time2T1 = (data$treatment==1)*data$time2\n",
    "data$time2T2 = (data$treatment==2)*data$time2\n",
    "# fixed intercepts are different for different treatments\n",
    "data$intT1 = (data$treatment==1)*1\n",
    "# I don't need this since there must be a intercept in linear model and \n",
    "# a coefficient for the difference of intercept of two treatments\n",
    "# data$intT2 = (data$treatment==2)*1 \n",
    "\n",
    "# test set\n",
    "set.seed(101)\n",
    "n_test = 100\n",
    "data_test = sim_time(n=n_test,p=p,imp_mod=imp_mod, var_noise=var_noise,a1=5,a2=-5)\n",
    "data_test$time2 = (data_test$time)^2\n",
    "data_test$timeT1 = (data_test$treatment==1)*data_test$time \n",
    "data_test$timeT2 = (data_test$treatment==2)*data_test$time\n",
    "data_test$time2T1 = (data_test$treatment==1)*data_test$time2\n",
    "data_test$time2T2 = (data_test$treatment==2)*data_test$time2\n",
    "data_test$intT1 = (data_test$treatment==1)*1\n",
    "# data_test$intT2 = (data_test$treatment==2)*1"
   ]
  },
  {
   "cell_type": "markdown",
   "metadata": {},
   "source": [
    "# Models"
   ]
  },
  {
   "cell_type": "code",
   "execution_count": 23,
   "metadata": {},
   "outputs": [
    {
     "data": {
      "text/html": [
       "72.4580338793917"
      ],
      "text/latex": [
       "72.4580338793917"
      ],
      "text/markdown": [
       "72.4580338793917"
      ],
      "text/plain": [
       "[1] 72.45803"
      ]
     },
     "metadata": {},
     "output_type": "display_data"
    }
   ],
   "source": [
    "# linear model\n",
    "var = c(paste(\"V\",c(1,2,3,301,302,303),sep=\"\"),\n",
    "        \"timeT1\",\"timeT2\",\"time2T1\",\"time2T2\",\"intT1\")\n",
    "Formula = as.formula(paste(\"y~\",paste(var,collapse = \"+\")))\n",
    "linear_model = lm(formula = Formula,data=data)\n",
    "preds = predict(linear_model,newdata = data_test)\n",
    "error = mean((data_test$y-preds)**2)\n",
    "error"
   ]
  },
  {
   "cell_type": "code",
   "execution_count": 15,
   "metadata": {},
   "outputs": [],
   "source": [
    "# summary(linear_model)"
   ]
  },
  {
   "cell_type": "code",
   "execution_count": 17,
   "metadata": {},
   "outputs": [
    {
     "data": {
      "text/html": [
       "72.2756373741808"
      ],
      "text/latex": [
       "72.2756373741808"
      ],
      "text/markdown": [
       "72.2756373741808"
      ],
      "text/plain": [
       "[1] 72.27564"
      ]
     },
     "metadata": {},
     "output_type": "display_data"
    }
   ],
   "source": [
    "# linear mixed effect models\n",
    "var = c(paste(\"V\",c(1,2,3,301,302,303),sep=\"\"),\n",
    "        \"timeT1\",\"timeT2\",\"time2T1\",\"time2T2\",\"intT1\")\n",
    "Formula = as.formula(paste(\"y~\",paste(var,collapse = \"+\"),\"+(1|patient)\"))\n",
    "lmm_model<-lmer(formula = Formula, data=data)\n",
    "preds = predict(lmm_model,newdata = data_test)\n",
    "error = mean((data_test$y-preds)**2)\n",
    "error"
   ]
  },
  {
   "cell_type": "code",
   "execution_count": 18,
   "metadata": {
    "scrolled": true
   },
   "outputs": [],
   "source": [
    "# summary(lmm_model)"
   ]
  },
  {
   "cell_type": "markdown",
   "metadata": {},
   "source": [
    "# No time "
   ]
  },
  {
   "cell_type": "code",
   "execution_count": 9,
   "metadata": {},
   "outputs": [],
   "source": [
    "### training and test set ###\n",
    "n = 200 # change n here each time\n",
    "p = 400\n",
    "imp_mod = c(1,4)\n",
    "var_noise = 1\n",
    "# training set\n",
    "set.seed(100)\n",
    "data = sim_time(n=n,p=p,imp_mod=imp_mod, var_noise=var_noise,a1=0,a2=0)\n",
    "\n",
    "\n",
    "# test set\n",
    "set.seed(101)\n",
    "n_test = 100\n",
    "data_test = sim_time(n=n_test,p=p,imp_mod=imp_mod, var_noise=var_noise,a1=0,a2=0)\n"
   ]
  },
  {
   "cell_type": "code",
   "execution_count": 10,
   "metadata": {},
   "outputs": [
    {
     "data": {
      "text/html": [
       "72.2736884789662"
      ],
      "text/latex": [
       "72.2736884789662"
      ],
      "text/markdown": [
       "72.2736884789662"
      ],
      "text/plain": [
       "[1] 72.27369"
      ]
     },
     "metadata": {},
     "output_type": "display_data"
    }
   ],
   "source": [
    "# linear mixed effect models\n",
    "var = c(paste(\"V\",c(1,2,3,301,302,303),sep=\"\"))\n",
    "Formula = as.formula(paste(\"y~\",paste(var,collapse = \"+\"),\"+(1|patient)\"))\n",
    "lmm_model<-lmer(formula = Formula, data=data)\n",
    "preds = predict(lmm_model,newdata = data_test)\n",
    "error = mean((data_test$y-preds)**2)\n",
    "error"
   ]
  }
 ],
 "metadata": {
  "kernelspec": {
   "display_name": "R",
   "language": "R",
   "name": "ir"
  },
  "language_info": {
   "codemirror_mode": "r",
   "file_extension": ".r",
   "mimetype": "text/x-r-source",
   "name": "R",
   "pygments_lexer": "r",
   "version": "3.6.0"
  }
 },
 "nbformat": 4,
 "nbformat_minor": 2
}
