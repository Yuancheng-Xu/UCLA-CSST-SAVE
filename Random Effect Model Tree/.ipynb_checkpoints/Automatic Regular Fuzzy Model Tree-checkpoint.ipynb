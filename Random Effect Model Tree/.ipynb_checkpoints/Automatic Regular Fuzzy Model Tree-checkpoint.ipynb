{
 "cells": [
  {
   "cell_type": "markdown",
   "metadata": {},
   "source": [
    "Some problems:\n",
    "* The rfe is really slow\n",
    "* After selecting features from 4 modules, we should select again. Use what? Still model tree (how? only choose split var? but also consider regressors)? or rfe?\n",
    "* In this simulation data, just using GUIDE tree for selecting features in the screening step has better performance\n",
    "* Dangerous: what if the training data use PC and test data use -PC? (but, yes, we don't need to calculate PC for test data .I have to put a negative sign to PC1 of data_test to get the same result of this script (using eigengene in WGCNA). The correct way to do this is keep track of PC scores\n",
    "* In the regular Fuzzy Model Tree script, if I normalize the PC1 for both training and test data and flip the sign for test data, then the resulting tree from mudule on as well as their prediction are exacly the same\n",
    "* should tune the alpha later !"
   ]
  },
  {
   "cell_type": "code",
   "execution_count": 1,
   "metadata": {},
   "outputs": [],
   "source": [
    "# This is a automatic version of regular Fuzzy Model Tree"
   ]
  },
  {
   "cell_type": "code",
   "execution_count": 2,
   "metadata": {},
   "outputs": [
    {
     "name": "stderr",
     "output_type": "stream",
     "text": [
      "Warning message:\n",
      "\"package 'partykit' was built under R version 3.6.1\"Loading required package: grid\n",
      "Loading required package: libcoin\n",
      "Warning message:\n",
      "\"package 'libcoin' was built under R version 3.6.1\"Loading required package: mvtnorm\n",
      "Warning message:\n",
      "\"package 'party' was built under R version 3.6.1\"Loading required package: modeltools\n",
      "Loading required package: stats4\n",
      "Loading required package: strucchange\n",
      "Warning message:\n",
      "\"package 'strucchange' was built under R version 3.6.1\"Loading required package: zoo\n",
      "\n",
      "Attaching package: 'zoo'\n",
      "\n",
      "The following objects are masked from 'package:base':\n",
      "\n",
      "    as.Date, as.Date.numeric\n",
      "\n",
      "Loading required package: sandwich\n",
      "Warning message:\n",
      "\"package 'sandwich' was built under R version 3.6.1\"\n",
      "Attaching package: 'party'\n",
      "\n",
      "The following objects are masked from 'package:partykit':\n",
      "\n",
      "    cforest, ctree, ctree_control, edge_simple, mob, mob_control,\n",
      "    node_barplot, node_bivplot, node_boxplot, node_inner, node_surv,\n",
      "    node_terminal, varimp\n",
      "\n",
      "Warning message:\n",
      "\"package 'glmertree' was built under R version 3.6.1\"Loading required package: lme4\n",
      "Warning message:\n",
      "\"package 'lme4' was built under R version 3.6.1\"Loading required package: Matrix\n",
      "\n",
      "Attaching package: 'lme4'\n",
      "\n",
      "The following object is masked from 'package:modeltools':\n",
      "\n",
      "    refit\n",
      "\n",
      "Loading required package: lattice\n",
      "Loading required package: ggplot2\n",
      "Registered S3 methods overwritten by 'ggplot2':\n",
      "  method         from \n",
      "  [.quosures     rlang\n",
      "  c.quosures     rlang\n",
      "  print.quosures rlang\n",
      "randomForest 4.6-14\n",
      "Type rfNews() to see new features/changes/bug fixes.\n",
      "\n",
      "Attaching package: 'randomForest'\n",
      "\n",
      "The following object is masked from 'package:ggplot2':\n",
      "\n",
      "    margin\n",
      "\n",
      "Warning message:\n",
      "\"package 'fuzzyforest' was built under R version 3.6.1\"\n",
      "Warning message:\n",
      "\"package 'WGCNA' was built under R version 3.6.1\"Loading required package: dynamicTreeCut\n",
      "Loading required package: fastcluster\n",
      "\n",
      "Attaching package: 'fastcluster'\n",
      "\n",
      "The following object is masked from 'package:stats':\n",
      "\n",
      "    hclust\n",
      "\n",
      "\n",
      "Attaching package: 'WGCNA'\n",
      "\n",
      "The following object is masked from 'package:stats':\n",
      "\n",
      "    cor\n",
      "\n",
      "Warning message:\n",
      "\"package 'pre' was built under R version 3.6.1\"\n",
      "Attaching package: 'pre'\n",
      "\n",
      "The following object is masked from 'package:randomForest':\n",
      "\n",
      "    importance\n",
      "\n"
     ]
    }
   ],
   "source": [
    "# install.packages(\"partykit\")\n",
    "# install.packages(\"pre\")\n",
    "library(\"partykit\")\n",
    "source(\"SimData.r\")\n",
    "library(\"party\")\n",
    "library(MASS)\n",
    "library(\"glmertree\")\n",
    "library(\"caret\") # importance and rfe\n",
    "source(\"SimData.r\")\n",
    "library(\"randomForest\")\n",
    "library(\"rpart\")\n",
    "library(\"fuzzyforest\")\n",
    "library(\"WGCNA\")\n",
    "library(\"pre\")"
   ]
  },
  {
   "cell_type": "markdown",
   "metadata": {},
   "source": [
    "# Data"
   ]
  },
  {
   "cell_type": "code",
   "execution_count": 3,
   "metadata": {},
   "outputs": [],
   "source": [
    "# set.seed(100)\n",
    "\n",
    "# No time structure\n",
    "n = 1000 # num of observations\n",
    "p = 400\n",
    "p0 = 100\n",
    "\n",
    "cor_feature = 0.8\n",
    "\n",
    "#### covariance matrix between features: it is either 0 (independent) or cor_feature ####\n",
    "cov_feature = matrix(0,nrow = p, ncol = p)\n",
    "# cov within the first three modules\n",
    "cov_star = matrix(cor_feature,nrow = p0,ncol = p0)\n",
    "diag(cov_star)=1\n",
    "# put cov_star into cov_feature\n",
    "cov_feature[1:p0,1:p0] = cov_star\n",
    "cov_feature[(p0+1):(2*p0),(p0+1):(2*p0)] = cov_star\n",
    "cov_feature[(2*p0+1):(3*p0),(2*p0+1):(3*p0)] = cov_star\n",
    "cov_feature[(3*p0+1):(4*p0),(3*p0+1):(4*p0)] = diag(p0)\n",
    "####\n",
    "\n",
    "X = mvrnorm(n = n, rep(0, p), cov_feature)\n",
    "# y = f_sim(X)# no noise\n",
    "y = f_sim(X) + mvrnorm(n=1,rep(0,n),diag(n)) # noise\n",
    "data = cbind(X,y)\n",
    "data = data.frame(data)\n",
    "# data[1:5,]"
   ]
  },
  {
   "cell_type": "code",
   "execution_count": 4,
   "metadata": {},
   "outputs": [],
   "source": [
    "# test data set\n",
    "# set.seed(101)\n",
    "\n",
    "# No time structure\n",
    "n_test = 100 # num of observations\n",
    "\n",
    "X_test = mvrnorm(n = n_test, rep(0, p), cov_feature)\n",
    "# y = f_sim(X_test) # no noise\n",
    "y = f_sim(X_test)+mvrnorm(n=1,rep(0,n_test),diag(n_test)) # noise\n",
    "data_test = cbind(X_test,y)\n",
    "data_test = data.frame(data_test)\n",
    "\n",
    "# data_test[1:5,]"
   ]
  },
  {
   "cell_type": "code",
   "execution_count": 5,
   "metadata": {},
   "outputs": [],
   "source": [
    "# Methods for extracting names of splitting features used in a tree\n",
    "# tree: a tree object; data: the train or test set\n",
    "get_split_names = function(tree,data){\n",
    "    # path: the string that contains all the node information\n",
    "    paths <- pre:::list.rules(tree, removecomplements = FALSE)\n",
    "    vnames = names(data)\n",
    "    # the regex for a variable\n",
    "    # tomatch = paste(paste(var,\"<=\"),\"|\",paste(var,\">\"),sep=\"\")\n",
    "    # match to tomatch in path\n",
    "    tmp = vnames[sapply(sapply(vnames, FUN = function(var) grep(paste(paste(var,\"<=\"),\"|\",paste(var,\">\"),sep=\"\"), paths)), length) > 0]\n",
    "    return (tmp)\n",
    "}"
   ]
  },
  {
   "cell_type": "markdown",
   "metadata": {},
   "source": [
    "# WGCNA Step"
   ]
  },
  {
   "cell_type": "code",
   "execution_count": 6,
   "metadata": {},
   "outputs": [],
   "source": [
    "# # Only use the features 1:400\n",
    "# data_WGCNA = data[,1:400]\n",
    "\n",
    "# # Choose a set of soft-thresholding powers\n",
    "# powers = c(c(1:10), seq(from = 12, to=20, by=2))\n",
    "# # Call the network topology analysis function\n",
    "# sft = pickSoftThreshold(data_WGCNA, powerVector = powers, verbose = 5)\n",
    "# # Plot the results:\n",
    "# # sizeGrWindow(9, 5) # not using in jupyternotebook\n",
    "# par(mfrow = c(1,2));\n",
    "# cex1 = 0.9;\n",
    "# # Scale-free topology fit index as a function of the soft-thresholding power\n",
    "# plot(sft$fitIndices[,1], -sign(sft$fitIndices[,3])*sft$fitIndices[,2],\n",
    "#      xlab=\"Soft Threshold (power)\",\n",
    "#      ylab=\"Scale Free Topology Model Fit,signed R^2\",type=\"n\",\n",
    "#      main = paste(\"Scale independence\"))\n",
    "# text(sft$fitIndices[,1], -sign(sft$fitIndices[,3])*sft$fitIndices[,2],\n",
    "#      labels=powers,cex=cex1,col=\"red\");\n",
    "# # this line corresponds to using an R^2 cut-off of h\n",
    "# abline(h=0.90,col=\"red\")\n",
    "# # Mean connectivity as a function of the soft-thresholding power\n",
    "# plot(sft$fitIndices[,1], sft$fitIndices[,5],\n",
    "#      xlab=\"Soft Threshold (power)\",ylab=\"Mean Connectivity\", \n",
    "#      type=\"n\",main = paste(\"Mean connectivity\"))\n",
    "# text(sft$fitIndices[,1], sft$fitIndices[,5], labels=powers, cex=cex1,col=\"red\")"
   ]
  },
  {
   "cell_type": "code",
   "execution_count": 7,
   "metadata": {},
   "outputs": [],
   "source": [
    "data_WGCNA = data[,1:400] # only the covariates\n",
    "# choose power = 6, which is not quite correct\n",
    "# Please set numericLabels = FALSE so that the label is one color (string)\n",
    "# if verbose = 3, show some details\n",
    "net = blockwiseModules(data_WGCNA, power = 6,TOMType = \"unsigned\", \n",
    "                       minModuleSize = 30,reassignThreshold = 0, \n",
    "                       mergeCutHeight = 0.25,numericLabels = FALSE, \n",
    "                       pamRespectsDendro = FALSE,verbose = 0)\n",
    "\n",
    "# the correspondance betweeen feature names and colors\n",
    "colors = net$colors # it is a string vector with names (that is the name is V1)"
   ]
  },
  {
   "cell_type": "code",
   "execution_count": 8,
   "metadata": {
    "scrolled": true
   },
   "outputs": [],
   "source": [
    "# Get a list with the first element being all the names of first groups and so on\n",
    "# all the names of modules\n",
    "module_names = unique(colors) # all colors name\n",
    "\n",
    "# a vector with name(index) = names of modules and value = the corresponding names\n",
    "# of features (like a dictionary)\n",
    "module_dic = list()\n",
    "for (i in 1:length(module_names)){\n",
    "    module_dic[[module_names[i]]] = names(colors[colors==module_names[i]])\n",
    "}\n",
    "# module_dic"
   ]
  },
  {
   "cell_type": "code",
   "execution_count": 9,
   "metadata": {},
   "outputs": [],
   "source": [
    "# extract eigengenes and rename the column\n",
    "# The eigengene(1st pricinpal component) is L2 normalized\n",
    "eigengene = net$MEs\n",
    "# eigengene\n",
    "# add eigengen to training data\n",
    "for (name in module_names){\n",
    "    if (name == \"grey\"){\n",
    "        next\n",
    "    }\n",
    "    eigen_name = paste(\"ME\",name,sep=\"\")\n",
    "    data[[eigen_name]] = eigengene[[eigen_name]]\n",
    "}\n",
    "# head(data)"
   ]
  },
  {
   "cell_type": "markdown",
   "metadata": {},
   "source": [
    "# Test on eigengen and pca"
   ]
  },
  {
   "cell_type": "code",
   "execution_count": 10,
   "metadata": {},
   "outputs": [],
   "source": [
    "# # only for testing. compute the eigengenes for data_test\n",
    "# for (name in module_names){\n",
    "#     if (name == \"grey\"){\n",
    "#         next\n",
    "#     }\n",
    "#     eigen_name = paste(\"ME\",name,sep=\"\")\n",
    "#     data_test[eigen_name] = moduleEigengenes(data_test[,1:400],colors)$eigengenes[eigen_name]\n",
    "# }\n",
    "# head(data_test)"
   ]
  },
  {
   "cell_type": "code",
   "execution_count": 11,
   "metadata": {},
   "outputs": [],
   "source": [
    "# # regress_var = \"MEblue\"\n",
    "# regress_var = paste(\"V\",7,sep=\"\")\n",
    "# # split_var = module_dic[[\"blue\"]]\n",
    "# split_var = paste(\"V\",1:100,sep=\"\")\n",
    "# Formula = as.formula(paste(\"y~\",paste(regress_var,collapse = \"+\"), \"|\",\n",
    "#                          paste(split_var,collapse = \"+\")))\n",
    "# mytree = lmtree(Formula,data = data,minsize = 10)\n",
    "# get_split_names(mytree,data)\n",
    "# print(mean((predict(mytree,newdata=data_test)-data_test$y)**2))"
   ]
  },
  {
   "cell_type": "code",
   "execution_count": 12,
   "metadata": {},
   "outputs": [],
   "source": [
    "# plot(mytree)"
   ]
  },
  {
   "cell_type": "code",
   "execution_count": 13,
   "metadata": {},
   "outputs": [],
   "source": [
    "# predict(mytree,newdata=data_test)\n",
    "# coef(mytree)\n",
    "# mytree"
   ]
  },
  {
   "cell_type": "markdown",
   "metadata": {},
   "source": [
    "# Model tree step"
   ]
  },
  {
   "cell_type": "code",
   "execution_count": 14,
   "metadata": {
    "scrolled": true
   },
   "outputs": [
    {
     "data": {
      "text/plain": [
       "   user  system elapsed \n",
       "  16.92    0.09   18.03 "
      ]
     },
     "metadata": {},
     "output_type": "display_data"
    },
    {
     "data": {
      "text/html": [
       "<ol>\n",
       "\t<li><ol class=list-inline>\n",
       "\t<li>'V2'</li>\n",
       "\t<li>'V3'</li>\n",
       "</ol>\n",
       "</li>\n",
       "\t<li><ol class=list-inline>\n",
       "\t<li>'V162'</li>\n",
       "\t<li>'V183'</li>\n",
       "</ol>\n",
       "</li>\n",
       "\t<li></li>\n",
       "\t<li><ol class=list-inline>\n",
       "\t<li>'V301'</li>\n",
       "\t<li>'V302'</li>\n",
       "\t<li>'V303'</li>\n",
       "\t<li>'V334'</li>\n",
       "</ol>\n",
       "</li>\n",
       "</ol>\n"
      ],
      "text/latex": [
       "\\begin{enumerate}\n",
       "\\item \\begin{enumerate*}\n",
       "\\item 'V2'\n",
       "\\item 'V3'\n",
       "\\end{enumerate*}\n",
       "\n",
       "\\item \\begin{enumerate*}\n",
       "\\item 'V162'\n",
       "\\item 'V183'\n",
       "\\end{enumerate*}\n",
       "\n",
       "\\item \n",
       "\\item \\begin{enumerate*}\n",
       "\\item 'V301'\n",
       "\\item 'V302'\n",
       "\\item 'V303'\n",
       "\\item 'V334'\n",
       "\\end{enumerate*}\n",
       "\n",
       "\\end{enumerate}\n"
      ],
      "text/markdown": [
       "1. 1. 'V2'\n",
       "2. 'V3'\n",
       "\n",
       "\n",
       "\n",
       "2. 1. 'V162'\n",
       "2. 'V183'\n",
       "\n",
       "\n",
       "\n",
       "3. \n",
       "4. 1. 'V301'\n",
       "2. 'V302'\n",
       "3. 'V303'\n",
       "4. 'V334'\n",
       "\n",
       "\n",
       "\n",
       "\n",
       "\n"
      ],
      "text/plain": [
       "[[1]]\n",
       "[1] \"V2\" \"V3\"\n",
       "\n",
       "[[2]]\n",
       "[1] \"V162\" \"V183\"\n",
       "\n",
       "[[3]]\n",
       "character(0)\n",
       "\n",
       "[[4]]\n",
       "[1] \"V301\" \"V302\" \"V303\" \"V334\"\n"
      ]
     },
     "metadata": {},
     "output_type": "display_data"
    }
   ],
   "source": [
    "imp_var = list() # used to store the names of important features\n",
    "\n",
    "# For each module that is not grey, use model tree as following:\n",
    "# use its eigengene as regression variables and all features as splitting ones\n",
    "# For grey module, use RFE-RF/RF\n",
    "# Then, use RFE-RF/RF to select features among all the chosen features \n",
    "# FInally, use those selected features as split_var and regressors\n",
    "\n",
    "# for non-grey groups\n",
    "for (name in module_names){\n",
    "    if (name == \"grey\"){\n",
    "        next\n",
    "    }\n",
    "    split_var = module_dic[[name]]\n",
    "    \n",
    "    # use eigengene as regressor\n",
    "    eigen_name = paste(\"ME\",name,sep=\"\")\n",
    "    regress_var = eigen_name\n",
    "    \n",
    "    # Formula for lmtree: use PC as regressors\n",
    "    Formula = as.formula(paste(\"y~\",paste(regress_var,collapse = \"+\"), \"|\",\n",
    "                         paste(split_var,collapse = \"+\")))\n",
    "    # test: if just use GUIDE (no regressors)\n",
    "#     Formula = as.formula(paste(\"y~\",paste(split_var,collapse = \"+\")))\n",
    "    \n",
    "    # fit the tree\n",
    "    mytree = lmtree(Formula,data = data,minsize = 10,alpha = 0.3,maxdepth=3)\n",
    "    \n",
    "    #extract important features\n",
    "    imp_var[[length(imp_var)+1]] = get_split_names(mytree,data)\n",
    "    \n",
    "#     plot(mytree)\n",
    "#     flush.console()\n",
    "#     cat(\"\\n\",get_split_names(mytree,data),\"\\n\")\n",
    "    # to print the error, we have to add PC to test data\n",
    "#     print(mean((predict(mytree,newdata=data_test)-data_test$y)**2))\n",
    "}\n",
    "\n",
    "\n",
    "# for grey group, use RF or RFE-RF\n",
    "split_var = module_dic[[\"grey\"]]\n",
    "Formula = as.formula(paste(\"y~\",paste(split_var,collapse=\"+\")))\n",
    "# RF\n",
    "system.time({rf <- randomForest(Formula,data)})\n",
    "# sorts features by importance\n",
    "importance_order <- sort(rf$importance, decreasing = TRUE,index.return=TRUE) \n",
    "# the ranking; 6 here should be a parameters\n",
    "top_variables = split_var[importance_order$ix[1:4]] \n",
    "imp_var[[length(imp_var)+1]] = top_variables\n",
    "# RFE-RF\n",
    "# control <- rfeControl(functions=rfFuncs, method=\"cv\")\n",
    "# system.time({my_rfe = rfe(Formula,data, size=6, rfeControl=control)})\n",
    "# imp_var[[length(imp_var)+1]] = predictors(my_rfe)\n",
    "\n",
    "imp_var "
   ]
  },
  {
   "cell_type": "code",
   "execution_count": 15,
   "metadata": {},
   "outputs": [],
   "source": [
    "# the variables selected from all the modules\n",
    "final_var = imp_var[[1]]\n",
    "if (length(imp_var)>1){\n",
    "    for (i in 2:length(imp_var)){\n",
    "    final_var = c(final_var,imp_var[[i]])\n",
    " }\n",
    "}"
   ]
  },
  {
   "cell_type": "code",
   "execution_count": 16,
   "metadata": {},
   "outputs": [
    {
     "data": {
      "text/plain": [
       "   user  system elapsed \n",
       "   1.41    0.03    1.48 "
      ]
     },
     "metadata": {},
     "output_type": "display_data"
    }
   ],
   "source": [
    "# Not sure about this: use rfe/rf to select again\n",
    "#rf\n",
    "Formula = as.formula(paste(\"y~\",paste(final_var,collapse = \"+\")))\n",
    "system.time({rf <- randomForest(Formula,data)})\n",
    "importance_order <- sort(rf$importance, decreasing = TRUE,index.return=TRUE) \n",
    "top_variables = final_var[importance_order$ix[1:7]] # the index of final_var!\n",
    "final_var = top_variables\n",
    "\n",
    "# # rfe\n",
    "# Formula_rfe = as.formula(paste(\"y~\",paste(final_var,collapse = \"+\")))\n",
    "# control <- rfeControl(functions=rfFuncs, method=\"cv\")\n",
    "# # size should be specified by user (the num of features selected)\n",
    "# system.time({my_rfe = rfe(Formula_rfe,data, size=8, rfeControl=control)})\n",
    "# final_var = predictors(my_rfe)"
   ]
  },
  {
   "cell_type": "code",
   "execution_count": 28,
   "metadata": {},
   "outputs": [
    {
     "data": {
      "text/html": [
       "<ol class=list-inline>\n",
       "\t<li>'V2'</li>\n",
       "\t<li>'V3'</li>\n",
       "\t<li>'V301'</li>\n",
       "\t<li>'V302'</li>\n",
       "\t<li>'V303'</li>\n",
       "\t<li>'V334'</li>\n",
       "\t<li>'V162'</li>\n",
       "</ol>\n"
      ],
      "text/latex": [
       "\\begin{enumerate*}\n",
       "\\item 'V2'\n",
       "\\item 'V3'\n",
       "\\item 'V301'\n",
       "\\item 'V302'\n",
       "\\item 'V303'\n",
       "\\item 'V334'\n",
       "\\item 'V162'\n",
       "\\end{enumerate*}\n"
      ],
      "text/markdown": [
       "1. 'V2'\n",
       "2. 'V3'\n",
       "3. 'V301'\n",
       "4. 'V302'\n",
       "5. 'V303'\n",
       "6. 'V334'\n",
       "7. 'V162'\n",
       "\n",
       "\n"
      ],
      "text/plain": [
       "[1] \"V2\"   \"V3\"   \"V301\" \"V302\" \"V303\" \"V334\" \"V162\""
      ]
     },
     "metadata": {},
     "output_type": "display_data"
    }
   ],
   "source": [
    "final_var"
   ]
  },
  {
   "cell_type": "code",
   "execution_count": 29,
   "metadata": {},
   "outputs": [],
   "source": [
    "# final_var = paste(\"V\",c(1,2,3,301,302,303),sep=\"\") #if cheating"
   ]
  },
  {
   "cell_type": "code",
   "execution_count": 30,
   "metadata": {},
   "outputs": [],
   "source": [
    "# use the final variables to do the prediction\n",
    "Formula = as.formula(paste(\"y~\",paste(final_var,collapse = \"+\"),\"|\",\n",
    "                         paste(final_var,collapse = \"+\")))"
   ]
  },
  {
   "cell_type": "code",
   "execution_count": 31,
   "metadata": {
    "scrolled": true
   },
   "outputs": [
    {
     "data": {
      "image/png": "[encoded data removed]",
      "text/plain": [
       "plot without title"
      ]
     },
     "metadata": {},
     "output_type": "display_data"
    }
   ],
   "source": [
    "mytree = lmtree(Formula,data = data,minsize = 10)\n",
    "plot(mytree)"
   ]
  },
  {
   "cell_type": "code",
   "execution_count": 32,
   "metadata": {},
   "outputs": [
    {
     "data": {
      "text/html": [
       "13.682205773366"
      ],
      "text/latex": [
       "13.682205773366"
      ],
      "text/markdown": [
       "13.682205773366"
      ],
      "text/plain": [
       "[1] 13.68221"
      ]
     },
     "metadata": {},
     "output_type": "display_data"
    }
   ],
   "source": [
    "mean((predict(mytree,newdata=data_test)-data_test$y)**2)"
   ]
  },
  {
   "cell_type": "markdown",
   "metadata": {},
   "source": [
    "# Benchmark"
   ]
  },
  {
   "cell_type": "markdown",
   "metadata": {},
   "source": [
    "## Fuzzy Forest"
   ]
  },
  {
   "cell_type": "code",
   "execution_count": 22,
   "metadata": {
    "scrolled": true
   },
   "outputs": [
    {
     "data": {
      "text/plain": [
       "   user  system elapsed \n",
       " 337.18    1.51  345.67 "
      ]
     },
     "metadata": {},
     "output_type": "display_data"
    },
    {
     "data": {
      "text/html": [
       "34.2218797851227"
      ],
      "text/latex": [
       "34.2218797851227"
      ],
      "text/markdown": [
       "34.2218797851227"
      ],
      "text/plain": [
       "[1] 34.22188"
      ]
     },
     "metadata": {},
     "output_type": "display_data"
    },
    {
     "data": {
      "image/png": "[encoded data removed]",
      "text/plain": [
       "Plot with title \"FF Variable Importance\""
      ]
     },
     "metadata": {},
     "output_type": "display_data"
    }
   ],
   "source": [
    "# Fuzzy Forest\n",
    "# fuzzy forest\n",
    "# Fuzzy Forest\n",
    "# params is stored in xxx_control object\n",
    "# power: belta (I choose it without much care)\n",
    "WGCNA_params = WGCNA_control(power=3,TOMType=\"unsigned\",minModuleSize=30,\n",
    "                            numericLabels=TRUE,pamRespectsDendro=FALSE)\n",
    "\n",
    "mtry_factor     = 1 # mtry = sqrt(p)*mtry_factor; mtry is the num in subspace method\n",
    "drop_fraction   = 0.25 # drop xxx in each iteration of RFE-RF\n",
    "number_selected = 8 # we want 10 out of all features\n",
    "keep_fraction   = 0.05 # keep xxx for each module\n",
    "min_ntree        = 500 # used for calculating ntree\n",
    "ntree_factor    = 5 # used for calculating ntree\n",
    "final_ntree     = 500 # RF in selecting step\n",
    "\n",
    "screen_params = screen_control(drop_fraction = drop_fraction,\n",
    "                              keep_fraction  = keep_fraction,\n",
    "                              min_ntree      = min_ntree,\n",
    "                              mtry_factor    = mtry_factor,\n",
    "                              ntree_factor   = ntree_factor)\n",
    "\n",
    "select_params = select_control(drop_fraction  = drop_fraction,\n",
    "                              number_selected = number_selected,\n",
    "                              min_ntree       = min_ntree,\n",
    "                              mtry_factor     = mtry_factor,\n",
    "                              ntree_factor    = ntree_factor)    \n",
    "\n",
    "var = paste(\"V\",1:400,sep=\"\")\n",
    "Formula = as.formula(paste(\"y~\",paste(var,collapse = \"+\")))\n",
    "\n",
    "# a \"fuzzy_forest\" object\n",
    "system.time({\n",
    "# set.seed(20)\n",
    "wff_fit = wff(Formula,data = data,WGCNA_params = WGCNA_params,\n",
    "             screen_params = screen_params,\n",
    "             select_params = select_params,\n",
    "             final_ntree = final_ntree)\n",
    "})\n",
    "\n",
    "mean((predict(wff_fit,new_data=data_test)-data_test$y)**2)\n",
    "varImpPlot(wff_fit$final_rf,type=2,main=\"FF Variable Importance\")"
   ]
  },
  {
   "cell_type": "markdown",
   "metadata": {},
   "source": [
    "## Random Forest"
   ]
  },
  {
   "cell_type": "code",
   "execution_count": 23,
   "metadata": {},
   "outputs": [
    {
     "data": {
      "text/plain": [
       "   user  system elapsed \n",
       "  48.33    0.09   49.38 "
      ]
     },
     "metadata": {},
     "output_type": "display_data"
    },
    {
     "data": {
      "text/html": [
       "57.6716259327205"
      ],
      "text/latex": [
       "57.6716259327205"
      ],
      "text/markdown": [
       "57.6716259327205"
      ],
      "text/plain": [
       "[1] 57.67163"
      ]
     },
     "metadata": {},
     "output_type": "display_data"
    },
    {
     "data": {
      "image/png": "[encoded data removed]",
      "text/plain": [
       "Plot with title \"RF Variable Importance\""
      ]
     },
     "metadata": {},
     "output_type": "display_data"
    }
   ],
   "source": [
    "# Random Forest\n",
    "system.time({\n",
    "#     set.seed(20)\n",
    "    rf <- randomForest(data[,1:400],data$y)\n",
    "})\n",
    "mean((predict(rf,newdata=data_test[,1:400])-data_test$y)**2)\n",
    "varImpPlot(rf,type=2,main=\"RF Variable Importance\")"
   ]
  },
  {
   "cell_type": "markdown",
   "metadata": {},
   "source": [
    "# A short test on list (R programming)"
   ]
  },
  {
   "cell_type": "code",
   "execution_count": 24,
   "metadata": {},
   "outputs": [
    {
     "data": {
      "text/html": [
       "<ol>\n",
       "\t<li><ol>\n",
       "\t<li><ol class=list-inline>\n",
       "\t<li>2</li>\n",
       "\t<li>1</li>\n",
       "\t<li>3</li>\n",
       "</ol>\n",
       "</li>\n",
       "</ol>\n",
       "</li>\n",
       "\t<li><ol>\n",
       "\t<li><ol class=list-inline>\n",
       "\t<li>3</li>\n",
       "\t<li>2</li>\n",
       "\t<li>1</li>\n",
       "</ol>\n",
       "</li>\n",
       "</ol>\n",
       "</li>\n",
       "\t<li><ol>\n",
       "\t<li><ol class=list-inline>\n",
       "\t<li>1</li>\n",
       "\t<li>2</li>\n",
       "\t<li>3</li>\n",
       "</ol>\n",
       "</li>\n",
       "</ol>\n",
       "</li>\n",
       "</ol>\n"
      ],
      "text/latex": [
       "\\begin{enumerate}\n",
       "\\item \\begin{enumerate}\n",
       "\\item \\begin{enumerate*}\n",
       "\\item 2\n",
       "\\item 1\n",
       "\\item 3\n",
       "\\end{enumerate*}\n",
       "\n",
       "\\end{enumerate}\n",
       "\n",
       "\\item \\begin{enumerate}\n",
       "\\item \\begin{enumerate*}\n",
       "\\item 3\n",
       "\\item 2\n",
       "\\item 1\n",
       "\\end{enumerate*}\n",
       "\n",
       "\\end{enumerate}\n",
       "\n",
       "\\item \\begin{enumerate}\n",
       "\\item \\begin{enumerate*}\n",
       "\\item 1\n",
       "\\item 2\n",
       "\\item 3\n",
       "\\end{enumerate*}\n",
       "\n",
       "\\end{enumerate}\n",
       "\n",
       "\\end{enumerate}\n"
      ],
      "text/markdown": [
       "1. 1. 1. 2\n",
       "2. 1\n",
       "3. 3\n",
       "\n",
       "\n",
       "\n",
       "\n",
       "\n",
       "\n",
       "2. 1. 1. 3\n",
       "2. 2\n",
       "3. 1\n",
       "\n",
       "\n",
       "\n",
       "\n",
       "\n",
       "\n",
       "3. 1. 1. 1\n",
       "2. 2\n",
       "3. 3\n",
       "\n",
       "\n",
       "\n",
       "\n",
       "\n",
       "\n",
       "\n",
       "\n"
      ],
      "text/plain": [
       "[[1]]\n",
       "[[1]][[1]]\n",
       "[1] 2 1 3\n",
       "\n",
       "\n",
       "[[2]]\n",
       "[[2]][[1]]\n",
       "[1] 3 2 1\n",
       "\n",
       "\n",
       "[[3]]\n",
       "[[3]][[1]]\n",
       "[1] 1 2 3\n",
       "\n"
      ]
     },
     "metadata": {},
     "output_type": "display_data"
    }
   ],
   "source": [
    "# Initial list:\n",
    "myList <- list()\n",
    "\n",
    "for(i in 1:3){\n",
    "  myList[[length(myList)+1]] <- list(sample(1:3))\n",
    "}\n",
    "\n",
    "myList"
   ]
  },
  {
   "cell_type": "code",
   "execution_count": 25,
   "metadata": {},
   "outputs": [
    {
     "data": {
      "text/html": [
       "<dl>\n",
       "\t<dt>$str</dt>\n",
       "\t\t<dd>'R'</dd>\n",
       "\t<dt>$vec</dt>\n",
       "\t\t<dd><ol class=list-inline>\n",
       "\t<li>1</li>\n",
       "\t<li>2</li>\n",
       "\t<li>3</li>\n",
       "</ol>\n",
       "</dd>\n",
       "\t<dt>$bool</dt>\n",
       "\t\t<dd>TRUE</dd>\n",
       "</dl>\n"
      ],
      "text/latex": [
       "\\begin{description}\n",
       "\\item[\\$str] 'R'\n",
       "\\item[\\$vec] \\begin{enumerate*}\n",
       "\\item 1\n",
       "\\item 2\n",
       "\\item 3\n",
       "\\end{enumerate*}\n",
       "\n",
       "\\item[\\$bool] TRUE\n",
       "\\end{description}\n"
      ],
      "text/markdown": [
       "$str\n",
       ":   'R'\n",
       "$vec\n",
       ":   1. 1\n",
       "2. 2\n",
       "3. 3\n",
       "\n",
       "\n",
       "\n",
       "$bool\n",
       ":   TRUE\n",
       "\n",
       "\n"
      ],
      "text/plain": [
       "$str\n",
       "[1] \"R\"\n",
       "\n",
       "$vec\n",
       "[1] 1 2 3\n",
       "\n",
       "$bool\n",
       "[1] TRUE\n"
      ]
     },
     "metadata": {},
     "output_type": "display_data"
    }
   ],
   "source": [
    "foo <- list( str='R', vec=c(1,2,3), bool=TRUE )\n",
    "foo"
   ]
  },
  {
   "cell_type": "code",
   "execution_count": 26,
   "metadata": {},
   "outputs": [
    {
     "data": {
      "text/html": [
       "<ol>\n",
       "\t<li><ol>\n",
       "\t<li><ol class=list-inline>\n",
       "\t<li>2</li>\n",
       "\t<li>1</li>\n",
       "\t<li>3</li>\n",
       "</ol>\n",
       "</li>\n",
       "</ol>\n",
       "</li>\n",
       "\t<li>'R'</li>\n",
       "\t<li><ol class=list-inline>\n",
       "\t<li>1</li>\n",
       "\t<li>2</li>\n",
       "\t<li>3</li>\n",
       "</ol>\n",
       "</li>\n",
       "</ol>\n"
      ],
      "text/latex": [
       "\\begin{enumerate}\n",
       "\\item \\begin{enumerate}\n",
       "\\item \\begin{enumerate*}\n",
       "\\item 2\n",
       "\\item 1\n",
       "\\item 3\n",
       "\\end{enumerate*}\n",
       "\n",
       "\\end{enumerate}\n",
       "\n",
       "\\item 'R'\n",
       "\\item \\begin{enumerate*}\n",
       "\\item 1\n",
       "\\item 2\n",
       "\\item 3\n",
       "\\end{enumerate*}\n",
       "\n",
       "\\end{enumerate}\n"
      ],
      "text/markdown": [
       "1. 1. 1. 2\n",
       "2. 1\n",
       "3. 3\n",
       "\n",
       "\n",
       "\n",
       "\n",
       "\n",
       "\n",
       "2. 'R'\n",
       "3. 1. 1\n",
       "2. 2\n",
       "3. 3\n",
       "\n",
       "\n",
       "\n",
       "\n",
       "\n"
      ],
      "text/plain": [
       "[[1]]\n",
       "[[1]][[1]]\n",
       "[1] 2 1 3\n",
       "\n",
       "\n",
       "[[2]]\n",
       "[1] \"R\"\n",
       "\n",
       "[[3]]\n",
       "[1] 1 2 3\n"
      ]
     },
     "metadata": {},
     "output_type": "display_data"
    }
   ],
   "source": [
    "myList[2:3] = foo[1:2]\n",
    "myList"
   ]
  },
  {
   "cell_type": "code",
   "execution_count": 27,
   "metadata": {},
   "outputs": [
    {
     "data": {
      "text/html": [
       "<dl>\n",
       "\t<dt>$a</dt>\n",
       "\t\t<dd><ol>\n",
       "\t<li><ol class=list-inline>\n",
       "\t<li>1</li>\n",
       "\t<li>3</li>\n",
       "\t<li>2</li>\n",
       "</ol>\n",
       "</li>\n",
       "</ol>\n",
       "</dd>\n",
       "\t<dt>$b</dt>\n",
       "\t\t<dd><ol>\n",
       "\t<li><ol class=list-inline>\n",
       "\t<li>1</li>\n",
       "\t<li>3</li>\n",
       "\t<li>2</li>\n",
       "</ol>\n",
       "</li>\n",
       "</ol>\n",
       "</dd>\n",
       "\t<dt>$hhh</dt>\n",
       "\t\t<dd><ol>\n",
       "\t<li><ol class=list-inline>\n",
       "\t<li>1</li>\n",
       "\t<li>3</li>\n",
       "\t<li>2</li>\n",
       "</ol>\n",
       "</li>\n",
       "</ol>\n",
       "</dd>\n",
       "</dl>\n"
      ],
      "text/latex": [
       "\\begin{description}\n",
       "\\item[\\$a] \\begin{enumerate}\n",
       "\\item \\begin{enumerate*}\n",
       "\\item 1\n",
       "\\item 3\n",
       "\\item 2\n",
       "\\end{enumerate*}\n",
       "\n",
       "\\end{enumerate}\n",
       "\n",
       "\\item[\\$b] \\begin{enumerate}\n",
       "\\item \\begin{enumerate*}\n",
       "\\item 1\n",
       "\\item 3\n",
       "\\item 2\n",
       "\\end{enumerate*}\n",
       "\n",
       "\\end{enumerate}\n",
       "\n",
       "\\item[\\$hhh] \\begin{enumerate}\n",
       "\\item \\begin{enumerate*}\n",
       "\\item 1\n",
       "\\item 3\n",
       "\\item 2\n",
       "\\end{enumerate*}\n",
       "\n",
       "\\end{enumerate}\n",
       "\n",
       "\\end{description}\n"
      ],
      "text/markdown": [
       "$a\n",
       ":   1. 1. 1\n",
       "2. 3\n",
       "3. 2\n",
       "\n",
       "\n",
       "\n",
       "\n",
       "\n",
       "\n",
       "$b\n",
       ":   1. 1. 1\n",
       "2. 3\n",
       "3. 2\n",
       "\n",
       "\n",
       "\n",
       "\n",
       "\n",
       "\n",
       "$hhh\n",
       ":   1. 1. 1\n",
       "2. 3\n",
       "3. 2\n",
       "\n",
       "\n",
       "\n",
       "\n",
       "\n",
       "\n",
       "\n",
       "\n"
      ],
      "text/plain": [
       "$a\n",
       "$a[[1]]\n",
       "[1] 1 3 2\n",
       "\n",
       "\n",
       "$b\n",
       "$b[[1]]\n",
       "[1] 1 3 2\n",
       "\n",
       "\n",
       "$hhh\n",
       "$hhh[[1]]\n",
       "[1] 1 3 2\n",
       "\n"
      ]
     },
     "metadata": {},
     "output_type": "display_data"
    }
   ],
   "source": [
    "# another test :\n",
    "myList <- list()\n",
    "names = c(\"a\",\"b\",\"hhh\")\n",
    "\n",
    "for(i in 1:3){\n",
    "  myList[[names[i]]] <- list(sample(1:3))\n",
    "}\n",
    "\n",
    "myList"
   ]
  }
 ],
 "metadata": {
  "kernelspec": {
   "display_name": "R",
   "language": "R",
   "name": "ir"
  },
  "language_info": {
   "codemirror_mode": "r",
   "file_extension": ".r",
   "mimetype": "text/x-r-source",
   "name": "R",
   "pygments_lexer": "r",
   "version": "3.6.0"
  }
 },
 "nbformat": 4,
 "nbformat_minor": 2
}
