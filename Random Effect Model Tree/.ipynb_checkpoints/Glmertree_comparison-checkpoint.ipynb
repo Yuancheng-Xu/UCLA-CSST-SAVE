{
 "cells": [
  {
   "cell_type": "code",
   "execution_count": 1,
   "metadata": {},
   "outputs": [
    {
     "name": "stderr",
     "output_type": "stream",
     "text": [
      "Warning message:\n",
      "\"package 'party' was built under R version 3.6.1\"Loading required package: grid\n",
      "Loading required package: mvtnorm\n",
      "Loading required package: modeltools\n",
      "Loading required package: stats4\n",
      "Loading required package: strucchange\n",
      "Warning message:\n",
      "\"package 'strucchange' was built under R version 3.6.1\"Loading required package: zoo\n",
      "\n",
      "Attaching package: 'zoo'\n",
      "\n",
      "The following objects are masked from 'package:base':\n",
      "\n",
      "    as.Date, as.Date.numeric\n",
      "\n",
      "Loading required package: sandwich\n",
      "Warning message:\n",
      "\"package 'sandwich' was built under R version 3.6.1\"Warning message:\n",
      "\"package 'glmertree' was built under R version 3.6.1\"Loading required package: lme4\n",
      "Warning message:\n",
      "\"package 'lme4' was built under R version 3.6.1\"Loading required package: Matrix\n",
      "\n",
      "Attaching package: 'lme4'\n",
      "\n",
      "The following object is masked from 'package:modeltools':\n",
      "\n",
      "    refit\n",
      "\n",
      "Loading required package: partykit\n",
      "Warning message:\n",
      "\"package 'partykit' was built under R version 3.6.1\"Loading required package: libcoin\n",
      "Warning message:\n",
      "\"package 'libcoin' was built under R version 3.6.1\"\n",
      "Attaching package: 'partykit'\n",
      "\n",
      "The following objects are masked from 'package:party':\n",
      "\n",
      "    cforest, ctree, ctree_control, edge_simple, mob, mob_control,\n",
      "    node_barplot, node_bivplot, node_boxplot, node_inner, node_surv,\n",
      "    node_terminal, varimp\n",
      "\n",
      "Loading required package: lattice\n",
      "Loading required package: ggplot2\n",
      "Registered S3 methods overwritten by 'ggplot2':\n",
      "  method         from \n",
      "  [.quosures     rlang\n",
      "  c.quosures     rlang\n",
      "  print.quosures rlang\n",
      "randomForest 4.6-14\n",
      "Type rfNews() to see new features/changes/bug fixes.\n",
      "\n",
      "Attaching package: 'randomForest'\n",
      "\n",
      "The following object is masked from 'package:ggplot2':\n",
      "\n",
      "    margin\n",
      "\n",
      "Warning message:\n",
      "\"package 'fuzzyforest' was built under R version 3.6.1\"\n",
      "Warning message:\n",
      "\"package 'WGCNA' was built under R version 3.6.1\"Loading required package: dynamicTreeCut\n",
      "Loading required package: fastcluster\n",
      "\n",
      "Attaching package: 'fastcluster'\n",
      "\n",
      "The following object is masked from 'package:stats':\n",
      "\n",
      "    hclust\n",
      "\n",
      "\n",
      "Attaching package: 'WGCNA'\n",
      "\n",
      "The following object is masked from 'package:stats':\n",
      "\n",
      "    cor\n",
      "\n"
     ]
    }
   ],
   "source": [
    "library(\"party\")\n",
    "library(MASS)\n",
    "library(\"glmertree\")\n",
    "library(\"caret\")\n",
    "source(\"SimData.r\")\n",
    "library(\"randomForest\")\n",
    "library(\"rpart\")\n",
    "library(\"fuzzyforest\")\n",
    "library(\"WGCNA\")"
   ]
  },
  {
   "cell_type": "markdown",
   "metadata": {},
   "source": [
    "# Data preparation"
   ]
  },
  {
   "cell_type": "code",
   "execution_count": 2,
   "metadata": {},
   "outputs": [
    {
     "data": {
      "text/html": [
       "<table>\n",
       "<thead><tr><th scope=col>V1</th><th scope=col>V2</th><th scope=col>V3</th><th scope=col>V4</th><th scope=col>V5</th><th scope=col>V6</th><th scope=col>V7</th><th scope=col>V8</th><th scope=col>V9</th><th scope=col>V10</th><th scope=col>...</th><th scope=col>V394</th><th scope=col>V395</th><th scope=col>V396</th><th scope=col>V397</th><th scope=col>V398</th><th scope=col>V399</th><th scope=col>V400</th><th scope=col>y</th><th scope=col>patient</th><th scope=col>t</th></tr></thead>\n",
       "<tbody>\n",
       "\t<tr><td> 0.4041948 </td><td>-0.1157621 </td><td>-0.8282505 </td><td>-0.2551767 </td><td> 0.7114005 </td><td> 0.09327738</td><td> 0.4703178 </td><td>-0.5625359 </td><td> 0.71595493</td><td> 0.1898496 </td><td>...        </td><td>-0.35986213</td><td>-0.8252594 </td><td> 0.71453271</td><td>-0.5817907 </td><td> 0.31863009</td><td> 0.1169713 </td><td> 0.88678481</td><td> -2.680183 </td><td>1          </td><td>1          </td></tr>\n",
       "\t<tr><td>-0.5048507 </td><td>-1.1607588 </td><td>-0.9535845 </td><td>-1.1433429 </td><td>-0.3331617 </td><td>-1.11665992</td><td>-0.4615737 </td><td>-1.5207829 </td><td> 0.02850286</td><td>-0.3527653 </td><td>...        </td><td> 0.07727177</td><td>-0.1601616 </td><td>-0.05631991</td><td>-1.6737887 </td><td> 0.91176834</td><td>-0.5207258 </td><td> 0.08539332</td><td>-11.353485 </td><td>1          </td><td>2          </td></tr>\n",
       "\t<tr><td>-0.8002010 </td><td>-0.8082677 </td><td>-1.0642596 </td><td>-1.0390025 </td><td>-0.5794711 </td><td>-0.98738083</td><td>-0.5376431 </td><td>-1.4163408 </td><td>-0.22285559</td><td>-0.4874867 </td><td>...        </td><td>-0.30489980</td><td>-1.1099505 </td><td>-0.22036390</td><td>-2.4876058 </td><td> 0.85579524</td><td> 0.1344519 </td><td>-0.31106741</td><td> -9.402297 </td><td>1          </td><td>3          </td></tr>\n",
       "\t<tr><td>-0.9136394 </td><td>-1.3453939 </td><td>-1.2412924 </td><td>-0.5843280 </td><td>-0.7852858 </td><td>-1.10955238</td><td>-1.0380377 </td><td>-1.3915048 </td><td>-0.74088698</td><td>-0.3579343 </td><td>...        </td><td> 0.09587574</td><td>-0.7253685 </td><td>-0.07577874</td><td>-3.0802759 </td><td> 0.76572763</td><td>-0.3152833 </td><td> 0.01155116</td><td> -2.714342 </td><td>1          </td><td>4          </td></tr>\n",
       "\t<tr><td>-1.1862461 </td><td>-0.8985310 </td><td>-1.1362628 </td><td>-0.5670641 </td><td>-0.4920586 </td><td>-0.39728046</td><td>-0.6302260 </td><td>-0.6027598 </td><td>-0.23438185</td><td>-0.3974606 </td><td>...        </td><td> 0.15796748</td><td> 0.4595740 </td><td> 0.87427111</td><td>-2.9496439 </td><td> 0.05246792</td><td>-0.7299419 </td><td>-0.76754000</td><td> -8.588217 </td><td>1          </td><td>5          </td></tr>\n",
       "\t<tr><td> 0.7559472 </td><td> 2.1693698 </td><td> 1.1034058 </td><td> 1.9401066 </td><td> 0.6839483 </td><td> 1.12735727</td><td> 1.5714702 </td><td> 1.5045449 </td><td> 1.51050327</td><td> 1.6902715 </td><td>...        </td><td> 0.14826603</td><td>-1.0999877 </td><td>-0.55237209</td><td> 0.2431390 </td><td>-1.33757722</td><td>-0.2405078 </td><td>-0.62730903</td><td> 20.835334 </td><td>2          </td><td>1          </td></tr>\n",
       "</tbody>\n",
       "</table>\n"
      ],
      "text/latex": [
       "\\begin{tabular}{r|lllllllllllllllllllllllllllllllllllllllllllllllllllllllllllllllllllllllllllllllllllllllllllllllllllllllllllllllllllllllllllllllllllllllllllllllllllllllllllllllllllllllllllllllllllllllllllllllllllllllllllllllllllllllllllllllllllllllllllllllllllllllllllllllllllllllllllllllllllllllllllllllllllllllllllllllllllllllllllllllllllllllllllllllllllllllllllllllllllllllllllllllllllllllllllllllllllllllllllllllllll}\n",
       " V1 & V2 & V3 & V4 & V5 & V6 & V7 & V8 & V9 & V10 & ... & V394 & V395 & V396 & V397 & V398 & V399 & V400 & y & patient & t\\\\\n",
       "\\hline\n",
       "\t  0.4041948  & -0.1157621  & -0.8282505  & -0.2551767  &  0.7114005  &  0.09327738 &  0.4703178  & -0.5625359  &  0.71595493 &  0.1898496  & ...         & -0.35986213 & -0.8252594  &  0.71453271 & -0.5817907  &  0.31863009 &  0.1169713  &  0.88678481 &  -2.680183  & 1           & 1          \\\\\n",
       "\t -0.5048507  & -1.1607588  & -0.9535845  & -1.1433429  & -0.3331617  & -1.11665992 & -0.4615737  & -1.5207829  &  0.02850286 & -0.3527653  & ...         &  0.07727177 & -0.1601616  & -0.05631991 & -1.6737887  &  0.91176834 & -0.5207258  &  0.08539332 & -11.353485  & 1           & 2          \\\\\n",
       "\t -0.8002010  & -0.8082677  & -1.0642596  & -1.0390025  & -0.5794711  & -0.98738083 & -0.5376431  & -1.4163408  & -0.22285559 & -0.4874867  & ...         & -0.30489980 & -1.1099505  & -0.22036390 & -2.4876058  &  0.85579524 &  0.1344519  & -0.31106741 &  -9.402297  & 1           & 3          \\\\\n",
       "\t -0.9136394  & -1.3453939  & -1.2412924  & -0.5843280  & -0.7852858  & -1.10955238 & -1.0380377  & -1.3915048  & -0.74088698 & -0.3579343  & ...         &  0.09587574 & -0.7253685  & -0.07577874 & -3.0802759  &  0.76572763 & -0.3152833  &  0.01155116 &  -2.714342  & 1           & 4          \\\\\n",
       "\t -1.1862461  & -0.8985310  & -1.1362628  & -0.5670641  & -0.4920586  & -0.39728046 & -0.6302260  & -0.6027598  & -0.23438185 & -0.3974606  & ...         &  0.15796748 &  0.4595740  &  0.87427111 & -2.9496439  &  0.05246792 & -0.7299419  & -0.76754000 &  -8.588217  & 1           & 5          \\\\\n",
       "\t  0.7559472  &  2.1693698  &  1.1034058  &  1.9401066  &  0.6839483  &  1.12735727 &  1.5714702  &  1.5045449  &  1.51050327 &  1.6902715  & ...         &  0.14826603 & -1.0999877  & -0.55237209 &  0.2431390  & -1.33757722 & -0.2405078  & -0.62730903 &  20.835334  & 2           & 1          \\\\\n",
       "\\end{tabular}\n"
      ],
      "text/markdown": [
       "\n",
       "| V1 | V2 | V3 | V4 | V5 | V6 | V7 | V8 | V9 | V10 | ... | V394 | V395 | V396 | V397 | V398 | V399 | V400 | y | patient | t |\n",
       "|---|---|---|---|---|---|---|---|---|---|---|---|---|---|---|---|---|---|---|---|---|\n",
       "|  0.4041948  | -0.1157621  | -0.8282505  | -0.2551767  |  0.7114005  |  0.09327738 |  0.4703178  | -0.5625359  |  0.71595493 |  0.1898496  | ...         | -0.35986213 | -0.8252594  |  0.71453271 | -0.5817907  |  0.31863009 |  0.1169713  |  0.88678481 |  -2.680183  | 1           | 1           |\n",
       "| -0.5048507  | -1.1607588  | -0.9535845  | -1.1433429  | -0.3331617  | -1.11665992 | -0.4615737  | -1.5207829  |  0.02850286 | -0.3527653  | ...         |  0.07727177 | -0.1601616  | -0.05631991 | -1.6737887  |  0.91176834 | -0.5207258  |  0.08539332 | -11.353485  | 1           | 2           |\n",
       "| -0.8002010  | -0.8082677  | -1.0642596  | -1.0390025  | -0.5794711  | -0.98738083 | -0.5376431  | -1.4163408  | -0.22285559 | -0.4874867  | ...         | -0.30489980 | -1.1099505  | -0.22036390 | -2.4876058  |  0.85579524 |  0.1344519  | -0.31106741 |  -9.402297  | 1           | 3           |\n",
       "| -0.9136394  | -1.3453939  | -1.2412924  | -0.5843280  | -0.7852858  | -1.10955238 | -1.0380377  | -1.3915048  | -0.74088698 | -0.3579343  | ...         |  0.09587574 | -0.7253685  | -0.07577874 | -3.0802759  |  0.76572763 | -0.3152833  |  0.01155116 |  -2.714342  | 1           | 4           |\n",
       "| -1.1862461  | -0.8985310  | -1.1362628  | -0.5670641  | -0.4920586  | -0.39728046 | -0.6302260  | -0.6027598  | -0.23438185 | -0.3974606  | ...         |  0.15796748 |  0.4595740  |  0.87427111 | -2.9496439  |  0.05246792 | -0.7299419  | -0.76754000 |  -8.588217  | 1           | 5           |\n",
       "|  0.7559472  |  2.1693698  |  1.1034058  |  1.9401066  |  0.6839483  |  1.12735727 |  1.5714702  |  1.5045449  |  1.51050327 |  1.6902715  | ...         |  0.14826603 | -1.0999877  | -0.55237209 |  0.2431390  | -1.33757722 | -0.2405078  | -0.62730903 |  20.835334  | 2           | 1           |\n",
       "\n"
      ],
      "text/plain": [
       "  V1         V2         V3         V4         V5         V6          V7        \n",
       "1  0.4041948 -0.1157621 -0.8282505 -0.2551767  0.7114005  0.09327738  0.4703178\n",
       "2 -0.5048507 -1.1607588 -0.9535845 -1.1433429 -0.3331617 -1.11665992 -0.4615737\n",
       "3 -0.8002010 -0.8082677 -1.0642596 -1.0390025 -0.5794711 -0.98738083 -0.5376431\n",
       "4 -0.9136394 -1.3453939 -1.2412924 -0.5843280 -0.7852858 -1.10955238 -1.0380377\n",
       "5 -1.1862461 -0.8985310 -1.1362628 -0.5670641 -0.4920586 -0.39728046 -0.6302260\n",
       "6  0.7559472  2.1693698  1.1034058  1.9401066  0.6839483  1.12735727  1.5714702\n",
       "  V8         V9          V10        ... V394        V395       V396       \n",
       "1 -0.5625359  0.71595493  0.1898496 ... -0.35986213 -0.8252594  0.71453271\n",
       "2 -1.5207829  0.02850286 -0.3527653 ...  0.07727177 -0.1601616 -0.05631991\n",
       "3 -1.4163408 -0.22285559 -0.4874867 ... -0.30489980 -1.1099505 -0.22036390\n",
       "4 -1.3915048 -0.74088698 -0.3579343 ...  0.09587574 -0.7253685 -0.07577874\n",
       "5 -0.6027598 -0.23438185 -0.3974606 ...  0.15796748  0.4595740  0.87427111\n",
       "6  1.5045449  1.51050327  1.6902715 ...  0.14826603 -1.0999877 -0.55237209\n",
       "  V397       V398        V399       V400        y          patient t\n",
       "1 -0.5817907  0.31863009  0.1169713  0.88678481  -2.680183 1       1\n",
       "2 -1.6737887  0.91176834 -0.5207258  0.08539332 -11.353485 1       2\n",
       "3 -2.4876058  0.85579524  0.1344519 -0.31106741  -9.402297 1       3\n",
       "4 -3.0802759  0.76572763 -0.3152833  0.01155116  -2.714342 1       4\n",
       "5 -2.9496439  0.05246792 -0.7299419 -0.76754000  -8.588217 1       5\n",
       "6  0.2431390 -1.33757722 -0.2405078 -0.62730903  20.835334 2       1"
      ]
     },
     "metadata": {},
     "output_type": "display_data"
    }
   ],
   "source": [
    "# training data\n",
    "n <- 100 # number of patients\n",
    "T <-  5 # number of observations per patients\n",
    "set.seed(100)\n",
    "data <- as.data.frame(sim_3(n, T)) \n",
    "colnames(data)[401] <- \"y\"\n",
    "\n",
    "# add patient/cluster information\n",
    "for (i in 1:n){\n",
    "    data$patient[(1+(i-1)*T):(i*T)] = rep(i,T)\n",
    "}\n",
    "# add time infomation\n",
    "data$t = as.double(rep(1:5,n))\n",
    "data[1:6,]"
   ]
  },
  {
   "cell_type": "code",
   "execution_count": 3,
   "metadata": {},
   "outputs": [
    {
     "data": {
      "text/html": [
       "<table>\n",
       "<thead><tr><th scope=col>V1</th><th scope=col>V2</th><th scope=col>V3</th><th scope=col>V4</th><th scope=col>V5</th><th scope=col>V6</th><th scope=col>V7</th><th scope=col>V8</th><th scope=col>V9</th><th scope=col>V10</th><th scope=col>...</th><th scope=col>V394</th><th scope=col>V395</th><th scope=col>V396</th><th scope=col>V397</th><th scope=col>V398</th><th scope=col>V399</th><th scope=col>V400</th><th scope=col>y</th><th scope=col>patient</th><th scope=col>t</th></tr></thead>\n",
       "<tbody>\n",
       "\t<tr><td> 0.2060153 </td><td> 0.64024620</td><td> 0.34032334</td><td> 1.05586322</td><td> 1.5860748 </td><td> 0.8222607 </td><td> 0.3228772 </td><td>1.9814633  </td><td> 0.1915002 </td><td>0.1206337  </td><td>...        </td><td>-0.22325936</td><td> 0.9170283 </td><td>-0.11273431</td><td> 0.61878986</td><td>1.1739663  </td><td> 0.3107692 </td><td> 0.21435946</td><td>11.569677  </td><td>1          </td><td>1          </td></tr>\n",
       "\t<tr><td> 1.0581125 </td><td> 1.83637294</td><td> 1.28134711</td><td> 1.95099335</td><td> 2.1117273 </td><td> 1.5162299 </td><td> 1.1903985 </td><td>2.6089574  </td><td> 1.1034408 </td><td>0.7703308  </td><td>...        </td><td>-0.63443711</td><td> 1.6822181 </td><td>-0.07525858</td><td>-0.32767601</td><td>0.4441376  </td><td> 0.3337583 </td><td> 0.43528673</td><td>31.206793  </td><td>1          </td><td>2          </td></tr>\n",
       "\t<tr><td> 0.4365846 </td><td> 1.46430543</td><td> 0.75723534</td><td> 1.59393501</td><td> 1.4047144 </td><td> 0.6625449 </td><td> 0.5281878 </td><td>1.8311688  </td><td> 0.8361954 </td><td>0.9370753  </td><td>...        </td><td> 0.06728051</td><td> 2.6376071 </td><td>-0.09250902</td><td> 0.16902591</td><td>0.9010316  </td><td> 0.1224454 </td><td> 0.57227788</td><td>15.835104  </td><td>1          </td><td>3          </td></tr>\n",
       "\t<tr><td> 0.3370362 </td><td> 1.27335072</td><td> 0.85899400</td><td> 1.14445890</td><td> 1.0956487 </td><td> 0.4145852 </td><td> 0.3415175 </td><td>1.8317050  </td><td> 0.4938670 </td><td>1.2542567  </td><td>...        </td><td>-1.17418026</td><td> 1.7636620 </td><td> 0.17486941</td><td> 0.03718500</td><td>1.0193002  </td><td> 0.2050546 </td><td> 0.07434591</td><td>12.294316  </td><td>1          </td><td>4          </td></tr>\n",
       "\t<tr><td>-1.0935606 </td><td>-0.04208021</td><td>-0.06375357</td><td>-0.02680852</td><td>-0.2886002 </td><td>-0.6175841 </td><td>-0.8728703 </td><td>0.5218694  </td><td>-0.7432135 </td><td>0.2455381  </td><td>...        </td><td>-1.85642999</td><td> 1.9159896 </td><td> 0.08441171</td><td> 0.09446398</td><td>0.4766140  </td><td>-1.2353549 </td><td>-0.25145304</td><td>-9.295610  </td><td>1          </td><td>5          </td></tr>\n",
       "\t<tr><td> 0.2791273 </td><td> 0.75162924</td><td>-0.30528207</td><td>-0.21112131</td><td>-0.2949749 </td><td>-0.2916753 </td><td> 0.1386101 </td><td>0.7237688  </td><td> 0.8251524 </td><td>0.4313684  </td><td>...        </td><td>-0.15716600</td><td>-0.5160772 </td><td>-0.86593112</td><td> 2.28742993</td><td>0.6374255  </td><td> 0.4740288 </td><td> 1.31109763</td><td> 7.697065  </td><td>2          </td><td>1          </td></tr>\n",
       "</tbody>\n",
       "</table>\n"
      ],
      "text/latex": [
       "\\begin{tabular}{r|lllllllllllllllllllllllllllllllllllllllllllllllllllllllllllllllllllllllllllllllllllllllllllllllllllllllllllllllllllllllllllllllllllllllllllllllllllllllllllllllllllllllllllllllllllllllllllllllllllllllllllllllllllllllllllllllllllllllllllllllllllllllllllllllllllllllllllllllllllllllllllllllllllllllllllllllllllllllllllllllllllllllllllllllllllllllllllllllllllllllllllllllllllllllllllllllllllllllllllllllllll}\n",
       " V1 & V2 & V3 & V4 & V5 & V6 & V7 & V8 & V9 & V10 & ... & V394 & V395 & V396 & V397 & V398 & V399 & V400 & y & patient & t\\\\\n",
       "\\hline\n",
       "\t  0.2060153  &  0.64024620 &  0.34032334 &  1.05586322 &  1.5860748  &  0.8222607  &  0.3228772  & 1.9814633   &  0.1915002  & 0.1206337   & ...         & -0.22325936 &  0.9170283  & -0.11273431 &  0.61878986 & 1.1739663   &  0.3107692  &  0.21435946 & 11.569677   & 1           & 1          \\\\\n",
       "\t  1.0581125  &  1.83637294 &  1.28134711 &  1.95099335 &  2.1117273  &  1.5162299  &  1.1903985  & 2.6089574   &  1.1034408  & 0.7703308   & ...         & -0.63443711 &  1.6822181  & -0.07525858 & -0.32767601 & 0.4441376   &  0.3337583  &  0.43528673 & 31.206793   & 1           & 2          \\\\\n",
       "\t  0.4365846  &  1.46430543 &  0.75723534 &  1.59393501 &  1.4047144  &  0.6625449  &  0.5281878  & 1.8311688   &  0.8361954  & 0.9370753   & ...         &  0.06728051 &  2.6376071  & -0.09250902 &  0.16902591 & 0.9010316   &  0.1224454  &  0.57227788 & 15.835104   & 1           & 3          \\\\\n",
       "\t  0.3370362  &  1.27335072 &  0.85899400 &  1.14445890 &  1.0956487  &  0.4145852  &  0.3415175  & 1.8317050   &  0.4938670  & 1.2542567   & ...         & -1.17418026 &  1.7636620  &  0.17486941 &  0.03718500 & 1.0193002   &  0.2050546  &  0.07434591 & 12.294316   & 1           & 4          \\\\\n",
       "\t -1.0935606  & -0.04208021 & -0.06375357 & -0.02680852 & -0.2886002  & -0.6175841  & -0.8728703  & 0.5218694   & -0.7432135  & 0.2455381   & ...         & -1.85642999 &  1.9159896  &  0.08441171 &  0.09446398 & 0.4766140   & -1.2353549  & -0.25145304 & -9.295610   & 1           & 5          \\\\\n",
       "\t  0.2791273  &  0.75162924 & -0.30528207 & -0.21112131 & -0.2949749  & -0.2916753  &  0.1386101  & 0.7237688   &  0.8251524  & 0.4313684   & ...         & -0.15716600 & -0.5160772  & -0.86593112 &  2.28742993 & 0.6374255   &  0.4740288  &  1.31109763 &  7.697065   & 2           & 1          \\\\\n",
       "\\end{tabular}\n"
      ],
      "text/markdown": [
       "\n",
       "| V1 | V2 | V3 | V4 | V5 | V6 | V7 | V8 | V9 | V10 | ... | V394 | V395 | V396 | V397 | V398 | V399 | V400 | y | patient | t |\n",
       "|---|---|---|---|---|---|---|---|---|---|---|---|---|---|---|---|---|---|---|---|---|\n",
       "|  0.2060153  |  0.64024620 |  0.34032334 |  1.05586322 |  1.5860748  |  0.8222607  |  0.3228772  | 1.9814633   |  0.1915002  | 0.1206337   | ...         | -0.22325936 |  0.9170283  | -0.11273431 |  0.61878986 | 1.1739663   |  0.3107692  |  0.21435946 | 11.569677   | 1           | 1           |\n",
       "|  1.0581125  |  1.83637294 |  1.28134711 |  1.95099335 |  2.1117273  |  1.5162299  |  1.1903985  | 2.6089574   |  1.1034408  | 0.7703308   | ...         | -0.63443711 |  1.6822181  | -0.07525858 | -0.32767601 | 0.4441376   |  0.3337583  |  0.43528673 | 31.206793   | 1           | 2           |\n",
       "|  0.4365846  |  1.46430543 |  0.75723534 |  1.59393501 |  1.4047144  |  0.6625449  |  0.5281878  | 1.8311688   |  0.8361954  | 0.9370753   | ...         |  0.06728051 |  2.6376071  | -0.09250902 |  0.16902591 | 0.9010316   |  0.1224454  |  0.57227788 | 15.835104   | 1           | 3           |\n",
       "|  0.3370362  |  1.27335072 |  0.85899400 |  1.14445890 |  1.0956487  |  0.4145852  |  0.3415175  | 1.8317050   |  0.4938670  | 1.2542567   | ...         | -1.17418026 |  1.7636620  |  0.17486941 |  0.03718500 | 1.0193002   |  0.2050546  |  0.07434591 | 12.294316   | 1           | 4           |\n",
       "| -1.0935606  | -0.04208021 | -0.06375357 | -0.02680852 | -0.2886002  | -0.6175841  | -0.8728703  | 0.5218694   | -0.7432135  | 0.2455381   | ...         | -1.85642999 |  1.9159896  |  0.08441171 |  0.09446398 | 0.4766140   | -1.2353549  | -0.25145304 | -9.295610   | 1           | 5           |\n",
       "|  0.2791273  |  0.75162924 | -0.30528207 | -0.21112131 | -0.2949749  | -0.2916753  |  0.1386101  | 0.7237688   |  0.8251524  | 0.4313684   | ...         | -0.15716600 | -0.5160772  | -0.86593112 |  2.28742993 | 0.6374255   |  0.4740288  |  1.31109763 |  7.697065   | 2           | 1           |\n",
       "\n"
      ],
      "text/plain": [
       "  V1         V2          V3          V4          V5         V6        \n",
       "1  0.2060153  0.64024620  0.34032334  1.05586322  1.5860748  0.8222607\n",
       "2  1.0581125  1.83637294  1.28134711  1.95099335  2.1117273  1.5162299\n",
       "3  0.4365846  1.46430543  0.75723534  1.59393501  1.4047144  0.6625449\n",
       "4  0.3370362  1.27335072  0.85899400  1.14445890  1.0956487  0.4145852\n",
       "5 -1.0935606 -0.04208021 -0.06375357 -0.02680852 -0.2886002 -0.6175841\n",
       "6  0.2791273  0.75162924 -0.30528207 -0.21112131 -0.2949749 -0.2916753\n",
       "  V7         V8        V9         V10       ... V394        V395      \n",
       "1  0.3228772 1.9814633  0.1915002 0.1206337 ... -0.22325936  0.9170283\n",
       "2  1.1903985 2.6089574  1.1034408 0.7703308 ... -0.63443711  1.6822181\n",
       "3  0.5281878 1.8311688  0.8361954 0.9370753 ...  0.06728051  2.6376071\n",
       "4  0.3415175 1.8317050  0.4938670 1.2542567 ... -1.17418026  1.7636620\n",
       "5 -0.8728703 0.5218694 -0.7432135 0.2455381 ... -1.85642999  1.9159896\n",
       "6  0.1386101 0.7237688  0.8251524 0.4313684 ... -0.15716600 -0.5160772\n",
       "  V396        V397        V398      V399       V400        y         patient t\n",
       "1 -0.11273431  0.61878986 1.1739663  0.3107692  0.21435946 11.569677 1       1\n",
       "2 -0.07525858 -0.32767601 0.4441376  0.3337583  0.43528673 31.206793 1       2\n",
       "3 -0.09250902  0.16902591 0.9010316  0.1224454  0.57227788 15.835104 1       3\n",
       "4  0.17486941  0.03718500 1.0193002  0.2050546  0.07434591 12.294316 1       4\n",
       "5  0.08441171  0.09446398 0.4766140 -1.2353549 -0.25145304 -9.295610 1       5\n",
       "6 -0.86593112  2.28742993 0.6374255  0.4740288  1.31109763  7.697065 2       1"
      ]
     },
     "metadata": {},
     "output_type": "display_data"
    }
   ],
   "source": [
    "# test data\n",
    "n <- 30 # number of patients; OVERWRITE! n=30 now! \n",
    "T <-  5 # number of observations per patients\n",
    "set.seed(101)\n",
    "data_test <- as.data.frame(sim_3(n, T)) \n",
    "colnames(data_test)[401] <- \"y\"\n",
    "\n",
    "# add patient/cluster information\n",
    "for (i in 1:n){\n",
    "    data_test$patient[(1+(i-1)*T):(i*T)] = rep(i,T)\n",
    "}\n",
    "# add time infomation; I don't think we need this though\n",
    "data_test$t = as.double(rep(1:5,n))\n",
    "data_test[1:6,]"
   ]
  },
  {
   "cell_type": "code",
   "execution_count": 4,
   "metadata": {},
   "outputs": [],
   "source": [
    "# Methods for extracting names of splitting features used in a tree\n",
    "# tree: a tree object; data: the train or test set\n",
    "get_split_names = function(tree,data){\n",
    "    # path: the string that contains all the node information\n",
    "    paths <- pre:::list.rules(tree, removecomplements = FALSE)\n",
    "    vnames = names(data)\n",
    "    # the regex for a variable\n",
    "    # tomatch = paste(paste(var,\"<=\"),\"|\",paste(var,\">\"),sep=\"\")\n",
    "    # match to tomatch in path\n",
    "    tmp = vnames[sapply(sapply(vnames, FUN = function(var) grep(paste(paste(var,\"<=\"),\"|\",paste(var,\">\"),sep=\"\"), paths)), length) > 0]\n",
    "    return (tmp)\n",
    "}"
   ]
  },
  {
   "cell_type": "markdown",
   "metadata": {},
   "source": [
    "# Several tree methods including glmertree"
   ]
  },
  {
   "cell_type": "markdown",
   "metadata": {},
   "source": [
    "## glmertree:"
   ]
  },
  {
   "cell_type": "markdown",
   "metadata": {},
   "source": [
    "The number of regressors should be small!"
   ]
  },
  {
   "cell_type": "code",
   "execution_count": 5,
   "metadata": {},
   "outputs": [
    {
     "ename": "ERROR",
     "evalue": "Error in paste(regress_var, collapse = \"+\"): object 'regress_var' not found\n",
     "output_type": "error",
     "traceback": [
      "Error in paste(regress_var, collapse = \"+\"): object 'regress_var' not found\nTraceback:\n",
      "1. as.formula(paste(\"y~\", paste(regress_var, collapse = \"+\"), \"|\", \n .     cluster_var, \"|\", paste(split_var, collapse = \"+\")))",
      "2. paste(\"y~\", paste(regress_var, collapse = \"+\"), \"|\", cluster_var, \n .     \"|\", paste(split_var, collapse = \"+\"))",
      "3. paste(regress_var, collapse = \"+\")"
     ]
    }
   ],
   "source": [
    "# regress_var = paste(\"V\",301,sep=\"\")\n",
    "# regress_var = \"t\" # naive regressor\n",
    "# regress_var = paste(\"V\",c(1,2,3,301,302,303),sep=\"\") # abs correct regressor\n",
    "# regress_var = paste(\"V\",c(1,301),sep=\"\") # part of important regress\n",
    "# regress_var = paste(\"V\",c(2,301,303),sep=\"\") # part of important regress\n",
    "# regress_var = paste(\"V\",1:400,sep=\"\") # will fail!too many regressors!\n",
    "# regress_var = paste(\"V\",c(1,301,65,305,9,100,101),sep=\"\") # disturbation\n",
    "\n",
    "\n",
    "# split_var = paste(\"V\",1:400,sep=\"\") # always use all the features to split\n",
    "# split_var = paste(\"V\",c(1,2,3,301,302,303),sep=\"\") # test: use important ones\n",
    "\n",
    "# use module test!\n",
    "# regress_var = paste(\"V\",1,sep=\"\") # module!\n",
    "# split_var = paste(\"V\",1:100,sep=\"\") # always use all the features to split\n",
    "\n",
    "\n",
    "cluster_var = \"patient\"\n",
    "Formula = as.formula(paste(\"y~\",paste(regress_var,collapse = \"+\"),\n",
    "                           \"|\",cluster_var,\"|\",\n",
    "                         paste(split_var,collapse = \"+\")))\n",
    "# Formula"
   ]
  },
  {
   "cell_type": "code",
   "execution_count": null,
   "metadata": {},
   "outputs": [],
   "source": [
    "system.time({\n",
    "    lmm_tree <- lmertree(Formula, data = data)\n",
    "})\n",
    "# mean square error on test data\n",
    "sum((predict(lmm_tree,newdata=data_test,re.form=NA)-data_test$y)**2)/(n*T)\n",
    "\n",
    "coef(lmm_tree)\n",
    "plot(lmm_tree,which=\"tree\",main = \"glmertree\")"
   ]
  },
  {
   "cell_type": "code",
   "execution_count": null,
   "metadata": {},
   "outputs": [],
   "source": [
    "# residual analysis\n",
    "# resids <- residuals(lmm_tree)\n",
    "# preds <- predict(lmm_tree)\n",
    "# plot(factor(data$patient), resids)\n",
    "# scatter.smooth(preds, resids)"
   ]
  },
  {
   "cell_type": "markdown",
   "metadata": {},
   "source": [
    "## The following use other tree methods to compare the speed and prediction performance"
   ]
  },
  {
   "cell_type": "code",
   "execution_count": 5,
   "metadata": {},
   "outputs": [],
   "source": [
    "# the following tree method use one of formulae below\n",
    "\n",
    "# use all covariates \n",
    "# var = paste(\"V\",1:400,sep=\"\")\n",
    "\n",
    "# only use important ones, which means cheating\n",
    "var = paste(\"V\",c(1,2,3,301,302,303),sep=\"\")\n",
    "\n",
    "# use part of important ones\n",
    "# var = paste(\"V\",c(2,301,303),sep=\"\") # part of important regress\n",
    "\n",
    "# perturbation: mixture of correct and incorrect\n",
    "# var = paste(\"V\",c(1,301,99,100,307,299),sep=\"\")\n",
    "\n",
    "Formula = as.formula(paste(\"y~\",paste(var,collapse = \"+\")))"
   ]
  },
  {
   "cell_type": "code",
   "execution_count": 30,
   "metadata": {},
   "outputs": [
    {
     "data": {
      "text/plain": [
       "   user  system elapsed \n",
       "   0.08    0.00    0.08 "
      ]
     },
     "metadata": {},
     "output_type": "display_data"
    },
    {
     "data": {
      "text/html": [
       "39.4352286593252"
      ],
      "text/latex": [
       "39.4352286593252"
      ],
      "text/markdown": [
       "39.4352286593252"
      ],
      "text/plain": [
       "[1] 39.43523"
      ]
     },
     "metadata": {},
     "output_type": "display_data"
    },
    {
     "data": {
      "image/png": "[encoded data removed]",
      "text/plain": [
       "plot without title"
      ]
     },
     "metadata": {},
     "output_type": "display_data"
    }
   ],
   "source": [
    "# ctree:  conditional inference framework.\n",
    "system.time({c_tree <- ctree(\n",
    "  Formula, \n",
    "  data = data)\n",
    "})\n",
    "\n",
    "\n",
    "# To see the importance of features in c_tree, run this instead\n",
    "# system.time({c_tree <- train(\n",
    "#   Formula, \n",
    "#   data = data,method=\"ctree\")\n",
    "# })\n",
    "# varImp(c_tree)\n",
    "\n",
    "plot(c_tree,main = \"conditional inference\")\n",
    "\n",
    "# mean square error\n",
    "mean((predict(c_tree,newdata=data_test)-data_test$y)**2)"
   ]
  },
  {
   "cell_type": "code",
   "execution_count": 31,
   "metadata": {},
   "outputs": [
    {
     "data": {
      "text/plain": [
       "   user  system elapsed \n",
       "      0       0       0 "
      ]
     },
     "metadata": {},
     "output_type": "display_data"
    },
    {
     "data": {
      "text/html": [
       "<table>\n",
       "<thead><tr><th></th><th scope=col>overall</th><th scope=col>names</th></tr></thead>\n",
       "<tbody>\n",
       "\t<tr><th scope=row>1</th><td>3.0351657</td><td>V1       </td></tr>\n",
       "\t<tr><th scope=row>2</th><td>2.4988102</td><td>V2       </td></tr>\n",
       "\t<tr><th scope=row>3</th><td>2.2556509</td><td>V3       </td></tr>\n",
       "\t<tr><th scope=row>5</th><td>1.2867640</td><td>V302     </td></tr>\n",
       "\t<tr><th scope=row>4</th><td>1.2273035</td><td>V301     </td></tr>\n",
       "\t<tr><th scope=row>6</th><td>0.9937659</td><td>V303     </td></tr>\n",
       "\t<tr><th scope=row>NA</th><td>       NA</td><td>NA       </td></tr>\n",
       "\t<tr><th scope=row>NA.1</th><td>       NA</td><td>NA       </td></tr>\n",
       "\t<tr><th scope=row>NA.2</th><td>       NA</td><td>NA       </td></tr>\n",
       "\t<tr><th scope=row>NA.3</th><td>       NA</td><td>NA       </td></tr>\n",
       "</tbody>\n",
       "</table>\n"
      ],
      "text/latex": [
       "\\begin{tabular}{r|ll}\n",
       "  & overall & names\\\\\n",
       "\\hline\n",
       "\t1 & 3.0351657 & V1       \\\\\n",
       "\t2 & 2.4988102 & V2       \\\\\n",
       "\t3 & 2.2556509 & V3       \\\\\n",
       "\t5 & 1.2867640 & V302     \\\\\n",
       "\t4 & 1.2273035 & V301     \\\\\n",
       "\t6 & 0.9937659 & V303     \\\\\n",
       "\tNA &        NA & NA       \\\\\n",
       "\tNA.1 &        NA & NA       \\\\\n",
       "\tNA.2 &        NA & NA       \\\\\n",
       "\tNA.3 &        NA & NA       \\\\\n",
       "\\end{tabular}\n"
      ],
      "text/markdown": [
       "\n",
       "| <!--/--> | overall | names |\n",
       "|---|---|---|\n",
       "| 1 | 3.0351657 | V1        |\n",
       "| 2 | 2.4988102 | V2        |\n",
       "| 3 | 2.2556509 | V3        |\n",
       "| 5 | 1.2867640 | V302      |\n",
       "| 4 | 1.2273035 | V301      |\n",
       "| 6 | 0.9937659 | V303      |\n",
       "| NA |        NA | NA        |\n",
       "| NA.1 |        NA | NA        |\n",
       "| NA.2 |        NA | NA        |\n",
       "| NA.3 |        NA | NA        |\n",
       "\n"
      ],
      "text/plain": [
       "     overall   names\n",
       "1    3.0351657 V1   \n",
       "2    2.4988102 V2   \n",
       "3    2.2556509 V3   \n",
       "5    1.2867640 V302 \n",
       "4    1.2273035 V301 \n",
       "6    0.9937659 V303 \n",
       "NA          NA NA   \n",
       "NA.1        NA NA   \n",
       "NA.2        NA NA   \n",
       "NA.3        NA NA   "
      ]
     },
     "metadata": {},
     "output_type": "display_data"
    },
    {
     "data": {
      "text/html": [
       "42.942995212651"
      ],
      "text/latex": [
       "42.942995212651"
      ],
      "text/markdown": [
       "42.942995212651"
      ],
      "text/plain": [
       "[1] 42.943"
      ]
     },
     "metadata": {},
     "output_type": "display_data"
    },
    {
     "data": {
      "image/png": "[encoded data removed]",
      "text/plain": [
       "Plot with title \"CART\""
      ]
     },
     "metadata": {},
     "output_type": "display_data"
    }
   ],
   "source": [
    "# CART\n",
    "system.time({\n",
    "cart_tree <- rpart(Formula,\n",
    "   method=\"anova\", data=data)\n",
    "})\n",
    "\n",
    "#variable importance ranking\n",
    "imp <- as.data.frame(varImp(cart_tree))\n",
    "imp <- data.frame(overall = imp$Overall,\n",
    "           names   = rownames(imp))\n",
    "imp[order(imp$overall,decreasing = T),][1:10,]\n",
    "\n",
    "# mean square error\n",
    "sum((predict(cart_tree,newdata=data_test)-data_test$y)**2)/(n*T)\n",
    "\n",
    "#plot\n",
    "plot(cart_tree, uniform=TRUE,\n",
    "   main=\"CART\")\n",
    "text(cart_tree, use.n=TRUE, all=TRUE, cex=.8)"
   ]
  },
  {
   "cell_type": "code",
   "execution_count": 6,
   "metadata": {},
   "outputs": [
    {
     "data": {
      "text/plain": [
       "   user  system elapsed \n",
       "  26.11    0.30   31.89 "
      ]
     },
     "metadata": {},
     "output_type": "display_data"
    },
    {
     "data": {
      "text/html": [
       "32.2161682759479"
      ],
      "text/latex": [
       "32.2161682759479"
      ],
      "text/markdown": [
       "32.2161682759479"
      ],
      "text/plain": [
       "[1] 32.21617"
      ]
     },
     "metadata": {},
     "output_type": "display_data"
    },
    {
     "data": {
      "image/png": "[encoded data removed]",
      "text/plain": [
       "Plot with title \"RF Variable Importance\""
      ]
     },
     "metadata": {},
     "output_type": "display_data"
    }
   ],
   "source": [
    "# random forest\n",
    "X = data[,1:400]\n",
    "y = data$y\n",
    "system.time({\n",
    "    rf <- randomForest(X,y)\n",
    "})\n",
    "mean((predict(rf,newdata=data_test[,1:400])-data_test$y)**2)\n",
    "varImpPlot(rf,type=2,main=\"RF Variable Importance\")"
   ]
  },
  {
   "cell_type": "code",
   "execution_count": null,
   "metadata": {},
   "outputs": [],
   "source": [
    "# fuzzy forest\n",
    "# Fuzzy Forest\n",
    "# params is stored in xxx_control object\n",
    "# power: belta (I choose it without much care)\n",
    "WGCNA_params = WGCNA_control(power=3,TOMType=\"unsigned\",minModuleSize=30,\n",
    "                            numericLabels=TRUE,pamRespectsDendro=FALSE)\n",
    "\n",
    "mtry_factor     = 1 # mtry = sqrt(p)*mtry_factor; mtry is the num in subspace method\n",
    "drop_fraction   = 0.25 # drop xxx in each iteration of RFE-RF\n",
    "number_selected = 8 # we want 10 out of all features\n",
    "keep_fraction   = 0.05 # keep xxx for each module\n",
    "min_ntree        = 500 # used for calculating ntree\n",
    "ntree_factor    = 5 # used for calculating ntree\n",
    "final_ntree     = 500 # RF in selecting step\n",
    "\n",
    "screen_params = screen_control(drop_fraction = drop_fraction,\n",
    "                              keep_fraction  = keep_fraction,\n",
    "                              min_ntree      = min_ntree,\n",
    "                              mtry_factor    = mtry_factor,\n",
    "                              ntree_factor   = ntree_factor)\n",
    "\n",
    "select_params = select_control(drop_fraction  = drop_fraction,\n",
    "                              number_selected = number_selected,\n",
    "                              min_ntree       = min_ntree,\n",
    "                              mtry_factor     = mtry_factor,\n",
    "                              ntree_factor    = ntree_factor)    \n",
    "\n",
    "# a \"fuzzy_forest\" object\n",
    "system.time({\n",
    "wff_fit = wff(X,y,WGCNA_params = WGCNA_params,\n",
    "             screen_params = screen_params,\n",
    "             select_params = select_params,\n",
    "             final_ntree = final_ntree)\n",
    "})\n",
    "\n",
    "sum((predict(wff_fit,new_data=data_test[,1:400])-data_test$y)**2)/(n*T)\n",
    "varImpPlot(wff_fit$final_rf,type=2,main=\"FF Variable Importance\")"
   ]
  },
  {
   "cell_type": "markdown",
   "metadata": {},
   "source": [
    "# A dump Test and glmertree cannot solve!"
   ]
  },
  {
   "cell_type": "code",
   "execution_count": null,
   "metadata": {},
   "outputs": [],
   "source": [
    "set.seed(10)\n",
    "# no time structure X is n*p matrix\n",
    "n = 60\n",
    "p = 5\n",
    "X = mvrnorm(n=n,rep(0,p),diag(p))\n",
    "y = X[,1]*X[,2]*X[,4]\n",
    "data = data.frame(cbind(X,y))\n",
    "data$patient = c(rep(0,n/2),rep(1,n/2))\n",
    "# data"
   ]
  },
  {
   "cell_type": "code",
   "execution_count": null,
   "metadata": {},
   "outputs": [],
   "source": [
    "regress_var = paste(\"V\",1:5,sep=\"\")\n",
    "split_var = regress_var\n",
    "cluster_var = \"patient\"\n",
    "Formula = as.formula(paste(\"y~\",\"V2+V4\",\n",
    "                           \"|\",\"cluster_var\",\"|\",\n",
    "                          \"V1\"))\n",
    "Formula"
   ]
  },
  {
   "cell_type": "code",
   "execution_count": null,
   "metadata": {},
   "outputs": [],
   "source": [
    "system.time({\n",
    "    lmm_tree <- lmertree(Formula, data = data)\n",
    "})\n",
    "plot(lmm_tree,which=\"tree\")"
   ]
  }
 ],
 "metadata": {
  "kernelspec": {
   "display_name": "R",
   "language": "R",
   "name": "ir"
  },
  "language_info": {
   "codemirror_mode": "r",
   "file_extension": ".r",
   "mimetype": "text/x-r-source",
   "name": "R",
   "pygments_lexer": "r",
   "version": "3.6.0"
  }
 },
 "nbformat": 4,
 "nbformat_minor": 2
}
