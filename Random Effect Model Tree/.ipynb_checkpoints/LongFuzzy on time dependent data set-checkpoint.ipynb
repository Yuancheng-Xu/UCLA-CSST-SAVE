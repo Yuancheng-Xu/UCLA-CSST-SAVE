{
 "cells": [
  {
   "cell_type": "code",
   "execution_count": 1,
   "metadata": {},
   "outputs": [
    {
     "name": "stderr",
     "output_type": "stream",
     "text": [
      "Warning message:\n",
      "\"package 'partykit' was built under R version 3.6.1\"Loading required package: grid\n",
      "Loading required package: libcoin\n",
      "Warning message:\n",
      "\"package 'libcoin' was built under R version 3.6.1\"Loading required package: mvtnorm\n",
      "Warning message:\n",
      "\"package 'party' was built under R version 3.6.1\"Loading required package: modeltools\n",
      "Loading required package: stats4\n",
      "Loading required package: strucchange\n",
      "Warning message:\n",
      "\"package 'strucchange' was built under R version 3.6.1\"Loading required package: zoo\n",
      "\n",
      "Attaching package: 'zoo'\n",
      "\n",
      "The following objects are masked from 'package:base':\n",
      "\n",
      "    as.Date, as.Date.numeric\n",
      "\n",
      "Loading required package: sandwich\n",
      "Warning message:\n",
      "\"package 'sandwich' was built under R version 3.6.1\"\n",
      "Attaching package: 'party'\n",
      "\n",
      "The following objects are masked from 'package:partykit':\n",
      "\n",
      "    cforest, ctree, ctree_control, edge_simple, mob, mob_control,\n",
      "    node_barplot, node_bivplot, node_boxplot, node_inner, node_surv,\n",
      "    node_terminal, varimp\n",
      "\n",
      "Warning message:\n",
      "\"package 'glmertree' was built under R version 3.6.1\"Loading required package: lme4\n",
      "Warning message:\n",
      "\"package 'lme4' was built under R version 3.6.1\"Loading required package: Matrix\n",
      "\n",
      "Attaching package: 'lme4'\n",
      "\n",
      "The following object is masked from 'package:modeltools':\n",
      "\n",
      "    refit\n",
      "\n",
      "Loading required package: lattice\n",
      "Loading required package: ggplot2\n",
      "Registered S3 methods overwritten by 'ggplot2':\n",
      "  method         from \n",
      "  [.quosures     rlang\n",
      "  c.quosures     rlang\n",
      "  print.quosures rlang\n",
      "randomForest 4.6-14\n",
      "Type rfNews() to see new features/changes/bug fixes.\n",
      "\n",
      "Attaching package: 'randomForest'\n",
      "\n",
      "The following object is masked from 'package:ggplot2':\n",
      "\n",
      "    margin\n",
      "\n",
      "Warning message:\n",
      "\"package 'fuzzyforest' was built under R version 3.6.1\"\n",
      "Warning message:\n",
      "\"package 'WGCNA' was built under R version 3.6.1\"Loading required package: dynamicTreeCut\n",
      "Loading required package: fastcluster\n",
      "\n",
      "Attaching package: 'fastcluster'\n",
      "\n",
      "The following object is masked from 'package:stats':\n",
      "\n",
      "    hclust\n",
      "\n",
      "\n",
      "Attaching package: 'WGCNA'\n",
      "\n",
      "The following object is masked from 'package:stats':\n",
      "\n",
      "    cor\n",
      "\n",
      "Warning message:\n",
      "\"package 'pre' was built under R version 3.6.1\"\n",
      "Attaching package: 'pre'\n",
      "\n",
      "The following object is masked from 'package:randomForest':\n",
      "\n",
      "    importance\n",
      "\n",
      "Warning message:\n",
      "\"package 'REEMtree' was built under R version 3.6.1\"Loading required package: nlme\n",
      "\n",
      "Attaching package: 'nlme'\n",
      "\n",
      "The following object is masked from 'package:lme4':\n",
      "\n",
      "    lmList\n",
      "\n"
     ]
    }
   ],
   "source": [
    "# install.packages(\"partykit\")\n",
    "# install.packages(\"pre\")\n",
    "library(\"partykit\")\n",
    "source(\"SimData.r\")\n",
    "library(\"party\")\n",
    "library(MASS)\n",
    "library(\"glmertree\")\n",
    "library(\"caret\") # importance and rfe\n",
    "source(\"SimData.r\")\n",
    "library(\"randomForest\")\n",
    "library(\"rpart\")\n",
    "library(\"fuzzyforest\")\n",
    "library(\"WGCNA\")\n",
    "library(\"pre\")\n",
    "library(REEMtree)"
   ]
  },
  {
   "cell_type": "markdown",
   "metadata": {},
   "source": [
    "# data"
   ]
  },
  {
   "cell_type": "code",
   "execution_count": 2,
   "metadata": {},
   "outputs": [
    {
     "data": {
      "text/html": [
       "<table>\n",
       "<thead><tr><th scope=col>V1</th><th scope=col>V2</th><th scope=col>V3</th><th scope=col>V4</th><th scope=col>V5</th><th scope=col>V6</th><th scope=col>V7</th><th scope=col>V8</th><th scope=col>V9</th><th scope=col>V10</th><th scope=col>...</th><th scope=col>V400</th><th scope=col>rand_int</th><th scope=col>time</th><th scope=col>treatment</th><th scope=col>patient</th><th scope=col>y</th><th scope=col>PC1</th><th scope=col>PC2</th><th scope=col>PC3</th><th scope=col>time2</th></tr></thead>\n",
       "<tbody>\n",
       "\t<tr><td>-0.22639210</td><td> 0.81443928</td><td>-0.18860973</td><td> 0.04338155</td><td> 0.37014582</td><td>0.6551589  </td><td>-0.17059459</td><td> 0.24426073</td><td>-0.20974352</td><td> 0.1123240 </td><td>...        </td><td> 1.2914083 </td><td>-1.1292200 </td><td>1          </td><td>1          </td><td>1          </td><td> 9.524252  </td><td> 0.62389770</td><td>-10.1083062</td><td>-4.4945580 </td><td> 1         </td></tr>\n",
       "\t<tr><td> 0.68677964</td><td> 0.57248556</td><td> 1.24667973</td><td> 1.23135441</td><td> 1.49959068</td><td>0.5091811  </td><td> 0.78242384</td><td> 0.97656076</td><td> 1.28591876</td><td> 0.4078879 </td><td>...        </td><td> 0.6706417 </td><td>-1.1292200 </td><td>2          </td><td>1          </td><td>1          </td><td>18.428301  </td><td> 8.65590878</td><td>  4.1090531</td><td> 1.1019176 </td><td> 4         </td></tr>\n",
       "\t<tr><td> 0.13318218</td><td>-0.31200261</td><td>-0.03291953</td><td>-0.30982433</td><td>-1.19590729</td><td>0.2999424  </td><td>-0.08408689</td><td> 0.02549711</td><td>-0.25523483</td><td>-0.4869125 </td><td>...        </td><td>-0.3064880 </td><td>-1.1292200 </td><td>3          </td><td>1          </td><td>1          </td><td> 0.212801  </td><td>-0.07441721</td><td>  6.4346365</td><td>-0.7594888 </td><td> 9         </td></tr>\n",
       "\t<tr><td> 1.12524619</td><td> 0.98390428</td><td> 0.40812092</td><td> 1.82101104</td><td> 1.73652356</td><td>0.8785987  </td><td> 0.64457809</td><td> 1.26073687</td><td> 1.23596118</td><td> 1.0116215 </td><td>...        </td><td>-2.1996032 </td><td>-1.1292200 </td><td>4          </td><td>1          </td><td>1          </td><td> 5.338540  </td><td>13.97829585</td><td>  3.6413830</td><td> 7.7590574 </td><td>16         </td></tr>\n",
       "\t<tr><td> 0.08731483</td><td> 0.06145538</td><td> 0.95790617</td><td>-0.58046754</td><td> 0.01387623</td><td>0.2118406  </td><td> 0.14765551</td><td>-0.21176913</td><td>-0.08791745</td><td> 0.0147104 </td><td>...        </td><td>-0.3475930 </td><td>-1.1292200 </td><td>5          </td><td>1          </td><td>1          </td><td>30.596277  </td><td>-0.96755639</td><td>-12.8179006</td><td> 0.9656345 </td><td>25         </td></tr>\n",
       "\t<tr><td> 0.95526683</td><td> 1.14314341</td><td> 1.55470983</td><td> 0.78913108</td><td> 1.00692117</td><td>0.6834258  </td><td> 1.32285818</td><td> 1.06078330</td><td> 1.44416315</td><td> 2.4706603 </td><td>...        </td><td> 0.7219095 </td><td>-0.1064768 </td><td>1          </td><td>1          </td><td>2          </td><td>45.359753  </td><td>13.99136538</td><td> -0.1321276</td><td> 2.7455526 </td><td> 1         </td></tr>\n",
       "</tbody>\n",
       "</table>\n"
      ],
      "text/latex": [
       "\\begin{tabular}{r|lllllllllllllllllllllllllllllllllllllllllllllllllllllllllllllllllllllllllllllllllllllllllllllllllllllllllllllllllllllllllllllllllllllllllllllllllllllllllllllllllllllllllllllllllllllllllllllllllllllllllllllllllllllllllllllllllllllllllllllllllllllllllllllllllllllllllllllllllllllllllllllllllllllllllllllllllllllllllllllllllllllllllllllllllllllllllllllllllllllllllllllllllllllllllllllllllllllllllllllllllllllllll}\n",
       " V1 & V2 & V3 & V4 & V5 & V6 & V7 & V8 & V9 & V10 & ... & V400 & rand\\_int & time & treatment & patient & y & PC1 & PC2 & PC3 & time2\\\\\n",
       "\\hline\n",
       "\t -0.22639210 &  0.81443928 & -0.18860973 &  0.04338155 &  0.37014582 & 0.6551589   & -0.17059459 &  0.24426073 & -0.20974352 &  0.1123240  & ...         &  1.2914083  & -1.1292200  & 1           & 1           & 1           &  9.524252   &  0.62389770 & -10.1083062 & -4.4945580  &  1         \\\\\n",
       "\t  0.68677964 &  0.57248556 &  1.24667973 &  1.23135441 &  1.49959068 & 0.5091811   &  0.78242384 &  0.97656076 &  1.28591876 &  0.4078879  & ...         &  0.6706417  & -1.1292200  & 2           & 1           & 1           & 18.428301   &  8.65590878 &   4.1090531 &  1.1019176  &  4         \\\\\n",
       "\t  0.13318218 & -0.31200261 & -0.03291953 & -0.30982433 & -1.19590729 & 0.2999424   & -0.08408689 &  0.02549711 & -0.25523483 & -0.4869125  & ...         & -0.3064880  & -1.1292200  & 3           & 1           & 1           &  0.212801   & -0.07441721 &   6.4346365 & -0.7594888  &  9         \\\\\n",
       "\t  1.12524619 &  0.98390428 &  0.40812092 &  1.82101104 &  1.73652356 & 0.8785987   &  0.64457809 &  1.26073687 &  1.23596118 &  1.0116215  & ...         & -2.1996032  & -1.1292200  & 4           & 1           & 1           &  5.338540   & 13.97829585 &   3.6413830 &  7.7590574  & 16         \\\\\n",
       "\t  0.08731483 &  0.06145538 &  0.95790617 & -0.58046754 &  0.01387623 & 0.2118406   &  0.14765551 & -0.21176913 & -0.08791745 &  0.0147104  & ...         & -0.3475930  & -1.1292200  & 5           & 1           & 1           & 30.596277   & -0.96755639 & -12.8179006 &  0.9656345  & 25         \\\\\n",
       "\t  0.95526683 &  1.14314341 &  1.55470983 &  0.78913108 &  1.00692117 & 0.6834258   &  1.32285818 &  1.06078330 &  1.44416315 &  2.4706603  & ...         &  0.7219095  & -0.1064768  & 1           & 1           & 2           & 45.359753   & 13.99136538 &  -0.1321276 &  2.7455526  &  1         \\\\\n",
       "\\end{tabular}\n"
      ],
      "text/markdown": [
       "\n",
       "| V1 | V2 | V3 | V4 | V5 | V6 | V7 | V8 | V9 | V10 | ... | V400 | rand_int | time | treatment | patient | y | PC1 | PC2 | PC3 | time2 |\n",
       "|---|---|---|---|---|---|---|---|---|---|---|---|---|---|---|---|---|---|---|---|---|\n",
       "| -0.22639210 |  0.81443928 | -0.18860973 |  0.04338155 |  0.37014582 | 0.6551589   | -0.17059459 |  0.24426073 | -0.20974352 |  0.1123240  | ...         |  1.2914083  | -1.1292200  | 1           | 1           | 1           |  9.524252   |  0.62389770 | -10.1083062 | -4.4945580  |  1          |\n",
       "|  0.68677964 |  0.57248556 |  1.24667973 |  1.23135441 |  1.49959068 | 0.5091811   |  0.78242384 |  0.97656076 |  1.28591876 |  0.4078879  | ...         |  0.6706417  | -1.1292200  | 2           | 1           | 1           | 18.428301   |  8.65590878 |   4.1090531 |  1.1019176  |  4          |\n",
       "|  0.13318218 | -0.31200261 | -0.03291953 | -0.30982433 | -1.19590729 | 0.2999424   | -0.08408689 |  0.02549711 | -0.25523483 | -0.4869125  | ...         | -0.3064880  | -1.1292200  | 3           | 1           | 1           |  0.212801   | -0.07441721 |   6.4346365 | -0.7594888  |  9          |\n",
       "|  1.12524619 |  0.98390428 |  0.40812092 |  1.82101104 |  1.73652356 | 0.8785987   |  0.64457809 |  1.26073687 |  1.23596118 |  1.0116215  | ...         | -2.1996032  | -1.1292200  | 4           | 1           | 1           |  5.338540   | 13.97829585 |   3.6413830 |  7.7590574  | 16          |\n",
       "|  0.08731483 |  0.06145538 |  0.95790617 | -0.58046754 |  0.01387623 | 0.2118406   |  0.14765551 | -0.21176913 | -0.08791745 |  0.0147104  | ...         | -0.3475930  | -1.1292200  | 5           | 1           | 1           | 30.596277   | -0.96755639 | -12.8179006 |  0.9656345  | 25          |\n",
       "|  0.95526683 |  1.14314341 |  1.55470983 |  0.78913108 |  1.00692117 | 0.6834258   |  1.32285818 |  1.06078330 |  1.44416315 |  2.4706603  | ...         |  0.7219095  | -0.1064768  | 1           | 1           | 2           | 45.359753   | 13.99136538 |  -0.1321276 |  2.7455526  |  1          |\n",
       "\n"
      ],
      "text/plain": [
       "  V1          V2          V3          V4          V5          V6       \n",
       "1 -0.22639210  0.81443928 -0.18860973  0.04338155  0.37014582 0.6551589\n",
       "2  0.68677964  0.57248556  1.24667973  1.23135441  1.49959068 0.5091811\n",
       "3  0.13318218 -0.31200261 -0.03291953 -0.30982433 -1.19590729 0.2999424\n",
       "4  1.12524619  0.98390428  0.40812092  1.82101104  1.73652356 0.8785987\n",
       "5  0.08731483  0.06145538  0.95790617 -0.58046754  0.01387623 0.2118406\n",
       "6  0.95526683  1.14314341  1.55470983  0.78913108  1.00692117 0.6834258\n",
       "  V7          V8          V9          V10        ... V400       rand_int   time\n",
       "1 -0.17059459  0.24426073 -0.20974352  0.1123240 ...  1.2914083 -1.1292200 1   \n",
       "2  0.78242384  0.97656076  1.28591876  0.4078879 ...  0.6706417 -1.1292200 2   \n",
       "3 -0.08408689  0.02549711 -0.25523483 -0.4869125 ... -0.3064880 -1.1292200 3   \n",
       "4  0.64457809  1.26073687  1.23596118  1.0116215 ... -2.1996032 -1.1292200 4   \n",
       "5  0.14765551 -0.21176913 -0.08791745  0.0147104 ... -0.3475930 -1.1292200 5   \n",
       "6  1.32285818  1.06078330  1.44416315  2.4706603 ...  0.7219095 -0.1064768 1   \n",
       "  treatment patient y         PC1         PC2         PC3        time2\n",
       "1 1         1        9.524252  0.62389770 -10.1083062 -4.4945580  1   \n",
       "2 1         1       18.428301  8.65590878   4.1090531  1.1019176  4   \n",
       "3 1         1        0.212801 -0.07441721   6.4346365 -0.7594888  9   \n",
       "4 1         1        5.338540 13.97829585   3.6413830  7.7590574 16   \n",
       "5 1         1       30.596277 -0.96755639 -12.8179006  0.9656345 25   \n",
       "6 1         2       45.359753 13.99136538  -0.1321276  2.7455526  1   "
      ]
     },
     "metadata": {},
     "output_type": "display_data"
    }
   ],
   "source": [
    "# training data\n",
    "n <- 300 # number of patients\n",
    "T <-  5 # number of observations per patients\n",
    "\n",
    "set.seed(100)\n",
    "\n",
    "data <- sim_quad(n,T)\n",
    "\n",
    "\n",
    "#add PC\n",
    "data$PC1 = (prcomp(data[,1:100], scale = TRUE)$x)[,1]\n",
    "# data$PC1 = scale(data$PC1)/norm(scale(data$PC1),type=\"2\")\n",
    "data$PC2 = (prcomp(data[,101:200], scale = TRUE)$x)[,1]\n",
    "data$PC3 = (prcomp(data[,201:300], scale = TRUE)$x)[,1]\n",
    "\n",
    "# add time_squared\n",
    "data$time2 = (data$time)^2\n",
    "\n",
    "# # add group*time interaction\n",
    "# data$time_G1 = data$time * data$group1 # b1, time*group1\n",
    "# data$time_G2 = data$time * data$group2 # b2\n",
    "# data$time2_G1 = (data$time)^2 * data$group1 # b1 time^2 * group1\n",
    "# data$time2_G2 = (data$time)^2 * data$group2 # b2\n",
    "\n",
    "\n",
    "head(data)"
   ]
  },
  {
   "cell_type": "code",
   "execution_count": 3,
   "metadata": {},
   "outputs": [
    {
     "data": {
      "text/html": [
       "<table>\n",
       "<thead><tr><th scope=col>V1</th><th scope=col>V2</th><th scope=col>V3</th><th scope=col>V4</th><th scope=col>V5</th><th scope=col>V6</th><th scope=col>V7</th><th scope=col>V8</th><th scope=col>V9</th><th scope=col>V10</th><th scope=col>...</th><th scope=col>V400</th><th scope=col>rand_int</th><th scope=col>time</th><th scope=col>treatment</th><th scope=col>patient</th><th scope=col>y</th><th scope=col>PC1</th><th scope=col>PC2</th><th scope=col>PC3</th><th scope=col>time2</th></tr></thead>\n",
       "<tbody>\n",
       "\t<tr><td>-0.1794102 </td><td>-0.7293793 </td><td>-0.5451425 </td><td>-0.6759157 </td><td>-0.69938339</td><td>-0.7425785 </td><td>-0.36740919</td><td>-0.05614226</td><td>-0.4689813 </td><td>-0.9957741 </td><td>...        </td><td> 0.04467189</td><td>0.9913158  </td><td>1          </td><td>1          </td><td>1          </td><td>17.982681  </td><td>-4.052595  </td><td>-11.7896739</td><td>-2.429686  </td><td> 1         </td></tr>\n",
       "\t<tr><td> 0.8907442 </td><td> 2.0446333 </td><td> 2.2867130 </td><td> 1.9176666 </td><td> 1.18491329</td><td> 1.4608648 </td><td> 1.57879314</td><td> 1.51672880</td><td> 1.4702505 </td><td> 1.8208692 </td><td>...        </td><td> 0.56829129</td><td>0.9913158  </td><td>2          </td><td>1          </td><td>1          </td><td>39.950832  </td><td>18.372992  </td><td> -6.1072477</td><td> 5.657972  </td><td> 4         </td></tr>\n",
       "\t<tr><td> 0.2463468 </td><td>-0.3266239 </td><td>-0.1396596 </td><td>-0.1119510 </td><td> 0.39615391</td><td> 0.7130694 </td><td>-0.56640362</td><td> 0.43538748</td><td> 0.3228802 </td><td> 0.1798426 </td><td>...        </td><td>-0.61422493</td><td>0.9913158  </td><td>3          </td><td>1          </td><td>1          </td><td>-2.840054  </td><td> 1.099723  </td><td> -2.7001757</td><td>-5.626646  </td><td> 9         </td></tr>\n",
       "\t<tr><td>-0.6415846 </td><td>-0.1170245 </td><td>-1.2137791 </td><td>-1.4818147 </td><td>-1.02402806</td><td>-0.8341220 </td><td>-0.92867891</td><td>-0.63758937</td><td>-1.6522012 </td><td>-1.5747861 </td><td>...        </td><td> 0.56752086</td><td>0.9913158  </td><td>4          </td><td>1          </td><td>1          </td><td>-5.957963  </td><td>-8.471346  </td><td> -5.2856326</td><td> 2.560440  </td><td>16         </td></tr>\n",
       "\t<tr><td>-1.2865155 </td><td> 0.1642321 </td><td> 0.6040035 </td><td>-0.2489238 </td><td>-0.39677846</td><td> 0.3232312 </td><td> 0.02991788</td><td>-0.93041047</td><td>-0.5375453 </td><td> 0.2817597 </td><td>...        </td><td> 0.18072176</td><td>0.9913158  </td><td>5          </td><td>1          </td><td>1          </td><td>11.513002  </td><td> 0.974368  </td><td> -0.1528867</td><td> 3.451664  </td><td>25         </td></tr>\n",
       "\t<tr><td> 0.6467019 </td><td>-0.6255761 </td><td> 0.4649954 </td><td> 0.4595883 </td><td> 0.08918262</td><td>-0.4334162 </td><td> 0.08811692</td><td> 0.20140550</td><td> 0.1705507 </td><td>-0.2342035 </td><td>...        </td><td>-3.27472578</td><td>0.6967010  </td><td>1          </td><td>1          </td><td>2          </td><td>19.294548  </td><td> 2.479159  </td><td>  2.4828303</td><td>11.382378  </td><td> 1         </td></tr>\n",
       "</tbody>\n",
       "</table>\n"
      ],
      "text/latex": [
       "\\begin{tabular}{r|lllllllllllllllllllllllllllllllllllllllllllllllllllllllllllllllllllllllllllllllllllllllllllllllllllllllllllllllllllllllllllllllllllllllllllllllllllllllllllllllllllllllllllllllllllllllllllllllllllllllllllllllllllllllllllllllllllllllllllllllllllllllllllllllllllllllllllllllllllllllllllllllllllllllllllllllllllllllllllllllllllllllllllllllllllllllllllllllllllllllllllllllllllllllllllllllllllllllllllllllllllllllll}\n",
       " V1 & V2 & V3 & V4 & V5 & V6 & V7 & V8 & V9 & V10 & ... & V400 & rand\\_int & time & treatment & patient & y & PC1 & PC2 & PC3 & time2\\\\\n",
       "\\hline\n",
       "\t -0.1794102  & -0.7293793  & -0.5451425  & -0.6759157  & -0.69938339 & -0.7425785  & -0.36740919 & -0.05614226 & -0.4689813  & -0.9957741  & ...         &  0.04467189 & 0.9913158   & 1           & 1           & 1           & 17.982681   & -4.052595   & -11.7896739 & -2.429686   &  1         \\\\\n",
       "\t  0.8907442  &  2.0446333  &  2.2867130  &  1.9176666  &  1.18491329 &  1.4608648  &  1.57879314 &  1.51672880 &  1.4702505  &  1.8208692  & ...         &  0.56829129 & 0.9913158   & 2           & 1           & 1           & 39.950832   & 18.372992   &  -6.1072477 &  5.657972   &  4         \\\\\n",
       "\t  0.2463468  & -0.3266239  & -0.1396596  & -0.1119510  &  0.39615391 &  0.7130694  & -0.56640362 &  0.43538748 &  0.3228802  &  0.1798426  & ...         & -0.61422493 & 0.9913158   & 3           & 1           & 1           & -2.840054   &  1.099723   &  -2.7001757 & -5.626646   &  9         \\\\\n",
       "\t -0.6415846  & -0.1170245  & -1.2137791  & -1.4818147  & -1.02402806 & -0.8341220  & -0.92867891 & -0.63758937 & -1.6522012  & -1.5747861  & ...         &  0.56752086 & 0.9913158   & 4           & 1           & 1           & -5.957963   & -8.471346   &  -5.2856326 &  2.560440   & 16         \\\\\n",
       "\t -1.2865155  &  0.1642321  &  0.6040035  & -0.2489238  & -0.39677846 &  0.3232312  &  0.02991788 & -0.93041047 & -0.5375453  &  0.2817597  & ...         &  0.18072176 & 0.9913158   & 5           & 1           & 1           & 11.513002   &  0.974368   &  -0.1528867 &  3.451664   & 25         \\\\\n",
       "\t  0.6467019  & -0.6255761  &  0.4649954  &  0.4595883  &  0.08918262 & -0.4334162  &  0.08811692 &  0.20140550 &  0.1705507  & -0.2342035  & ...         & -3.27472578 & 0.6967010   & 1           & 1           & 2           & 19.294548   &  2.479159   &   2.4828303 & 11.382378   &  1         \\\\\n",
       "\\end{tabular}\n"
      ],
      "text/markdown": [
       "\n",
       "| V1 | V2 | V3 | V4 | V5 | V6 | V7 | V8 | V9 | V10 | ... | V400 | rand_int | time | treatment | patient | y | PC1 | PC2 | PC3 | time2 |\n",
       "|---|---|---|---|---|---|---|---|---|---|---|---|---|---|---|---|---|---|---|---|---|\n",
       "| -0.1794102  | -0.7293793  | -0.5451425  | -0.6759157  | -0.69938339 | -0.7425785  | -0.36740919 | -0.05614226 | -0.4689813  | -0.9957741  | ...         |  0.04467189 | 0.9913158   | 1           | 1           | 1           | 17.982681   | -4.052595   | -11.7896739 | -2.429686   |  1          |\n",
       "|  0.8907442  |  2.0446333  |  2.2867130  |  1.9176666  |  1.18491329 |  1.4608648  |  1.57879314 |  1.51672880 |  1.4702505  |  1.8208692  | ...         |  0.56829129 | 0.9913158   | 2           | 1           | 1           | 39.950832   | 18.372992   |  -6.1072477 |  5.657972   |  4          |\n",
       "|  0.2463468  | -0.3266239  | -0.1396596  | -0.1119510  |  0.39615391 |  0.7130694  | -0.56640362 |  0.43538748 |  0.3228802  |  0.1798426  | ...         | -0.61422493 | 0.9913158   | 3           | 1           | 1           | -2.840054   |  1.099723   |  -2.7001757 | -5.626646   |  9          |\n",
       "| -0.6415846  | -0.1170245  | -1.2137791  | -1.4818147  | -1.02402806 | -0.8341220  | -0.92867891 | -0.63758937 | -1.6522012  | -1.5747861  | ...         |  0.56752086 | 0.9913158   | 4           | 1           | 1           | -5.957963   | -8.471346   |  -5.2856326 |  2.560440   | 16          |\n",
       "| -1.2865155  |  0.1642321  |  0.6040035  | -0.2489238  | -0.39677846 |  0.3232312  |  0.02991788 | -0.93041047 | -0.5375453  |  0.2817597  | ...         |  0.18072176 | 0.9913158   | 5           | 1           | 1           | 11.513002   |  0.974368   |  -0.1528867 |  3.451664   | 25          |\n",
       "|  0.6467019  | -0.6255761  |  0.4649954  |  0.4595883  |  0.08918262 | -0.4334162  |  0.08811692 |  0.20140550 |  0.1705507  | -0.2342035  | ...         | -3.27472578 | 0.6967010   | 1           | 1           | 2           | 19.294548   |  2.479159   |   2.4828303 | 11.382378   |  1          |\n",
       "\n"
      ],
      "text/plain": [
       "  V1         V2         V3         V4         V5          V6        \n",
       "1 -0.1794102 -0.7293793 -0.5451425 -0.6759157 -0.69938339 -0.7425785\n",
       "2  0.8907442  2.0446333  2.2867130  1.9176666  1.18491329  1.4608648\n",
       "3  0.2463468 -0.3266239 -0.1396596 -0.1119510  0.39615391  0.7130694\n",
       "4 -0.6415846 -0.1170245 -1.2137791 -1.4818147 -1.02402806 -0.8341220\n",
       "5 -1.2865155  0.1642321  0.6040035 -0.2489238 -0.39677846  0.3232312\n",
       "6  0.6467019 -0.6255761  0.4649954  0.4595883  0.08918262 -0.4334162\n",
       "  V7          V8          V9         V10        ... V400        rand_int  time\n",
       "1 -0.36740919 -0.05614226 -0.4689813 -0.9957741 ...  0.04467189 0.9913158 1   \n",
       "2  1.57879314  1.51672880  1.4702505  1.8208692 ...  0.56829129 0.9913158 2   \n",
       "3 -0.56640362  0.43538748  0.3228802  0.1798426 ... -0.61422493 0.9913158 3   \n",
       "4 -0.92867891 -0.63758937 -1.6522012 -1.5747861 ...  0.56752086 0.9913158 4   \n",
       "5  0.02991788 -0.93041047 -0.5375453  0.2817597 ...  0.18072176 0.9913158 5   \n",
       "6  0.08811692  0.20140550  0.1705507 -0.2342035 ... -3.27472578 0.6967010 1   \n",
       "  treatment patient y         PC1       PC2         PC3       time2\n",
       "1 1         1       17.982681 -4.052595 -11.7896739 -2.429686  1   \n",
       "2 1         1       39.950832 18.372992  -6.1072477  5.657972  4   \n",
       "3 1         1       -2.840054  1.099723  -2.7001757 -5.626646  9   \n",
       "4 1         1       -5.957963 -8.471346  -5.2856326  2.560440 16   \n",
       "5 1         1       11.513002  0.974368  -0.1528867  3.451664 25   \n",
       "6 1         2       19.294548  2.479159   2.4828303 11.382378  1   "
      ]
     },
     "metadata": {},
     "output_type": "display_data"
    }
   ],
   "source": [
    "# testing data\n",
    "n_test <- 100 # number of patients\n",
    "T <-  5 # number of observations per patients\n",
    "\n",
    "set.seed(101)\n",
    "\n",
    "data_test <- sim_quad(n_test, T)\n",
    "\n",
    "\n",
    "#add PC: only for testing; In our final algorithm we don't need PC of test data\n",
    "data_test$PC1 = (prcomp(data_test[,1:100], scale = TRUE)$x)[,1]\n",
    "# data$PC1 = scale(data$PC1)/norm(scale(data$PC1),type=\"2\")\n",
    "data_test$PC2 = (prcomp(data_test[,101:200], scale = TRUE)$x)[,1]\n",
    "data_test$PC3 = (prcomp(data_test[,201:300], scale = TRUE)$x)[,1]\n",
    "\n",
    "# add time_squared\n",
    "data_test$time2 = (data_test$time)^2\n",
    "\n",
    "# add group*time interaction\n",
    "# data_test$time_G1 = data_test$time * data_test$group1 # b1, time*group1\n",
    "# data_test$time_G2 = data_test$time * data_test$group2 # b2\n",
    "# data_test$time2_G1 = (data_test$time)^2 * data_test$group1 # b1 time^2 * group1\n",
    "# data_test$time2_G2 = (data_test$time)^2 * data_test$group2 # b2\n",
    "\n",
    "head(data_test)"
   ]
  },
  {
   "cell_type": "code",
   "execution_count": 4,
   "metadata": {},
   "outputs": [],
   "source": [
    "# Methods for extracting names of splitting features used in a tree\n",
    "# tree: a tree object; data: the train or test set\n",
    "get_split_names = function(tree,data){\n",
    "    # path: the string that contains all the node information\n",
    "    paths <- pre:::list.rules(tree, removecomplements = FALSE)\n",
    "    vnames = names(data)\n",
    "    # the regex for a variable\n",
    "    # tomatch = paste(paste(var,\"<=\"),\"|\",paste(var,\">\"),sep=\"\")\n",
    "    # match to tomatch in path\n",
    "    tmp = vnames[sapply(sapply(vnames, FUN = function(var) grep(paste(paste(var,\"<=\"),\"|\",paste(var,\">\"),sep=\"\"), paths)), length) > 0]\n",
    "    return (tmp)\n",
    "}"
   ]
  },
  {
   "cell_type": "markdown",
   "metadata": {},
   "source": [
    "If use model REEM tree on this data directly, without WGCNA: It loses features from the independent groups"
   ]
  },
  {
   "cell_type": "code",
   "execution_count": 31,
   "metadata": {},
   "outputs": [
    {
     "data": {
      "text/html": [
       "<ol class=list-inline>\n",
       "\t<li>'V1'</li>\n",
       "\t<li>'V2'</li>\n",
       "\t<li>'V3'</li>\n",
       "\t<li>'V14'</li>\n",
       "\t<li>'V26'</li>\n",
       "\t<li>'V80'</li>\n",
       "\t<li>'V301'</li>\n",
       "</ol>\n"
      ],
      "text/latex": [
       "\\begin{enumerate*}\n",
       "\\item 'V1'\n",
       "\\item 'V2'\n",
       "\\item 'V3'\n",
       "\\item 'V14'\n",
       "\\item 'V26'\n",
       "\\item 'V80'\n",
       "\\item 'V301'\n",
       "\\end{enumerate*}\n"
      ],
      "text/markdown": [
       "1. 'V1'\n",
       "2. 'V2'\n",
       "3. 'V3'\n",
       "4. 'V14'\n",
       "5. 'V26'\n",
       "6. 'V80'\n",
       "7. 'V301'\n",
       "\n",
       "\n"
      ],
      "text/plain": [
       "[1] \"V1\"   \"V2\"   \"V3\"   \"V14\"  \"V26\"  \"V80\"  \"V301\""
      ]
     },
     "metadata": {},
     "output_type": "display_data"
    },
    {
     "data": {
      "text/html": [
       "81.6835754685821"
      ],
      "text/latex": [
       "81.6835754685821"
      ],
      "text/markdown": [
       "81.6835754685821"
      ],
      "text/plain": [
       "[1] 81.68358"
      ]
     },
     "metadata": {},
     "output_type": "display_data"
    }
   ],
   "source": [
    "# The most naive way\n",
    "split_var = c(paste(\"V\",1:400,sep=\"\"),\"treatment\")\n",
    "regress_var = c(\"time2\",\"time\")\n",
    "Formula = as.formula(paste(\"y~\",paste(regress_var,collapse = \"+\"),\n",
    "                           \"|\",\"patient\",\"|\",\n",
    "                         paste(split_var,collapse = \"+\")))\n",
    "mytree = lmertree(Formula, data = data,alpha = 0.2,maxdepth=5) \n",
    "get_split_names(mytree$tree,data)\n",
    "mean((predict(mytree,newdata=data_test)-data_test$y)**2)"
   ]
  },
  {
   "cell_type": "code",
   "execution_count": 32,
   "metadata": {},
   "outputs": [
    {
     "data": {
      "text/html": [
       "<ol class=list-inline>\n",
       "\t<li>'V2'</li>\n",
       "\t<li>'V3'</li>\n",
       "\t<li>'V26'</li>\n",
       "</ol>\n"
      ],
      "text/latex": [
       "\\begin{enumerate*}\n",
       "\\item 'V2'\n",
       "\\item 'V3'\n",
       "\\item 'V26'\n",
       "\\end{enumerate*}\n"
      ],
      "text/markdown": [
       "1. 'V2'\n",
       "2. 'V3'\n",
       "3. 'V26'\n",
       "\n",
       "\n"
      ],
      "text/plain": [
       "[1] \"V2\"  \"V3\"  \"V26\""
      ]
     },
     "metadata": {},
     "output_type": "display_data"
    },
    {
     "data": {
      "text/html": [
       "42.0090273244066"
      ],
      "text/latex": [
       "42.0090273244066"
      ],
      "text/markdown": [
       "42.0090273244066"
      ],
      "text/plain": [
       "[1] 42.00903"
      ]
     },
     "metadata": {},
     "output_type": "display_data"
    }
   ],
   "source": [
    "# If we select feature and put them in split_var too\n",
    "final_var = paste(\"V\",c(1,2,3,14,26,80,301),sep=\"\")\n",
    "# use the final features as split&regression variables\n",
    "split_var = c(final_var,\"treatment\")\n",
    "regress_var = c(\"time2\",\"time\",final_var)\n",
    "Formula = as.formula(paste(\"y~\",paste(regress_var,collapse = \"+\"),\n",
    "                           \"|\",\"patient\",\"|\",\n",
    "                         paste(split_var,collapse = \"+\")))\n",
    "mytree = lmertree(Formula, data = data,alpha = 0.2,maxdepth=5) \n",
    "get_split_names(mytree$tree,data)\n",
    "mean((predict(mytree,newdata=data_test)-data_test$y)**2)"
   ]
  },
  {
   "cell_type": "markdown",
   "metadata": {},
   "source": [
    "# Automatic version"
   ]
  },
  {
   "cell_type": "code",
   "execution_count": 33,
   "metadata": {},
   "outputs": [],
   "source": [
    "start_time <- Sys.time()\n",
    "\n",
    "data_WGCNA = data[,1:400] # only the covariates\n",
    "# choose power = 6, which is not quite correct\n",
    "# Please set numericLabels = FALSE so that the label is one color (string)\n",
    "# if verbose = 3, show some details\n",
    "net = blockwiseModules(data_WGCNA, power = 6,TOMType = \"unsigned\", \n",
    "                       minModuleSize = 30,reassignThreshold = 0, \n",
    "                       mergeCutHeight = 0.25,numericLabels = FALSE, \n",
    "                       pamRespectsDendro = FALSE,verbose = 0)\n",
    "\n",
    "# the correspondance betweeen feature names and colors\n",
    "colors = net$colors # it is a string vector with names (that is the name is V1)\n",
    "# Get a list with the first element being all the names of first groups and so on\n",
    "# all the names of modules\n",
    "module_names = unique(colors) # all colors name\n",
    "\n",
    "# a vector with name(index) = names of modules and value = the corresponding names\n",
    "# of features (like a dictionary)\n",
    "module_dic = list()\n",
    "for (i in 1:length(module_names)){\n",
    "    module_dic[[module_names[i]]] = names(colors[colors==module_names[i]])\n",
    "}\n",
    "# module_dic"
   ]
  },
  {
   "cell_type": "code",
   "execution_count": 34,
   "metadata": {},
   "outputs": [],
   "source": [
    "##### eigengene: here we may not need this since we have time as regressor ####\n",
    "# # extract eigengenes and rename the column.\n",
    "# # The eigengene(1st pricinpal component) is L2 normalized\n",
    "# eigengene = net$MEs\n",
    "# # eigengene\n",
    "# # add eigengen to training data\n",
    "# for (name in module_names){\n",
    "#     if (name == \"grey\"){\n",
    "#         next\n",
    "#     }\n",
    "#     eigen_name = paste(\"ME\",name,sep=\"\")\n",
    "#     data[[eigen_name]] = eigengene[[eigen_name]]\n",
    "# }\n",
    "# # head(data)\n",
    "##### end eigengene ####"
   ]
  },
  {
   "cell_type": "code",
   "execution_count": 35,
   "metadata": {},
   "outputs": [
    {
     "name": "stderr",
     "output_type": "stream",
     "text": [
      "boundary (singular) fit: see ?isSingular\n",
      "boundary (singular) fit: see ?isSingular\n",
      "boundary (singular) fit: see ?isSingular\n",
      "boundary (singular) fit: see ?isSingular\n"
     ]
    },
    {
     "data": {
      "text/html": [
       "<ol>\n",
       "\t<li><ol class=list-inline>\n",
       "\t<li>'V1'</li>\n",
       "\t<li>'V2'</li>\n",
       "\t<li>'V3'</li>\n",
       "\t<li>'V14'</li>\n",
       "\t<li>'V26'</li>\n",
       "\t<li>'V68'</li>\n",
       "</ol>\n",
       "</li>\n",
       "\t<li><ol class=list-inline>\n",
       "\t<li>'V106'</li>\n",
       "\t<li>'V154'</li>\n",
       "\t<li>'V172'</li>\n",
       "</ol>\n",
       "</li>\n",
       "\t<li></li>\n",
       "\t<li><ol class=list-inline>\n",
       "\t<li>'V301'</li>\n",
       "\t<li>'V302'</li>\n",
       "\t<li>'V303'</li>\n",
       "\t<li>'V319'</li>\n",
       "\t<li>'V348'</li>\n",
       "</ol>\n",
       "</li>\n",
       "</ol>\n"
      ],
      "text/latex": [
       "\\begin{enumerate}\n",
       "\\item \\begin{enumerate*}\n",
       "\\item 'V1'\n",
       "\\item 'V2'\n",
       "\\item 'V3'\n",
       "\\item 'V14'\n",
       "\\item 'V26'\n",
       "\\item 'V68'\n",
       "\\end{enumerate*}\n",
       "\n",
       "\\item \\begin{enumerate*}\n",
       "\\item 'V106'\n",
       "\\item 'V154'\n",
       "\\item 'V172'\n",
       "\\end{enumerate*}\n",
       "\n",
       "\\item \n",
       "\\item \\begin{enumerate*}\n",
       "\\item 'V301'\n",
       "\\item 'V302'\n",
       "\\item 'V303'\n",
       "\\item 'V319'\n",
       "\\item 'V348'\n",
       "\\end{enumerate*}\n",
       "\n",
       "\\end{enumerate}\n"
      ],
      "text/markdown": [
       "1. 1. 'V1'\n",
       "2. 'V2'\n",
       "3. 'V3'\n",
       "4. 'V14'\n",
       "5. 'V26'\n",
       "6. 'V68'\n",
       "\n",
       "\n",
       "\n",
       "2. 1. 'V106'\n",
       "2. 'V154'\n",
       "3. 'V172'\n",
       "\n",
       "\n",
       "\n",
       "3. \n",
       "4. 1. 'V301'\n",
       "2. 'V302'\n",
       "3. 'V303'\n",
       "4. 'V319'\n",
       "5. 'V348'\n",
       "\n",
       "\n",
       "\n",
       "\n",
       "\n"
      ],
      "text/plain": [
       "[[1]]\n",
       "[1] \"V1\"  \"V2\"  \"V3\"  \"V14\" \"V26\" \"V68\"\n",
       "\n",
       "[[2]]\n",
       "[1] \"V106\" \"V154\" \"V172\"\n",
       "\n",
       "[[3]]\n",
       "character(0)\n",
       "\n",
       "[[4]]\n",
       "[1] \"V301\" \"V302\" \"V303\" \"V319\" \"V348\"\n"
      ]
     },
     "metadata": {},
     "output_type": "display_data"
    }
   ],
   "source": [
    "imp_var = list() # used to store the names of important features\n",
    "cluster_var = \"patient\" # the name should be specified by the users\n",
    "\n",
    "# For each module including grey, use model tree as following:\n",
    "# use its time and time2 as regression variables\n",
    "# use all features in the module + treatment as splitting variables\n",
    "# Finally, use all the chosen features for splitting and regression variables\n",
    "\n",
    "# for non-grey groups\n",
    "for (name in module_names){\n",
    "    \n",
    "    # in the formula, add treatment as split_var, also include the module features\n",
    "    split_var = c(module_dic[[name]],\"treatment\")\n",
    "    \n",
    "    # use time and time2 as regressor\n",
    "    regress_var = c(\"time2\",\"time\")\n",
    "    \n",
    "    # Formula for lmtree: use PC as regressors\n",
    "    Formula = as.formula(paste(\"y~\",paste(regress_var,collapse = \"+\"),\n",
    "                           \"|\",cluster_var,\"|\",\n",
    "                paste(split_var,collapse = \"+\")))\n",
    "    \n",
    "    # fit the tree\n",
    "    mytree = lmertree(Formula, data = data,alpha = 0.2,maxdepth=5) \n",
    "    \n",
    "    #extract important features\n",
    "    imp_var[[length(imp_var)+1]] = get_split_names(mytree$tree,data)\n",
    "    \n",
    "#     plot(mytree)\n",
    "#     flush.console()\n",
    "#     cat(\"\\n\",get_split_names(mytree$tree,data),\"\\n\")\n",
    "    # to print the error, we have to add PC to test data\n",
    "#     print(mean((predict(mytree,newdata=data_test)-data_test$y)**2))\n",
    "}\n",
    "\n",
    "\n",
    "imp_var "
   ]
  },
  {
   "cell_type": "code",
   "execution_count": 36,
   "metadata": {},
   "outputs": [
    {
     "data": {
      "text/html": [
       "<ol class=list-inline>\n",
       "\t<li>'V1'</li>\n",
       "\t<li>'V2'</li>\n",
       "\t<li>'V3'</li>\n",
       "\t<li>'V14'</li>\n",
       "\t<li>'V26'</li>\n",
       "\t<li>'V68'</li>\n",
       "\t<li>'V106'</li>\n",
       "\t<li>'V154'</li>\n",
       "\t<li>'V172'</li>\n",
       "\t<li>'V301'</li>\n",
       "\t<li>'V302'</li>\n",
       "\t<li>'V303'</li>\n",
       "\t<li>'V319'</li>\n",
       "\t<li>'V348'</li>\n",
       "</ol>\n"
      ],
      "text/latex": [
       "\\begin{enumerate*}\n",
       "\\item 'V1'\n",
       "\\item 'V2'\n",
       "\\item 'V3'\n",
       "\\item 'V14'\n",
       "\\item 'V26'\n",
       "\\item 'V68'\n",
       "\\item 'V106'\n",
       "\\item 'V154'\n",
       "\\item 'V172'\n",
       "\\item 'V301'\n",
       "\\item 'V302'\n",
       "\\item 'V303'\n",
       "\\item 'V319'\n",
       "\\item 'V348'\n",
       "\\end{enumerate*}\n"
      ],
      "text/markdown": [
       "1. 'V1'\n",
       "2. 'V2'\n",
       "3. 'V3'\n",
       "4. 'V14'\n",
       "5. 'V26'\n",
       "6. 'V68'\n",
       "7. 'V106'\n",
       "8. 'V154'\n",
       "9. 'V172'\n",
       "10. 'V301'\n",
       "11. 'V302'\n",
       "12. 'V303'\n",
       "13. 'V319'\n",
       "14. 'V348'\n",
       "\n",
       "\n"
      ],
      "text/plain": [
       " [1] \"V1\"   \"V2\"   \"V3\"   \"V14\"  \"V26\"  \"V68\"  \"V106\" \"V154\" \"V172\" \"V301\"\n",
       "[11] \"V302\" \"V303\" \"V319\" \"V348\""
      ]
     },
     "metadata": {},
     "output_type": "display_data"
    }
   ],
   "source": [
    "# the variables selected from all the modules\n",
    "final_var = imp_var[[1]]\n",
    "if (length(imp_var)>1){\n",
    "    for (i in 2:length(imp_var)){\n",
    "    final_var = c(final_var,imp_var[[i]])\n",
    " }\n",
    "}\n",
    "final_var"
   ]
  },
  {
   "cell_type": "code",
   "execution_count": 37,
   "metadata": {},
   "outputs": [
    {
     "name": "stderr",
     "output_type": "stream",
     "text": [
      "boundary (singular) fit: see ?isSingular\n",
      "boundary (singular) fit: see ?isSingular\n"
     ]
    },
    {
     "data": {
      "text/html": [
       "<ol class=list-inline>\n",
       "\t<li>'V1'</li>\n",
       "\t<li>'V2'</li>\n",
       "\t<li>'V3'</li>\n",
       "\t<li>'V14'</li>\n",
       "\t<li>'V26'</li>\n",
       "\t<li>'V301'</li>\n",
       "\t<li>'V302'</li>\n",
       "\t<li>'V303'</li>\n",
       "</ol>\n"
      ],
      "text/latex": [
       "\\begin{enumerate*}\n",
       "\\item 'V1'\n",
       "\\item 'V2'\n",
       "\\item 'V3'\n",
       "\\item 'V14'\n",
       "\\item 'V26'\n",
       "\\item 'V301'\n",
       "\\item 'V302'\n",
       "\\item 'V303'\n",
       "\\end{enumerate*}\n"
      ],
      "text/markdown": [
       "1. 'V1'\n",
       "2. 'V2'\n",
       "3. 'V3'\n",
       "4. 'V14'\n",
       "5. 'V26'\n",
       "6. 'V301'\n",
       "7. 'V302'\n",
       "8. 'V303'\n",
       "\n",
       "\n"
      ],
      "text/plain": [
       "[1] \"V1\"   \"V2\"   \"V3\"   \"V14\"  \"V26\"  \"V301\" \"V302\" \"V303\""
      ]
     },
     "metadata": {},
     "output_type": "display_data"
    }
   ],
   "source": [
    "# the final selection among all the chosen features \n",
    "regress_var = c(\"time2\",\"time\")\n",
    "split_var = c(final_var,\"treatment\")\n",
    "Formula = as.formula(paste(\"y~\",paste(regress_var,collapse = \"+\"),\n",
    "                           \"|\",cluster_var,\"|\",\n",
    "                         paste(split_var,collapse = \"+\")))\n",
    "mytree = lmertree(Formula, data = data,alpha = 0.2,maxdepth=8) \n",
    "final_var = get_split_names(mytree$tree,data)\n",
    "final_var"
   ]
  },
  {
   "cell_type": "code",
   "execution_count": 38,
   "metadata": {},
   "outputs": [],
   "source": [
    "# final_var = paste(\"V\",c(1,2,3,301,302,303),sep=\"\") # if cheating"
   ]
  },
  {
   "cell_type": "code",
   "execution_count": 39,
   "metadata": {},
   "outputs": [],
   "source": [
    "# use the final features as split&regression variables\n",
    "split_var = c(final_var,\"treatment\")\n",
    "regress_var = c(\"time2\",\"time\",final_var)\n",
    "Formula = as.formula(paste(\"y~\",paste(regress_var,collapse = \"+\"),\n",
    "                           \"|\",cluster_var,\"|\",\n",
    "                         paste(split_var,collapse = \"+\")))\n",
    "mytree = lmertree(Formula, data = data,alpha = 0.2,maxdepth=5) "
   ]
  },
  {
   "cell_type": "code",
   "execution_count": 40,
   "metadata": {},
   "outputs": [
    {
     "data": {
      "text/plain": [
       "Time difference of 25.75812 secs"
      ]
     },
     "metadata": {},
     "output_type": "display_data"
    },
    {
     "data": {
      "text/html": [
       "19.7522417147849"
      ],
      "text/latex": [
       "19.7522417147849"
      ],
      "text/markdown": [
       "19.7522417147849"
      ],
      "text/plain": [
       "[1] 19.75224"
      ]
     },
     "metadata": {},
     "output_type": "display_data"
    },
    {
     "name": "stdout",
     "output_type": "stream",
     "text": [
      "$patient\n"
     ]
    },
    {
     "data": {
      "image/png": "[encoded data removed]",
      "text/plain": [
       "plot without title"
      ]
     },
     "metadata": {},
     "output_type": "display_data"
    },
    {
     "name": "stdout",
     "output_type": "stream",
     "text": [
      "\n"
     ]
    },
    {
     "data": {
      "image/png": "[encoded data removed]",
      "text/plain": [
       "plot without title"
      ]
     },
     "metadata": {},
     "output_type": "display_data"
    }
   ],
   "source": [
    "end_time <- Sys.time()\n",
    "end_time - start_time # running time\n",
    "\n",
    "mean((predict(mytree,newdata=data_test)-data_test$y)**2)\n",
    "plot(mytree)"
   ]
  },
  {
   "cell_type": "code",
   "execution_count": 41,
   "metadata": {},
   "outputs": [
    {
     "data": {
      "text/html": [
       "<table>\n",
       "<thead><tr><th></th><th scope=col>(Intercept)</th><th scope=col>time2</th><th scope=col>time</th><th scope=col>V1</th><th scope=col>V2</th><th scope=col>V3</th><th scope=col>V14</th><th scope=col>V26</th><th scope=col>V301</th><th scope=col>V302</th><th scope=col>V303</th></tr></thead>\n",
       "<tbody>\n",
       "\t<tr><th scope=row>4</th><td> 42.51777  </td><td> 5.227858  </td><td>-31.70071  </td><td>6.470637   </td><td>-3.026975  </td><td>-4.409084  </td><td>-0.18271481</td><td>-0.75421112</td><td>5.111861   </td><td>-0.7073013 </td><td> 1.197642  </td></tr>\n",
       "\t<tr><th scope=row>5</th><td> 39.62772  </td><td> 4.851176  </td><td>-29.21145  </td><td>4.430918   </td><td>-3.451379  </td><td>-4.448791  </td><td> 0.66413727</td><td> 0.51004262</td><td>4.937008   </td><td> 7.4404257 </td><td> 1.890546  </td></tr>\n",
       "\t<tr><th scope=row>7</th><td> 42.42252  </td><td> 4.868481  </td><td>-28.71184  </td><td>4.325621   </td><td> 5.171950  </td><td> 5.668891  </td><td>-0.01485862</td><td> 0.42967762</td><td>4.697431   </td><td> 2.8265760 </td><td>-2.550320  </td></tr>\n",
       "\t<tr><th scope=row>9</th><td> 46.65298  </td><td> 5.005346  </td><td>-30.15649  </td><td>3.905625   </td><td> 5.040356  </td><td> 6.084989  </td><td> 0.86593751</td><td> 0.55340705</td><td>5.144736   </td><td>-1.3958327 </td><td> 5.150272  </td></tr>\n",
       "\t<tr><th scope=row>10</th><td> 38.18891  </td><td> 4.860115  </td><td>-29.09383  </td><td>4.322683   </td><td> 5.623170  </td><td> 7.305882  </td><td> 0.85969625</td><td>-0.06621209</td><td>4.979167   </td><td> 6.5475117 </td><td> 5.787470  </td></tr>\n",
       "\t<tr><th scope=row>13</th><td>-49.08472  </td><td>-5.001739  </td><td> 30.15028  </td><td>5.728657   </td><td>-1.894553  </td><td>-3.990115  </td><td>-0.23986884</td><td>-0.38187145</td><td>5.181894   </td><td> 1.3565125 </td><td>-1.093634  </td></tr>\n",
       "\t<tr><th scope=row>14</th><td>-49.39656  </td><td>-5.204704  </td><td> 31.13339  </td><td>4.901178   </td><td>-3.556120  </td><td>-3.741694  </td><td> 0.79800894</td><td> 0.17373676</td><td>5.370356   </td><td> 1.6442882 </td><td> 7.046237  </td></tr>\n",
       "\t<tr><th scope=row>16</th><td>-46.14354  </td><td>-4.718740  </td><td> 28.40805  </td><td>6.349842   </td><td> 5.638385  </td><td> 7.263284  </td><td> 0.04858909</td><td>-0.60348496</td><td>5.406017   </td><td> 1.9495831 </td><td>-1.925624  </td></tr>\n",
       "\t<tr><th scope=row>18</th><td>-45.30559  </td><td>-4.731720  </td><td> 28.74874  </td><td>5.060294   </td><td> 4.581159  </td><td> 6.574929  </td><td>-0.53957169</td><td> 0.94118924</td><td>5.167341   </td><td> 0.6610784 </td><td> 3.465979  </td></tr>\n",
       "\t<tr><th scope=row>19</th><td>-43.89882  </td><td>-4.851259  </td><td> 29.07933  </td><td>6.472495   </td><td> 6.751904  </td><td> 7.115071  </td><td>-0.22916565</td><td>-1.55672259</td><td>5.229233   </td><td>-0.6183824 </td><td> 7.243852  </td></tr>\n",
       "</tbody>\n",
       "</table>\n"
      ],
      "text/latex": [
       "\\begin{tabular}{r|lllllllllll}\n",
       "  & (Intercept) & time2 & time & V1 & V2 & V3 & V14 & V26 & V301 & V302 & V303\\\\\n",
       "\\hline\n",
       "\t4 &  42.51777   &  5.227858   & -31.70071   & 6.470637    & -3.026975   & -4.409084   & -0.18271481 & -0.75421112 & 5.111861    & -0.7073013  &  1.197642  \\\\\n",
       "\t5 &  39.62772   &  4.851176   & -29.21145   & 4.430918    & -3.451379   & -4.448791   &  0.66413727 &  0.51004262 & 4.937008    &  7.4404257  &  1.890546  \\\\\n",
       "\t7 &  42.42252   &  4.868481   & -28.71184   & 4.325621    &  5.171950   &  5.668891   & -0.01485862 &  0.42967762 & 4.697431    &  2.8265760  & -2.550320  \\\\\n",
       "\t9 &  46.65298   &  5.005346   & -30.15649   & 3.905625    &  5.040356   &  6.084989   &  0.86593751 &  0.55340705 & 5.144736    & -1.3958327  &  5.150272  \\\\\n",
       "\t10 &  38.18891   &  4.860115   & -29.09383   & 4.322683    &  5.623170   &  7.305882   &  0.85969625 & -0.06621209 & 4.979167    &  6.5475117  &  5.787470  \\\\\n",
       "\t13 & -49.08472   & -5.001739   &  30.15028   & 5.728657    & -1.894553   & -3.990115   & -0.23986884 & -0.38187145 & 5.181894    &  1.3565125  & -1.093634  \\\\\n",
       "\t14 & -49.39656   & -5.204704   &  31.13339   & 4.901178    & -3.556120   & -3.741694   &  0.79800894 &  0.17373676 & 5.370356    &  1.6442882  &  7.046237  \\\\\n",
       "\t16 & -46.14354   & -4.718740   &  28.40805   & 6.349842    &  5.638385   &  7.263284   &  0.04858909 & -0.60348496 & 5.406017    &  1.9495831  & -1.925624  \\\\\n",
       "\t18 & -45.30559   & -4.731720   &  28.74874   & 5.060294    &  4.581159   &  6.574929   & -0.53957169 &  0.94118924 & 5.167341    &  0.6610784  &  3.465979  \\\\\n",
       "\t19 & -43.89882   & -4.851259   &  29.07933   & 6.472495    &  6.751904   &  7.115071   & -0.22916565 & -1.55672259 & 5.229233    & -0.6183824  &  7.243852  \\\\\n",
       "\\end{tabular}\n"
      ],
      "text/markdown": [
       "\n",
       "| <!--/--> | (Intercept) | time2 | time | V1 | V2 | V3 | V14 | V26 | V301 | V302 | V303 |\n",
       "|---|---|---|---|---|---|---|---|---|---|---|---|\n",
       "| 4 |  42.51777   |  5.227858   | -31.70071   | 6.470637    | -3.026975   | -4.409084   | -0.18271481 | -0.75421112 | 5.111861    | -0.7073013  |  1.197642   |\n",
       "| 5 |  39.62772   |  4.851176   | -29.21145   | 4.430918    | -3.451379   | -4.448791   |  0.66413727 |  0.51004262 | 4.937008    |  7.4404257  |  1.890546   |\n",
       "| 7 |  42.42252   |  4.868481   | -28.71184   | 4.325621    |  5.171950   |  5.668891   | -0.01485862 |  0.42967762 | 4.697431    |  2.8265760  | -2.550320   |\n",
       "| 9 |  46.65298   |  5.005346   | -30.15649   | 3.905625    |  5.040356   |  6.084989   |  0.86593751 |  0.55340705 | 5.144736    | -1.3958327  |  5.150272   |\n",
       "| 10 |  38.18891   |  4.860115   | -29.09383   | 4.322683    |  5.623170   |  7.305882   |  0.85969625 | -0.06621209 | 4.979167    |  6.5475117  |  5.787470   |\n",
       "| 13 | -49.08472   | -5.001739   |  30.15028   | 5.728657    | -1.894553   | -3.990115   | -0.23986884 | -0.38187145 | 5.181894    |  1.3565125  | -1.093634   |\n",
       "| 14 | -49.39656   | -5.204704   |  31.13339   | 4.901178    | -3.556120   | -3.741694   |  0.79800894 |  0.17373676 | 5.370356    |  1.6442882  |  7.046237   |\n",
       "| 16 | -46.14354   | -4.718740   |  28.40805   | 6.349842    |  5.638385   |  7.263284   |  0.04858909 | -0.60348496 | 5.406017    |  1.9495831  | -1.925624   |\n",
       "| 18 | -45.30559   | -4.731720   |  28.74874   | 5.060294    |  4.581159   |  6.574929   | -0.53957169 |  0.94118924 | 5.167341    |  0.6610784  |  3.465979   |\n",
       "| 19 | -43.89882   | -4.851259   |  29.07933   | 6.472495    |  6.751904   |  7.115071   | -0.22916565 | -1.55672259 | 5.229233    | -0.6183824  |  7.243852   |\n",
       "\n"
      ],
      "text/plain": [
       "   (Intercept) time2     time      V1       V2        V3        V14        \n",
       "4   42.51777    5.227858 -31.70071 6.470637 -3.026975 -4.409084 -0.18271481\n",
       "5   39.62772    4.851176 -29.21145 4.430918 -3.451379 -4.448791  0.66413727\n",
       "7   42.42252    4.868481 -28.71184 4.325621  5.171950  5.668891 -0.01485862\n",
       "9   46.65298    5.005346 -30.15649 3.905625  5.040356  6.084989  0.86593751\n",
       "10  38.18891    4.860115 -29.09383 4.322683  5.623170  7.305882  0.85969625\n",
       "13 -49.08472   -5.001739  30.15028 5.728657 -1.894553 -3.990115 -0.23986884\n",
       "14 -49.39656   -5.204704  31.13339 4.901178 -3.556120 -3.741694  0.79800894\n",
       "16 -46.14354   -4.718740  28.40805 6.349842  5.638385  7.263284  0.04858909\n",
       "18 -45.30559   -4.731720  28.74874 5.060294  4.581159  6.574929 -0.53957169\n",
       "19 -43.89882   -4.851259  29.07933 6.472495  6.751904  7.115071 -0.22916565\n",
       "   V26         V301     V302       V303     \n",
       "4  -0.75421112 5.111861 -0.7073013  1.197642\n",
       "5   0.51004262 4.937008  7.4404257  1.890546\n",
       "7   0.42967762 4.697431  2.8265760 -2.550320\n",
       "9   0.55340705 5.144736 -1.3958327  5.150272\n",
       "10 -0.06621209 4.979167  6.5475117  5.787470\n",
       "13 -0.38187145 5.181894  1.3565125 -1.093634\n",
       "14  0.17373676 5.370356  1.6442882  7.046237\n",
       "16 -0.60348496 5.406017  1.9495831 -1.925624\n",
       "18  0.94118924 5.167341  0.6610784  3.465979\n",
       "19 -1.55672259 5.229233 -0.6183824  7.243852"
      ]
     },
     "metadata": {},
     "output_type": "display_data"
    }
   ],
   "source": [
    "coef(mytree)"
   ]
  },
  {
   "cell_type": "markdown",
   "metadata": {},
   "source": [
    "# Model tree: step by step version"
   ]
  },
  {
   "cell_type": "code",
   "execution_count": 13,
   "metadata": {
    "scrolled": true
   },
   "outputs": [
    {
     "data": {
      "text/plain": [
       "   user  system elapsed \n",
       "   7.57    0.00    8.04 "
      ]
     },
     "metadata": {},
     "output_type": "display_data"
    },
    {
     "data": {
      "text/html": [
       "93.6729251669287"
      ],
      "text/latex": [
       "93.6729251669287"
      ],
      "text/markdown": [
       "93.6729251669287"
      ],
      "text/plain": [
       "[1] 93.67293"
      ]
     },
     "metadata": {},
     "output_type": "display_data"
    },
    {
     "data": {
      "text/html": [
       "<ol class=list-inline>\n",
       "\t<li>'V301'</li>\n",
       "\t<li>'V302'</li>\n",
       "\t<li>'V303'</li>\n",
       "</ol>\n"
      ],
      "text/latex": [
       "\\begin{enumerate*}\n",
       "\\item 'V301'\n",
       "\\item 'V302'\n",
       "\\item 'V303'\n",
       "\\end{enumerate*}\n"
      ],
      "text/markdown": [
       "1. 'V301'\n",
       "2. 'V302'\n",
       "3. 'V303'\n",
       "\n",
       "\n"
      ],
      "text/plain": [
       "[1] \"V301\" \"V302\" \"V303\""
      ]
     },
     "metadata": {},
     "output_type": "display_data"
    },
    {
     "data": {
      "image/png": "[encoded data removed]",
      "text/plain": [
       "plot without title"
      ]
     },
     "metadata": {},
     "output_type": "display_data"
    }
   ],
   "source": [
    "split_var = c(\"treatment\",paste(\"V\",301:400,sep=\"\"))\n",
    "# split_var = c(\"treatment\")\n",
    "# split_var = c(\"treatment\",paste(\"V\",c(1,2,3,301,302,303),sep=\"\"))\n",
    "# split_var = c(\"treatment\",paste(\"V\",c(1,2,3,301,302,303),sep=\"\")) # correct\n",
    "\n",
    "# regress_var = c(\"time2\",\"time\")\n",
    "# regress_var = c(\"V1\")\n",
    "# regress_var = c(\"time\",\"time2\")\n",
    "regress_var = c(\"time2\",\"time\",paste(\"V\",c(1,2,3),sep=\"\"))\n",
    "\n",
    "cluster_var = \"patient\"\n",
    "Formula = as.formula(paste(\"y~\",paste(regress_var,collapse = \"+\"),\n",
    "                           \"|\",cluster_var,\"|\",\n",
    "                         paste(split_var,collapse = \"+\")))\n",
    "# Formula\n",
    "\n",
    "system.time({\n",
    "    # you can change alpha = 0.2\n",
    "    lmm_tree <- lmertree(Formula, data = data,alpha = 0.1,maxdepth=5) \n",
    "})\n",
    "# mean square error on test data\n",
    "mean((predict(lmm_tree,newdata=data_test,re.form=NA)-data_test$y)**2)\n",
    "\n",
    "# the selected features\n",
    "get_split_names(lmm_tree$tree,data)\n",
    "\n",
    "# coef(lmm_tree)\n",
    "plot(lmm_tree,which=\"tree\",main = \"glmertree\")"
   ]
  },
  {
   "cell_type": "code",
   "execution_count": 43,
   "metadata": {},
   "outputs": [
    {
     "data": {
      "text/html": [
       "<table>\n",
       "<thead><tr><th></th><th scope=col>(Intercept)</th><th scope=col>time</th><th scope=col>time2</th></tr></thead>\n",
       "<tbody>\n",
       "\t<tr><th scope=row>5</th><td> 40.99118 </td><td>-31.895063</td><td> 5.182074 </td></tr>\n",
       "\t<tr><th scope=row>6</th><td> 44.33446 </td><td>-29.283495</td><td> 4.927686 </td></tr>\n",
       "\t<tr><th scope=row>8</th><td> 48.76405 </td><td>-29.716642</td><td> 4.888221 </td></tr>\n",
       "\t<tr><th scope=row>9</th><td> 57.95539 </td><td>-31.696468</td><td> 5.331493 </td></tr>\n",
       "\t<tr><th scope=row>12</th><td> 54.18950 </td><td>-28.757700</td><td> 4.930032 </td></tr>\n",
       "\t<tr><th scope=row>13</th><td> 59.97979 </td><td>-21.679963</td><td> 3.417342 </td></tr>\n",
       "\t<tr><th scope=row>14</th><td> 91.13816 </td><td>-36.518382</td><td> 5.665010 </td></tr>\n",
       "\t<tr><th scope=row>18</th><td>-56.45577 </td><td> 33.079386</td><td>-5.436157 </td></tr>\n",
       "\t<tr><th scope=row>19</th><td>-40.96788 </td><td> 28.767228</td><td>-4.876719 </td></tr>\n",
       "\t<tr><th scope=row>21</th><td>-44.44926 </td><td> 30.595360</td><td>-5.067669 </td></tr>\n",
       "\t<tr><th scope=row>22</th><td>-34.45647 </td><td> 28.580096</td><td>-4.558234 </td></tr>\n",
       "\t<tr><th scope=row>25</th><td>-36.56726 </td><td> 30.741254</td><td>-5.012922 </td></tr>\n",
       "\t<tr><th scope=row>26</th><td>-15.81132 </td><td> 20.191575</td><td>-3.151055 </td></tr>\n",
       "\t<tr><th scope=row>27</th><td> 20.88275 </td><td>  7.658733</td><td>-1.688807 </td></tr>\n",
       "</tbody>\n",
       "</table>\n"
      ],
      "text/latex": [
       "\\begin{tabular}{r|lll}\n",
       "  & (Intercept) & time & time2\\\\\n",
       "\\hline\n",
       "\t5 &  40.99118  & -31.895063 &  5.182074 \\\\\n",
       "\t6 &  44.33446  & -29.283495 &  4.927686 \\\\\n",
       "\t8 &  48.76405  & -29.716642 &  4.888221 \\\\\n",
       "\t9 &  57.95539  & -31.696468 &  5.331493 \\\\\n",
       "\t12 &  54.18950  & -28.757700 &  4.930032 \\\\\n",
       "\t13 &  59.97979  & -21.679963 &  3.417342 \\\\\n",
       "\t14 &  91.13816  & -36.518382 &  5.665010 \\\\\n",
       "\t18 & -56.45577  &  33.079386 & -5.436157 \\\\\n",
       "\t19 & -40.96788  &  28.767228 & -4.876719 \\\\\n",
       "\t21 & -44.44926  &  30.595360 & -5.067669 \\\\\n",
       "\t22 & -34.45647  &  28.580096 & -4.558234 \\\\\n",
       "\t25 & -36.56726  &  30.741254 & -5.012922 \\\\\n",
       "\t26 & -15.81132  &  20.191575 & -3.151055 \\\\\n",
       "\t27 &  20.88275  &   7.658733 & -1.688807 \\\\\n",
       "\\end{tabular}\n"
      ],
      "text/markdown": [
       "\n",
       "| <!--/--> | (Intercept) | time | time2 |\n",
       "|---|---|---|---|\n",
       "| 5 |  40.99118  | -31.895063 |  5.182074  |\n",
       "| 6 |  44.33446  | -29.283495 |  4.927686  |\n",
       "| 8 |  48.76405  | -29.716642 |  4.888221  |\n",
       "| 9 |  57.95539  | -31.696468 |  5.331493  |\n",
       "| 12 |  54.18950  | -28.757700 |  4.930032  |\n",
       "| 13 |  59.97979  | -21.679963 |  3.417342  |\n",
       "| 14 |  91.13816  | -36.518382 |  5.665010  |\n",
       "| 18 | -56.45577  |  33.079386 | -5.436157  |\n",
       "| 19 | -40.96788  |  28.767228 | -4.876719  |\n",
       "| 21 | -44.44926  |  30.595360 | -5.067669  |\n",
       "| 22 | -34.45647  |  28.580096 | -4.558234  |\n",
       "| 25 | -36.56726  |  30.741254 | -5.012922  |\n",
       "| 26 | -15.81132  |  20.191575 | -3.151055  |\n",
       "| 27 |  20.88275  |   7.658733 | -1.688807  |\n",
       "\n"
      ],
      "text/plain": [
       "   (Intercept) time       time2    \n",
       "5   40.99118   -31.895063  5.182074\n",
       "6   44.33446   -29.283495  4.927686\n",
       "8   48.76405   -29.716642  4.888221\n",
       "9   57.95539   -31.696468  5.331493\n",
       "12  54.18950   -28.757700  4.930032\n",
       "13  59.97979   -21.679963  3.417342\n",
       "14  91.13816   -36.518382  5.665010\n",
       "18 -56.45577    33.079386 -5.436157\n",
       "19 -40.96788    28.767228 -4.876719\n",
       "21 -44.44926    30.595360 -5.067669\n",
       "22 -34.45647    28.580096 -4.558234\n",
       "25 -36.56726    30.741254 -5.012922\n",
       "26 -15.81132    20.191575 -3.151055\n",
       "27  20.88275     7.658733 -1.688807"
      ]
     },
     "metadata": {},
     "output_type": "display_data"
    }
   ],
   "source": [
    "coef(lmm_tree)"
   ]
  },
  {
   "cell_type": "code",
   "execution_count": 16,
   "metadata": {},
   "outputs": [],
   "source": [
    "# random effect (here is just intercept)\n",
    "# ranef(lmm_tree)"
   ]
  },
  {
   "cell_type": "markdown",
   "metadata": {},
   "source": [
    "# Benchmark"
   ]
  },
  {
   "cell_type": "markdown",
   "metadata": {},
   "source": [
    "## Fuzzy Forest"
   ]
  },
  {
   "cell_type": "code",
   "execution_count": 17,
   "metadata": {},
   "outputs": [
    {
     "data": {
      "text/plain": [
       "   user  system elapsed \n",
       " 626.13    2.11  635.48 "
      ]
     },
     "metadata": {},
     "output_type": "display_data"
    },
    {
     "data": {
      "text/html": [
       "50.0162342240422"
      ],
      "text/latex": [
       "50.0162342240422"
      ],
      "text/markdown": [
       "50.0162342240422"
      ],
      "text/plain": [
       "[1] 50.01623"
      ]
     },
     "metadata": {},
     "output_type": "display_data"
    },
    {
     "data": {
      "image/png": "[encoded data removed]",
      "text/plain": [
       "Plot with title \"FF Variable Importance\""
      ]
     },
     "metadata": {},
     "output_type": "display_data"
    }
   ],
   "source": [
    "# since treatment is categorical, we cannot include it in WGCNA\n",
    "system.time({\n",
    "data_WGCNA = data[,1:400] # only the covariates\n",
    "# choose power = 6, which is not quite correct\n",
    "# Please set numericLabels = FALSE so that the label is one color (string)\n",
    "# if verbose = 3, show some details\n",
    "net = blockwiseModules(data_WGCNA, power = 6,TOMType = \"unsigned\", \n",
    "                       minModuleSize = 30,reassignThreshold = 0, \n",
    "                       mergeCutHeight = 0.25,numericLabels = FALSE, \n",
    "                       pamRespectsDendro = FALSE,verbose = 0)\n",
    "\n",
    "var = c(paste(\"V\",1:400,sep=\"\"),\"time\",\"time2\",\"treatment\")\n",
    "Formula = as.formula(paste(\"y~\",paste(var,collapse = \"+\")))\n",
    "    \n",
    "net$colors[[\"time\"]] = \"grey\"\n",
    "net$colors[[\"time2\"]] = \"grey\"\n",
    "net$colors[[\"treatment\"]] = \"grey\"\n",
    "    \n",
    "# var = paste(\"V\",1:400,sep=\"\")\n",
    "# Formula = as.formula(paste(\"y~\",paste(var,collapse = \"+\")))\n",
    "    \n",
    "\n",
    "\n",
    "ff_fit = ff(Formula,data = data,module_membership=net$colors,\n",
    "        screen_params = screen_control(min_ntree = 500),\n",
    "        select_params = select_control(min_ntree = 500,number_selected = 15), \n",
    "        final_ntree = 5000, num_processors = 1)        \n",
    "})\n",
    "mean((predict(ff_fit,new_data=data_test)-data_test$y)**2)\n",
    "varImpPlot(ff_fit$final_rf,type=2,main=\"FF Variable Importance\")"
   ]
  },
  {
   "cell_type": "markdown",
   "metadata": {},
   "source": [
    "## Random Forest"
   ]
  },
  {
   "cell_type": "code",
   "execution_count": 23,
   "metadata": {},
   "outputs": [
    {
     "data": {
      "text/plain": [
       "   user  system elapsed \n",
       "  84.43    0.41   86.08 "
      ]
     },
     "metadata": {},
     "output_type": "display_data"
    },
    {
     "data": {
      "text/html": [
       "76.7205025988452"
      ],
      "text/latex": [
       "76.7205025988452"
      ],
      "text/markdown": [
       "76.7205025988452"
      ],
      "text/plain": [
       "[1] 76.7205"
      ]
     },
     "metadata": {},
     "output_type": "display_data"
    },
    {
     "data": {
      "image/png": "[encoded data removed]",
      "text/plain": [
       "Plot with title \"RF Variable Importance\""
      ]
     },
     "metadata": {},
     "output_type": "display_data"
    }
   ],
   "source": [
    "# Random Forest\n",
    "var = c(paste(\"V\",1:400,sep=\"\"),\"time\",\"time2\",\"treatment\")\n",
    "Formula = as.formula(paste(\"y~\",paste(var,collapse = \"+\")))\n",
    "system.time({\n",
    "#     set.seed(20)\n",
    "    rf <- randomForest(Formula,data)\n",
    "})\n",
    "mean((predict(rf,newdata=data_test)-data_test$y)**2)\n",
    "varImpPlot(rf,type=2,main=\"RF Variable Importance\")"
   ]
  },
  {
   "cell_type": "markdown",
   "metadata": {},
   "source": [
    "## RE-EM tree"
   ]
  },
  {
   "cell_type": "code",
   "execution_count": 19,
   "metadata": {},
   "outputs": [
    {
     "data": {
      "text/plain": [
       "   user  system elapsed \n",
       "   5.56    0.11    5.79 "
      ]
     },
     "metadata": {},
     "output_type": "display_data"
    },
    {
     "data": {
      "text/html": [
       "<dl class=dl-horizontal>\n",
       "\t<dt>treatment</dt>\n",
       "\t\t<dd>146623.110493305</dd>\n",
       "\t<dt>time</dt>\n",
       "\t\t<dd>84411.4696734322</dd>\n",
       "\t<dt>time2</dt>\n",
       "\t\t<dd>84411.4696734322</dd>\n",
       "\t<dt>V3</dt>\n",
       "\t\t<dd>55594.9483810676</dd>\n",
       "\t<dt>V2</dt>\n",
       "\t\t<dd>37365.49157927</dd>\n",
       "\t<dt>V73</dt>\n",
       "\t\t<dd>30098.7669105061</dd>\n",
       "\t<dt>V301</dt>\n",
       "\t\t<dd>22372.3090998103</dd>\n",
       "\t<dt>V70</dt>\n",
       "\t\t<dd>22203.3336099465</dd>\n",
       "\t<dt>V15</dt>\n",
       "\t\t<dd>21932.5166532859</dd>\n",
       "\t<dt>V82</dt>\n",
       "\t\t<dd>21215.481454766</dd>\n",
       "\t<dt>V62</dt>\n",
       "\t\t<dd>17794.2364932005</dd>\n",
       "\t<dt>V5</dt>\n",
       "\t\t<dd>17584.892534457</dd>\n",
       "\t<dt>V99</dt>\n",
       "\t\t<dd>16135.098636503</dd>\n",
       "\t<dt>V24</dt>\n",
       "\t\t<dd>15568.9548246958</dd>\n",
       "\t<dt>V25</dt>\n",
       "\t\t<dd>15568.9548246958</dd>\n",
       "</dl>\n"
      ],
      "text/latex": [
       "\\begin{description*}\n",
       "\\item[treatment] 146623.110493305\n",
       "\\item[time] 84411.4696734322\n",
       "\\item[time2] 84411.4696734322\n",
       "\\item[V3] 55594.9483810676\n",
       "\\item[V2] 37365.49157927\n",
       "\\item[V73] 30098.7669105061\n",
       "\\item[V301] 22372.3090998103\n",
       "\\item[V70] 22203.3336099465\n",
       "\\item[V15] 21932.5166532859\n",
       "\\item[V82] 21215.481454766\n",
       "\\item[V62] 17794.2364932005\n",
       "\\item[V5] 17584.892534457\n",
       "\\item[V99] 16135.098636503\n",
       "\\item[V24] 15568.9548246958\n",
       "\\item[V25] 15568.9548246958\n",
       "\\end{description*}\n"
      ],
      "text/markdown": [
       "treatment\n",
       ":   146623.110493305time\n",
       ":   84411.4696734322time2\n",
       ":   84411.4696734322V3\n",
       ":   55594.9483810676V2\n",
       ":   37365.49157927V73\n",
       ":   30098.7669105061V301\n",
       ":   22372.3090998103V70\n",
       ":   22203.3336099465V15\n",
       ":   21932.5166532859V82\n",
       ":   21215.481454766V62\n",
       ":   17794.2364932005V5\n",
       ":   17584.892534457V99\n",
       ":   16135.098636503V24\n",
       ":   15568.9548246958V25\n",
       ":   15568.9548246958\n",
       "\n"
      ],
      "text/plain": [
       "treatment      time     time2        V3        V2       V73      V301       V70 \n",
       "146623.11  84411.47  84411.47  55594.95  37365.49  30098.77  22372.31  22203.33 \n",
       "      V15       V82       V62        V5       V99       V24       V25 \n",
       " 21932.52  21215.48  17794.24  17584.89  16135.10  15568.95  15568.95 "
      ]
     },
     "metadata": {},
     "output_type": "display_data"
    },
    {
     "data": {
      "text/html": [
       "108.827252742983"
      ],
      "text/latex": [
       "108.827252742983"
      ],
      "text/markdown": [
       "108.827252742983"
      ],
      "text/plain": [
       "[1] 108.8273"
      ]
     },
     "metadata": {},
     "output_type": "display_data"
    },
    {
     "data": {
      "image/png": "[encoded data removed]",
      "text/plain": [
       "plot without title"
      ]
     },
     "metadata": {},
     "output_type": "display_data"
    }
   ],
   "source": [
    "variables = c(paste(\"V\",1:400,sep=\"\"),\"treatment\",\"time\",\"time2\")\n",
    "Formular = as.formula(paste(\"y~\",paste(variables,collapse = \"+\")))\n",
    "system.time({REEMresult<-REEMtree(Formular, data=data, random=~1|patient)})\n",
    "sort(REEMresult$Tree$variable.importance, decreasing = TRUE)[1:15]\n",
    "mean((predict(REEMresult,newdata=data_test,EstimateRandomEffects=FALSE)-\n",
    "      data_test$y)**2)\n",
    "plot(REEMresult)"
   ]
  }
 ],
 "metadata": {
  "kernelspec": {
   "display_name": "R",
   "language": "R",
   "name": "ir"
  },
  "language_info": {
   "codemirror_mode": "r",
   "file_extension": ".r",
   "mimetype": "text/x-r-source",
   "name": "R",
   "pygments_lexer": "r",
   "version": "3.6.0"
  }
 },
 "nbformat": 4,
 "nbformat_minor": 2
}
