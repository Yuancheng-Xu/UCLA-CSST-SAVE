{
 "cells": [
  {
   "cell_type": "code",
   "execution_count": 147,
   "metadata": {},
   "outputs": [],
   "source": [
    "# install.packages(\"partykit\")\n",
    "# install.packages(\"pre\")\n",
    "library(\"partykit\")\n",
    "source(\"SimData.r\")\n",
    "library(\"party\")\n",
    "library(MASS)\n",
    "library(\"glmertree\")\n",
    "library(\"caret\") # importance and rfe\n",
    "source(\"SimData.r\")\n",
    "library(\"randomForest\")\n",
    "library(\"rpart\")\n",
    "library(\"fuzzyforest\")\n",
    "library(\"WGCNA\")\n",
    "library(\"pre\")\n",
    "library(REEMtree)"
   ]
  },
  {
   "cell_type": "markdown",
   "metadata": {},
   "source": [
    "Since Fuzzy Model Tree (longitudinal&regular) need n to be big. I want to test on the time dependent dataset:\n",
    "* Test1: For 400 features, prediction error VS n\n",
    "* Test2: fix n = 300 (which is large enough for p=400), increase p=400 to 500 to 1000 (but still use 6 true important features)\n",
    "* Test3: Similar to the above setting, but increase the number of true important features."
   ]
  },
  {
   "cell_type": "code",
   "execution_count": null,
   "metadata": {},
   "outputs": [],
   "source": []
  },
  {
   "cell_type": "code",
   "execution_count": 132,
   "metadata": {},
   "outputs": [],
   "source": [
    "# This code is simplified and only for testing!\n",
    "# for time dependent data;return prediction error\n",
    "# p is the number of features (400 now)\n",
    "# if keep_grey = TRUE, then keep all the chosen features in the grey module\n",
    "Longtree = function(data,data_test,p=400,keep_grey = FALSE){\n",
    "    data_WGCNA = data[,1:p] # only the covariates\n",
    "    net = blockwiseModules(data_WGCNA, power = 6,TOMType = \"unsigned\", \n",
    "                           minModuleSize = 30,reassignThreshold = 0, \n",
    "                           mergeCutHeight = 0.25,numericLabels = FALSE, \n",
    "                           pamRespectsDendro = FALSE,verbose = 0)\n",
    "\n",
    "    # the correspondance betweeen feature names and colors\n",
    "    colors = net$colors # it is a string vector with names (that is the name is V1)\n",
    "    module_names = unique(colors) # all colors name\n",
    "    module_dic = list()\n",
    "    for (i in 1:length(module_names)){\n",
    "        module_dic[[module_names[i]]] = names(colors[colors==module_names[i]])\n",
    "    }\n",
    "    imp_var = list() # used to store the names of important features\n",
    "cluster_var = \"patient\" # the name should be specified by the users\n",
    "\n",
    "# For each module including grey, use model tree as following:\n",
    "# use its time and time2 as regression variables\n",
    "# use all features in the module + treatment as splitting variables\n",
    "# Finally, use all the chosen features for splitting and regression variables\n",
    "\n",
    "for (name in module_names){\n",
    "    \n",
    "    # in the formula, add treatment as split_var, also include the module features\n",
    "    split_var = c(module_dic[[name]],\"treatment\")\n",
    "    \n",
    "    # use time and time2 as regressor\n",
    "    regress_var = c(\"time2\",\"time\")\n",
    "    \n",
    "    # Formula for lmtree: use PC as regressors\n",
    "    Formula = as.formula(paste(\"y~\",paste(regress_var,collapse = \"+\"),\n",
    "                           \"|\",cluster_var,\"|\",\n",
    "                paste(split_var,collapse = \"+\")))\n",
    "    \n",
    "    # fit the tree\n",
    "    mytree = lmertree(Formula, data = data,alpha = 0.2,maxdepth=5) \n",
    "    \n",
    "    #extract important features\n",
    "    if (name==\"grey\"){\n",
    "        grey_var = get_split_names(mytree$tree,data)\n",
    "    }else{\n",
    "        imp_var[[length(imp_var)+1]] = get_split_names(mytree$tree,data)\n",
    "    }\n",
    "    }\n",
    "    # Now imp_var contains important features from modules that are not grey\n",
    "    # grey_var contains grey important feeatures\n",
    "    \n",
    "    \n",
    "    if (keep_grey==FALSE){\n",
    "        imp_var[[length(imp_var)+1]] = grey_var\n",
    "     # Now imp_var contains all selected features including grey ones\n",
    "    \n",
    "    # the variables selected from all the modules    \n",
    "    final_var = imp_var[[1]]\n",
    "    if (length(imp_var)>1){\n",
    "        for (i in 2:length(imp_var)){\n",
    "        final_var = c(final_var,imp_var[[i]])\n",
    "     }\n",
    "    \n",
    "    cat(\"after screening within modules\",final_var,\"\\n\")\n",
    "    \n",
    "    # the final selection among all the chosen features \n",
    "    regress_var = c(\"time2\",\"time\")\n",
    "    split_var = c(final_var,\"treatment\")\n",
    "    Formula = as.formula(paste(\"y~\",paste(regress_var,collapse = \"+\"),\n",
    "                               \"|\",cluster_var,\"|\",\n",
    "                             paste(split_var,collapse = \"+\")))\n",
    "    mytree = lmertree(Formula, data = data,alpha = 0.2,maxdepth=8) \n",
    "    final_var = get_split_names(mytree$tree,data)\n",
    "    cat(\"final features\",final_var)\n",
    "    }else{\n",
    "        # there is only grey module\n",
    "        cat(\"There is only grey module, final features\",final_var)\n",
    "    }       \n",
    "    }\n",
    "    \n",
    "    if (keep_grey==TRUE){\n",
    "        if ((length(imp_var)==0)){\n",
    "            # therefore, WGCNA thinks there is only grey group\n",
    "            final_var = grey_var\n",
    "            cat(\"There is only grey module, final features\",final_var)\n",
    "        }else{\n",
    "            # if imp_var is not empty\n",
    "            final_var = imp_var[[1]]\n",
    "            if (length(imp_var)>1){\n",
    "                for (i in 2:length(imp_var)){\n",
    "                final_var = c(final_var,imp_var[[i]])\n",
    "             }\n",
    "            }# Now final_var only contains non grey selected features\n",
    "            cat(\"after screening within modules\",c(final_var,grey_var),\"\\n\")\n",
    "\n",
    "            # the final selection among all the chosen non-grey features \n",
    "            regress_var = c(\"time2\",\"time\")\n",
    "            split_var = c(final_var,\"treatment\")\n",
    "            Formula = as.formula(paste(\"y~\",paste(regress_var,collapse = \"+\"),\n",
    "                                       \"|\",cluster_var,\"|\",\n",
    "                                     paste(split_var,collapse = \"+\")))\n",
    "            mytree = lmertree(Formula, data = data,alpha = 0.2,maxdepth=8) \n",
    "            final_var = get_split_names(mytree$tree,data)\n",
    "            final_var = c(final_var,grey_var)\n",
    "            cat(\"final features\",final_var)\n",
    "        }\n",
    "    }\n",
    "    \n",
    "    # use the final features as split&regression variables\n",
    "    split_var = c(final_var,\"treatment\")\n",
    "    regress_var = c(\"time2\",\"time\",final_var)\n",
    "    Formula = as.formula(paste(\"y~\",paste(regress_var,collapse = \"+\"),\n",
    "                               \"|\",cluster_var,\"|\",\n",
    "                             paste(split_var,collapse = \"+\")))\n",
    "    mytree = lmertree(Formula, data = data,alpha = 0.2,maxdepth=5) \n",
    "    return(mean((predict(mytree,newdata=data_test)-data_test$y)**2))\n",
    "}\n",
    "\n",
    "# if var_list = c(0,3), then 1,2,3,301,302,303\n",
    "# if var_list includes 2, then 101,102,103 will be included using the same formula\n",
    "f = function (X_data,var_list,n,T){\n",
    "    y = rep(0,n*T)\n",
    "    for (k in var_list){\n",
    "        a1 = k*100+1\n",
    "        a2 = a1+1\n",
    "        a3 = a1+2\n",
    "        y = y+5*X_data[,a1]+2*X_data[,a2]+2*X_data[,a3]+5*X_data[,a2]*X_data[,a3]\n",
    "    }\n",
    "    return (y)\n",
    "}\n",
    "\n",
    "# sim_quad that can change p (still 1,2,3,301,302,303); other groups correlated\n",
    "# p should be multiple of 100 and larger or equal to 4\n",
    "sim = function(n,T,p=400,var_list,cor_feature=0.8,var_noise=1,cor_noise=0.8,a1=5,a2=-5){\n",
    "    p0 = 100\n",
    "\n",
    "    #### covariance matrix between features #####\n",
    "    cov_feature = matrix(0,nrow = p, ncol = p)\n",
    "    # cov within the first three modules\n",
    "    cov_star = matrix(cor_feature,nrow = p0,ncol = p0)\n",
    "    diag(cov_star)=1\n",
    "    # put cov_star into cov_feature\n",
    "    cov_feature[1:p0,1:p0] = cov_star\n",
    "    cov_feature[(p0+1):(2*p0),(p0+1):(2*p0)] = cov_star\n",
    "    cov_feature[(2*p0+1):(3*p0),(2*p0+1):(3*p0)] = cov_star\n",
    "    cov_feature[(3*p0+1):(4*p0),(3*p0+1):(4*p0)] = diag(p0)\n",
    "    \n",
    "    k = p/100\n",
    "    if (k>4){  \n",
    "        for (i in 5:k){\n",
    "            cov_feature[((k-1)*p0+1):(k*p0),((k-1)*p0+1):(k*p0)] = cov_star\n",
    "        }\n",
    "    }\n",
    "    ####\n",
    "    \n",
    "    # Create X matrix\n",
    "    data = mvrnorm(n=n*T,rep(0,p),cov_feature)\n",
    "    data <- data.frame(data)\n",
    "    names(data) = paste(\"V\",1:p,sep=\"\")\n",
    "\n",
    "    #### random intercept for each patient ####\n",
    "    # random intercept draw from N(0,1)\n",
    "    b = mvrnorm(n = 1, rep(0,n), diag(n))\n",
    "    data$rand_int = rep(b,each = T)\n",
    "\n",
    "    data$time <- rep(1:T, n) # time\n",
    "    # treatment 1 or 2 ,categorical type\n",
    "    data$treatment[1:(n*T/2)] <- 1 \n",
    "    data$treatment[((n*T/2)+1):(n*T)] <- 2\n",
    "    data$treatment = factor(data$treatment)\n",
    "\n",
    "    # patient information\n",
    "    data$patient = rep(1:n,each = T)\n",
    "\n",
    "    # response y\n",
    "    med = median(1:T)\n",
    "    data$y = (f(data[1:(n*T),1:p],var_list,n,T)+ \n",
    "        (data$treatment==1)*a1*(data$time-med)^2 + \n",
    "        (data$treatment==2)*a2*(data$time-med)^2 + data$rand_int)\n",
    "    \n",
    "    return(data)\n",
    "\n",
    "}"
   ]
  },
  {
   "cell_type": "code",
   "execution_count": 3,
   "metadata": {},
   "outputs": [],
   "source": [
    "# Methods for extracting names of splitting features used in a tree\n",
    "# tree: a tree object; data: the train or test set\n",
    "get_split_names = function(tree,data){\n",
    "    # path: the string that contains all the node information\n",
    "    paths <- pre:::list.rules(tree, removecomplements = FALSE)\n",
    "    vnames = names(data)\n",
    "    # the regex for a variable\n",
    "    # tomatch = paste(paste(var,\"<=\"),\"|\",paste(var,\">\"),sep=\"\")\n",
    "    # match to tomatch in path\n",
    "    tmp = vnames[sapply(sapply(vnames, FUN = function(var) grep(paste(paste(var,\"<=\"),\"|\",paste(var,\">\"),sep=\"\"), paths)), length) > 0]\n",
    "    return (tmp)\n",
    "}"
   ]
  },
  {
   "cell_type": "markdown",
   "metadata": {},
   "source": [
    "# Test1"
   ]
  },
  {
   "cell_type": "code",
   "execution_count": 149,
   "metadata": {},
   "outputs": [],
   "source": [
    "var_list = c(0,3)"
   ]
  },
  {
   "cell_type": "code",
   "execution_count": 150,
   "metadata": {},
   "outputs": [],
   "source": [
    "# testing data\n",
    "n_test <- 100 # number of patients\n",
    "T <-  5 # number of observations per patients\n",
    "set.seed(101)\n",
    "data_test <- sim(n_test, T,p=400,var_list)\n",
    "# data_test <- sim_quad(n_test, T)\n",
    "data_test$time2 = (data_test$time)^2"
   ]
  },
  {
   "cell_type": "code",
   "execution_count": 23,
   "metadata": {},
   "outputs": [
    {
     "name": "stdout",
     "output_type": "stream",
     "text": [
      "\n",
      " 1 \n"
     ]
    },
    {
     "name": "stderr",
     "output_type": "stream",
     "text": [
      "boundary (singular) fit: see ?isSingular\n",
      "boundary (singular) fit: see ?isSingular\n"
     ]
    },
    {
     "name": "stdout",
     "output_type": "stream",
     "text": [
      "[1] \"V1\"   \"V2\"   \"V3\"   \"V93\"  \"V301\"\n",
      "[1] \"V1\"   \"V2\"   \"V3\"   \"V93\"  \"V301\"\n",
      "\n",
      " 2 \n",
      "[1] \"V1\"   \"V2\"   \"V3\"   \"V51\"  \"V86\"  \"V105\" \"V301\" \"V302\" \"V303\"\n",
      "[1] \"V1\"   \"V2\"   \"V3\"   \"V301\" \"V302\" \"V303\"\n",
      "\n",
      " 3 \n"
     ]
    },
    {
     "name": "stderr",
     "output_type": "stream",
     "text": [
      "boundary (singular) fit: see ?isSingular\n",
      "boundary (singular) fit: see ?isSingular\n"
     ]
    },
    {
     "name": "stdout",
     "output_type": "stream",
     "text": [
      "[1] \"V1\"   \"V2\"   \"V3\"   \"V13\"  \"V22\"  \"V68\"  \"V301\" \"V303\"\n",
      "[1] \"V1\"   \"V2\"   \"V3\"   \"V13\"  \"V22\"  \"V68\"  \"V301\" \"V303\"\n",
      "\n",
      " 4 \n",
      "[1] \"V1\"   \"V2\"   \"V3\"   \"V45\"  \"V54\"  \"V68\"  \"V301\" \"V329\" \"V337\"\n",
      "[1] \"V1\"   \"V2\"   \"V3\"   \"V45\"  \"V54\"  \"V68\"  \"V301\"\n",
      "\n",
      " 5 \n"
     ]
    },
    {
     "name": "stderr",
     "output_type": "stream",
     "text": [
      "boundary (singular) fit: see ?isSingular\n",
      "boundary (singular) fit: see ?isSingular\n",
      "boundary (singular) fit: see ?isSingular\n",
      "boundary (singular) fit: see ?isSingular\n"
     ]
    },
    {
     "name": "stdout",
     "output_type": "stream",
     "text": [
      " [1] \"V1\"   \"V2\"   \"V3\"   \"V14\"  \"V26\"  \"V68\"  \"V106\" \"V154\" \"V172\" \"V301\"\n",
      "[11] \"V302\" \"V303\" \"V319\" \"V348\"\n"
     ]
    },
    {
     "name": "stderr",
     "output_type": "stream",
     "text": [
      "boundary (singular) fit: see ?isSingular\n",
      "boundary (singular) fit: see ?isSingular\n"
     ]
    },
    {
     "name": "stdout",
     "output_type": "stream",
     "text": [
      "[1] \"V1\"   \"V2\"   \"V3\"   \"V14\"  \"V26\"  \"V301\" \"V302\" \"V303\"\n",
      "\n",
      " 6 \n",
      " [1] \"V1\"   \"V2\"   \"V3\"   \"V40\"  \"V88\"  \"V301\" \"V302\" \"V303\" \"V317\" \"V334\"\n",
      "[11] \"V351\"\n",
      "[1] \"V1\"   \"V2\"   \"V3\"   \"V88\"  \"V301\" \"V302\" \"V303\"\n",
      "\n",
      " 7 \n",
      " [1] \"V1\"   \"V2\"   \"V3\"   \"V18\"  \"V27\"  \"V61\"  \"V89\"  \"V301\" \"V302\" \"V303\"\n",
      "[11] \"V389\"\n",
      "[1] \"V1\"   \"V2\"   \"V3\"   \"V18\"  \"V27\"  \"V61\"  \"V301\" \"V302\" \"V303\"\n"
     ]
    }
   ],
   "source": [
    "n_list = c(100,150,200,250,300,350,400)\n",
    "time_list = 1:(length(n_list)) # running time\n",
    "error_list = 1:(length(n_list)) # mse error\n",
    "T = 5\n",
    "for (i in 1:(length(n_list))){\n",
    "    flush.console()\n",
    "    cat(\"\\n\",i,\"\\n\")\n",
    "    n = n_list[i]\n",
    "    set.seed(100)\n",
    "    data <- sim(n,T,p=400,var_list)\n",
    "#     data <- sim_quad(n,T)\n",
    "    data$time2 = (data$time)^2\n",
    "    \n",
    "    a = Sys.time()\n",
    "    error_list[i] = Longtree(data,data_test,p=400)\n",
    "    b = Sys.time()\n",
    "    time_list[i] = b-a\n",
    "}"
   ]
  },
  {
   "cell_type": "markdown",
   "metadata": {},
   "source": [
    "Note: For the n=150 case, the feature selection is perfect, but in terms of prediction, it is still worse than n=400 case, even if n=400 choose some other features. The reason is that for a correct model, it should not only use the correct features, but also correct \"paramters\". May be n=150 builds a wrong tree using the correct models."
   ]
  },
  {
   "cell_type": "code",
   "execution_count": 24,
   "metadata": {},
   "outputs": [
    {
     "data": {
      "image/png": "[encoded data removed]",
      "text/plain": [
       "Plot with title \"error VS n when p=400\""
      ]
     },
     "metadata": {},
     "output_type": "display_data"
    }
   ],
   "source": [
    "plot(n_list,error_list,main=\"error VS n when p=400\")"
   ]
  },
  {
   "cell_type": "code",
   "execution_count": 25,
   "metadata": {},
   "outputs": [
    {
     "data": {
      "image/png": "[encoded data removed]",
      "text/plain": [
       "Plot with title \"running time VS n when p=400\""
      ]
     },
     "metadata": {},
     "output_type": "display_data"
    }
   ],
   "source": [
    "plot(n_list,time_list,main=\"running time VS n when p=400\")"
   ]
  },
  {
   "cell_type": "markdown",
   "metadata": {},
   "source": [
    "# Test2"
   ]
  },
  {
   "cell_type": "code",
   "execution_count": 157,
   "metadata": {},
   "outputs": [],
   "source": [
    "var_list = c(0,3)"
   ]
  },
  {
   "cell_type": "code",
   "execution_count": 161,
   "metadata": {},
   "outputs": [
    {
     "name": "stdout",
     "output_type": "stream",
     "text": [
      "\n",
      " 1 \n"
     ]
    },
    {
     "name": "stderr",
     "output_type": "stream",
     "text": [
      "boundary (singular) fit: see ?isSingular\n",
      "boundary (singular) fit: see ?isSingular\n",
      "boundary (singular) fit: see ?isSingular\n",
      "boundary (singular) fit: see ?isSingular\n"
     ]
    },
    {
     "name": "stdout",
     "output_type": "stream",
     "text": [
      "after screening within modules V1 V2 V3 V14 V26 V68 V106 V154 V172 V301 V302 V303 V319 V348 \n"
     ]
    },
    {
     "name": "stderr",
     "output_type": "stream",
     "text": [
      "boundary (singular) fit: see ?isSingular\n",
      "boundary (singular) fit: see ?isSingular\n"
     ]
    },
    {
     "name": "stdout",
     "output_type": "stream",
     "text": [
      "final features V1 V2 V3 V14 V26 V301 V302 V303\n",
      " 2 \n",
      "after screening within modules V1 V2 V3 V8 V32 V66 V301 V302 V303 V320 V348 V394 \n",
      "final features V1 V2 V3 V8 V32 V301 V302 V303\n",
      " 3 \n"
     ]
    },
    {
     "name": "stderr",
     "output_type": "stream",
     "text": [
      "boundary (singular) fit: see ?isSingular\n",
      "boundary (singular) fit: see ?isSingular\n",
      "boundary (singular) fit: see ?isSingular\n",
      "boundary (singular) fit: see ?isSingular\n",
      "boundary (singular) fit: see ?isSingular\n",
      "boundary (singular) fit: see ?isSingular\n",
      "boundary (singular) fit: see ?isSingular\n",
      "boundary (singular) fit: see ?isSingular\n",
      "boundary (singular) fit: see ?isSingular\n",
      "boundary (singular) fit: see ?isSingular\n"
     ]
    },
    {
     "name": "stdout",
     "output_type": "stream",
     "text": [
      "after screening within modules V1 V2 V3 V56 V69 V83 V90 V301 V302 V303 V343 V383 \n"
     ]
    },
    {
     "name": "stderr",
     "output_type": "stream",
     "text": [
      "boundary (singular) fit: see ?isSingular\n",
      "boundary (singular) fit: see ?isSingular\n"
     ]
    },
    {
     "name": "stdout",
     "output_type": "stream",
     "text": [
      "final features V1 V2 V3 V56 V83 V90 V301 V302 V303 V383\n",
      " 4 \n",
      "after screening within modules V1 V2 V3 V91 V97 V268 V301 V302 V303 \n"
     ]
    },
    {
     "name": "stderr",
     "output_type": "stream",
     "text": [
      "boundary (singular) fit: see ?isSingular\n",
      "boundary (singular) fit: see ?isSingular\n"
     ]
    },
    {
     "name": "stdout",
     "output_type": "stream",
     "text": [
      "final features V1 V2 V3 V91 V97 V301 V302 V303\n",
      " 5 \n",
      "after screening within modules V1 V2 V3 V5 V79 V301 V302 V303 \n",
      "final features V1 V2 V3 V79 V301 V302 V303\n",
      " 6 \n",
      "after screening within modules V1 V2 V3 V11 V41 V95 V96 V155 V209 V255 V301 V302 V303 \n",
      "final features V1 V2 V3 V95 V96 V301 V302 V303\n",
      " 7 \n"
     ]
    },
    {
     "name": "stderr",
     "output_type": "stream",
     "text": [
      "boundary (singular) fit: see ?isSingular\n",
      "boundary (singular) fit: see ?isSingular\n",
      "boundary (singular) fit: see ?isSingular\n",
      "boundary (singular) fit: see ?isSingular\n",
      "boundary (singular) fit: see ?isSingular\n",
      "boundary (singular) fit: see ?isSingular\n",
      "boundary (singular) fit: see ?isSingular\n",
      "boundary (singular) fit: see ?isSingular\n"
     ]
    },
    {
     "name": "stdout",
     "output_type": "stream",
     "text": [
      "after screening within modules V1 V2 V3 V24 V42 V68 V85 V937 V301 V302 V303 \n",
      "final features V1 V2 V3 V24 V42 V301 V302 V303\n",
      " 8 \n",
      "after screening within modules V1 V2 V3 V16 V66 V301 V347 \n",
      "final features V1 V2 V3 V16 V301\n",
      " 9 \n",
      "after screening within modules V1 V2 V3 V301 V302 V303 V380 \n",
      "final features V1 V2 V3 V301 V302 V303"
     ]
    }
   ],
   "source": [
    "n = 300; T=5; n_test=100\n",
    "p_list = c(400,500,600,700,800,900,1000,1100,1200)\n",
    "time_list = 1:(length(p_list)) # running time\n",
    "error_list = 1:(length(p_list)) # mse error\n",
    "for (i in 1:(length(p_list))){\n",
    "    flush.console()\n",
    "    cat(\"\\n\",i,\"\\n\")\n",
    "    \n",
    "    p = p_list[i]\n",
    "    set.seed(100)\n",
    "    data <- sim(n,T,p,var_list)\n",
    "    data$time2 = (data$time)^2\n",
    "    \n",
    "    set.seed(101)\n",
    "    data_test <- sim(n_test,T,p,var_list)\n",
    "    data_test$time2 = (data_test$time)^2\n",
    "    \n",
    "    a = Sys.time()\n",
    "    error_list[i] = Longtree(data,data_test,p=p)\n",
    "    b = Sys.time()\n",
    "    time_list[i] = b-a\n",
    "}"
   ]
  },
  {
   "cell_type": "code",
   "execution_count": 164,
   "metadata": {},
   "outputs": [
    {
     "data": {
      "image/png": "[encoded data removed]",
      "text/plain": [
       "Plot with title \"error VS p when n=300\""
      ]
     },
     "metadata": {},
     "output_type": "display_data"
    }
   ],
   "source": [
    "plot(p_list,error_list,main=\"error VS p when n=300\")"
   ]
  },
  {
   "cell_type": "code",
   "execution_count": 165,
   "metadata": {},
   "outputs": [
    {
     "data": {
      "image/png": "[encoded data removed]",
      "text/plain": [
       "Plot with title \"time VS n when n=300\""
      ]
     },
     "metadata": {},
     "output_type": "display_data"
    }
   ],
   "source": [
    "plot(p_list,time_list,main=\"time VS n when n=300\")"
   ]
  },
  {
   "cell_type": "markdown",
   "metadata": {},
   "source": [
    "# Test3"
   ]
  },
  {
   "cell_type": "markdown",
   "metadata": {},
   "source": [
    "The data has p=500 with 1,2,3,101,102,103,301,302,303 as true important features.\n",
    "First we decide how big should n be is enough to do the task (n=550 is perfect)\n",
    "Note that if we have more features, WGCNA will not help selecting the independent ones because it cannot beat others in the final selection (unless we just keep all of the important features from the grey groups). This is also a problem in Fuzzy Forest."
   ]
  },
  {
   "cell_type": "code",
   "execution_count": 169,
   "metadata": {},
   "outputs": [],
   "source": [
    "var_list = c(0,1,3)\n",
    "p = 500\n",
    "set.seed(101)\n",
    "data_test <- sim(n=100,T,p,var_list)\n",
    "data_test$time2 = (data_test$time)^2"
   ]
  },
  {
   "cell_type": "code",
   "execution_count": 93,
   "metadata": {},
   "outputs": [
    {
     "name": "stdout",
     "output_type": "stream",
     "text": [
      "\n",
      " 1 \n"
     ]
    },
    {
     "name": "stderr",
     "output_type": "stream",
     "text": [
      "boundary (singular) fit: see ?isSingular\n",
      "boundary (singular) fit: see ?isSingular\n",
      "boundary (singular) fit: see ?isSingular\n",
      "boundary (singular) fit: see ?isSingular\n",
      "boundary (singular) fit: see ?isSingular\n",
      "boundary (singular) fit: see ?isSingular\n",
      "boundary (singular) fit: see ?isSingular\n",
      "boundary (singular) fit: see ?isSingular\n",
      "boundary (singular) fit: see ?isSingular\n",
      "boundary (singular) fit: see ?isSingular\n"
     ]
    },
    {
     "name": "stdout",
     "output_type": "stream",
     "text": [
      "after screening within modules V1 V2 V26 V68 V77 V101 V102 V103 V178 V187 V189 V193 V301 \n",
      "final features V1 V2 V101 V102 V103 V178 V189 V193 V301\n",
      " 2 \n",
      "after screening within modules V3 V10 V31 V92 V93 V101 V102 V103 V106 V114 V146 V149 V168 V177 V188 V301 V302 V303 V320 \n",
      "final features V3 V10 V31 V92 V93 V101 V102 V103 V177 V188 V301 V302 V303\n",
      " 3 \n"
     ]
    },
    {
     "name": "stderr",
     "output_type": "stream",
     "text": [
      "boundary (singular) fit: see ?isSingular\n",
      "boundary (singular) fit: see ?isSingular\n",
      "boundary (singular) fit: see ?isSingular\n",
      "boundary (singular) fit: see ?isSingular\n",
      "boundary (singular) fit: see ?isSingular\n",
      "boundary (singular) fit: see ?isSingular\n",
      "boundary (singular) fit: see ?isSingular\n",
      "boundary (singular) fit: see ?isSingular\n"
     ]
    },
    {
     "name": "stdout",
     "output_type": "stream",
     "text": [
      "after screening within modules V1 V2 V3 V37 V40 V61 V64 V95 V101 V102 V103 V167 V183 V186 V301 V302 V303 V322 V364 V404 V464 \n",
      "final features V1 V2 V3 V40 V95 V101 V102 V103 V301\n",
      " 4 \n"
     ]
    },
    {
     "name": "stderr",
     "output_type": "stream",
     "text": [
      "boundary (singular) fit: see ?isSingular\n",
      "boundary (singular) fit: see ?isSingular\n",
      "boundary (singular) fit: see ?isSingular\n",
      "boundary (singular) fit: see ?isSingular\n"
     ]
    },
    {
     "name": "stdout",
     "output_type": "stream",
     "text": [
      "after screening within modules V1 V2 V3 V13 V22 V65 V101 V102 V103 V108 V155 V160 V175 V192 V301 V302 V303 V407 \n"
     ]
    },
    {
     "name": "stderr",
     "output_type": "stream",
     "text": [
      "boundary (singular) fit: see ?isSingular\n",
      "boundary (singular) fit: see ?isSingular\n"
     ]
    },
    {
     "name": "stdout",
     "output_type": "stream",
     "text": [
      "final features V1 V2 V3 V13 V22 V65 V101 V102 V103 V108 V301 V302\n",
      " 5 \n"
     ]
    },
    {
     "name": "stderr",
     "output_type": "stream",
     "text": [
      "boundary (singular) fit: see ?isSingular\n",
      "boundary (singular) fit: see ?isSingular\n"
     ]
    },
    {
     "name": "stdout",
     "output_type": "stream",
     "text": [
      "after screening within modules V1 V2 V3 V11 V48 V55 V101 V102 V103 V125 V152 V159 V168 V301 V302 V303 \n",
      "final features V1 V2 V3 V101 V102 V103 V301 V302 V303\n",
      " 6 \n"
     ]
    },
    {
     "name": "stderr",
     "output_type": "stream",
     "text": [
      "boundary (singular) fit: see ?isSingular\n",
      "boundary (singular) fit: see ?isSingular\n",
      "boundary (singular) fit: see ?isSingular\n",
      "boundary (singular) fit: see ?isSingular\n",
      "boundary (singular) fit: see ?isSingular\n",
      "boundary (singular) fit: see ?isSingular\n",
      "boundary (singular) fit: see ?isSingular\n",
      "boundary (singular) fit: see ?isSingular\n"
     ]
    },
    {
     "name": "stdout",
     "output_type": "stream",
     "text": [
      "after screening within modules V1 V2 V3 V37 V101 V102 V103 V107 V118 V158 V174 V301 V302 V305 V374 V384 \n",
      "final features V1 V2 V3 V101 V102 V103 V107 V118 V158 V301\n",
      " 7 \n"
     ]
    },
    {
     "name": "stderr",
     "output_type": "stream",
     "text": [
      "boundary (singular) fit: see ?isSingular\n",
      "boundary (singular) fit: see ?isSingular\n",
      "boundary (singular) fit: see ?isSingular\n",
      "boundary (singular) fit: see ?isSingular\n"
     ]
    },
    {
     "name": "stdout",
     "output_type": "stream",
     "text": [
      "after screening within modules V1 V2 V3 V15 V18 V37 V74 V76 V101 V102 V103 V110 V136 V139 V172 V301 V356 V380 \n",
      "final features V1 V2 V3 V15 V37 V74 V101 V102 V103 V110 V139 V301"
     ]
    }
   ],
   "source": [
    "n_list = c(250,300,400,500,550,600,650)\n",
    "# n_list = c(250,500) # for test\n",
    "error_list = 1:length(n_list)\n",
    "time_list = 1:length(n_list)\n",
    "p = 500; T = 5\n",
    "var_list = c(0,1,3)\n",
    "for (i in 1:length(n_list)){\n",
    "    flush.console()\n",
    "    cat(\"\\n\",i,\"\\n\")\n",
    "    set.seed(100)\n",
    "    n = n_list[i]\n",
    "    data <- sim(n,T,p,var_list)\n",
    "    data$time2 = (data$time)^2\n",
    "    a = Sys.time()\n",
    "    error_list[i] = Longtree(data,data_test,p=p)\n",
    "    b = Sys.time()\n",
    "    time_list[i] = b-a\n",
    "}"
   ]
  },
  {
   "cell_type": "code",
   "execution_count": 94,
   "metadata": {},
   "outputs": [
    {
     "data": {
      "image/png": "[encoded data removed]",
      "text/plain": [
       "Plot with title \"error VS n with p =500, 9 features\""
      ]
     },
     "metadata": {},
     "output_type": "display_data"
    }
   ],
   "source": [
    "plot(n_list,error_list,main = \"error VS n with p =500, 9 features\")"
   ]
  },
  {
   "cell_type": "code",
   "execution_count": 95,
   "metadata": {},
   "outputs": [
    {
     "data": {
      "image/png": "[encoded data removed]",
      "text/plain": [
       "Plot with title \"time VS n with p =500, 9 features\""
      ]
     },
     "metadata": {},
     "output_type": "display_data"
    }
   ],
   "source": [
    "plot(n_list,time_list,main = \"time VS n with p =500, 9 features\")"
   ]
  },
  {
   "cell_type": "code",
   "execution_count": 173,
   "metadata": {},
   "outputs": [
    {
     "data": {
      "text/plain": [
       "   user  system elapsed \n",
       "1550.17    5.37 1595.82 "
      ]
     },
     "metadata": {},
     "output_type": "display_data"
    },
    {
     "data": {
      "text/html": [
       "88.1852474350128"
      ],
      "text/latex": [
       "88.1852474350128"
      ],
      "text/markdown": [
       "88.1852474350128"
      ],
      "text/plain": [
       "[1] 88.18525"
      ]
     },
     "metadata": {},
     "output_type": "display_data"
    },
    {
     "data": {
      "image/png": "[encoded data removed]",
      "text/plain": [
       "Plot with title \"FF Variable Importance\""
      ]
     },
     "metadata": {},
     "output_type": "display_data"
    }
   ],
   "source": [
    "var_list = c(0,1,3); p = 500\n",
    "set.seed(101)\n",
    "data <- sim(n=500,T,p,var_list)\n",
    "data$time2 = (data$time)^2\n",
    "\n",
    "# since treatment is categorical, we cannot include it in WGCNA\n",
    "system.time({\n",
    "data_WGCNA = data[,1:p] # only the covariates\n",
    "# choose power = 6, which is not quite correct\n",
    "# Please set numericLabels = FALSE so that the label is one color (string)\n",
    "# if verbose = 3, show some details\n",
    "net = blockwiseModules(data_WGCNA, power = 6,TOMType = \"unsigned\", \n",
    "                       minModuleSize = 30,reassignThreshold = 0, \n",
    "                       mergeCutHeight = 0.25,numericLabels = FALSE, \n",
    "                       pamRespectsDendro = FALSE,verbose = 0)\n",
    "\n",
    "var = c(paste(\"V\",1:p,sep=\"\"),\"time\",\"time2\",\"treatment\")\n",
    "Formula = as.formula(paste(\"y~\",paste(var,collapse = \"+\")))\n",
    "    \n",
    "net$colors[[\"time\"]] = \"grey\"\n",
    "net$colors[[\"time2\"]] = \"grey\"\n",
    "net$colors[[\"treatment\"]] = \"grey\"\n",
    "\n",
    "ff_fit = ff(Formula,data = data,module_membership=net$colors,\n",
    "        screen_params = screen_control(min_ntree = 500),\n",
    "        select_params = select_control(min_ntree = 500,number_selected = 15), \n",
    "        final_ntree = 1000, num_processors = 1)        \n",
    "})\n",
    "mean((predict(ff_fit,new_data=data_test)-data_test$y)**2)\n",
    "varImpPlot(ff_fit$final_rf,type=2,main=\"FF Variable Importance\")"
   ]
  },
  {
   "cell_type": "code",
   "execution_count": 49,
   "metadata": {},
   "outputs": [
    {
     "data": {
      "text/plain": [
       "   user  system elapsed \n",
       " 513.61    1.19  530.22 "
      ]
     },
     "metadata": {},
     "output_type": "display_data"
    },
    {
     "data": {
      "text/html": [
       "98.6511620058933"
      ],
      "text/latex": [
       "98.6511620058933"
      ],
      "text/markdown": [
       "98.6511620058933"
      ],
      "text/plain": [
       "[1] 98.65116"
      ]
     },
     "metadata": {},
     "output_type": "display_data"
    },
    {
     "data": {
      "image/png": "[encoded data removed]",
      "text/plain": [
       "Plot with title \"RF Variable Importance\""
      ]
     },
     "metadata": {},
     "output_type": "display_data"
    }
   ],
   "source": [
    "# Random Forest (with n =1000)\n",
    "var = c(paste(\"V\",1:400,sep=\"\"),\"time\",\"time2\",\"treatment\")\n",
    "Formula = as.formula(paste(\"y~\",paste(var,collapse = \"+\")))\n",
    "system.time({\n",
    "#     set.seed(20)\n",
    "    rf <- randomForest(Formula,data)\n",
    "})\n",
    "mean((predict(rf,newdata=data_test)-data_test$y)**2)\n",
    "varImpPlot(rf,type=2,main=\"RF Variable Importance\")"
   ]
  },
  {
   "cell_type": "markdown",
   "metadata": {},
   "source": [
    "The following is when keep_grey = TRUE: that is, once we choose the important features from grey module, we will use is in the end"
   ]
  },
  {
   "cell_type": "code",
   "execution_count": 138,
   "metadata": {},
   "outputs": [
    {
     "name": "stdout",
     "output_type": "stream",
     "text": [
      "\n",
      " 1 \n"
     ]
    },
    {
     "name": "stderr",
     "output_type": "stream",
     "text": [
      "boundary (singular) fit: see ?isSingular\n",
      "boundary (singular) fit: see ?isSingular\n",
      "boundary (singular) fit: see ?isSingular\n",
      "boundary (singular) fit: see ?isSingular\n",
      "boundary (singular) fit: see ?isSingular\n",
      "boundary (singular) fit: see ?isSingular\n",
      "boundary (singular) fit: see ?isSingular\n",
      "boundary (singular) fit: see ?isSingular\n",
      "boundary (singular) fit: see ?isSingular\n",
      "boundary (singular) fit: see ?isSingular\n"
     ]
    },
    {
     "name": "stdout",
     "output_type": "stream",
     "text": [
      "after screening within modules V1 V2 V26 V68 V77 V101 V102 V103 V178 V187 V189 V193 V301 \n",
      "final features V1 V2 V101 V102 V103 V178 V189 V193 V301\n",
      " 2 \n",
      "after screening within modules V3 V10 V31 V92 V93 V101 V102 V103 V106 V114 V146 V149 V168 V177 V188 V301 V302 V303 V320 \n",
      "final features V3 V31 V92 V93 V101 V102 V103 V146 V149 V177 V188 V301 V302 V303 V320\n",
      " 3 \n"
     ]
    },
    {
     "name": "stderr",
     "output_type": "stream",
     "text": [
      "boundary (singular) fit: see ?isSingular\n",
      "boundary (singular) fit: see ?isSingular\n",
      "boundary (singular) fit: see ?isSingular\n",
      "boundary (singular) fit: see ?isSingular\n",
      "boundary (singular) fit: see ?isSingular\n",
      "boundary (singular) fit: see ?isSingular\n",
      "boundary (singular) fit: see ?isSingular\n",
      "boundary (singular) fit: see ?isSingular\n"
     ]
    },
    {
     "name": "stdout",
     "output_type": "stream",
     "text": [
      "after screening within modules V1 V2 V3 V37 V40 V61 V64 V95 V101 V102 V103 V167 V183 V186 V404 V464 V301 V302 V303 V322 V364 \n",
      "final features V1 V2 V3 V40 V95 V101 V102 V103 V167 V301 V302 V303 V322 V364\n",
      " 4 \n"
     ]
    },
    {
     "name": "stderr",
     "output_type": "stream",
     "text": [
      "boundary (singular) fit: see ?isSingular\n",
      "boundary (singular) fit: see ?isSingular\n",
      "boundary (singular) fit: see ?isSingular\n",
      "boundary (singular) fit: see ?isSingular\n"
     ]
    },
    {
     "name": "stdout",
     "output_type": "stream",
     "text": [
      "after screening within modules V1 V2 V3 V13 V22 V65 V101 V102 V103 V108 V155 V160 V175 V192 V407 V301 V302 V303 \n"
     ]
    },
    {
     "name": "stderr",
     "output_type": "stream",
     "text": [
      "boundary (singular) fit: see ?isSingular\n",
      "boundary (singular) fit: see ?isSingular\n"
     ]
    },
    {
     "name": "stdout",
     "output_type": "stream",
     "text": [
      "final features V1 V2 V3 V13 V22 V65 V101 V102 V103 V108 V192 V301 V302 V303\n",
      " 5 \n"
     ]
    },
    {
     "name": "stderr",
     "output_type": "stream",
     "text": [
      "boundary (singular) fit: see ?isSingular\n",
      "boundary (singular) fit: see ?isSingular\n"
     ]
    },
    {
     "name": "stdout",
     "output_type": "stream",
     "text": [
      "after screening within modules V1 V2 V3 V11 V48 V55 V101 V102 V103 V125 V152 V159 V168 V301 V302 V303 \n",
      "final features V1 V2 V3 V101 V102 V103 V301 V302 V303\n",
      " 6 \n"
     ]
    },
    {
     "name": "stderr",
     "output_type": "stream",
     "text": [
      "boundary (singular) fit: see ?isSingular\n",
      "boundary (singular) fit: see ?isSingular\n",
      "boundary (singular) fit: see ?isSingular\n",
      "boundary (singular) fit: see ?isSingular\n",
      "boundary (singular) fit: see ?isSingular\n",
      "boundary (singular) fit: see ?isSingular\n",
      "boundary (singular) fit: see ?isSingular\n",
      "boundary (singular) fit: see ?isSingular\n"
     ]
    },
    {
     "name": "stdout",
     "output_type": "stream",
     "text": [
      "after screening within modules V1 V2 V3 V37 V101 V102 V103 V107 V118 V158 V174 V301 V302 V305 V374 V384 \n",
      "final features V1 V2 V3 V101 V102 V103 V118 V158 V301 V302 V305 V374 V384\n",
      " 7 \n"
     ]
    },
    {
     "name": "stderr",
     "output_type": "stream",
     "text": [
      "boundary (singular) fit: see ?isSingular\n",
      "boundary (singular) fit: see ?isSingular\n",
      "boundary (singular) fit: see ?isSingular\n",
      "boundary (singular) fit: see ?isSingular\n"
     ]
    },
    {
     "name": "stdout",
     "output_type": "stream",
     "text": [
      "after screening within modules V1 V2 V3 V15 V18 V37 V74 V76 V101 V102 V103 V110 V136 V139 V172 V301 V356 V380 \n",
      "final features V1 V2 V3 V15 V37 V74 V101 V102 V103 V110 V139 V301 V356 V380"
     ]
    }
   ],
   "source": [
    "n_list = c(250,300,400,500,550,600,650)\n",
    "# n_list = c(250,500) # for test\n",
    "error_list = 1:length(n_list)\n",
    "time_list = 1:length(n_list)\n",
    "p = 500; T = 5\n",
    "var_list = c(0,1,3)\n",
    "for (i in 1:length(n_list)){\n",
    "    flush.console()\n",
    "    cat(\"\\n\",i,\"\\n\")\n",
    "    set.seed(100)\n",
    "    n = n_list[i]\n",
    "    data <- sim(n,T,p,var_list)\n",
    "    data$time2 = (data$time)^2\n",
    "    a = Sys.time()\n",
    "    error_list[i] = Longtree(data,data_test,p=p,keep_grey = TRUE)\n",
    "    b = Sys.time()\n",
    "    time_list[i] = b-a\n",
    "}"
   ]
  },
  {
   "cell_type": "code",
   "execution_count": 139,
   "metadata": {},
   "outputs": [
    {
     "data": {
      "image/png": "[encoded data removed]",
      "text/plain": [
       "Plot with title \"error VS n with p =500, 9 features\""
      ]
     },
     "metadata": {},
     "output_type": "display_data"
    }
   ],
   "source": [
    "plot(n_list,error_list,main = \"error VS n with p =500, 9 features\")"
   ]
  },
  {
   "cell_type": "markdown",
   "metadata": {},
   "source": [
    "Now we fix n = 550, increase the number of features. We can see that as number of features goes up, n=550 is not enough."
   ]
  },
  {
   "cell_type": "code",
   "execution_count": 142,
   "metadata": {},
   "outputs": [
    {
     "name": "stdout",
     "output_type": "stream",
     "text": [
      "\n",
      " 1 \n",
      "after screening within modules V1 V2 V3 V12 V26 V103 V255 V301 V302 V303 \n",
      "final features V1 V2 V3 V12 V26 V301 V302 V303\n",
      " 2 \n"
     ]
    },
    {
     "name": "stderr",
     "output_type": "stream",
     "text": [
      "boundary (singular) fit: see ?isSingular\n",
      "boundary (singular) fit: see ?isSingular\n"
     ]
    },
    {
     "name": "stdout",
     "output_type": "stream",
     "text": [
      "after screening within modules V1 V2 V3 V11 V48 V55 V101 V102 V103 V125 V152 V159 V168 V301 V302 V303 \n",
      "final features V1 V2 V3 V101 V102 V103 V301 V302 V303\n",
      " 3 \n",
      "after screening within modules V1 V2 V3 V14 V41 V60 V80 V101 V102 V103 V108 V123 V147 V189 V193 V200 V201 V202 V245 V251 V260 V271 V276 V290 V301 \n",
      "final features V1 V2 V3 V14 V41 V60 V101 V102 V103 V189 V201 V202 V260 V301\n",
      " 4 \n"
     ]
    },
    {
     "name": "stderr",
     "output_type": "stream",
     "text": [
      "boundary (singular) fit: see ?isSingular\n",
      "boundary (singular) fit: see ?isSingular\n"
     ]
    },
    {
     "name": "stdout",
     "output_type": "stream",
     "text": [
      "after screening within modules V1 V2 V3 V14 V47 V60 V99 V101 V102 V103 V131 V147 V151 V156 V201 V202 V203 V250 V401 V403 V421 V449 V468 V473 V496 V301 V302 V303 \n",
      "final features V1 V2 V3 V99 V101 V102 V103 V201 V202 V203 V301 V303 V401 V403 V449 V468"
     ]
    }
   ],
   "source": [
    "var_list_list = list(c(0,3),c(0,1,3),c(0,1,2,3),c(0,1,2,3,4))\n",
    "time_list = 1:(length(var_list_list)) # running time\n",
    "error_list = 1:(length(var_list_list)) # mse error\n",
    "p = 500\n",
    "n = 550\n",
    "\n",
    "set.seed(100)\n",
    "for (i in 1:length(var_list_list)){\n",
    "    flush.console()\n",
    "    cat(\"\\n\",i,\"\\n\")\n",
    "    \n",
    "    var_list = var_list_list[[i]]\n",
    "    \n",
    "    set.seed(100)\n",
    "    data <- sim(n,T,p,var_list)\n",
    "    data$time2 = (data$time)^2\n",
    "    \n",
    "    set.seed(101)\n",
    "    data_test <- sim(n_test,T,p,var_list)\n",
    "    data_test$time2 = (data_test$time)^2\n",
    "    \n",
    "    a = Sys.time()\n",
    "    error_list[i] = Longtree(data,data_test,p=p)\n",
    "    b = Sys.time()\n",
    "    time_list[i] = b-a\n",
    "}"
   ]
  },
  {
   "cell_type": "code",
   "execution_count": 143,
   "metadata": {},
   "outputs": [
    {
     "data": {
      "image/png": "[encoded data removed]",
      "text/plain": [
       "Plot with title \"error VS var_list\""
      ]
     },
     "metadata": {},
     "output_type": "display_data"
    }
   ],
   "source": [
    "plot(1:length(var_list_list),error_list,main = \"error VS var_list\")"
   ]
  },
  {
   "cell_type": "code",
   "execution_count": 144,
   "metadata": {},
   "outputs": [
    {
     "data": {
      "image/png": "[encoded data removed]",
      "text/plain": [
       "Plot with title \"running time VS var_list\""
      ]
     },
     "metadata": {},
     "output_type": "display_data"
    }
   ],
   "source": [
    "plot(1:length(var_list_list),time_list,main = \"running time VS var_list\")"
   ]
  },
  {
   "cell_type": "markdown",
   "metadata": {},
   "source": [
    "To sum up, if the number of true features is big, then the final_var in my method will be too numerous such that we need larger sample size to deal with so many parameters."
   ]
  }
 ],
 "metadata": {
  "kernelspec": {
   "display_name": "R",
   "language": "R",
   "name": "ir"
  },
  "language_info": {
   "codemirror_mode": "r",
   "file_extension": ".r",
   "mimetype": "text/x-r-source",
   "name": "R",
   "pygments_lexer": "r",
   "version": "3.6.0"
  }
 },
 "nbformat": 4,
 "nbformat_minor": 2
}
