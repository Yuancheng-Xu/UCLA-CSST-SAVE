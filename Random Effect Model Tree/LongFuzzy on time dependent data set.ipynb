{
 "cells": [
  {
   "cell_type": "code",
   "execution_count": 1,
   "metadata": {},
   "outputs": [
    {
     "name": "stderr",
     "output_type": "stream",
     "text": [
      "Warning message:\n",
      "\"package 'party' was built under R version 3.6.1\"Loading required package: modeltools\n",
      "Loading required package: stats4\n",
      "Loading required package: strucchange\n",
      "Warning message:\n",
      "\"package 'strucchange' was built under R version 3.6.1\"Loading required package: zoo\n",
      "\n",
      "Attaching package: 'zoo'\n",
      "\n",
      "The following objects are masked from 'package:base':\n",
      "\n",
      "    as.Date, as.Date.numeric\n",
      "\n",
      "Loading required package: sandwich\n",
      "Warning message:\n",
      "\"package 'sandwich' was built under R version 3.6.1\"\n",
      "Attaching package: 'party'\n",
      "\n",
      "The following objects are masked from 'package:partykit':\n",
      "\n",
      "    cforest, ctree, ctree_control, edge_simple, mob, mob_control,\n",
      "    node_barplot, node_bivplot, node_boxplot, node_inner, node_surv,\n",
      "    node_terminal, varimp\n",
      "\n",
      "Warning message:\n",
      "\"package 'glmertree' was built under R version 3.6.1\"Loading required package: lme4\n",
      "Warning message:\n",
      "\"package 'lme4' was built under R version 3.6.1\"Loading required package: Matrix\n",
      "\n",
      "Attaching package: 'lme4'\n",
      "\n",
      "The following object is masked from 'package:modeltools':\n",
      "\n",
      "    refit\n",
      "\n",
      "Loading required package: lattice\n",
      "Loading required package: ggplot2\n",
      "Registered S3 methods overwritten by 'ggplot2':\n",
      "  method         from \n",
      "  [.quosures     rlang\n",
      "  c.quosures     rlang\n",
      "  print.quosures rlang\n",
      "randomForest 4.6-14\n",
      "Type rfNews() to see new features/changes/bug fixes.\n",
      "\n",
      "Attaching package: 'randomForest'\n",
      "\n",
      "The following object is masked from 'package:ggplot2':\n",
      "\n",
      "    margin\n",
      "\n",
      "Warning message:\n",
      "\"package 'fuzzyforest' was built under R version 3.6.1\"\n",
      "Warning message:\n",
      "\"package 'WGCNA' was built under R version 3.6.1\"Loading required package: dynamicTreeCut\n",
      "Loading required package: fastcluster\n",
      "\n",
      "Attaching package: 'fastcluster'\n",
      "\n",
      "The following object is masked from 'package:stats':\n",
      "\n",
      "    hclust\n",
      "\n",
      "\n",
      "Attaching package: 'WGCNA'\n",
      "\n",
      "The following object is masked from 'package:stats':\n",
      "\n",
      "    cor\n",
      "\n",
      "Warning message:\n",
      "\"package 'pre' was built under R version 3.6.1\"\n",
      "Attaching package: 'pre'\n",
      "\n",
      "The following object is masked from 'package:randomForest':\n",
      "\n",
      "    importance\n",
      "\n"
     ]
    }
   ],
   "source": [
    "# install.packages(\"partykit\")\n",
    "# install.packages(\"pre\")\n",
    "library(\"partykit\")\n",
    "source(\"SimData.r\")\n",
    "library(\"party\")\n",
    "library(MASS)\n",
    "library(\"glmertree\")\n",
    "library(\"caret\") # importance and rfe\n",
    "source(\"SimData.r\")\n",
    "library(\"randomForest\")\n",
    "library(\"rpart\")\n",
    "library(\"fuzzyforest\")\n",
    "library(\"WGCNA\")\n",
    "library(\"pre\")"
   ]
  },
  {
   "cell_type": "markdown",
   "metadata": {},
   "source": [
    "# data"
   ]
  },
  {
   "cell_type": "code",
   "execution_count": 2,
   "metadata": {},
   "outputs": [
    {
     "data": {
      "text/html": [
       "<table>\n",
       "<thead><tr><th scope=col>V1</th><th scope=col>V2</th><th scope=col>V3</th><th scope=col>V4</th><th scope=col>V5</th><th scope=col>V6</th><th scope=col>V7</th><th scope=col>V8</th><th scope=col>V9</th><th scope=col>V10</th><th scope=col>...</th><th scope=col>V400</th><th scope=col>rand_int</th><th scope=col>time</th><th scope=col>treatment</th><th scope=col>patient</th><th scope=col>y</th><th scope=col>PC1</th><th scope=col>PC2</th><th scope=col>PC3</th><th scope=col>time2</th></tr></thead>\n",
       "<tbody>\n",
       "\t<tr><td>-0.9193970 </td><td> 0.4416402 </td><td>-1.6874364 </td><td>-1.2282920 </td><td>-1.4719190 </td><td>-0.7258681 </td><td>-1.0007080 </td><td>-0.5809589 </td><td>-0.6480068 </td><td>-1.0717893 </td><td>...        </td><td>-1.15259948</td><td>0.7452864  </td><td>1          </td><td>1          </td><td>1          </td><td> 8.466967  </td><td> -9.982050 </td><td>-13.036248 </td><td>-4.1435250 </td><td> 1         </td></tr>\n",
       "\t<tr><td>-0.8763958 </td><td>-0.9931904 </td><td>-0.5903482 </td><td>-0.8938970 </td><td>-1.2517455 </td><td>-0.4072832 </td><td>-1.8738281 </td><td>-1.2849527 </td><td>-1.0130168 </td><td>-0.3346373 </td><td>...        </td><td> 0.46416071</td><td>0.7452864  </td><td>2          </td><td>1          </td><td>1          </td><td>-3.849688  </td><td>-10.748425 </td><td>  2.111788 </td><td> 1.5080274 </td><td> 4         </td></tr>\n",
       "\t<tr><td>-0.6046310 </td><td>-0.3771163 </td><td>-0.8634822 </td><td>-0.9587687 </td><td>-0.8106843 </td><td> 0.2184991 </td><td>-1.4998981 </td><td>-0.8083261 </td><td>-0.2937366 </td><td>-0.7714238 </td><td>...        </td><td> 0.72893247</td><td>0.7452864  </td><td>3          </td><td>1          </td><td>1          </td><td> 7.850598  </td><td> -5.392401 </td><td> -3.561392 </td><td>-0.3662763 </td><td> 9         </td></tr>\n",
       "\t<tr><td> 0.1238469 </td><td>-1.4196072 </td><td>-0.6497125 </td><td>-0.6689533 </td><td>-1.2245386 </td><td>-1.3911706 </td><td>-0.3050343 </td><td>-0.9567550 </td><td>-1.2421426 </td><td>-0.8961609 </td><td>...        </td><td> 0.41061745</td><td>0.7452864  </td><td>4          </td><td>1          </td><td>1          </td><td> 6.635803  </td><td> -9.805820 </td><td>-17.196481 </td><td> 8.2508071 </td><td>16         </td></tr>\n",
       "\t<tr><td>-1.5415618 </td><td>-0.9090509 </td><td>-0.5699499 </td><td>-1.4404816 </td><td>-0.9707221 </td><td>-1.2020829 </td><td>-1.1336156 </td><td>-0.1288167 </td><td>-1.5646634 </td><td>-0.2275436 </td><td>...        </td><td>-1.46114720</td><td>0.7452864  </td><td>5          </td><td>1          </td><td>1          </td><td> 6.361511  </td><td>-10.347417 </td><td>  1.481799 </td><td> 1.3901661 </td><td>25         </td></tr>\n",
       "\t<tr><td>-0.3119151 </td><td>-0.7531623 </td><td>-0.3931515 </td><td>-0.3771317 </td><td>-0.7265423 </td><td>-0.6114486 </td><td>-1.1590108 </td><td>-0.7932671 </td><td>-0.8573822 </td><td>-0.5079328 </td><td>...        </td><td>-0.01890809</td><td>0.5078654  </td><td>1          </td><td>1          </td><td>2          </td><td>15.281902  </td><td> -6.948794 </td><td> -3.737099 </td><td> 3.1874258 </td><td> 1         </td></tr>\n",
       "</tbody>\n",
       "</table>\n"
      ],
      "text/latex": [
       "\\begin{tabular}{r|lllllllllllllllllllllllllllllllllllllllllllllllllllllllllllllllllllllllllllllllllllllllllllllllllllllllllllllllllllllllllllllllllllllllllllllllllllllllllllllllllllllllllllllllllllllllllllllllllllllllllllllllllllllllllllllllllllllllllllllllllllllllllllllllllllllllllllllllllllllllllllllllllllllllllllllllllllllllllllllllllllllllllllllllllllllllllllllllllllllllllllllllllllllllllllllllllllllllllllllllllllllllll}\n",
       " V1 & V2 & V3 & V4 & V5 & V6 & V7 & V8 & V9 & V10 & ... & V400 & rand\\_int & time & treatment & patient & y & PC1 & PC2 & PC3 & time2\\\\\n",
       "\\hline\n",
       "\t -0.9193970  &  0.4416402  & -1.6874364  & -1.2282920  & -1.4719190  & -0.7258681  & -1.0007080  & -0.5809589  & -0.6480068  & -1.0717893  & ...         & -1.15259948 & 0.7452864   & 1           & 1           & 1           &  8.466967   &  -9.982050  & -13.036248  & -4.1435250  &  1         \\\\\n",
       "\t -0.8763958  & -0.9931904  & -0.5903482  & -0.8938970  & -1.2517455  & -0.4072832  & -1.8738281  & -1.2849527  & -1.0130168  & -0.3346373  & ...         &  0.46416071 & 0.7452864   & 2           & 1           & 1           & -3.849688   & -10.748425  &   2.111788  &  1.5080274  &  4         \\\\\n",
       "\t -0.6046310  & -0.3771163  & -0.8634822  & -0.9587687  & -0.8106843  &  0.2184991  & -1.4998981  & -0.8083261  & -0.2937366  & -0.7714238  & ...         &  0.72893247 & 0.7452864   & 3           & 1           & 1           &  7.850598   &  -5.392401  &  -3.561392  & -0.3662763  &  9         \\\\\n",
       "\t  0.1238469  & -1.4196072  & -0.6497125  & -0.6689533  & -1.2245386  & -1.3911706  & -0.3050343  & -0.9567550  & -1.2421426  & -0.8961609  & ...         &  0.41061745 & 0.7452864   & 4           & 1           & 1           &  6.635803   &  -9.805820  & -17.196481  &  8.2508071  & 16         \\\\\n",
       "\t -1.5415618  & -0.9090509  & -0.5699499  & -1.4404816  & -0.9707221  & -1.2020829  & -1.1336156  & -0.1288167  & -1.5646634  & -0.2275436  & ...         & -1.46114720 & 0.7452864   & 5           & 1           & 1           &  6.361511   & -10.347417  &   1.481799  &  1.3901661  & 25         \\\\\n",
       "\t -0.3119151  & -0.7531623  & -0.3931515  & -0.3771317  & -0.7265423  & -0.6114486  & -1.1590108  & -0.7932671  & -0.8573822  & -0.5079328  & ...         & -0.01890809 & 0.5078654   & 1           & 1           & 2           & 15.281902   &  -6.948794  &  -3.737099  &  3.1874258  &  1         \\\\\n",
       "\\end{tabular}\n"
      ],
      "text/markdown": [
       "\n",
       "| V1 | V2 | V3 | V4 | V5 | V6 | V7 | V8 | V9 | V10 | ... | V400 | rand_int | time | treatment | patient | y | PC1 | PC2 | PC3 | time2 |\n",
       "|---|---|---|---|---|---|---|---|---|---|---|---|---|---|---|---|---|---|---|---|---|\n",
       "| -0.9193970  |  0.4416402  | -1.6874364  | -1.2282920  | -1.4719190  | -0.7258681  | -1.0007080  | -0.5809589  | -0.6480068  | -1.0717893  | ...         | -1.15259948 | 0.7452864   | 1           | 1           | 1           |  8.466967   |  -9.982050  | -13.036248  | -4.1435250  |  1          |\n",
       "| -0.8763958  | -0.9931904  | -0.5903482  | -0.8938970  | -1.2517455  | -0.4072832  | -1.8738281  | -1.2849527  | -1.0130168  | -0.3346373  | ...         |  0.46416071 | 0.7452864   | 2           | 1           | 1           | -3.849688   | -10.748425  |   2.111788  |  1.5080274  |  4          |\n",
       "| -0.6046310  | -0.3771163  | -0.8634822  | -0.9587687  | -0.8106843  |  0.2184991  | -1.4998981  | -0.8083261  | -0.2937366  | -0.7714238  | ...         |  0.72893247 | 0.7452864   | 3           | 1           | 1           |  7.850598   |  -5.392401  |  -3.561392  | -0.3662763  |  9          |\n",
       "|  0.1238469  | -1.4196072  | -0.6497125  | -0.6689533  | -1.2245386  | -1.3911706  | -0.3050343  | -0.9567550  | -1.2421426  | -0.8961609  | ...         |  0.41061745 | 0.7452864   | 4           | 1           | 1           |  6.635803   |  -9.805820  | -17.196481  |  8.2508071  | 16          |\n",
       "| -1.5415618  | -0.9090509  | -0.5699499  | -1.4404816  | -0.9707221  | -1.2020829  | -1.1336156  | -0.1288167  | -1.5646634  | -0.2275436  | ...         | -1.46114720 | 0.7452864   | 5           | 1           | 1           |  6.361511   | -10.347417  |   1.481799  |  1.3901661  | 25          |\n",
       "| -0.3119151  | -0.7531623  | -0.3931515  | -0.3771317  | -0.7265423  | -0.6114486  | -1.1590108  | -0.7932671  | -0.8573822  | -0.5079328  | ...         | -0.01890809 | 0.5078654   | 1           | 1           | 2           | 15.281902   |  -6.948794  |  -3.737099  |  3.1874258  |  1          |\n",
       "\n"
      ],
      "text/plain": [
       "  V1         V2         V3         V4         V5         V6         V7        \n",
       "1 -0.9193970  0.4416402 -1.6874364 -1.2282920 -1.4719190 -0.7258681 -1.0007080\n",
       "2 -0.8763958 -0.9931904 -0.5903482 -0.8938970 -1.2517455 -0.4072832 -1.8738281\n",
       "3 -0.6046310 -0.3771163 -0.8634822 -0.9587687 -0.8106843  0.2184991 -1.4998981\n",
       "4  0.1238469 -1.4196072 -0.6497125 -0.6689533 -1.2245386 -1.3911706 -0.3050343\n",
       "5 -1.5415618 -0.9090509 -0.5699499 -1.4404816 -0.9707221 -1.2020829 -1.1336156\n",
       "6 -0.3119151 -0.7531623 -0.3931515 -0.3771317 -0.7265423 -0.6114486 -1.1590108\n",
       "  V8         V9         V10        ... V400        rand_int  time treatment\n",
       "1 -0.5809589 -0.6480068 -1.0717893 ... -1.15259948 0.7452864 1    1        \n",
       "2 -1.2849527 -1.0130168 -0.3346373 ...  0.46416071 0.7452864 2    1        \n",
       "3 -0.8083261 -0.2937366 -0.7714238 ...  0.72893247 0.7452864 3    1        \n",
       "4 -0.9567550 -1.2421426 -0.8961609 ...  0.41061745 0.7452864 4    1        \n",
       "5 -0.1288167 -1.5646634 -0.2275436 ... -1.46114720 0.7452864 5    1        \n",
       "6 -0.7932671 -0.8573822 -0.5079328 ... -0.01890809 0.5078654 1    1        \n",
       "  patient y         PC1        PC2        PC3        time2\n",
       "1 1        8.466967  -9.982050 -13.036248 -4.1435250  1   \n",
       "2 1       -3.849688 -10.748425   2.111788  1.5080274  4   \n",
       "3 1        7.850598  -5.392401  -3.561392 -0.3662763  9   \n",
       "4 1        6.635803  -9.805820 -17.196481  8.2508071 16   \n",
       "5 1        6.361511 -10.347417   1.481799  1.3901661 25   \n",
       "6 2       15.281902  -6.948794  -3.737099  3.1874258  1   "
      ]
     },
     "metadata": {},
     "output_type": "display_data"
    }
   ],
   "source": [
    "# training data\n",
    "n <- 100 # number of patients\n",
    "T <-  5 # number of observations per patients\n",
    "\n",
    "set.seed(100)\n",
    "\n",
    "data <- sim_quad(n,T)\n",
    "\n",
    "\n",
    "#add PC\n",
    "data$PC1 = (prcomp(data[,1:100], scale = TRUE)$x)[,1]\n",
    "# data$PC1 = scale(data$PC1)/norm(scale(data$PC1),type=\"2\")\n",
    "data$PC2 = (prcomp(data[,101:200], scale = TRUE)$x)[,1]\n",
    "data$PC3 = (prcomp(data[,201:300], scale = TRUE)$x)[,1]\n",
    "\n",
    "# add time_squared\n",
    "data$time2 = (data$time)^2\n",
    "\n",
    "# # add group*time interaction\n",
    "# data$time_G1 = data$time * data$group1 # b1, time*group1\n",
    "# data$time_G2 = data$time * data$group2 # b2\n",
    "# data$time2_G1 = (data$time)^2 * data$group1 # b1 time^2 * group1\n",
    "# data$time2_G2 = (data$time)^2 * data$group2 # b2\n",
    "\n",
    "\n",
    "head(data)"
   ]
  },
  {
   "cell_type": "code",
   "execution_count": 3,
   "metadata": {},
   "outputs": [
    {
     "data": {
      "text/html": [
       "<table>\n",
       "<thead><tr><th scope=col>V1</th><th scope=col>V2</th><th scope=col>V3</th><th scope=col>V4</th><th scope=col>V5</th><th scope=col>V6</th><th scope=col>V7</th><th scope=col>V8</th><th scope=col>V9</th><th scope=col>V10</th><th scope=col>...</th><th scope=col>V400</th><th scope=col>rand_int</th><th scope=col>time</th><th scope=col>treatment</th><th scope=col>patient</th><th scope=col>y</th><th scope=col>PC1</th><th scope=col>PC2</th><th scope=col>PC3</th><th scope=col>time2</th></tr></thead>\n",
       "<tbody>\n",
       "\t<tr><td> 0.41663309</td><td> 0.89240235</td><td> 1.2629480 </td><td> 1.35291620</td><td> 0.78580562</td><td> 0.91050948</td><td> 1.2608898 </td><td> 2.0417540 </td><td> 0.97435430</td><td> 1.7156164 </td><td>...        </td><td>-0.7614910 </td><td>0.4642566  </td><td>1          </td><td>1          </td><td>1          </td><td>28.603395  </td><td>-9.8491137 </td><td> 5.968512  </td><td>-2.558372  </td><td> 1         </td></tr>\n",
       "\t<tr><td> 0.08024653</td><td> 0.57003328</td><td>-0.1347279 </td><td>-0.44784976</td><td> 1.00955878</td><td> 0.03346909</td><td> 0.4219186 </td><td> 0.1418229 </td><td> 0.16793241</td><td> 0.2035047 </td><td>...        </td><td>-0.3939817 </td><td>0.4642566  </td><td>2          </td><td>1          </td><td>1          </td><td>14.977940  </td><td>-1.6259945 </td><td>-2.471658  </td><td> 5.568015  </td><td> 4         </td></tr>\n",
       "\t<tr><td>-0.81029373</td><td>-0.67737774</td><td>-1.6411519 </td><td>-0.13767377</td><td> 0.02395855</td><td>-0.73805381</td><td>-0.7207957 </td><td>-1.4724358 </td><td>-1.01200706</td><td>-0.3608902 </td><td>...        </td><td>-1.7282629 </td><td>0.4642566  </td><td>3          </td><td>1          </td><td>1          </td><td>-9.676654  </td><td>10.9995969 </td><td> 7.273782  </td><td>-5.765773  </td><td> 9         </td></tr>\n",
       "\t<tr><td>-0.25222627</td><td>-0.04714545</td><td>-0.5320209 </td><td>-0.46777622</td><td>-0.18780604</td><td>-0.37878976</td><td>-0.1241675 </td><td> 0.7347177 </td><td>-0.46405268</td><td>-0.6129418 </td><td>...        </td><td> 0.2629397 </td><td>0.4642566  </td><td>4          </td><td>1          </td><td>1          </td><td> 4.185493  </td><td> 2.3082627 </td><td>-7.090120  </td><td> 2.413063  </td><td>16         </td></tr>\n",
       "\t<tr><td> 0.63851459</td><td>-0.08559017</td><td> 0.2423125 </td><td> 0.01722303</td><td>-0.47790233</td><td>-0.52711203</td><td> 0.7971484 </td><td>-0.5635968 </td><td> 0.76329485</td><td> 0.0910973 </td><td>...        </td><td>-1.6155898 </td><td>0.4642566  </td><td>5          </td><td>1          </td><td>1          </td><td>34.502940  </td><td> 0.1015183 </td><td> 3.899663  </td><td> 3.328615  </td><td>25         </td></tr>\n",
       "\t<tr><td> 0.28422991</td><td> 0.32789942</td><td> 1.4553146 </td><td> 0.52947934</td><td> 0.61138130</td><td> 1.29291519</td><td> 1.3110730 </td><td> 0.7731834 </td><td>-0.05554493</td><td> 1.2974275 </td><td>...        </td><td>-0.1172696 </td><td>0.1960028  </td><td>1          </td><td>1          </td><td>2          </td><td>25.357101  </td><td>-8.1165143 </td><td>27.319959  </td><td>11.288165  </td><td> 1         </td></tr>\n",
       "</tbody>\n",
       "</table>\n"
      ],
      "text/latex": [
       "\\begin{tabular}{r|lllllllllllllllllllllllllllllllllllllllllllllllllllllllllllllllllllllllllllllllllllllllllllllllllllllllllllllllllllllllllllllllllllllllllllllllllllllllllllllllllllllllllllllllllllllllllllllllllllllllllllllllllllllllllllllllllllllllllllllllllllllllllllllllllllllllllllllllllllllllllllllllllllllllllllllllllllllllllllllllllllllllllllllllllllllllllllllllllllllllllllllllllllllllllllllllllllllllllllllllllllllllll}\n",
       " V1 & V2 & V3 & V4 & V5 & V6 & V7 & V8 & V9 & V10 & ... & V400 & rand\\_int & time & treatment & patient & y & PC1 & PC2 & PC3 & time2\\\\\n",
       "\\hline\n",
       "\t  0.41663309 &  0.89240235 &  1.2629480  &  1.35291620 &  0.78580562 &  0.91050948 &  1.2608898  &  2.0417540  &  0.97435430 &  1.7156164  & ...         & -0.7614910  & 0.4642566   & 1           & 1           & 1           & 28.603395   & -9.8491137  &  5.968512   & -2.558372   &  1         \\\\\n",
       "\t  0.08024653 &  0.57003328 & -0.1347279  & -0.44784976 &  1.00955878 &  0.03346909 &  0.4219186  &  0.1418229  &  0.16793241 &  0.2035047  & ...         & -0.3939817  & 0.4642566   & 2           & 1           & 1           & 14.977940   & -1.6259945  & -2.471658   &  5.568015   &  4         \\\\\n",
       "\t -0.81029373 & -0.67737774 & -1.6411519  & -0.13767377 &  0.02395855 & -0.73805381 & -0.7207957  & -1.4724358  & -1.01200706 & -0.3608902  & ...         & -1.7282629  & 0.4642566   & 3           & 1           & 1           & -9.676654   & 10.9995969  &  7.273782   & -5.765773   &  9         \\\\\n",
       "\t -0.25222627 & -0.04714545 & -0.5320209  & -0.46777622 & -0.18780604 & -0.37878976 & -0.1241675  &  0.7347177  & -0.46405268 & -0.6129418  & ...         &  0.2629397  & 0.4642566   & 4           & 1           & 1           &  4.185493   &  2.3082627  & -7.090120   &  2.413063   & 16         \\\\\n",
       "\t  0.63851459 & -0.08559017 &  0.2423125  &  0.01722303 & -0.47790233 & -0.52711203 &  0.7971484  & -0.5635968  &  0.76329485 &  0.0910973  & ...         & -1.6155898  & 0.4642566   & 5           & 1           & 1           & 34.502940   &  0.1015183  &  3.899663   &  3.328615   & 25         \\\\\n",
       "\t  0.28422991 &  0.32789942 &  1.4553146  &  0.52947934 &  0.61138130 &  1.29291519 &  1.3110730  &  0.7731834  & -0.05554493 &  1.2974275  & ...         & -0.1172696  & 0.1960028   & 1           & 1           & 2           & 25.357101   & -8.1165143  & 27.319959   & 11.288165   &  1         \\\\\n",
       "\\end{tabular}\n"
      ],
      "text/markdown": [
       "\n",
       "| V1 | V2 | V3 | V4 | V5 | V6 | V7 | V8 | V9 | V10 | ... | V400 | rand_int | time | treatment | patient | y | PC1 | PC2 | PC3 | time2 |\n",
       "|---|---|---|---|---|---|---|---|---|---|---|---|---|---|---|---|---|---|---|---|---|\n",
       "|  0.41663309 |  0.89240235 |  1.2629480  |  1.35291620 |  0.78580562 |  0.91050948 |  1.2608898  |  2.0417540  |  0.97435430 |  1.7156164  | ...         | -0.7614910  | 0.4642566   | 1           | 1           | 1           | 28.603395   | -9.8491137  |  5.968512   | -2.558372   |  1          |\n",
       "|  0.08024653 |  0.57003328 | -0.1347279  | -0.44784976 |  1.00955878 |  0.03346909 |  0.4219186  |  0.1418229  |  0.16793241 |  0.2035047  | ...         | -0.3939817  | 0.4642566   | 2           | 1           | 1           | 14.977940   | -1.6259945  | -2.471658   |  5.568015   |  4          |\n",
       "| -0.81029373 | -0.67737774 | -1.6411519  | -0.13767377 |  0.02395855 | -0.73805381 | -0.7207957  | -1.4724358  | -1.01200706 | -0.3608902  | ...         | -1.7282629  | 0.4642566   | 3           | 1           | 1           | -9.676654   | 10.9995969  |  7.273782   | -5.765773   |  9          |\n",
       "| -0.25222627 | -0.04714545 | -0.5320209  | -0.46777622 | -0.18780604 | -0.37878976 | -0.1241675  |  0.7347177  | -0.46405268 | -0.6129418  | ...         |  0.2629397  | 0.4642566   | 4           | 1           | 1           |  4.185493   |  2.3082627  | -7.090120   |  2.413063   | 16          |\n",
       "|  0.63851459 | -0.08559017 |  0.2423125  |  0.01722303 | -0.47790233 | -0.52711203 |  0.7971484  | -0.5635968  |  0.76329485 |  0.0910973  | ...         | -1.6155898  | 0.4642566   | 5           | 1           | 1           | 34.502940   |  0.1015183  |  3.899663   |  3.328615   | 25          |\n",
       "|  0.28422991 |  0.32789942 |  1.4553146  |  0.52947934 |  0.61138130 |  1.29291519 |  1.3110730  |  0.7731834  | -0.05554493 |  1.2974275  | ...         | -0.1172696  | 0.1960028   | 1           | 1           | 2           | 25.357101   | -8.1165143  | 27.319959   | 11.288165   |  1          |\n",
       "\n"
      ],
      "text/plain": [
       "  V1          V2          V3         V4          V5          V6         \n",
       "1  0.41663309  0.89240235  1.2629480  1.35291620  0.78580562  0.91050948\n",
       "2  0.08024653  0.57003328 -0.1347279 -0.44784976  1.00955878  0.03346909\n",
       "3 -0.81029373 -0.67737774 -1.6411519 -0.13767377  0.02395855 -0.73805381\n",
       "4 -0.25222627 -0.04714545 -0.5320209 -0.46777622 -0.18780604 -0.37878976\n",
       "5  0.63851459 -0.08559017  0.2423125  0.01722303 -0.47790233 -0.52711203\n",
       "6  0.28422991  0.32789942  1.4553146  0.52947934  0.61138130  1.29291519\n",
       "  V7         V8         V9          V10        ... V400       rand_int  time\n",
       "1  1.2608898  2.0417540  0.97435430  1.7156164 ... -0.7614910 0.4642566 1   \n",
       "2  0.4219186  0.1418229  0.16793241  0.2035047 ... -0.3939817 0.4642566 2   \n",
       "3 -0.7207957 -1.4724358 -1.01200706 -0.3608902 ... -1.7282629 0.4642566 3   \n",
       "4 -0.1241675  0.7347177 -0.46405268 -0.6129418 ...  0.2629397 0.4642566 4   \n",
       "5  0.7971484 -0.5635968  0.76329485  0.0910973 ... -1.6155898 0.4642566 5   \n",
       "6  1.3110730  0.7731834 -0.05554493  1.2974275 ... -0.1172696 0.1960028 1   \n",
       "  treatment patient y         PC1        PC2       PC3       time2\n",
       "1 1         1       28.603395 -9.8491137  5.968512 -2.558372  1   \n",
       "2 1         1       14.977940 -1.6259945 -2.471658  5.568015  4   \n",
       "3 1         1       -9.676654 10.9995969  7.273782 -5.765773  9   \n",
       "4 1         1        4.185493  2.3082627 -7.090120  2.413063 16   \n",
       "5 1         1       34.502940  0.1015183  3.899663  3.328615 25   \n",
       "6 1         2       25.357101 -8.1165143 27.319959 11.288165  1   "
      ]
     },
     "metadata": {},
     "output_type": "display_data"
    }
   ],
   "source": [
    "# testing data\n",
    "n_test <- 30 # number of patients\n",
    "T <-  5 # number of observations per patients\n",
    "\n",
    "set.seed(101)\n",
    "\n",
    "data_test <- sim_quad(n_test, T)\n",
    "\n",
    "\n",
    "#add PC: only for testing; In our final algorithm we don't need PC of test data\n",
    "data_test$PC1 = (prcomp(data_test[,1:100], scale = TRUE)$x)[,1]\n",
    "# data$PC1 = scale(data$PC1)/norm(scale(data$PC1),type=\"2\")\n",
    "data_test$PC2 = (prcomp(data_test[,101:200], scale = TRUE)$x)[,1]\n",
    "data_test$PC3 = (prcomp(data_test[,201:300], scale = TRUE)$x)[,1]\n",
    "\n",
    "# add time_squared\n",
    "data_test$time2 = (data_test$time)^2\n",
    "\n",
    "# add group*time interaction\n",
    "# data_test$time_G1 = data_test$time * data_test$group1 # b1, time*group1\n",
    "# data_test$time_G2 = data_test$time * data_test$group2 # b2\n",
    "# data_test$time2_G1 = (data_test$time)^2 * data_test$group1 # b1 time^2 * group1\n",
    "# data_test$time2_G2 = (data_test$time)^2 * data_test$group2 # b2\n",
    "\n",
    "head(data_test)"
   ]
  },
  {
   "cell_type": "code",
   "execution_count": 4,
   "metadata": {},
   "outputs": [],
   "source": [
    "# Methods for extracting names of splitting features used in a tree\n",
    "# tree: a tree object; data: the train or test set\n",
    "get_split_names = function(tree,data){\n",
    "    # path: the string that contains all the node information\n",
    "    paths <- pre:::list.rules(tree, removecomplements = FALSE)\n",
    "    vnames = names(data)\n",
    "    # the regex for a variable\n",
    "    # tomatch = paste(paste(var,\"<=\"),\"|\",paste(var,\">\"),sep=\"\")\n",
    "    # match to tomatch in path\n",
    "    tmp = vnames[sapply(sapply(vnames, FUN = function(var) grep(paste(paste(var,\"<=\"),\"|\",paste(var,\">\"),sep=\"\"), paths)), length) > 0]\n",
    "    return (tmp)\n",
    "}"
   ]
  },
  {
   "cell_type": "markdown",
   "metadata": {},
   "source": [
    "# Automatic version"
   ]
  },
  {
   "cell_type": "code",
   "execution_count": 5,
   "metadata": {},
   "outputs": [],
   "source": [
    "start_time <- Sys.time()\n",
    "\n",
    "data_WGCNA = data[,1:400] # only the covariates\n",
    "# choose power = 6, which is not quite correct\n",
    "# Please set numericLabels = FALSE so that the label is one color (string)\n",
    "# if verbose = 3, show some details\n",
    "net = blockwiseModules(data_WGCNA, power = 6,TOMType = \"unsigned\", \n",
    "                       minModuleSize = 30,reassignThreshold = 0, \n",
    "                       mergeCutHeight = 0.25,numericLabels = FALSE, \n",
    "                       pamRespectsDendro = FALSE,verbose = 0)\n",
    "\n",
    "# the correspondance betweeen feature names and colors\n",
    "colors = net$colors # it is a string vector with names (that is the name is V1)\n",
    "# Get a list with the first element being all the names of first groups and so on\n",
    "# all the names of modules\n",
    "module_names = unique(colors) # all colors name\n",
    "\n",
    "# a vector with name(index) = names of modules and value = the corresponding names\n",
    "# of features (like a dictionary)\n",
    "module_dic = list()\n",
    "for (i in 1:length(module_names)){\n",
    "    module_dic[[module_names[i]]] = names(colors[colors==module_names[i]])\n",
    "}\n",
    "# module_dic"
   ]
  },
  {
   "cell_type": "code",
   "execution_count": 6,
   "metadata": {},
   "outputs": [],
   "source": [
    "##### eigengene: here we may not need this since we have time as regressor ####\n",
    "# # extract eigengenes and rename the column.\n",
    "# # The eigengene(1st pricinpal component) is L2 normalized\n",
    "# eigengene = net$MEs\n",
    "# # eigengene\n",
    "# # add eigengen to training data\n",
    "# for (name in module_names){\n",
    "#     if (name == \"grey\"){\n",
    "#         next\n",
    "#     }\n",
    "#     eigen_name = paste(\"ME\",name,sep=\"\")\n",
    "#     data[[eigen_name]] = eigengene[[eigen_name]]\n",
    "# }\n",
    "# # head(data)\n",
    "##### end eigengene ####"
   ]
  },
  {
   "cell_type": "code",
   "execution_count": 7,
   "metadata": {},
   "outputs": [
    {
     "name": "stderr",
     "output_type": "stream",
     "text": [
      "boundary (singular) fit: see ?isSingular\n",
      "boundary (singular) fit: see ?isSingular\n"
     ]
    },
    {
     "data": {
      "text/html": [
       "<ol>\n",
       "\t<li><ol class=list-inline>\n",
       "\t<li>'V1'</li>\n",
       "\t<li>'V2'</li>\n",
       "\t<li>'V3'</li>\n",
       "\t<li>'V93'</li>\n",
       "</ol>\n",
       "</li>\n",
       "\t<li></li>\n",
       "\t<li></li>\n",
       "\t<li>'V301'</li>\n",
       "</ol>\n"
      ],
      "text/latex": [
       "\\begin{enumerate}\n",
       "\\item \\begin{enumerate*}\n",
       "\\item 'V1'\n",
       "\\item 'V2'\n",
       "\\item 'V3'\n",
       "\\item 'V93'\n",
       "\\end{enumerate*}\n",
       "\n",
       "\\item \n",
       "\\item \n",
       "\\item 'V301'\n",
       "\\end{enumerate}\n"
      ],
      "text/markdown": [
       "1. 1. 'V1'\n",
       "2. 'V2'\n",
       "3. 'V3'\n",
       "4. 'V93'\n",
       "\n",
       "\n",
       "\n",
       "2. \n",
       "3. \n",
       "4. 'V301'\n",
       "\n",
       "\n"
      ],
      "text/plain": [
       "[[1]]\n",
       "[1] \"V1\"  \"V2\"  \"V3\"  \"V93\"\n",
       "\n",
       "[[2]]\n",
       "character(0)\n",
       "\n",
       "[[3]]\n",
       "character(0)\n",
       "\n",
       "[[4]]\n",
       "[1] \"V301\"\n"
      ]
     },
     "metadata": {},
     "output_type": "display_data"
    }
   ],
   "source": [
    "imp_var = list() # used to store the names of important features\n",
    "cluster_var = \"patient\" # the name should be specified by the users\n",
    "\n",
    "# For each module including grey, use model tree as following:\n",
    "# use its time and time2 as regression variables\n",
    "# use all features in the module + treatment as splitting variables\n",
    "# Finally, use all the chosen features for splitting and regression variables\n",
    "\n",
    "# for non-grey groups\n",
    "for (name in module_names){\n",
    "    \n",
    "    # in the formula, add treatment as split_var\n",
    "    split_var = module_dic[[name]] # if don't add treatment\n",
    "    split_var = c(module_dic[[name]],\"treatment\")\n",
    "    \n",
    "    # use time and time2 as regressor\n",
    "    regress_var = c(\"time2\",\"time\")\n",
    "    \n",
    "    # Formula for lmtree: use PC as regressors\n",
    "    Formula = as.formula(paste(\"y~\",paste(regress_var,collapse = \"+\"),\n",
    "                           \"|\",cluster_var,\"|\",\n",
    "                paste(split_var,collapse = \"+\")))\n",
    "    \n",
    "    # fit the tree\n",
    "    mytree = lmertree(Formula, data = data,alpha = 0.2,maxdepth=5) \n",
    "    \n",
    "    #extract important features\n",
    "    imp_var[[length(imp_var)+1]] = get_split_names(mytree$tree,data)\n",
    "    \n",
    "#     plot(mytree)\n",
    "#     flush.console()\n",
    "#     cat(\"\\n\",get_split_names(mytree$tree,data),\"\\n\")\n",
    "    # to print the error, we have to add PC to test data\n",
    "#     print(mean((predict(mytree,newdata=data_test)-data_test$y)**2))\n",
    "}\n",
    "\n",
    "\n",
    "imp_var "
   ]
  },
  {
   "cell_type": "code",
   "execution_count": 8,
   "metadata": {},
   "outputs": [
    {
     "data": {
      "text/html": [
       "<ol class=list-inline>\n",
       "\t<li>'V1'</li>\n",
       "\t<li>'V2'</li>\n",
       "\t<li>'V3'</li>\n",
       "\t<li>'V93'</li>\n",
       "\t<li>'V301'</li>\n",
       "</ol>\n"
      ],
      "text/latex": [
       "\\begin{enumerate*}\n",
       "\\item 'V1'\n",
       "\\item 'V2'\n",
       "\\item 'V3'\n",
       "\\item 'V93'\n",
       "\\item 'V301'\n",
       "\\end{enumerate*}\n"
      ],
      "text/markdown": [
       "1. 'V1'\n",
       "2. 'V2'\n",
       "3. 'V3'\n",
       "4. 'V93'\n",
       "5. 'V301'\n",
       "\n",
       "\n"
      ],
      "text/plain": [
       "[1] \"V1\"   \"V2\"   \"V3\"   \"V93\"  \"V301\""
      ]
     },
     "metadata": {},
     "output_type": "display_data"
    }
   ],
   "source": [
    "# the variables selected from all the modules\n",
    "final_var = imp_var[[1]]\n",
    "if (length(imp_var)>1){\n",
    "    for (i in 2:length(imp_var)){\n",
    "    final_var = c(final_var,imp_var[[i]])\n",
    " }\n",
    "}\n",
    "final_var"
   ]
  },
  {
   "cell_type": "code",
   "execution_count": 9,
   "metadata": {},
   "outputs": [
    {
     "data": {
      "text/html": [
       "<ol class=list-inline>\n",
       "\t<li>'V1'</li>\n",
       "\t<li>'V2'</li>\n",
       "\t<li>'V3'</li>\n",
       "\t<li>'V93'</li>\n",
       "\t<li>'V301'</li>\n",
       "</ol>\n"
      ],
      "text/latex": [
       "\\begin{enumerate*}\n",
       "\\item 'V1'\n",
       "\\item 'V2'\n",
       "\\item 'V3'\n",
       "\\item 'V93'\n",
       "\\item 'V301'\n",
       "\\end{enumerate*}\n"
      ],
      "text/markdown": [
       "1. 'V1'\n",
       "2. 'V2'\n",
       "3. 'V3'\n",
       "4. 'V93'\n",
       "5. 'V301'\n",
       "\n",
       "\n"
      ],
      "text/plain": [
       "[1] \"V1\"   \"V2\"   \"V3\"   \"V93\"  \"V301\""
      ]
     },
     "metadata": {},
     "output_type": "display_data"
    }
   ],
   "source": [
    "regress_var = c(\"time2\",\"time\")\n",
    "split_var = c(final_var,\"treatment\")\n",
    "Formula = as.formula(paste(\"y~\",paste(regress_var,collapse = \"+\"),\n",
    "                           \"|\",cluster_var,\"|\",\n",
    "                         paste(split_var,collapse = \"+\")))\n",
    "mytree = lmertree(Formula, data = data,alpha = 0.2,maxdepth=8) \n",
    "final_var = get_split_names(mytree$tree,data)\n",
    "final_var"
   ]
  },
  {
   "cell_type": "code",
   "execution_count": 10,
   "metadata": {},
   "outputs": [
    {
     "name": "stderr",
     "output_type": "stream",
     "text": [
      "fixed-effect model matrix is rank deficient so dropping 4 columns / coefficients\n",
      "fixed-effect model matrix is rank deficient so dropping 4 columns / coefficients\n"
     ]
    }
   ],
   "source": [
    "# use the final features as split&regression variables\n",
    "split_var = c(final_var,\"treatment\")\n",
    "regress_var = c(\"time2\",\"time\",split_var)\n",
    "Formula = as.formula(paste(\"y~\",paste(regress_var,collapse = \"+\"),\n",
    "                           \"|\",cluster_var,\"|\",\n",
    "                         paste(split_var,collapse = \"+\")))\n",
    "mytree = lmertree(Formula, data = data,alpha = 0.2,maxdepth=5) "
   ]
  },
  {
   "cell_type": "code",
   "execution_count": 12,
   "metadata": {},
   "outputs": [
    {
     "data": {
      "text/plain": [
       "Time difference of 10.66683 secs"
      ]
     },
     "metadata": {},
     "output_type": "display_data"
    },
    {
     "data": {
      "text/html": [
       "37.2270378625973"
      ],
      "text/latex": [
       "37.2270378625973"
      ],
      "text/markdown": [
       "37.2270378625973"
      ],
      "text/plain": [
       "[1] 37.22704"
      ]
     },
     "metadata": {},
     "output_type": "display_data"
    },
    {
     "name": "stdout",
     "output_type": "stream",
     "text": [
      "$patient\n"
     ]
    },
    {
     "data": {
      "image/png": "[encoded data removed]",
      "text/plain": [
       "plot without title"
      ]
     },
     "metadata": {},
     "output_type": "display_data"
    },
    {
     "name": "stdout",
     "output_type": "stream",
     "text": [
      "\n"
     ]
    },
    {
     "data": {
      "image/png": "[encoded data removed]",
      "text/plain": [
       "plot without title"
      ]
     },
     "metadata": {},
     "output_type": "display_data"
    }
   ],
   "source": [
    "end_time <- Sys.time()\n",
    "end_time - start_time # running time\n",
    "\n",
    "mean((predict(mytree,newdata=data_test)-data_test$y)**2)\n",
    "plot(mytree)"
   ]
  },
  {
   "cell_type": "markdown",
   "metadata": {},
   "source": [
    "# Model tree: step by step version"
   ]
  },
  {
   "cell_type": "code",
   "execution_count": 13,
   "metadata": {
    "scrolled": true
   },
   "outputs": [
    {
     "name": "stderr",
     "output_type": "stream",
     "text": [
      "fixed-effect model matrix is rank deficient so dropping 4 columns / coefficients\n",
      "fixed-effect model matrix is rank deficient so dropping 4 columns / coefficients\n"
     ]
    },
    {
     "data": {
      "text/plain": [
       "   user  system elapsed \n",
       "   0.31    0.00    0.31 "
      ]
     },
     "metadata": {},
     "output_type": "display_data"
    },
    {
     "data": {
      "text/html": [
       "36.664167408785"
      ],
      "text/latex": [
       "36.664167408785"
      ],
      "text/markdown": [
       "36.664167408785"
      ],
      "text/plain": [
       "[1] 36.66417"
      ]
     },
     "metadata": {},
     "output_type": "display_data"
    },
    {
     "data": {
      "text/html": [
       "<ol class=list-inline>\n",
       "\t<li>'V3'</li>\n",
       "\t<li>'V93'</li>\n",
       "</ol>\n"
      ],
      "text/latex": [
       "\\begin{enumerate*}\n",
       "\\item 'V3'\n",
       "\\item 'V93'\n",
       "\\end{enumerate*}\n"
      ],
      "text/markdown": [
       "1. 'V3'\n",
       "2. 'V93'\n",
       "\n",
       "\n"
      ],
      "text/plain": [
       "[1] \"V3\"  \"V93\""
      ]
     },
     "metadata": {},
     "output_type": "display_data"
    },
    {
     "data": {
      "image/png": "[encoded data removed]",
      "text/plain": [
       "plot without title"
      ]
     },
     "metadata": {},
     "output_type": "display_data"
    }
   ],
   "source": [
    "# split_var = c(paste(\"V\",301:400,sep=\"\"))\n",
    "# split_var = c(\"treatment\",paste(\"V\",1:100,sep=\"\"))\n",
    "# split_var = c(\"treatment\")\n",
    "split_var = c(\"treatment\",paste(\"V\",c(1,2,3,93,301),sep=\"\"))\n",
    "# split_var = c(\"treatment\",paste(\"V\",c(1,2,3,301,302,303),sep=\"\")) # correct\n",
    "\n",
    "# regress_var = c(\"time2\",\"time\")\n",
    "# regress_var = c(\"V1\")\n",
    "# regress_var = c(\"treatment\",\"time\",\"time2\")\n",
    "regress_var = c(\"time2\",\"time\",split_var)\n",
    "\n",
    "cluster_var = \"patient\"\n",
    "Formula = as.formula(paste(\"y~\",paste(regress_var,collapse = \"+\"),\n",
    "                           \"|\",cluster_var,\"|\",\n",
    "                         paste(split_var,collapse = \"+\")))\n",
    "# Formula\n",
    "\n",
    "system.time({\n",
    "    # you can change alpha = 0.2\n",
    "    lmm_tree <- lmertree(Formula, data = data,alpha = 0.2,maxdepth=5) \n",
    "})\n",
    "# mean square error on test data\n",
    "mean((predict(lmm_tree,newdata=data_test,re.form=NA)-data_test$y)**2)\n",
    "\n",
    "# the selected features\n",
    "get_split_names(lmm_tree$tree,data)\n",
    "\n",
    "# coef(lmm_tree)\n",
    "plot(lmm_tree,which=\"tree\",main = \"glmertree\")"
   ]
  },
  {
   "cell_type": "code",
   "execution_count": 14,
   "metadata": {},
   "outputs": [
    {
     "data": {
      "text/plain": [
       "y ~ time2 + time + treatment + V1 + V2 + V3 + V93 + V301 | patient | \n",
       "    treatment + V1 + V2 + V3 + V93 + V301"
      ]
     },
     "metadata": {},
     "output_type": "display_data"
    }
   ],
   "source": [
    "Formula"
   ]
  },
  {
   "cell_type": "code",
   "execution_count": 15,
   "metadata": {},
   "outputs": [
    {
     "data": {
      "text/html": [
       "<table>\n",
       "<thead><tr><th></th><th scope=col>(Intercept)</th><th scope=col>time2</th><th scope=col>time</th><th scope=col>treatment2</th><th scope=col>V1</th><th scope=col>V2</th><th scope=col>V3</th><th scope=col>V93</th><th scope=col>V301</th></tr></thead>\n",
       "<tbody>\n",
       "\t<tr><th scope=row>3</th><td> 42.81414 </td><td> 4.987817 </td><td>-29.78004 </td><td>NA        </td><td>3.652193  </td><td>-0.4693114</td><td>-1.712127 </td><td>-1.1851001</td><td>4.871974  </td></tr>\n",
       "\t<tr><th scope=row>4</th><td> 45.81307 </td><td> 5.173390 </td><td>-31.68475 </td><td>NA        </td><td>6.183070  </td><td> 4.0324310</td><td> 6.580569 </td><td> 1.5639061</td><td>4.873731  </td></tr>\n",
       "\t<tr><th scope=row>6</th><td>-51.00472 </td><td>-5.370108 </td><td> 31.33908 </td><td>NA        </td><td>3.836581  </td><td>-2.6028628</td><td>-3.897864 </td><td>-0.1906334</td><td>4.619385  </td></tr>\n",
       "\t<tr><th scope=row>7</th><td>-44.77145 </td><td>-4.497094 </td><td> 27.41259 </td><td>NA        </td><td>3.748250  </td><td> 5.5320579</td><td> 8.502266 </td><td> 0.2057241</td><td>5.442048  </td></tr>\n",
       "</tbody>\n",
       "</table>\n"
      ],
      "text/latex": [
       "\\begin{tabular}{r|lllllllll}\n",
       "  & (Intercept) & time2 & time & treatment2 & V1 & V2 & V3 & V93 & V301\\\\\n",
       "\\hline\n",
       "\t3 &  42.81414  &  4.987817  & -29.78004  & NA         & 3.652193   & -0.4693114 & -1.712127  & -1.1851001 & 4.871974  \\\\\n",
       "\t4 &  45.81307  &  5.173390  & -31.68475  & NA         & 6.183070   &  4.0324310 &  6.580569  &  1.5639061 & 4.873731  \\\\\n",
       "\t6 & -51.00472  & -5.370108  &  31.33908  & NA         & 3.836581   & -2.6028628 & -3.897864  & -0.1906334 & 4.619385  \\\\\n",
       "\t7 & -44.77145  & -4.497094  &  27.41259  & NA         & 3.748250   &  5.5320579 &  8.502266  &  0.2057241 & 5.442048  \\\\\n",
       "\\end{tabular}\n"
      ],
      "text/markdown": [
       "\n",
       "| <!--/--> | (Intercept) | time2 | time | treatment2 | V1 | V2 | V3 | V93 | V301 |\n",
       "|---|---|---|---|---|---|---|---|---|---|\n",
       "| 3 |  42.81414  |  4.987817  | -29.78004  | NA         | 3.652193   | -0.4693114 | -1.712127  | -1.1851001 | 4.871974   |\n",
       "| 4 |  45.81307  |  5.173390  | -31.68475  | NA         | 6.183070   |  4.0324310 |  6.580569  |  1.5639061 | 4.873731   |\n",
       "| 6 | -51.00472  | -5.370108  |  31.33908  | NA         | 3.836581   | -2.6028628 | -3.897864  | -0.1906334 | 4.619385   |\n",
       "| 7 | -44.77145  | -4.497094  |  27.41259  | NA         | 3.748250   |  5.5320579 |  8.502266  |  0.2057241 | 5.442048   |\n",
       "\n"
      ],
      "text/plain": [
       "  (Intercept) time2     time      treatment2 V1       V2         V3       \n",
       "3  42.81414    4.987817 -29.78004 NA         3.652193 -0.4693114 -1.712127\n",
       "4  45.81307    5.173390 -31.68475 NA         6.183070  4.0324310  6.580569\n",
       "6 -51.00472   -5.370108  31.33908 NA         3.836581 -2.6028628 -3.897864\n",
       "7 -44.77145   -4.497094  27.41259 NA         3.748250  5.5320579  8.502266\n",
       "  V93        V301    \n",
       "3 -1.1851001 4.871974\n",
       "4  1.5639061 4.873731\n",
       "6 -0.1906334 4.619385\n",
       "7  0.2057241 5.442048"
      ]
     },
     "metadata": {},
     "output_type": "display_data"
    }
   ],
   "source": [
    "coef(lmm_tree)"
   ]
  },
  {
   "cell_type": "code",
   "execution_count": 16,
   "metadata": {},
   "outputs": [],
   "source": [
    "# random effect (here is just intercept)\n",
    "# ranef(lmm_tree)"
   ]
  },
  {
   "cell_type": "markdown",
   "metadata": {},
   "source": [
    "# Benchmark"
   ]
  },
  {
   "cell_type": "code",
   "execution_count": 17,
   "metadata": {},
   "outputs": [
    {
     "data": {
      "text/plain": [
       "   user  system elapsed \n",
       " 126.91    0.70  131.44 "
      ]
     },
     "metadata": {},
     "output_type": "display_data"
    },
    {
     "data": {
      "text/html": [
       "82.1736822548057"
      ],
      "text/latex": [
       "82.1736822548057"
      ],
      "text/markdown": [
       "82.1736822548057"
      ],
      "text/plain": [
       "[1] 82.17368"
      ]
     },
     "metadata": {},
     "output_type": "display_data"
    },
    {
     "data": {
      "image/png": "[encoded data removed]",
      "text/plain": [
       "Plot with title \"FF Variable Importance\""
      ]
     },
     "metadata": {},
     "output_type": "display_data"
    }
   ],
   "source": [
    "# since treatment is categorical, we cannot include it in WGCNA\n",
    "\n",
    "system.time({\n",
    "data_WGCNA = data[,1:400] # only the covariates\n",
    "# choose power = 6, which is not quite correct\n",
    "# Please set numericLabels = FALSE so that the label is one color (string)\n",
    "# if verbose = 3, show some details\n",
    "net = blockwiseModules(data_WGCNA, power = 6,TOMType = \"unsigned\", \n",
    "                       minModuleSize = 30,reassignThreshold = 0, \n",
    "                       mergeCutHeight = 0.25,numericLabels = FALSE, \n",
    "                       pamRespectsDendro = FALSE,verbose = 0)\n",
    "\n",
    "var = c(paste(\"V\",1:400,sep=\"\"),\"time\",\"time2\",\"treatment\")\n",
    "Formula = as.formula(paste(\"y~\",paste(var,collapse = \"+\")))\n",
    "    \n",
    "net$colors[[\"time\"]] = \"grey\"\n",
    "net$colors[[\"time2\"]] = \"grey\"\n",
    "net$colors[[\"treatment\"]] = \"grey\"\n",
    "    \n",
    "# var = paste(\"V\",1:400,sep=\"\")\n",
    "# Formula = as.formula(paste(\"y~\",paste(var,collapse = \"+\")))\n",
    "    \n",
    "\n",
    "\n",
    "ff_fit = ff(Formula,data = data,module_membership=net$colors,\n",
    "        screen_params = screen_control(min_ntree = 500),\n",
    "        select_params = select_control(min_ntree = 500,number_selected = 15), \n",
    "        final_ntree = 5000, num_processors = 1)        \n",
    "})\n",
    "mean((predict(ff_fit,new_data=data_test)-data_test$y)**2)\n",
    "varImpPlot(ff_fit$final_rf,type=2,main=\"FF Variable Importance\")"
   ]
  },
  {
   "cell_type": "code",
   "execution_count": 18,
   "metadata": {},
   "outputs": [
    {
     "data": {
      "text/plain": [
       "   user  system elapsed \n",
       "  17.45    0.03   17.73 "
      ]
     },
     "metadata": {},
     "output_type": "display_data"
    },
    {
     "data": {
      "text/html": [
       "107.964765105644"
      ],
      "text/latex": [
       "107.964765105644"
      ],
      "text/markdown": [
       "107.964765105644"
      ],
      "text/plain": [
       "[1] 107.9648"
      ]
     },
     "metadata": {},
     "output_type": "display_data"
    },
    {
     "data": {
      "image/png": "[encoded data removed]",
      "text/plain": [
       "Plot with title \"RF Variable Importance\""
      ]
     },
     "metadata": {},
     "output_type": "display_data"
    }
   ],
   "source": [
    "# Random Forest\n",
    "var = c(paste(\"V\",1:400,sep=\"\"),\"time\",\"time2\",\"treatment\")\n",
    "Formula = as.formula(paste(\"y~\",paste(var,collapse = \"+\")))\n",
    "system.time({\n",
    "#     set.seed(20)\n",
    "    rf <- randomForest(Formula,data)\n",
    "})\n",
    "mean((predict(rf,newdata=data_test)-data_test$y)**2)\n",
    "varImpPlot(rf,type=2,main=\"RF Variable Importance\")"
   ]
  }
 ],
 "metadata": {
  "kernelspec": {
   "display_name": "R",
   "language": "R",
   "name": "ir"
  },
  "language_info": {
   "codemirror_mode": "r",
   "file_extension": ".r",
   "mimetype": "text/x-r-source",
   "name": "R",
   "pygments_lexer": "r",
   "version": "3.6.0"
  }
 },
 "nbformat": 4,
 "nbformat_minor": 2
}
