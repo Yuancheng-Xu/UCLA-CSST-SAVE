{
 "cells": [
  {
   "cell_type": "markdown",
   "metadata": {},
   "source": [
    "To improve prediction, I use the features in the same module for splitting variables and use principal components (maybe incorporate time??) for regressors!"
   ]
  },
  {
   "cell_type": "code",
   "execution_count": 1,
   "metadata": {},
   "outputs": [
    {
     "name": "stderr",
     "output_type": "stream",
     "text": [
      "Warning message:\n",
      "\"package 'party' was built under R version 3.6.1\"Loading required package: grid\n",
      "Loading required package: mvtnorm\n",
      "Loading required package: modeltools\n",
      "Loading required package: stats4\n",
      "Loading required package: strucchange\n",
      "Warning message:\n",
      "\"package 'strucchange' was built under R version 3.6.1\"Loading required package: zoo\n",
      "\n",
      "Attaching package: 'zoo'\n",
      "\n",
      "The following objects are masked from 'package:base':\n",
      "\n",
      "    as.Date, as.Date.numeric\n",
      "\n",
      "Loading required package: sandwich\n",
      "Warning message:\n",
      "\"package 'sandwich' was built under R version 3.6.1\"Warning message:\n",
      "\"package 'glmertree' was built under R version 3.6.1\"Loading required package: lme4\n",
      "Warning message:\n",
      "\"package 'lme4' was built under R version 3.6.1\"Loading required package: Matrix\n",
      "\n",
      "Attaching package: 'lme4'\n",
      "\n",
      "The following object is masked from 'package:modeltools':\n",
      "\n",
      "    refit\n",
      "\n",
      "Loading required package: partykit\n",
      "Warning message:\n",
      "\"package 'partykit' was built under R version 3.6.1\"Loading required package: libcoin\n",
      "Warning message:\n",
      "\"package 'libcoin' was built under R version 3.6.1\"\n",
      "Attaching package: 'partykit'\n",
      "\n",
      "The following objects are masked from 'package:party':\n",
      "\n",
      "    cforest, ctree, ctree_control, edge_simple, mob, mob_control,\n",
      "    node_barplot, node_bivplot, node_boxplot, node_inner, node_surv,\n",
      "    node_terminal, varimp\n",
      "\n",
      "Loading required package: lattice\n",
      "Loading required package: ggplot2\n",
      "Registered S3 methods overwritten by 'ggplot2':\n",
      "  method         from \n",
      "  [.quosures     rlang\n",
      "  c.quosures     rlang\n",
      "  print.quosures rlang\n",
      "randomForest 4.6-14\n",
      "Type rfNews() to see new features/changes/bug fixes.\n",
      "\n",
      "Attaching package: 'randomForest'\n",
      "\n",
      "The following object is masked from 'package:ggplot2':\n",
      "\n",
      "    margin\n",
      "\n",
      "Warning message:\n",
      "\"package 'fuzzyforest' was built under R version 3.6.1\"\n",
      "Warning message:\n",
      "\"package 'WGCNA' was built under R version 3.6.1\"Loading required package: dynamicTreeCut\n",
      "Loading required package: fastcluster\n",
      "\n",
      "Attaching package: 'fastcluster'\n",
      "\n",
      "The following object is masked from 'package:stats':\n",
      "\n",
      "    hclust\n",
      "\n",
      "\n",
      "Attaching package: 'WGCNA'\n",
      "\n",
      "The following object is masked from 'package:stats':\n",
      "\n",
      "    cor\n",
      "\n"
     ]
    }
   ],
   "source": [
    "library(\"party\")\n",
    "library(MASS)\n",
    "library(\"glmertree\")\n",
    "library(\"caret\")\n",
    "source(\"SimData.r\")\n",
    "library(\"randomForest\")\n",
    "library(\"rpart\")\n",
    "library(\"fuzzyforest\")\n",
    "library(\"WGCNA\")"
   ]
  },
  {
   "cell_type": "markdown",
   "metadata": {},
   "source": [
    "# Data"
   ]
  },
  {
   "cell_type": "code",
   "execution_count": 2,
   "metadata": {},
   "outputs": [
    {
     "data": {
      "text/html": [
       "<table>\n",
       "<thead><tr><th scope=col>V1</th><th scope=col>V2</th><th scope=col>V3</th><th scope=col>V4</th><th scope=col>V5</th><th scope=col>V6</th><th scope=col>V7</th><th scope=col>V8</th><th scope=col>V9</th><th scope=col>V10</th><th scope=col>...</th><th scope=col>V396</th><th scope=col>V397</th><th scope=col>V398</th><th scope=col>V399</th><th scope=col>V400</th><th scope=col>y</th><th scope=col>patient</th><th scope=col>PC1</th><th scope=col>PC2</th><th scope=col>PC3</th></tr></thead>\n",
       "<tbody>\n",
       "\t<tr><td> 0.4041948 </td><td>-0.1157621 </td><td>-0.8282505 </td><td>-0.2551767 </td><td> 0.7114005 </td><td> 0.09327738</td><td> 0.4703178 </td><td>-0.5625359 </td><td> 0.71595493</td><td> 0.1898496 </td><td>...        </td><td> 0.71453271</td><td>-0.5817907 </td><td> 0.31863009</td><td> 0.1169713 </td><td> 0.88678481</td><td> -2.108422 </td><td>1          </td><td> -0.9721104</td><td> -1.8244420</td><td> -4.7440900</td></tr>\n",
       "\t<tr><td>-0.5048507 </td><td>-1.1607588 </td><td>-0.9535845 </td><td>-1.1433429 </td><td>-0.3331617 </td><td>-1.11665992</td><td>-0.4615737 </td><td>-1.5207829 </td><td> 0.02850286</td><td>-0.3527653 </td><td>...        </td><td>-0.05631991</td><td>-1.6737887 </td><td> 0.91176834</td><td>-0.5207258 </td><td> 0.08539332</td><td>-10.907004 </td><td>1          </td><td>  7.1642065</td><td> -0.8376986</td><td>-10.5236702</td></tr>\n",
       "\t<tr><td>-0.8002010 </td><td>-0.8082677 </td><td>-1.0642596 </td><td>-1.0390025 </td><td>-0.5794711 </td><td>-0.98738083</td><td>-0.5376431 </td><td>-1.4163408 </td><td>-0.22285559</td><td>-0.4874867 </td><td>...        </td><td>-0.22036390</td><td>-2.4876058 </td><td> 0.85579524</td><td> 0.1344519 </td><td>-0.31106741</td><td> -9.646296 </td><td>1          </td><td>  7.2189515</td><td>-10.7372208</td><td>-10.1342376</td></tr>\n",
       "\t<tr><td>-0.9136394 </td><td>-1.3453939 </td><td>-1.2412924 </td><td>-0.5843280 </td><td>-0.7852858 </td><td>-1.10955238</td><td>-1.0380377 </td><td>-1.3915048 </td><td>-0.74088698</td><td>-0.3579343 </td><td>...        </td><td>-0.07577874</td><td>-3.0802759 </td><td> 0.76572763</td><td>-0.3152833 </td><td> 0.01155116</td><td> -3.301271 </td><td>1          </td><td>  9.0966711</td><td> -5.9562909</td><td>  0.3599288</td></tr>\n",
       "\t<tr><td>-1.1862461 </td><td>-0.8985310 </td><td>-1.1362628 </td><td>-0.5670641 </td><td>-0.4920586 </td><td>-0.39728046</td><td>-0.6302260 </td><td>-0.6027598 </td><td>-0.23438185</td><td>-0.3974606 </td><td>...        </td><td> 0.87427111</td><td>-2.9496439 </td><td> 0.05246792</td><td>-0.7299419 </td><td>-0.76754000</td><td> -4.642500 </td><td>1          </td><td>  6.3373150</td><td> -4.2034960</td><td>  2.0482581</td></tr>\n",
       "\t<tr><td> 0.7559472 </td><td> 2.1693698 </td><td> 1.1034058 </td><td> 1.9401066 </td><td> 0.6839483 </td><td> 1.12735727</td><td> 1.5714702 </td><td> 1.5045449 </td><td> 1.51050327</td><td> 1.6902715 </td><td>...        </td><td>-0.55237209</td><td> 0.2431390 </td><td>-1.33757722</td><td>-0.2405078 </td><td>-0.62730903</td><td> 21.973421 </td><td>2          </td><td>-16.2854556</td><td>  1.3671918</td><td> 11.1755676</td></tr>\n",
       "</tbody>\n",
       "</table>\n"
      ],
      "text/latex": [
       "\\begin{tabular}{r|lllllllllllllllllllllllllllllllllllllllllllllllllllllllllllllllllllllllllllllllllllllllllllllllllllllllllllllllllllllllllllllllllllllllllllllllllllllllllllllllllllllllllllllllllllllllllllllllllllllllllllllllllllllllllllllllllllllllllllllllllllllllllllllllllllllllllllllllllllllllllllllllllllllllllllllllllllllllllllllllllllllllllllllllllllllllllllllllllllllllllllllllllllllllllllllllllllllllllllllllllllll}\n",
       " V1 & V2 & V3 & V4 & V5 & V6 & V7 & V8 & V9 & V10 & ... & V396 & V397 & V398 & V399 & V400 & y & patient & PC1 & PC2 & PC3\\\\\n",
       "\\hline\n",
       "\t  0.4041948  & -0.1157621  & -0.8282505  & -0.2551767  &  0.7114005  &  0.09327738 &  0.4703178  & -0.5625359  &  0.71595493 &  0.1898496  & ...         &  0.71453271 & -0.5817907  &  0.31863009 &  0.1169713  &  0.88678481 &  -2.108422  & 1           &  -0.9721104 &  -1.8244420 &  -4.7440900\\\\\n",
       "\t -0.5048507  & -1.1607588  & -0.9535845  & -1.1433429  & -0.3331617  & -1.11665992 & -0.4615737  & -1.5207829  &  0.02850286 & -0.3527653  & ...         & -0.05631991 & -1.6737887  &  0.91176834 & -0.5207258  &  0.08539332 & -10.907004  & 1           &   7.1642065 &  -0.8376986 & -10.5236702\\\\\n",
       "\t -0.8002010  & -0.8082677  & -1.0642596  & -1.0390025  & -0.5794711  & -0.98738083 & -0.5376431  & -1.4163408  & -0.22285559 & -0.4874867  & ...         & -0.22036390 & -2.4876058  &  0.85579524 &  0.1344519  & -0.31106741 &  -9.646296  & 1           &   7.2189515 & -10.7372208 & -10.1342376\\\\\n",
       "\t -0.9136394  & -1.3453939  & -1.2412924  & -0.5843280  & -0.7852858  & -1.10955238 & -1.0380377  & -1.3915048  & -0.74088698 & -0.3579343  & ...         & -0.07577874 & -3.0802759  &  0.76572763 & -0.3152833  &  0.01155116 &  -3.301271  & 1           &   9.0966711 &  -5.9562909 &   0.3599288\\\\\n",
       "\t -1.1862461  & -0.8985310  & -1.1362628  & -0.5670641  & -0.4920586  & -0.39728046 & -0.6302260  & -0.6027598  & -0.23438185 & -0.3974606  & ...         &  0.87427111 & -2.9496439  &  0.05246792 & -0.7299419  & -0.76754000 &  -4.642500  & 1           &   6.3373150 &  -4.2034960 &   2.0482581\\\\\n",
       "\t  0.7559472  &  2.1693698  &  1.1034058  &  1.9401066  &  0.6839483  &  1.12735727 &  1.5714702  &  1.5045449  &  1.51050327 &  1.6902715  & ...         & -0.55237209 &  0.2431390  & -1.33757722 & -0.2405078  & -0.62730903 &  21.973421  & 2           & -16.2854556 &   1.3671918 &  11.1755676\\\\\n",
       "\\end{tabular}\n"
      ],
      "text/markdown": [
       "\n",
       "| V1 | V2 | V3 | V4 | V5 | V6 | V7 | V8 | V9 | V10 | ... | V396 | V397 | V398 | V399 | V400 | y | patient | PC1 | PC2 | PC3 |\n",
       "|---|---|---|---|---|---|---|---|---|---|---|---|---|---|---|---|---|---|---|---|---|\n",
       "|  0.4041948  | -0.1157621  | -0.8282505  | -0.2551767  |  0.7114005  |  0.09327738 |  0.4703178  | -0.5625359  |  0.71595493 |  0.1898496  | ...         |  0.71453271 | -0.5817907  |  0.31863009 |  0.1169713  |  0.88678481 |  -2.108422  | 1           |  -0.9721104 |  -1.8244420 |  -4.7440900 |\n",
       "| -0.5048507  | -1.1607588  | -0.9535845  | -1.1433429  | -0.3331617  | -1.11665992 | -0.4615737  | -1.5207829  |  0.02850286 | -0.3527653  | ...         | -0.05631991 | -1.6737887  |  0.91176834 | -0.5207258  |  0.08539332 | -10.907004  | 1           |   7.1642065 |  -0.8376986 | -10.5236702 |\n",
       "| -0.8002010  | -0.8082677  | -1.0642596  | -1.0390025  | -0.5794711  | -0.98738083 | -0.5376431  | -1.4163408  | -0.22285559 | -0.4874867  | ...         | -0.22036390 | -2.4876058  |  0.85579524 |  0.1344519  | -0.31106741 |  -9.646296  | 1           |   7.2189515 | -10.7372208 | -10.1342376 |\n",
       "| -0.9136394  | -1.3453939  | -1.2412924  | -0.5843280  | -0.7852858  | -1.10955238 | -1.0380377  | -1.3915048  | -0.74088698 | -0.3579343  | ...         | -0.07577874 | -3.0802759  |  0.76572763 | -0.3152833  |  0.01155116 |  -3.301271  | 1           |   9.0966711 |  -5.9562909 |   0.3599288 |\n",
       "| -1.1862461  | -0.8985310  | -1.1362628  | -0.5670641  | -0.4920586  | -0.39728046 | -0.6302260  | -0.6027598  | -0.23438185 | -0.3974606  | ...         |  0.87427111 | -2.9496439  |  0.05246792 | -0.7299419  | -0.76754000 |  -4.642500  | 1           |   6.3373150 |  -4.2034960 |   2.0482581 |\n",
       "|  0.7559472  |  2.1693698  |  1.1034058  |  1.9401066  |  0.6839483  |  1.12735727 |  1.5714702  |  1.5045449  |  1.51050327 |  1.6902715  | ...         | -0.55237209 |  0.2431390  | -1.33757722 | -0.2405078  | -0.62730903 |  21.973421  | 2           | -16.2854556 |   1.3671918 |  11.1755676 |\n",
       "\n"
      ],
      "text/plain": [
       "  V1         V2         V3         V4         V5         V6          V7        \n",
       "1  0.4041948 -0.1157621 -0.8282505 -0.2551767  0.7114005  0.09327738  0.4703178\n",
       "2 -0.5048507 -1.1607588 -0.9535845 -1.1433429 -0.3331617 -1.11665992 -0.4615737\n",
       "3 -0.8002010 -0.8082677 -1.0642596 -1.0390025 -0.5794711 -0.98738083 -0.5376431\n",
       "4 -0.9136394 -1.3453939 -1.2412924 -0.5843280 -0.7852858 -1.10955238 -1.0380377\n",
       "5 -1.1862461 -0.8985310 -1.1362628 -0.5670641 -0.4920586 -0.39728046 -0.6302260\n",
       "6  0.7559472  2.1693698  1.1034058  1.9401066  0.6839483  1.12735727  1.5714702\n",
       "  V8         V9          V10        ... V396        V397       V398       \n",
       "1 -0.5625359  0.71595493  0.1898496 ...  0.71453271 -0.5817907  0.31863009\n",
       "2 -1.5207829  0.02850286 -0.3527653 ... -0.05631991 -1.6737887  0.91176834\n",
       "3 -1.4163408 -0.22285559 -0.4874867 ... -0.22036390 -2.4876058  0.85579524\n",
       "4 -1.3915048 -0.74088698 -0.3579343 ... -0.07577874 -3.0802759  0.76572763\n",
       "5 -0.6027598 -0.23438185 -0.3974606 ...  0.87427111 -2.9496439  0.05246792\n",
       "6  1.5045449  1.51050327  1.6902715 ... -0.55237209  0.2431390 -1.33757722\n",
       "  V399       V400        y          patient PC1         PC2         PC3        \n",
       "1  0.1169713  0.88678481  -2.108422 1        -0.9721104  -1.8244420  -4.7440900\n",
       "2 -0.5207258  0.08539332 -10.907004 1         7.1642065  -0.8376986 -10.5236702\n",
       "3  0.1344519 -0.31106741  -9.646296 1         7.2189515 -10.7372208 -10.1342376\n",
       "4 -0.3152833  0.01155116  -3.301271 1         9.0966711  -5.9562909   0.3599288\n",
       "5 -0.7299419 -0.76754000  -4.642500 1         6.3373150  -4.2034960   2.0482581\n",
       "6 -0.2405078 -0.62730903  21.973421 2       -16.2854556   1.3671918  11.1755676"
      ]
     },
     "metadata": {},
     "output_type": "display_data"
    }
   ],
   "source": [
    "# training data\n",
    "n <- 300 # number of patients\n",
    "T <-  5 # number of observations per patients\n",
    "\n",
    "set.seed(100)\n",
    "\n",
    "data <- as.data.frame(sim_3(n, T)) \n",
    "colnames(data)[401] <- \"y\"\n",
    "\n",
    "\n",
    "# add patient/cluster information\n",
    "for (i in 1:n){\n",
    "    data$patient[(1+(i-1)*T):(i*T)] = rep(i,T)\n",
    "}\n",
    "\n",
    "#add PC\n",
    "data$PC1 = (prcomp(data[,1:100], scale = TRUE)$x)[,1]\n",
    "# data$PC1 = scale(data$PC1)/norm(scale(data$PC1),type=\"2\")\n",
    "data$PC2 = (prcomp(data[,101:200], scale = TRUE)$x)[,1]\n",
    "data$PC3 = (prcomp(data[,201:300], scale = TRUE)$x)[,1]\n",
    "\n",
    "data[1:6,]"
   ]
  },
  {
   "cell_type": "code",
   "execution_count": 3,
   "metadata": {},
   "outputs": [
    {
     "data": {
      "text/html": [
       "<table>\n",
       "<thead><tr><th scope=col>V1</th><th scope=col>V2</th><th scope=col>V3</th><th scope=col>V4</th><th scope=col>V5</th><th scope=col>V6</th><th scope=col>V7</th><th scope=col>V8</th><th scope=col>V9</th><th scope=col>V10</th><th scope=col>...</th><th scope=col>V396</th><th scope=col>V397</th><th scope=col>V398</th><th scope=col>V399</th><th scope=col>V400</th><th scope=col>y</th><th scope=col>patient</th><th scope=col>PC1</th><th scope=col>PC2</th><th scope=col>PC3</th></tr></thead>\n",
       "<tbody>\n",
       "\t<tr><td> 0.2060153 </td><td> 0.64024620</td><td> 0.34032334</td><td> 1.05586322</td><td> 1.5860748 </td><td> 0.8222607 </td><td> 0.3228772 </td><td>1.9814633  </td><td> 0.1915002 </td><td>0.1206337  </td><td>...        </td><td>-0.11273431</td><td> 0.61878986</td><td>1.1739663  </td><td> 0.3107692 </td><td> 0.21435946</td><td> 12.804991 </td><td>1          </td><td> 5.4577805 </td><td>-5.707052  </td><td> 3.575336  </td></tr>\n",
       "\t<tr><td> 1.0581125 </td><td> 1.83637294</td><td> 1.28134711</td><td> 1.95099335</td><td> 2.1117273 </td><td> 1.5162299 </td><td> 1.1903985 </td><td>2.6089574  </td><td> 1.1034408 </td><td>0.7703308  </td><td>...        </td><td>-0.07525858</td><td>-0.32767601</td><td>0.4441376  </td><td> 0.3337583 </td><td> 0.43528673</td><td> 31.115945 </td><td>1          </td><td>14.2953109 </td><td> 6.727536  </td><td> 4.694684  </td></tr>\n",
       "\t<tr><td> 0.4365846 </td><td> 1.46430543</td><td> 0.75723534</td><td> 1.59393501</td><td> 1.4047144 </td><td> 0.6625449 </td><td> 0.5281878 </td><td>1.8311688  </td><td> 0.8361954 </td><td>0.9370753  </td><td>...        </td><td>-0.09250902</td><td> 0.16902591</td><td>0.9010316  </td><td> 0.1224454 </td><td> 0.57227788</td><td> 17.608712 </td><td>1          </td><td> 9.6293159 </td><td> 3.598046  </td><td>11.616276  </td></tr>\n",
       "\t<tr><td> 0.3370362 </td><td> 1.27335072</td><td> 0.85899400</td><td> 1.14445890</td><td> 1.0956487 </td><td> 0.4145852 </td><td> 0.3415175 </td><td>1.8317050  </td><td> 0.4938670 </td><td>1.2542567  </td><td>...        </td><td> 0.17486941</td><td> 0.03718500</td><td>1.0193002  </td><td> 0.2050546 </td><td> 0.07434591</td><td> 10.629618 </td><td>1          </td><td> 7.5569242 </td><td> 5.540730  </td><td> 3.241353  </td></tr>\n",
       "\t<tr><td>-1.0935606 </td><td>-0.04208021</td><td>-0.06375357</td><td>-0.02680852</td><td>-0.2886002 </td><td>-0.6175841 </td><td>-0.8728703 </td><td>0.5218694  </td><td>-0.7432135 </td><td>0.2455381  </td><td>...        </td><td> 0.08441171</td><td> 0.09446398</td><td>0.4766140  </td><td>-1.2353549 </td><td>-0.25145304</td><td>-10.864407 </td><td>1          </td><td>-3.5806759 </td><td>10.413707  </td><td> 7.551542  </td></tr>\n",
       "\t<tr><td> 0.2791273 </td><td> 0.75162924</td><td>-0.30528207</td><td>-0.21112131</td><td>-0.2949749 </td><td>-0.2916753 </td><td> 0.1386101 </td><td>0.7237688  </td><td> 0.8251524 </td><td>0.4313684  </td><td>...        </td><td>-0.86593112</td><td> 2.28742993</td><td>0.6374255  </td><td> 0.4740288 </td><td> 1.31109763</td><td>  7.806119 </td><td>2          </td><td>-0.3818383 </td><td> 3.195289  </td><td>-9.555655  </td></tr>\n",
       "</tbody>\n",
       "</table>\n"
      ],
      "text/latex": [
       "\\begin{tabular}{r|lllllllllllllllllllllllllllllllllllllllllllllllllllllllllllllllllllllllllllllllllllllllllllllllllllllllllllllllllllllllllllllllllllllllllllllllllllllllllllllllllllllllllllllllllllllllllllllllllllllllllllllllllllllllllllllllllllllllllllllllllllllllllllllllllllllllllllllllllllllllllllllllllllllllllllllllllllllllllllllllllllllllllllllllllllllllllllllllllllllllllllllllllllllllllllllllllllllllllllllllllllll}\n",
       " V1 & V2 & V3 & V4 & V5 & V6 & V7 & V8 & V9 & V10 & ... & V396 & V397 & V398 & V399 & V400 & y & patient & PC1 & PC2 & PC3\\\\\n",
       "\\hline\n",
       "\t  0.2060153  &  0.64024620 &  0.34032334 &  1.05586322 &  1.5860748  &  0.8222607  &  0.3228772  & 1.9814633   &  0.1915002  & 0.1206337   & ...         & -0.11273431 &  0.61878986 & 1.1739663   &  0.3107692  &  0.21435946 &  12.804991  & 1           &  5.4577805  & -5.707052   &  3.575336  \\\\\n",
       "\t  1.0581125  &  1.83637294 &  1.28134711 &  1.95099335 &  2.1117273  &  1.5162299  &  1.1903985  & 2.6089574   &  1.1034408  & 0.7703308   & ...         & -0.07525858 & -0.32767601 & 0.4441376   &  0.3337583  &  0.43528673 &  31.115945  & 1           & 14.2953109  &  6.727536   &  4.694684  \\\\\n",
       "\t  0.4365846  &  1.46430543 &  0.75723534 &  1.59393501 &  1.4047144  &  0.6625449  &  0.5281878  & 1.8311688   &  0.8361954  & 0.9370753   & ...         & -0.09250902 &  0.16902591 & 0.9010316   &  0.1224454  &  0.57227788 &  17.608712  & 1           &  9.6293159  &  3.598046   & 11.616276  \\\\\n",
       "\t  0.3370362  &  1.27335072 &  0.85899400 &  1.14445890 &  1.0956487  &  0.4145852  &  0.3415175  & 1.8317050   &  0.4938670  & 1.2542567   & ...         &  0.17486941 &  0.03718500 & 1.0193002   &  0.2050546  &  0.07434591 &  10.629618  & 1           &  7.5569242  &  5.540730   &  3.241353  \\\\\n",
       "\t -1.0935606  & -0.04208021 & -0.06375357 & -0.02680852 & -0.2886002  & -0.6175841  & -0.8728703  & 0.5218694   & -0.7432135  & 0.2455381   & ...         &  0.08441171 &  0.09446398 & 0.4766140   & -1.2353549  & -0.25145304 & -10.864407  & 1           & -3.5806759  & 10.413707   &  7.551542  \\\\\n",
       "\t  0.2791273  &  0.75162924 & -0.30528207 & -0.21112131 & -0.2949749  & -0.2916753  &  0.1386101  & 0.7237688   &  0.8251524  & 0.4313684   & ...         & -0.86593112 &  2.28742993 & 0.6374255   &  0.4740288  &  1.31109763 &   7.806119  & 2           & -0.3818383  &  3.195289   & -9.555655  \\\\\n",
       "\\end{tabular}\n"
      ],
      "text/markdown": [
       "\n",
       "| V1 | V2 | V3 | V4 | V5 | V6 | V7 | V8 | V9 | V10 | ... | V396 | V397 | V398 | V399 | V400 | y | patient | PC1 | PC2 | PC3 |\n",
       "|---|---|---|---|---|---|---|---|---|---|---|---|---|---|---|---|---|---|---|---|---|\n",
       "|  0.2060153  |  0.64024620 |  0.34032334 |  1.05586322 |  1.5860748  |  0.8222607  |  0.3228772  | 1.9814633   |  0.1915002  | 0.1206337   | ...         | -0.11273431 |  0.61878986 | 1.1739663   |  0.3107692  |  0.21435946 |  12.804991  | 1           |  5.4577805  | -5.707052   |  3.575336   |\n",
       "|  1.0581125  |  1.83637294 |  1.28134711 |  1.95099335 |  2.1117273  |  1.5162299  |  1.1903985  | 2.6089574   |  1.1034408  | 0.7703308   | ...         | -0.07525858 | -0.32767601 | 0.4441376   |  0.3337583  |  0.43528673 |  31.115945  | 1           | 14.2953109  |  6.727536   |  4.694684   |\n",
       "|  0.4365846  |  1.46430543 |  0.75723534 |  1.59393501 |  1.4047144  |  0.6625449  |  0.5281878  | 1.8311688   |  0.8361954  | 0.9370753   | ...         | -0.09250902 |  0.16902591 | 0.9010316   |  0.1224454  |  0.57227788 |  17.608712  | 1           |  9.6293159  |  3.598046   | 11.616276   |\n",
       "|  0.3370362  |  1.27335072 |  0.85899400 |  1.14445890 |  1.0956487  |  0.4145852  |  0.3415175  | 1.8317050   |  0.4938670  | 1.2542567   | ...         |  0.17486941 |  0.03718500 | 1.0193002   |  0.2050546  |  0.07434591 |  10.629618  | 1           |  7.5569242  |  5.540730   |  3.241353   |\n",
       "| -1.0935606  | -0.04208021 | -0.06375357 | -0.02680852 | -0.2886002  | -0.6175841  | -0.8728703  | 0.5218694   | -0.7432135  | 0.2455381   | ...         |  0.08441171 |  0.09446398 | 0.4766140   | -1.2353549  | -0.25145304 | -10.864407  | 1           | -3.5806759  | 10.413707   |  7.551542   |\n",
       "|  0.2791273  |  0.75162924 | -0.30528207 | -0.21112131 | -0.2949749  | -0.2916753  |  0.1386101  | 0.7237688   |  0.8251524  | 0.4313684   | ...         | -0.86593112 |  2.28742993 | 0.6374255   |  0.4740288  |  1.31109763 |   7.806119  | 2           | -0.3818383  |  3.195289   | -9.555655   |\n",
       "\n"
      ],
      "text/plain": [
       "  V1         V2          V3          V4          V5         V6        \n",
       "1  0.2060153  0.64024620  0.34032334  1.05586322  1.5860748  0.8222607\n",
       "2  1.0581125  1.83637294  1.28134711  1.95099335  2.1117273  1.5162299\n",
       "3  0.4365846  1.46430543  0.75723534  1.59393501  1.4047144  0.6625449\n",
       "4  0.3370362  1.27335072  0.85899400  1.14445890  1.0956487  0.4145852\n",
       "5 -1.0935606 -0.04208021 -0.06375357 -0.02680852 -0.2886002 -0.6175841\n",
       "6  0.2791273  0.75162924 -0.30528207 -0.21112131 -0.2949749 -0.2916753\n",
       "  V7         V8        V9         V10       ... V396        V397       \n",
       "1  0.3228772 1.9814633  0.1915002 0.1206337 ... -0.11273431  0.61878986\n",
       "2  1.1903985 2.6089574  1.1034408 0.7703308 ... -0.07525858 -0.32767601\n",
       "3  0.5281878 1.8311688  0.8361954 0.9370753 ... -0.09250902  0.16902591\n",
       "4  0.3415175 1.8317050  0.4938670 1.2542567 ...  0.17486941  0.03718500\n",
       "5 -0.8728703 0.5218694 -0.7432135 0.2455381 ...  0.08441171  0.09446398\n",
       "6  0.1386101 0.7237688  0.8251524 0.4313684 ... -0.86593112  2.28742993\n",
       "  V398      V399       V400        y          patient PC1        PC2      \n",
       "1 1.1739663  0.3107692  0.21435946  12.804991 1        5.4577805 -5.707052\n",
       "2 0.4441376  0.3337583  0.43528673  31.115945 1       14.2953109  6.727536\n",
       "3 0.9010316  0.1224454  0.57227788  17.608712 1        9.6293159  3.598046\n",
       "4 1.0193002  0.2050546  0.07434591  10.629618 1        7.5569242  5.540730\n",
       "5 0.4766140 -1.2353549 -0.25145304 -10.864407 1       -3.5806759 10.413707\n",
       "6 0.6374255  0.4740288  1.31109763   7.806119 2       -0.3818383  3.195289\n",
       "  PC3      \n",
       "1  3.575336\n",
       "2  4.694684\n",
       "3 11.616276\n",
       "4  3.241353\n",
       "5  7.551542\n",
       "6 -9.555655"
      ]
     },
     "metadata": {},
     "output_type": "display_data"
    }
   ],
   "source": [
    "# test data\n",
    "n_test <- 100\n",
    "T <-  5 # number of observations per patients\n",
    "set.seed(101)\n",
    "data_test <- as.data.frame(sim_3(n_test, T)) \n",
    "colnames(data_test)[401] <- \"y\"\n",
    "\n",
    "\n",
    "# add patient/cluster information\n",
    "for (i in 1:n_test){\n",
    "    data_test$patient[(1+(i-1)*T):(i*T)] = rep(i,T)\n",
    "}\n",
    "\n",
    "# pca\n",
    "# DANGEROUS: the PC can be +PC or -PC, so the prediction on test data shoule\n",
    "# better not use PC of data_test! (the coefficient of linear model is fixed)\n",
    "data_test$PC1 = -(prcomp(data_test[,1:100], scale = TRUE)$x)[,1]\n",
    "# data_test$PC1 = scale(data_test$PC1)/norm(scale(data_test$PC1),type=\"2\")\n",
    "data_test$PC2 = (prcomp(data_test[,101:200], scale = TRUE)$x)[,1]\n",
    "data_test$PC3 = (prcomp(data_test[,201:300], scale = TRUE)$x)[,1] \n",
    "\n",
    "\n",
    "data_test[1:6,]"
   ]
  },
  {
   "cell_type": "code",
   "execution_count": 75,
   "metadata": {},
   "outputs": [],
   "source": [
    "# see what is the proportion of explained sum of squares\n",
    "# prcomp(data_test[,201:300], scale = TRUE)\n",
    "# prcomp(data_test[,301:400], scale = TRUE)"
   ]
  },
  {
   "cell_type": "code",
   "execution_count": 4,
   "metadata": {},
   "outputs": [],
   "source": [
    "# Methods for extracting names of splitting features used in a tree\n",
    "# tree: a tree object; data: the train or test set\n",
    "get_split_names = function(tree,data){\n",
    "    # path: the string that contains all the node information\n",
    "    paths <- pre:::list.rules(tree, removecomplements = FALSE)\n",
    "    vnames = names(data)\n",
    "    # the regex for a variable\n",
    "    # tomatch = paste(paste(var,\"<=\"),\"|\",paste(var,\">\"),sep=\"\")\n",
    "    # match to tomatch in path\n",
    "    tmp = vnames[sapply(sapply(vnames, FUN = function(var) grep(paste(paste(var,\"<=\"),\"|\",paste(var,\">\"),sep=\"\"), paths)), length) > 0]\n",
    "    return (tmp)\n",
    "}"
   ]
  },
  {
   "cell_type": "markdown",
   "metadata": {},
   "source": [
    "# Gtree"
   ]
  },
  {
   "cell_type": "code",
   "execution_count": 98,
   "metadata": {},
   "outputs": [],
   "source": [
    "regress_var = paste(\"PC\",c(1),sep=\"\")\n",
    "# regress_var = paste(\"PC\",c(1,2,3),sep=\"\")\n",
    "# regress_var = paste(\"V\",c(1,2,3,60,301,302,306),sep=\"\") # abs correct regressor\n",
    "# regress_var = paste(\"V\",c(1,2,3,301,302),sep=\"\") # abs correct regressor\n",
    "# regress_var = paste(\"V\",301:400,sep=\"\") # abs correct regressor\n",
    "# regress_var = \"1\"\n",
    "\n",
    "split_var = paste(\"V\",1:100,sep=\"\") # always use all the features to split\n",
    "# split_var = paste(\"V\",c(1,2,3,301,302),sep=\"\") # abs correct regressor\n",
    "# split_var = paste(\"V\",c(1,2,3,60,301,302,306),sep=\"\")\n",
    "# split_var = paste(\"V\",c(3,2),sep=\"\")\n",
    "\n",
    "cluster_var = \"patient\"\n",
    "Formula = as.formula(paste(\"y~\",paste(regress_var,collapse = \"+\"),\n",
    "                           \"|\",cluster_var,\"|\",\n",
    "                         paste(split_var,collapse = \"+\")))"
   ]
  },
  {
   "cell_type": "code",
   "execution_count": 99,
   "metadata": {},
   "outputs": [
    {
     "data": {
      "text/plain": [
       "   user  system elapsed \n",
       "  13.43    0.09   14.36 "
      ]
     },
     "metadata": {},
     "output_type": "display_data"
    },
    {
     "data": {
      "text/html": [
       "922.805849982832"
      ],
      "text/latex": [
       "922.805849982832"
      ],
      "text/markdown": [
       "922.805849982832"
      ],
      "text/plain": [
       "[1] 922.8058"
      ]
     },
     "metadata": {},
     "output_type": "display_data"
    },
    {
     "data": {
      "text/html": [
       "<ol class=list-inline>\n",
       "\t<li>'V1'</li>\n",
       "\t<li>'V2'</li>\n",
       "\t<li>'V3'</li>\n",
       "\t<li>'V60'</li>\n",
       "</ol>\n"
      ],
      "text/latex": [
       "\\begin{enumerate*}\n",
       "\\item 'V1'\n",
       "\\item 'V2'\n",
       "\\item 'V3'\n",
       "\\item 'V60'\n",
       "\\end{enumerate*}\n"
      ],
      "text/markdown": [
       "1. 'V1'\n",
       "2. 'V2'\n",
       "3. 'V3'\n",
       "4. 'V60'\n",
       "\n",
       "\n"
      ],
      "text/plain": [
       "[1] \"V1\"  \"V2\"  \"V3\"  \"V60\""
      ]
     },
     "metadata": {},
     "output_type": "display_data"
    }
   ],
   "source": [
    "system.time({\n",
    "    # you can change alpha = 0.2\n",
    "    lmm_tree <- lmertree(Formula, data = data,alpha = 0.2,maxdepth=5) \n",
    "})\n",
    "# mean square error on test data\n",
    "mean((predict(lmm_tree,newdata=data_test,re.form=NA)-data_test$y)**2)\n",
    "\n",
    "# the selected features\n",
    "get_split_names(lmm_tree$tree,data)\n",
    "\n",
    "# coef(lmm_tree)\n",
    "# plot(lmm_tree,which=\"tree\",main = \"glmertree\")"
   ]
  },
  {
   "cell_type": "markdown",
   "metadata": {},
   "source": [
    "# PCA TEST"
   ]
  },
  {
   "cell_type": "code",
   "execution_count": 53,
   "metadata": {},
   "outputs": [
    {
     "data": {
      "text/html": [
       "<table>\n",
       "<tbody>\n",
       "\t<tr><td>1</td><td>1</td><td>1</td><td>1</td></tr>\n",
       "\t<tr><td>1</td><td>1</td><td>1</td><td>1</td></tr>\n",
       "\t<tr><td>1</td><td>1</td><td>1</td><td>1</td></tr>\n",
       "</tbody>\n",
       "</table>\n"
      ],
      "text/latex": [
       "\\begin{tabular}{llll}\n",
       "\t 1 & 1 & 1 & 1\\\\\n",
       "\t 1 & 1 & 1 & 1\\\\\n",
       "\t 1 & 1 & 1 & 1\\\\\n",
       "\\end{tabular}\n"
      ],
      "text/markdown": [
       "\n",
       "| 1 | 1 | 1 | 1 |\n",
       "| 1 | 1 | 1 | 1 |\n",
       "| 1 | 1 | 1 | 1 |\n",
       "\n"
      ],
      "text/plain": [
       "     [,1] [,2] [,3] [,4]\n",
       "[1,] 1    1    1    1   \n",
       "[2,] 1    1    1    1   \n",
       "[3,] 1    1    1    1   "
      ]
     },
     "metadata": {},
     "output_type": "display_data"
    },
    {
     "data": {
      "text/html": [
       "<table>\n",
       "<tbody>\n",
       "\t<tr><td>4</td><td>4</td><td>4</td></tr>\n",
       "\t<tr><td>4</td><td>4</td><td>4</td></tr>\n",
       "\t<tr><td>4</td><td>4</td><td>4</td></tr>\n",
       "</tbody>\n",
       "</table>\n"
      ],
      "text/latex": [
       "\\begin{tabular}{lll}\n",
       "\t 4 & 4 & 4\\\\\n",
       "\t 4 & 4 & 4\\\\\n",
       "\t 4 & 4 & 4\\\\\n",
       "\\end{tabular}\n"
      ],
      "text/markdown": [
       "\n",
       "| 4 | 4 | 4 |\n",
       "| 4 | 4 | 4 |\n",
       "| 4 | 4 | 4 |\n",
       "\n"
      ],
      "text/plain": [
       "     [,1] [,2] [,3]\n",
       "[1,] 4    4    4   \n",
       "[2,] 4    4    4   \n",
       "[3,] 4    4    4   "
      ]
     },
     "metadata": {},
     "output_type": "display_data"
    }
   ],
   "source": [
    "X = matrix(rep(1,12),3,4)\n",
    "# X = data.frame(X)\n",
    "X\n",
    "A = X%*%t(X)\n",
    "A"
   ]
  },
  {
   "cell_type": "code",
   "execution_count": 54,
   "metadata": {},
   "outputs": [
    {
     "data": {
      "text/plain": [
       "eigen() decomposition\n",
       "$values\n",
       "[1] 1.200000e+01 3.552714e-15 0.000000e+00\n",
       "\n",
       "$vectors\n",
       "           [,1]       [,2]       [,3]\n",
       "[1,] -0.5773503  0.8164966  0.0000000\n",
       "[2,] -0.5773503 -0.4082483 -0.7071068\n",
       "[3,] -0.5773503 -0.4082483  0.7071068\n"
      ]
     },
     "metadata": {},
     "output_type": "display_data"
    }
   ],
   "source": [
    "ev <- eigen(A)\n",
    "ev"
   ]
  },
  {
   "cell_type": "code",
   "execution_count": 58,
   "metadata": {},
   "outputs": [
    {
     "data": {
      "text/html": [
       "<ol class=list-inline>\n",
       "\t<li>-0.577350269189626</li>\n",
       "\t<li>-0.577350269189626</li>\n",
       "\t<li>-0.577350269189626</li>\n",
       "</ol>\n"
      ],
      "text/latex": [
       "\\begin{enumerate*}\n",
       "\\item -0.577350269189626\n",
       "\\item -0.577350269189626\n",
       "\\item -0.577350269189626\n",
       "\\end{enumerate*}\n"
      ],
      "text/markdown": [
       "1. -0.577350269189626\n",
       "2. -0.577350269189626\n",
       "3. -0.577350269189626\n",
       "\n",
       "\n"
      ],
      "text/plain": [
       "[1] -0.5773503 -0.5773503 -0.5773503"
      ]
     },
     "metadata": {},
     "output_type": "display_data"
    }
   ],
   "source": [
    "ev$vector[,1] # first PC"
   ]
  },
  {
   "cell_type": "code",
   "execution_count": 66,
   "metadata": {},
   "outputs": [
    {
     "data": {
      "text/html": [
       "<ol class=list-inline>\n",
       "\t<li>-0.577350269189626</li>\n",
       "\t<li>-0.577350269189626</li>\n",
       "\t<li>-0.577350269189626</li>\n",
       "</ol>\n"
      ],
      "text/latex": [
       "\\begin{enumerate*}\n",
       "\\item -0.577350269189626\n",
       "\\item -0.577350269189626\n",
       "\\item -0.577350269189626\n",
       "\\end{enumerate*}\n"
      ],
      "text/markdown": [
       "1. -0.577350269189626\n",
       "2. -0.577350269189626\n",
       "3. -0.577350269189626\n",
       "\n",
       "\n"
      ],
      "text/plain": [
       "[1] -0.5773503 -0.5773503 -0.5773503"
      ]
     },
     "metadata": {},
     "output_type": "display_data"
    }
   ],
   "source": [
    "svd(X)$u[,1] # or use this directly"
   ]
  },
  {
   "cell_type": "code",
   "execution_count": 51,
   "metadata": {},
   "outputs": [
    {
     "data": {
      "text/plain": [
       "Standard deviations (1, .., p=3):\n",
       "[1] 0 0 0\n",
       "\n",
       "Rotation (n x k) = (3 x 3):\n",
       "     PC1 PC2 PC3\n",
       "[1,]   1   0   0\n",
       "[2,]   0   1   0\n",
       "[3,]   0   0   1"
      ]
     },
     "metadata": {},
     "output_type": "display_data"
    }
   ],
   "source": [
    "# PCA but i don't get it\n",
    "prcomp(t(X))"
   ]
  }
 ],
 "metadata": {
  "kernelspec": {
   "display_name": "R",
   "language": "R",
   "name": "ir"
  },
  "language_info": {
   "codemirror_mode": "r",
   "file_extension": ".r",
   "mimetype": "text/x-r-source",
   "name": "R",
   "pygments_lexer": "r",
   "version": "3.6.0"
  }
 },
 "nbformat": 4,
 "nbformat_minor": 2
}
