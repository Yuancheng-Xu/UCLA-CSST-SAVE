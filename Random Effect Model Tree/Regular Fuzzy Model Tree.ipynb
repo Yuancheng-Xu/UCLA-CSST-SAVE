{
 "cells": [
  {
   "cell_type": "code",
   "execution_count": 36,
   "metadata": {},
   "outputs": [],
   "source": [
    "# install.packages(\"partykit\")\n",
    "# install.packages(\"pre\")\n",
    "library(\"partykit\")\n",
    "source(\"SimData.r\")\n",
    "library(\"party\")\n",
    "library(MASS)\n",
    "library(\"glmertree\")\n",
    "library(\"caret\") # importance and rfe\n",
    "source(\"SimData.r\")\n",
    "library(\"randomForest\")\n",
    "library(\"rpart\")\n",
    "library(\"fuzzyforest\")\n",
    "library(\"WGCNA\")\n",
    "library(\"pre\")"
   ]
  },
  {
   "cell_type": "markdown",
   "metadata": {},
   "source": [
    "# Data"
   ]
  },
  {
   "cell_type": "code",
   "execution_count": 37,
   "metadata": {},
   "outputs": [],
   "source": [
    "# Important Note\n",
    "# If you want to normalize the PC, please normalize for both train and test set\n",
    "# Dangerous: the PC can be +PC or -PC so for test set, you may want to flip the sign\n",
    "# of the PC to see if it has a better result(which should be correct), since\n",
    "# the coefficient of the linear model is fixed after training\n",
    "\n",
    "# Normalizing or not, all the parameters of the resulting tree are the same\n",
    "# except that the coefficients for PC are different"
   ]
  },
  {
   "cell_type": "code",
   "execution_count": 42,
   "metadata": {},
   "outputs": [
    {
     "data": {
      "text/html": [
       "<table>\n",
       "<thead><tr><th scope=col>V1</th><th scope=col>V2</th><th scope=col>V3</th><th scope=col>V4</th><th scope=col>V5</th><th scope=col>V6</th><th scope=col>V7</th><th scope=col>V8</th><th scope=col>V9</th><th scope=col>V10</th><th scope=col>...</th><th scope=col>V396</th><th scope=col>V397</th><th scope=col>V398</th><th scope=col>V399</th><th scope=col>V400</th><th scope=col>y</th><th scope=col>PC1</th><th scope=col>PC2</th><th scope=col>PC3</th><th scope=col>PCone</th></tr></thead>\n",
       "<tbody>\n",
       "\t<tr><td>-0.9193970   </td><td> 0.4416402   </td><td>-1.6874364   </td><td>-1.2282920   </td><td>-1.4719190   </td><td>-0.7258681   </td><td>-1.0007080   </td><td>-0.5809589   </td><td>-0.6480068   </td><td>-1.0717893   </td><td>...          </td><td> 1.0363352   </td><td>-0.0749961081</td><td> 0.7390165   </td><td> 1.3488629   </td><td>-1.1525995   </td><td>-12.2783192  </td><td> -9.982050   </td><td>-13.036248   </td><td>-4.1435250   </td><td>-1.245483    </td></tr>\n",
       "\t<tr><td>-0.8763958   </td><td>-0.9931904   </td><td>-0.5903482   </td><td>-0.8938970   </td><td>-1.2517455   </td><td>-0.4072832   </td><td>-1.8738281   </td><td>-1.2849527   </td><td>-1.0130168   </td><td>-0.3346373   </td><td>...          </td><td>-0.1901736   </td><td>-0.9470827924</td><td>-2.1501213   </td><td>-0.2297432   </td><td> 0.4641607   </td><td> -9.5949749  </td><td>-10.748425   </td><td>  2.111788   </td><td> 1.5080274   </td><td>-1.430273    </td></tr>\n",
       "\t<tr><td>-0.6046310   </td><td>-0.3771163   </td><td>-0.8634822   </td><td>-0.9587687   </td><td>-0.8106843   </td><td> 0.2184991   </td><td>-1.4998981   </td><td>-0.8083261   </td><td>-0.2937366   </td><td>-0.7714238   </td><td>...          </td><td> 1.2566406   </td><td> 0.0003758095</td><td> 0.8217849   </td><td>-1.7324848   </td><td> 0.7289325   </td><td>  7.1053112  </td><td> -5.392401   </td><td> -3.561392   </td><td>-0.3662763   </td><td>-1.067022    </td></tr>\n",
       "\t<tr><td> 0.1238469   </td><td>-1.4196072   </td><td>-0.6497125   </td><td>-0.6689533   </td><td>-1.2245386   </td><td>-1.3911706   </td><td>-0.3050343   </td><td>-0.9567550   </td><td>-1.2421426   </td><td>-0.8961609   </td><td>...          </td><td> 0.8235160   </td><td>-1.5249574007</td><td> 1.6537538   </td><td>-0.6273090   </td><td> 0.4106175   </td><td>  0.8905166  </td><td> -9.805820   </td><td>-17.196481   </td><td> 8.2508071   </td><td>-1.128345    </td></tr>\n",
       "\t<tr><td>-1.5415618   </td><td>-0.9090509   </td><td>-0.5699499   </td><td>-1.4404816   </td><td>-0.9707221   </td><td>-1.2020829   </td><td>-1.1336156   </td><td>-0.1288167   </td><td>-1.5646634   </td><td>-0.2275436   </td><td>...          </td><td>-1.1591249   </td><td> 0.0983516474</td><td>-0.5823098   </td><td>-0.2405078   </td><td>-1.4611472   </td><td>-14.3837753  </td><td>-10.347417   </td><td>  1.481799   </td><td> 1.3901661   </td><td>-1.758941    </td></tr>\n",
       "</tbody>\n",
       "</table>\n"
      ],
      "text/latex": [
       "\\begin{tabular}{r|lllllllllllllllllllllllllllllllllllllllllllllllllllllllllllllllllllllllllllllllllllllllllllllllllllllllllllllllllllllllllllllllllllllllllllllllllllllllllllllllllllllllllllllllllllllllllllllllllllllllllllllllllllllllllllllllllllllllllllllllllllllllllllllllllllllllllllllllllllllllllllllllllllllllllllllllllllllllllllllllllllllllllllllllllllllllllllllllllllllllllllllllllllllllllllllllllllllllllllllllllllll}\n",
       " V1 & V2 & V3 & V4 & V5 & V6 & V7 & V8 & V9 & V10 & ... & V396 & V397 & V398 & V399 & V400 & y & PC1 & PC2 & PC3 & PCone\\\\\n",
       "\\hline\n",
       "\t -0.9193970    &  0.4416402    & -1.6874364    & -1.2282920    & -1.4719190    & -0.7258681    & -1.0007080    & -0.5809589    & -0.6480068    & -1.0717893    & ...           &  1.0363352    & -0.0749961081 &  0.7390165    &  1.3488629    & -1.1525995    & -12.2783192   &  -9.982050    & -13.036248    & -4.1435250    & -1.245483    \\\\\n",
       "\t -0.8763958    & -0.9931904    & -0.5903482    & -0.8938970    & -1.2517455    & -0.4072832    & -1.8738281    & -1.2849527    & -1.0130168    & -0.3346373    & ...           & -0.1901736    & -0.9470827924 & -2.1501213    & -0.2297432    &  0.4641607    &  -9.5949749   & -10.748425    &   2.111788    &  1.5080274    & -1.430273    \\\\\n",
       "\t -0.6046310    & -0.3771163    & -0.8634822    & -0.9587687    & -0.8106843    &  0.2184991    & -1.4998981    & -0.8083261    & -0.2937366    & -0.7714238    & ...           &  1.2566406    &  0.0003758095 &  0.8217849    & -1.7324848    &  0.7289325    &   7.1053112   &  -5.392401    &  -3.561392    & -0.3662763    & -1.067022    \\\\\n",
       "\t  0.1238469    & -1.4196072    & -0.6497125    & -0.6689533    & -1.2245386    & -1.3911706    & -0.3050343    & -0.9567550    & -1.2421426    & -0.8961609    & ...           &  0.8235160    & -1.5249574007 &  1.6537538    & -0.6273090    &  0.4106175    &   0.8905166   &  -9.805820    & -17.196481    &  8.2508071    & -1.128345    \\\\\n",
       "\t -1.5415618    & -0.9090509    & -0.5699499    & -1.4404816    & -0.9707221    & -1.2020829    & -1.1336156    & -0.1288167    & -1.5646634    & -0.2275436    & ...           & -1.1591249    &  0.0983516474 & -0.5823098    & -0.2405078    & -1.4611472    & -14.3837753   & -10.347417    &   1.481799    &  1.3901661    & -1.758941    \\\\\n",
       "\\end{tabular}\n"
      ],
      "text/markdown": [
       "\n",
       "| V1 | V2 | V3 | V4 | V5 | V6 | V7 | V8 | V9 | V10 | ... | V396 | V397 | V398 | V399 | V400 | y | PC1 | PC2 | PC3 | PCone |\n",
       "|---|---|---|---|---|---|---|---|---|---|---|---|---|---|---|---|---|---|---|---|---|\n",
       "| -0.9193970    |  0.4416402    | -1.6874364    | -1.2282920    | -1.4719190    | -0.7258681    | -1.0007080    | -0.5809589    | -0.6480068    | -1.0717893    | ...           |  1.0363352    | -0.0749961081 |  0.7390165    |  1.3488629    | -1.1525995    | -12.2783192   |  -9.982050    | -13.036248    | -4.1435250    | -1.245483     |\n",
       "| -0.8763958    | -0.9931904    | -0.5903482    | -0.8938970    | -1.2517455    | -0.4072832    | -1.8738281    | -1.2849527    | -1.0130168    | -0.3346373    | ...           | -0.1901736    | -0.9470827924 | -2.1501213    | -0.2297432    |  0.4641607    |  -9.5949749   | -10.748425    |   2.111788    |  1.5080274    | -1.430273     |\n",
       "| -0.6046310    | -0.3771163    | -0.8634822    | -0.9587687    | -0.8106843    |  0.2184991    | -1.4998981    | -0.8083261    | -0.2937366    | -0.7714238    | ...           |  1.2566406    |  0.0003758095 |  0.8217849    | -1.7324848    |  0.7289325    |   7.1053112   |  -5.392401    |  -3.561392    | -0.3662763    | -1.067022     |\n",
       "|  0.1238469    | -1.4196072    | -0.6497125    | -0.6689533    | -1.2245386    | -1.3911706    | -0.3050343    | -0.9567550    | -1.2421426    | -0.8961609    | ...           |  0.8235160    | -1.5249574007 |  1.6537538    | -0.6273090    |  0.4106175    |   0.8905166   |  -9.805820    | -17.196481    |  8.2508071    | -1.128345     |\n",
       "| -1.5415618    | -0.9090509    | -0.5699499    | -1.4404816    | -0.9707221    | -1.2020829    | -1.1336156    | -0.1288167    | -1.5646634    | -0.2275436    | ...           | -1.1591249    |  0.0983516474 | -0.5823098    | -0.2405078    | -1.4611472    | -14.3837753   | -10.347417    |   1.481799    |  1.3901661    | -1.758941     |\n",
       "\n"
      ],
      "text/plain": [
       "  V1         V2         V3         V4         V5         V6         V7        \n",
       "1 -0.9193970  0.4416402 -1.6874364 -1.2282920 -1.4719190 -0.7258681 -1.0007080\n",
       "2 -0.8763958 -0.9931904 -0.5903482 -0.8938970 -1.2517455 -0.4072832 -1.8738281\n",
       "3 -0.6046310 -0.3771163 -0.8634822 -0.9587687 -0.8106843  0.2184991 -1.4998981\n",
       "4  0.1238469 -1.4196072 -0.6497125 -0.6689533 -1.2245386 -1.3911706 -0.3050343\n",
       "5 -1.5415618 -0.9090509 -0.5699499 -1.4404816 -0.9707221 -1.2020829 -1.1336156\n",
       "  V8         V9         V10        ... V396       V397          V398      \n",
       "1 -0.5809589 -0.6480068 -1.0717893 ...  1.0363352 -0.0749961081  0.7390165\n",
       "2 -1.2849527 -1.0130168 -0.3346373 ... -0.1901736 -0.9470827924 -2.1501213\n",
       "3 -0.8083261 -0.2937366 -0.7714238 ...  1.2566406  0.0003758095  0.8217849\n",
       "4 -0.9567550 -1.2421426 -0.8961609 ...  0.8235160 -1.5249574007  1.6537538\n",
       "5 -0.1288167 -1.5646634 -0.2275436 ... -1.1591249  0.0983516474 -0.5823098\n",
       "  V399       V400       y           PC1        PC2        PC3        PCone    \n",
       "1  1.3488629 -1.1525995 -12.2783192  -9.982050 -13.036248 -4.1435250 -1.245483\n",
       "2 -0.2297432  0.4641607  -9.5949749 -10.748425   2.111788  1.5080274 -1.430273\n",
       "3 -1.7324848  0.7289325   7.1053112  -5.392401  -3.561392 -0.3662763 -1.067022\n",
       "4 -0.6273090  0.4106175   0.8905166  -9.805820 -17.196481  8.2508071 -1.128345\n",
       "5 -0.2405078 -1.4611472 -14.3837753 -10.347417   1.481799  1.3901661 -1.758941"
      ]
     },
     "metadata": {},
     "output_type": "display_data"
    }
   ],
   "source": [
    "# training data\n",
    "set.seed(100)\n",
    "\n",
    "# No time structure\n",
    "n = 500 # num of observations\n",
    "p = 400\n",
    "p0 = 100\n",
    "\n",
    "cor_feature = 0.8\n",
    "\n",
    "#### covariance matrix between features: it is either 0 (independent) or cor_feature ####\n",
    "cov_feature = matrix(0,nrow = p, ncol = p)\n",
    "# cov within the first three modules\n",
    "cov_star = matrix(cor_feature,nrow = p0,ncol = p0)\n",
    "diag(cov_star)=1\n",
    "# put cov_star into cov_feature\n",
    "cov_feature[1:p0,1:p0] = cov_star\n",
    "cov_feature[(p0+1):(2*p0),(p0+1):(2*p0)] = cov_star\n",
    "cov_feature[(2*p0+1):(3*p0),(2*p0+1):(3*p0)] = cov_star\n",
    "cov_feature[(3*p0+1):(4*p0),(3*p0+1):(4*p0)] = diag(p0)\n",
    "####\n",
    "\n",
    "X = mvrnorm(n = n, rep(0, p), cov_feature)\n",
    "y = f_sim(X)\n",
    "data = cbind(X,y)\n",
    "data = data.frame(data)\n",
    "\n",
    "#add PC\n",
    "data$PC1 = (prcomp(X[,1:100], scale = TRUE)$x)[,1]\n",
    "# data$PC1 = scale(data$PC1)/norm(scale(data$PC1),type=\"2\")\n",
    "data$PC2 = (prcomp(X[,101:200], scale = TRUE)$x)[,1]\n",
    "data$PC3 = (prcomp(X[,201:300], scale = TRUE)$x)[,1] \n",
    "\n",
    "# PC of true features\n",
    "data$PCone = (prcomp(X[,1:3], scale = TRUE)$x)[,1]\n",
    "\n",
    "data[1:5,]"
   ]
  },
  {
   "cell_type": "code",
   "execution_count": 43,
   "metadata": {},
   "outputs": [
    {
     "data": {
      "text/html": [
       "<table>\n",
       "<thead><tr><th scope=col>V1</th><th scope=col>V2</th><th scope=col>V3</th><th scope=col>V4</th><th scope=col>V5</th><th scope=col>V6</th><th scope=col>V7</th><th scope=col>V8</th><th scope=col>V9</th><th scope=col>V10</th><th scope=col>...</th><th scope=col>V396</th><th scope=col>V397</th><th scope=col>V398</th><th scope=col>V399</th><th scope=col>V400</th><th scope=col>y_test</th><th scope=col>PC1</th><th scope=col>PC2</th><th scope=col>PC3</th><th scope=col>PCone</th></tr></thead>\n",
       "<tbody>\n",
       "\t<tr><td> 0.4270146  </td><td>-1.0986628  </td><td> 0.9695128  </td><td> 0.05067257 </td><td> 0.2933707  </td><td>-0.158750199</td><td>-0.6469059  </td><td>-0.1925699  </td><td> 0.001994361</td><td> 0.2925696  </td><td>...         </td><td> 0.02777378 </td><td>-0.3893127  </td><td>-1.27235813 </td><td>-0.3205369  </td><td>-1.1658569  </td><td> 2.8703057  </td><td>  1.646139  </td><td> -2.774867  </td><td> 2.782679   </td><td> 0.2060893  </td></tr>\n",
       "\t<tr><td> 1.4783423  </td><td> 1.5687687  </td><td> 0.3395318  </td><td> 1.41773161 </td><td> 1.5570561  </td><td> 0.985733254</td><td> 1.9380964  </td><td> 0.7101339  </td><td> 2.118158414</td><td> 1.0872465  </td><td>...         </td><td> 0.14470549 </td><td>-1.0726485  </td><td>-0.66307158 </td><td>-2.0919208  </td><td>-0.2397987  </td><td>16.2539751  </td><td> 13.862651  </td><td>  4.914693  </td><td>-5.595904   </td><td> 2.2340094  </td></tr>\n",
       "\t<tr><td>-0.8272478  </td><td>-0.7645924  </td><td> 0.1623561  </td><td>-0.58407534 </td><td>-1.2062563  </td><td>-0.001602162</td><td>-0.2098308  </td><td>-0.7230311  </td><td>-0.264988245</td><td>-0.6045068  </td><td>...         </td><td>-0.23756438 </td><td>-0.3953464  </td><td>-0.29654313 </td><td>-1.8518319  </td><td> 1.1843827  </td><td> 2.9703748  </td><td> -4.199184  </td><td>-19.428139  </td><td> 6.042681   </td><td>-0.9084927  </td></tr>\n",
       "\t<tr><td> 0.5505366  </td><td> 0.9756962  </td><td> 1.0634336  </td><td> 0.54076689 </td><td> 1.0100161  </td><td> 0.319491349</td><td> 0.3742614  </td><td> 1.1606476  </td><td> 0.690067389</td><td> 1.2396059  </td><td>...         </td><td>-0.74284806 </td><td>-0.8449876  </td><td>-0.57396643 </td><td> 0.4396653  </td><td> 0.2075084  </td><td> 9.2597353  </td><td>  7.934748  </td><td>-10.878957  </td><td>-2.348258   </td><td> 1.6872587  </td></tr>\n",
       "\t<tr><td>-0.9471237  </td><td>-1.0009572  </td><td>-1.2908256  </td><td>-0.90432577 </td><td>-0.5902960  </td><td>-1.058124260</td><td>-0.9884839  </td><td>-1.2096527  </td><td>-1.228834809</td><td>-0.4429552  </td><td>...         </td><td> 0.26090560 </td><td>-0.6559405  </td><td>-0.02617408 </td><td> 0.1419048  </td><td>-0.0436326  </td><td>-0.8451365  </td><td>-12.037156  </td><td> -7.026668  </td><td>-3.335877   </td><td>-2.0436544  </td></tr>\n",
       "</tbody>\n",
       "</table>\n"
      ],
      "text/latex": [
       "\\begin{tabular}{r|lllllllllllllllllllllllllllllllllllllllllllllllllllllllllllllllllllllllllllllllllllllllllllllllllllllllllllllllllllllllllllllllllllllllllllllllllllllllllllllllllllllllllllllllllllllllllllllllllllllllllllllllllllllllllllllllllllllllllllllllllllllllllllllllllllllllllllllllllllllllllllllllllllllllllllllllllllllllllllllllllllllllllllllllllllllllllllllllllllllllllllllllllllllllllllllllllllllllllllllllllllll}\n",
       " V1 & V2 & V3 & V4 & V5 & V6 & V7 & V8 & V9 & V10 & ... & V396 & V397 & V398 & V399 & V400 & y\\_test & PC1 & PC2 & PC3 & PCone\\\\\n",
       "\\hline\n",
       "\t  0.4270146   & -1.0986628   &  0.9695128   &  0.05067257  &  0.2933707   & -0.158750199 & -0.6469059   & -0.1925699   &  0.001994361 &  0.2925696   & ...          &  0.02777378  & -0.3893127   & -1.27235813  & -0.3205369   & -1.1658569   &  2.8703057   &   1.646139   &  -2.774867   &  2.782679    &  0.2060893  \\\\\n",
       "\t  1.4783423   &  1.5687687   &  0.3395318   &  1.41773161  &  1.5570561   &  0.985733254 &  1.9380964   &  0.7101339   &  2.118158414 &  1.0872465   & ...          &  0.14470549  & -1.0726485   & -0.66307158  & -2.0919208   & -0.2397987   & 16.2539751   &  13.862651   &   4.914693   & -5.595904    &  2.2340094  \\\\\n",
       "\t -0.8272478   & -0.7645924   &  0.1623561   & -0.58407534  & -1.2062563   & -0.001602162 & -0.2098308   & -0.7230311   & -0.264988245 & -0.6045068   & ...          & -0.23756438  & -0.3953464   & -0.29654313  & -1.8518319   &  1.1843827   &  2.9703748   &  -4.199184   & -19.428139   &  6.042681    & -0.9084927  \\\\\n",
       "\t  0.5505366   &  0.9756962   &  1.0634336   &  0.54076689  &  1.0100161   &  0.319491349 &  0.3742614   &  1.1606476   &  0.690067389 &  1.2396059   & ...          & -0.74284806  & -0.8449876   & -0.57396643  &  0.4396653   &  0.2075084   &  9.2597353   &   7.934748   & -10.878957   & -2.348258    &  1.6872587  \\\\\n",
       "\t -0.9471237   & -1.0009572   & -1.2908256   & -0.90432577  & -0.5902960   & -1.058124260 & -0.9884839   & -1.2096527   & -1.228834809 & -0.4429552   & ...          &  0.26090560  & -0.6559405   & -0.02617408  &  0.1419048   & -0.0436326   & -0.8451365   & -12.037156   &  -7.026668   & -3.335877    & -2.0436544  \\\\\n",
       "\\end{tabular}\n"
      ],
      "text/markdown": [
       "\n",
       "| V1 | V2 | V3 | V4 | V5 | V6 | V7 | V8 | V9 | V10 | ... | V396 | V397 | V398 | V399 | V400 | y_test | PC1 | PC2 | PC3 | PCone |\n",
       "|---|---|---|---|---|---|---|---|---|---|---|---|---|---|---|---|---|---|---|---|---|\n",
       "|  0.4270146   | -1.0986628   |  0.9695128   |  0.05067257  |  0.2933707   | -0.158750199 | -0.6469059   | -0.1925699   |  0.001994361 |  0.2925696   | ...          |  0.02777378  | -0.3893127   | -1.27235813  | -0.3205369   | -1.1658569   |  2.8703057   |   1.646139   |  -2.774867   |  2.782679    |  0.2060893   |\n",
       "|  1.4783423   |  1.5687687   |  0.3395318   |  1.41773161  |  1.5570561   |  0.985733254 |  1.9380964   |  0.7101339   |  2.118158414 |  1.0872465   | ...          |  0.14470549  | -1.0726485   | -0.66307158  | -2.0919208   | -0.2397987   | 16.2539751   |  13.862651   |   4.914693   | -5.595904    |  2.2340094   |\n",
       "| -0.8272478   | -0.7645924   |  0.1623561   | -0.58407534  | -1.2062563   | -0.001602162 | -0.2098308   | -0.7230311   | -0.264988245 | -0.6045068   | ...          | -0.23756438  | -0.3953464   | -0.29654313  | -1.8518319   |  1.1843827   |  2.9703748   |  -4.199184   | -19.428139   |  6.042681    | -0.9084927   |\n",
       "|  0.5505366   |  0.9756962   |  1.0634336   |  0.54076689  |  1.0100161   |  0.319491349 |  0.3742614   |  1.1606476   |  0.690067389 |  1.2396059   | ...          | -0.74284806  | -0.8449876   | -0.57396643  |  0.4396653   |  0.2075084   |  9.2597353   |   7.934748   | -10.878957   | -2.348258    |  1.6872587   |\n",
       "| -0.9471237   | -1.0009572   | -1.2908256   | -0.90432577  | -0.5902960   | -1.058124260 | -0.9884839   | -1.2096527   | -1.228834809 | -0.4429552   | ...          |  0.26090560  | -0.6559405   | -0.02617408  |  0.1419048   | -0.0436326   | -0.8451365   | -12.037156   |  -7.026668   | -3.335877    | -2.0436544   |\n",
       "\n"
      ],
      "text/plain": [
       "  V1         V2         V3         V4          V5         V6          \n",
       "1  0.4270146 -1.0986628  0.9695128  0.05067257  0.2933707 -0.158750199\n",
       "2  1.4783423  1.5687687  0.3395318  1.41773161  1.5570561  0.985733254\n",
       "3 -0.8272478 -0.7645924  0.1623561 -0.58407534 -1.2062563 -0.001602162\n",
       "4  0.5505366  0.9756962  1.0634336  0.54076689  1.0100161  0.319491349\n",
       "5 -0.9471237 -1.0009572 -1.2908256 -0.90432577 -0.5902960 -1.058124260\n",
       "  V7         V8         V9           V10        ... V396        V397      \n",
       "1 -0.6469059 -0.1925699  0.001994361  0.2925696 ...  0.02777378 -0.3893127\n",
       "2  1.9380964  0.7101339  2.118158414  1.0872465 ...  0.14470549 -1.0726485\n",
       "3 -0.2098308 -0.7230311 -0.264988245 -0.6045068 ... -0.23756438 -0.3953464\n",
       "4  0.3742614  1.1606476  0.690067389  1.2396059 ... -0.74284806 -0.8449876\n",
       "5 -0.9884839 -1.2096527 -1.228834809 -0.4429552 ...  0.26090560 -0.6559405\n",
       "  V398        V399       V400       y_test     PC1        PC2        PC3      \n",
       "1 -1.27235813 -0.3205369 -1.1658569  2.8703057   1.646139  -2.774867  2.782679\n",
       "2 -0.66307158 -2.0919208 -0.2397987 16.2539751  13.862651   4.914693 -5.595904\n",
       "3 -0.29654313 -1.8518319  1.1843827  2.9703748  -4.199184 -19.428139  6.042681\n",
       "4 -0.57396643  0.4396653  0.2075084  9.2597353   7.934748 -10.878957 -2.348258\n",
       "5 -0.02617408  0.1419048 -0.0436326 -0.8451365 -12.037156  -7.026668 -3.335877\n",
       "  PCone     \n",
       "1  0.2060893\n",
       "2  2.2340094\n",
       "3 -0.9084927\n",
       "4  1.6872587\n",
       "5 -2.0436544"
      ]
     },
     "metadata": {},
     "output_type": "display_data"
    }
   ],
   "source": [
    "# test data set\n",
    "set.seed(101)\n",
    "\n",
    "# No time structure\n",
    "n_test = 100 # num of observations\n",
    "\n",
    "X_test = mvrnorm(n = n_test, rep(0, p), cov_feature)\n",
    "y_test = f_sim(X_test)\n",
    "data_test = cbind(X_test,y_test)\n",
    "data_test = data.frame(data_test)\n",
    "\n",
    "# pca\n",
    "# DANGEROUS: the PC can be +PC or -PC, so the prediction on test data shoule\n",
    "# better not use PC of data_test! (the coefficient of linear model is fixed)\n",
    "data_test$PC1 = -(prcomp(X_test[,1:100], scale = TRUE)$x)[,1]\n",
    "# data_test$PC1 = scale(data_test$PC1)/norm(scale(data_test$PC1),type=\"2\")\n",
    "data_test$PC2 = (prcomp(X_test[,101:200], scale = TRUE)$x)[,1]\n",
    "data_test$PC3 = (prcomp(X_test[,201:300], scale = TRUE)$x)[,1] \n",
    "\n",
    "data_test$PCone = -(prcomp(X_test[,1:3], scale = TRUE)$x)[,1]\n",
    "\n",
    "data_test[1:5,]"
   ]
  },
  {
   "cell_type": "code",
   "execution_count": 40,
   "metadata": {},
   "outputs": [],
   "source": [
    "# Methods for extracting names of splitting features used in a tree\n",
    "# tree: a tree object; data: the train or test set\n",
    "get_split_names = function(tree,data){\n",
    "    # path: the string that contains all the node information\n",
    "    paths <- pre:::list.rules(tree, removecomplements = FALSE)\n",
    "    vnames = names(data)\n",
    "    # the regex for a variable\n",
    "    # tomatch = paste(paste(var,\"<=\"),\"|\",paste(var,\">\"),sep=\"\")\n",
    "    # match to tomatch in path\n",
    "    tmp = vnames[sapply(sapply(vnames, FUN = function(var) grep(paste(paste(var,\"<=\"),\"|\",paste(var,\">\"),sep=\"\"), paths)), length) > 0]\n",
    "    return (tmp)\n",
    "}"
   ]
  },
  {
   "cell_type": "markdown",
   "metadata": {},
   "source": [
    "# Fuzzy model tree"
   ]
  },
  {
   "cell_type": "code",
   "execution_count": 59,
   "metadata": {},
   "outputs": [],
   "source": [
    "# regress_var = paste(\"PC\",c(1),sep=\"\")\n",
    "# regress_var = paste(\"V\",8,sep=\"\")\n",
    "regress_var = paste(\"V\",c(1,2,3),sep=\"\")\n",
    "# regress_var = paste(\"V\",c(2,3,52,301,302,303),sep=\"\")\n",
    "# regress_var = \"1\"\n",
    "# regress_var = \"PCone\"\n",
    "\n",
    "# split_var = paste(\"V\",1:100,sep=\"\") # For demo: CHANGE 101 TO 100 and alpha=0.5\n",
    "split_var = paste(\"V\",301:400,sep=\"\")\n",
    "# split_var = paste(\"V\",c(1,2,3,301,302,303),sep=\"\")\n",
    "\n",
    "Formula = as.formula(paste(\"y~\",paste(regress_var,collapse = \"+\"), \"|\",\n",
    "                         paste(split_var,collapse = \"+\")))\n",
    "\n",
    "# If just use regular tree (not model tree,no regress_var): miss 302 and 303!\n",
    "# split_var = paste(\"V\",1:100,sep=\"\")\n",
    "# Formula = as.formula(paste(\"y~\",paste(split_var,collapse=\"+\")))\n",
    "\n",
    "# Formula"
   ]
  },
  {
   "cell_type": "code",
   "execution_count": 60,
   "metadata": {
    "scrolled": true
   },
   "outputs": [
    {
     "data": {
      "text/plain": [
       "   user  system elapsed \n",
       "   0.47    0.00    0.48 "
      ]
     },
     "metadata": {},
     "output_type": "display_data"
    },
    {
     "data": {
      "text/html": [
       "70.5356906069223"
      ],
      "text/latex": [
       "70.5356906069223"
      ],
      "text/markdown": [
       "70.5356906069223"
      ],
      "text/plain": [
       "[1] 70.53569"
      ]
     },
     "metadata": {},
     "output_type": "display_data"
    },
    {
     "data": {
      "text/html": [
       "<ol class=list-inline>\n",
       "\t<li>'V301'</li>\n",
       "\t<li>'V327'</li>\n",
       "</ol>\n"
      ],
      "text/latex": [
       "\\begin{enumerate*}\n",
       "\\item 'V301'\n",
       "\\item 'V327'\n",
       "\\end{enumerate*}\n"
      ],
      "text/markdown": [
       "1. 'V301'\n",
       "2. 'V327'\n",
       "\n",
       "\n"
      ],
      "text/plain": [
       "[1] \"V301\" \"V327\""
      ]
     },
     "metadata": {},
     "output_type": "display_data"
    }
   ],
   "source": [
    "# Note: the parameters of lmtree in \"...\" will \n",
    "# directly go into mob_control like alpha and maxdepth, minsize\n",
    "system.time({\n",
    "# the smaller the alpha, the deeper the tree. alpha =0.05 by default\n",
    "# mytree = lmtree(Formula,data = data,minsize = 10,alpha = 0.2,maxdepth=5) # demo\n",
    "mytree = lmtree(Formula,data = data,minsize = 10,alpha=0.2,maxdepth=4)\n",
    "})\n",
    "\n",
    "# mse on test set\n",
    "mean((predict(mytree,newdata=data_test)-data_test$y_test)**2)\n",
    "\n",
    "# the selected features\n",
    "get_split_names(mytree,data)\n",
    "\n",
    "# coef at the nodes\n",
    "# coef(mytree)\n",
    "\n",
    "# plot(mytree)"
   ]
  },
  {
   "cell_type": "code",
   "execution_count": 19,
   "metadata": {},
   "outputs": [
    {
     "data": {
      "text/plain": [
       "Linear model tree\n",
       "\n",
       "Model formula:\n",
       "y ~ V1 + V2 + V3 + V301 + V302 + V303 | V1 + V2 + V3 + V301 + \n",
       "    V302 + V303\n",
       "\n",
       "Fitted party:\n",
       "[1] root\n",
       "|   [2] V3 <= -0.26052\n",
       "|   |   [3] V302 <= -0.63358: n = 62\n",
       "|   |       (Intercept)          V1          V2          V3        V301        V302 \n",
       "|   |        -5.3992220   4.9061094  -2.6414204  -3.8398221   4.4730769   0.9214048 \n",
       "|   |              V303 \n",
       "|   |        -4.0359157 \n",
       "|   |   [4] V302 > -0.63358\n",
       "|   |   |   [5] V2 <= -1.85011: n = 13\n",
       "|   |   |       (Intercept)          V1          V2          V3        V301        V302 \n",
       "|   |   |       -19.2213282   6.8758645  -7.1448288 -10.6240992   3.9638462  -0.9557021 \n",
       "|   |   |              V303 \n",
       "|   |   |         3.3388241 \n",
       "|   |   |   [6] V2 > -1.85011: n = 130\n",
       "|   |   |       (Intercept)          V1          V2          V3        V301        V302 \n",
       "|   |   |        -1.7685655   4.8437031  -2.9337331  -0.7137225   5.0490944   1.2380242 \n",
       "|   |   |              V303 \n",
       "|   |   |         3.9459904 \n",
       "|   [7] V3 > -0.26052\n",
       "|   |   [8] V303 <= 0.06569\n",
       "|   |   |   [9] V2 <= 1.35155: n = 133\n",
       "|   |   |       (Intercept)          V1          V2          V3        V301        V302 \n",
       "|   |   |        -0.3999789   4.3760523   4.0067864   5.5676587   5.0895434  -1.3314969 \n",
       "|   |   |              V303 \n",
       "|   |   |         1.9672371 \n",
       "|   |   |   [10] V2 > 1.35155: n = 31\n",
       "|   |   |       (Intercept)          V1          V2          V3        V301        V302 \n",
       "|   |   |        -16.505429    4.811825   10.549768   12.032798    5.351608   -1.596435 \n",
       "|   |   |              V303 \n",
       "|   |   |          2.399208 \n",
       "|   |   [11] V303 > 0.06569\n",
       "|   |   |   [12] V3 <= 1.21543: n = 109\n",
       "|   |   |       (Intercept)          V1          V2          V3        V301        V302 \n",
       "|   |   |         -1.107657    4.631798    4.572769    5.204676    4.980608    5.845151 \n",
       "|   |   |              V303 \n",
       "|   |   |          2.518520 \n",
       "|   |   |   [13] V3 > 1.21543: n = 22\n",
       "|   |   |       (Intercept)          V1          V2          V3        V301        V302 \n",
       "|   |   |        -22.948432    1.953191    9.403246   18.381881    4.459479    8.112011 \n",
       "|   |   |              V303 \n",
       "|   |   |          2.678350 \n",
       "\n",
       "Number of inner nodes:    6\n",
       "Number of terminal nodes: 7\n",
       "Number of parameters per node: 7\n",
       "Objective function (residual sum of squares): 3328.537"
      ]
     },
     "metadata": {},
     "output_type": "display_data"
    }
   ],
   "source": [
    "# predict(mytree,newdata=data_test)\n",
    "# coef(mytree)\n",
    "mytree"
   ]
  },
  {
   "cell_type": "markdown",
   "metadata": {},
   "source": [
    "# Other models for comparison"
   ]
  },
  {
   "cell_type": "code",
   "execution_count": 10,
   "metadata": {},
   "outputs": [],
   "source": [
    "# the following tree method use one of formulae below\n",
    "\n",
    "# use all covariates \n",
    "var = paste(\"V\",1:400,sep=\"\")\n",
    "\n",
    "# only use important ones, which means cheating\n",
    "# var = paste(\"V\",c(1,2,3,301,302,303),sep=\"\")\n",
    "\n",
    "# use part of important ones\n",
    "# var = paste(\"V\",c(2,301,303),sep=\"\") # part of important regress\n",
    "\n",
    "# perturbation: mixture of correct and incorrect\n",
    "# var = paste(\"V\",c(1,301,99,100,307,299),sep=\"\")\n",
    "\n",
    "Formula = as.formula(paste(\"y~\",paste(var,collapse = \"+\")))"
   ]
  },
  {
   "cell_type": "code",
   "execution_count": 11,
   "metadata": {},
   "outputs": [
    {
     "data": {
      "text/plain": [
       "   user  system elapsed \n",
       "   0.61    0.08    0.88 "
      ]
     },
     "metadata": {},
     "output_type": "display_data"
    },
    {
     "data": {
      "text/html": [
       "73.4652659284361"
      ],
      "text/latex": [
       "73.4652659284361"
      ],
      "text/markdown": [
       "73.4652659284361"
      ],
      "text/plain": [
       "[1] 73.46527"
      ]
     },
     "metadata": {},
     "output_type": "display_data"
    },
    {
     "data": {
      "image/png": "[encoded data removed]",
      "text/plain": [
       "plot without title"
      ]
     },
     "metadata": {},
     "output_type": "display_data"
    }
   ],
   "source": [
    "# ctree:  conditional inference framework.\n",
    "system.time({c_tree <- ctree(\n",
    "  Formula, \n",
    "  data = data)\n",
    "})\n",
    "\n",
    "\n",
    "# To see the importance of features in c_tree, run this instead\n",
    "# system.time({c_tree <- train(\n",
    "#   Formula, \n",
    "#   data = data,method=\"ctree\")\n",
    "# })\n",
    "# varImp(c_tree)\n",
    "\n",
    "plot(c_tree,main = \"conditional inference\")\n",
    "\n",
    "# mean square error\n",
    "mean((predict(c_tree,newdata=data_test)-data_test$y_test)**2)\n"
   ]
  },
  {
   "cell_type": "code",
   "execution_count": 64,
   "metadata": {
    "scrolled": true
   },
   "outputs": [
    {
     "data": {
      "text/plain": [
       "   user  system elapsed \n",
       "  54.55    4.83   63.86 "
      ]
     },
     "metadata": {},
     "output_type": "display_data"
    },
    {
     "data": {
      "text/plain": [
       "loess r-squared variable importance\n",
       "\n",
       "  only 20 most important variables shown (out of 400)\n",
       "\n",
       "    Overall\n",
       "V3   100.00\n",
       "V2    99.75\n",
       "V1    94.43\n",
       "V23   87.70\n",
       "V10   87.14\n",
       "V43   86.12\n",
       "V92   84.73\n",
       "V52   84.71\n",
       "V87   84.71\n",
       "V32   84.28\n",
       "V33   84.23\n",
       "V84   84.11\n",
       "V90   84.09\n",
       "V51   83.95\n",
       "V99   83.60\n",
       "V93   83.20\n",
       "V7    82.92\n",
       "V65   82.66\n",
       "V61   82.62\n",
       "V42   82.60"
      ]
     },
     "metadata": {},
     "output_type": "display_data"
    }
   ],
   "source": [
    "# To see the importance of features in c_tree, run this instead\n",
    "# system.time({c_tree <- train(\n",
    "#   Formula, \n",
    "#   data = data,method=\"ctree\")\n",
    "# })\n",
    "# varImp(c_tree)"
   ]
  },
  {
   "cell_type": "markdown",
   "metadata": {},
   "source": [
    "For Fuzzy Forest\n",
    "* The features I feed it cannot be too small (cannot be 6), or FF will raise an error\n",
    "* When I use all the correct features and some other features (but not 1:400),\n",
    "sometimes it is worse than 1:400 case, which is strange."
   ]
  },
  {
   "cell_type": "code",
   "execution_count": 25,
   "metadata": {},
   "outputs": [
    {
     "name": "stdout",
     "output_type": "stream",
     "text": [
      "     mergeCloseModules: less than two proper modules.\n",
      "      ..color levels are 0, 1\n",
      "      ..there is nothing to merge.\n"
     ]
    },
    {
     "name": "stderr",
     "output_type": "stream",
     "text": [
      "Warning message in ff.default(X, y, Z, module_membership, screen_control, select_control, :\n",
      "\"ncol(X)*keep_fraction < number_selected\n",
      "number_selected will be set to floor(ncol(X)*keep_fraction)\""
     ]
    },
    {
     "data": {
      "text/plain": [
       "   user  system elapsed \n",
       "  28.94    0.65   37.79 "
      ]
     },
     "metadata": {},
     "output_type": "display_data"
    },
    {
     "data": {
      "text/html": [
       "72.3625582073823"
      ],
      "text/latex": [
       "72.3625582073823"
      ],
      "text/markdown": [
       "72.3625582073823"
      ],
      "text/plain": [
       "[1] 72.36256"
      ]
     },
     "metadata": {},
     "output_type": "display_data"
    },
    {
     "data": {
      "image/png": "[encoded data removed]",
      "text/plain": [
       "Plot with title \"FF Variable Importance\""
      ]
     },
     "metadata": {},
     "output_type": "display_data"
    }
   ],
   "source": [
    "# Fuzzy Forest\n",
    "# fuzzy forest\n",
    "# Fuzzy Forest\n",
    "# params is stored in xxx_control object\n",
    "# power: belta (I choose it without much care)\n",
    "WGCNA_params = WGCNA_control(power=3,TOMType=\"unsigned\",minModuleSize=30,\n",
    "                            numericLabels=TRUE,pamRespectsDendro=FALSE)\n",
    "\n",
    "mtry_factor     = 1 # mtry = sqrt(p)*mtry_factor; mtry is the num in subspace method\n",
    "drop_fraction   = 0.25 # drop xxx in each iteration of RFE-RF\n",
    "number_selected = 8 # we want 10 out of all features\n",
    "keep_fraction   = 0.05 # keep xxx for each module\n",
    "min_ntree        = 500 # used for calculating ntree\n",
    "ntree_factor    = 5 # used for calculating ntree\n",
    "final_ntree     = 500 # RF in selecting step\n",
    "\n",
    "screen_params = screen_control(drop_fraction = drop_fraction,\n",
    "                              keep_fraction  = keep_fraction,\n",
    "                              min_ntree      = min_ntree,\n",
    "                              mtry_factor    = mtry_factor,\n",
    "                              ntree_factor   = ntree_factor)\n",
    "\n",
    "select_params = select_control(drop_fraction  = drop_fraction,\n",
    "                              number_selected = number_selected,\n",
    "                              min_ntree       = min_ntree,\n",
    "                              mtry_factor     = mtry_factor,\n",
    "                              ntree_factor    = ntree_factor)    \n",
    "\n",
    "# var = paste(\"V\",c(1:50,301,302,303),sep=\"\")\n",
    "# var = paste(\"V\",1:400,sep=\"\")\n",
    "Formula = as.formula(paste(\"y~\",paste(var,collapse = \"+\")))\n",
    "\n",
    "# a \"fuzzy_forest\" object\n",
    "system.time({\n",
    "set.seed(20)\n",
    "wff_fit = wff(Formula,data = data,WGCNA_params = WGCNA_params,\n",
    "             screen_params = screen_params,\n",
    "             select_params = select_params,\n",
    "             final_ntree = final_ntree)\n",
    "})\n",
    "\n",
    "mean((predict(wff_fit,new_data=data_test[,1:400])-data_test$y_test)**2)\n",
    "varImpPlot(wff_fit$final_rf,type=2,main=\"FF Variable Importance\")"
   ]
  },
  {
   "cell_type": "code",
   "execution_count": 13,
   "metadata": {},
   "outputs": [
    {
     "data": {
      "text/plain": [
       "   user  system elapsed \n",
       "  25.85    0.43   33.34 "
      ]
     },
     "metadata": {},
     "output_type": "display_data"
    },
    {
     "data": {
      "text/html": [
       "44.2569094643261"
      ],
      "text/latex": [
       "44.2569094643261"
      ],
      "text/markdown": [
       "44.2569094643261"
      ],
      "text/plain": [
       "[1] 44.25691"
      ]
     },
     "metadata": {},
     "output_type": "display_data"
    },
    {
     "data": {
      "image/png": "[encoded data removed]",
      "text/plain": [
       "Plot with title \"RF Variable Importance\""
      ]
     },
     "metadata": {},
     "output_type": "display_data"
    }
   ],
   "source": [
    "# Random Forest\n",
    "system.time({\n",
    "    set.seed(20)\n",
    "    rf <- randomForest(data[,1:400],data$y)\n",
    "})\n",
    "mean((predict(rf,newdata=data_test[,1:400])-data_test$y_test)**2)\n",
    "varImpPlot(rf,type=2,main=\"RF Variable Importance\")"
   ]
  },
  {
   "cell_type": "markdown",
   "metadata": {},
   "source": [
    "# Test PCA"
   ]
  },
  {
   "cell_type": "code",
   "execution_count": 119,
   "metadata": {},
   "outputs": [
    {
     "data": {
      "text/html": [
       "<table>\n",
       "<thead><tr><th scope=col>Maths</th><th scope=col>Science</th><th scope=col>English</th><th scope=col>Music</th></tr></thead>\n",
       "<tbody>\n",
       "\t<tr><td>80</td><td>85</td><td>60</td><td>55</td></tr>\n",
       "\t<tr><td>90</td><td>85</td><td>70</td><td>45</td></tr>\n",
       "\t<tr><td>95</td><td>80</td><td>40</td><td>50</td></tr>\n",
       "</tbody>\n",
       "</table>\n"
      ],
      "text/latex": [
       "\\begin{tabular}{r|llll}\n",
       " Maths & Science & English & Music\\\\\n",
       "\\hline\n",
       "\t 80 & 85 & 60 & 55\\\\\n",
       "\t 90 & 85 & 70 & 45\\\\\n",
       "\t 95 & 80 & 40 & 50\\\\\n",
       "\\end{tabular}\n"
      ],
      "text/markdown": [
       "\n",
       "| Maths | Science | English | Music |\n",
       "|---|---|---|---|\n",
       "| 80 | 85 | 60 | 55 |\n",
       "| 90 | 85 | 70 | 45 |\n",
       "| 95 | 80 | 40 | 50 |\n",
       "\n"
      ],
      "text/plain": [
       "  Maths Science English Music\n",
       "1 80    85      60      55   \n",
       "2 90    85      70      45   \n",
       "3 95    80      40      50   "
      ]
     },
     "metadata": {},
     "output_type": "display_data"
    }
   ],
   "source": [
    "DF<-data.frame(Maths=c(80, 90, 95), Science=c(85, 85, 80), \n",
    "               English=c(60, 70, 40), Music=c(55, 45, 50))\n",
    "# DF = scale(DF)\n",
    "DF"
   ]
  },
  {
   "cell_type": "code",
   "execution_count": 122,
   "metadata": {},
   "outputs": [
    {
     "data": {
      "text/plain": [
       "Standard deviations (1, .., p=3):\n",
       "[1] 1.581139e+00 1.224745e+00 1.695144e-15\n",
       "\n",
       "Rotation (n x k) = (4 x 3):\n",
       "               PC1        PC2        PC3\n",
       "Maths   -0.5477226 -0.4082483  0.5349892\n",
       "Science  0.6210590 -0.1543033  0.7328450\n",
       "English  0.5477226 -0.4082483 -0.3475788\n",
       "Music    0.1195229  0.8017837  0.2364608"
      ]
     },
     "metadata": {},
     "output_type": "display_data"
    }
   ],
   "source": [
    "prcomp(DF, scale = TRUE)"
   ]
  },
  {
   "cell_type": "code",
   "execution_count": 120,
   "metadata": {
    "scrolled": true
   },
   "outputs": [
    {
     "data": {
      "text/html": [
       "<table>\n",
       "<thead><tr><th scope=col>PC1</th><th scope=col>PC2</th><th scope=col>PC3</th></tr></thead>\n",
       "<tbody>\n",
       "\t<tr><td> 1.1952286   </td><td> 1.0690450   </td><td> 1.110223e-16</td></tr>\n",
       "\t<tr><td> 0.5976143   </td><td>-1.3363062   </td><td> 6.550316e-15</td></tr>\n",
       "\t<tr><td>-1.7928429   </td><td> 0.2672612   </td><td>-2.270544e-15</td></tr>\n",
       "</tbody>\n",
       "</table>\n"
      ],
      "text/latex": [
       "\\begin{tabular}{lll}\n",
       " PC1 & PC2 & PC3\\\\\n",
       "\\hline\n",
       "\t  1.1952286    &  1.0690450    &  1.110223e-16\\\\\n",
       "\t  0.5976143    & -1.3363062    &  6.550316e-15\\\\\n",
       "\t -1.7928429    &  0.2672612    & -2.270544e-15\\\\\n",
       "\\end{tabular}\n"
      ],
      "text/markdown": [
       "\n",
       "| PC1 | PC2 | PC3 |\n",
       "|---|---|---|\n",
       "|  1.1952286    |  1.0690450    |  1.110223e-16 |\n",
       "|  0.5976143    | -1.3363062    |  6.550316e-15 |\n",
       "| -1.7928429    |  0.2672612    | -2.270544e-15 |\n",
       "\n"
      ],
      "text/plain": [
       "     PC1        PC2        PC3          \n",
       "[1,]  1.1952286  1.0690450  1.110223e-16\n",
       "[2,]  0.5976143 -1.3363062  6.550316e-15\n",
       "[3,] -1.7928429  0.2672612 -2.270544e-15"
      ]
     },
     "metadata": {},
     "output_type": "display_data"
    }
   ],
   "source": [
    "(prcomp(DF, scale = TRUE)$x)"
   ]
  },
  {
   "cell_type": "code",
   "execution_count": 121,
   "metadata": {},
   "outputs": [
    {
     "data": {
      "text/html": [
       "<table>\n",
       "<tbody>\n",
       "\t<tr><td>-141.9335 </td><td> -5.867017</td><td> 8.393826 </td></tr>\n",
       "\t<tr><td>-148.5969 </td><td>-11.138910</td><td>-6.699425 </td></tr>\n",
       "\t<tr><td>-138.5663 </td><td> 17.954824</td><td>-1.413412 </td></tr>\n",
       "</tbody>\n",
       "</table>\n"
      ],
      "text/latex": [
       "\\begin{tabular}{lll}\n",
       "\t -141.9335  &  -5.867017 &  8.393826 \\\\\n",
       "\t -148.5969  & -11.138910 & -6.699425 \\\\\n",
       "\t -138.5663  &  17.954824 & -1.413412 \\\\\n",
       "\\end{tabular}\n"
      ],
      "text/markdown": [
       "\n",
       "| -141.9335  |  -5.867017 |  8.393826  |\n",
       "| -148.5969  | -11.138910 | -6.699425  |\n",
       "| -138.5663  |  17.954824 | -1.413412  |\n",
       "\n"
      ],
      "text/plain": [
       "     [,1]      [,2]       [,3]     \n",
       "[1,] -141.9335  -5.867017  8.393826\n",
       "[2,] -148.5969 -11.138910 -6.699425\n",
       "[3,] -138.5663  17.954824 -1.413412"
      ]
     },
     "metadata": {},
     "output_type": "display_data"
    }
   ],
   "source": [
    "DF = as.matrix(DF)\n",
    "D = diag(svd(DF)$d)\n",
    "U = svd(DF)$u\n",
    "V = svd(DF)$v\n",
    "DF %*% V # PC as columns, equal U%*%D"
   ]
  }
 ],
 "metadata": {
  "kernelspec": {
   "display_name": "R",
   "language": "R",
   "name": "ir"
  },
  "language_info": {
   "codemirror_mode": "r",
   "file_extension": ".r",
   "mimetype": "text/x-r-source",
   "name": "R",
   "pygments_lexer": "r",
   "version": "3.6.0"
  }
 },
 "nbformat": 4,
 "nbformat_minor": 2
}
