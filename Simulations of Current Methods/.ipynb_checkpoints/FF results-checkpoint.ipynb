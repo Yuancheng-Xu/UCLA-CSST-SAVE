{
 "cells": [
  {
   "cell_type": "code",
   "execution_count": 1,
   "metadata": {},
   "outputs": [
    {
     "name": "stderr",
     "output_type": "stream",
     "text": [
      "Warning message:\n",
      "\"package 'WGCNA' was built under R version 3.6.1\"Loading required package: dynamicTreeCut\n",
      "Loading required package: fastcluster\n",
      "\n",
      "Attaching package: 'fastcluster'\n",
      "\n",
      "The following object is masked from 'package:stats':\n",
      "\n",
      "    hclust\n",
      "\n",
      "\n",
      "Registered S3 methods overwritten by 'ggplot2':\n",
      "  method         from \n",
      "  [.quosures     rlang\n",
      "  c.quosures     rlang\n",
      "  print.quosures rlang\n",
      "\n",
      "Attaching package: 'WGCNA'\n",
      "\n",
      "The following object is masked from 'package:stats':\n",
      "\n",
      "    cor\n",
      "\n",
      "randomForest 4.6-14\n",
      "Type rfNews() to see new features/changes/bug fixes.\n",
      "Warning message:\n",
      "\"package 'fuzzyforest' was built under R version 3.6.1\"\n",
      "Attaching package: 'dplyr'\n",
      "\n",
      "The following object is masked from 'package:randomForest':\n",
      "\n",
      "    combine\n",
      "\n",
      "The following object is masked from 'package:MASS':\n",
      "\n",
      "    select\n",
      "\n",
      "The following objects are masked from 'package:stats':\n",
      "\n",
      "    filter, lag\n",
      "\n",
      "The following objects are masked from 'package:base':\n",
      "\n",
      "    intersect, setdiff, setequal, union\n",
      "\n"
     ]
    }
   ],
   "source": [
    "source('simData.R')\n",
    "library(WGCNA)\n",
    "library(randomForest)\n",
    "library(fuzzyforest)\n",
    "library(dplyr)"
   ]
  },
  {
   "cell_type": "markdown",
   "metadata": {},
   "source": [
    "# 1. Data"
   ]
  },
  {
   "cell_type": "code",
   "execution_count": 2,
   "metadata": {},
   "outputs": [],
   "source": [
    "n= 100   #number of patients\n",
    "T = 5  # number of observations per patient\n",
    "p = 400 # number of features\n",
    "\n",
    "set.seed(100)\n",
    "data <- sim_3(n,T,cor_feature = 0.8) # generate AR data set with random effect (use sim_3() for no RE)\n",
    "#data <- sim_2(n,T,cor_feature = 0.8) # genearate CS  data set (no random effect)\n",
    "\n",
    "\n",
    "X = data[,-ncol(data)] # remove y value from for X matrix\n",
    "X = data.frame(X)\n",
    "y = data[,ncol(data)] # assign target variable"
   ]
  },
  {
   "cell_type": "code",
   "execution_count": 3,
   "metadata": {},
   "outputs": [],
   "source": [
    "n_test= 30   #number of patients\n",
    "T = 5  # number of observations per patient\n",
    "p = 400 # number of features\n",
    "\n",
    "set.seed(101)\n",
    "data_test <- sim_3(n_test,T,cor_feature = 0.8) # generate AR data set with random effect (use sim_3() for no RE)\n",
    "#data <- sim_2(n,T,cor_feature = 0.8) # genearate CS  data set (no random effect)\n",
    "\n",
    "\n",
    "X_test = data_test[,-ncol(data_test)] # remove y value from for X matrix\n",
    "X_test = data.frame(X_test)\n",
    "y_test = data_test[,ncol(data_test)] # assign target variable"
   ]
  },
  {
   "cell_type": "markdown",
   "metadata": {},
   "source": [
    "# Fuzzy Forest"
   ]
  },
  {
   "cell_type": "code",
   "execution_count": 4,
   "metadata": {},
   "outputs": [],
   "source": [
    "n_run = 50 # the number of times RF will run on the data set\n",
    "n_top = 10 # the top n_top variables will be selected"
   ]
  },
  {
   "cell_type": "code",
   "execution_count": 5,
   "metadata": {},
   "outputs": [],
   "source": [
    "select_params <- select_control(number_selected = n_top) # select number of important features to keep"
   ]
  },
  {
   "cell_type": "code",
   "execution_count": 6,
   "metadata": {},
   "outputs": [
    {
     "data": {
      "text/html": [
       "<table>\n",
       "<thead><tr><th scope=col>V1</th><th scope=col>V2</th><th scope=col>V3</th><th scope=col>V4</th><th scope=col>V5</th><th scope=col>V6</th><th scope=col>V7</th><th scope=col>V8</th><th scope=col>V9</th><th scope=col>V10</th><th scope=col>...</th><th scope=col>V392</th><th scope=col>V393</th><th scope=col>V394</th><th scope=col>V395</th><th scope=col>V396</th><th scope=col>V397</th><th scope=col>V398</th><th scope=col>V399</th><th scope=col>V400</th><th scope=col>error</th></tr></thead>\n",
       "<tbody>\n",
       "\t<tr><td>0  </td><td>0  </td><td>0  </td><td>0  </td><td>0  </td><td>0  </td><td>0  </td><td>0  </td><td>0  </td><td>0  </td><td>...</td><td>0  </td><td>0  </td><td>0  </td><td>0  </td><td>0  </td><td>0  </td><td>0  </td><td>0  </td><td>0  </td><td>0  </td></tr>\n",
       "\t<tr><td>0  </td><td>0  </td><td>0  </td><td>0  </td><td>0  </td><td>0  </td><td>0  </td><td>0  </td><td>0  </td><td>0  </td><td>...</td><td>0  </td><td>0  </td><td>0  </td><td>0  </td><td>0  </td><td>0  </td><td>0  </td><td>0  </td><td>0  </td><td>0  </td></tr>\n",
       "\t<tr><td>0  </td><td>0  </td><td>0  </td><td>0  </td><td>0  </td><td>0  </td><td>0  </td><td>0  </td><td>0  </td><td>0  </td><td>...</td><td>0  </td><td>0  </td><td>0  </td><td>0  </td><td>0  </td><td>0  </td><td>0  </td><td>0  </td><td>0  </td><td>0  </td></tr>\n",
       "\t<tr><td>0  </td><td>0  </td><td>0  </td><td>0  </td><td>0  </td><td>0  </td><td>0  </td><td>0  </td><td>0  </td><td>0  </td><td>...</td><td>0  </td><td>0  </td><td>0  </td><td>0  </td><td>0  </td><td>0  </td><td>0  </td><td>0  </td><td>0  </td><td>0  </td></tr>\n",
       "\t<tr><td>0  </td><td>0  </td><td>0  </td><td>0  </td><td>0  </td><td>0  </td><td>0  </td><td>0  </td><td>0  </td><td>0  </td><td>...</td><td>0  </td><td>0  </td><td>0  </td><td>0  </td><td>0  </td><td>0  </td><td>0  </td><td>0  </td><td>0  </td><td>0  </td></tr>\n",
       "</tbody>\n",
       "</table>\n"
      ],
      "text/latex": [
       "\\begin{tabular}{r|lllllllllllllllllllllllllllllllllllllllllllllllllllllllllllllllllllllllllllllllllllllllllllllllllllllllllllllllllllllllllllllllllllllllllllllllllllllllllllllllllllllllllllllllllllllllllllllllllllllllllllllllllllllllllllllllllllllllllllllllllllllllllllllllllllllllllllllllllllllllllllllllllllllllllllllllllllllllllllllllllllllllllllllllllllllllllllllllllllllllllllllllllllllllllllllllllllllllllllllllll}\n",
       " V1 & V2 & V3 & V4 & V5 & V6 & V7 & V8 & V9 & V10 & ... & V392 & V393 & V394 & V395 & V396 & V397 & V398 & V399 & V400 & error\\\\\n",
       "\\hline\n",
       "\t 0   & 0   & 0   & 0   & 0   & 0   & 0   & 0   & 0   & 0   & ... & 0   & 0   & 0   & 0   & 0   & 0   & 0   & 0   & 0   & 0  \\\\\n",
       "\t 0   & 0   & 0   & 0   & 0   & 0   & 0   & 0   & 0   & 0   & ... & 0   & 0   & 0   & 0   & 0   & 0   & 0   & 0   & 0   & 0  \\\\\n",
       "\t 0   & 0   & 0   & 0   & 0   & 0   & 0   & 0   & 0   & 0   & ... & 0   & 0   & 0   & 0   & 0   & 0   & 0   & 0   & 0   & 0  \\\\\n",
       "\t 0   & 0   & 0   & 0   & 0   & 0   & 0   & 0   & 0   & 0   & ... & 0   & 0   & 0   & 0   & 0   & 0   & 0   & 0   & 0   & 0  \\\\\n",
       "\t 0   & 0   & 0   & 0   & 0   & 0   & 0   & 0   & 0   & 0   & ... & 0   & 0   & 0   & 0   & 0   & 0   & 0   & 0   & 0   & 0  \\\\\n",
       "\\end{tabular}\n"
      ],
      "text/markdown": [
       "\n",
       "| V1 | V2 | V3 | V4 | V5 | V6 | V7 | V8 | V9 | V10 | ... | V392 | V393 | V394 | V395 | V396 | V397 | V398 | V399 | V400 | error |\n",
       "|---|---|---|---|---|---|---|---|---|---|---|---|---|---|---|---|---|---|---|---|---|\n",
       "| 0   | 0   | 0   | 0   | 0   | 0   | 0   | 0   | 0   | 0   | ... | 0   | 0   | 0   | 0   | 0   | 0   | 0   | 0   | 0   | 0   |\n",
       "| 0   | 0   | 0   | 0   | 0   | 0   | 0   | 0   | 0   | 0   | ... | 0   | 0   | 0   | 0   | 0   | 0   | 0   | 0   | 0   | 0   |\n",
       "| 0   | 0   | 0   | 0   | 0   | 0   | 0   | 0   | 0   | 0   | ... | 0   | 0   | 0   | 0   | 0   | 0   | 0   | 0   | 0   | 0   |\n",
       "| 0   | 0   | 0   | 0   | 0   | 0   | 0   | 0   | 0   | 0   | ... | 0   | 0   | 0   | 0   | 0   | 0   | 0   | 0   | 0   | 0   |\n",
       "| 0   | 0   | 0   | 0   | 0   | 0   | 0   | 0   | 0   | 0   | ... | 0   | 0   | 0   | 0   | 0   | 0   | 0   | 0   | 0   | 0   |\n",
       "\n"
      ],
      "text/plain": [
       "  V1 V2 V3 V4 V5 V6 V7 V8 V9 V10 ... V392 V393 V394 V395 V396 V397 V398 V399\n",
       "1 0  0  0  0  0  0  0  0  0  0   ... 0    0    0    0    0    0    0    0   \n",
       "2 0  0  0  0  0  0  0  0  0  0   ... 0    0    0    0    0    0    0    0   \n",
       "3 0  0  0  0  0  0  0  0  0  0   ... 0    0    0    0    0    0    0    0   \n",
       "4 0  0  0  0  0  0  0  0  0  0   ... 0    0    0    0    0    0    0    0   \n",
       "5 0  0  0  0  0  0  0  0  0  0   ... 0    0    0    0    0    0    0    0   \n",
       "  V400 error\n",
       "1 0    0    \n",
       "2 0    0    \n",
       "3 0    0    \n",
       "4 0    0    \n",
       "5 0    0    "
      ]
     },
     "metadata": {},
     "output_type": "display_data"
    }
   ],
   "source": [
    "# create empty data frame to save simulation results in\n",
    "result_ff = matrix(0,n_run+1,400+1) # the last row is for average\n",
    "result_ff = data.frame(result_ff)\n",
    "names(result_ff)[401] = \"error\"\n",
    "names(result_ff)[1:400] = paste(\"V\",1:400,sep=\"\")\n",
    "result_ff[1:5,]"
   ]
  },
  {
   "cell_type": "code",
   "execution_count": 7,
   "metadata": {},
   "outputs": [
    {
     "name": "stdout",
     "output_type": "stream",
     "text": [
      "1 \n",
      "2 \n",
      "3 \n",
      "4 \n",
      "5 \n",
      "6 \n",
      "7 \n",
      "8 \n",
      "9 \n",
      "10 \n",
      "11 \n",
      "12 \n",
      "13 \n",
      "14 \n",
      "15 \n",
      "16 \n",
      "17 \n",
      "18 \n",
      "19 \n",
      "20 \n",
      "21 \n",
      "22 \n",
      "23 \n",
      "24 \n",
      "25 \n",
      "26 \n",
      "27 \n",
      "28 \n",
      "29 \n",
      "30 \n",
      "31 \n",
      "32 \n",
      "33 \n",
      "34 \n",
      "35 \n",
      "36 \n",
      "37 \n",
      "38 \n",
      "39 \n",
      "40 \n",
      "41 \n",
      "42 \n",
      "43 \n",
      "44 \n",
      "45 \n",
      "46 \n",
      "47 \n",
      "48 \n",
      "49 \n",
      "50 \n"
     ]
    },
    {
     "data": {
      "text/plain": [
       "   user  system elapsed \n",
       "8059.14  131.05 9149.52 "
      ]
     },
     "metadata": {},
     "output_type": "display_data"
    }
   ],
   "source": [
    "system.time({\n",
    "for(Repeat in 1:n_run){\n",
    "  set.seed(Repeat+34) # change seed each loop\n",
    "\n",
    "  ff <- wff(X,y, select_params = select_params)\n",
    "  \n",
    "  top_variables = ff$feature_list[,1]\n",
    "  \n",
    "  # error on the test set\n",
    "  preds <- predict(ff, new_data=X_test)\n",
    "  error = sum((y_test-preds)^2)/(n_test*T)\n",
    "  \n",
    "  # If variable was selected as important, indicate with 1 (otherwise 0)\n",
    "  for (i in 1:400){\n",
    "      result_ff[Repeat,i] <- as.numeric(paste(\"X\",i,sep=\"\") %in% top_variables)\n",
    "  }\n",
    "  result_ff[Repeat,401] <- error\n",
    "    \n",
    "  # show the progress\n",
    "  flush.console()\n",
    "  cat(Repeat,\"\\n\")\n",
    "}\n",
    "})\n",
    "\n",
    "result_ff[n_run+1,] = colMeans(result_ff[1:n_run,])\n",
    "write.csv(result_ff,file = 'results_ff.csv')"
   ]
  },
  {
   "cell_type": "code",
   "execution_count": 9,
   "metadata": {},
   "outputs": [
    {
     "data": {
      "text/html": [
       "<table>\n",
       "<thead><tr><th></th><th scope=col>V1</th><th scope=col>V2</th><th scope=col>V3</th><th scope=col>V4</th><th scope=col>V5</th><th scope=col>V6</th><th scope=col>V7</th><th scope=col>V8</th><th scope=col>V9</th><th scope=col>V10</th><th scope=col>...</th><th scope=col>V392</th><th scope=col>V393</th><th scope=col>V394</th><th scope=col>V395</th><th scope=col>V396</th><th scope=col>V397</th><th scope=col>V398</th><th scope=col>V399</th><th scope=col>V400</th><th scope=col>error</th></tr></thead>\n",
       "<tbody>\n",
       "\t<tr><th scope=row>51</th><td>1       </td><td>0       </td><td>1       </td><td>0       </td><td>0       </td><td>0       </td><td>1       </td><td>0       </td><td>0       </td><td>0       </td><td>...     </td><td>0       </td><td>0       </td><td>0       </td><td>0       </td><td>0       </td><td>0       </td><td>0       </td><td>0       </td><td>0       </td><td>22.32743</td></tr>\n",
       "</tbody>\n",
       "</table>\n"
      ],
      "text/latex": [
       "\\begin{tabular}{r|lllllllllllllllllllllllllllllllllllllllllllllllllllllllllllllllllllllllllllllllllllllllllllllllllllllllllllllllllllllllllllllllllllllllllllllllllllllllllllllllllllllllllllllllllllllllllllllllllllllllllllllllllllllllllllllllllllllllllllllllllllllllllllllllllllllllllllllllllllllllllllllllllllllllllllllllllllllllllllllllllllllllllllllllllllllllllllllllllllllllllllllllllllllllllllllllllllllllllllllllll}\n",
       "  & V1 & V2 & V3 & V4 & V5 & V6 & V7 & V8 & V9 & V10 & ... & V392 & V393 & V394 & V395 & V396 & V397 & V398 & V399 & V400 & error\\\\\n",
       "\\hline\n",
       "\t51 & 1        & 0        & 1        & 0        & 0        & 0        & 1        & 0        & 0        & 0        & ...      & 0        & 0        & 0        & 0        & 0        & 0        & 0        & 0        & 0        & 22.32743\\\\\n",
       "\\end{tabular}\n"
      ],
      "text/markdown": [
       "\n",
       "| <!--/--> | V1 | V2 | V3 | V4 | V5 | V6 | V7 | V8 | V9 | V10 | ... | V392 | V393 | V394 | V395 | V396 | V397 | V398 | V399 | V400 | error |\n",
       "|---|---|---|---|---|---|---|---|---|---|---|---|---|---|---|---|---|---|---|---|---|---|\n",
       "| 51 | 1        | 0        | 1        | 0        | 0        | 0        | 1        | 0        | 0        | 0        | ...      | 0        | 0        | 0        | 0        | 0        | 0        | 0        | 0        | 0        | 22.32743 |\n",
       "\n"
      ],
      "text/plain": [
       "   V1 V2 V3 V4 V5 V6 V7 V8 V9 V10 ... V392 V393 V394 V395 V396 V397 V398 V399\n",
       "51 1  0  1  0  0  0  1  0  0  0   ... 0    0    0    0    0    0    0    0   \n",
       "   V400 error   \n",
       "51 0    22.32743"
      ]
     },
     "metadata": {},
     "output_type": "display_data"
    }
   ],
   "source": [
    "# The final result after N_run times\n",
    "result_ff[n_run+1,]"
   ]
  },
  {
   "cell_type": "code",
   "execution_count": 10,
   "metadata": {},
   "outputs": [
    {
     "data": {
      "image/png": "[encoded data removed]",
      "text/plain": [
       "plot without title"
      ]
     },
     "metadata": {},
     "output_type": "display_data"
    }
   ],
   "source": [
    "plot(1:400,result_ff[n_run+1,][1:400])"
   ]
  },
  {
   "cell_type": "code",
   "execution_count": 11,
   "metadata": {},
   "outputs": [
    {
     "data": {
      "image/png": "[encoded data removed]",
      "text/plain": [
       "plot without title"
      ]
     },
     "metadata": {},
     "output_type": "display_data"
    }
   ],
   "source": [
    "imp_var = c(1,2,3,301,302,303)\n",
    "plot(1:6,result_ff[n_run+1,][imp_var])\n",
    "axis(1, at=1:6, labels=imp_var)"
   ]
  },
  {
   "cell_type": "code",
   "execution_count": 12,
   "metadata": {},
   "outputs": [
    {
     "data": {
      "text/html": [
       "<table>\n",
       "<thead><tr><th></th><th scope=col>V1</th><th scope=col>V3</th><th scope=col>V7</th><th scope=col>V84</th><th scope=col>V92</th><th scope=col>V301</th><th scope=col>V302</th><th scope=col>V303</th><th scope=col>V300</th><th scope=col>V265</th><th scope=col>V180</th><th scope=col>V268</th><th scope=col>V109</th><th scope=col>V216</th><th scope=col>V118</th><th scope=col>V126</th><th scope=col>V150</th><th scope=col>V152</th><th scope=col>V266</th><th scope=col>V137</th></tr></thead>\n",
       "<tbody>\n",
       "\t<tr><th scope=row>51</th><td>1   </td><td>1   </td><td>1   </td><td>1   </td><td>1   </td><td>1   </td><td>1   </td><td>1   </td><td>0.68</td><td>0.36</td><td>0.28</td><td>0.2 </td><td>0.14</td><td>0.08</td><td>0.06</td><td>0.04</td><td>0.04</td><td>0.04</td><td>0.04</td><td>0.02</td></tr>\n",
       "</tbody>\n",
       "</table>\n"
      ],
      "text/latex": [
       "\\begin{tabular}{r|llllllllllllllllllll}\n",
       "  & V1 & V3 & V7 & V84 & V92 & V301 & V302 & V303 & V300 & V265 & V180 & V268 & V109 & V216 & V118 & V126 & V150 & V152 & V266 & V137\\\\\n",
       "\\hline\n",
       "\t51 & 1    & 1    & 1    & 1    & 1    & 1    & 1    & 1    & 0.68 & 0.36 & 0.28 & 0.2  & 0.14 & 0.08 & 0.06 & 0.04 & 0.04 & 0.04 & 0.04 & 0.02\\\\\n",
       "\\end{tabular}\n"
      ],
      "text/markdown": [
       "\n",
       "| <!--/--> | V1 | V3 | V7 | V84 | V92 | V301 | V302 | V303 | V300 | V265 | V180 | V268 | V109 | V216 | V118 | V126 | V150 | V152 | V266 | V137 |\n",
       "|---|---|---|---|---|---|---|---|---|---|---|---|---|---|---|---|---|---|---|---|---|\n",
       "| 51 | 1    | 1    | 1    | 1    | 1    | 1    | 1    | 1    | 0.68 | 0.36 | 0.28 | 0.2  | 0.14 | 0.08 | 0.06 | 0.04 | 0.04 | 0.04 | 0.04 | 0.02 |\n",
       "\n"
      ],
      "text/plain": [
       "   V1 V3 V7 V84 V92 V301 V302 V303 V300 V265 V180 V268 V109 V216 V118 V126 V150\n",
       "51 1  1  1  1   1   1    1    1    0.68 0.36 0.28 0.2  0.14 0.08 0.06 0.04 0.04\n",
       "   V152 V266 V137\n",
       "51 0.04 0.04 0.02"
      ]
     },
     "metadata": {},
     "output_type": "display_data"
    }
   ],
   "source": [
    "sort(result_ff[n_run+1,][1:400],index.return=TRUE,decreasing = TRUE)[1:20]"
   ]
  }
 ],
 "metadata": {
  "kernelspec": {
   "display_name": "R",
   "language": "R",
   "name": "ir"
  },
  "language_info": {
   "codemirror_mode": "r",
   "file_extension": ".r",
   "mimetype": "text/x-r-source",
   "name": "R",
   "pygments_lexer": "r",
   "version": "3.6.0"
  }
 },
 "nbformat": 4,
 "nbformat_minor": 2
}
