{
 "cells": [
  {
   "cell_type": "code",
   "execution_count": 8,
   "metadata": {},
   "outputs": [],
   "source": [
    "source('simData.R')\n",
    "library(\"WGCNA\")\n",
    "library(\"randomForest\")\n",
    "library(\"fuzzyforest\")"
   ]
  },
  {
   "cell_type": "code",
   "execution_count": 9,
   "metadata": {},
   "outputs": [],
   "source": [
    "n <- 100 # number of patients\n",
    "T <-  5 # number of observations per patients\n",
    "data <- as.data.frame(sim_4(n, T)) # CS\n",
    "colnames(data)[401] <- \"y\""
   ]
  },
  {
   "cell_type": "code",
   "execution_count": 10,
   "metadata": {},
   "outputs": [
    {
     "data": {
      "text/html": [
       "<table>\n",
       "<thead><tr><th scope=col>V1</th><th scope=col>V2</th><th scope=col>V3</th><th scope=col>V4</th><th scope=col>V5</th><th scope=col>V6</th><th scope=col>V7</th><th scope=col>V8</th><th scope=col>V9</th><th scope=col>V10</th><th scope=col>...</th><th scope=col>V392</th><th scope=col>V393</th><th scope=col>V394</th><th scope=col>V395</th><th scope=col>V396</th><th scope=col>V397</th><th scope=col>V398</th><th scope=col>V399</th><th scope=col>V400</th><th scope=col>V401</th></tr></thead>\n",
       "<tbody>\n",
       "\t<tr><td>1.929479   </td><td>1.413705   </td><td>1.639774   </td><td>2.258434   </td><td>1.581684   </td><td>2.385367   </td><td>1.9884176  </td><td>2.626885   </td><td>1.3414711  </td><td>1.6372783  </td><td>...        </td><td> 0.11681745</td><td> 1.5334360 </td><td>3.146210   </td><td>-0.4981306 </td><td>-0.6711713 </td><td>-0.4661292 </td><td>0.2100612  </td><td>1.027513   </td><td>-0.8419266 </td><td>20.2041580 </td></tr>\n",
       "\t<tr><td>1.652461   </td><td>1.180874   </td><td>1.499301   </td><td>1.777115   </td><td>2.140479   </td><td>1.540624   </td><td>1.5485669  </td><td>1.630161   </td><td>1.2542309  </td><td>1.3342719  </td><td>...        </td><td>-0.02342902</td><td> 1.2164542 </td><td>2.709508   </td><td> 0.2214406 </td><td>-0.1934429 </td><td> 0.2315826 </td><td>0.1376503  </td><td>1.539174   </td><td>-1.5495107 </td><td> 0.8645602 </td></tr>\n",
       "\t<tr><td>2.178874   </td><td>2.110448   </td><td>2.565364   </td><td>2.641483   </td><td>2.698685   </td><td>1.604896   </td><td>1.8524922  </td><td>2.244799   </td><td>1.8382198  </td><td>1.7703062  </td><td>...        </td><td> 0.42564416</td><td> 0.4928161 </td><td>3.079310   </td><td> 0.9163931 </td><td>-0.9238094 </td><td> 0.3119541 </td><td>1.1742376  </td><td>1.215273   </td><td>-1.0189760 </td><td>48.0969252 </td></tr>\n",
       "\t<tr><td>2.171102   </td><td>2.050847   </td><td>1.939324   </td><td>2.619661   </td><td>2.406958   </td><td>2.933883   </td><td>1.6533374  </td><td>2.405339   </td><td>1.5587684  </td><td>2.2953253  </td><td>...        </td><td> 1.28960918</td><td> 0.3742206 </td><td>1.578380   </td><td> 0.5061555 </td><td> 0.2406918 </td><td> 0.2179328 </td><td>0.1097915  </td><td>1.884320   </td><td>-1.9360663 </td><td>49.4730336 </td></tr>\n",
       "\t<tr><td>1.141720   </td><td>1.078509   </td><td>1.413387   </td><td>1.083865   </td><td>1.627214   </td><td>1.152117   </td><td>0.9592449  </td><td>1.048298   </td><td>0.8277127  </td><td>0.6624772  </td><td>...        </td><td>-0.08272657</td><td>-0.5855984 </td><td>2.553879   </td><td>-1.1942934 </td><td>-1.3181095 </td><td>-0.2849591 </td><td>0.5459778  </td><td>1.242759   </td><td>-0.8091392 </td><td>16.1775255 </td></tr>\n",
       "</tbody>\n",
       "</table>\n"
      ],
      "text/latex": [
       "\\begin{tabular}{r|lllllllllllllllllllllllllllllllllllllllllllllllllllllllllllllllllllllllllllllllllllllllllllllllllllllllllllllllllllllllllllllllllllllllllllllllllllllllllllllllllllllllllllllllllllllllllllllllllllllllllllllllllllllllllllllllllllllllllllllllllllllllllllllllllllllllllllllllllllllllllllllllllllllllllllllllllllllllllllllllllllllllllllllllllllllllllllllllllllllllllllllllllllllllllllllllllllllllllllllllll}\n",
       " V1 & V2 & V3 & V4 & V5 & V6 & V7 & V8 & V9 & V10 & ... & V392 & V393 & V394 & V395 & V396 & V397 & V398 & V399 & V400 & V401\\\\\n",
       "\\hline\n",
       "\t 1.929479    & 1.413705    & 1.639774    & 2.258434    & 1.581684    & 2.385367    & 1.9884176   & 2.626885    & 1.3414711   & 1.6372783   & ...         &  0.11681745 &  1.5334360  & 3.146210    & -0.4981306  & -0.6711713  & -0.4661292  & 0.2100612   & 1.027513    & -0.8419266  & 20.2041580 \\\\\n",
       "\t 1.652461    & 1.180874    & 1.499301    & 1.777115    & 2.140479    & 1.540624    & 1.5485669   & 1.630161    & 1.2542309   & 1.3342719   & ...         & -0.02342902 &  1.2164542  & 2.709508    &  0.2214406  & -0.1934429  &  0.2315826  & 0.1376503   & 1.539174    & -1.5495107  &  0.8645602 \\\\\n",
       "\t 2.178874    & 2.110448    & 2.565364    & 2.641483    & 2.698685    & 1.604896    & 1.8524922   & 2.244799    & 1.8382198   & 1.7703062   & ...         &  0.42564416 &  0.4928161  & 3.079310    &  0.9163931  & -0.9238094  &  0.3119541  & 1.1742376   & 1.215273    & -1.0189760  & 48.0969252 \\\\\n",
       "\t 2.171102    & 2.050847    & 1.939324    & 2.619661    & 2.406958    & 2.933883    & 1.6533374   & 2.405339    & 1.5587684   & 2.2953253   & ...         &  1.28960918 &  0.3742206  & 1.578380    &  0.5061555  &  0.2406918  &  0.2179328  & 0.1097915   & 1.884320    & -1.9360663  & 49.4730336 \\\\\n",
       "\t 1.141720    & 1.078509    & 1.413387    & 1.083865    & 1.627214    & 1.152117    & 0.9592449   & 1.048298    & 0.8277127   & 0.6624772   & ...         & -0.08272657 & -0.5855984  & 2.553879    & -1.1942934  & -1.3181095  & -0.2849591  & 0.5459778   & 1.242759    & -0.8091392  & 16.1775255 \\\\\n",
       "\\end{tabular}\n"
      ],
      "text/markdown": [
       "\n",
       "| V1 | V2 | V3 | V4 | V5 | V6 | V7 | V8 | V9 | V10 | ... | V392 | V393 | V394 | V395 | V396 | V397 | V398 | V399 | V400 | V401 |\n",
       "|---|---|---|---|---|---|---|---|---|---|---|---|---|---|---|---|---|---|---|---|---|\n",
       "| 1.929479    | 1.413705    | 1.639774    | 2.258434    | 1.581684    | 2.385367    | 1.9884176   | 2.626885    | 1.3414711   | 1.6372783   | ...         |  0.11681745 |  1.5334360  | 3.146210    | -0.4981306  | -0.6711713  | -0.4661292  | 0.2100612   | 1.027513    | -0.8419266  | 20.2041580  |\n",
       "| 1.652461    | 1.180874    | 1.499301    | 1.777115    | 2.140479    | 1.540624    | 1.5485669   | 1.630161    | 1.2542309   | 1.3342719   | ...         | -0.02342902 |  1.2164542  | 2.709508    |  0.2214406  | -0.1934429  |  0.2315826  | 0.1376503   | 1.539174    | -1.5495107  |  0.8645602  |\n",
       "| 2.178874    | 2.110448    | 2.565364    | 2.641483    | 2.698685    | 1.604896    | 1.8524922   | 2.244799    | 1.8382198   | 1.7703062   | ...         |  0.42564416 |  0.4928161  | 3.079310    |  0.9163931  | -0.9238094  |  0.3119541  | 1.1742376   | 1.215273    | -1.0189760  | 48.0969252  |\n",
       "| 2.171102    | 2.050847    | 1.939324    | 2.619661    | 2.406958    | 2.933883    | 1.6533374   | 2.405339    | 1.5587684   | 2.2953253   | ...         |  1.28960918 |  0.3742206  | 1.578380    |  0.5061555  |  0.2406918  |  0.2179328  | 0.1097915   | 1.884320    | -1.9360663  | 49.4730336  |\n",
       "| 1.141720    | 1.078509    | 1.413387    | 1.083865    | 1.627214    | 1.152117    | 0.9592449   | 1.048298    | 0.8277127   | 0.6624772   | ...         | -0.08272657 | -0.5855984  | 2.553879    | -1.1942934  | -1.3181095  | -0.2849591  | 0.5459778   | 1.242759    | -0.8091392  | 16.1775255  |\n",
       "\n"
      ],
      "text/plain": [
       "  V1       V2       V3       V4       V5       V6       V7        V8      \n",
       "1 1.929479 1.413705 1.639774 2.258434 1.581684 2.385367 1.9884176 2.626885\n",
       "2 1.652461 1.180874 1.499301 1.777115 2.140479 1.540624 1.5485669 1.630161\n",
       "3 2.178874 2.110448 2.565364 2.641483 2.698685 1.604896 1.8524922 2.244799\n",
       "4 2.171102 2.050847 1.939324 2.619661 2.406958 2.933883 1.6533374 2.405339\n",
       "5 1.141720 1.078509 1.413387 1.083865 1.627214 1.152117 0.9592449 1.048298\n",
       "  V9        V10       ... V392        V393       V394     V395       V396      \n",
       "1 1.3414711 1.6372783 ...  0.11681745  1.5334360 3.146210 -0.4981306 -0.6711713\n",
       "2 1.2542309 1.3342719 ... -0.02342902  1.2164542 2.709508  0.2214406 -0.1934429\n",
       "3 1.8382198 1.7703062 ...  0.42564416  0.4928161 3.079310  0.9163931 -0.9238094\n",
       "4 1.5587684 2.2953253 ...  1.28960918  0.3742206 1.578380  0.5061555  0.2406918\n",
       "5 0.8277127 0.6624772 ... -0.08272657 -0.5855984 2.553879 -1.1942934 -1.3181095\n",
       "  V397       V398      V399     V400       V401      \n",
       "1 -0.4661292 0.2100612 1.027513 -0.8419266 20.2041580\n",
       "2  0.2315826 0.1376503 1.539174 -1.5495107  0.8645602\n",
       "3  0.3119541 1.1742376 1.215273 -1.0189760 48.0969252\n",
       "4  0.2179328 0.1097915 1.884320 -1.9360663 49.4730336\n",
       "5 -0.2849591 0.5459778 1.242759 -0.8091392 16.1775255"
      ]
     },
     "metadata": {},
     "output_type": "display_data"
    }
   ],
   "source": [
    "data[1:5,]"
   ]
  },
  {
   "cell_type": "code",
   "execution_count": 11,
   "metadata": {},
   "outputs": [],
   "source": [
    "X = data[,1:400]\n",
    "y = data[,401]"
   ]
  },
  {
   "cell_type": "code",
   "execution_count": 12,
   "metadata": {},
   "outputs": [
    {
     "data": {
      "image/png": "[encoded data removed]",
      "text/plain": [
       "Plot with title \"RF Variable Importance\""
      ]
     },
     "metadata": {},
     "output_type": "display_data"
    }
   ],
   "source": [
    "# Random Forest\n",
    "rf <- randomForest(X,y)\n",
    "varImpPlot(rf,type=2,main=\"RF Variable Importance\")"
   ]
  },
  {
   "cell_type": "code",
   "execution_count": 13,
   "metadata": {},
   "outputs": [],
   "source": [
    "# Fuzzy Forest\n",
    "# params is stored in xxx_control object\n",
    "# power: belta (I choose it without much care)\n",
    "WGCNA_params = WGCNA_control(power=3,TOMType=\"unsigned\",minModuleSize=30,\n",
    "                            numericLabels=TRUE,pamRespectsDendro=FALSE)\n",
    "\n",
    "mtry_factor     = 1 # mtry = sqrt(p)*mtry_factor; mtry is the num in subspace method\n",
    "drop_fraction   = 0.25 # drop xxx in each iteration of RFE-RF\n",
    "number_selected = 8 # we want 10 out of all features\n",
    "keep_fraction   = 0.05 # keep xxx for each module\n",
    "min_ntree        = 500 # used for calculating ntree\n",
    "ntree_factor    = 5 # used for calculating ntree\n",
    "final_ntree     = 500 # RF in selecting step\n",
    "\n",
    "screen_params = screen_control(drop_fraction = drop_fraction,\n",
    "                              keep_fraction  = keep_fraction,\n",
    "                              min_ntree      = min_ntree,\n",
    "                              mtry_factor    = mtry_factor,\n",
    "                              ntree_factor   = ntree_factor)\n",
    "\n",
    "select_params = select_control(drop_fraction  = drop_fraction,\n",
    "                              number_selected = number_selected,\n",
    "                              min_ntree       = min_ntree,\n",
    "                              mtry_factor     = mtry_factor,\n",
    "                              ntree_factor    = ntree_factor)    \n",
    "\n",
    "# a \"fuzzy_forest\" object\n",
    "wff_fit = wff(X,y,WGCNA_params = WGCNA_params,\n",
    "             screen_params = screen_params,\n",
    "             select_params = select_params,\n",
    "             final_ntree = final_ntree)"
   ]
  },
  {
   "cell_type": "code",
   "execution_count": 14,
   "metadata": {},
   "outputs": [
    {
     "data": {
      "image/png": "[encoded data removed]",
      "text/plain": [
       "Plot with title \"FF Variable Importance\""
      ]
     },
     "metadata": {},
     "output_type": "display_data"
    }
   ],
   "source": [
    "varImpPlot(wff_fit$final_rf,type=2,main=\"FF Variable Importance\")"
   ]
  }
 ],
 "metadata": {
  "kernelspec": {
   "display_name": "R",
   "language": "R",
   "name": "ir"
  },
  "language_info": {
   "codemirror_mode": "r",
   "file_extension": ".r",
   "mimetype": "text/x-r-source",
   "name": "R",
   "pygments_lexer": "r",
   "version": "3.6.0"
  }
 },
 "nbformat": 4,
 "nbformat_minor": 2
}
