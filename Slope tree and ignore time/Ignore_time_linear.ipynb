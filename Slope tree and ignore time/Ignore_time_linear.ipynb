{
 "cells": [
  {
   "cell_type": "code",
   "execution_count": 6,
   "metadata": {},
   "outputs": [],
   "source": [
    "source('simData.R')\n",
    "library(\"WGCNA\")\n",
    "library(\"randomForest\")\n",
    "library(\"fuzzyforest\")"
   ]
  },
  {
   "cell_type": "code",
   "execution_count": 2,
   "metadata": {},
   "outputs": [],
   "source": [
    "n <- 100 # number of patients\n",
    "T <-  5 # number of observations per patients\n",
    "data <- as.data.frame(sim_4_linear(n, T)) # CS\n",
    "colnames(data)[401] <- \"y\""
   ]
  },
  {
   "cell_type": "code",
   "execution_count": 3,
   "metadata": {},
   "outputs": [
    {
     "data": {
      "text/html": [
       "<table>\n",
       "<thead><tr><th scope=col>V1</th><th scope=col>V2</th><th scope=col>V3</th><th scope=col>V4</th><th scope=col>V5</th><th scope=col>V6</th><th scope=col>V7</th><th scope=col>V8</th><th scope=col>V9</th><th scope=col>V10</th><th scope=col>...</th><th scope=col>V392</th><th scope=col>V393</th><th scope=col>V394</th><th scope=col>V395</th><th scope=col>V396</th><th scope=col>V397</th><th scope=col>V398</th><th scope=col>V399</th><th scope=col>V400</th><th scope=col>y</th></tr></thead>\n",
       "<tbody>\n",
       "\t<tr><td> 0.53601160</td><td> 0.8574300 </td><td>1.1969265  </td><td> 0.40707663</td><td> 0.3320973 </td><td> 0.4487552 </td><td> 0.83362184</td><td>0.61871474 </td><td> 0.6131607 </td><td>0.1204570  </td><td>...        </td><td>1.0408963  </td><td>-1.7942253 </td><td>-0.37980615</td><td> 1.30436268</td><td>1.7054002  </td><td> 0.3457679 </td><td>-1.07728033</td><td> 1.22642653</td><td>-1.3890239 </td><td>  1.567706 </td></tr>\n",
       "\t<tr><td> 1.15673883</td><td> 0.5059232 </td><td>1.3472226  </td><td> 0.77774101</td><td> 0.5277459 </td><td> 0.5176800 </td><td> 0.89307441</td><td>0.93380998 </td><td> 0.6533297 </td><td>0.1542163  </td><td>...        </td><td>0.5399209  </td><td>-0.2364092 </td><td>-1.30879535</td><td>-0.42464931</td><td>1.5334445  </td><td> 0.3053703 </td><td>-0.99673636</td><td>-0.33380039</td><td>-1.4236259 </td><td>  4.435695 </td></tr>\n",
       "\t<tr><td>-0.55135140</td><td> 0.2299600 </td><td>0.5418632  </td><td>-0.09025674</td><td>-0.1979677 </td><td>-0.7997762 </td><td>-0.20279107</td><td>0.06113472 </td><td>-0.1888892 </td><td>0.1232500  </td><td>...        </td><td>2.3597561  </td><td>-1.8004976 </td><td>-1.64280107</td><td> 0.06914694</td><td>0.3614867  </td><td>-0.9188965 </td><td> 0.15912002</td><td> 0.42171372</td><td>-2.8383807 </td><td> -8.100736 </td></tr>\n",
       "\t<tr><td> 0.07527093</td><td>-0.1697611 </td><td>0.7721189  </td><td>-0.55801595</td><td>-0.2078308 </td><td>-0.4624186 </td><td>-0.05086119</td><td>0.08107012 </td><td>-0.4429963 </td><td>0.1030941  </td><td>...        </td><td>0.8749729  </td><td>-1.7127120 </td><td> 0.09488913</td><td> 0.51877114</td><td>1.7058544  </td><td> 0.3547469 </td><td> 0.35952874</td><td>-0.30675671</td><td>-0.6829349 </td><td>-10.020898 </td></tr>\n",
       "\t<tr><td> 0.58688428</td><td> 0.5950222 </td><td>0.9992387  </td><td> 0.53770850</td><td> 0.4795865 </td><td> 0.2403259 </td><td> 0.42368871</td><td>0.72932333 </td><td> 0.1688337 </td><td>0.7768107  </td><td>...        </td><td>1.1907773  </td><td>-1.6534154 </td><td>-0.70629962</td><td> 0.91323030</td><td>1.4089239  </td><td> 0.4430383 </td><td> 0.07474821</td><td>-0.03507161</td><td>-1.9765659 </td><td>  3.657435 </td></tr>\n",
       "</tbody>\n",
       "</table>\n"
      ],
      "text/latex": [
       "\\begin{tabular}{r|lllllllllllllllllllllllllllllllllllllllllllllllllllllllllllllllllllllllllllllllllllllllllllllllllllllllllllllllllllllllllllllllllllllllllllllllllllllllllllllllllllllllllllllllllllllllllllllllllllllllllllllllllllllllllllllllllllllllllllllllllllllllllllllllllllllllllllllllllllllllllllllllllllllllllllllllllllllllllllllllllllllllllllllllllllllllllllllllllllllllllllllllllllllllllllllllllllllllllllllllll}\n",
       " V1 & V2 & V3 & V4 & V5 & V6 & V7 & V8 & V9 & V10 & ... & V392 & V393 & V394 & V395 & V396 & V397 & V398 & V399 & V400 & y\\\\\n",
       "\\hline\n",
       "\t  0.53601160 &  0.8574300  & 1.1969265   &  0.40707663 &  0.3320973  &  0.4487552  &  0.83362184 & 0.61871474  &  0.6131607  & 0.1204570   & ...         & 1.0408963   & -1.7942253  & -0.37980615 &  1.30436268 & 1.7054002   &  0.3457679  & -1.07728033 &  1.22642653 & -1.3890239  &   1.567706 \\\\\n",
       "\t  1.15673883 &  0.5059232  & 1.3472226   &  0.77774101 &  0.5277459  &  0.5176800  &  0.89307441 & 0.93380998  &  0.6533297  & 0.1542163   & ...         & 0.5399209   & -0.2364092  & -1.30879535 & -0.42464931 & 1.5334445   &  0.3053703  & -0.99673636 & -0.33380039 & -1.4236259  &   4.435695 \\\\\n",
       "\t -0.55135140 &  0.2299600  & 0.5418632   & -0.09025674 & -0.1979677  & -0.7997762  & -0.20279107 & 0.06113472  & -0.1888892  & 0.1232500   & ...         & 2.3597561   & -1.8004976  & -1.64280107 &  0.06914694 & 0.3614867   & -0.9188965  &  0.15912002 &  0.42171372 & -2.8383807  &  -8.100736 \\\\\n",
       "\t  0.07527093 & -0.1697611  & 0.7721189   & -0.55801595 & -0.2078308  & -0.4624186  & -0.05086119 & 0.08107012  & -0.4429963  & 0.1030941   & ...         & 0.8749729   & -1.7127120  &  0.09488913 &  0.51877114 & 1.7058544   &  0.3547469  &  0.35952874 & -0.30675671 & -0.6829349  & -10.020898 \\\\\n",
       "\t  0.58688428 &  0.5950222  & 0.9992387   &  0.53770850 &  0.4795865  &  0.2403259  &  0.42368871 & 0.72932333  &  0.1688337  & 0.7768107   & ...         & 1.1907773   & -1.6534154  & -0.70629962 &  0.91323030 & 1.4089239   &  0.4430383  &  0.07474821 & -0.03507161 & -1.9765659  &   3.657435 \\\\\n",
       "\\end{tabular}\n"
      ],
      "text/markdown": [
       "\n",
       "| V1 | V2 | V3 | V4 | V5 | V6 | V7 | V8 | V9 | V10 | ... | V392 | V393 | V394 | V395 | V396 | V397 | V398 | V399 | V400 | y |\n",
       "|---|---|---|---|---|---|---|---|---|---|---|---|---|---|---|---|---|---|---|---|---|\n",
       "|  0.53601160 |  0.8574300  | 1.1969265   |  0.40707663 |  0.3320973  |  0.4487552  |  0.83362184 | 0.61871474  |  0.6131607  | 0.1204570   | ...         | 1.0408963   | -1.7942253  | -0.37980615 |  1.30436268 | 1.7054002   |  0.3457679  | -1.07728033 |  1.22642653 | -1.3890239  |   1.567706  |\n",
       "|  1.15673883 |  0.5059232  | 1.3472226   |  0.77774101 |  0.5277459  |  0.5176800  |  0.89307441 | 0.93380998  |  0.6533297  | 0.1542163   | ...         | 0.5399209   | -0.2364092  | -1.30879535 | -0.42464931 | 1.5334445   |  0.3053703  | -0.99673636 | -0.33380039 | -1.4236259  |   4.435695  |\n",
       "| -0.55135140 |  0.2299600  | 0.5418632   | -0.09025674 | -0.1979677  | -0.7997762  | -0.20279107 | 0.06113472  | -0.1888892  | 0.1232500   | ...         | 2.3597561   | -1.8004976  | -1.64280107 |  0.06914694 | 0.3614867   | -0.9188965  |  0.15912002 |  0.42171372 | -2.8383807  |  -8.100736  |\n",
       "|  0.07527093 | -0.1697611  | 0.7721189   | -0.55801595 | -0.2078308  | -0.4624186  | -0.05086119 | 0.08107012  | -0.4429963  | 0.1030941   | ...         | 0.8749729   | -1.7127120  |  0.09488913 |  0.51877114 | 1.7058544   |  0.3547469  |  0.35952874 | -0.30675671 | -0.6829349  | -10.020898  |\n",
       "|  0.58688428 |  0.5950222  | 0.9992387   |  0.53770850 |  0.4795865  |  0.2403259  |  0.42368871 | 0.72932333  |  0.1688337  | 0.7768107   | ...         | 1.1907773   | -1.6534154  | -0.70629962 |  0.91323030 | 1.4089239   |  0.4430383  |  0.07474821 | -0.03507161 | -1.9765659  |   3.657435  |\n",
       "\n"
      ],
      "text/plain": [
       "  V1          V2         V3        V4          V5         V6        \n",
       "1  0.53601160  0.8574300 1.1969265  0.40707663  0.3320973  0.4487552\n",
       "2  1.15673883  0.5059232 1.3472226  0.77774101  0.5277459  0.5176800\n",
       "3 -0.55135140  0.2299600 0.5418632 -0.09025674 -0.1979677 -0.7997762\n",
       "4  0.07527093 -0.1697611 0.7721189 -0.55801595 -0.2078308 -0.4624186\n",
       "5  0.58688428  0.5950222 0.9992387  0.53770850  0.4795865  0.2403259\n",
       "  V7          V8         V9         V10       ... V392      V393      \n",
       "1  0.83362184 0.61871474  0.6131607 0.1204570 ... 1.0408963 -1.7942253\n",
       "2  0.89307441 0.93380998  0.6533297 0.1542163 ... 0.5399209 -0.2364092\n",
       "3 -0.20279107 0.06113472 -0.1888892 0.1232500 ... 2.3597561 -1.8004976\n",
       "4 -0.05086119 0.08107012 -0.4429963 0.1030941 ... 0.8749729 -1.7127120\n",
       "5  0.42368871 0.72932333  0.1688337 0.7768107 ... 1.1907773 -1.6534154\n",
       "  V394        V395        V396      V397       V398        V399       \n",
       "1 -0.37980615  1.30436268 1.7054002  0.3457679 -1.07728033  1.22642653\n",
       "2 -1.30879535 -0.42464931 1.5334445  0.3053703 -0.99673636 -0.33380039\n",
       "3 -1.64280107  0.06914694 0.3614867 -0.9188965  0.15912002  0.42171372\n",
       "4  0.09488913  0.51877114 1.7058544  0.3547469  0.35952874 -0.30675671\n",
       "5 -0.70629962  0.91323030 1.4089239  0.4430383  0.07474821 -0.03507161\n",
       "  V400       y         \n",
       "1 -1.3890239   1.567706\n",
       "2 -1.4236259   4.435695\n",
       "3 -2.8383807  -8.100736\n",
       "4 -0.6829349 -10.020898\n",
       "5 -1.9765659   3.657435"
      ]
     },
     "metadata": {},
     "output_type": "display_data"
    }
   ],
   "source": [
    "data[1:5,]"
   ]
  },
  {
   "cell_type": "code",
   "execution_count": 4,
   "metadata": {},
   "outputs": [],
   "source": [
    "X = data[,1:400]\n",
    "y = data[,401]"
   ]
  },
  {
   "cell_type": "code",
   "execution_count": 5,
   "metadata": {},
   "outputs": [
    {
     "data": {
      "image/png": "[encoded data removed]",
      "text/plain": [
       "Plot with title \"RF Variable Importance\""
      ]
     },
     "metadata": {},
     "output_type": "display_data"
    }
   ],
   "source": [
    "# Random Forest\n",
    "rf <- randomForest(X,y)\n",
    "varImpPlot(rf,type=2,main=\"RF Variable Importance\")"
   ]
  },
  {
   "cell_type": "code",
   "execution_count": 6,
   "metadata": {},
   "outputs": [],
   "source": [
    "# Fuzzy Forest\n",
    "# params is stored in xxx_control object\n",
    "# power: belta (I choose it without much care)\n",
    "WGCNA_params = WGCNA_control(power=3,TOMType=\"unsigned\",minModuleSize=30,\n",
    "                            numericLabels=TRUE,pamRespectsDendro=FALSE)\n",
    "\n",
    "mtry_factor     = 1 # mtry = sqrt(p)*mtry_factor; mtry is the num in subspace method\n",
    "drop_fraction   = 0.25 # drop xxx in each iteration of RFE-RF\n",
    "number_selected = 8 # we want 10 out of all features\n",
    "keep_fraction   = 0.05 # keep xxx for each module\n",
    "min_ntree        = 500 # used for calculating ntree\n",
    "ntree_factor    = 5 # used for calculating ntree\n",
    "final_ntree     = 500 # RF in selecting step\n",
    "\n",
    "screen_params = screen_control(drop_fraction = drop_fraction,\n",
    "                              keep_fraction  = keep_fraction,\n",
    "                              min_ntree      = min_ntree,\n",
    "                              mtry_factor    = mtry_factor,\n",
    "                              ntree_factor   = ntree_factor)\n",
    "\n",
    "select_params = select_control(drop_fraction  = drop_fraction,\n",
    "                              number_selected = number_selected,\n",
    "                              min_ntree       = min_ntree,\n",
    "                              mtry_factor     = mtry_factor,\n",
    "                              ntree_factor    = ntree_factor)    \n",
    "\n",
    "# a \"fuzzy_forest\" object\n",
    "wff_fit = wff(X,y,WGCNA_params = WGCNA_params,\n",
    "             screen_params = screen_params,\n",
    "             select_params = select_params,\n",
    "             final_ntree = final_ntree)"
   ]
  },
  {
   "cell_type": "code",
   "execution_count": 7,
   "metadata": {},
   "outputs": [
    {
     "data": {
      "image/png": "[encoded data removed]",
      "text/plain": [
       "Plot with title \"FF Variable Importance\""
      ]
     },
     "metadata": {},
     "output_type": "display_data"
    }
   ],
   "source": [
    "varImpPlot(wff_fit$final_rf,type=2,main=\"FF Variable Importance\")"
   ]
  }
 ],
 "metadata": {
  "kernelspec": {
   "display_name": "R",
   "language": "R",
   "name": "ir"
  },
  "language_info": {
   "codemirror_mode": "r",
   "file_extension": ".r",
   "mimetype": "text/x-r-source",
   "name": "R",
   "pygments_lexer": "r",
   "version": "3.6.0"
  }
 },
 "nbformat": 4,
 "nbformat_minor": 2
}
