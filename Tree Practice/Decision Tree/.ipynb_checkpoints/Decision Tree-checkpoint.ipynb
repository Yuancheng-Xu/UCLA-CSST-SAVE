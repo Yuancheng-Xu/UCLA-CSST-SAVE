{
 "cells": [
  {
   "cell_type": "markdown",
   "metadata": {},
   "source": [
    "The goal of this notebook is to code a decision tree classifier that can be used with the following API."
   ]
  },
  {
   "cell_type": "raw",
   "metadata": {},
   "source": [
    "df = pd.read_csv(\"data.csv\")\n",
    "\n",
    "train_df, test_df = train_test_split(df, test_size=0.2)\n",
    "tree = decision_tree_algorithm(train_df)\n",
    "accuracy = calculate_accuracy(test_df, tree)"
   ]
  },
  {
   "cell_type": "code",
   "execution_count": 1,
   "metadata": {},
   "outputs": [],
   "source": [
    "import numpy as np\n",
    "import pandas as pd\n",
    "\n",
    "import matplotlib.pyplot as plt\n",
    "import seaborn as sns\n",
    "%matplotlib inline\n",
    "\n",
    "import random\n",
    "from pprint import pprint"
   ]
  },
  {
   "cell_type": "markdown",
   "metadata": {},
   "source": [
    "# Load and Prepare Data"
   ]
  },
  {
   "cell_type": "markdown",
   "metadata": {},
   "source": [
    "#### Format of the data\n",
    "- last column of the data frame must contain the label and it must also be called \"label\"\n",
    "- there should be no missing values in the data frame"
   ]
  },
  {
   "cell_type": "code",
   "execution_count": 2,
   "metadata": {},
   "outputs": [],
   "source": [
    "df = pd.read_csv(\"Iris.csv\")\n",
    "df = df.drop(\"Id\", axis=1)\n",
    "df = df.rename(columns={\"species\": \"label\"})"
   ]
  },
  {
   "cell_type": "code",
   "execution_count": 3,
   "metadata": {},
   "outputs": [
    {
     "data": {
      "text/html": [
       "<div>\n",
       "<style scoped>\n",
       "    .dataframe tbody tr th:only-of-type {\n",
       "        vertical-align: middle;\n",
       "    }\n",
       "\n",
       "    .dataframe tbody tr th {\n",
       "        vertical-align: top;\n",
       "    }\n",
       "\n",
       "    .dataframe thead th {\n",
       "        text-align: right;\n",
       "    }\n",
       "</style>\n",
       "<table border=\"1\" class=\"dataframe\">\n",
       "  <thead>\n",
       "    <tr style=\"text-align: right;\">\n",
       "      <th></th>\n",
       "      <th>sepal_length</th>\n",
       "      <th>sepal_width</th>\n",
       "      <th>petal_length</th>\n",
       "      <th>petal_width</th>\n",
       "      <th>label</th>\n",
       "    </tr>\n",
       "  </thead>\n",
       "  <tbody>\n",
       "    <tr>\n",
       "      <th>0</th>\n",
       "      <td>5.1</td>\n",
       "      <td>3.5</td>\n",
       "      <td>1.4</td>\n",
       "      <td>0.2</td>\n",
       "      <td>Iris-setosa</td>\n",
       "    </tr>\n",
       "    <tr>\n",
       "      <th>1</th>\n",
       "      <td>4.9</td>\n",
       "      <td>3.0</td>\n",
       "      <td>1.4</td>\n",
       "      <td>0.2</td>\n",
       "      <td>Iris-setosa</td>\n",
       "    </tr>\n",
       "    <tr>\n",
       "      <th>2</th>\n",
       "      <td>4.7</td>\n",
       "      <td>3.2</td>\n",
       "      <td>1.3</td>\n",
       "      <td>0.2</td>\n",
       "      <td>Iris-setosa</td>\n",
       "    </tr>\n",
       "    <tr>\n",
       "      <th>3</th>\n",
       "      <td>4.6</td>\n",
       "      <td>3.1</td>\n",
       "      <td>1.5</td>\n",
       "      <td>0.2</td>\n",
       "      <td>Iris-setosa</td>\n",
       "    </tr>\n",
       "    <tr>\n",
       "      <th>4</th>\n",
       "      <td>5.0</td>\n",
       "      <td>3.6</td>\n",
       "      <td>1.4</td>\n",
       "      <td>0.2</td>\n",
       "      <td>Iris-setosa</td>\n",
       "    </tr>\n",
       "  </tbody>\n",
       "</table>\n",
       "</div>"
      ],
      "text/plain": [
       "   sepal_length  sepal_width  petal_length  petal_width        label\n",
       "0           5.1          3.5           1.4          0.2  Iris-setosa\n",
       "1           4.9          3.0           1.4          0.2  Iris-setosa\n",
       "2           4.7          3.2           1.3          0.2  Iris-setosa\n",
       "3           4.6          3.1           1.5          0.2  Iris-setosa\n",
       "4           5.0          3.6           1.4          0.2  Iris-setosa"
      ]
     },
     "execution_count": 3,
     "metadata": {},
     "output_type": "execute_result"
    }
   ],
   "source": [
    "df.head()"
   ]
  },
  {
   "cell_type": "code",
   "execution_count": 4,
   "metadata": {},
   "outputs": [
    {
     "name": "stdout",
     "output_type": "stream",
     "text": [
      "<class 'pandas.core.frame.DataFrame'>\n",
      "RangeIndex: 150 entries, 0 to 149\n",
      "Data columns (total 5 columns):\n",
      "sepal_length    150 non-null float64\n",
      "sepal_width     150 non-null float64\n",
      "petal_length    150 non-null float64\n",
      "petal_width     150 non-null float64\n",
      "label           150 non-null object\n",
      "dtypes: float64(4), object(1)\n",
      "memory usage: 5.3+ KB\n"
     ]
    }
   ],
   "source": [
    "#Checking missing value\n",
    "df.info()"
   ]
  },
  {
   "cell_type": "markdown",
   "metadata": {},
   "source": [
    "# Train-Test-Split"
   ]
  },
  {
   "cell_type": "code",
   "execution_count": 5,
   "metadata": {},
   "outputs": [],
   "source": [
    "def train_test_split(df, test_size):\n",
    "    # test_size can be abs value or proportion\n",
    "    if isinstance(test_size, float):\n",
    "        test_size = round(test_size * len(df))\n",
    "\n",
    "    indices = df.index.tolist()\n",
    "    test_indices = random.sample(population=indices, k=test_size)\n",
    "\n",
    "    test_df = df.loc[test_indices]\n",
    "    train_df = df.drop(test_indices)\n",
    "    \n",
    "    return train_df, test_df"
   ]
  },
  {
   "cell_type": "code",
   "execution_count": 6,
   "metadata": {},
   "outputs": [
    {
     "data": {
      "text/html": [
       "<div>\n",
       "<style scoped>\n",
       "    .dataframe tbody tr th:only-of-type {\n",
       "        vertical-align: middle;\n",
       "    }\n",
       "\n",
       "    .dataframe tbody tr th {\n",
       "        vertical-align: top;\n",
       "    }\n",
       "\n",
       "    .dataframe thead th {\n",
       "        text-align: right;\n",
       "    }\n",
       "</style>\n",
       "<table border=\"1\" class=\"dataframe\">\n",
       "  <thead>\n",
       "    <tr style=\"text-align: right;\">\n",
       "      <th></th>\n",
       "      <th>sepal_length</th>\n",
       "      <th>sepal_width</th>\n",
       "      <th>petal_length</th>\n",
       "      <th>petal_width</th>\n",
       "      <th>label</th>\n",
       "    </tr>\n",
       "  </thead>\n",
       "  <tbody>\n",
       "    <tr>\n",
       "      <th>98</th>\n",
       "      <td>5.1</td>\n",
       "      <td>2.5</td>\n",
       "      <td>3.0</td>\n",
       "      <td>1.1</td>\n",
       "      <td>Iris-versicolor</td>\n",
       "    </tr>\n",
       "    <tr>\n",
       "      <th>107</th>\n",
       "      <td>7.3</td>\n",
       "      <td>2.9</td>\n",
       "      <td>6.3</td>\n",
       "      <td>1.8</td>\n",
       "      <td>Iris-virginica</td>\n",
       "    </tr>\n",
       "    <tr>\n",
       "      <th>10</th>\n",
       "      <td>5.4</td>\n",
       "      <td>3.7</td>\n",
       "      <td>1.5</td>\n",
       "      <td>0.2</td>\n",
       "      <td>Iris-setosa</td>\n",
       "    </tr>\n",
       "    <tr>\n",
       "      <th>66</th>\n",
       "      <td>5.6</td>\n",
       "      <td>3.0</td>\n",
       "      <td>4.5</td>\n",
       "      <td>1.5</td>\n",
       "      <td>Iris-versicolor</td>\n",
       "    </tr>\n",
       "    <tr>\n",
       "      <th>130</th>\n",
       "      <td>7.4</td>\n",
       "      <td>2.8</td>\n",
       "      <td>6.1</td>\n",
       "      <td>1.9</td>\n",
       "      <td>Iris-virginica</td>\n",
       "    </tr>\n",
       "  </tbody>\n",
       "</table>\n",
       "</div>"
      ],
      "text/plain": [
       "     sepal_length  sepal_width  petal_length  petal_width            label\n",
       "98            5.1          2.5           3.0          1.1  Iris-versicolor\n",
       "107           7.3          2.9           6.3          1.8   Iris-virginica\n",
       "10            5.4          3.7           1.5          0.2      Iris-setosa\n",
       "66            5.6          3.0           4.5          1.5  Iris-versicolor\n",
       "130           7.4          2.8           6.1          1.9   Iris-virginica"
      ]
     },
     "execution_count": 6,
     "metadata": {},
     "output_type": "execute_result"
    }
   ],
   "source": [
    "random.seed(0) # everytime the outcome is the same\n",
    "train_df, test_df = train_test_split(df, test_size=20)\n",
    "test_df.head()"
   ]
  },
  {
   "cell_type": "markdown",
   "metadata": {},
   "source": [
    "# Helper Functions"
   ]
  },
  {
   "cell_type": "code",
   "execution_count": 7,
   "metadata": {},
   "outputs": [
    {
     "data": {
      "text/plain": [
       "array([[5.1, 3.5, 1.4, 0.2, 'Iris-setosa'],\n",
       "       [4.9, 3.0, 1.4, 0.2, 'Iris-setosa'],\n",
       "       [4.7, 3.2, 1.3, 0.2, 'Iris-setosa'],\n",
       "       [4.6, 3.1, 1.5, 0.2, 'Iris-setosa'],\n",
       "       [5.0, 3.6, 1.4, 0.2, 'Iris-setosa']], dtype=object)"
      ]
     },
     "execution_count": 7,
     "metadata": {},
     "output_type": "execute_result"
    }
   ],
   "source": [
    "data = train_df.values\n",
    "data[:5]"
   ]
  },
  {
   "cell_type": "markdown",
   "metadata": {},
   "source": [
    "### Data pure?"
   ]
  },
  {
   "cell_type": "code",
   "execution_count": 8,
   "metadata": {},
   "outputs": [],
   "source": [
    "def check_purity(data):\n",
    "    \n",
    "    label_column = data[:, -1]\n",
    "    #看有哪些label (distinct classes)\n",
    "    unique_classes = np.unique(label_column)\n",
    "\n",
    "    if len(unique_classes) == 1:\n",
    "        return True\n",
    "    else:\n",
    "        return False"
   ]
  },
  {
   "cell_type": "code",
   "execution_count": 9,
   "metadata": {},
   "outputs": [
    {
     "data": {
      "text/plain": [
       "True"
      ]
     },
     "execution_count": 9,
     "metadata": {},
     "output_type": "execute_result"
    }
   ],
   "source": [
    "#test in the dataset, width<0.8 indeed only contains one label\n",
    "check_purity(train_df[train_df.petal_width<0.8].values)"
   ]
  },
  {
   "cell_type": "markdown",
   "metadata": {},
   "source": [
    "### Classify"
   ]
  },
  {
   "cell_type": "code",
   "execution_count": 10,
   "metadata": {},
   "outputs": [],
   "source": [
    "# when data is a leaf, make the final decision (the most many one)\n",
    "# data is 2d np array, i.e. df.values\n",
    "def classify_data(data):\n",
    "    \n",
    "    label_column = data[:, -1]\n",
    "    #选取出现最频繁的那个\n",
    "    unique_classes, counts_unique_classes = np.unique(label_column, return_counts=True)\n",
    "\n",
    "    index = counts_unique_classes.argmax()\n",
    "    classification = unique_classes[index]\n",
    "    \n",
    "    return classification"
   ]
  },
  {
   "cell_type": "code",
   "execution_count": 11,
   "metadata": {},
   "outputs": [
    {
     "data": {
      "text/plain": [
       "False"
      ]
     },
     "execution_count": 11,
     "metadata": {},
     "output_type": "execute_result"
    }
   ],
   "source": [
    "check_purity(train_df[train_df.petal_width<1.2].values)"
   ]
  },
  {
   "cell_type": "markdown",
   "metadata": {},
   "source": [
    "### Potential splits?"
   ]
  },
  {
   "cell_type": "code",
   "execution_count": 12,
   "metadata": {},
   "outputs": [],
   "source": [
    "#data is 2d np array\n",
    "def get_potential_splits(data):\n",
    "    # dictionary, keys is the feature and value is a list of all the possible splits\n",
    "    potential_splits = {}\n",
    "    _, n_columns = data.shape\n",
    "    for column_index in range(n_columns - 1): # excluding the last column which is the label\n",
    "        values = data[:, column_index]\n",
    "        unique_values = np.unique(values) # has been sorted\n",
    "        \n",
    "        # Here we just use the unique value as potential splits\n",
    "        # For continuous data, we can also use the midpts. See youtube for debugging\n",
    "        potential_splits[column_index] = unique_values\n",
    "    \n",
    "    return potential_splits"
   ]
  },
  {
   "cell_type": "code",
   "execution_count": 13,
   "metadata": {},
   "outputs": [
    {
     "name": "stderr",
     "output_type": "stream",
     "text": [
      "C:\\Users\\Jaken\\Anaconda3\\lib\\site-packages\\seaborn\\regression.py:546: UserWarning: The `size` paramter has been renamed to `height`; please update your code.\n",
      "  warnings.warn(msg, UserWarning)\n"
     ]
    },
    {
     "data": {
      "text/plain": [
       "<matplotlib.collections.LineCollection at 0x997cd10>"
      ]
     },
     "execution_count": 13,
     "metadata": {},
     "output_type": "execute_result"
    },
    {
     "data": {
      "image/png": "[encoded data removed]",
      "text/plain": [
       "<Figure size 621.9x432 with 1 Axes>"
      ]
     },
     "metadata": {
      "needs_background": "light"
     },
     "output_type": "display_data"
    }
   ],
   "source": [
    "potential_splits = get_potential_splits(train_df.values)\n",
    "sns.lmplot(data=train_df,x=\"petal_width\",y=\"petal_length\",hue = \"label\",fit_reg=False,\n",
    "          size=6,aspect=1.2)\n",
    "#plot potential split\n",
    "plt.vlines(x=potential_splits[3],ymin=1,ymax=7) # petal_width\n",
    "\n",
    "# plt.hlines(y=potential_splits[2],xmin=0,xmax=2.5) #\"petal_length\""
   ]
  },
  {
   "cell_type": "markdown",
   "metadata": {},
   "source": [
    "### Split Data"
   ]
  },
  {
   "cell_type": "code",
   "execution_count": 14,
   "metadata": {},
   "outputs": [],
   "source": [
    "# Given the criterion (the question) and split the data\n",
    "# split_column is feature\n",
    "\n",
    "# FEATURE_TYPES appears in the main function: decision_tree_algorithm\n",
    "# Please run the following code (and the method in advance) \n",
    "# if you want to run this method seperately\n",
    "\n",
    "\n",
    "# FEATURE_TYPES = determine_type_of_feature(df)\n",
    "def split_data(data, split_column, split_value):\n",
    "    \n",
    "    split_column_values = data[:, split_column]\n",
    "    \n",
    "    \n",
    "    type_of_feature = FEATURE_TYPES[split_column]\n",
    "    if type_of_feature == \"continuous\":\n",
    "        data_below = data[split_column_values <= split_value]\n",
    "        data_above = data[split_column_values >  split_value]\n",
    "    \n",
    "    # feature is categorical   \n",
    "    else:\n",
    "        data_below = data[split_column_values == split_value]\n",
    "        data_above = data[split_column_values != split_value]\n",
    "    \n",
    "    return data_below, data_above"
   ]
  },
  {
   "cell_type": "code",
   "execution_count": 17,
   "metadata": {},
   "outputs": [
    {
     "data": {
      "text/plain": [
       "(0, 2.6)"
      ]
     },
     "execution_count": 17,
     "metadata": {},
     "output_type": "execute_result"
    },
    {
     "data": {
      "image/png": "[encoded data removed]",
      "text/plain": [
       "<Figure size 360x360 with 1 Axes>"
      ]
     },
     "metadata": {
      "needs_background": "light"
     },
     "output_type": "display_data"
    }
   ],
   "source": [
    "FEATURE_TYPES = determine_type_of_feature(df)\n",
    "\n",
    "split_column = 3\n",
    "split_value = 0.8\n",
    "data_below, data_above = split_data(data,split_column,split_value)\n",
    "\n",
    "#test\n",
    "# the arg in sns is dataframe\n",
    "plotting_df = pd.DataFrame(data_above,columns = df.columns) #df.columns is names\n",
    "\n",
    "sns.lmplot(data=plotting_df,x=\"petal_width\",y=\"petal_length\",fit_reg=False)\n",
    "plt.vlines(x = split_value,ymin=1,ymax=7)\n",
    "plt.xlim(0,2.6)\n"
   ]
  },
  {
   "cell_type": "markdown",
   "metadata": {},
   "source": [
    "### Lowest Overall Entropy?"
   ]
  },
  {
   "cell_type": "code",
   "execution_count": 19,
   "metadata": {},
   "outputs": [],
   "source": [
    "def calculate_entropy(data):\n",
    "    \n",
    "    label_column = data[:, -1]\n",
    "    _, counts = np.unique(label_column, return_counts=True)\n",
    "\n",
    "    probabilities = counts / counts.sum() #各个label对应的比例\n",
    "    entropy = sum(probabilities * -np.log2(probabilities))\n",
    "     \n",
    "    return entropy"
   ]
  },
  {
   "cell_type": "code",
   "execution_count": 20,
   "metadata": {},
   "outputs": [
    {
     "data": {
      "text/plain": [
       "0.0"
      ]
     },
     "execution_count": 20,
     "metadata": {},
     "output_type": "execute_result"
    }
   ],
   "source": [
    "#test\n",
    "calculate_entropy(data_below) # OK! since data_below is pure"
   ]
  },
  {
   "cell_type": "code",
   "execution_count": 21,
   "metadata": {},
   "outputs": [],
   "source": [
    "def calculate_overall_entropy(data_below, data_above):\n",
    "    \n",
    "    n = len(data_below) + len(data_above)\n",
    "    p_data_below = len(data_below) / n\n",
    "    p_data_above = len(data_above) / n\n",
    "\n",
    "    overall_entropy =  (p_data_below * calculate_entropy(data_below) \n",
    "                      + p_data_above * calculate_entropy(data_above))\n",
    "    \n",
    "    return overall_entropy"
   ]
  },
  {
   "cell_type": "code",
   "execution_count": 22,
   "metadata": {},
   "outputs": [],
   "source": [
    "def determine_best_split(data, potential_splits):\n",
    "    \n",
    "    overall_entropy = 9999 # arbitrarily large\n",
    "    for column_index in potential_splits:# loop over all the keys\n",
    "        # loop over all the values\n",
    "        for value in potential_splits[column_index]:\n",
    "            data_below, data_above = split_data(data, split_column=column_index, split_value=value)\n",
    "            current_overall_entropy = calculate_overall_entropy(data_below, data_above)\n",
    "\n",
    "            if current_overall_entropy <= overall_entropy:\n",
    "                overall_entropy = current_overall_entropy\n",
    "                best_split_column = column_index\n",
    "                best_split_value = value\n",
    "    \n",
    "    return best_split_column, best_split_value"
   ]
  },
  {
   "cell_type": "code",
   "execution_count": 23,
   "metadata": {},
   "outputs": [
    {
     "data": {
      "text/plain": [
       "(3, 0.6)"
      ]
     },
     "execution_count": 23,
     "metadata": {},
     "output_type": "execute_result"
    }
   ],
   "source": [
    "determine_best_split(data,potential_splits)"
   ]
  },
  {
   "cell_type": "markdown",
   "metadata": {},
   "source": [
    "# Decision Tree Algorithm"
   ]
  },
  {
   "cell_type": "markdown",
   "metadata": {},
   "source": [
    "### Representation of the Decision Tree"
   ]
  },
  {
   "cell_type": "raw",
   "metadata": {},
   "source": [
    "sub_tree = {question: [yes_answer, no_answer]}"
   ]
  },
  {
   "cell_type": "code",
   "execution_count": 24,
   "metadata": {},
   "outputs": [],
   "source": [
    "example_tree = {\"petal_width <= 0.8\": [\"Iris-setosa\", \n",
    "                                       {\"petal_width <= 1.65\": [{\"petal_length <= 4.9\": [\"Iris-versicolor\", \n",
    "                                                                                         \"Iris-virginica\"]}, \n",
    "                                                                \"Iris-virginica\"]}]}"
   ]
  },
  {
   "cell_type": "markdown",
   "metadata": {},
   "source": [
    "### Determine Type of Feature"
   ]
  },
  {
   "cell_type": "code",
   "execution_count": 25,
   "metadata": {},
   "outputs": [],
   "source": [
    "def determine_type_of_feature(df):\n",
    "    \n",
    "    feature_types = []\n",
    "    n_unique_values_treshold = 15\n",
    "    for feature in df.columns:\n",
    "        if feature != \"label\":\n",
    "            unique_values = df[feature].unique()\n",
    "            example_value = unique_values[0]\n",
    "\n",
    "            if (isinstance(example_value, str)) or (len(unique_values) <= n_unique_values_treshold):\n",
    "                feature_types.append(\"categorical\")\n",
    "            else:\n",
    "                feature_types.append(\"continuous\")\n",
    "    \n",
    "    return feature_types"
   ]
  },
  {
   "cell_type": "markdown",
   "metadata": {},
   "source": [
    "### Algorithm"
   ]
  },
  {
   "cell_type": "code",
   "execution_count": 26,
   "metadata": {},
   "outputs": [],
   "source": [
    "# Recursive\n",
    "# min_samples,max_depth 用来prune the tree\n",
    "def decision_tree_algorithm(df, counter=0, min_samples=2, max_depth=5):\n",
    "    # Check the data type of the input df: Since the method is recursive, in the first call\n",
    "    # df is dataframe but later it is np array\n",
    "    # data preparations\n",
    "    if counter == 0:\n",
    "        global COLUMN_HEADERS, FEATURE_TYPES # Next time we still have these variables\n",
    "        COLUMN_HEADERS = df.columns #name\n",
    "        FEATURE_TYPES = determine_type_of_feature(df)\n",
    "        data = df.values\n",
    "    else:\n",
    "        data = df           \n",
    "    \n",
    "    \n",
    "    # base cases\n",
    "    # If pure or the num of pts is too small, classify directly\n",
    "    if (check_purity(data)) or (len(data) < min_samples) or (counter == max_depth):\n",
    "        classification = classify_data(data) # final decision\n",
    "        \n",
    "        return classification\n",
    "\n",
    "    \n",
    "    # recursive part\n",
    "    else:    \n",
    "        counter += 1\n",
    "\n",
    "        # helper functions \n",
    "        potential_splits = get_potential_splits(data)\n",
    "        split_column, split_value = determine_best_split(data, potential_splits)\n",
    "        data_below, data_above = split_data(data, split_column, split_value)\n",
    "        \n",
    "        # check for empty data\n",
    "        if len(data_below) == 0 or len(data_above) == 0:\n",
    "            classification = classify_data(data)\n",
    "            return classification\n",
    "        \n",
    "        # determine question\n",
    "        feature_name = COLUMN_HEADERS[split_column]\n",
    "        type_of_feature = FEATURE_TYPES[split_column]\n",
    "        if type_of_feature == \"continuous\":\n",
    "            question = \"{} <= {}\".format(feature_name, split_value)\n",
    "            \n",
    "        # feature is categorical\n",
    "        else:\n",
    "            question = \"{} = {}\".format(feature_name, split_value)\n",
    "        \n",
    "        # instantiate sub-tree\n",
    "        sub_tree = {question: []}\n",
    "        \n",
    "        # find answers (recursion)\n",
    "        yes_answer = decision_tree_algorithm(data_below, counter, min_samples, max_depth)\n",
    "        no_answer = decision_tree_algorithm(data_above, counter, min_samples, max_depth)\n",
    "        \n",
    "        # If the answers are the same, then there is no point in asking the qestion.\n",
    "        # This could happen when the data is classified even though it is not pure\n",
    "        # yet (min_samples or max_depth base case).\n",
    "        if yes_answer == no_answer:\n",
    "            sub_tree = yes_answer\n",
    "        else:\n",
    "            sub_tree[question].append(yes_answer)\n",
    "            sub_tree[question].append(no_answer)\n",
    "        \n",
    "        return sub_tree"
   ]
  },
  {
   "cell_type": "code",
   "execution_count": 27,
   "metadata": {},
   "outputs": [
    {
     "name": "stdout",
     "output_type": "stream",
     "text": [
      "{'petal_width <= 0.6': ['Iris-setosa',\n",
      "                        {'petal_width <= 1.6': ['Iris-versicolor',\n",
      "                                                'Iris-virginica']}]}\n",
      "{'petal_width <= 0.6': ['Iris-setosa',\n",
      "                        {'petal_width <= 1.6': [{'petal_length <= 4.9': ['Iris-versicolor',\n",
      "                                                                         {'petal_width <= 1.5': ['Iris-virginica',\n",
      "                                                                                                 'Iris-versicolor']}]},\n",
      "                                                {'petal_length <= 4.8': [{'sepal_width <= 3.0': ['Iris-virginica',\n",
      "                                                                                                 'Iris-versicolor']},\n",
      "                                                                         'Iris-virginica']}]}]}\n"
     ]
    }
   ],
   "source": [
    "tree = decision_tree_algorithm(train_df, max_depth=3)\n",
    "pprint(decision_tree_algorithm(train_df,max_depth=2))\n",
    "pprint(decision_tree_algorithm(train_df))"
   ]
  },
  {
   "cell_type": "markdown",
   "metadata": {},
   "source": [
    "# Classification"
   ]
  },
  {
   "cell_type": "raw",
   "metadata": {},
   "source": [
    "sub_tree = {question: [yes_answer, no_answer]}"
   ]
  },
  {
   "cell_type": "code",
   "execution_count": 28,
   "metadata": {},
   "outputs": [
    {
     "data": {
      "text/plain": [
       "sepal_length                5.1\n",
       "sepal_width                 2.5\n",
       "petal_length                  3\n",
       "petal_width                 1.1\n",
       "label           Iris-versicolor\n",
       "Name: 98, dtype: object"
      ]
     },
     "execution_count": 28,
     "metadata": {},
     "output_type": "execute_result"
    }
   ],
   "source": [
    "example = test_df.iloc[0]\n",
    "example"
   ]
  },
  {
   "cell_type": "code",
   "execution_count": 29,
   "metadata": {},
   "outputs": [],
   "source": [
    "def classify_example(example, tree):\n",
    "    question = list(tree.keys())[0]\n",
    "    feature_name, comparison_operator, value = question.split(\" \")\n",
    "\n",
    "    # ask question\n",
    "    if comparison_operator == \"<=\":\n",
    "        if example[feature_name] <= float(value):\n",
    "            answer = tree[question][0]\n",
    "        else:\n",
    "            answer = tree[question][1]\n",
    "    \n",
    "    # feature is categorical\n",
    "    else:\n",
    "        if str(example[feature_name]) == value:\n",
    "            answer = tree[question][0]\n",
    "        else:\n",
    "            answer = tree[question][1]\n",
    "\n",
    "    # base case \n",
    "    # if it is a leaf (i.e., not a dictionary)\n",
    "    if not isinstance(answer, dict):\n",
    "        return answer\n",
    "    \n",
    "    # recursive part\n",
    "    else:\n",
    "        residual_tree = answer\n",
    "        return classify_example(example, residual_tree)"
   ]
  },
  {
   "cell_type": "code",
   "execution_count": 30,
   "metadata": {},
   "outputs": [
    {
     "data": {
      "text/plain": [
       "'Iris-versicolor'"
      ]
     },
     "execution_count": 30,
     "metadata": {},
     "output_type": "execute_result"
    }
   ],
   "source": [
    "classify_example(example, tree)"
   ]
  },
  {
   "cell_type": "markdown",
   "metadata": {},
   "source": [
    "# Calculate Accuracy"
   ]
  },
  {
   "cell_type": "code",
   "execution_count": 31,
   "metadata": {},
   "outputs": [],
   "source": [
    "def calculate_accuracy(df, tree):\n",
    "    # create a column\n",
    "    # apply \"classify_example\" to every row of \"df\"\n",
    "    df[\"classification\"] = df.apply(classify_example, args=(tree,), axis=1)\n",
    "    df[\"classification_correct\"] = df[\"classification\"] == df[\"label\"]\n",
    "    \n",
    "    accuracy = df[\"classification_correct\"].mean()\n",
    "    \n",
    "    return accuracy"
   ]
  },
  {
   "cell_type": "code",
   "execution_count": 32,
   "metadata": {},
   "outputs": [
    {
     "data": {
      "text/plain": [
       "0.95"
      ]
     },
     "execution_count": 32,
     "metadata": {},
     "output_type": "execute_result"
    }
   ],
   "source": [
    "accuracy = calculate_accuracy(test_df, tree)\n",
    "accuracy"
   ]
  },
  {
   "cell_type": "code",
   "execution_count": 33,
   "metadata": {},
   "outputs": [
    {
     "name": "stdout",
     "output_type": "stream",
     "text": [
      "{'petal_width <= 0.6': ['Iris-setosa',\n",
      "                        {'petal_length <= 4.8': [{'petal_width <= 1.6': ['Iris-versicolor',\n",
      "                                                                         'Iris-virginica']},\n",
      "                                                 'Iris-virginica']}]}\n",
      "0.9\n"
     ]
    }
   ],
   "source": [
    "# without using seed for rand\n",
    "train_df, test_df = train_test_split(df,test_size=0.2)\n",
    "tree = decision_tree_algorithm(train_df,max_depth=3)\n",
    "accuracy = calculate_accuracy(test_df,tree)\n",
    "\n",
    "pprint(tree)\n",
    "print(accuracy)"
   ]
  },
  {
   "cell_type": "markdown",
   "metadata": {},
   "source": [
    "# Titanic Data Set (Categorical data)"
   ]
  },
  {
   "cell_type": "markdown",
   "metadata": {},
   "source": [
    "### Load and Prepare Data"
   ]
  },
  {
   "cell_type": "code",
   "execution_count": 34,
   "metadata": {},
   "outputs": [],
   "source": [
    "df = pd.read_csv(\"Titanic.csv\")\n",
    "df[\"label\"] = df.Survived\n",
    "df = df.drop([\"PassengerId\", \"Survived\", \"Name\", \"Ticket\", \"Cabin\"], axis=1)\n",
    "\n",
    "#check missing values\n",
    "# df.info()\n",
    "\n",
    "# handling missing values\n",
    "median_age = df.Age.median()\n",
    "mode_embarked = df.Embarked.mode()[0]\n",
    "\n",
    "df = df.fillna({\"Age\": median_age, \"Embarked\": mode_embarked})"
   ]
  },
  {
   "cell_type": "markdown",
   "metadata": {},
   "source": [
    "### Decision Tree Algorithm"
   ]
  },
  {
   "cell_type": "code",
   "execution_count": 35,
   "metadata": {},
   "outputs": [
    {
     "name": "stdout",
     "output_type": "stream",
     "text": [
      "{'Sex = male': [{'Fare <= 9.4833': [{'Age <= 32.0': [{'Age <= 30.5': [{'Fare <= 7.7958': [{'Fare <= 7.7417': [{'Fare <= 7.2292': [{'Age <= 27.0': [{'Age <= 25.0': [{'Fare <= 0.0': [{'Age <= 19.0': [0,\n",
      "                                                                                                                                                                                                      1]},\n",
      "                                                                                                                                                                                     {'Fare <= 7.225': [0,\n",
      "                                                                                                                                                                                                        {'Parch = 1': [0,\n",
      "                                                                                                                                                                                                                       {'Age <= 20.0': [1,\n",
      "                                                                                                                                                                                                                                        0]}]}]}]},\n",
      "                                                                                                                                                                    1]},\n",
      "                                                                                                                                                   0]},\n",
      "                                                                                                                                  0]},\n",
      "                                                                                                              {'Age <= 19.0': [0,\n",
      "                                                                                                                               {'Age <= 21.0': [1,\n",
      "                                                                                                                                                {'Age <= 24.0': [0,\n",
      "                                                                                                                                                                 {'Age <= 27.0': [{'Fare <= 7.775': [0,\n",
      "                                                                                                                                                                                                     1]},\n",
      "                                                                                                                                                                                  {'Age <= 28.0': [0,\n",
      "                                                                                                                                                                                                   {'Embarked = S': [0,\n",
      "                                                                                                                                                                                                                     1]}]}]}]}]}]}]},\n",
      "                                                                                          {'Age <= 20.0': [{'Fare <= 8.05': [{'Fare <= 7.8958': [0,\n",
      "                                                                                                                                                 {'Fare <= 7.925': [1,\n",
      "                                                                                                                                                                    {'Age <= 19.0': [{'Age <= 16.0': [0,\n",
      "                                                                                                                                                                                                      {'Age <= 18.0': [1,\n",
      "                                                                                                                                                                                                                       0]}]},\n",
      "                                                                                                                                                                                     0]}]}]},\n",
      "                                                                                                                             0]},\n",
      "                                                                                                           {'Fare <= 8.4583': [0,\n",
      "                                                                                                                               {'Fare <= 8.6625': [{'Age <= 26.0': [0,\n",
      "                                                                                                                                                                    {'Age <= 27.0': [1,\n",
      "                                                                                                                                                                                     0]}]},\n",
      "                                                                                                                                                   0]}]}]}]},\n",
      "                                                                      {'Fare <= 7.775': [0,\n",
      "                                                                                         {'Fare <= 7.8542': [1,\n",
      "                                                                                                             {'Age <= 31.0': [1,\n",
      "                                                                                                                              0]}]}]}]},\n",
      "                                                     0]},\n",
      "                                    {'Age <= 6.0': [{'Pclass = 3': [{'Fare <= 20.575': [1,\n",
      "                                                                                        {'Fare <= 31.275': [0,\n",
      "                                                                                                            {'Fare <= 31.3875': [1,\n",
      "                                                                                                                                 0]}]}]},\n",
      "                                                                    1]},\n",
      "                                                    {'Pclass = 1': [{'Age <= 52.0': [{'Fare <= 30.5': [{'Fare <= 26.0': [0,\n",
      "                                                                                                                         {'Fare <= 29.7': [{'Fare <= 26.55': [{'Fare <= 26.3875': [1,\n",
      "                                                                                                                                                                                   {'Embarked = S': [{'Age <= 45.0': [{'Age <= 34.0': [{'Age <= 28.0': [0,\n",
      "                                                                                                                                                                                                                                                        1]},\n",
      "                                                                                                                                                                                                                                       0]},\n",
      "                                                                                                                                                                                                                      1]},\n",
      "                                                                                                                                                                                                     1]}]},\n",
      "                                                                                                                                                              {'Fare <= 28.5': [0,\n",
      "                                                                                                                                                                                {'Parch = 1': [0,\n",
      "                                                                                                                                                                                               1]}]}]},\n",
      "                                                                                                                                           1]}]},\n",
      "                                                                                                       {'Fare <= 227.525': [{'SibSp = 0': [{'Age <= 17.0': [1,\n",
      "                                                                                                                                                            {'Age <= 28.0': [{'Fare <= 76.7292': [{'Fare <= 52.0': [{'Fare <= 35.5': [{'Fare <= 35.0': [0,\n",
      "                                                                                                                                                                                                                                                        1]},\n",
      "                                                                                                                                                                                                                                      0]},\n",
      "                                                                                                                                                                                                                    1]},\n",
      "                                                                                                                                                                                                  0]},\n",
      "                                                                                                                                                                             0]}]},\n",
      "                                                                                                                                           {'Fare <= 110.8833': [{'Fare <= 57.0': [{'Embarked = S': [{'Fare <= 55.9': [{'Fare <= 53.1': [{'Age <= 42.0': [{'Fare <= 52.0': [0,\n",
      "                                                                                                                                                                                                                                                                            {'Fare <= 52.5542': [1,\n",
      "                                                                                                                                                                                                                                                                                                 {'Age <= 27.0': [{'Age <= 19.0': [0,\n",
      "                                                                                                                                                                                                                                                                                                                                   1]},\n",
      "                                                                                                                                                                                                                                                                                                                  0]}]}]},\n",
      "                                                                                                                                                                                                                                                          1]},\n",
      "                                                                                                                                                                                                                                         0]},\n",
      "                                                                                                                                                                                                                       1]},\n",
      "                                                                                                                                                                                                     1]},\n",
      "                                                                                                                                                                                   {'Age <= 25.0': [1,\n",
      "                                                                                                                                                                                                    0]}]},\n",
      "                                                                                                                                                                 1]}]},\n",
      "                                                                                                                            1]}]},\n",
      "                                                                                     {'Age <= 71.0': [{'Embarked = S': [0,\n",
      "                                                                                                                        {'Age <= 56.0': [1,\n",
      "                                                                                                                                         0]}]},\n",
      "                                                                                                      1]}]},\n",
      "                                                                    {'Age <= 34.0': [{'Fare <= 56.4958': [{'Fare <= 46.9': [{'Embarked = C': [{'Pclass = 3': [{'Parch = 1': [1,\n",
      "                                                                                                                                                                             {'Fare <= 11.2417': [1,\n",
      "                                                                                                                                                                                                  {'Fare <= 14.4583': [0,\n",
      "                                                                                                                                                                                                                       {'Fare <= 18.7875': [{'Age <= 11.0': [0,\n",
      "                                                                                                                                                                                                                                                             1]},\n",
      "                                                                                                                                                                                                                                            0]}]}]}]},\n",
      "                                                                                                                                                              0]},\n",
      "                                                                                                                                              {'Age <= 9.0': [{'SibSp = 4': [0,\n",
      "                                                                                                                                                                             {'Fare <= 36.75': [1,\n",
      "                                                                                                                                                                                                0]}]},\n",
      "                                                                                                                                                              {'Age <= 28.5': [{'SibSp = 2': [{'Embarked = S': [0,\n",
      "                                                                                                                                                                                                                1]},\n",
      "                                                                                                                                                                                              0]},\n",
      "                                                                                                                                                                               {'Fare <= 9.5': [{'Age <= 30.0': [1,\n",
      "                                                                                                                                                                                                                 0]},\n",
      "                                                                                                                                                                                                {'Age <= 30.0': [0,\n",
      "                                                                                                                                                                                                                 {'Fare <= 13.0': [{'Fare <= 12.275': [0,\n",
      "                                                                                                                                                                                                                                                       1]},\n",
      "                                                                                                                                                                                                                                   {'Fare <= 21.0': [0,\n",
      "                                                                                                                                                                                                                                                     {'Fare <= 26.0': [{'Age <= 32.0': [1,\n",
      "                                                                                                                                                                                                                                                                                        0]},\n",
      "                                                                                                                                                                                                                                                                       0]}]}]}]}]}]}]}]},\n",
      "                                                                                                                            {'Age <= 28.0': [{'Age <= 26.0': [1,\n",
      "                                                                                                                                                              0]},\n",
      "                                                                                                                                             1]}]},\n",
      "                                                                                                          0]},\n",
      "                                                                                     {'Fare <= 10.5': [1,\n",
      "                                                                                                       0]}]}]}]}]},\n",
      "                {'Pclass = 3': [{'Fare <= 24.15': [{'Age <= 36.0': [{'Embarked = S': [{'Age <= 31.0': [{'Fare <= 16.7': [{'Fare <= 10.5167': [{'Fare <= 9.8417': [{'Age <= 19.0': [{'Fare <= 7.775': [{'Fare <= 7.4958': [1,\n",
      "                                                                                                                                                                                                                          0]},\n",
      "                                                                                                                                                                                                      1]},\n",
      "                                                                                                                                                                                   {'Fare <= 8.6833': [{'Age <= 27.0': [{'Fare <= 7.75': [1,\n",
      "                                                                                                                                                                                                                                          {'Age <= 25.0': [{'Fare <= 7.775': [{'Age <= 22.0': [1,\n",
      "                                                                                                                                                                                                                                                                                               0]},\n",
      "                                                                                                                                                                                                                                                                              0]},\n",
      "                                                                                                                                                                                                                                                           1]}]},\n",
      "                                                                                                                                                                                                                        {'Fare <= 8.05': [0,\n",
      "                                                                                                                                                                                                                                          1]}]},\n",
      "                                                                                                                                                                                                       0]}]},\n",
      "                                                                                                                                                                  0]},\n",
      "                                                                                                                                              {'Fare <= 12.475': [1,\n",
      "                                                                                                                                                                  {'Fare <= 14.4': [0,\n",
      "                                                                                                                                                                                    1]}]}]},\n",
      "                                                                                                                         {'Fare <= 18.0': [0,\n",
      "                                                                                                                                           {'Fare <= 20.525': [1,\n",
      "                                                                                                                                                               {'Parch = 2': [{'Fare <= 22.025': [1,\n",
      "                                                                                                                                                                                                  0]},\n",
      "                                                                                                                                                                              0]}]}]}]},\n",
      "                                                                                                       1]},\n",
      "                                                                                      {'Age <= 16.0': [1,\n",
      "                                                                                                       {'Age <= 18.0': [0,\n",
      "                                                                                                                        {'Age <= 29.0': [{'Fare <= 7.8792': [{'Fare <= 7.75': [{'Embarked = Q': [{'Fare <= 7.6292': [0,\n",
      "                                                                                                                                                                                                                     1]},\n",
      "                                                                                                                                                                                                 1]},\n",
      "                                                                                                                                                                               1]},\n",
      "                                                                                                                                                             {'Fare <= 15.2458': [{'Age <= 28.0': [0,\n",
      "                                                                                                                                                                                                   1]},\n",
      "                                                                                                                                                                                  1]}]},\n",
      "                                                                                                                                         0]}]}]}]},\n",
      "                                                                    0]},\n",
      "                                                   {'Fare <= 31.275': [0,\n",
      "                                                                       {'Fare <= 31.3875': [1,\n",
      "                                                                                            0]}]}]},\n",
      "                                {'Fare <= 28.7125': [{'Fare <= 27.75': [{'Age <= 23.0': [1,\n",
      "                                                                                         {'Age <= 55.0': [{'Age <= 26.0': [{'Age <= 25.0': [{'Fare <= 13.0': [0,\n",
      "                                                                                                                                                              1]},\n",
      "                                                                                                                                            0]},\n",
      "                                                                                                                           {'Age <= 36.0': [1,\n",
      "                                                                                                                                            {'Age <= 38.0': [0,\n",
      "                                                                                                                                                             {'Fare <= 23.0': [1,\n",
      "                                                                                                                                                                               {'Parch = 1': [1,\n",
      "                                                                                                                                                                                              {'Age <= 42.0': [1,\n",
      "                                                                                                                                                                                                               0]}]}]}]}]}]},\n",
      "                                                                                                          {'Fare <= 10.5': [0,\n",
      "                                                                                                                            1]}]}]},\n",
      "                                                                        0]},\n",
      "                                                     1]}]}]}\n"
     ]
    },
    {
     "data": {
      "text/plain": [
       "0.7471910112359551"
      ]
     },
     "execution_count": 35,
     "metadata": {},
     "output_type": "execute_result"
    }
   ],
   "source": [
    "random.seed(0)\n",
    "train_df, test_df = train_test_split(df, 0.2)\n",
    "tree = decision_tree_algorithm(train_df, max_depth=30)\n",
    "accuracy = calculate_accuracy(test_df, tree)\n",
    "\n",
    "pprint(tree, width=50)\n",
    "accuracy"
   ]
  }
 ],
 "metadata": {
  "kernelspec": {
   "display_name": "Python 3",
   "language": "python",
   "name": "python3"
  },
  "language_info": {
   "codemirror_mode": {
    "name": "ipython",
    "version": 3
   },
   "file_extension": ".py",
   "mimetype": "text/x-python",
   "name": "python",
   "nbconvert_exporter": "python",
   "pygments_lexer": "ipython3",
   "version": "3.7.3"
  }
 },
 "nbformat": 4,
 "nbformat_minor": 2
}
