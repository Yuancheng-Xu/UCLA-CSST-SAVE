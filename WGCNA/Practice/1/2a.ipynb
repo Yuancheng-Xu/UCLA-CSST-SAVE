{
 "cells": [
  {
   "cell_type": "code",
   "execution_count": 2,
   "metadata": {},
   "outputs": [],
   "source": [
    "library(WGCNA)\n",
    "options(stringsAsFactors = FALSE);"
   ]
  },
  {
   "cell_type": "code",
   "execution_count": 4,
   "metadata": {},
   "outputs": [
    {
     "data": {
      "text/html": [
       "<ol class=list-inline>\n",
       "\t<li>'datExpr'</li>\n",
       "\t<li>'datTraits'</li>\n",
       "</ol>\n"
      ],
      "text/latex": [
       "\\begin{enumerate*}\n",
       "\\item 'datExpr'\n",
       "\\item 'datTraits'\n",
       "\\end{enumerate*}\n"
      ],
      "text/markdown": [
       "1. 'datExpr'\n",
       "2. 'datTraits'\n",
       "\n",
       "\n"
      ],
      "text/plain": [
       "[1] \"datExpr\"   \"datTraits\""
      ]
     },
     "metadata": {},
     "output_type": "display_data"
    }
   ],
   "source": [
    "lnames = load(file = \"FemaleLiver-01-dataInput.RData\");\n",
    "lnames # same samples, datExpr includes gene info for each sample, datTrait traits info"
   ]
  },
  {
   "cell_type": "code",
   "execution_count": 6,
   "metadata": {},
   "outputs": [
    {
     "data": {
      "text/html": [
       "<ol class=list-inline>\n",
       "\t<li>1</li>\n",
       "\t<li>2</li>\n",
       "\t<li>3</li>\n",
       "\t<li>4</li>\n",
       "\t<li>5</li>\n",
       "\t<li>6</li>\n",
       "\t<li>7</li>\n",
       "\t<li>8</li>\n",
       "\t<li>9</li>\n",
       "\t<li>10</li>\n",
       "\t<li>12</li>\n",
       "\t<li>14</li>\n",
       "\t<li>16</li>\n",
       "\t<li>18</li>\n",
       "\t<li>20</li>\n",
       "</ol>\n"
      ],
      "text/latex": [
       "\\begin{enumerate*}\n",
       "\\item 1\n",
       "\\item 2\n",
       "\\item 3\n",
       "\\item 4\n",
       "\\item 5\n",
       "\\item 6\n",
       "\\item 7\n",
       "\\item 8\n",
       "\\item 9\n",
       "\\item 10\n",
       "\\item 12\n",
       "\\item 14\n",
       "\\item 16\n",
       "\\item 18\n",
       "\\item 20\n",
       "\\end{enumerate*}\n"
      ],
      "text/markdown": [
       "1. 1\n",
       "2. 2\n",
       "3. 3\n",
       "4. 4\n",
       "5. 5\n",
       "6. 6\n",
       "7. 7\n",
       "8. 8\n",
       "9. 9\n",
       "10. 10\n",
       "11. 12\n",
       "12. 14\n",
       "13. 16\n",
       "14. 18\n",
       "15. 20\n",
       "\n",
       "\n"
      ],
      "text/plain": [
       " [1]  1  2  3  4  5  6  7  8  9 10 12 14 16 18 20"
      ]
     },
     "metadata": {},
     "output_type": "display_data"
    }
   ],
   "source": [
    "powers = c(c(1:10), seq(from = 12, to=20, by=2))\n",
    "powers"
   ]
  },
  {
   "cell_type": "code",
   "execution_count": null,
   "metadata": {},
   "outputs": [],
   "source": [
    "sft = pickSoftThreshold(datExpr, powerVector = powers, verbose = 5)"
   ]
  },
  {
   "cell_type": "code",
   "execution_count": 23,
   "metadata": {
    "scrolled": true
   },
   "outputs": [
    {
     "data": {
      "image/png": "[encoded data removed]",
      "text/plain": [
       "Plot with title \"Scale independence\""
      ]
     },
     "metadata": {},
     "output_type": "display_data"
    }
   ],
   "source": [
    "# par(mfrow = c(1,2))\n",
    "cex1 = 0.9\n",
    "\n",
    "plot(sft$fitIndices[,1], -sign(sft$fitIndices[,3])*sft$fitIndices[,2],\n",
    "     xlab=\"Soft Threshold (power)\",ylab=\"Scale Free Topology Model Fit,signed R^2\",\n",
    "     type=\"n\",main = paste(\"Scale independence\")) # type=n plot nothing\n",
    "text(sft$fitIndices[,1], -sign(sft$fitIndices[,3])*sft$fitIndices[,2]\n",
    "     ,labels=powers,cex=cex1,col=\"red\")\n",
    "\n",
    "abline(h=0.90,col=\"red\")"
   ]
  },
  {
   "cell_type": "code",
   "execution_count": 25,
   "metadata": {},
   "outputs": [
    {
     "data": {
      "image/png": "[encoded data removed]",
      "text/plain": [
       "Plot with title \"Mean connectivity\""
      ]
     },
     "metadata": {},
     "output_type": "display_data"
    }
   ],
   "source": [
    "plot(sft$fitIndices[,1], sft$fitIndices[,5],\n",
    "     xlab=\"Soft Threshold (power)\",ylab=\"Mean Connectivity\",\n",
    "     type=\"n\",main = paste(\"Mean connectivity\"))\n",
    "text(sft$fitIndices[,1], sft$fitIndices[,5], labels=powers, cex=cex1,col=\"red\")"
   ]
  },
  {
   "cell_type": "code",
   "execution_count": 26,
   "metadata": {},
   "outputs": [
    {
     "name": "stdout",
     "output_type": "stream",
     "text": [
      " Calculating module eigengenes block-wise from all genes\n",
      "   Flagging genes and samples with too many missing values...\n",
      "    ..step 1\n",
      "Cluster size 3600 broken into 2108 1492 \n",
      "Cluster size 2108 broken into 1126 982 \n",
      "Done cluster 1126 \n",
      "Done cluster 982 \n",
      "Done cluster 2108 \n",
      "Done cluster 1492 \n",
      " ..Working on block 1 .\n",
      "    TOM calculation: adjacency..\n",
      "    ..will not use multithreading.\n",
      "     Fraction of slow calculations: 0.396405\n",
      "    ..connectivity..\n",
      "    ..matrix multiplication (system BLAS)..\n",
      "    ..normalization..\n",
      "    ..done.\n",
      "   ..saving TOM for block 1 into file femaleMouseTOM-block.1.RData\n",
      " ....clustering..\n",
      " ....detecting modules..\n",
      " ....calculating module eigengenes..\n",
      " ....checking kME in modules..\n",
      "     ..removing 1 genes from module 1 because their KME is too low.\n",
      "     ..removing 1 genes from module 7 because their KME is too low.\n",
      "     ..removing 1 genes from module 8 because their KME is too low.\n",
      "     ..removing 1 genes from module 21 because their KME is too low.\n",
      " ..merging modules that are too close..\n",
      "     mergeCloseModules: Merging modules whose distance is less than 0.25\n",
      "       Calculating new MEs...\n"
     ]
    }
   ],
   "source": [
    "net = blockwiseModules(datExpr, power = 6,TOMType = \"unsigned\", \n",
    "                       minModuleSize = 30,reassignThreshold = 0, \n",
    "                       mergeCutHeight = 0.25,numericLabels = TRUE, \n",
    "                       pamRespectsDendro = FALSE,saveTOMs = TRUE,\n",
    "                       saveTOMFileBase = \"femaleMouseTOM\",verbose = 3)"
   ]
  },
  {
   "cell_type": "code",
   "execution_count": 32,
   "metadata": {},
   "outputs": [
    {
     "data": {
      "text/plain": [
       "\n",
       "  0   1   2   3   4   5   6   7   8   9  10  11  12  13  14  15  16  17  18 \n",
       " 99 609 460 409 316 312 221 211 157 123 106 100  94  91  77  76  58  47  34 "
      ]
     },
     "metadata": {},
     "output_type": "display_data"
    }
   ],
   "source": [
    "table(net$colors) # table: count the number"
   ]
  },
  {
   "cell_type": "code",
   "execution_count": 39,
   "metadata": {},
   "outputs": [
    {
     "data": {
      "image/png": "[encoded data removed]",
      "text/plain": [
       "Plot with title \"Cluster Dendrogram\""
      ]
     },
     "metadata": {},
     "output_type": "display_data"
    }
   ],
   "source": [
    "mergedColors = labels2colors(net$colors)\n",
    "plotDendroAndColors(net$dendrograms[[1]], \n",
    "                    mergedColors[net$blockGenes[[1]]],\n",
    "                    \"Module colors\",dendroLabels = FALSE, \n",
    "                    hang = 0.03,addGuide = TRUE, guideHang = 0.05)"
   ]
  },
  {
   "cell_type": "code",
   "execution_count": 41,
   "metadata": {},
   "outputs": [],
   "source": [
    "moduleLabels = net$colors\n",
    "moduleColors = labels2colors(net$colors)\n",
    "MEs = net$MEs\n",
    "geneTree = net$dendrograms[[1]]\n",
    "save(MEs, moduleLabels, moduleColors, geneTree,\n",
    "     file = \"FemaleLiver-02-networkConstruction-auto.RData\")"
   ]
  }
 ],
 "metadata": {
  "kernelspec": {
   "display_name": "R",
   "language": "R",
   "name": "ir"
  },
  "language_info": {
   "codemirror_mode": "r",
   "file_extension": ".r",
   "mimetype": "text/x-r-source",
   "name": "R",
   "pygments_lexer": "r",
   "version": "3.6.0"
  }
 },
 "nbformat": 4,
 "nbformat_minor": 2
}
