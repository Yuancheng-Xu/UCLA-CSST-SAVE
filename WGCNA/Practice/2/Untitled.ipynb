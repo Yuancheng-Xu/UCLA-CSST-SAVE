{
 "cells": [
  {
   "cell_type": "code",
   "execution_count": 2,
   "metadata": {},
   "outputs": [],
   "source": [
    "library(WGCNA)\n",
    "options(stringsAsFactors = FALSE)"
   ]
  },
  {
   "cell_type": "code",
   "execution_count": 6,
   "metadata": {},
   "outputs": [
    {
     "data": {
      "text/html": [
       "<ol class=list-inline>\n",
       "\t<li>'multiExpr'</li>\n",
       "\t<li>'Traits'</li>\n",
       "\t<li>'nGenes'</li>\n",
       "\t<li>'nSamples'</li>\n",
       "\t<li>'setLabels'</li>\n",
       "\t<li>'shortLabels'</li>\n",
       "\t<li>'exprSize'</li>\n",
       "</ol>\n"
      ],
      "text/latex": [
       "\\begin{enumerate*}\n",
       "\\item 'multiExpr'\n",
       "\\item 'Traits'\n",
       "\\item 'nGenes'\n",
       "\\item 'nSamples'\n",
       "\\item 'setLabels'\n",
       "\\item 'shortLabels'\n",
       "\\item 'exprSize'\n",
       "\\end{enumerate*}\n"
      ],
      "text/markdown": [
       "1. 'multiExpr'\n",
       "2. 'Traits'\n",
       "3. 'nGenes'\n",
       "4. 'nSamples'\n",
       "5. 'setLabels'\n",
       "6. 'shortLabels'\n",
       "7. 'exprSize'\n",
       "\n",
       "\n"
      ],
      "text/plain": [
       "[1] \"multiExpr\"   \"Traits\"      \"nGenes\"      \"nSamples\"    \"setLabels\"  \n",
       "[6] \"shortLabels\" \"exprSize\"   "
      ]
     },
     "metadata": {},
     "output_type": "display_data"
    }
   ],
   "source": [
    "lnames = load(file = \"Consensus-dataInput.RData\")\n",
    "lnames"
   ]
  },
  {
   "cell_type": "code",
   "execution_count": 9,
   "metadata": {},
   "outputs": [],
   "source": [
    "nSets = checkSets(multiExpr)$nSets # 2"
   ]
  },
  {
   "cell_type": "markdown",
   "metadata": {},
   "source": [
    "# Network construction and module detection"
   ]
  },
  {
   "cell_type": "markdown",
   "metadata": {},
   "source": [
    "## Choosing the soft-thresholding power:  analysis of network topology"
   ]
  },
  {
   "cell_type": "code",
   "execution_count": 13,
   "metadata": {},
   "outputs": [
    {
     "name": "stdout",
     "output_type": "stream",
     "text": [
      "pickSoftThreshold: will use block size 3600.\n",
      " pickSoftThreshold: calculating connectivity for given powers...\n",
      "   ..working on genes 1 through 3600 of 3600\n"
     ]
    },
    {
     "name": "stderr",
     "output_type": "stream",
     "text": [
      "Warning message:\n",
      "\"executing %dopar% sequentially: no parallel backend registered\""
     ]
    },
    {
     "name": "stdout",
     "output_type": "stream",
     "text": [
      "   Power SFT.R.sq slope truncated.R.sq mean.k. median.k. max.k.\n",
      "1      4    0.506 -1.42          0.973   56.50   47.2000  202.0\n",
      "2      5    0.681 -1.72          0.940   32.20   25.1000  134.0\n",
      "3      6    0.902 -1.50          0.962   19.90   14.5000   94.8\n",
      "4      7    0.921 -1.67          0.917   13.20    8.6800   84.1\n",
      "5      8    0.904 -1.72          0.876    9.25    5.3900   76.3\n",
      "6      9    0.859 -1.70          0.836    6.80    3.5600   70.5\n",
      "7     10    0.833 -1.66          0.831    5.19    2.3800   65.8\n",
      "8     12    0.853 -1.48          0.911    3.33    1.1500   58.1\n",
      "9     14    0.876 -1.38          0.949    2.35    0.5740   51.9\n",
      "10    16    0.907 -1.30          0.970    1.77    0.3090   46.8\n",
      "11    18    0.912 -1.24          0.973    1.39    0.1670   42.5\n",
      "12    20    0.931 -1.21          0.977    1.14    0.0951   38.7\n",
      "pickSoftThreshold: will use block size 3600.\n",
      " pickSoftThreshold: calculating connectivity for given powers...\n",
      "   ..working on genes 1 through 3600 of 3600\n",
      "   Power SFT.R.sq slope truncated.R.sq mean.k. median.k. max.k.\n",
      "1      4    0.577 -1.58          0.938   51.30   45.1000  196.0\n",
      "2      5    0.630 -1.68          0.926   29.10   23.4000  132.0\n",
      "3      6    0.861 -1.36          0.968   17.90   12.9000   91.8\n",
      "4      7    0.903 -1.52          0.932   11.90    7.5200   79.6\n",
      "5      8    0.908 -1.61          0.889    8.28    4.5600   72.0\n",
      "6      9    0.895 -1.62          0.867    6.07    2.8800   66.2\n",
      "7     10    0.882 -1.59          0.868    4.63    1.9000   61.3\n",
      "8     12    0.890 -1.49          0.904    2.96    0.8760   53.5\n",
      "9     14    0.931 -1.38          0.958    2.09    0.4370   47.3\n",
      "10    16    0.954 -1.31          0.980    1.57    0.2270   42.1\n",
      "11    18    0.970 -1.26          0.984    1.24    0.1190   37.7\n",
      "12    20    0.984 -1.22          0.995    1.01    0.0642   33.9\n"
     ]
    },
    {
     "data": {
      "image/png": "[encoded data removed]",
      "text/plain": [
       "Plot with title \"Max connectivity\""
      ]
     },
     "metadata": {},
     "output_type": "display_data"
    }
   ],
   "source": [
    "# Choose a set of soft-thresholding powers\n",
    "powers = c(seq(4,10,by=1), seq(12,20, by=2))\n",
    "# Initialize a list to hold the results of scale-free analysis\n",
    "powerTables = vector(mode = \"list\", length = nSets);\n",
    "# Call the network topology analysis function for each set in turn\n",
    "for (set in 1:nSets){\n",
    "    powerTables[[set]] = list(data = pickSoftThreshold(multiExpr[[set]]$data, \n",
    "                                    powerVector=powers,verbose = 2)[[2]])\n",
    "}\n",
    "collectGarbage()\n",
    "\n",
    "colors = c(\"black\", \"red\")\n",
    "# Will plot these columns of the returned scale free analysis tables\n",
    "plotCols = c(2,5,6,7)\n",
    "colNames = c(\"Scale Free Topology Model Fit\", \"Mean connectivity\", \n",
    "             \"Median connectivity\",\"Max connectivity\")\n",
    "\n",
    "# Get the minima and maxima of the plotted points used for plotting\n",
    "ylim = matrix(NA, nrow = 2, ncol = 4)\n",
    "for (set in 1:nSets){\n",
    "    for (col in 1:length(plotCols)){\n",
    "        ylim[1, col] = min(ylim[1, col], \n",
    "                           powerTables[[set]]$data[, plotCols[col]], na.rm = TRUE)\n",
    "        ylim[2, col] = max(ylim[2, col], \n",
    "                           powerTables[[set]]$data[, plotCols[col]], na.rm = TRUE)\n",
    "    }\n",
    "}\n",
    "\n",
    "# Plot the quantities in the chosen columns vs. the soft thresholding power\n",
    "par(mfcol = c(2,2))\n",
    "par(mar = c(4.2, 4.2 , 2.2, 0.5))\n",
    "cex1 = 0.7\n",
    "\n",
    "for (col in 1:length(plotCols)) {\n",
    "    for (set in 1:nSets){\n",
    "        if (set==1){\n",
    "            plot(powerTables[[set]]$data[,1], \n",
    "                 -sign(powerTables[[set]]$data[,3])*powerTables[[set]]$data[,2],\n",
    "                 xlab=\"Soft Threshold (power)\",ylab=colNames[col],type=\"n\", \n",
    "                 ylim = ylim[, col],main = colNames[col])\n",
    "        }\n",
    "        if (col==1){\n",
    "            text(powerTables[[set]]$data[,1], \n",
    "                 -sign(powerTables[[set]]$data[,3])*powerTables[[set]]$data[,2],\n",
    "                 labels=powers,cex=cex1,col=colors[set])\n",
    "        }else {\n",
    "            text(powerTables[[set]]$data[,1], \n",
    "                 powerTables[[set]]$data[,plotCols[col]],\n",
    "                 labels=powers,cex=cex1,col=colors[set])\n",
    "        }\n",
    "        if (col==1){\n",
    "            legend(\"bottomright\", legend = setLabels, col = colors, pch = 20)\n",
    "        }else{\n",
    "            legend(\"topright\", legend = setLabels, col = colors, pch = 20) \n",
    "        }\n",
    "        \n",
    "    }\n",
    "}"
   ]
  },
  {
   "cell_type": "markdown",
   "metadata": {},
   "source": [
    "## Calculation of network adjacencies"
   ]
  },
  {
   "cell_type": "code",
   "execution_count": 24,
   "metadata": {},
   "outputs": [],
   "source": [
    "softPower = 6;\n",
    "# Initialize an appropriate array to hold the adjacencies\n",
    "adjacencies = array(0, dim = c(nSets, nGenes, nGenes));\n",
    "for (set in 1:nSets)\n",
    "    adjacencies[set, , ] = abs(cor(multiExpr[[set]]$data, use = \"p\"))^softPower"
   ]
  },
  {
   "cell_type": "markdown",
   "metadata": {},
   "source": [
    "## Calculation of Topological Overlap"
   ]
  },
  {
   "cell_type": "code",
   "execution_count": 25,
   "metadata": {},
   "outputs": [
    {
     "name": "stdout",
     "output_type": "stream",
     "text": [
      "..connectivity..\n",
      "..matrix multiplication (system BLAS)..\n",
      "..normalization..\n",
      "..done.\n",
      "..connectivity..\n",
      "..matrix multiplication (system BLAS)..\n",
      "..normalization..\n",
      "..done.\n"
     ]
    }
   ],
   "source": [
    "# Initialize an appropriate array to hold the TOMs\n",
    "TOM = array(0, dim = c(nSets, nGenes, nGenes))\n",
    "# Calculate TOMs in each individual data set\n",
    "for (set in 1:nSets)\n",
    "    TOM[set, , ] = TOMsimilarity(adjacencies[set, , ])"
   ]
  },
  {
   "cell_type": "code",
   "execution_count": null,
   "metadata": {},
   "outputs": [],
   "source": []
  }
 ],
 "metadata": {
  "kernelspec": {
   "display_name": "R",
   "language": "R",
   "name": "ir"
  },
  "language_info": {
   "codemirror_mode": "r",
   "file_extension": ".r",
   "mimetype": "text/x-r-source",
   "name": "R",
   "pygments_lexer": "r",
   "version": "3.6.0"
  }
 },
 "nbformat": 4,
 "nbformat_minor": 2
}
